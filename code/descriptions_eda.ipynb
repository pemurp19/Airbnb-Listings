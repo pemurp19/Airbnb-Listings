{
 "cells": [
  {
   "cell_type": "markdown",
   "id": "27c29bd9-7fb2-46e9-bb2d-3bd5dc6ec160",
   "metadata": {},
   "source": [
    "# **EDA For Host Descriptions**"
   ]
  },
  {
   "cell_type": "markdown",
   "id": "d403881c-4856-4435-91be-5e7b483b3aa1",
   "metadata": {},
   "source": [
    "-----\n",
    "### Imports"
   ]
  },
  {
   "cell_type": "code",
   "execution_count": 3,
   "id": "87ae7012-ca91-48d4-8e01-b88799848dbd",
   "metadata": {},
   "outputs": [],
   "source": [
    "import pandas as pd\n",
    "import numpy as np\n",
    "import matplotlib.pyplot as plt\n",
    "import seaborn as sns\n",
    "\n",
    "from pandasql import sqldf\n",
    "\n",
    "from sklearn.feature_extraction.text import CountVectorizer, TfidfVectorizer\n",
    "from nltk.corpus import stopwords"
   ]
  },
  {
   "cell_type": "markdown",
   "id": "f1b4ac63-fff0-456c-8ffa-d0b0eba81ff2",
   "metadata": {
    "tags": []
   },
   "source": [
    "-------\n",
    "## Reading in the Listings Dataset"
   ]
  },
  {
   "cell_type": "code",
   "execution_count": 4,
   "id": "b2dd9623-b768-4b3c-a5c8-4ac56786b6c8",
   "metadata": {},
   "outputs": [],
   "source": [
    "listings = pd.read_csv('../data/listings_cleaned.csv')"
   ]
  },
  {
   "cell_type": "code",
   "execution_count": 5,
   "id": "5c78869d-6693-4b32-8363-377edc7a6b5a",
   "metadata": {},
   "outputs": [
    {
     "data": {
      "text/html": [
       "<div>\n",
       "<style scoped>\n",
       "    .dataframe tbody tr th:only-of-type {\n",
       "        vertical-align: middle;\n",
       "    }\n",
       "\n",
       "    .dataframe tbody tr th {\n",
       "        vertical-align: top;\n",
       "    }\n",
       "\n",
       "    .dataframe thead th {\n",
       "        text-align: right;\n",
       "    }\n",
       "</style>\n",
       "<table border=\"1\" class=\"dataframe\">\n",
       "  <thead>\n",
       "    <tr style=\"text-align: right;\">\n",
       "      <th></th>\n",
       "      <th>id</th>\n",
       "      <th>last_scraped</th>\n",
       "      <th>name</th>\n",
       "      <th>description</th>\n",
       "      <th>host_id</th>\n",
       "      <th>host_name</th>\n",
       "      <th>host_since</th>\n",
       "      <th>host_response_time</th>\n",
       "      <th>host_response_rate</th>\n",
       "      <th>host_is_superhost</th>\n",
       "      <th>...</th>\n",
       "      <th>reviews_per_month</th>\n",
       "      <th>city</th>\n",
       "      <th>state</th>\n",
       "      <th>zip_codes</th>\n",
       "      <th>bathrooms</th>\n",
       "      <th>bathrooms_shared</th>\n",
       "      <th>amenities_count</th>\n",
       "      <th>host_verifications_count</th>\n",
       "      <th>private_listing</th>\n",
       "      <th>rating_target</th>\n",
       "    </tr>\n",
       "  </thead>\n",
       "  <tbody>\n",
       "    <tr>\n",
       "      <th>0</th>\n",
       "      <td>3781</td>\n",
       "      <td>2021-09-19</td>\n",
       "      <td>HARBORSIDE-Walk to subway</td>\n",
       "      <td>Fully separate apartment in a two apartment bu...</td>\n",
       "      <td>4804</td>\n",
       "      <td>Frank</td>\n",
       "      <td>2008-12-03</td>\n",
       "      <td>3</td>\n",
       "      <td>100.0</td>\n",
       "      <td>0</td>\n",
       "      <td>...</td>\n",
       "      <td>0.29</td>\n",
       "      <td>Boston</td>\n",
       "      <td>Massachusetts</td>\n",
       "      <td>2128</td>\n",
       "      <td>1.0</td>\n",
       "      <td>0</td>\n",
       "      <td>31</td>\n",
       "      <td>3</td>\n",
       "      <td>1</td>\n",
       "      <td>3</td>\n",
       "    </tr>\n",
       "    <tr>\n",
       "      <th>1</th>\n",
       "      <td>5506</td>\n",
       "      <td>2021-09-19</td>\n",
       "      <td>** Private! Minutes to center!**</td>\n",
       "      <td>Private guest room with private bath, You do n...</td>\n",
       "      <td>8229</td>\n",
       "      <td>Terry</td>\n",
       "      <td>2009-02-19</td>\n",
       "      <td>3</td>\n",
       "      <td>100.0</td>\n",
       "      <td>1</td>\n",
       "      <td>...</td>\n",
       "      <td>0.90</td>\n",
       "      <td>Boston</td>\n",
       "      <td>Massachusetts</td>\n",
       "      <td>2119</td>\n",
       "      <td>1.0</td>\n",
       "      <td>0</td>\n",
       "      <td>30</td>\n",
       "      <td>4</td>\n",
       "      <td>1</td>\n",
       "      <td>2</td>\n",
       "    </tr>\n",
       "  </tbody>\n",
       "</table>\n",
       "<p>2 rows × 55 columns</p>\n",
       "</div>"
      ],
      "text/plain": [
       "     id last_scraped                              name  \\\n",
       "0  3781   2021-09-19         HARBORSIDE-Walk to subway   \n",
       "1  5506   2021-09-19  ** Private! Minutes to center!**   \n",
       "\n",
       "                                         description  host_id host_name  \\\n",
       "0  Fully separate apartment in a two apartment bu...     4804     Frank   \n",
       "1  Private guest room with private bath, You do n...     8229     Terry   \n",
       "\n",
       "   host_since  host_response_time  host_response_rate  host_is_superhost  ...  \\\n",
       "0  2008-12-03                   3               100.0                  0  ...   \n",
       "1  2009-02-19                   3               100.0                  1  ...   \n",
       "\n",
       "   reviews_per_month    city          state  zip_codes bathrooms  \\\n",
       "0               0.29  Boston  Massachusetts       2128       1.0   \n",
       "1               0.90  Boston  Massachusetts       2119       1.0   \n",
       "\n",
       "   bathrooms_shared  amenities_count host_verifications_count private_listing  \\\n",
       "0                 0               31                        3               1   \n",
       "1                 0               30                        4               1   \n",
       "\n",
       "   rating_target  \n",
       "0              3  \n",
       "1              2  \n",
       "\n",
       "[2 rows x 55 columns]"
      ]
     },
     "execution_count": 5,
     "metadata": {},
     "output_type": "execute_result"
    }
   ],
   "source": [
    "listings.head(2)"
   ]
  },
  {
   "cell_type": "code",
   "execution_count": 6,
   "id": "c642f08b-779a-4239-a6d6-9d4cfafd3728",
   "metadata": {},
   "outputs": [
    {
     "data": {
      "text/plain": [
       "dtype('O')"
      ]
     },
     "execution_count": 6,
     "metadata": {},
     "output_type": "execute_result"
    }
   ],
   "source": [
    "listings['description'].dtype"
   ]
  },
  {
   "cell_type": "code",
   "execution_count": 7,
   "id": "ad9cd0c1-bc2d-4d7c-b011-7f3d981b10cf",
   "metadata": {},
   "outputs": [],
   "source": [
    "def lowercase(description):\n",
    "    '''function to lowercase all text'''\n",
    "    \n",
    "    #lowercase\n",
    "    description = description.lower()\n",
    "    return description\n",
    "\n",
    "# Apply fuction to data\n",
    "listings['clean_description'] = listings['description'].apply(lowercase)"
   ]
  },
  {
   "cell_type": "code",
   "execution_count": 8,
   "id": "502bb032-84f6-4fb7-a2fb-06dcd8cffe06",
   "metadata": {},
   "outputs": [
    {
     "data": {
      "text/plain": [
       "0    fully separate apartment in a two apartment bu...\n",
       "1    private guest room with private bath, you do n...\n",
       "2    comfortable,  fully equipped private apartment...\n",
       "Name: clean_description, dtype: object"
      ]
     },
     "execution_count": 8,
     "metadata": {},
     "output_type": "execute_result"
    }
   ],
   "source": [
    "listings['clean_description'].head(3)"
   ]
  },
  {
   "cell_type": "markdown",
   "id": "ef306194-267e-4a49-8d4f-55537aec4056",
   "metadata": {},
   "source": [
    "-------\n",
    "### **Exploring Descriptions Data**"
   ]
  },
  {
   "cell_type": "code",
   "execution_count": 9,
   "id": "7744bdac-53d4-44c5-9f4a-41c1e5efa6b4",
   "metadata": {},
   "outputs": [],
   "source": [
    "df = listings.copy()"
   ]
  },
  {
   "cell_type": "code",
   "execution_count": 10,
   "id": "ad322bc6-6b8b-4f8e-887a-bb772d6d22e6",
   "metadata": {},
   "outputs": [
    {
     "data": {
      "text/html": [
       "<div>\n",
       "<style scoped>\n",
       "    .dataframe tbody tr th:only-of-type {\n",
       "        vertical-align: middle;\n",
       "    }\n",
       "\n",
       "    .dataframe tbody tr th {\n",
       "        vertical-align: top;\n",
       "    }\n",
       "\n",
       "    .dataframe thead th {\n",
       "        text-align: right;\n",
       "    }\n",
       "</style>\n",
       "<table border=\"1\" class=\"dataframe\">\n",
       "  <thead>\n",
       "    <tr style=\"text-align: right;\">\n",
       "      <th></th>\n",
       "      <th>id</th>\n",
       "      <th>last_scraped</th>\n",
       "      <th>name</th>\n",
       "      <th>description</th>\n",
       "      <th>host_id</th>\n",
       "      <th>host_name</th>\n",
       "      <th>host_since</th>\n",
       "      <th>host_response_time</th>\n",
       "      <th>host_response_rate</th>\n",
       "      <th>host_is_superhost</th>\n",
       "      <th>...</th>\n",
       "      <th>city</th>\n",
       "      <th>state</th>\n",
       "      <th>zip_codes</th>\n",
       "      <th>bathrooms</th>\n",
       "      <th>bathrooms_shared</th>\n",
       "      <th>amenities_count</th>\n",
       "      <th>host_verifications_count</th>\n",
       "      <th>private_listing</th>\n",
       "      <th>rating_target</th>\n",
       "      <th>clean_description</th>\n",
       "    </tr>\n",
       "  </thead>\n",
       "  <tbody>\n",
       "    <tr>\n",
       "      <th>0</th>\n",
       "      <td>3781</td>\n",
       "      <td>2021-09-19</td>\n",
       "      <td>HARBORSIDE-Walk to subway</td>\n",
       "      <td>Fully separate apartment in a two apartment bu...</td>\n",
       "      <td>4804</td>\n",
       "      <td>Frank</td>\n",
       "      <td>2008-12-03</td>\n",
       "      <td>3</td>\n",
       "      <td>100.0</td>\n",
       "      <td>0</td>\n",
       "      <td>...</td>\n",
       "      <td>Boston</td>\n",
       "      <td>Massachusetts</td>\n",
       "      <td>2128</td>\n",
       "      <td>1.0</td>\n",
       "      <td>0</td>\n",
       "      <td>31</td>\n",
       "      <td>3</td>\n",
       "      <td>1</td>\n",
       "      <td>3</td>\n",
       "      <td>fully separate apartment in a two apartment bu...</td>\n",
       "    </tr>\n",
       "    <tr>\n",
       "      <th>1</th>\n",
       "      <td>5506</td>\n",
       "      <td>2021-09-19</td>\n",
       "      <td>** Private! Minutes to center!**</td>\n",
       "      <td>Private guest room with private bath, You do n...</td>\n",
       "      <td>8229</td>\n",
       "      <td>Terry</td>\n",
       "      <td>2009-02-19</td>\n",
       "      <td>3</td>\n",
       "      <td>100.0</td>\n",
       "      <td>1</td>\n",
       "      <td>...</td>\n",
       "      <td>Boston</td>\n",
       "      <td>Massachusetts</td>\n",
       "      <td>2119</td>\n",
       "      <td>1.0</td>\n",
       "      <td>0</td>\n",
       "      <td>30</td>\n",
       "      <td>4</td>\n",
       "      <td>1</td>\n",
       "      <td>2</td>\n",
       "      <td>private guest room with private bath, you do n...</td>\n",
       "    </tr>\n",
       "    <tr>\n",
       "      <th>2</th>\n",
       "      <td>6695</td>\n",
       "      <td>2021-09-19</td>\n",
       "      <td>Home Away from Home! Condo</td>\n",
       "      <td>Comfortable,  Fully Equipped private apartment...</td>\n",
       "      <td>8229</td>\n",
       "      <td>Terry</td>\n",
       "      <td>2009-02-19</td>\n",
       "      <td>3</td>\n",
       "      <td>100.0</td>\n",
       "      <td>1</td>\n",
       "      <td>...</td>\n",
       "      <td>Boston</td>\n",
       "      <td>Massachusetts</td>\n",
       "      <td>2119</td>\n",
       "      <td>1.0</td>\n",
       "      <td>0</td>\n",
       "      <td>30</td>\n",
       "      <td>4</td>\n",
       "      <td>1</td>\n",
       "      <td>2</td>\n",
       "      <td>comfortable,  fully equipped private apartment...</td>\n",
       "    </tr>\n",
       "    <tr>\n",
       "      <th>3</th>\n",
       "      <td>8789</td>\n",
       "      <td>2021-09-19</td>\n",
       "      <td>Curved Glass Studio/1bd facing Park</td>\n",
       "      <td>This unit is for sale. There will need to be o...</td>\n",
       "      <td>26988</td>\n",
       "      <td>Anne</td>\n",
       "      <td>2009-07-22</td>\n",
       "      <td>3</td>\n",
       "      <td>100.0</td>\n",
       "      <td>1</td>\n",
       "      <td>...</td>\n",
       "      <td>Boston</td>\n",
       "      <td>Massachusetts</td>\n",
       "      <td>2117</td>\n",
       "      <td>1.0</td>\n",
       "      <td>0</td>\n",
       "      <td>27</td>\n",
       "      <td>8</td>\n",
       "      <td>1</td>\n",
       "      <td>2</td>\n",
       "      <td>this unit is for sale. there will need to be o...</td>\n",
       "    </tr>\n",
       "    <tr>\n",
       "      <th>4</th>\n",
       "      <td>10730</td>\n",
       "      <td>2021-09-19</td>\n",
       "      <td>Bright 1bed facing Golden Dome</td>\n",
       "      <td>Bright, spacious unit, new galley kitchen, new...</td>\n",
       "      <td>26988</td>\n",
       "      <td>Anne</td>\n",
       "      <td>2009-07-22</td>\n",
       "      <td>3</td>\n",
       "      <td>100.0</td>\n",
       "      <td>1</td>\n",
       "      <td>...</td>\n",
       "      <td>Boston</td>\n",
       "      <td>Massachusetts</td>\n",
       "      <td>2117</td>\n",
       "      <td>1.0</td>\n",
       "      <td>0</td>\n",
       "      <td>30</td>\n",
       "      <td>8</td>\n",
       "      <td>1</td>\n",
       "      <td>2</td>\n",
       "      <td>bright, spacious unit, new galley kitchen, new...</td>\n",
       "    </tr>\n",
       "  </tbody>\n",
       "</table>\n",
       "<p>5 rows × 56 columns</p>\n",
       "</div>"
      ],
      "text/plain": [
       "      id last_scraped                                 name  \\\n",
       "0   3781   2021-09-19            HARBORSIDE-Walk to subway   \n",
       "1   5506   2021-09-19     ** Private! Minutes to center!**   \n",
       "2   6695   2021-09-19           Home Away from Home! Condo   \n",
       "3   8789   2021-09-19  Curved Glass Studio/1bd facing Park   \n",
       "4  10730   2021-09-19       Bright 1bed facing Golden Dome   \n",
       "\n",
       "                                         description  host_id host_name  \\\n",
       "0  Fully separate apartment in a two apartment bu...     4804     Frank   \n",
       "1  Private guest room with private bath, You do n...     8229     Terry   \n",
       "2  Comfortable,  Fully Equipped private apartment...     8229     Terry   \n",
       "3  This unit is for sale. There will need to be o...    26988      Anne   \n",
       "4  Bright, spacious unit, new galley kitchen, new...    26988      Anne   \n",
       "\n",
       "   host_since  host_response_time  host_response_rate  host_is_superhost  ...  \\\n",
       "0  2008-12-03                   3               100.0                  0  ...   \n",
       "1  2009-02-19                   3               100.0                  1  ...   \n",
       "2  2009-02-19                   3               100.0                  1  ...   \n",
       "3  2009-07-22                   3               100.0                  1  ...   \n",
       "4  2009-07-22                   3               100.0                  1  ...   \n",
       "\n",
       "     city          state  zip_codes  bathrooms bathrooms_shared  \\\n",
       "0  Boston  Massachusetts       2128        1.0                0   \n",
       "1  Boston  Massachusetts       2119        1.0                0   \n",
       "2  Boston  Massachusetts       2119        1.0                0   \n",
       "3  Boston  Massachusetts       2117        1.0                0   \n",
       "4  Boston  Massachusetts       2117        1.0                0   \n",
       "\n",
       "   amenities_count  host_verifications_count private_listing rating_target  \\\n",
       "0               31                         3               1             3   \n",
       "1               30                         4               1             2   \n",
       "2               30                         4               1             2   \n",
       "3               27                         8               1             2   \n",
       "4               30                         8               1             2   \n",
       "\n",
       "                                   clean_description  \n",
       "0  fully separate apartment in a two apartment bu...  \n",
       "1  private guest room with private bath, you do n...  \n",
       "2  comfortable,  fully equipped private apartment...  \n",
       "3  this unit is for sale. there will need to be o...  \n",
       "4  bright, spacious unit, new galley kitchen, new...  \n",
       "\n",
       "[5 rows x 56 columns]"
      ]
     },
     "execution_count": 10,
     "metadata": {},
     "output_type": "execute_result"
    }
   ],
   "source": [
    "sql = \"\"\"\n",
    "SELECT *\n",
    "FROM listings\n",
    "LIMIT 5;\n",
    "\"\"\"\n",
    "\n",
    "df = sqldf(sql)\n",
    "df.head()"
   ]
  },
  {
   "cell_type": "markdown",
   "id": "619bc714-8aec-48a4-87dd-a73378d7e93d",
   "metadata": {},
   "source": [
    "----\n",
    "### Lengths of Descriptions and Common Words"
   ]
  },
  {
   "cell_type": "code",
   "execution_count": 12,
   "id": "076c14c9-7f61-4e48-a34d-be99114a3509",
   "metadata": {},
   "outputs": [
    {
     "data": {
      "text/html": [
       "<div>\n",
       "<style scoped>\n",
       "    .dataframe tbody tr th:only-of-type {\n",
       "        vertical-align: middle;\n",
       "    }\n",
       "\n",
       "    .dataframe tbody tr th {\n",
       "        vertical-align: top;\n",
       "    }\n",
       "\n",
       "    .dataframe thead th {\n",
       "        text-align: right;\n",
       "    }\n",
       "</style>\n",
       "<table border=\"1\" class=\"dataframe\">\n",
       "  <thead>\n",
       "    <tr style=\"text-align: right;\">\n",
       "      <th></th>\n",
       "      <th>id</th>\n",
       "      <th>last_scraped</th>\n",
       "      <th>name</th>\n",
       "      <th>description</th>\n",
       "      <th>host_id</th>\n",
       "      <th>host_name</th>\n",
       "      <th>host_since</th>\n",
       "      <th>host_response_time</th>\n",
       "      <th>host_response_rate</th>\n",
       "      <th>host_is_superhost</th>\n",
       "      <th>...</th>\n",
       "      <th>zip_codes</th>\n",
       "      <th>bathrooms</th>\n",
       "      <th>bathrooms_shared</th>\n",
       "      <th>amenities_count</th>\n",
       "      <th>host_verifications_count</th>\n",
       "      <th>private_listing</th>\n",
       "      <th>rating_target</th>\n",
       "      <th>clean_description</th>\n",
       "      <th>comment_char_length</th>\n",
       "      <th>comment_word_count</th>\n",
       "    </tr>\n",
       "  </thead>\n",
       "  <tbody>\n",
       "    <tr>\n",
       "      <th>0</th>\n",
       "      <td>3781</td>\n",
       "      <td>2021-09-19</td>\n",
       "      <td>HARBORSIDE-Walk to subway</td>\n",
       "      <td>Fully separate apartment in a two apartment bu...</td>\n",
       "      <td>4804</td>\n",
       "      <td>Frank</td>\n",
       "      <td>2008-12-03</td>\n",
       "      <td>3</td>\n",
       "      <td>100.0</td>\n",
       "      <td>0</td>\n",
       "      <td>...</td>\n",
       "      <td>2128</td>\n",
       "      <td>1.0</td>\n",
       "      <td>0</td>\n",
       "      <td>31</td>\n",
       "      <td>3</td>\n",
       "      <td>1</td>\n",
       "      <td>3</td>\n",
       "      <td>fully separate apartment in a two apartment bu...</td>\n",
       "      <td>1000</td>\n",
       "      <td>168</td>\n",
       "    </tr>\n",
       "    <tr>\n",
       "      <th>1</th>\n",
       "      <td>5506</td>\n",
       "      <td>2021-09-19</td>\n",
       "      <td>** Private! Minutes to center!**</td>\n",
       "      <td>Private guest room with private bath, You do n...</td>\n",
       "      <td>8229</td>\n",
       "      <td>Terry</td>\n",
       "      <td>2009-02-19</td>\n",
       "      <td>3</td>\n",
       "      <td>100.0</td>\n",
       "      <td>1</td>\n",
       "      <td>...</td>\n",
       "      <td>2119</td>\n",
       "      <td>1.0</td>\n",
       "      <td>0</td>\n",
       "      <td>30</td>\n",
       "      <td>4</td>\n",
       "      <td>1</td>\n",
       "      <td>2</td>\n",
       "      <td>private guest room with private bath, you do n...</td>\n",
       "      <td>1000</td>\n",
       "      <td>166</td>\n",
       "    </tr>\n",
       "    <tr>\n",
       "      <th>2</th>\n",
       "      <td>6695</td>\n",
       "      <td>2021-09-19</td>\n",
       "      <td>Home Away from Home! Condo</td>\n",
       "      <td>Comfortable,  Fully Equipped private apartment...</td>\n",
       "      <td>8229</td>\n",
       "      <td>Terry</td>\n",
       "      <td>2009-02-19</td>\n",
       "      <td>3</td>\n",
       "      <td>100.0</td>\n",
       "      <td>1</td>\n",
       "      <td>...</td>\n",
       "      <td>2119</td>\n",
       "      <td>1.0</td>\n",
       "      <td>0</td>\n",
       "      <td>30</td>\n",
       "      <td>4</td>\n",
       "      <td>1</td>\n",
       "      <td>2</td>\n",
       "      <td>comfortable,  fully equipped private apartment...</td>\n",
       "      <td>1000</td>\n",
       "      <td>157</td>\n",
       "    </tr>\n",
       "  </tbody>\n",
       "</table>\n",
       "<p>3 rows × 58 columns</p>\n",
       "</div>"
      ],
      "text/plain": [
       "     id last_scraped                              name  \\\n",
       "0  3781   2021-09-19         HARBORSIDE-Walk to subway   \n",
       "1  5506   2021-09-19  ** Private! Minutes to center!**   \n",
       "2  6695   2021-09-19        Home Away from Home! Condo   \n",
       "\n",
       "                                         description  host_id host_name  \\\n",
       "0  Fully separate apartment in a two apartment bu...     4804     Frank   \n",
       "1  Private guest room with private bath, You do n...     8229     Terry   \n",
       "2  Comfortable,  Fully Equipped private apartment...     8229     Terry   \n",
       "\n",
       "   host_since  host_response_time  host_response_rate  host_is_superhost  ...  \\\n",
       "0  2008-12-03                   3               100.0                  0  ...   \n",
       "1  2009-02-19                   3               100.0                  1  ...   \n",
       "2  2009-02-19                   3               100.0                  1  ...   \n",
       "\n",
       "   zip_codes bathrooms  bathrooms_shared  amenities_count  \\\n",
       "0       2128       1.0                 0               31   \n",
       "1       2119       1.0                 0               30   \n",
       "2       2119       1.0                 0               30   \n",
       "\n",
       "  host_verifications_count  private_listing  rating_target  \\\n",
       "0                        3                1              3   \n",
       "1                        4                1              2   \n",
       "2                        4                1              2   \n",
       "\n",
       "                                   clean_description comment_char_length  \\\n",
       "0  fully separate apartment in a two apartment bu...                1000   \n",
       "1  private guest room with private bath, you do n...                1000   \n",
       "2  comfortable,  fully equipped private apartment...                1000   \n",
       "\n",
       "   comment_word_count  \n",
       "0                 168  \n",
       "1                 166  \n",
       "2                 157  \n",
       "\n",
       "[3 rows x 58 columns]"
      ]
     },
     "execution_count": 12,
     "metadata": {},
     "output_type": "execute_result"
    }
   ],
   "source": [
    "# create new columns for comment character length and word count\n",
    "listings['comment_char_length'] = [len(str(i)) for i in listings['clean_description']]\n",
    "listings['comment_word_count'] = [len(str(i).split(\" \")) for i in listings['clean_description']]\n",
    "listings.head(3)"
   ]
  },
  {
   "cell_type": "code",
   "execution_count": 14,
   "id": "954bf6a3-ebdb-4d19-a41a-c7ffdb919f8e",
   "metadata": {},
   "outputs": [
    {
     "data": {
      "text/html": [
       "<div>\n",
       "<style scoped>\n",
       "    .dataframe tbody tr th:only-of-type {\n",
       "        vertical-align: middle;\n",
       "    }\n",
       "\n",
       "    .dataframe tbody tr th {\n",
       "        vertical-align: top;\n",
       "    }\n",
       "\n",
       "    .dataframe thead th {\n",
       "        text-align: right;\n",
       "    }\n",
       "</style>\n",
       "<table border=\"1\" class=\"dataframe\">\n",
       "  <thead>\n",
       "    <tr style=\"text-align: right;\">\n",
       "      <th></th>\n",
       "      <th>comment_word_count</th>\n",
       "      <th>comment_char_length</th>\n",
       "    </tr>\n",
       "  </thead>\n",
       "  <tbody>\n",
       "    <tr>\n",
       "      <th>count</th>\n",
       "      <td>10664.000000</td>\n",
       "      <td>10664.000000</td>\n",
       "    </tr>\n",
       "    <tr>\n",
       "      <th>mean</th>\n",
       "      <td>137.016317</td>\n",
       "      <td>843.548387</td>\n",
       "    </tr>\n",
       "    <tr>\n",
       "      <th>std</th>\n",
       "      <td>43.865948</td>\n",
       "      <td>259.906852</td>\n",
       "    </tr>\n",
       "    <tr>\n",
       "      <th>min</th>\n",
       "      <td>3.000000</td>\n",
       "      <td>15.000000</td>\n",
       "    </tr>\n",
       "    <tr>\n",
       "      <th>25%</th>\n",
       "      <td>117.000000</td>\n",
       "      <td>733.750000</td>\n",
       "    </tr>\n",
       "    <tr>\n",
       "      <th>50%</th>\n",
       "      <td>156.000000</td>\n",
       "      <td>1000.000000</td>\n",
       "    </tr>\n",
       "    <tr>\n",
       "      <th>75%</th>\n",
       "      <td>167.000000</td>\n",
       "      <td>1000.000000</td>\n",
       "    </tr>\n",
       "    <tr>\n",
       "      <th>max</th>\n",
       "      <td>282.000000</td>\n",
       "      <td>1001.000000</td>\n",
       "    </tr>\n",
       "  </tbody>\n",
       "</table>\n",
       "</div>"
      ],
      "text/plain": [
       "       comment_word_count  comment_char_length\n",
       "count        10664.000000         10664.000000\n",
       "mean           137.016317           843.548387\n",
       "std             43.865948           259.906852\n",
       "min              3.000000            15.000000\n",
       "25%            117.000000           733.750000\n",
       "50%            156.000000          1000.000000\n",
       "75%            167.000000          1000.000000\n",
       "max            282.000000          1001.000000"
      ]
     },
     "execution_count": 14,
     "metadata": {},
     "output_type": "execute_result"
    }
   ],
   "source": [
    "listings[['comment_word_count', 'comment_char_length']].describe()"
   ]
  },
  {
   "cell_type": "code",
   "execution_count": 38,
   "id": "5800dde0-48ec-4b10-af83-32e120fe0950",
   "metadata": {},
   "outputs": [
    {
     "data": {
      "image/png": "[encoded data removed]",
      "text/plain": [
       "<Figure size 432x288 with 1 Axes>"
      ]
     },
     "metadata": {
      "needs_background": "light"
     },
     "output_type": "display_data"
    }
   ],
   "source": [
    "# Distribution of Word Counts\n",
    "plt.hist(listings['comment_word_count'], bins = 40)\n",
    "plt.title('Distribution of Word Counts by Description', fontsize =16)\n",
    "plt.xlabel('Word Count', fontsize =12)\n",
    "plt.ylabel('Number of Comments', fontsize =12);"
   ]
  },
  {
   "cell_type": "code",
   "execution_count": 39,
   "id": "e0a6df05-3491-41cd-ab65-576d907ca2f0",
   "metadata": {},
   "outputs": [
    {
     "data": {
      "image/png": "[encoded data removed]",
      "text/plain": [
       "<Figure size 432x288 with 1 Axes>"
      ]
     },
     "metadata": {
      "needs_background": "light"
     },
     "output_type": "display_data"
    }
   ],
   "source": [
    "# Distribution of Character Lengths\n",
    "plt.hist(listings['comment_char_length'], bins = 40)\n",
    "\n",
    "plt.title('Distribution of Character Lengths by Description', fontsize =16)\n",
    "plt.xlabel('Character Length', fontsize =12)\n",
    "plt.ylabel('Number of Descriptions', fontsize =12);"
   ]
  },
  {
   "cell_type": "code",
   "execution_count": 51,
   "id": "24908689-5ad9-4692-b1a6-36f4b2056246",
   "metadata": {},
   "outputs": [
    {
     "name": "stdout",
     "output_type": "stream",
     "text": [
      "            id             host_name  comment_char_length\n",
      "5434  21735562                Kursad                 1001\n",
      "3135  21735562                Kursad                 1001\n",
      "893   21735562                Kursad                 1001\n",
      "6304  45699883  Global Luxury Suites                 1000\n",
      "6298  45652898                 Cindy                 1000\n",
      " \n",
      "************************************************************\n",
      " \n",
      "            id host_name  comment_char_length\n",
      "1498  37583345    Robert                   15\n",
      "8262  37583345    Robert                   15\n",
      "3692  37583345    Robert                   15\n",
      "6015  37583345    Robert                   15\n",
      "8188  35407404      Mark                   23\n"
     ]
    }
   ],
   "source": [
    "# looking at longest and shortest posts by character length\n",
    "print(listings[['id', 'host_name','comment_char_length']].sort_values('comment_char_length', ascending=False).head(5))\n",
    "print(\" \")\n",
    "print(\"*\"*60)\n",
    "print(\" \")\n",
    "print(listings[['id','host_name','comment_char_length']].sort_values('comment_char_length').head(5))"
   ]
  },
  {
   "cell_type": "code",
   "execution_count": 22,
   "id": "5c0fcc38-37c0-4a3d-9840-d7ba9054ba64",
   "metadata": {},
   "outputs": [
    {
     "name": "stdout",
     "output_type": "stream",
     "text": [
      "            id host_name  comment_word_count\n",
      "3474  30858812     Cathy                 282\n",
      "8050  30858812     Cathy                 282\n",
      "9883  21229815     Jenny                 199\n",
      "2961  18194673     Katie                 198\n",
      "723   18194673     Katie                 198\n",
      " \n",
      "************************************************************\n",
      " \n",
      "            id host_name  comment_word_count\n",
      "4193  48960486     Maria                   3\n",
      "8971  52380004  Hashouki                   3\n",
      "3948  45515569     Aftab                   3\n",
      "6908  53513507    Hesham                   3\n",
      "2190  51229537     Katia                   3\n"
     ]
    }
   ],
   "source": [
    "# looking at longest and shortest posts by word count\n",
    "print(listings[['id','host_name','comment_word_count']].sort_values('comment_word_count', ascending=False).head(5))\n",
    "print(\" \")\n",
    "print(\"*\"*60)\n",
    "print(\" \")\n",
    "print(listings[['id','host_name','comment_word_count']].sort_values('comment_word_count').head(5))"
   ]
  },
  {
   "cell_type": "markdown",
   "id": "951a5f31-d72f-4446-bd7f-435be20d581b",
   "metadata": {
    "tags": []
   },
   "source": [
    "---\n",
    "\n",
    "## **EDA Specifically on Comments Column**\n",
    "\n",
    "#### Vectorize the text to look at Common Word Appearances"
   ]
  },
  {
   "cell_type": "markdown",
   "id": "87257187-50f6-4415-bfef-f93906b1b6fb",
   "metadata": {},
   "source": [
    "-----\n",
    "### *CountVectorize*"
   ]
  },
  {
   "cell_type": "code",
   "execution_count": 23,
   "id": "f6a83def-d56f-465c-b165-5b533dc43f36",
   "metadata": {},
   "outputs": [
    {
     "data": {
      "text/plain": [
       "(10664, 58)"
      ]
     },
     "execution_count": 23,
     "metadata": {},
     "output_type": "execute_result"
    }
   ],
   "source": [
    "listings.shape"
   ]
  },
  {
   "cell_type": "code",
   "execution_count": 24,
   "id": "b5e66fce-56dc-4565-a892-c28871111869",
   "metadata": {},
   "outputs": [
    {
     "data": {
      "text/plain": [
       "(10664, 50)"
      ]
     },
     "execution_count": 24,
     "metadata": {},
     "output_type": "execute_result"
    }
   ],
   "source": [
    "# Instantiate the CountVectorizer and transform \n",
    "cvec = CountVectorizer(max_features=50)\n",
    "post_matrix = cvec.fit_transform(listings['clean_description'].astype('U').values)\n",
    "\n",
    "# Creating dataframe of text data\n",
    "post_df = pd.DataFrame(post_matrix.todense(),\n",
    "                      columns = cvec.get_feature_names_out())\n",
    "post_df.shape"
   ]
  },
  {
   "cell_type": "code",
   "execution_count": 40,
   "id": "09977ba3-ac8b-46d5-b71a-cebd8fb0a501",
   "metadata": {},
   "outputs": [
    {
     "data": {
      "image/png": "[encoded data removed]",
      "text/plain": [
       "<Figure size 432x288 with 1 Axes>"
      ]
     },
     "metadata": {
      "needs_background": "light"
     },
     "output_type": "display_data"
    }
   ],
   "source": [
    "# check to see the top words - if mostly stopwords, get rid of stopwords\n",
    "# code taken from lesson 5.05 on Natural Language Processing\n",
    "\n",
    "post_df.sum().sort_values(ascending = False).head(20).plot(kind = 'barh', color = 'r')\n",
    "plt.gca().invert_yaxis() # this code was taken from Andras Deak's response on stack overflow\n",
    "# https://stackoverflow.com/questions/34076177/matplotlib-horizontal-bar-chart-barh-is-upside-down\n",
    "plt.title('Top 20 Word Occurrences in Descriptions')\n",
    "plt.xlabel('Number of Words');"
   ]
  },
  {
   "cell_type": "code",
   "execution_count": 41,
   "id": "3e7b5ba6-1763-4958-8e10-2563bb81e3ba",
   "metadata": {},
   "outputs": [
    {
     "data": {
      "image/png": "[encoded data removed]",
      "text/plain": [
       "<Figure size 432x288 with 1 Axes>"
      ]
     },
     "metadata": {
      "needs_background": "light"
     },
     "output_type": "display_data"
    }
   ],
   "source": [
    "# most are stop words - recreate dataframe without stopwords\n",
    "cvec = CountVectorizer(max_features=50, stop_words='english')\n",
    "post_matrix = cvec.fit_transform(listings['clean_description'].astype('U').values)\n",
    "\n",
    "# new dataframe\n",
    "post_df = pd.DataFrame(post_matrix.todense(), columns = cvec.get_feature_names_out())\n",
    "post_df.sum().sort_values(ascending=False).head(20).plot(kind = 'barh', color='r')\n",
    "plt.gca().invert_yaxis()\n",
    "\n",
    "plt.title('Top 20 Word Occurrences in Descriptions (without Stop Words)')\n",
    "plt.xlabel('Number of Words');"
   ]
  },
  {
   "cell_type": "code",
   "execution_count": 33,
   "id": "78fb5c06-876b-42a5-87f0-3dd8b253a889",
   "metadata": {},
   "outputs": [
    {
     "data": {
      "text/plain": [
       "(10664, 100)"
      ]
     },
     "execution_count": 33,
     "metadata": {},
     "output_type": "execute_result"
    }
   ],
   "source": [
    "# Instantiate the CountVectorizer and transform \n",
    "# changed the number of max features\n",
    "cvec = CountVectorizer(max_features=100)\n",
    "post_matrix = cvec.fit_transform(listings['clean_description'].astype('U').values)\n",
    "\n",
    "# Creating dataframe of text data\n",
    "post_df = pd.DataFrame(post_matrix.todense(),\n",
    "                      columns = cvec.get_feature_names_out())\n",
    "post_df.shape"
   ]
  },
  {
   "cell_type": "code",
   "execution_count": 42,
   "id": "23d37868-b146-49a7-aecd-c94ef51ec06f",
   "metadata": {},
   "outputs": [
    {
     "data": {
      "image/png": "[encoded data removed]",
      "text/plain": [
       "<Figure size 432x288 with 1 Axes>"
      ]
     },
     "metadata": {
      "needs_background": "light"
     },
     "output_type": "display_data"
    }
   ],
   "source": [
    "# check to see the top words - if mostly stopwords, get rid of stopwords\n",
    "# code taken from lesson 5.05 on Natural Language Processing\n",
    "\n",
    "post_df.sum().sort_values(ascending = False).head(20).plot(kind = 'barh', color = 'b')\n",
    "plt.gca().invert_yaxis()\n",
    "plt.title('Top 20 Word Occurrences in Descriptions')\n",
    "plt.xlabel('Number of Words');"
   ]
  },
  {
   "cell_type": "code",
   "execution_count": 52,
   "id": "a8ec9e13-8cac-4aef-8a83-3a647be8c34e",
   "metadata": {},
   "outputs": [
    {
     "name": "stdout",
     "output_type": "stream",
     "text": [
      "(10664, 100)\n"
     ]
    },
    {
     "data": {
      "image/png": "[encoded data removed]",
      "text/plain": [
       "<Figure size 432x288 with 1 Axes>"
      ]
     },
     "metadata": {
      "needs_background": "light"
     },
     "output_type": "display_data"
    }
   ],
   "source": [
    "# most are stop words - recreate dataframe without stopwords\n",
    "cvec = CountVectorizer(max_features=100, stop_words='english')\n",
    "post_matrix = cvec.fit_transform(listings['clean_description'].astype('U').values)\n",
    "\n",
    "# new dataframe\n",
    "post_df = pd.DataFrame(post_matrix.todense(), columns = cvec.get_feature_names_out())\n",
    "print(post_df.shape)\n",
    "post_df.sum().sort_values(ascending=False).head(20).plot(kind = 'barh', color='b')\n",
    "plt.gca().invert_yaxis()\n",
    "\n",
    "plt.title('Top 20 Word Occurrences in Descriptions (without Stop Words)')\n",
    "plt.xlabel('Number of Words');"
   ]
  },
  {
   "cell_type": "code",
   "execution_count": 56,
   "id": "fc302210-c4d6-413c-99c9-29264274c175",
   "metadata": {},
   "outputs": [
    {
     "name": "stdout",
     "output_type": "stream",
     "text": [
      "(10664, 100)\n"
     ]
    },
    {
     "data": {
      "image/png": "[encoded data removed]",
      "text/plain": [
       "<Figure size 432x288 with 1 Axes>"
      ]
     },
     "metadata": {
      "needs_background": "light"
     },
     "output_type": "display_data"
    }
   ],
   "source": [
    "# most are stop words - recreate dataframe without stopwords\n",
    "cvec = CountVectorizer(max_features=100, stop_words='english', ngram_range=(2,3))\n",
    "post_matrix = cvec.fit_transform(listings['clean_description'].astype('U').values)\n",
    "\n",
    "# new dataframe\n",
    "post_df = pd.DataFrame(post_matrix.todense(), columns = cvec.get_feature_names_out())\n",
    "print(post_df.shape)\n",
    "post_df.sum().sort_values(ascending=False).head(20).plot(kind = 'barh', color='b')\n",
    "plt.gca().invert_yaxis()\n",
    "\n",
    "plt.title('Top 20 Word Occurrences in Descriptions (without Stop Words)')\n",
    "plt.xlabel('Number of Words');"
   ]
  },
  {
   "cell_type": "markdown",
   "id": "bd7777bb-773f-4283-ab48-eb0365a361f7",
   "metadata": {},
   "source": [
    "-----\n",
    "### *(TF-IDF) Vectorizer*"
   ]
  },
  {
   "cell_type": "code",
   "execution_count": 47,
   "id": "43ff191f-a14c-46f3-a652-0c3a8fb9d167",
   "metadata": {},
   "outputs": [
    {
     "data": {
      "text/plain": [
       "(10664, 50)"
      ]
     },
     "execution_count": 47,
     "metadata": {},
     "output_type": "execute_result"
    }
   ],
   "source": [
    "# Instantiate the Tfidf Vectorizer and transform \n",
    "tvec = TfidfVectorizer(max_features = 50)\n",
    "post_matrix = tvec.fit_transform(listings['clean_description'].astype('U').values)\n",
    "\n",
    "# Creating dataframe of text data\n",
    "post_df = pd.DataFrame(post_matrix.todense(),\n",
    "                      columns = tvec.get_feature_names_out())\n",
    "post_df.shape"
   ]
  },
  {
   "cell_type": "code",
   "execution_count": 48,
   "id": "eb38d30f-89ef-4234-a007-389ef91a6db8",
   "metadata": {},
   "outputs": [
    {
     "data": {
      "image/png": "[encoded data removed]",
      "text/plain": [
       "<Figure size 432x288 with 1 Axes>"
      ]
     },
     "metadata": {
      "needs_background": "light"
     },
     "output_type": "display_data"
    }
   ],
   "source": [
    "# check to see the top words - if mostly stopwords, get rid of stopwords\n",
    "\n",
    "post_df.sum().sort_values(ascending = False).head(20).plot(kind = 'barh', color = 'r')\n",
    "plt.gca().invert_yaxis()\n",
    "plt.title('Top 20 Word Occurrences in Descriptions')\n",
    "plt.xlabel('Number of Words');"
   ]
  },
  {
   "cell_type": "code",
   "execution_count": 50,
   "id": "6ce07eaf-164c-4051-97b2-92af27bcb427",
   "metadata": {},
   "outputs": [
    {
     "data": {
      "image/png": "[encoded data removed]",
      "text/plain": [
       "<Figure size 432x288 with 1 Axes>"
      ]
     },
     "metadata": {
      "needs_background": "light"
     },
     "output_type": "display_data"
    }
   ],
   "source": [
    "# most are stop words - recreate dataframe without stopwords\n",
    "tvec = TfidfVectorizer(max_features = 50, stop_words='english')\n",
    "post_matrix = tvec.fit_transform(listings['clean_description'].astype('U').values)\n",
    "\n",
    "# new dataframe\n",
    "post_df = pd.DataFrame(post_matrix.todense(), columns = tvec.get_feature_names_out())\n",
    "post_df.shape\n",
    "\n",
    "post_df.sum().sort_values(ascending=False).head(20).plot(kind = 'barh', color='r')\n",
    "plt.gca().invert_yaxis()\n",
    "plt.title('Top 20 Word Occurrences in Descriptions (without Stop Words)')\n",
    "plt.xlabel('Number of Words');"
   ]
  },
  {
   "cell_type": "code",
   "execution_count": 59,
   "id": "d6214b75-9ae9-4494-a2be-5e6da4129849",
   "metadata": {},
   "outputs": [
    {
     "name": "stdout",
     "output_type": "stream",
     "text": [
      "(10664, 100)\n"
     ]
    },
    {
     "data": {
      "image/png": "[encoded data removed]",
      "text/plain": [
       "<Figure size 432x288 with 1 Axes>"
      ]
     },
     "metadata": {
      "needs_background": "light"
     },
     "output_type": "display_data"
    }
   ],
   "source": [
    "# most are stop words - recreate dataframe without stopwords\n",
    "tvec = TfidfVectorizer(max_features=100, stop_words='english', ngram_range=(3,3))\n",
    "post_matrix = tvec.fit_transform(listings['clean_description'].astype('U').values)\n",
    "\n",
    "# new dataframe\n",
    "post_df = pd.DataFrame(post_matrix.todense(), columns = cvec.get_feature_names_out())\n",
    "print(post_df.shape)\n",
    "post_df.sum().sort_values(ascending=False).head(20).plot(kind = 'barh', color='b')\n",
    "plt.gca().invert_yaxis()\n",
    "\n",
    "plt.title('Top 20 Word Occurrences in Reviews (without Stop Words)')\n",
    "plt.xlabel('Number of Words');"
   ]
  },
  {
   "cell_type": "code",
   "execution_count": 33,
   "id": "14dc04df-e89e-4dca-9cd3-d0feb365f014",
   "metadata": {},
   "outputs": [],
   "source": [
    "# may be important to adjust stop words parameter when modeling"
   ]
  }
 ],
 "metadata": {
  "kernelspec": {
   "display_name": "Python [conda env:dsi] *",
   "language": "python",
   "name": "conda-env-dsi-py"
  },
  "language_info": {
   "codemirror_mode": {
    "name": "ipython",
    "version": 3
   },
   "file_extension": ".py",
   "mimetype": "text/x-python",
   "name": "python",
   "nbconvert_exporter": "python",
   "pygments_lexer": "ipython3",
   "version": "3.9.12"
  }
 },
 "nbformat": 4,
 "nbformat_minor": 5
}
