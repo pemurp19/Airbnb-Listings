{
 "cells": [
  {
   "cell_type": "markdown",
   "id": "d4ad1430-ae06-403f-8270-94937a04a8ae",
   "metadata": {},
   "source": [
    "# **Regression (Excluding Text Features)**"
   ]
  },
  {
   "cell_type": "markdown",
   "id": "dc73fc76-5432-468c-a167-436a4342489c",
   "metadata": {},
   "source": [
    "-------\n",
    "### Imports"
   ]
  },
  {
   "cell_type": "code",
   "execution_count": 85,
   "id": "d6b8b24a-8642-4d4c-b0d5-9f6833468b09",
   "metadata": {},
   "outputs": [],
   "source": [
    "import pandas as pd\n",
    "import numpy as np\n",
    "import matplotlib.pyplot as plt\n",
    "import seaborn as sns\n",
    "\n",
    "from sklearn.linear_model import LinearRegression\n",
    "from sklearn.neighbors import KNeighborsRegressor\n",
    "from sklearn.model_selection import train_test_split, cross_val_score\n",
    "from sklearn.pipeline import Pipeline\n",
    "from sklearn.model_selection import GridSearchCV\n",
    "from sklearn.preprocessing import StandardScaler\n",
    "from sklearn.ensemble import RandomForestRegressor, GradientBoostingRegressor, AdaBoostRegressor\n",
    "from sklearn.tree import DecisionTreeRegressor\n",
    "\n",
    "from sklearn import metrics\n",
    "from sklearn.metrics import plot_confusion_matrix, classification_report, f1_score, precision_score, silhouette_score\n",
    "\n",
    "from sklearn.cluster import KMeans, DBSCAN\n",
    "from sklearn.decomposition import PCA\n",
    "\n",
    "from sklearn.feature_extraction.text import CountVectorizer, TfidfVectorizer\n"
   ]
  },
  {
   "cell_type": "markdown",
   "id": "8478b65b-c975-4f38-9ee1-6d33498aa467",
   "metadata": {
    "tags": []
   },
   "source": [
    "-------\n",
    "## Reading in the Listings Dataset"
   ]
  },
  {
   "cell_type": "code",
   "execution_count": 2,
   "id": "b6df9af9-26b2-4362-bd2c-45e20b5a7980",
   "metadata": {},
   "outputs": [],
   "source": [
    "listings = pd.read_csv('../data/listings_cleaned.csv')"
   ]
  },
  {
   "cell_type": "code",
   "execution_count": 3,
   "id": "671ef56c-70ae-40a8-b1a8-60a7b48691c2",
   "metadata": {},
   "outputs": [
    {
     "data": {
      "text/html": [
       "<div>\n",
       "<style scoped>\n",
       "    .dataframe tbody tr th:only-of-type {\n",
       "        vertical-align: middle;\n",
       "    }\n",
       "\n",
       "    .dataframe tbody tr th {\n",
       "        vertical-align: top;\n",
       "    }\n",
       "\n",
       "    .dataframe thead th {\n",
       "        text-align: right;\n",
       "    }\n",
       "</style>\n",
       "<table border=\"1\" class=\"dataframe\">\n",
       "  <thead>\n",
       "    <tr style=\"text-align: right;\">\n",
       "      <th></th>\n",
       "      <th>id</th>\n",
       "      <th>last_scraped</th>\n",
       "      <th>name</th>\n",
       "      <th>description</th>\n",
       "      <th>host_id</th>\n",
       "      <th>host_name</th>\n",
       "      <th>host_since</th>\n",
       "      <th>host_response_time</th>\n",
       "      <th>host_response_rate</th>\n",
       "      <th>host_is_superhost</th>\n",
       "      <th>...</th>\n",
       "      <th>calculated_host_listings_count_private_rooms</th>\n",
       "      <th>calculated_host_listings_count_shared_rooms</th>\n",
       "      <th>reviews_per_month</th>\n",
       "      <th>city</th>\n",
       "      <th>state</th>\n",
       "      <th>bathrooms</th>\n",
       "      <th>bathrooms_shared</th>\n",
       "      <th>amenities_count</th>\n",
       "      <th>host_verifications_count</th>\n",
       "      <th>private_listing</th>\n",
       "    </tr>\n",
       "  </thead>\n",
       "  <tbody>\n",
       "    <tr>\n",
       "      <th>0</th>\n",
       "      <td>3781</td>\n",
       "      <td>2021-09-19</td>\n",
       "      <td>HARBORSIDE-Walk to subway</td>\n",
       "      <td>Fully separate apartment in a two apartment bu...</td>\n",
       "      <td>4804</td>\n",
       "      <td>Frank</td>\n",
       "      <td>2008-12-03</td>\n",
       "      <td>3</td>\n",
       "      <td>100.0</td>\n",
       "      <td>0</td>\n",
       "      <td>...</td>\n",
       "      <td>0</td>\n",
       "      <td>0</td>\n",
       "      <td>0.29</td>\n",
       "      <td>Boston</td>\n",
       "      <td>Massachusetts</td>\n",
       "      <td>1.0</td>\n",
       "      <td>0</td>\n",
       "      <td>31</td>\n",
       "      <td>3</td>\n",
       "      <td>1</td>\n",
       "    </tr>\n",
       "    <tr>\n",
       "      <th>1</th>\n",
       "      <td>5506</td>\n",
       "      <td>2021-09-19</td>\n",
       "      <td>** Private! Minutes to center!**</td>\n",
       "      <td>Private guest room with private bath, You do n...</td>\n",
       "      <td>8229</td>\n",
       "      <td>Terry</td>\n",
       "      <td>2009-02-19</td>\n",
       "      <td>3</td>\n",
       "      <td>100.0</td>\n",
       "      <td>1</td>\n",
       "      <td>...</td>\n",
       "      <td>0</td>\n",
       "      <td>0</td>\n",
       "      <td>0.90</td>\n",
       "      <td>Boston</td>\n",
       "      <td>Massachusetts</td>\n",
       "      <td>1.0</td>\n",
       "      <td>0</td>\n",
       "      <td>30</td>\n",
       "      <td>4</td>\n",
       "      <td>1</td>\n",
       "    </tr>\n",
       "  </tbody>\n",
       "</table>\n",
       "<p>2 rows × 53 columns</p>\n",
       "</div>"
      ],
      "text/plain": [
       "     id last_scraped                              name  \\\n",
       "0  3781   2021-09-19         HARBORSIDE-Walk to subway   \n",
       "1  5506   2021-09-19  ** Private! Minutes to center!**   \n",
       "\n",
       "                                         description  host_id host_name  \\\n",
       "0  Fully separate apartment in a two apartment bu...     4804     Frank   \n",
       "1  Private guest room with private bath, You do n...     8229     Terry   \n",
       "\n",
       "   host_since  host_response_time  host_response_rate  host_is_superhost  ...  \\\n",
       "0  2008-12-03                   3               100.0                  0  ...   \n",
       "1  2009-02-19                   3               100.0                  1  ...   \n",
       "\n",
       "   calculated_host_listings_count_private_rooms  \\\n",
       "0                                             0   \n",
       "1                                             0   \n",
       "\n",
       "  calculated_host_listings_count_shared_rooms  reviews_per_month    city  \\\n",
       "0                                           0               0.29  Boston   \n",
       "1                                           0               0.90  Boston   \n",
       "\n",
       "           state  bathrooms  bathrooms_shared amenities_count  \\\n",
       "0  Massachusetts        1.0                 0              31   \n",
       "1  Massachusetts        1.0                 0              30   \n",
       "\n",
       "  host_verifications_count  private_listing  \n",
       "0                        3                1  \n",
       "1                        4                1  \n",
       "\n",
       "[2 rows x 53 columns]"
      ]
     },
     "execution_count": 3,
     "metadata": {},
     "output_type": "execute_result"
    }
   ],
   "source": [
    "listings.head(2)"
   ]
  },
  {
   "cell_type": "markdown",
   "id": "8262bcc4-3c4e-405b-8ecc-54731c8614a5",
   "metadata": {
    "tags": []
   },
   "source": [
    "------\n",
    "# **Modeling**"
   ]
  },
  {
   "cell_type": "code",
   "execution_count": 4,
   "id": "000c71d0-3341-4e16-b121-9769957a9d1d",
   "metadata": {},
   "outputs": [],
   "source": [
    "# building a simple model to gauge performance\n",
    "features = ['amenities_count', 'host_response_time', \n",
    "            'host_response_rate', 'host_has_profile_pic','accommodates','license',\n",
    "            'reviews_per_month', 'host_verifications_count'] # intentionally not including price, didn't appear to be strong predictor of rating based on EDA\n",
    "\n",
    "# define X and y\n",
    "X = listings[features]\n",
    "y = listings['rating']"
   ]
  },
  {
   "cell_type": "code",
   "execution_count": 7,
   "id": "c845e93a-ec11-4e89-9244-39642479a30d",
   "metadata": {},
   "outputs": [
    {
     "name": "stdout",
     "output_type": "stream",
     "text": [
      "(7998, 8)\n",
      "(2666, 8)\n"
     ]
    }
   ],
   "source": [
    "X_train, X_test, y_train, y_test = train_test_split(X, y, random_state=42)\n",
    "print(X_train.shape)\n",
    "print(X_test.shape)"
   ]
  },
  {
   "cell_type": "markdown",
   "id": "f5da9267-fe1f-4251-aa4a-1202e55c4793",
   "metadata": {},
   "source": [
    "## Scale and fit Basic KNN"
   ]
  },
  {
   "cell_type": "code",
   "execution_count": null,
   "id": "7c8b2d89-acd3-443f-9dcf-97e65fa72345",
   "metadata": {},
   "outputs": [],
   "source": [
    "ss= StandardScaler()\n",
    "X_train_sc = ss.fit_transform(X_train)\n",
    "X_test_sc = ss.transform(X_test)"
   ]
  },
  {
   "cell_type": "code",
   "execution_count": null,
   "id": "e27b80ec-1d74-4f60-8a17-1347996212f5",
   "metadata": {},
   "outputs": [
    {
     "name": "stdout",
     "output_type": "stream",
     "text": [
      "training accuracy: 0.43748293304323993\n",
      "test accuracy: 0.07033625389525022\n"
     ]
    }
   ],
   "source": [
    "# instantiate and fit KNNeighbors model with defaults\n",
    "knn = KNeighborsRegressor()\n",
    "knn.fit(X_train_sc, y_train)\n",
    "\n",
    "print(f'training accuracy: {knn.score(X_train_sc, y_train)}')\n",
    "print(f'test accuracy: {knn.score(X_test_sc, y_test)}')"
   ]
  },
  {
   "cell_type": "markdown",
   "id": "f6923004-1196-4345-a2d3-0eca950d3d4a",
   "metadata": {},
   "source": [
    "## Fit Linear Regression"
   ]
  },
  {
   "cell_type": "code",
   "execution_count": 15,
   "id": "ef4d7aa1-37b3-4305-a9af-2fa78bc25f92",
   "metadata": {},
   "outputs": [
    {
     "name": "stdout",
     "output_type": "stream",
     "text": [
      "training accuracy: 0.04155438594963001\n",
      "test accuracy: 0.024237697516732215\n"
     ]
    }
   ],
   "source": [
    "lr = LinearRegression()\n",
    "lr.fit(X_train, y_train)\n",
    "\n",
    "print(f'training accuracy: {lr.score(X_train, y_train)}')\n",
    "print(f'test accuracy: {lr.score(X_test, y_test)}')"
   ]
  },
  {
   "cell_type": "code",
   "execution_count": 16,
   "id": "db2482bb-5b13-4310-a770-f781fb79bee8",
   "metadata": {},
   "outputs": [
    {
     "name": "stdout",
     "output_type": "stream",
     "text": [
      "training accuracy: 0.04155438594963001\n",
      "test accuracy: 0.024237697516732215\n"
     ]
    }
   ],
   "source": [
    "# see if standardizing improves performance\n",
    "lr = LinearRegression()\n",
    "lr.fit(X_train_sc, y_train)\n",
    "\n",
    "print(f'training accuracy: {lr.score(X_train_sc, y_train)}')\n",
    "print(f'test accuracy: {lr.score(X_test_sc, y_test)}')"
   ]
  },
  {
   "cell_type": "markdown",
   "id": "3cbacae2-56d0-4c89-a69d-8018138fc24d",
   "metadata": {},
   "source": [
    "Poor performance on the basic features selected. KNN performed best in this scenario, though it's significantly overfit."
   ]
  },
  {
   "cell_type": "markdown",
   "id": "d0a9a6c3-1047-4315-a28d-2e6c6fa73138",
   "metadata": {},
   "source": [
    "-------"
   ]
  },
  {
   "cell_type": "markdown",
   "id": "562098ea-8970-444d-9166-fd7a1e3d5591",
   "metadata": {},
   "source": [
    "## Attempt to throw more features at the models"
   ]
  },
  {
   "cell_type": "code",
   "execution_count": 17,
   "id": "bb6a5c86-cc4d-4845-8643-b5da76e6dbd7",
   "metadata": {},
   "outputs": [
    {
     "name": "stdout",
     "output_type": "stream",
     "text": [
      "(10664, 53)\n"
     ]
    },
    {
     "data": {
      "text/plain": [
       "(10664, 123)"
      ]
     },
     "execution_count": 17,
     "metadata": {},
     "output_type": "execute_result"
    }
   ],
   "source": [
    "# preprocessing to make sure desired feature columns are numerical\n",
    "\n",
    "# dummify neighborhood, property type, and room type columns\n",
    "print(listings.shape)\n",
    "listings_dummy = pd.get_dummies(listings, columns = ['neighborhood','property_type','room_type'], drop_first = True)\n",
    "\n",
    "\n",
    "listings_dummy.shape"
   ]
  },
  {
   "cell_type": "code",
   "execution_count": 18,
   "id": "b6ce3876-ec1b-4bb6-8a04-00f786fefb84",
   "metadata": {},
   "outputs": [
    {
     "data": {
      "text/plain": [
       "['id',\n",
       " 'host_id',\n",
       " 'host_response_time',\n",
       " 'host_response_rate',\n",
       " 'host_is_superhost',\n",
       " 'abnb_host_listings_count',\n",
       " 'host_has_profile_pic',\n",
       " 'host_identity_verified',\n",
       " 'latitude',\n",
       " 'longitude',\n",
       " 'accommodates',\n",
       " 'beds',\n",
       " 'price',\n",
       " 'minimum_nights',\n",
       " 'maximum_nights',\n",
       " 'minimum_nights_avg_ntm',\n",
       " 'maximum_nights_avg_ntm',\n",
       " 'available_today',\n",
       " 'availability_30',\n",
       " 'availability_60',\n",
       " 'availability_90',\n",
       " 'availability_365',\n",
       " 'number_of_reviews',\n",
       " 'number_of_reviews_ltm',\n",
       " 'number_of_reviews_l30d',\n",
       " 'license',\n",
       " 'instant_bookable',\n",
       " 'calculated_host_listings_count',\n",
       " 'calculated_host_listings_count_entire_homes',\n",
       " 'calculated_host_listings_count_private_rooms',\n",
       " 'calculated_host_listings_count_shared_rooms',\n",
       " 'reviews_per_month',\n",
       " 'bathrooms',\n",
       " 'bathrooms_shared',\n",
       " 'amenities_count',\n",
       " 'host_verifications_count',\n",
       " 'private_listing',\n",
       " 'neighborhood_Back Bay',\n",
       " 'neighborhood_Bay Village',\n",
       " 'neighborhood_Beacon Hill',\n",
       " 'neighborhood_Brighton',\n",
       " 'neighborhood_Charlestown',\n",
       " 'neighborhood_Chinatown',\n",
       " 'neighborhood_Dorchester',\n",
       " 'neighborhood_Downtown',\n",
       " 'neighborhood_East Boston',\n",
       " 'neighborhood_Fenway',\n",
       " 'neighborhood_Harbor Islands',\n",
       " 'neighborhood_Hyde Park',\n",
       " 'neighborhood_Jamaica Plain',\n",
       " 'neighborhood_Leather District',\n",
       " 'neighborhood_Longwood Medical Area',\n",
       " 'neighborhood_Mattapan',\n",
       " 'neighborhood_Mission Hill',\n",
       " 'neighborhood_North End',\n",
       " 'neighborhood_Roslindale',\n",
       " 'neighborhood_Roxbury',\n",
       " 'neighborhood_South Boston',\n",
       " 'neighborhood_South Boston Waterfront',\n",
       " 'neighborhood_South End',\n",
       " 'neighborhood_West End',\n",
       " 'neighborhood_West Roxbury',\n",
       " 'property_type_Castle',\n",
       " 'property_type_Entire bed and breakfast',\n",
       " 'property_type_Entire bungalow',\n",
       " 'property_type_Entire condo',\n",
       " 'property_type_Entire condominium (condo)',\n",
       " 'property_type_Entire cottage',\n",
       " 'property_type_Entire guest suite',\n",
       " 'property_type_Entire guesthouse',\n",
       " 'property_type_Entire home',\n",
       " 'property_type_Entire loft',\n",
       " 'property_type_Entire place',\n",
       " 'property_type_Entire rental unit',\n",
       " 'property_type_Entire residential home',\n",
       " 'property_type_Entire serviced apartment',\n",
       " 'property_type_Entire townhouse',\n",
       " 'property_type_Entire villa',\n",
       " 'property_type_Houseboat',\n",
       " 'property_type_Lighthouse',\n",
       " 'property_type_Private room in bed and breakfast',\n",
       " 'property_type_Private room in bungalow',\n",
       " 'property_type_Private room in casa particular',\n",
       " 'property_type_Private room in condo',\n",
       " 'property_type_Private room in condominium (condo)',\n",
       " 'property_type_Private room in cottage',\n",
       " 'property_type_Private room in guest suite',\n",
       " 'property_type_Private room in guesthouse',\n",
       " 'property_type_Private room in home',\n",
       " 'property_type_Private room in loft',\n",
       " 'property_type_Private room in rental unit',\n",
       " 'property_type_Private room in residential home',\n",
       " 'property_type_Private room in serviced apartment',\n",
       " 'property_type_Private room in townhouse',\n",
       " 'property_type_Private room in villa',\n",
       " 'property_type_Room in aparthotel',\n",
       " 'property_type_Room in bed and breakfast',\n",
       " 'property_type_Room in boutique hotel',\n",
       " 'property_type_Room in hotel',\n",
       " 'property_type_Shared room in boutique hotel',\n",
       " 'property_type_Shared room in condo',\n",
       " 'property_type_Shared room in condominium (condo)',\n",
       " 'property_type_Shared room in home',\n",
       " 'property_type_Shared room in rental unit',\n",
       " 'property_type_Shared room in residential home',\n",
       " 'property_type_Shared room in townhouse',\n",
       " 'property_type_Tiny home',\n",
       " 'room_type_Hotel room',\n",
       " 'room_type_Private room',\n",
       " 'room_type_Shared room']"
      ]
     },
     "execution_count": 18,
     "metadata": {},
     "output_type": "execute_result"
    }
   ],
   "source": [
    "features = [col for col in listings_dummy._get_numeric_data().columns if col != 'rating_target' and col != 'rating']\n",
    "features"
   ]
  },
  {
   "cell_type": "code",
   "execution_count": 19,
   "id": "30a2347b-bff6-4e9a-973b-bfd3c7244a74",
   "metadata": {
    "tags": []
   },
   "outputs": [],
   "source": [
    "# define X and y\n",
    "X = listings_dummy[features]\n",
    "y = listings_dummy['rating']"
   ]
  },
  {
   "cell_type": "code",
   "execution_count": 20,
   "id": "8d3077f6-8ecd-46c0-9625-d4f4e195547f",
   "metadata": {},
   "outputs": [],
   "source": [
    "X_train, X_test, y_train, y_test = train_test_split(X, y, random_state=42)"
   ]
  },
  {
   "cell_type": "code",
   "execution_count": 21,
   "id": "37497763-1c9d-4b2f-afe6-e26b0ecd81b4",
   "metadata": {},
   "outputs": [
    {
     "name": "stdout",
     "output_type": "stream",
     "text": [
      "(7998, 110)\n",
      "(2666, 110)\n"
     ]
    }
   ],
   "source": [
    "print(X_train.shape)\n",
    "print(X_test.shape)"
   ]
  },
  {
   "cell_type": "markdown",
   "id": "77b3c66b-49f9-4f09-b525-7c233ba0892b",
   "metadata": {},
   "source": [
    "## Fit Linear Regression"
   ]
  },
  {
   "cell_type": "code",
   "execution_count": 89,
   "id": "af8c78a3-93f5-4631-9f8b-e30eb6019bd8",
   "metadata": {},
   "outputs": [
    {
     "name": "stdout",
     "output_type": "stream",
     "text": [
      "training accuracy: 0.1152320782332733\n",
      "test accuracy: -1.0491998488384041e+25\n"
     ]
    }
   ],
   "source": [
    "# see if standardizing improves performance\n",
    "# avoid KNN this time as it doesn't typically do well with high dimensionality\n",
    "lr = LinearRegression()\n",
    "lr.fit(X_train_sc, y_train)\n",
    "\n",
    "print(f'training accuracy: {lr.score(X_train_sc, y_train)}')\n",
    "print(f'test accuracy: {lr.score(X_test_sc, y_test)}')"
   ]
  },
  {
   "cell_type": "markdown",
   "id": "c66113ce-1ab5-4161-a68a-d44a17f584fa",
   "metadata": {},
   "source": [
    "------\n",
    "## Random Forest"
   ]
  },
  {
   "cell_type": "code",
   "execution_count": 28,
   "id": "e93dfa9e-e200-4462-9e61-d28aa31e8895",
   "metadata": {},
   "outputs": [
    {
     "name": "stdout",
     "output_type": "stream",
     "text": [
      "110\n"
     ]
    },
    {
     "data": {
      "text/plain": [
       "RandomForestRegressor()"
      ]
     },
     "execution_count": 28,
     "metadata": {},
     "output_type": "execute_result"
    }
   ],
   "source": [
    "# Try Random Forest\n",
    "features = [col for col in listings_dummy._get_numeric_data().columns if col != 'rating_target' and col != 'rating']\n",
    "print(len(features))\n",
    "\n",
    "# define X and y\n",
    "X = listings_dummy[features]\n",
    "y = listings_dummy['rating']\n",
    "\n",
    "# stratify = y\n",
    "X_train, X_test, y_train, y_test = train_test_split(X, y, random_state=42)\n",
    "\n",
    "rf = RandomForestRegressor(n_estimators = 100)\n",
    "rf.fit(X_train, y_train)"
   ]
  },
  {
   "cell_type": "code",
   "execution_count": 29,
   "id": "aef87167-5285-4348-9851-1ae16301c0fd",
   "metadata": {},
   "outputs": [
    {
     "name": "stdout",
     "output_type": "stream",
     "text": [
      "0.5147209801571296\n",
      "0.9411982642132287\n",
      "0.5653586176492986\n"
     ]
    }
   ],
   "source": [
    "# evaluating performance\n",
    "print(cross_val_score(rf, X_train, y_train, cv = 5).mean())\n",
    "print(rf.score(X_train, y_train))\n",
    "print(rf.score(X_test, y_test))"
   ]
  },
  {
   "cell_type": "markdown",
   "id": "af38a0c5-3a1a-4afd-b9c7-3271c49ed49c",
   "metadata": {},
   "source": [
    "# Boosted Model"
   ]
  },
  {
   "cell_type": "code",
   "execution_count": 82,
   "id": "402cd2a8-780f-4d5d-b1cf-bb04bf742b13",
   "metadata": {},
   "outputs": [
    {
     "name": "stdout",
     "output_type": "stream",
     "text": [
      "-0.16744050006537042\n",
      "-0.07976905016474345\n",
      "-0.2444852336429182\n"
     ]
    }
   ],
   "source": [
    "ada = AdaBoostRegressor()\n",
    "ada.fit(X_train, y_train)\n",
    "\n",
    "# evaluating performance\n",
    "print(cross_val_score(ada, X_train, y_train, cv = 5).mean())\n",
    "print(ada.score(X_train, y_train))\n",
    "print(ada.score(X_test, y_test))"
   ]
  },
  {
   "cell_type": "markdown",
   "id": "a2f8be2b-49b6-44e8-a74b-95296be9961a",
   "metadata": {},
   "source": [
    "-------"
   ]
  },
  {
   "cell_type": "markdown",
   "id": "bcc115e1-e27c-4303-acbf-880cb7498299",
   "metadata": {
    "tags": []
   },
   "source": [
    "# **Dimensionality Reduction**"
   ]
  },
  {
   "cell_type": "markdown",
   "id": "7847386d-bf8e-48d6-b720-67d1b46d4a0d",
   "metadata": {},
   "source": [
    "## *PCA*"
   ]
  },
  {
   "cell_type": "code",
   "execution_count": 56,
   "id": "0845d212-3fd6-49d1-a7c8-bccd40adb1c2",
   "metadata": {},
   "outputs": [],
   "source": [
    "# Improve the model and focus on Random Forest moving forward"
   ]
  },
  {
   "cell_type": "code",
   "execution_count": 31,
   "id": "116ebb29-b02f-4f85-bf59-ee10c922103d",
   "metadata": {},
   "outputs": [],
   "source": [
    "features = [col for col in listings_dummy._get_numeric_data().columns if col != 'rating_target' and col != 'rating']\n",
    "\n",
    "# define X and y\n",
    "X = listings_dummy[features]\n",
    "y = listings_dummy['rating']\n",
    "\n",
    "# split\n",
    "X_train, X_test, y_train, y_test = train_test_split(X, y, random_state=42)\n",
    "\n",
    "# Standardize before applying PCA\n",
    "ss = StandardScaler()\n",
    "X_train_sc = ss.fit_transform(X_train)\n",
    "X_test_sc = ss.transform(X_test)"
   ]
  },
  {
   "cell_type": "code",
   "execution_count": 32,
   "id": "cf5e061b-1e5a-4962-8593-5d83a1f21acb",
   "metadata": {},
   "outputs": [],
   "source": [
    "# Instantiate PCA.\n",
    "pca = PCA(random_state=42)\n",
    "\n",
    "# Fit_transform PCA on the training data.\n",
    "Z_train = pca.fit_transform(X_train_sc)\n",
    "\n",
    "# Don't forget to transform the test data!\n",
    "Z_test = pca.transform(X_test_sc)"
   ]
  },
  {
   "cell_type": "code",
   "execution_count": 35,
   "id": "79d4e097-d965-4775-b1db-09e2a7e6e074",
   "metadata": {},
   "outputs": [
    {
     "name": "stdout",
     "output_type": "stream",
     "text": [
      "Explained variance (first 20 components): [0.06 0.04 0.03 0.03 0.02 0.02 0.02 0.02 0.02 0.02 0.01 0.01 0.01 0.01\n",
      " 0.01 0.01 0.01 0.01 0.01 0.01]\n",
      "*********************************************\n",
      "Cumulative explained variance (first 20 components): [0.055 0.099 0.132 0.158 0.181 0.202 0.222 0.241 0.259 0.275 0.29  0.304\n",
      " 0.318 0.331 0.343 0.356 0.368 0.38  0.392 0.404 0.415 0.426 0.437 0.448\n",
      " 0.459 0.469 0.48  0.49  0.501 0.511 0.521 0.531 0.541 0.551 0.561 0.571\n",
      " 0.581 0.59  0.6   0.61  0.619 0.629 0.638 0.648 0.657 0.666 0.676 0.685\n",
      " 0.694 0.704 0.713 0.722 0.732 0.741 0.75  0.759 0.768 0.777 0.785 0.794\n",
      " 0.803]\n"
     ]
    }
   ],
   "source": [
    "# this code was adapted from lesson 7.04 on PCA\n",
    "# Pull the explained variance attribute.\n",
    "var_exp = pca.explained_variance_ratio_\n",
    "print(f'Explained variance (first 20 components): {np.round(var_exp[:20], 2)}')\n",
    "\n",
    "print('*'*45)\n",
    "\n",
    "# Generate the cumulative explained variance.\n",
    "cum_var_exp = np.cumsum(var_exp)\n",
    "print(f'Cumulative explained variance (first 20 components): {np.round(cum_var_exp[:61], 3)}')"
   ]
  },
  {
   "cell_type": "code",
   "execution_count": 36,
   "id": "e75030ec-e58d-4b61-a132-54aab66096c5",
   "metadata": {},
   "outputs": [],
   "source": [
    "# we can see from principle component analysis that the features included are having a difficult time modeling the multi-class rating target\n",
    "# had to include 61 features to explain 80% of the variance in the rating target"
   ]
  },
  {
   "cell_type": "markdown",
   "id": "6be485c0-e445-4edc-8887-df3433f6c800",
   "metadata": {},
   "source": [
    "#### Check whether model performance improves"
   ]
  },
  {
   "cell_type": "code",
   "execution_count": 37,
   "id": "d9001080-9921-4773-bc93-90864e9fef98",
   "metadata": {},
   "outputs": [],
   "source": [
    "# Instantiate PCA with 10 components. \n",
    "pca = PCA(n_components=10, random_state=42)\n",
    "\n",
    "# fit pca\n",
    "Z_train = pca.fit_transform(X_train_sc)\n",
    "Z_test = pca.transform(X_test_sc)"
   ]
  },
  {
   "cell_type": "code",
   "execution_count": 38,
   "id": "a23f71f1-9996-45a9-9bc2-b6015ee8d2e4",
   "metadata": {},
   "outputs": [
    {
     "name": "stdout",
     "output_type": "stream",
     "text": [
      "0.9054385614349382\n",
      "0.3288653610630158\n"
     ]
    }
   ],
   "source": [
    "rf = RandomForestRegressor(n_estimators = 100)\n",
    "rf.fit(Z_train, y_train)\n",
    "\n",
    "# evaluating performance\n",
    "print(rf.score(Z_train, y_train))\n",
    "print(rf.score(Z_test, y_test))"
   ]
  },
  {
   "cell_type": "code",
   "execution_count": 47,
   "id": "e461ade8-4300-4dab-b2bd-04f4f5ad1d1d",
   "metadata": {},
   "outputs": [
    {
     "name": "stdout",
     "output_type": "stream",
     "text": [
      "0.48185499715736124\n",
      "0.14911535168821421\n"
     ]
    }
   ],
   "source": [
    "pca = PCA(n_components=10, random_state=42)\n",
    "\n",
    "# fit pca\n",
    "Z_train = pca.fit_transform(X_train_sc)\n",
    "Z_test = pca.transform(X_test_sc)\n",
    "\n",
    "knn = KNeighborsRegressor()\n",
    "knn.fit(Z_train, y_train)\n",
    "\n",
    "# evaluating performance\n",
    "print(knn.score(Z_train, y_train))\n",
    "print(knn.score(Z_test, y_test))"
   ]
  },
  {
   "cell_type": "code",
   "execution_count": 40,
   "id": "1c64d2dc-eef9-463e-816e-1e242f7f2aa9",
   "metadata": {},
   "outputs": [
    {
     "name": "stdout",
     "output_type": "stream",
     "text": [
      "0.9099019045652104\n",
      "0.33331340608441207\n"
     ]
    }
   ],
   "source": [
    "# try more components (64)\n",
    "pca = PCA(n_components=64, random_state=42)\n",
    "\n",
    "# fit pca\n",
    "Z_train = pca.fit_transform(X_train_sc)\n",
    "Z_test = pca.transform(X_test_sc)\n",
    "\n",
    "rf = RandomForestRegressor(n_estimators = 100)\n",
    "rf.fit(Z_train, y_train)\n",
    "\n",
    "# evaluating performance\n",
    "print(rf.score(Z_train, y_train))\n",
    "print(rf.score(Z_test, y_test))"
   ]
  },
  {
   "cell_type": "code",
   "execution_count": 48,
   "id": "34a58551-f577-4afa-94d4-c0e12e70c04e",
   "metadata": {},
   "outputs": [
    {
     "name": "stdout",
     "output_type": "stream",
     "text": [
      "0.0988605852625295\n",
      "0.09088105323886975\n"
     ]
    }
   ],
   "source": [
    "# Linear Regression?\n",
    "pca = PCA(n_components=64, random_state=42)\n",
    "\n",
    "# fit pca\n",
    "Z_train = pca.fit_transform(X_train_sc)\n",
    "Z_test = pca.transform(X_test_sc)\n",
    "\n",
    "lr = LinearRegression()\n",
    "lr.fit(Z_train, y_train)\n",
    "\n",
    "# evaluating performance\n",
    "print(lr.score(Z_train, y_train))\n",
    "print(lr.score(Z_test, y_test))"
   ]
  },
  {
   "cell_type": "code",
   "execution_count": 41,
   "id": "d01b6419-0e0e-4f8f-9c64-e8f49bf8eb1c",
   "metadata": {},
   "outputs": [
    {
     "name": "stdout",
     "output_type": "stream",
     "text": [
      "0.9031706305796451\n",
      "0.3615952201705598\n"
     ]
    }
   ],
   "source": [
    "# try more components (85)\n",
    "pca = PCA(n_components=85, random_state=42)\n",
    "\n",
    "# fit pca\n",
    "Z_train = pca.fit_transform(X_train_sc)\n",
    "Z_test = pca.transform(X_test_sc)\n",
    "\n",
    "rf = RandomForestRegressor(n_estimators = 100)\n",
    "rf.fit(Z_train, y_train)\n",
    "\n",
    "# evaluating performance\n",
    "print(rf.score(Z_train, y_train))\n",
    "print(rf.score(Z_test, y_test))"
   ]
  },
  {
   "cell_type": "markdown",
   "id": "a785ecdd-c1f5-419d-a7a2-7a6e34679c3e",
   "metadata": {},
   "source": [
    "Still heavily overfit. "
   ]
  },
  {
   "cell_type": "markdown",
   "id": "5f22c226-f5ab-448d-a7de-1d0840e7619e",
   "metadata": {},
   "source": [
    "## *Transfer Learning and Clustering*\n",
    "**kmeans clustering**"
   ]
  },
  {
   "cell_type": "code",
   "execution_count": 49,
   "id": "4e8f127b-b3ab-441e-9e20-4b53060d64be",
   "metadata": {},
   "outputs": [
    {
     "data": {
      "text/plain": [
       "KMeans(n_clusters=26, random_state=42)"
      ]
     },
     "execution_count": 49,
     "metadata": {},
     "output_type": "execute_result"
    }
   ],
   "source": [
    "# define X \n",
    "X = listings[['latitude','longitude']]\n",
    "\n",
    "# went with 26 clusters for the 26 neighborhoods in Boston \n",
    "km = KMeans(n_clusters = 26, random_state=42)\n",
    "km.fit(X)"
   ]
  },
  {
   "cell_type": "code",
   "execution_count": 50,
   "id": "875a7241-e47c-48de-8245-f78d2065ec23",
   "metadata": {},
   "outputs": [
    {
     "data": {
      "text/plain": [
       "0.43482256864875785"
      ]
     },
     "execution_count": 50,
     "metadata": {},
     "output_type": "execute_result"
    }
   ],
   "source": [
    "silhouette_score(X, km.labels_)"
   ]
  },
  {
   "cell_type": "code",
   "execution_count": 51,
   "id": "3c40af66-930a-4ef6-85a0-09f2e781419f",
   "metadata": {},
   "outputs": [
    {
     "data": {
      "image/png": "[encoded data removed]",
      "text/plain": [
       "<Figure size 720x720 with 1 Axes>"
      ]
     },
     "metadata": {
      "needs_background": "light"
     },
     "output_type": "display_data"
    }
   ],
   "source": [
    "# plotting these clusters \n",
    "plt.figure(figsize=(10, 10))\n",
    "plt.scatter(listings['longitude'], listings['latitude'], c=km.labels_, s=1, cmap=\"tab20\");"
   ]
  },
  {
   "cell_type": "code",
   "execution_count": 52,
   "id": "bd94434f-83f9-4341-ab82-4bb4a07f7395",
   "metadata": {},
   "outputs": [
    {
     "data": {
      "text/html": [
       "<div>\n",
       "<style scoped>\n",
       "    .dataframe tbody tr th:only-of-type {\n",
       "        vertical-align: middle;\n",
       "    }\n",
       "\n",
       "    .dataframe tbody tr th {\n",
       "        vertical-align: top;\n",
       "    }\n",
       "\n",
       "    .dataframe thead th {\n",
       "        text-align: right;\n",
       "    }\n",
       "</style>\n",
       "<table border=\"1\" class=\"dataframe\">\n",
       "  <thead>\n",
       "    <tr style=\"text-align: right;\">\n",
       "      <th></th>\n",
       "      <th>id</th>\n",
       "      <th>last_scraped</th>\n",
       "      <th>name</th>\n",
       "      <th>description</th>\n",
       "      <th>host_id</th>\n",
       "      <th>host_name</th>\n",
       "      <th>host_since</th>\n",
       "      <th>host_response_time</th>\n",
       "      <th>host_response_rate</th>\n",
       "      <th>host_is_superhost</th>\n",
       "      <th>...</th>\n",
       "      <th>cluster_16</th>\n",
       "      <th>cluster_17</th>\n",
       "      <th>cluster_18</th>\n",
       "      <th>cluster_19</th>\n",
       "      <th>cluster_20</th>\n",
       "      <th>cluster_21</th>\n",
       "      <th>cluster_22</th>\n",
       "      <th>cluster_23</th>\n",
       "      <th>cluster_24</th>\n",
       "      <th>cluster_25</th>\n",
       "    </tr>\n",
       "  </thead>\n",
       "  <tbody>\n",
       "    <tr>\n",
       "      <th>0</th>\n",
       "      <td>3781</td>\n",
       "      <td>2021-09-19</td>\n",
       "      <td>HARBORSIDE-Walk to subway</td>\n",
       "      <td>Fully separate apartment in a two apartment bu...</td>\n",
       "      <td>4804</td>\n",
       "      <td>Frank</td>\n",
       "      <td>2008-12-03</td>\n",
       "      <td>3</td>\n",
       "      <td>100.0</td>\n",
       "      <td>0</td>\n",
       "      <td>...</td>\n",
       "      <td>0</td>\n",
       "      <td>0</td>\n",
       "      <td>0</td>\n",
       "      <td>0</td>\n",
       "      <td>0</td>\n",
       "      <td>0</td>\n",
       "      <td>0</td>\n",
       "      <td>0</td>\n",
       "      <td>0</td>\n",
       "      <td>0</td>\n",
       "    </tr>\n",
       "    <tr>\n",
       "      <th>1</th>\n",
       "      <td>5506</td>\n",
       "      <td>2021-09-19</td>\n",
       "      <td>** Private! Minutes to center!**</td>\n",
       "      <td>Private guest room with private bath, You do n...</td>\n",
       "      <td>8229</td>\n",
       "      <td>Terry</td>\n",
       "      <td>2009-02-19</td>\n",
       "      <td>3</td>\n",
       "      <td>100.0</td>\n",
       "      <td>1</td>\n",
       "      <td>...</td>\n",
       "      <td>0</td>\n",
       "      <td>0</td>\n",
       "      <td>0</td>\n",
       "      <td>0</td>\n",
       "      <td>0</td>\n",
       "      <td>0</td>\n",
       "      <td>0</td>\n",
       "      <td>0</td>\n",
       "      <td>1</td>\n",
       "      <td>0</td>\n",
       "    </tr>\n",
       "  </tbody>\n",
       "</table>\n",
       "<p>2 rows × 148 columns</p>\n",
       "</div>"
      ],
      "text/plain": [
       "     id last_scraped                              name  \\\n",
       "0  3781   2021-09-19         HARBORSIDE-Walk to subway   \n",
       "1  5506   2021-09-19  ** Private! Minutes to center!**   \n",
       "\n",
       "                                         description  host_id host_name  \\\n",
       "0  Fully separate apartment in a two apartment bu...     4804     Frank   \n",
       "1  Private guest room with private bath, You do n...     8229     Terry   \n",
       "\n",
       "   host_since  host_response_time  host_response_rate  host_is_superhost  ...  \\\n",
       "0  2008-12-03                   3               100.0                  0  ...   \n",
       "1  2009-02-19                   3               100.0                  1  ...   \n",
       "\n",
       "   cluster_16 cluster_17  cluster_18  cluster_19  cluster_20  cluster_21  \\\n",
       "0           0          0           0           0           0           0   \n",
       "1           0          0           0           0           0           0   \n",
       "\n",
       "   cluster_22  cluster_23 cluster_24  cluster_25  \n",
       "0           0           0          0           0  \n",
       "1           0           0          1           0  \n",
       "\n",
       "[2 rows x 148 columns]"
      ]
     },
     "execution_count": 52,
     "metadata": {},
     "output_type": "execute_result"
    }
   ],
   "source": [
    "# adding new column to dataframe for the clusters\n",
    "df = listings_dummy.copy()\n",
    "df['cluster'] = km.labels_\n",
    "\n",
    "df = pd.get_dummies(df, columns = ['cluster'], drop_first= True)\n",
    "df.head(2)"
   ]
  },
  {
   "cell_type": "code",
   "execution_count": 54,
   "id": "921dd9d5-a22c-455d-82ed-c8e1e6ae416a",
   "metadata": {},
   "outputs": [
    {
     "name": "stdout",
     "output_type": "stream",
     "text": [
      "135\n"
     ]
    },
    {
     "data": {
      "text/plain": [
       "RandomForestRegressor()"
      ]
     },
     "execution_count": 54,
     "metadata": {},
     "output_type": "execute_result"
    }
   ],
   "source": [
    "# Try Random Forest\n",
    "features = [col for col in df._get_numeric_data().columns if col != 'rating_target' and col != 'rating']\n",
    "print(len(features))\n",
    "\n",
    "# define X and y\n",
    "X = df[features]\n",
    "y = df['rating']\n",
    "\n",
    "# stratify = y\n",
    "X_train, X_test, y_train, y_test = train_test_split(X, y, random_state=42)\n",
    "\n",
    "rf = RandomForestRegressor(n_estimators = 100)\n",
    "rf.fit(X_train, y_train)"
   ]
  },
  {
   "cell_type": "code",
   "execution_count": 55,
   "id": "8e943140-0ceb-463c-902d-b75528711e3e",
   "metadata": {},
   "outputs": [
    {
     "name": "stdout",
     "output_type": "stream",
     "text": [
      "Train score: 0.9408608711830876\n",
      "Test score: 0.5731419026378838\n"
     ]
    }
   ],
   "source": [
    "# evaluating performance\n",
    "print(f'Train score: {rf.score(X_train, y_train)}')\n",
    "print(f'Test score: {rf.score(X_test, y_test)}')"
   ]
  },
  {
   "cell_type": "code",
   "execution_count": 56,
   "id": "fd52e8ab-cff2-4b3f-bc10-a82ac77961a1",
   "metadata": {},
   "outputs": [
    {
     "data": {
      "text/plain": [
       "KMeans(n_clusters=26, random_state=42)"
      ]
     },
     "execution_count": 56,
     "metadata": {},
     "output_type": "execute_result"
    }
   ],
   "source": [
    "# trying to cluster around more features\n",
    "# define X \n",
    "X = listings[['latitude','longitude', 'amenities_count', 'host_response_time', \n",
    "           'host_response_rate', 'accommodates']]\n",
    "\n",
    "# went with 26 clusters for the 26 neighborhoods in Boston \n",
    "km = KMeans(n_clusters = 26, random_state=42)\n",
    "km.fit(X)"
   ]
  },
  {
   "cell_type": "code",
   "execution_count": 57,
   "id": "43f22240-8456-467f-8d15-8609ecf436a4",
   "metadata": {},
   "outputs": [
    {
     "data": {
      "text/plain": [
       "0.3447537448849499"
      ]
     },
     "execution_count": 57,
     "metadata": {},
     "output_type": "execute_result"
    }
   ],
   "source": [
    "silhouette_score(X, km.labels_)"
   ]
  },
  {
   "cell_type": "code",
   "execution_count": 58,
   "id": "f423cdff-05b8-476a-9e51-54e6eab20efd",
   "metadata": {},
   "outputs": [
    {
     "data": {
      "text/html": [
       "<div>\n",
       "<style scoped>\n",
       "    .dataframe tbody tr th:only-of-type {\n",
       "        vertical-align: middle;\n",
       "    }\n",
       "\n",
       "    .dataframe tbody tr th {\n",
       "        vertical-align: top;\n",
       "    }\n",
       "\n",
       "    .dataframe thead th {\n",
       "        text-align: right;\n",
       "    }\n",
       "</style>\n",
       "<table border=\"1\" class=\"dataframe\">\n",
       "  <thead>\n",
       "    <tr style=\"text-align: right;\">\n",
       "      <th></th>\n",
       "      <th>id</th>\n",
       "      <th>last_scraped</th>\n",
       "      <th>name</th>\n",
       "      <th>description</th>\n",
       "      <th>host_id</th>\n",
       "      <th>host_name</th>\n",
       "      <th>host_since</th>\n",
       "      <th>host_response_time</th>\n",
       "      <th>host_response_rate</th>\n",
       "      <th>host_is_superhost</th>\n",
       "      <th>...</th>\n",
       "      <th>cluster_16</th>\n",
       "      <th>cluster_17</th>\n",
       "      <th>cluster_18</th>\n",
       "      <th>cluster_19</th>\n",
       "      <th>cluster_20</th>\n",
       "      <th>cluster_21</th>\n",
       "      <th>cluster_22</th>\n",
       "      <th>cluster_23</th>\n",
       "      <th>cluster_24</th>\n",
       "      <th>cluster_25</th>\n",
       "    </tr>\n",
       "  </thead>\n",
       "  <tbody>\n",
       "    <tr>\n",
       "      <th>0</th>\n",
       "      <td>3781</td>\n",
       "      <td>2021-09-19</td>\n",
       "      <td>HARBORSIDE-Walk to subway</td>\n",
       "      <td>Fully separate apartment in a two apartment bu...</td>\n",
       "      <td>4804</td>\n",
       "      <td>Frank</td>\n",
       "      <td>2008-12-03</td>\n",
       "      <td>3</td>\n",
       "      <td>100.0</td>\n",
       "      <td>0</td>\n",
       "      <td>...</td>\n",
       "      <td>0</td>\n",
       "      <td>0</td>\n",
       "      <td>0</td>\n",
       "      <td>0</td>\n",
       "      <td>0</td>\n",
       "      <td>0</td>\n",
       "      <td>1</td>\n",
       "      <td>0</td>\n",
       "      <td>0</td>\n",
       "      <td>0</td>\n",
       "    </tr>\n",
       "    <tr>\n",
       "      <th>1</th>\n",
       "      <td>5506</td>\n",
       "      <td>2021-09-19</td>\n",
       "      <td>** Private! Minutes to center!**</td>\n",
       "      <td>Private guest room with private bath, You do n...</td>\n",
       "      <td>8229</td>\n",
       "      <td>Terry</td>\n",
       "      <td>2009-02-19</td>\n",
       "      <td>3</td>\n",
       "      <td>100.0</td>\n",
       "      <td>1</td>\n",
       "      <td>...</td>\n",
       "      <td>0</td>\n",
       "      <td>0</td>\n",
       "      <td>0</td>\n",
       "      <td>0</td>\n",
       "      <td>0</td>\n",
       "      <td>0</td>\n",
       "      <td>1</td>\n",
       "      <td>0</td>\n",
       "      <td>0</td>\n",
       "      <td>0</td>\n",
       "    </tr>\n",
       "  </tbody>\n",
       "</table>\n",
       "<p>2 rows × 148 columns</p>\n",
       "</div>"
      ],
      "text/plain": [
       "     id last_scraped                              name  \\\n",
       "0  3781   2021-09-19         HARBORSIDE-Walk to subway   \n",
       "1  5506   2021-09-19  ** Private! Minutes to center!**   \n",
       "\n",
       "                                         description  host_id host_name  \\\n",
       "0  Fully separate apartment in a two apartment bu...     4804     Frank   \n",
       "1  Private guest room with private bath, You do n...     8229     Terry   \n",
       "\n",
       "   host_since  host_response_time  host_response_rate  host_is_superhost  ...  \\\n",
       "0  2008-12-03                   3               100.0                  0  ...   \n",
       "1  2009-02-19                   3               100.0                  1  ...   \n",
       "\n",
       "   cluster_16 cluster_17  cluster_18  cluster_19  cluster_20  cluster_21  \\\n",
       "0           0          0           0           0           0           0   \n",
       "1           0          0           0           0           0           0   \n",
       "\n",
       "   cluster_22  cluster_23 cluster_24  cluster_25  \n",
       "0           1           0          0           0  \n",
       "1           1           0          0           0  \n",
       "\n",
       "[2 rows x 148 columns]"
      ]
     },
     "execution_count": 58,
     "metadata": {},
     "output_type": "execute_result"
    }
   ],
   "source": [
    "# adding new column to dataframe for the clusters\n",
    "df = listings_dummy.copy()\n",
    "df['cluster'] = km.labels_\n",
    "\n",
    "df = pd.get_dummies(df, columns = ['cluster'], drop_first= True)\n",
    "df.head(2)"
   ]
  },
  {
   "cell_type": "code",
   "execution_count": 59,
   "id": "02b9c9f0-183e-4e69-a1c0-2584f1c9fd48",
   "metadata": {},
   "outputs": [
    {
     "name": "stdout",
     "output_type": "stream",
     "text": [
      "135\n"
     ]
    },
    {
     "data": {
      "text/plain": [
       "RandomForestRegressor()"
      ]
     },
     "execution_count": 59,
     "metadata": {},
     "output_type": "execute_result"
    }
   ],
   "source": [
    "# Try Random Forest\n",
    "features = [col for col in df._get_numeric_data().columns if col != 'rating_target' and col != 'rating']\n",
    "print(len(features))\n",
    "\n",
    "# define X and y\n",
    "X = df[features]\n",
    "y = df['rating']\n",
    "\n",
    "# stratify = y\n",
    "X_train, X_test, y_train, y_test = train_test_split(X, y, random_state=42)\n",
    "\n",
    "rf = RandomForestRegressor(n_estimators = 100)\n",
    "rf.fit(X_train, y_train)"
   ]
  },
  {
   "cell_type": "code",
   "execution_count": 60,
   "id": "e888805d-b501-49e0-b4f4-8f5fab7fd55c",
   "metadata": {},
   "outputs": [
    {
     "name": "stdout",
     "output_type": "stream",
     "text": [
      "Train score: 0.9453037720305036\n",
      "Test score: 0.5819690878641481\n"
     ]
    }
   ],
   "source": [
    "# evaluating performance\n",
    "print(f'Train score: {rf.score(X_train, y_train)}')\n",
    "print(f'Test score: {rf.score(X_test, y_test)}')"
   ]
  },
  {
   "cell_type": "markdown",
   "id": "acba4dd6-31bd-4f7d-a071-673d1b8e2cd1",
   "metadata": {},
   "source": [
    "Slight improvement - try to find the optimal k"
   ]
  },
  {
   "cell_type": "code",
   "execution_count": 61,
   "id": "73317e21-d451-406f-9e97-0ca563d8cf63",
   "metadata": {},
   "outputs": [
    {
     "data": {
      "image/png": "[encoded data removed]",
      "text/plain": [
       "<Figure size 432x288 with 1 Axes>"
      ]
     },
     "metadata": {
      "needs_background": "light"
     },
     "output_type": "display_data"
    }
   ],
   "source": [
    "inertia_list = []\n",
    "\n",
    "for k in range(1,30):\n",
    "    kmeans = KMeans(n_clusters = k, random_state=42)\n",
    "    kmeans.fit(X)\n",
    "    inertia_list.append(kmeans.inertia_)\n",
    "    \n",
    "plt.plot(range(1,30), inertia_list, marker = 'o')\n",
    "plt.xlabel('# of clusters')\n",
    "plt.ylabel('Inertia')\n",
    "plt.title('Inertia Scores');"
   ]
  },
  {
   "cell_type": "code",
   "execution_count": 62,
   "id": "f4d35c89-ad29-4806-8396-8e6806a5b3e2",
   "metadata": {},
   "outputs": [
    {
     "data": {
      "image/png": "[encoded data removed]",
      "text/plain": [
       "<Figure size 432x288 with 1 Axes>"
      ]
     },
     "metadata": {
      "needs_background": "light"
     },
     "output_type": "display_data"
    }
   ],
   "source": [
    "silhouette_list = []\n",
    "\n",
    "for k in range(2, 30):   # need at least 2 to have separation\n",
    "    kmeans = KMeans(n_clusters = k, random_state=42)\n",
    "    kmeans.fit(X)\n",
    "    silhouette_list.append(silhouette_score(X, kmeans.labels_))\n",
    "    \n",
    "plt.plot(range(2, 30), silhouette_list, marker='o')\n",
    "plt.xlabel('# of Clusters')\n",
    "plt.ylabel('Score')\n",
    "plt.title('Silhouette Scores')\n",
    "plt.xticks(range(0, 30));"
   ]
  },
  {
   "cell_type": "code",
   "execution_count": 65,
   "id": "1f90fda9-fafa-4c2d-b5a2-b68ff9ea5478",
   "metadata": {},
   "outputs": [
    {
     "data": {
      "text/plain": [
       "KMeans(n_clusters=2, random_state=42)"
      ]
     },
     "execution_count": 65,
     "metadata": {},
     "output_type": "execute_result"
    }
   ],
   "source": [
    "# trying to cluster around more features\n",
    "# define X \n",
    "X = listings[['latitude','longitude', 'amenities_count', 'host_response_time', \n",
    "           'host_response_rate', 'accommodates']]\n",
    "\n",
    "# 2 clusters appears optimal\n",
    "km = KMeans(n_clusters = 2, random_state=42)\n",
    "km.fit(X)"
   ]
  },
  {
   "cell_type": "code",
   "execution_count": 66,
   "id": "294052d4-6671-42e4-9bd6-5b398160235d",
   "metadata": {},
   "outputs": [
    {
     "data": {
      "text/plain": [
       "0.7488525649323489"
      ]
     },
     "execution_count": 66,
     "metadata": {},
     "output_type": "execute_result"
    }
   ],
   "source": [
    "silhouette_score(X, km.labels_)"
   ]
  },
  {
   "cell_type": "code",
   "execution_count": 67,
   "id": "2caf17b4-b82c-41d5-91df-0210539aeb3f",
   "metadata": {},
   "outputs": [
    {
     "data": {
      "text/html": [
       "<div>\n",
       "<style scoped>\n",
       "    .dataframe tbody tr th:only-of-type {\n",
       "        vertical-align: middle;\n",
       "    }\n",
       "\n",
       "    .dataframe tbody tr th {\n",
       "        vertical-align: top;\n",
       "    }\n",
       "\n",
       "    .dataframe thead th {\n",
       "        text-align: right;\n",
       "    }\n",
       "</style>\n",
       "<table border=\"1\" class=\"dataframe\">\n",
       "  <thead>\n",
       "    <tr style=\"text-align: right;\">\n",
       "      <th></th>\n",
       "      <th>id</th>\n",
       "      <th>last_scraped</th>\n",
       "      <th>name</th>\n",
       "      <th>description</th>\n",
       "      <th>host_id</th>\n",
       "      <th>host_name</th>\n",
       "      <th>host_since</th>\n",
       "      <th>host_response_time</th>\n",
       "      <th>host_response_rate</th>\n",
       "      <th>host_is_superhost</th>\n",
       "      <th>...</th>\n",
       "      <th>property_type_Shared room in condominium (condo)</th>\n",
       "      <th>property_type_Shared room in home</th>\n",
       "      <th>property_type_Shared room in rental unit</th>\n",
       "      <th>property_type_Shared room in residential home</th>\n",
       "      <th>property_type_Shared room in townhouse</th>\n",
       "      <th>property_type_Tiny home</th>\n",
       "      <th>room_type_Hotel room</th>\n",
       "      <th>room_type_Private room</th>\n",
       "      <th>room_type_Shared room</th>\n",
       "      <th>cluster_1</th>\n",
       "    </tr>\n",
       "  </thead>\n",
       "  <tbody>\n",
       "    <tr>\n",
       "      <th>0</th>\n",
       "      <td>3781</td>\n",
       "      <td>2021-09-19</td>\n",
       "      <td>HARBORSIDE-Walk to subway</td>\n",
       "      <td>Fully separate apartment in a two apartment bu...</td>\n",
       "      <td>4804</td>\n",
       "      <td>Frank</td>\n",
       "      <td>2008-12-03</td>\n",
       "      <td>3</td>\n",
       "      <td>100.0</td>\n",
       "      <td>0</td>\n",
       "      <td>...</td>\n",
       "      <td>0</td>\n",
       "      <td>0</td>\n",
       "      <td>0</td>\n",
       "      <td>0</td>\n",
       "      <td>0</td>\n",
       "      <td>0</td>\n",
       "      <td>0</td>\n",
       "      <td>0</td>\n",
       "      <td>0</td>\n",
       "      <td>0</td>\n",
       "    </tr>\n",
       "    <tr>\n",
       "      <th>1</th>\n",
       "      <td>5506</td>\n",
       "      <td>2021-09-19</td>\n",
       "      <td>** Private! Minutes to center!**</td>\n",
       "      <td>Private guest room with private bath, You do n...</td>\n",
       "      <td>8229</td>\n",
       "      <td>Terry</td>\n",
       "      <td>2009-02-19</td>\n",
       "      <td>3</td>\n",
       "      <td>100.0</td>\n",
       "      <td>1</td>\n",
       "      <td>...</td>\n",
       "      <td>0</td>\n",
       "      <td>0</td>\n",
       "      <td>0</td>\n",
       "      <td>0</td>\n",
       "      <td>0</td>\n",
       "      <td>0</td>\n",
       "      <td>0</td>\n",
       "      <td>0</td>\n",
       "      <td>0</td>\n",
       "      <td>0</td>\n",
       "    </tr>\n",
       "  </tbody>\n",
       "</table>\n",
       "<p>2 rows × 124 columns</p>\n",
       "</div>"
      ],
      "text/plain": [
       "     id last_scraped                              name  \\\n",
       "0  3781   2021-09-19         HARBORSIDE-Walk to subway   \n",
       "1  5506   2021-09-19  ** Private! Minutes to center!**   \n",
       "\n",
       "                                         description  host_id host_name  \\\n",
       "0  Fully separate apartment in a two apartment bu...     4804     Frank   \n",
       "1  Private guest room with private bath, You do n...     8229     Terry   \n",
       "\n",
       "   host_since  host_response_time  host_response_rate  host_is_superhost  ...  \\\n",
       "0  2008-12-03                   3               100.0                  0  ...   \n",
       "1  2009-02-19                   3               100.0                  1  ...   \n",
       "\n",
       "   property_type_Shared room in condominium (condo)  \\\n",
       "0                                                 0   \n",
       "1                                                 0   \n",
       "\n",
       "  property_type_Shared room in home  property_type_Shared room in rental unit  \\\n",
       "0                                 0                                         0   \n",
       "1                                 0                                         0   \n",
       "\n",
       "   property_type_Shared room in residential home  \\\n",
       "0                                              0   \n",
       "1                                              0   \n",
       "\n",
       "   property_type_Shared room in townhouse  property_type_Tiny home  \\\n",
       "0                                       0                        0   \n",
       "1                                       0                        0   \n",
       "\n",
       "   room_type_Hotel room  room_type_Private room room_type_Shared room  \\\n",
       "0                     0                       0                     0   \n",
       "1                     0                       0                     0   \n",
       "\n",
       "   cluster_1  \n",
       "0          0  \n",
       "1          0  \n",
       "\n",
       "[2 rows x 124 columns]"
      ]
     },
     "execution_count": 67,
     "metadata": {},
     "output_type": "execute_result"
    }
   ],
   "source": [
    "# adding new column to dataframe for the clusters\n",
    "df = listings_dummy.copy()\n",
    "df['cluster'] = km.labels_\n",
    "\n",
    "df = pd.get_dummies(df, columns = ['cluster'], drop_first= True)\n",
    "df.head(2)"
   ]
  },
  {
   "cell_type": "code",
   "execution_count": 68,
   "id": "765a6a47-0f67-43dd-a05f-9729c1fc5005",
   "metadata": {},
   "outputs": [
    {
     "name": "stdout",
     "output_type": "stream",
     "text": [
      "111\n"
     ]
    },
    {
     "data": {
      "text/plain": [
       "RandomForestRegressor()"
      ]
     },
     "execution_count": 68,
     "metadata": {},
     "output_type": "execute_result"
    }
   ],
   "source": [
    "# Try Random Forest\n",
    "features = [col for col in df._get_numeric_data().columns if col != 'rating_target' and col != 'rating']\n",
    "print(len(features))\n",
    "\n",
    "# define X and y\n",
    "X = df[features]\n",
    "y = df['rating']\n",
    "\n",
    "# stratify = y\n",
    "X_train, X_test, y_train, y_test = train_test_split(X, y, random_state=42)\n",
    "\n",
    "rf = RandomForestRegressor(n_estimators = 100)\n",
    "rf.fit(X_train, y_train)"
   ]
  },
  {
   "cell_type": "code",
   "execution_count": 69,
   "id": "3cccce15-42aa-48e3-8c66-0dc2275022a5",
   "metadata": {},
   "outputs": [
    {
     "name": "stdout",
     "output_type": "stream",
     "text": [
      "0.5117431957938419\n",
      "Train score: 0.9407981253982346\n",
      "Test score: 0.5713238984148363\n"
     ]
    }
   ],
   "source": [
    "# evaluating performance\n",
    "print(cross_val_score(rf, X_train, y_train, cv = 5).mean())\n",
    "print(f'Train score: {rf.score(X_train, y_train)}')\n",
    "print(f'Test score: {rf.score(X_test, y_test)}')"
   ]
  },
  {
   "cell_type": "markdown",
   "id": "f79318ea-e512-4990-9852-50ad1ac38853",
   "metadata": {},
   "source": [
    "**DBSCAN**"
   ]
  },
  {
   "cell_type": "code",
   "execution_count": 70,
   "id": "27e1e7fd-ce03-46e5-8962-839ae3d21709",
   "metadata": {
    "tags": []
   },
   "outputs": [
    {
     "name": "stdout",
     "output_type": "stream",
     "text": [
      "0.40166279196312477\n",
      "440\n"
     ]
    },
    {
     "data": {
      "text/plain": [
       "array([  0,   1,   2,   3,   4,   5,  -1,   6,   7,   8,   9,  10,  11,\n",
       "        12,  13,  14,  15,  16,  17,  18,  19,  20,  21,  22,  23,  24,\n",
       "        25,  26,  27,  28,  29,  30,  31,  32,  33,  34,  35,  36,  37,\n",
       "        38,  39,  40,  41,  42,  43,  44,  45,  46,  47,  48,  49,  50,\n",
       "        51,  52,  53,  54,  55,  56,  57,  58,  59,  60,  61,  62,  63,\n",
       "        64,  65,  66,  67,  68,  69,  70,  71,  72,  73,  74,  75,  76,\n",
       "        77,  78,  79,  80,  81,  82,  83,  84,  85,  86,  87,  88,  89,\n",
       "        90,  91,  92,  93,  94,  95,  96,  97,  98,  99, 100, 101, 102,\n",
       "       103, 104, 105, 106, 107, 108, 109, 110, 111, 112, 113, 114, 115,\n",
       "       116, 117, 118, 119, 120, 121, 122, 123, 124, 125, 126, 127, 128,\n",
       "       129, 130, 131, 132, 133, 134, 135, 136, 137, 138, 139, 140, 141,\n",
       "       142, 143, 144, 145, 146, 147, 148, 149, 150, 151, 152, 153, 154,\n",
       "       155, 156, 157, 158, 159, 160, 161, 162, 163, 164, 165, 166, 167,\n",
       "       168, 169, 170, 171, 172, 173, 174, 175, 176, 177, 178, 179, 180,\n",
       "       181, 182, 183, 184, 185, 186, 187, 188, 189, 190, 191, 192, 193,\n",
       "       194, 195, 196, 197, 198, 199, 200, 201, 202, 203, 204, 205, 206,\n",
       "       207, 208, 209, 210, 211, 212, 213, 214, 215, 216, 217, 218, 219,\n",
       "       220, 221, 222, 223, 224, 225, 226, 227, 228, 229, 230, 231, 232,\n",
       "       233, 234, 235, 236, 237, 238, 239, 240, 241, 242, 243, 244, 245,\n",
       "       246, 247, 248, 249, 250, 251, 252, 253, 254, 255, 256, 257, 258,\n",
       "       259, 260, 261, 262, 263, 264, 265, 266, 267, 268, 269, 270, 271,\n",
       "       272, 273, 274, 275, 276, 277, 278, 279, 280, 281, 282, 283, 284,\n",
       "       285, 286, 287, 288, 289, 290, 291, 292, 293, 294, 295, 296, 297,\n",
       "       298, 299, 300, 301, 302, 303, 304, 305, 306, 307, 308, 309, 310,\n",
       "       311, 312, 313, 314, 315, 316, 317, 318, 319, 320, 321, 322, 323,\n",
       "       324, 325, 326, 327, 328, 329, 330, 331, 332, 333, 334, 335, 336,\n",
       "       337, 338, 339, 340, 341, 342, 343, 344, 345, 346, 347, 348, 349,\n",
       "       350, 351, 352, 353, 354, 355, 356, 357, 358, 359, 360, 361, 362,\n",
       "       363, 364, 365, 366, 367, 368, 369, 370, 371, 372, 373, 374, 375,\n",
       "       376, 377, 378, 379, 380, 381, 382, 383, 384, 385, 386, 387, 388,\n",
       "       389, 390, 391, 392, 393, 394, 395, 396, 397, 398, 399, 400, 401,\n",
       "       402, 403, 404, 405, 406, 407, 408, 409, 410, 411, 412, 413, 414,\n",
       "       415, 416, 417, 418, 419, 420, 421, 422, 423, 424, 425, 426, 427,\n",
       "       428, 429, 430, 431, 432, 433, 434, 435, 436, 437, 438])"
      ]
     },
     "execution_count": 70,
     "metadata": {},
     "output_type": "execute_result"
    }
   ],
   "source": [
    "# define X \n",
    "X = listings[['latitude','longitude', 'amenities_count', 'host_response_time', \n",
    "           'host_response_rate', 'accommodates']]\n",
    "\n",
    "\n",
    "dbscan = DBSCAN()\n",
    "dbscan.fit(X)\n",
    "\n",
    "print(silhouette_score(X, dbscan.labels_))\n",
    "print(len(pd.Series(dbscan.labels_).unique()))\n",
    "pd.Series(dbscan.labels_).unique()"
   ]
  },
  {
   "cell_type": "code",
   "execution_count": 71,
   "id": "1277ee6a-b58f-4031-b987-a8581d90ff67",
   "metadata": {},
   "outputs": [
    {
     "name": "stdout",
     "output_type": "stream",
     "text": [
      "-0.2700890326845802\n",
      "46\n"
     ]
    },
    {
     "data": {
      "text/plain": [
       "array([ 0, -1,  1, 18,  2, 40,  3,  4, 12,  5,  6,  7,  8, 28,  9, 10, 11,\n",
       "       13, 14, 37, 25, 15, 19, 16, 17, 20, 21, 22, 35, 23, 24, 26, 27, 36,\n",
       "       30, 29, 38, 31, 32, 33, 34, 42, 44, 39, 41, 43])"
      ]
     },
     "execution_count": 71,
     "metadata": {},
     "output_type": "execute_result"
    }
   ],
   "source": [
    "# changing epsilon and minimum samples to reduce cluster numbers\n",
    "dbscan = DBSCAN(eps = 2, min_samples = 5)\n",
    "dbscan.fit(X)\n",
    "\n",
    "print(silhouette_score(X, dbscan.labels_))\n",
    "print(len(pd.Series(dbscan.labels_).unique()))\n",
    "pd.Series(dbscan.labels_).unique()\n"
   ]
  },
  {
   "cell_type": "code",
   "execution_count": 72,
   "id": "bd00d934-b896-4498-a87f-ea27285d1707",
   "metadata": {},
   "outputs": [
    {
     "name": "stdout",
     "output_type": "stream",
     "text": [
      "0.7233743528106137\n",
      "4\n"
     ]
    },
    {
     "data": {
      "text/plain": [
       "array([ 0,  1, -1,  2])"
      ]
     },
     "execution_count": 72,
     "metadata": {},
     "output_type": "execute_result"
    }
   ],
   "source": [
    "# changing epsilon and minimum samples to reduce cluster numbers\n",
    "dbscan = DBSCAN(eps = 6, min_samples = 5)\n",
    "dbscan.fit(X)\n",
    "\n",
    "print(silhouette_score(X, dbscan.labels_))\n",
    "print(len(pd.Series(dbscan.labels_).unique()))\n",
    "pd.Series(dbscan.labels_).unique()"
   ]
  },
  {
   "cell_type": "code",
   "execution_count": 73,
   "id": "0b10a568-95c5-4969-9375-e1907761c627",
   "metadata": {},
   "outputs": [
    {
     "data": {
      "text/html": [
       "<div>\n",
       "<style scoped>\n",
       "    .dataframe tbody tr th:only-of-type {\n",
       "        vertical-align: middle;\n",
       "    }\n",
       "\n",
       "    .dataframe tbody tr th {\n",
       "        vertical-align: top;\n",
       "    }\n",
       "\n",
       "    .dataframe thead th {\n",
       "        text-align: right;\n",
       "    }\n",
       "</style>\n",
       "<table border=\"1\" class=\"dataframe\">\n",
       "  <thead>\n",
       "    <tr style=\"text-align: right;\">\n",
       "      <th></th>\n",
       "      <th>id</th>\n",
       "      <th>last_scraped</th>\n",
       "      <th>name</th>\n",
       "      <th>description</th>\n",
       "      <th>host_id</th>\n",
       "      <th>host_name</th>\n",
       "      <th>host_since</th>\n",
       "      <th>host_response_time</th>\n",
       "      <th>host_response_rate</th>\n",
       "      <th>host_is_superhost</th>\n",
       "      <th>...</th>\n",
       "      <th>property_type_Shared room in rental unit</th>\n",
       "      <th>property_type_Shared room in residential home</th>\n",
       "      <th>property_type_Shared room in townhouse</th>\n",
       "      <th>property_type_Tiny home</th>\n",
       "      <th>room_type_Hotel room</th>\n",
       "      <th>room_type_Private room</th>\n",
       "      <th>room_type_Shared room</th>\n",
       "      <th>cluster_0</th>\n",
       "      <th>cluster_1</th>\n",
       "      <th>cluster_2</th>\n",
       "    </tr>\n",
       "  </thead>\n",
       "  <tbody>\n",
       "    <tr>\n",
       "      <th>0</th>\n",
       "      <td>3781</td>\n",
       "      <td>2021-09-19</td>\n",
       "      <td>HARBORSIDE-Walk to subway</td>\n",
       "      <td>Fully separate apartment in a two apartment bu...</td>\n",
       "      <td>4804</td>\n",
       "      <td>Frank</td>\n",
       "      <td>2008-12-03</td>\n",
       "      <td>3</td>\n",
       "      <td>100.0</td>\n",
       "      <td>0</td>\n",
       "      <td>...</td>\n",
       "      <td>0</td>\n",
       "      <td>0</td>\n",
       "      <td>0</td>\n",
       "      <td>0</td>\n",
       "      <td>0</td>\n",
       "      <td>0</td>\n",
       "      <td>0</td>\n",
       "      <td>1</td>\n",
       "      <td>0</td>\n",
       "      <td>0</td>\n",
       "    </tr>\n",
       "    <tr>\n",
       "      <th>1</th>\n",
       "      <td>5506</td>\n",
       "      <td>2021-09-19</td>\n",
       "      <td>** Private! Minutes to center!**</td>\n",
       "      <td>Private guest room with private bath, You do n...</td>\n",
       "      <td>8229</td>\n",
       "      <td>Terry</td>\n",
       "      <td>2009-02-19</td>\n",
       "      <td>3</td>\n",
       "      <td>100.0</td>\n",
       "      <td>1</td>\n",
       "      <td>...</td>\n",
       "      <td>0</td>\n",
       "      <td>0</td>\n",
       "      <td>0</td>\n",
       "      <td>0</td>\n",
       "      <td>0</td>\n",
       "      <td>0</td>\n",
       "      <td>0</td>\n",
       "      <td>1</td>\n",
       "      <td>0</td>\n",
       "      <td>0</td>\n",
       "    </tr>\n",
       "  </tbody>\n",
       "</table>\n",
       "<p>2 rows × 126 columns</p>\n",
       "</div>"
      ],
      "text/plain": [
       "     id last_scraped                              name  \\\n",
       "0  3781   2021-09-19         HARBORSIDE-Walk to subway   \n",
       "1  5506   2021-09-19  ** Private! Minutes to center!**   \n",
       "\n",
       "                                         description  host_id host_name  \\\n",
       "0  Fully separate apartment in a two apartment bu...     4804     Frank   \n",
       "1  Private guest room with private bath, You do n...     8229     Terry   \n",
       "\n",
       "   host_since  host_response_time  host_response_rate  host_is_superhost  ...  \\\n",
       "0  2008-12-03                   3               100.0                  0  ...   \n",
       "1  2009-02-19                   3               100.0                  1  ...   \n",
       "\n",
       "   property_type_Shared room in rental unit  \\\n",
       "0                                         0   \n",
       "1                                         0   \n",
       "\n",
       "  property_type_Shared room in residential home  \\\n",
       "0                                             0   \n",
       "1                                             0   \n",
       "\n",
       "   property_type_Shared room in townhouse  property_type_Tiny home  \\\n",
       "0                                       0                        0   \n",
       "1                                       0                        0   \n",
       "\n",
       "   room_type_Hotel room  room_type_Private room  room_type_Shared room  \\\n",
       "0                     0                       0                      0   \n",
       "1                     0                       0                      0   \n",
       "\n",
       "   cluster_0 cluster_1  cluster_2  \n",
       "0          1         0          0  \n",
       "1          1         0          0  \n",
       "\n",
       "[2 rows x 126 columns]"
      ]
     },
     "execution_count": 73,
     "metadata": {},
     "output_type": "execute_result"
    }
   ],
   "source": [
    "cluster_df2 = listings_dummy.copy()\n",
    "cluster_df2['cluster'] = dbscan.labels_\n",
    "\n",
    "cluster_df2 = pd.get_dummies(cluster_df2, columns = ['cluster'], drop_first= True)\n",
    "cluster_df2.head(2)"
   ]
  },
  {
   "cell_type": "code",
   "execution_count": 74,
   "id": "a812a682-fde7-42fa-9a53-49851e6f6b87",
   "metadata": {},
   "outputs": [
    {
     "name": "stdout",
     "output_type": "stream",
     "text": [
      "113\n"
     ]
    },
    {
     "data": {
      "text/plain": [
       "RandomForestRegressor()"
      ]
     },
     "execution_count": 74,
     "metadata": {},
     "output_type": "execute_result"
    }
   ],
   "source": [
    "# Try Random Forest\n",
    "features = [col for col in cluster_df2._get_numeric_data().columns if col != 'rating_target' and col != 'rating']\n",
    "print(len(features))\n",
    "\n",
    "# define X and y\n",
    "X = cluster_df2[features]\n",
    "y = cluster_df2['rating']\n",
    "\n",
    "# stratify = y\n",
    "X_train, X_test, y_train, y_test = train_test_split(X, y, random_state=42)\n",
    "\n",
    "rf = RandomForestRegressor(n_estimators = 100)\n",
    "rf.fit(X_train, y_train)"
   ]
  },
  {
   "cell_type": "code",
   "execution_count": 75,
   "id": "68414c77-1e9b-4623-983d-70cdf59d6a18",
   "metadata": {},
   "outputs": [
    {
     "name": "stdout",
     "output_type": "stream",
     "text": [
      "0.5138282774066646\n",
      "Train score: 0.9399452461372619\n",
      "Test score: 0.5649307178565723\n"
     ]
    }
   ],
   "source": [
    "# evaluating performance\n",
    "print(cross_val_score(rf, X_train, y_train, cv = 5).mean())\n",
    "print(f'Train score: {rf.score(X_train, y_train)}')\n",
    "print(f'Test score: {rf.score(X_test, y_test)}')"
   ]
  },
  {
   "cell_type": "markdown",
   "id": "d0aa4e74-67f3-43ca-ab2d-ac567ac423a5",
   "metadata": {},
   "source": [
    "DBSCAN is not improving on Kmeans in this case"
   ]
  },
  {
   "cell_type": "markdown",
   "id": "b12f03f9-2967-4daa-9aa5-2da8906f3e17",
   "metadata": {},
   "source": [
    "Slight Improvement from Kmeans clustering - implement to make slightly less overfit model to train on additional city data (and grid search over)"
   ]
  },
  {
   "cell_type": "markdown",
   "id": "57f30394-d15d-4d87-828c-b049701e7a43",
   "metadata": {},
   "source": [
    "-------\n",
    "## Best Regression Model"
   ]
  },
  {
   "cell_type": "code",
   "execution_count": 56,
   "id": "a8d2bde8-c832-455a-b50c-a58def041a87",
   "metadata": {},
   "outputs": [
    {
     "data": {
      "text/plain": [
       "KMeans(n_clusters=26, random_state=42)"
      ]
     },
     "execution_count": 56,
     "metadata": {},
     "output_type": "execute_result"
    }
   ],
   "source": [
    "# trying to cluster around more features\n",
    "# define X \n",
    "X = listings[['latitude','longitude', 'amenities_count', 'host_response_time', \n",
    "           'host_response_rate', 'accommodates']]\n",
    "\n",
    "# went with 26 clusters for the 26 neighborhoods in Boston \n",
    "km = KMeans(n_clusters = 26, random_state=42)\n",
    "km.fit(X)"
   ]
  },
  {
   "cell_type": "code",
   "execution_count": 57,
   "id": "5786d6f2-6923-4f58-b4cb-1cf5ac73191e",
   "metadata": {},
   "outputs": [
    {
     "data": {
      "text/plain": [
       "0.3447537448849499"
      ]
     },
     "execution_count": 57,
     "metadata": {},
     "output_type": "execute_result"
    }
   ],
   "source": [
    "silhouette_score(X, km.labels_)"
   ]
  },
  {
   "cell_type": "code",
   "execution_count": 58,
   "id": "b26860f2-e17d-4c16-b4b6-7f7c87db7ef7",
   "metadata": {},
   "outputs": [
    {
     "data": {
      "text/html": [
       "<div>\n",
       "<style scoped>\n",
       "    .dataframe tbody tr th:only-of-type {\n",
       "        vertical-align: middle;\n",
       "    }\n",
       "\n",
       "    .dataframe tbody tr th {\n",
       "        vertical-align: top;\n",
       "    }\n",
       "\n",
       "    .dataframe thead th {\n",
       "        text-align: right;\n",
       "    }\n",
       "</style>\n",
       "<table border=\"1\" class=\"dataframe\">\n",
       "  <thead>\n",
       "    <tr style=\"text-align: right;\">\n",
       "      <th></th>\n",
       "      <th>id</th>\n",
       "      <th>last_scraped</th>\n",
       "      <th>name</th>\n",
       "      <th>description</th>\n",
       "      <th>host_id</th>\n",
       "      <th>host_name</th>\n",
       "      <th>host_since</th>\n",
       "      <th>host_response_time</th>\n",
       "      <th>host_response_rate</th>\n",
       "      <th>host_is_superhost</th>\n",
       "      <th>...</th>\n",
       "      <th>cluster_16</th>\n",
       "      <th>cluster_17</th>\n",
       "      <th>cluster_18</th>\n",
       "      <th>cluster_19</th>\n",
       "      <th>cluster_20</th>\n",
       "      <th>cluster_21</th>\n",
       "      <th>cluster_22</th>\n",
       "      <th>cluster_23</th>\n",
       "      <th>cluster_24</th>\n",
       "      <th>cluster_25</th>\n",
       "    </tr>\n",
       "  </thead>\n",
       "  <tbody>\n",
       "    <tr>\n",
       "      <th>0</th>\n",
       "      <td>3781</td>\n",
       "      <td>2021-09-19</td>\n",
       "      <td>HARBORSIDE-Walk to subway</td>\n",
       "      <td>Fully separate apartment in a two apartment bu...</td>\n",
       "      <td>4804</td>\n",
       "      <td>Frank</td>\n",
       "      <td>2008-12-03</td>\n",
       "      <td>3</td>\n",
       "      <td>100.0</td>\n",
       "      <td>0</td>\n",
       "      <td>...</td>\n",
       "      <td>0</td>\n",
       "      <td>0</td>\n",
       "      <td>0</td>\n",
       "      <td>0</td>\n",
       "      <td>0</td>\n",
       "      <td>0</td>\n",
       "      <td>1</td>\n",
       "      <td>0</td>\n",
       "      <td>0</td>\n",
       "      <td>0</td>\n",
       "    </tr>\n",
       "    <tr>\n",
       "      <th>1</th>\n",
       "      <td>5506</td>\n",
       "      <td>2021-09-19</td>\n",
       "      <td>** Private! Minutes to center!**</td>\n",
       "      <td>Private guest room with private bath, You do n...</td>\n",
       "      <td>8229</td>\n",
       "      <td>Terry</td>\n",
       "      <td>2009-02-19</td>\n",
       "      <td>3</td>\n",
       "      <td>100.0</td>\n",
       "      <td>1</td>\n",
       "      <td>...</td>\n",
       "      <td>0</td>\n",
       "      <td>0</td>\n",
       "      <td>0</td>\n",
       "      <td>0</td>\n",
       "      <td>0</td>\n",
       "      <td>0</td>\n",
       "      <td>1</td>\n",
       "      <td>0</td>\n",
       "      <td>0</td>\n",
       "      <td>0</td>\n",
       "    </tr>\n",
       "  </tbody>\n",
       "</table>\n",
       "<p>2 rows × 148 columns</p>\n",
       "</div>"
      ],
      "text/plain": [
       "     id last_scraped                              name  \\\n",
       "0  3781   2021-09-19         HARBORSIDE-Walk to subway   \n",
       "1  5506   2021-09-19  ** Private! Minutes to center!**   \n",
       "\n",
       "                                         description  host_id host_name  \\\n",
       "0  Fully separate apartment in a two apartment bu...     4804     Frank   \n",
       "1  Private guest room with private bath, You do n...     8229     Terry   \n",
       "\n",
       "   host_since  host_response_time  host_response_rate  host_is_superhost  ...  \\\n",
       "0  2008-12-03                   3               100.0                  0  ...   \n",
       "1  2009-02-19                   3               100.0                  1  ...   \n",
       "\n",
       "   cluster_16 cluster_17  cluster_18  cluster_19  cluster_20  cluster_21  \\\n",
       "0           0          0           0           0           0           0   \n",
       "1           0          0           0           0           0           0   \n",
       "\n",
       "   cluster_22  cluster_23 cluster_24  cluster_25  \n",
       "0           1           0          0           0  \n",
       "1           1           0          0           0  \n",
       "\n",
       "[2 rows x 148 columns]"
      ]
     },
     "execution_count": 58,
     "metadata": {},
     "output_type": "execute_result"
    }
   ],
   "source": [
    "# adding new column to dataframe for the clusters\n",
    "df = listings_dummy.copy()\n",
    "df['cluster'] = km.labels_\n",
    "\n",
    "df = pd.get_dummies(df, columns = ['cluster'], drop_first= True)\n",
    "df.head(2)"
   ]
  },
  {
   "cell_type": "code",
   "execution_count": 59,
   "id": "f2b01a00-44b1-413b-804f-e15a7e3dbc66",
   "metadata": {},
   "outputs": [
    {
     "name": "stdout",
     "output_type": "stream",
     "text": [
      "135\n"
     ]
    },
    {
     "data": {
      "text/plain": [
       "RandomForestRegressor()"
      ]
     },
     "execution_count": 59,
     "metadata": {},
     "output_type": "execute_result"
    }
   ],
   "source": [
    "# Try Random Forest\n",
    "features = [col for col in df._get_numeric_data().columns if col != 'rating_target' and col != 'rating']\n",
    "print(len(features))\n",
    "\n",
    "# define X and y\n",
    "X = df[features]\n",
    "y = df['rating']\n",
    "\n",
    "# stratify = y\n",
    "X_train, X_test, y_train, y_test = train_test_split(X, y, random_state=42)\n",
    "\n",
    "rf = RandomForestRegressor(n_estimators = 100)\n",
    "rf.fit(X_train, y_train)"
   ]
  },
  {
   "cell_type": "code",
   "execution_count": 60,
   "id": "a63b103c-45b8-4d6b-8a46-0adeb7738b83",
   "metadata": {},
   "outputs": [
    {
     "name": "stdout",
     "output_type": "stream",
     "text": [
      "Train score: 0.9453037720305036\n",
      "Test score: 0.5819690878641481\n"
     ]
    }
   ],
   "source": [
    "# evaluating performance\n",
    "print(f'Train score: {rf.score(X_train, y_train)}')\n",
    "print(f'Test score: {rf.score(X_test, y_test)}')"
   ]
  },
  {
   "cell_type": "code",
   "execution_count": 91,
   "id": "437b7ffd-4e46-4ceb-96fc-22abb5c64eaa",
   "metadata": {},
   "outputs": [
    {
     "name": "stdout",
     "output_type": "stream",
     "text": [
      "Model MSE: 0.10010706850712678\n"
     ]
    }
   ],
   "source": [
    "y_preds = rf.predict(X_test)\n",
    "print(f'Model MSE: {metrics.mean_squared_error(y_test, y_preds)}')"
   ]
  },
  {
   "cell_type": "code",
   "execution_count": 101,
   "id": "e665a57e-adb8-47b9-b97c-cf2a14bfd7df",
   "metadata": {},
   "outputs": [
    {
     "name": "stdout",
     "output_type": "stream",
     "text": [
      "null predicted rating is 4.68\n",
      "Baseline MSE: 0.25\n"
     ]
    }
   ],
   "source": [
    "# establishing the null model accuracy\n",
    "null_pred = y.mean()\n",
    "print('null predicted rating is',(round(null_pred, 2)))\n",
    "\n",
    "# Create the predictions for the \"null model\"\n",
    "y_bar = y.mean()\n",
    "y_bar_2 = y.median()\n",
    "\n",
    "# The null MSE\n",
    "null_mse = np.mean((y - y_bar) ** 2)\n",
    "null_mse_2 = np.mean((y- y_bar_2) ** 2)\n",
    "\n",
    "if null_mse < null_mse_2:\n",
    "    print(f'Baseline MSE: {round(null_mse, 2)}')\n",
    "else: \n",
    "    print(f'Baseline MSE: {round(null_mse_2, 2)}')"
   ]
  },
  {
   "cell_type": "markdown",
   "id": "644db88d-5da6-4c60-adb3-e5334d4bc9d6",
   "metadata": {},
   "source": [
    "------"
   ]
  }
 ],
 "metadata": {
  "kernelspec": {
   "display_name": "Python [conda env:dsi] *",
   "language": "python",
   "name": "conda-env-dsi-py"
  },
  "language_info": {
   "codemirror_mode": {
    "name": "ipython",
    "version": 3
   },
   "file_extension": ".py",
   "mimetype": "text/x-python",
   "name": "python",
   "nbconvert_exporter": "python",
   "pygments_lexer": "ipython3",
   "version": "3.9.12"
  }
 },
 "nbformat": 4,
 "nbformat_minor": 5
}
