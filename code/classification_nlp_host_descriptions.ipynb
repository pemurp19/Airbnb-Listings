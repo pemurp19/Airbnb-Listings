{
 "cells": [
  {
   "cell_type": "markdown",
   "id": "8a493fd4-9247-4ee5-a963-6cbffbfbc10a",
   "metadata": {},
   "source": [
    "# **NLP Multi-Class Classification on Host Descriptions**"
   ]
  },
  {
   "cell_type": "markdown",
   "id": "398131de-b8df-4bd3-ac91-5452a286512e",
   "metadata": {},
   "source": [
    "-------\n",
    "### Imports"
   ]
  },
  {
   "cell_type": "code",
   "execution_count": 12,
   "id": "e03ae7fa-c5a5-4c36-be2c-53fcc4fd1dfc",
   "metadata": {},
   "outputs": [],
   "source": [
    "import pandas as pd\n",
    "import numpy as np\n",
    "import matplotlib.pyplot as plt\n",
    "\n",
    "from bs4 import BeautifulSoup\n",
    "\n",
    "from sklearn.linear_model import LogisticRegression\n",
    "from sklearn.naive_bayes import MultinomialNB\n",
    "from sklearn.neighbors import KNeighborsClassifier\n",
    "from sklearn.model_selection import train_test_split, cross_val_score\n",
    "from sklearn.feature_extraction.text import CountVectorizer, TfidfVectorizer\n",
    "from sklearn.pipeline import Pipeline\n",
    "from sklearn.model_selection import GridSearchCV\n",
    "from sklearn.preprocessing import StandardScaler\n",
    "from sklearn.ensemble import RandomForestClassifier, GradientBoostingClassifier, AdaBoostClassifier\n",
    "from sklearn.tree import DecisionTreeClassifier\n",
    "\n",
    "from nltk.stem import WordNetLemmatizer\n",
    "from nltk.stem import PorterStemmer\n",
    "from nltk.corpus import stopwords\n",
    "from nltk.tokenize import sent_tokenize, word_tokenize, RegexpTokenizer\n",
    "\n",
    "from sklearn.metrics import plot_confusion_matrix, classification_report, f1_score, precision_score"
   ]
  },
  {
   "cell_type": "markdown",
   "id": "8dcd6ada-c34c-47a1-8ce3-13af1cc1aa34",
   "metadata": {
    "tags": []
   },
   "source": [
    "-------\n",
    "## Reading in the Listings Dataset"
   ]
  },
  {
   "cell_type": "code",
   "execution_count": 2,
   "id": "b6376606-590d-447f-a737-510d9d850d69",
   "metadata": {},
   "outputs": [],
   "source": [
    "listings = pd.read_csv('../data/listings_cleaned.csv')"
   ]
  },
  {
   "cell_type": "code",
   "execution_count": 3,
   "id": "326d303c-b262-4b95-af98-5062e8b73605",
   "metadata": {},
   "outputs": [
    {
     "data": {
      "text/html": [
       "<div>\n",
       "<style scoped>\n",
       "    .dataframe tbody tr th:only-of-type {\n",
       "        vertical-align: middle;\n",
       "    }\n",
       "\n",
       "    .dataframe tbody tr th {\n",
       "        vertical-align: top;\n",
       "    }\n",
       "\n",
       "    .dataframe thead th {\n",
       "        text-align: right;\n",
       "    }\n",
       "</style>\n",
       "<table border=\"1\" class=\"dataframe\">\n",
       "  <thead>\n",
       "    <tr style=\"text-align: right;\">\n",
       "      <th></th>\n",
       "      <th>id</th>\n",
       "      <th>last_scraped</th>\n",
       "      <th>name</th>\n",
       "      <th>description</th>\n",
       "      <th>host_id</th>\n",
       "      <th>host_name</th>\n",
       "      <th>host_since</th>\n",
       "      <th>host_response_time</th>\n",
       "      <th>host_response_rate</th>\n",
       "      <th>host_is_superhost</th>\n",
       "      <th>...</th>\n",
       "      <th>reviews_per_month</th>\n",
       "      <th>city</th>\n",
       "      <th>state</th>\n",
       "      <th>zip_codes</th>\n",
       "      <th>bathrooms</th>\n",
       "      <th>bathrooms_shared</th>\n",
       "      <th>amenities_count</th>\n",
       "      <th>host_verifications_count</th>\n",
       "      <th>private_listing</th>\n",
       "      <th>rating_target</th>\n",
       "    </tr>\n",
       "  </thead>\n",
       "  <tbody>\n",
       "    <tr>\n",
       "      <th>0</th>\n",
       "      <td>3781</td>\n",
       "      <td>2021-09-19</td>\n",
       "      <td>HARBORSIDE-Walk to subway</td>\n",
       "      <td>Fully separate apartment in a two apartment bu...</td>\n",
       "      <td>4804</td>\n",
       "      <td>Frank</td>\n",
       "      <td>2008-12-03</td>\n",
       "      <td>3</td>\n",
       "      <td>100.0</td>\n",
       "      <td>0</td>\n",
       "      <td>...</td>\n",
       "      <td>0.29</td>\n",
       "      <td>Boston</td>\n",
       "      <td>Massachusetts</td>\n",
       "      <td>2128</td>\n",
       "      <td>1.0</td>\n",
       "      <td>0</td>\n",
       "      <td>31</td>\n",
       "      <td>3</td>\n",
       "      <td>1</td>\n",
       "      <td>3</td>\n",
       "    </tr>\n",
       "    <tr>\n",
       "      <th>1</th>\n",
       "      <td>5506</td>\n",
       "      <td>2021-09-19</td>\n",
       "      <td>** Private! Minutes to center!**</td>\n",
       "      <td>Private guest room with private bath, You do n...</td>\n",
       "      <td>8229</td>\n",
       "      <td>Terry</td>\n",
       "      <td>2009-02-19</td>\n",
       "      <td>3</td>\n",
       "      <td>100.0</td>\n",
       "      <td>1</td>\n",
       "      <td>...</td>\n",
       "      <td>0.90</td>\n",
       "      <td>Boston</td>\n",
       "      <td>Massachusetts</td>\n",
       "      <td>2119</td>\n",
       "      <td>1.0</td>\n",
       "      <td>0</td>\n",
       "      <td>30</td>\n",
       "      <td>4</td>\n",
       "      <td>1</td>\n",
       "      <td>2</td>\n",
       "    </tr>\n",
       "  </tbody>\n",
       "</table>\n",
       "<p>2 rows × 55 columns</p>\n",
       "</div>"
      ],
      "text/plain": [
       "     id last_scraped                              name  \\\n",
       "0  3781   2021-09-19         HARBORSIDE-Walk to subway   \n",
       "1  5506   2021-09-19  ** Private! Minutes to center!**   \n",
       "\n",
       "                                         description  host_id host_name  \\\n",
       "0  Fully separate apartment in a two apartment bu...     4804     Frank   \n",
       "1  Private guest room with private bath, You do n...     8229     Terry   \n",
       "\n",
       "   host_since  host_response_time  host_response_rate  host_is_superhost  ...  \\\n",
       "0  2008-12-03                   3               100.0                  0  ...   \n",
       "1  2009-02-19                   3               100.0                  1  ...   \n",
       "\n",
       "   reviews_per_month    city          state  zip_codes bathrooms  \\\n",
       "0               0.29  Boston  Massachusetts       2128       1.0   \n",
       "1               0.90  Boston  Massachusetts       2119       1.0   \n",
       "\n",
       "   bathrooms_shared  amenities_count host_verifications_count private_listing  \\\n",
       "0                 0               31                        3               1   \n",
       "1                 0               30                        4               1   \n",
       "\n",
       "   rating_target  \n",
       "0              3  \n",
       "1              2  \n",
       "\n",
       "[2 rows x 55 columns]"
      ]
     },
     "execution_count": 3,
     "metadata": {},
     "output_type": "execute_result"
    }
   ],
   "source": [
    "listings.head(2)"
   ]
  },
  {
   "cell_type": "code",
   "execution_count": 4,
   "id": "79f7958d-430e-4ca1-83ca-c1b8ac697868",
   "metadata": {},
   "outputs": [
    {
     "data": {
      "text/plain": [
       "dtype('O')"
      ]
     },
     "execution_count": 4,
     "metadata": {},
     "output_type": "execute_result"
    }
   ],
   "source": [
    "listings['description'].dtype"
   ]
  },
  {
   "cell_type": "code",
   "execution_count": 5,
   "id": "26d05dac-88fd-4b4e-b92b-ae2c543a6b2a",
   "metadata": {},
   "outputs": [],
   "source": [
    "def lowercase(description):\n",
    "    '''function to lowercase all text'''\n",
    "    \n",
    "    #lowercase\n",
    "    description = description.lower()\n",
    "    return description\n",
    "\n",
    "# Apply fuction to data\n",
    "listings['clean_description'] = listings['description'].apply(lowercase)"
   ]
  },
  {
   "cell_type": "code",
   "execution_count": 6,
   "id": "a873feac-2b92-4184-8642-a4a2b869d783",
   "metadata": {},
   "outputs": [
    {
     "data": {
      "text/plain": [
       "0    fully separate apartment in a two apartment bu...\n",
       "1    private guest room with private bath, you do n...\n",
       "2    comfortable,  fully equipped private apartment...\n",
       "Name: clean_description, dtype: object"
      ]
     },
     "execution_count": 6,
     "metadata": {},
     "output_type": "execute_result"
    }
   ],
   "source": [
    "listings['clean_description'].head(3)"
   ]
  },
  {
   "cell_type": "markdown",
   "id": "b85e255a-3b5d-4bfa-8484-15885e7886c1",
   "metadata": {
    "tags": []
   },
   "source": [
    "------\n",
    "# **NLP Modeling of the Descriptions**"
   ]
  },
  {
   "cell_type": "markdown",
   "id": "48762fee-4258-4928-94a5-02c0a3723d12",
   "metadata": {},
   "source": [
    "#### *Start with Naive Bayes - including default hyper paramaters (and small number of features)*"
   ]
  },
  {
   "cell_type": "code",
   "execution_count": 7,
   "id": "1919334c-fc26-42ed-825c-28f6c6c8f818",
   "metadata": {},
   "outputs": [
    {
     "name": "stdout",
     "output_type": "stream",
     "text": [
      "2    2713\n",
      "1    2681\n",
      "3    2647\n",
      "4    2623\n",
      "Name: rating_target, dtype: int64\n",
      "*********************************************\n",
      "2    0.254407\n",
      "1    0.251407\n",
      "3    0.248218\n",
      "4    0.245968\n",
      "Name: rating_target, dtype: float64\n",
      "*********************************************\n",
      "Baseline Accuracy: 25.44%\n"
     ]
    }
   ],
   "source": [
    "# define X and y\n",
    "X = listings['clean_description']\n",
    "y = listings['rating_target']\n",
    "\n",
    "# determining a baseline accuracy\n",
    "print(y.value_counts())\n",
    "print('*'*45)\n",
    "print(y.value_counts(normalize=True))\n",
    "print('*'*45)\n",
    "\n",
    "print(f'Baseline Accuracy: {round(pd.Series(y.value_counts(normalize=True))[2]*100, 2)}%')\n"
   ]
  },
  {
   "cell_type": "code",
   "execution_count": 8,
   "id": "ad9016cc-0a99-4a95-82ac-bb3cbb39e83f",
   "metadata": {},
   "outputs": [],
   "source": [
    "# train test split - stick with the default 75/25 split\n",
    "X_train, X_test, y_train, y_test = train_test_split(X, y, \n",
    "                                                     stratify= y,\n",
    "                                                    random_state= 42)"
   ]
  },
  {
   "cell_type": "code",
   "execution_count": 9,
   "id": "0dee3f58-6807-494f-96d0-4296e3c72ea6",
   "metadata": {},
   "outputs": [
    {
     "name": "stdout",
     "output_type": "stream",
     "text": [
      "(7998,)\n",
      "(2666,)\n"
     ]
    }
   ],
   "source": [
    "print(X_train.shape)\n",
    "print(X_test.shape)"
   ]
  },
  {
   "cell_type": "code",
   "execution_count": 10,
   "id": "d032d718-7d3d-446f-93fa-28e21977c9e4",
   "metadata": {},
   "outputs": [],
   "source": [
    "def build_pipeline(num_features, model_abbrev, instance, X_train, y_train, X_test, y_test ):\n",
    "    '''\n",
    "    This function builds a pipeline\n",
    "    instantiates and fits the model \n",
    "    and generates a confusion matrix\n",
    "    '''\n",
    "    pipe = Pipeline([\n",
    "        ('cvec', CountVectorizer(max_features = num_features)),\n",
    "        (model_abbrev, instance)\n",
    "    ])\n",
    "\n",
    "    pipe.fit(X_train, y_train)\n",
    "    print('Train:', pipe.score(X_train, y_train))\n",
    "    print('Test:', pipe.score(X_test, y_test))\n",
    "\n",
    "    return plot_confusion_matrix(pipe, X_test, y_test, cmap = 'Reds');"
   ]
  },
  {
   "cell_type": "markdown",
   "id": "6ebf43c9-67e8-4847-bce7-ded014d8d9e4",
   "metadata": {
    "tags": []
   },
   "source": [
    "# CVEC and NAIVE Bayes"
   ]
  },
  {
   "cell_type": "code",
   "execution_count": 19,
   "id": "1fc0a8bd-0421-488b-bcc5-605ebade0e28",
   "metadata": {},
   "outputs": [
    {
     "name": "stdout",
     "output_type": "stream",
     "text": [
      "Train: 0.3557139284821205\n",
      "Test: 0.3319579894973743\n"
     ]
    },
    {
     "name": "stderr",
     "output_type": "stream",
     "text": [
      "/Users/petermurphy/opt/anaconda3/envs/dsi/lib/python3.9/site-packages/sklearn/utils/deprecation.py:87: FutureWarning: Function plot_confusion_matrix is deprecated; Function `plot_confusion_matrix` is deprecated in 1.0 and will be removed in 1.2. Use one of the class methods: ConfusionMatrixDisplay.from_predictions or ConfusionMatrixDisplay.from_estimator.\n",
      "  warnings.warn(msg, category=FutureWarning)\n"
     ]
    },
    {
     "data": {
      "text/plain": [
       "<sklearn.metrics._plot.confusion_matrix.ConfusionMatrixDisplay at 0x7fbd71bb26a0>"
      ]
     },
     "execution_count": 19,
     "metadata": {},
     "output_type": "execute_result"
    },
    {
     "data": {
      "image/png": "[encoded data removed]",
      "text/plain": [
       "<Figure size 432x288 with 2 Axes>"
      ]
     },
     "metadata": {
      "needs_background": "light"
     },
     "output_type": "display_data"
    }
   ],
   "source": [
    "# try same number of features from EDA\n",
    "build_pipeline(50, 'nb', MultinomialNB(), X_train, y_train, X_test, y_test)"
   ]
  },
  {
   "cell_type": "code",
   "execution_count": 21,
   "id": "4c1fe91e-882c-4bff-a30c-f19c1e3f6a58",
   "metadata": {},
   "outputs": [
    {
     "name": "stdout",
     "output_type": "stream",
     "text": [
      "Train: 0.6587896974243561\n",
      "Test: 0.5667666916729183\n"
     ]
    },
    {
     "name": "stderr",
     "output_type": "stream",
     "text": [
      "/Users/petermurphy/opt/anaconda3/envs/dsi/lib/python3.9/site-packages/sklearn/utils/deprecation.py:87: FutureWarning: Function plot_confusion_matrix is deprecated; Function `plot_confusion_matrix` is deprecated in 1.0 and will be removed in 1.2. Use one of the class methods: ConfusionMatrixDisplay.from_predictions or ConfusionMatrixDisplay.from_estimator.\n",
      "  warnings.warn(msg, category=FutureWarning)\n"
     ]
    },
    {
     "data": {
      "text/plain": [
       "<sklearn.metrics._plot.confusion_matrix.ConfusionMatrixDisplay at 0x7fbd599e4190>"
      ]
     },
     "execution_count": 21,
     "metadata": {},
     "output_type": "execute_result"
    },
    {
     "data": {
      "image/png": "[encoded data removed]",
      "text/plain": [
       "<Figure size 432x288 with 2 Axes>"
      ]
     },
     "metadata": {
      "needs_background": "light"
     },
     "output_type": "display_data"
    }
   ],
   "source": [
    "# check with results with many more features\n",
    "build_pipeline(7000, 'nb', MultinomialNB(), X_train, y_train, X_test, y_test)"
   ]
  },
  {
   "cell_type": "markdown",
   "id": "a3772606-6816-4cdc-a4c7-c05ee203f4ae",
   "metadata": {},
   "source": [
    "Naive Bayes still underperforming - adding additional vectorized features makes the model over fit and not much of an improvement from the baseline (similar to the model of reviews). "
   ]
  },
  {
   "cell_type": "markdown",
   "id": "089fe6bd-add6-403b-9007-5229516abb06",
   "metadata": {},
   "source": [
    "# CVEC and Logistic Regression"
   ]
  },
  {
   "cell_type": "code",
   "execution_count": 22,
   "id": "eb22961c-5cc0-4b52-b663-3176b2c1ad16",
   "metadata": {},
   "outputs": [
    {
     "name": "stderr",
     "output_type": "stream",
     "text": [
      "/Users/petermurphy/opt/anaconda3/envs/dsi/lib/python3.9/site-packages/sklearn/linear_model/_logistic.py:814: ConvergenceWarning: lbfgs failed to converge (status=1):\n",
      "STOP: TOTAL NO. of ITERATIONS REACHED LIMIT.\n",
      "\n",
      "Increase the number of iterations (max_iter) or scale the data as shown in:\n",
      "    https://scikit-learn.org/stable/modules/preprocessing.html\n",
      "Please also refer to the documentation for alternative solver options:\n",
      "    https://scikit-learn.org/stable/modules/linear_model.html#logistic-regression\n",
      "  n_iter_i = _check_optimize_result(\n"
     ]
    },
    {
     "name": "stdout",
     "output_type": "stream",
     "text": [
      "Train: 0.44248562140535136\n",
      "Test: 0.4264816204051013\n"
     ]
    },
    {
     "name": "stderr",
     "output_type": "stream",
     "text": [
      "/Users/petermurphy/opt/anaconda3/envs/dsi/lib/python3.9/site-packages/sklearn/utils/deprecation.py:87: FutureWarning: Function plot_confusion_matrix is deprecated; Function `plot_confusion_matrix` is deprecated in 1.0 and will be removed in 1.2. Use one of the class methods: ConfusionMatrixDisplay.from_predictions or ConfusionMatrixDisplay.from_estimator.\n",
      "  warnings.warn(msg, category=FutureWarning)\n"
     ]
    },
    {
     "data": {
      "text/plain": [
       "<sklearn.metrics._plot.confusion_matrix.ConfusionMatrixDisplay at 0x7fbd72a4c400>"
      ]
     },
     "execution_count": 22,
     "metadata": {},
     "output_type": "execute_result"
    },
    {
     "data": {
      "image/png": "[encoded data removed]",
      "text/plain": [
       "<Figure size 432x288 with 2 Axes>"
      ]
     },
     "metadata": {
      "needs_background": "light"
     },
     "output_type": "display_data"
    }
   ],
   "source": [
    "build_pipeline(100, 'logreg', LogisticRegression(max_iter = 200, multi_class='multinomial', solver='lbfgs'), X_train, y_train, X_test, y_test)"
   ]
  },
  {
   "cell_type": "code",
   "execution_count": 23,
   "id": "2f599a7f-3150-4396-b3c5-baa29c2ffcf0",
   "metadata": {},
   "outputs": [
    {
     "name": "stderr",
     "output_type": "stream",
     "text": [
      "/Users/petermurphy/opt/anaconda3/envs/dsi/lib/python3.9/site-packages/sklearn/linear_model/_logistic.py:814: ConvergenceWarning: lbfgs failed to converge (status=1):\n",
      "STOP: TOTAL NO. of ITERATIONS REACHED LIMIT.\n",
      "\n",
      "Increase the number of iterations (max_iter) or scale the data as shown in:\n",
      "    https://scikit-learn.org/stable/modules/preprocessing.html\n",
      "Please also refer to the documentation for alternative solver options:\n",
      "    https://scikit-learn.org/stable/modules/linear_model.html#logistic-regression\n",
      "  n_iter_i = _check_optimize_result(\n"
     ]
    },
    {
     "name": "stdout",
     "output_type": "stream",
     "text": [
      "Train: 0.8803450862715679\n",
      "Test: 0.7468117029257314\n"
     ]
    },
    {
     "name": "stderr",
     "output_type": "stream",
     "text": [
      "/Users/petermurphy/opt/anaconda3/envs/dsi/lib/python3.9/site-packages/sklearn/utils/deprecation.py:87: FutureWarning: Function plot_confusion_matrix is deprecated; Function `plot_confusion_matrix` is deprecated in 1.0 and will be removed in 1.2. Use one of the class methods: ConfusionMatrixDisplay.from_predictions or ConfusionMatrixDisplay.from_estimator.\n",
      "  warnings.warn(msg, category=FutureWarning)\n"
     ]
    },
    {
     "data": {
      "text/plain": [
       "<sklearn.metrics._plot.confusion_matrix.ConfusionMatrixDisplay at 0x7fbd5501aeb0>"
      ]
     },
     "execution_count": 23,
     "metadata": {},
     "output_type": "execute_result"
    },
    {
     "data": {
      "image/png": "[encoded data removed]",
      "text/plain": [
       "<Figure size 432x288 with 2 Axes>"
      ]
     },
     "metadata": {
      "needs_background": "light"
     },
     "output_type": "display_data"
    }
   ],
   "source": [
    "build_pipeline(7000, 'logreg', LogisticRegression(max_iter=200, multi_class='multinomial', solver='lbfgs'), X_train, y_train, X_test, y_test)"
   ]
  },
  {
   "cell_type": "markdown",
   "id": "0ffc50ad-2e01-4968-8dbc-a14a73027f31",
   "metadata": {},
   "source": [
    "Logistic Regression performing better on the host descriptions than on user reviews. May be an indication that descriptions are a better predictor. Although there's room for the host to exaggerate the quality of their listing, it's becoming clearer that vacationers should pay attention to the effort that host's put into writing lisitng descriptions. "
   ]
  },
  {
   "cell_type": "markdown",
   "id": "be5cf537-82c5-411e-b082-3b63eef9e7f9",
   "metadata": {},
   "source": [
    "# CVEC and Random Forest"
   ]
  },
  {
   "cell_type": "code",
   "execution_count": 38,
   "id": "fae7c8ae-a1da-4d9d-abac-80f398b151b7",
   "metadata": {},
   "outputs": [
    {
     "name": "stdout",
     "output_type": "stream",
     "text": [
      "Train: 0.9114778694673669\n",
      "Test: 0.7756939234808702\n"
     ]
    },
    {
     "name": "stderr",
     "output_type": "stream",
     "text": [
      "/Users/petermurphy/opt/anaconda3/envs/dsi/lib/python3.9/site-packages/sklearn/utils/deprecation.py:87: FutureWarning: Function plot_confusion_matrix is deprecated; Function `plot_confusion_matrix` is deprecated in 1.0 and will be removed in 1.2. Use one of the class methods: ConfusionMatrixDisplay.from_predictions or ConfusionMatrixDisplay.from_estimator.\n",
      "  warnings.warn(msg, category=FutureWarning)\n"
     ]
    },
    {
     "data": {
      "text/plain": [
       "<sklearn.metrics._plot.confusion_matrix.ConfusionMatrixDisplay at 0x7fbd73058e50>"
      ]
     },
     "execution_count": 38,
     "metadata": {},
     "output_type": "execute_result"
    },
    {
     "data": {
      "image/png": "[encoded data removed]",
      "text/plain": [
       "<Figure size 432x288 with 2 Axes>"
      ]
     },
     "metadata": {
      "needs_background": "light"
     },
     "output_type": "display_data"
    }
   ],
   "source": [
    "build_pipeline(50, 'rf', RandomForestClassifier(n_estimators=100), X_train, y_train, X_test, y_test)"
   ]
  },
  {
   "cell_type": "code",
   "execution_count": 39,
   "id": "d32b205f-c62c-4409-95c4-6ad005b2d330",
   "metadata": {},
   "outputs": [
    {
     "name": "stdout",
     "output_type": "stream",
     "text": [
      "Train: 0.921980495123781\n",
      "Test: 0.7843210802700675\n"
     ]
    },
    {
     "name": "stderr",
     "output_type": "stream",
     "text": [
      "/Users/petermurphy/opt/anaconda3/envs/dsi/lib/python3.9/site-packages/sklearn/utils/deprecation.py:87: FutureWarning: Function plot_confusion_matrix is deprecated; Function `plot_confusion_matrix` is deprecated in 1.0 and will be removed in 1.2. Use one of the class methods: ConfusionMatrixDisplay.from_predictions or ConfusionMatrixDisplay.from_estimator.\n",
      "  warnings.warn(msg, category=FutureWarning)\n"
     ]
    },
    {
     "data": {
      "text/plain": [
       "<sklearn.metrics._plot.confusion_matrix.ConfusionMatrixDisplay at 0x7fbd59a944f0>"
      ]
     },
     "execution_count": 39,
     "metadata": {},
     "output_type": "execute_result"
    },
    {
     "data": {
      "image/png": "[encoded data removed]",
      "text/plain": [
       "<Figure size 432x288 with 2 Axes>"
      ]
     },
     "metadata": {
      "needs_background": "light"
     },
     "output_type": "display_data"
    }
   ],
   "source": [
    "build_pipeline(5000, 'rf', RandomForestClassifier(n_estimators=100), X_train, y_train, X_test, y_test)"
   ]
  },
  {
   "cell_type": "markdown",
   "id": "21250262-a960-4dde-90fb-e67bcb66ab19",
   "metadata": {},
   "source": [
    "The Random Forest model is doing much better on host descriptions than on reviews. It doesn't appear to making a disproportionate amount of errors in predicting any specific class. "
   ]
  },
  {
   "cell_type": "markdown",
   "id": "d4053d0d-f5bf-4bb6-9457-8832b897674b",
   "metadata": {},
   "source": [
    "# CVEC and Boosted Model"
   ]
  },
  {
   "cell_type": "code",
   "execution_count": 40,
   "id": "b172c403-7e11-4590-854d-cdd14d308457",
   "metadata": {},
   "outputs": [
    {
     "name": "stdout",
     "output_type": "stream",
     "text": [
      "Train: 0.8945986496624156\n",
      "Test: 0.7595648912228057\n"
     ]
    },
    {
     "name": "stderr",
     "output_type": "stream",
     "text": [
      "/Users/petermurphy/opt/anaconda3/envs/dsi/lib/python3.9/site-packages/sklearn/utils/deprecation.py:87: FutureWarning: Function plot_confusion_matrix is deprecated; Function `plot_confusion_matrix` is deprecated in 1.0 and will be removed in 1.2. Use one of the class methods: ConfusionMatrixDisplay.from_predictions or ConfusionMatrixDisplay.from_estimator.\n",
      "  warnings.warn(msg, category=FutureWarning)\n"
     ]
    },
    {
     "data": {
      "text/plain": [
       "<sklearn.metrics._plot.confusion_matrix.ConfusionMatrixDisplay at 0x7fbd599f02e0>"
      ]
     },
     "execution_count": 40,
     "metadata": {},
     "output_type": "execute_result"
    },
    {
     "data": {
      "image/png": "[encoded data removed]",
      "text/plain": [
       "<Figure size 432x288 with 2 Axes>"
      ]
     },
     "metadata": {
      "needs_background": "light"
     },
     "output_type": "display_data"
    }
   ],
   "source": [
    "build_pipeline(100, 'ada', AdaBoostClassifier(base_estimator=DecisionTreeClassifier()), X_train, y_train, X_test, y_test)"
   ]
  },
  {
   "cell_type": "code",
   "execution_count": 41,
   "id": "56c5dd08-e13a-4e2b-bf7d-47b7f8ef78d2",
   "metadata": {},
   "outputs": [
    {
     "name": "stdout",
     "output_type": "stream",
     "text": [
      "Train: 0.9089772443110777\n",
      "Test: 0.7644411102775694\n"
     ]
    },
    {
     "name": "stderr",
     "output_type": "stream",
     "text": [
      "/Users/petermurphy/opt/anaconda3/envs/dsi/lib/python3.9/site-packages/sklearn/utils/deprecation.py:87: FutureWarning: Function plot_confusion_matrix is deprecated; Function `plot_confusion_matrix` is deprecated in 1.0 and will be removed in 1.2. Use one of the class methods: ConfusionMatrixDisplay.from_predictions or ConfusionMatrixDisplay.from_estimator.\n",
      "  warnings.warn(msg, category=FutureWarning)\n"
     ]
    },
    {
     "data": {
      "text/plain": [
       "<sklearn.metrics._plot.confusion_matrix.ConfusionMatrixDisplay at 0x7fbd59b432b0>"
      ]
     },
     "execution_count": 41,
     "metadata": {},
     "output_type": "execute_result"
    },
    {
     "data": {
      "image/png": "[encoded data removed]",
      "text/plain": [
       "<Figure size 432x288 with 2 Axes>"
      ]
     },
     "metadata": {
      "needs_background": "light"
     },
     "output_type": "display_data"
    }
   ],
   "source": [
    "build_pipeline(6000, 'ada', AdaBoostClassifier(base_estimator=DecisionTreeClassifier()), X_train, y_train, X_test, y_test)"
   ]
  },
  {
   "cell_type": "markdown",
   "id": "926e6688-2be9-4e55-b28a-21eb8f363ba7",
   "metadata": {},
   "source": [
    "Random Forest slightly outperformed the Ada Boost Classifier."
   ]
  },
  {
   "cell_type": "markdown",
   "id": "3d20014f-ff5a-4140-898f-c86f81d544ea",
   "metadata": {},
   "source": [
    "-----\n",
    "-----\n",
    "### TF-IDF Vectorizer"
   ]
  },
  {
   "cell_type": "code",
   "execution_count": 42,
   "id": "70616a6f-50b2-479f-a652-2fb07d6164a3",
   "metadata": {},
   "outputs": [],
   "source": [
    "def build_pipeline(num_features, model_abbrev, instance, X_train, y_train, X_test, y_test ):\n",
    "    '''\n",
    "    This function builds a pipeline\n",
    "    instantiates and fits the model \n",
    "    and generates a confusion matrix\n",
    "    '''\n",
    "    pipe = Pipeline([\n",
    "        ('tvec', TfidfVectorizer(max_features = num_features)),\n",
    "        (model_abbrev, instance)\n",
    "    ])\n",
    "\n",
    "    pipe.fit(X_train, y_train)\n",
    "    print('Train:', pipe.score(X_train, y_train))\n",
    "    print('Test:', pipe.score(X_test, y_test))\n",
    "\n",
    "    return plot_confusion_matrix(pipe, X_test, y_test, cmap = 'Blues');"
   ]
  },
  {
   "cell_type": "markdown",
   "id": "3d6bda92-4056-48b8-98c2-8ff4494ad5dc",
   "metadata": {
    "tags": []
   },
   "source": [
    "# TF-IDF and NAIVE Bayes"
   ]
  },
  {
   "cell_type": "code",
   "execution_count": 43,
   "id": "7e51d32b-6328-4929-8f26-6aa5bab13745",
   "metadata": {},
   "outputs": [
    {
     "name": "stdout",
     "output_type": "stream",
     "text": [
      "Train: 0.6782945736434108\n",
      "Test: 0.5768942235558889\n"
     ]
    },
    {
     "name": "stderr",
     "output_type": "stream",
     "text": [
      "/Users/petermurphy/opt/anaconda3/envs/dsi/lib/python3.9/site-packages/sklearn/utils/deprecation.py:87: FutureWarning: Function plot_confusion_matrix is deprecated; Function `plot_confusion_matrix` is deprecated in 1.0 and will be removed in 1.2. Use one of the class methods: ConfusionMatrixDisplay.from_predictions or ConfusionMatrixDisplay.from_estimator.\n",
      "  warnings.warn(msg, category=FutureWarning)\n"
     ]
    },
    {
     "data": {
      "text/plain": [
       "<sklearn.metrics._plot.confusion_matrix.ConfusionMatrixDisplay at 0x7fbd553fc520>"
      ]
     },
     "execution_count": 43,
     "metadata": {},
     "output_type": "execute_result"
    },
    {
     "data": {
      "image/png": "[encoded data removed]",
      "text/plain": [
       "<Figure size 432x288 with 2 Axes>"
      ]
     },
     "metadata": {
      "needs_background": "light"
     },
     "output_type": "display_data"
    }
   ],
   "source": [
    "# check with results with many more features\n",
    "build_pipeline(7000, 'nb', MultinomialNB(), X_train, y_train, X_test, y_test)"
   ]
  },
  {
   "cell_type": "markdown",
   "id": "bc37ef96-e345-4bcf-bfa8-14917812dab0",
   "metadata": {},
   "source": [
    "# TF-IDF and Logistic Regression"
   ]
  },
  {
   "cell_type": "code",
   "execution_count": 44,
   "id": "dadba2ab-cb08-411b-a9fc-c1d7f6300e00",
   "metadata": {},
   "outputs": [
    {
     "name": "stdout",
     "output_type": "stream",
     "text": [
      "Train: 0.7779444861215303\n",
      "Test: 0.6515378844711178\n"
     ]
    },
    {
     "name": "stderr",
     "output_type": "stream",
     "text": [
      "/Users/petermurphy/opt/anaconda3/envs/dsi/lib/python3.9/site-packages/sklearn/utils/deprecation.py:87: FutureWarning: Function plot_confusion_matrix is deprecated; Function `plot_confusion_matrix` is deprecated in 1.0 and will be removed in 1.2. Use one of the class methods: ConfusionMatrixDisplay.from_predictions or ConfusionMatrixDisplay.from_estimator.\n",
      "  warnings.warn(msg, category=FutureWarning)\n"
     ]
    },
    {
     "data": {
      "text/plain": [
       "<sklearn.metrics._plot.confusion_matrix.ConfusionMatrixDisplay at 0x7fbd59b7dca0>"
      ]
     },
     "execution_count": 44,
     "metadata": {},
     "output_type": "execute_result"
    },
    {
     "data": {
      "image/png": "[encoded data removed]",
      "text/plain": [
       "<Figure size 432x288 with 2 Axes>"
      ]
     },
     "metadata": {
      "needs_background": "light"
     },
     "output_type": "display_data"
    }
   ],
   "source": [
    "build_pipeline(7000, 'logreg', LogisticRegression(max_iter=200, multi_class='multinomial', solver='lbfgs'), X_train, y_train, X_test, y_test)"
   ]
  },
  {
   "cell_type": "markdown",
   "id": "d20a722a-dcb1-460b-978f-01743cef7614",
   "metadata": {},
   "source": [
    "# TF-IDF and Random Forest"
   ]
  },
  {
   "cell_type": "code",
   "execution_count": 63,
   "id": "560e02e0-9ff6-4029-a23c-325ea32e6ea4",
   "metadata": {},
   "outputs": [
    {
     "name": "stdout",
     "output_type": "stream",
     "text": [
      "Train: 0.9232308077019254\n",
      "Test: 0.7846961740435109\n"
     ]
    },
    {
     "name": "stderr",
     "output_type": "stream",
     "text": [
      "/Users/petermurphy/opt/anaconda3/envs/dsi/lib/python3.9/site-packages/sklearn/utils/deprecation.py:87: FutureWarning: Function plot_confusion_matrix is deprecated; Function `plot_confusion_matrix` is deprecated in 1.0 and will be removed in 1.2. Use one of the class methods: ConfusionMatrixDisplay.from_predictions or ConfusionMatrixDisplay.from_estimator.\n",
      "  warnings.warn(msg, category=FutureWarning)\n"
     ]
    },
    {
     "data": {
      "text/plain": [
       "<sklearn.metrics._plot.confusion_matrix.ConfusionMatrixDisplay at 0x7fbd1c2bf460>"
      ]
     },
     "execution_count": 63,
     "metadata": {},
     "output_type": "execute_result"
    },
    {
     "data": {
      "image/png": "[encoded data removed]",
      "text/plain": [
       "<Figure size 432x288 with 2 Axes>"
      ]
     },
     "metadata": {
      "needs_background": "light"
     },
     "output_type": "display_data"
    }
   ],
   "source": [
    "build_pipeline(6000, 'rf', RandomForestClassifier(n_estimators=100), X_train, y_train, X_test, y_test)"
   ]
  },
  {
   "cell_type": "markdown",
   "id": "f17099d1-1c9c-46e0-bc7f-e4651b60586b",
   "metadata": {},
   "source": [
    "The random forest model was still the best model and performed even better with Tf-IDF Vectorizer. Can try to improve/reduce overfitting with a grid search. "
   ]
  },
  {
   "cell_type": "markdown",
   "id": "a0efddcc-2b57-4778-8c08-08c7ff89e49f",
   "metadata": {},
   "source": [
    "# ***Grid searching***"
   ]
  },
  {
   "cell_type": "code",
   "execution_count": 46,
   "id": "40f907f2-e868-4d76-aaea-9329f7ea8470",
   "metadata": {},
   "outputs": [],
   "source": [
    "# best model from above (random forest with Tf-IDF Vectorizer)\n",
    "# try to improve through a grid search\n",
    "\n",
    "pipe = Pipeline([\n",
    "    ('tvec', TfidfVectorizer()),\n",
    "    ('rf', RandomForestClassifier())\n",
    "])\n",
    "\n",
    "params = {\n",
    "    'tvec__max_features': [5000, 6000, 7000],\n",
    "    'tvec__stop_words': [None, 'english'],\n",
    "    'rf__n_estimators': [100, 200]\n",
    "}\n",
    "\n",
    "gs = GridSearchCV(pipe,\n",
    "                 params,\n",
    "                 cv = 3,\n",
    "                 verbose = 1)"
   ]
  },
  {
   "cell_type": "code",
   "execution_count": 47,
   "id": "774ba19e-9942-411d-bd80-36f40ee61b9c",
   "metadata": {
    "tags": []
   },
   "outputs": [
    {
     "name": "stdout",
     "output_type": "stream",
     "text": [
      "Fitting 3 folds for each of 12 candidates, totalling 36 fits\n",
      "Training Cross-validated: 0.718304576144036\n",
      "Test Score: 0.7809452363090773\n"
     ]
    },
    {
     "data": {
      "text/plain": [
       "{'rf__n_estimators': 200,\n",
       " 'tvec__max_features': 6000,\n",
       " 'tvec__stop_words': 'english'}"
      ]
     },
     "execution_count": 47,
     "metadata": {},
     "output_type": "execute_result"
    }
   ],
   "source": [
    "# Fit the grid search model\n",
    "gs.fit(X_train, y_train)\n",
    "\n",
    "print(f'Training Cross-validated: {gs.best_score_}') # mean cross-validated training score\n",
    "print(f'Test Score: {gs.score(X_test, y_test)}')\n",
    "\n",
    "gs.best_params_"
   ]
  },
  {
   "cell_type": "code",
   "execution_count": 50,
   "id": "daad7014-2860-4829-b55b-ca4d88c60bf0",
   "metadata": {},
   "outputs": [],
   "source": [
    "# continuing to fine tune the model\n",
    "pipe = Pipeline([\n",
    "    ('tvec', TfidfVectorizer(max_features=6_000, stop_words='english')),\n",
    "    ('rf', RandomForestClassifier())\n",
    "])\n",
    "\n",
    "params = {\n",
    "    'rf__n_estimators': [200, 300],\n",
    "    'rf__max_depth': [None, 2, 5, 9],\n",
    "    'rf__min_samples_leaf': [2, 6, 10]\n",
    "}\n",
    "\n",
    "gs = GridSearchCV(pipe,\n",
    "                 params,\n",
    "                 cv = 3,\n",
    "                 verbose = 1)"
   ]
  },
  {
   "cell_type": "code",
   "execution_count": 51,
   "id": "9d8e0a03-1dfe-45d1-92a8-d9144aa41f54",
   "metadata": {
    "tags": []
   },
   "outputs": [
    {
     "name": "stdout",
     "output_type": "stream",
     "text": [
      "Fitting 3 folds for each of 24 candidates, totalling 72 fits\n",
      "Training Cross-validated: 0.7180545136284072\n",
      "Test Score: 0.7741935483870968\n"
     ]
    },
    {
     "data": {
      "text/plain": [
       "{'rf__max_depth': None, 'rf__min_samples_leaf': 2, 'rf__n_estimators': 300}"
      ]
     },
     "execution_count": 51,
     "metadata": {},
     "output_type": "execute_result"
    }
   ],
   "source": [
    "# Fit the grid search model\n",
    "gs.fit(X_train, y_train)\n",
    "\n",
    "print(f'Training Cross-validated: {gs.best_score_}') # mean cross-validated training score\n",
    "print(f'Test Score: {gs.score(X_test, y_test)}')\n",
    "\n",
    "gs.best_params_"
   ]
  },
  {
   "cell_type": "markdown",
   "id": "54523833-fed9-4c7b-84d4-262a1b45c93a",
   "metadata": {},
   "source": [
    "------\n",
    "Writing functions that will stem and lemmatize the comments"
   ]
  },
  {
   "cell_type": "code",
   "execution_count": 55,
   "id": "eba7991c-bb8b-43ff-b1f8-6209b308e8c3",
   "metadata": {},
   "outputs": [],
   "source": [
    "# code was inspired by lesson 5.06 on NLP Practice\n",
    "\n",
    "def stem_review(description):\n",
    "    \n",
    "    # split into words\n",
    "    split_desc = description.split()\n",
    "    \n",
    "    # instantiate stemmer\n",
    "    p_stemmer = PorterStemmer()\n",
    "    \n",
    "    # stem and rejoin\n",
    "    return ' '.join([p_stemmer.stem(word) for word in split_desc])\n",
    "\n",
    "def lemmatize_review(description):\n",
    "    \n",
    "    # split into words\n",
    "    split_desc = description.split()\n",
    "    \n",
    "    # instantiate lemmatizer\n",
    "    lemmatizer = WordNetLemmatizer()\n",
    "\n",
    "    # lemmatize and rejoin\n",
    "    return ' '.join([lemmatizer.lemmatize(word) for word in split_desc])"
   ]
  },
  {
   "cell_type": "code",
   "execution_count": 58,
   "id": "3ddeb65c-f9c9-4b85-a391-a2bf860a0878",
   "metadata": {},
   "outputs": [
    {
     "name": "stdout",
     "output_type": "stream",
     "text": [
      "Fitting 5 folds for each of 3 candidates, totalling 15 fits\n",
      "Training Cross-validated: 0.7379337867417135\n",
      "Test Score: 0.777569392348087\n"
     ]
    }
   ],
   "source": [
    "# continuing to fine tune the model\n",
    "pipe = Pipeline([\n",
    "    ('tvec', TfidfVectorizer(max_features=6_000, stop_words=None)),\n",
    "    ('rf', RandomForestClassifier(n_estimators=300, min_samples_leaf= 2))\n",
    "])\n",
    "\n",
    "params = {\n",
    "    'tvec__preprocessor': [None, lemmatize_review, stem_review]\n",
    "}\n",
    "\n",
    "gs = GridSearchCV(pipe,\n",
    "                 params,\n",
    "                 cv = 5,\n",
    "                 verbose = 1)\n",
    "\n",
    "# Fit the grid search model\n",
    "gs.fit(X_train, y_train)\n",
    "\n",
    "print(f'Training Cross-validated: {gs.best_score_}') # mean cross-validated training score\n",
    "print(f'Test Score: {gs.score(X_test, y_test)}')"
   ]
  },
  {
   "cell_type": "markdown",
   "id": "935eb379-ef49-47eb-978f-6240c0d1a637",
   "metadata": {},
   "source": [
    "-------\n",
    "### Best Description Model: Random Forest (**78.47% Test Accuracy**)"
   ]
  },
  {
   "cell_type": "code",
   "execution_count": 17,
   "id": "95dea00f-0161-42f7-860f-19ebf353273b",
   "metadata": {},
   "outputs": [
    {
     "name": "stdout",
     "output_type": "stream",
     "text": [
      "Train Accuracy: 0.9232308077019254\n",
      "Test Accuracy: 0.7850712678169542\n"
     ]
    },
    {
     "name": "stderr",
     "output_type": "stream",
     "text": [
      "/Users/petermurphy/opt/anaconda3/envs/dsi/lib/python3.9/site-packages/sklearn/utils/deprecation.py:87: FutureWarning: Function plot_confusion_matrix is deprecated; Function `plot_confusion_matrix` is deprecated in 1.0 and will be removed in 1.2. Use one of the class methods: ConfusionMatrixDisplay.from_predictions or ConfusionMatrixDisplay.from_estimator.\n",
      "  warnings.warn(msg, category=FutureWarning)\n"
     ]
    },
    {
     "data": {
      "image/png": "[encoded data removed]",
      "text/plain": [
       "<Figure size 432x288 with 2 Axes>"
      ]
     },
     "metadata": {
      "needs_background": "light"
     },
     "output_type": "display_data"
    }
   ],
   "source": [
    "pipe = Pipeline([\n",
    "        ('tvec', TfidfVectorizer(max_features = 6_000)),\n",
    "        ('rf', RandomForestClassifier(n_estimators= 300))\n",
    "    ])\n",
    "\n",
    "pipe.fit(X_train, y_train)\n",
    "print('Train Accuracy:', pipe.score(X_train, y_train))\n",
    "print('Test Accuracy:', pipe.score(X_test, y_test))\n",
    "\n",
    "plot_confusion_matrix(pipe, X_test, y_test, cmap = 'Reds');"
   ]
  },
  {
   "cell_type": "code",
   "execution_count": null,
   "id": "7cc0a1e3-02e6-4283-94d2-b41fe4045a57",
   "metadata": {},
   "outputs": [],
   "source": []
  },
  {
   "cell_type": "markdown",
   "id": "cf3fe381-277f-43b4-8d16-b97d4ea42ee7",
   "metadata": {},
   "source": [
    "false positives and false negatives have similar cost. Balanced classes - try ROC curve"
   ]
  },
  {
   "cell_type": "code",
   "execution_count": 16,
   "id": "a5366841-c9a8-4ec6-a665-d9ff6cb86ca3",
   "metadata": {},
   "outputs": [
    {
     "data": {
      "text/plain": [
       "0.7861590848995299"
      ]
     },
     "execution_count": 16,
     "metadata": {},
     "output_type": "execute_result"
    }
   ],
   "source": [
    "# in calculating precision for multi-class, need to adjust the 'average' parameter\n",
    "y_pred = pipe.predict(X_test)\n",
    "precision_score(y_test, y_pred, average='macro')"
   ]
  },
  {
   "cell_type": "code",
   "execution_count": 15,
   "id": "5746efa4-6b11-4100-a039-00aa27a3b0f0",
   "metadata": {},
   "outputs": [
    {
     "data": {
      "text/plain": [
       "0.7846961740435109"
      ]
     },
     "execution_count": 15,
     "metadata": {},
     "output_type": "execute_result"
    }
   ],
   "source": [
    "y_pred = pipe.predict(X_test)\n",
    "precision_score(y_test, y_pred, average='micro')"
   ]
  },
  {
   "cell_type": "code",
   "execution_count": null,
   "id": "b9fa82ab-5295-4c8f-be30-a5b48e242679",
   "metadata": {},
   "outputs": [],
   "source": []
  },
  {
   "cell_type": "code",
   "execution_count": null,
   "id": "11413ba3-c06d-4bd4-ad2f-70fb5ad3f3da",
   "metadata": {},
   "outputs": [],
   "source": []
  },
  {
   "cell_type": "code",
   "execution_count": null,
   "id": "d12defb7-1146-4d3f-8aad-504c1094cf17",
   "metadata": {},
   "outputs": [],
   "source": []
  },
  {
   "cell_type": "markdown",
   "id": "05df4de8-0978-4f3f-9eb7-6cffc6f2aec9",
   "metadata": {},
   "source": [
    "# ROC Curve for analysis"
   ]
  },
  {
   "cell_type": "code",
   "execution_count": null,
   "id": "995977ce-1bbb-4b56-96c2-f6d4bf498f68",
   "metadata": {},
   "outputs": [],
   "source": []
  },
  {
   "cell_type": "code",
   "execution_count": null,
   "id": "1c994558-6657-428f-825c-259a82b626d1",
   "metadata": {},
   "outputs": [],
   "source": []
  },
  {
   "cell_type": "code",
   "execution_count": null,
   "id": "a1d56c5b-a493-49d1-81ad-8c79dad3c8b6",
   "metadata": {},
   "outputs": [],
   "source": []
  }
 ],
 "metadata": {
  "kernelspec": {
   "display_name": "Python [conda env:dsi] *",
   "language": "python",
   "name": "conda-env-dsi-py"
  },
  "language_info": {
   "codemirror_mode": {
    "name": "ipython",
    "version": 3
   },
   "file_extension": ".py",
   "mimetype": "text/x-python",
   "name": "python",
   "nbconvert_exporter": "python",
   "pygments_lexer": "ipython3",
   "version": "3.9.12"
  }
 },
 "nbformat": 4,
 "nbformat_minor": 5
}
