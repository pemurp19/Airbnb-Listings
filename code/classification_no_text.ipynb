{
 "cells": [
  {
   "cell_type": "markdown",
   "id": "b27d5c1c-d818-4d6f-b708-e9f91cec9da1",
   "metadata": {},
   "source": [
    "# **Multi-Class Classification (Excluding Text Features)**"
   ]
  },
  {
   "cell_type": "markdown",
   "id": "19bc0394-524b-4e2b-bc1e-ebb3bb1dcbf9",
   "metadata": {},
   "source": [
    "-------\n",
    "### Imports"
   ]
  },
  {
   "cell_type": "code",
   "execution_count": 169,
   "id": "7c42c85b-c752-4347-ae0a-3e97389bf558",
   "metadata": {},
   "outputs": [],
   "source": [
    "import pandas as pd\n",
    "import numpy as np\n",
    "import matplotlib.pyplot as plt\n",
    "import seaborn as sns\n",
    "\n",
    "from bs4 import BeautifulSoup\n",
    "\n",
    "from sklearn.linear_model import LogisticRegression\n",
    "from sklearn.naive_bayes import MultinomialNB\n",
    "from sklearn.neighbors import KNeighborsClassifier\n",
    "from sklearn.model_selection import train_test_split, cross_val_score\n",
    "from sklearn.feature_extraction.text import CountVectorizer, TfidfVectorizer\n",
    "from sklearn.pipeline import Pipeline\n",
    "from sklearn.model_selection import GridSearchCV\n",
    "from sklearn.preprocessing import StandardScaler\n",
    "from sklearn.ensemble import RandomForestClassifier, GradientBoostingClassifier, AdaBoostClassifier\n",
    "from sklearn.tree import DecisionTreeClassifier\n",
    "\n",
    "from sklearn.metrics import plot_confusion_matrix, classification_report, f1_score, precision_score"
   ]
  },
  {
   "cell_type": "markdown",
   "id": "62f08397-ed29-4d90-ad9a-ad58b56b40d3",
   "metadata": {
    "tags": []
   },
   "source": [
    "-------\n",
    "## Reading in the Listings Dataset"
   ]
  },
  {
   "cell_type": "code",
   "execution_count": 170,
   "id": "50452021-49aa-48a0-8182-35a8b6f58fa5",
   "metadata": {},
   "outputs": [],
   "source": [
    "listings = pd.read_csv('../data/listings_cleaned.csv')"
   ]
  },
  {
   "cell_type": "code",
   "execution_count": 171,
   "id": "ea090584-8bb6-4519-8d26-6f2234f18a24",
   "metadata": {},
   "outputs": [
    {
     "data": {
      "text/html": [
       "<div>\n",
       "<style scoped>\n",
       "    .dataframe tbody tr th:only-of-type {\n",
       "        vertical-align: middle;\n",
       "    }\n",
       "\n",
       "    .dataframe tbody tr th {\n",
       "        vertical-align: top;\n",
       "    }\n",
       "\n",
       "    .dataframe thead th {\n",
       "        text-align: right;\n",
       "    }\n",
       "</style>\n",
       "<table border=\"1\" class=\"dataframe\">\n",
       "  <thead>\n",
       "    <tr style=\"text-align: right;\">\n",
       "      <th></th>\n",
       "      <th>id</th>\n",
       "      <th>last_scraped</th>\n",
       "      <th>name</th>\n",
       "      <th>description</th>\n",
       "      <th>host_id</th>\n",
       "      <th>host_name</th>\n",
       "      <th>host_since</th>\n",
       "      <th>host_response_time</th>\n",
       "      <th>host_response_rate</th>\n",
       "      <th>host_is_superhost</th>\n",
       "      <th>...</th>\n",
       "      <th>reviews_per_month</th>\n",
       "      <th>city</th>\n",
       "      <th>state</th>\n",
       "      <th>zip_codes</th>\n",
       "      <th>bathrooms</th>\n",
       "      <th>bathrooms_shared</th>\n",
       "      <th>amenities_count</th>\n",
       "      <th>host_verifications_count</th>\n",
       "      <th>private_listing</th>\n",
       "      <th>rating_target</th>\n",
       "    </tr>\n",
       "  </thead>\n",
       "  <tbody>\n",
       "    <tr>\n",
       "      <th>0</th>\n",
       "      <td>3781</td>\n",
       "      <td>2021-09-19</td>\n",
       "      <td>HARBORSIDE-Walk to subway</td>\n",
       "      <td>Fully separate apartment in a two apartment bu...</td>\n",
       "      <td>4804</td>\n",
       "      <td>Frank</td>\n",
       "      <td>2008-12-03</td>\n",
       "      <td>3</td>\n",
       "      <td>100.0</td>\n",
       "      <td>0</td>\n",
       "      <td>...</td>\n",
       "      <td>0.29</td>\n",
       "      <td>Boston</td>\n",
       "      <td>Massachusetts</td>\n",
       "      <td>2128</td>\n",
       "      <td>1.0</td>\n",
       "      <td>0</td>\n",
       "      <td>31</td>\n",
       "      <td>3</td>\n",
       "      <td>1</td>\n",
       "      <td>3</td>\n",
       "    </tr>\n",
       "    <tr>\n",
       "      <th>1</th>\n",
       "      <td>5506</td>\n",
       "      <td>2021-09-19</td>\n",
       "      <td>** Private! Minutes to center!**</td>\n",
       "      <td>Private guest room with private bath, You do n...</td>\n",
       "      <td>8229</td>\n",
       "      <td>Terry</td>\n",
       "      <td>2009-02-19</td>\n",
       "      <td>3</td>\n",
       "      <td>100.0</td>\n",
       "      <td>1</td>\n",
       "      <td>...</td>\n",
       "      <td>0.90</td>\n",
       "      <td>Boston</td>\n",
       "      <td>Massachusetts</td>\n",
       "      <td>2119</td>\n",
       "      <td>1.0</td>\n",
       "      <td>0</td>\n",
       "      <td>30</td>\n",
       "      <td>4</td>\n",
       "      <td>1</td>\n",
       "      <td>2</td>\n",
       "    </tr>\n",
       "  </tbody>\n",
       "</table>\n",
       "<p>2 rows × 55 columns</p>\n",
       "</div>"
      ],
      "text/plain": [
       "     id last_scraped                              name  \\\n",
       "0  3781   2021-09-19         HARBORSIDE-Walk to subway   \n",
       "1  5506   2021-09-19  ** Private! Minutes to center!**   \n",
       "\n",
       "                                         description  host_id host_name  \\\n",
       "0  Fully separate apartment in a two apartment bu...     4804     Frank   \n",
       "1  Private guest room with private bath, You do n...     8229     Terry   \n",
       "\n",
       "   host_since  host_response_time  host_response_rate  host_is_superhost  ...  \\\n",
       "0  2008-12-03                   3               100.0                  0  ...   \n",
       "1  2009-02-19                   3               100.0                  1  ...   \n",
       "\n",
       "   reviews_per_month    city          state  zip_codes bathrooms  \\\n",
       "0               0.29  Boston  Massachusetts       2128       1.0   \n",
       "1               0.90  Boston  Massachusetts       2119       1.0   \n",
       "\n",
       "   bathrooms_shared  amenities_count host_verifications_count private_listing  \\\n",
       "0                 0               31                        3               1   \n",
       "1                 0               30                        4               1   \n",
       "\n",
       "   rating_target  \n",
       "0              3  \n",
       "1              2  \n",
       "\n",
       "[2 rows x 55 columns]"
      ]
     },
     "execution_count": 171,
     "metadata": {},
     "output_type": "execute_result"
    }
   ],
   "source": [
    "listings.head(2)"
   ]
  },
  {
   "cell_type": "markdown",
   "id": "8ad3f18d-8a09-4606-8bfb-4078a940becc",
   "metadata": {
    "tags": []
   },
   "source": [
    "------\n",
    "# **Modeling**"
   ]
  },
  {
   "cell_type": "code",
   "execution_count": 172,
   "id": "5f5b3b1c-5b3b-44e0-9370-4fd98bc77cf7",
   "metadata": {},
   "outputs": [],
   "source": [
    "# building a simple model to gauge performance\n",
    "features = ['amenities_count', 'host_response_time', \n",
    "            'host_response_rate', 'host_has_profile_pic','accommodates','license',\n",
    "            'reviews_per_month', 'host_verifications_count'] # intentionally not including price, didn't appear to be strong predictor of rating based on EDA\n",
    "\n",
    "# define X and y\n",
    "X = listings[features]\n",
    "y = listings['rating_target']"
   ]
  },
  {
   "cell_type": "code",
   "execution_count": 173,
   "id": "6792e85c-7d5d-4d9a-8d79-bb5b00cfff7f",
   "metadata": {},
   "outputs": [
    {
     "name": "stdout",
     "output_type": "stream",
     "text": [
      "2    2713\n",
      "1    2681\n",
      "3    2647\n",
      "4    2623\n",
      "Name: rating_target, dtype: int64\n",
      "*********************************************\n",
      "2    0.254407\n",
      "1    0.251407\n",
      "3    0.248218\n",
      "4    0.245968\n",
      "Name: rating_target, dtype: float64\n",
      "*********************************************\n",
      "Baseline Accuracy: 25.44%\n"
     ]
    }
   ],
   "source": [
    "# establishing the baseline accuracy\n",
    "print(y.value_counts())\n",
    "print('*'*45)\n",
    "print(y.value_counts(normalize=True))\n",
    "print('*'*45)\n",
    "\n",
    "print(f'Baseline Accuracy: {round(pd.Series(y.value_counts(normalize=True))[2]*100, 2)}%')\n"
   ]
  },
  {
   "cell_type": "code",
   "execution_count": 174,
   "id": "7159fb1d-52a0-4c8d-a201-07d06faebf01",
   "metadata": {},
   "outputs": [],
   "source": [
    "X_train, X_test, y_train, y_test = train_test_split(X, y, random_state=42)"
   ]
  },
  {
   "cell_type": "markdown",
   "id": "fb6d820c-63f6-4b8c-8513-ca23adeb3fa5",
   "metadata": {},
   "source": [
    "## Scale and fit Basic KNN"
   ]
  },
  {
   "cell_type": "code",
   "execution_count": 175,
   "id": "85bdb967-308b-4ae6-8fec-83f542405c6e",
   "metadata": {},
   "outputs": [],
   "source": [
    "ss= StandardScaler()\n",
    "X_train_sc = ss.fit_transform(X_train)\n",
    "X_test_sc = ss.transform(X_test)"
   ]
  },
  {
   "cell_type": "code",
   "execution_count": 176,
   "id": "662ea44f-c7c9-48a3-a601-2ac36e76311d",
   "metadata": {},
   "outputs": [
    {
     "name": "stdout",
     "output_type": "stream",
     "text": [
      "training accuracy: 0.6415353838459615\n",
      "test accuracy: 0.45723930982745686\n"
     ]
    }
   ],
   "source": [
    "# instantiate and fit KNNeighbors model with defaults\n",
    "knn = KNeighborsClassifier()\n",
    "knn.fit(X_train_sc, y_train)\n",
    "\n",
    "print(f'training accuracy: {knn.score(X_train_sc, y_train)}')\n",
    "print(f'test accuracy: {knn.score(X_test_sc, y_test)}')"
   ]
  },
  {
   "cell_type": "markdown",
   "id": "03226be7-f784-4cfe-a439-9c365626c735",
   "metadata": {},
   "source": [
    "## Fit basic Multinomial Logistic Regression"
   ]
  },
  {
   "cell_type": "code",
   "execution_count": 177,
   "id": "ca72f22f-fc0f-4c8e-b2aa-3645dd2b40cd",
   "metadata": {},
   "outputs": [
    {
     "name": "stdout",
     "output_type": "stream",
     "text": [
      "training accuracy: 0.3582145536384096\n",
      "test accuracy: 0.3555888972243061\n"
     ]
    },
    {
     "name": "stderr",
     "output_type": "stream",
     "text": [
      "/Users/petermurphy/opt/anaconda3/envs/dsi/lib/python3.9/site-packages/sklearn/linear_model/_logistic.py:814: ConvergenceWarning: lbfgs failed to converge (status=1):\n",
      "STOP: TOTAL NO. of ITERATIONS REACHED LIMIT.\n",
      "\n",
      "Increase the number of iterations (max_iter) or scale the data as shown in:\n",
      "    https://scikit-learn.org/stable/modules/preprocessing.html\n",
      "Please also refer to the documentation for alternative solver options:\n",
      "    https://scikit-learn.org/stable/modules/linear_model.html#logistic-regression\n",
      "  n_iter_i = _check_optimize_result(\n"
     ]
    }
   ],
   "source": [
    "log = LogisticRegression(max_iter = 200, multi_class='multinomial', solver='lbfgs')\n",
    "log.fit(X_train, y_train)\n",
    "\n",
    "print(f'training accuracy: {log.score(X_train, y_train)}')\n",
    "print(f'test accuracy: {log.score(X_test, y_test)}')"
   ]
  },
  {
   "cell_type": "code",
   "execution_count": 178,
   "id": "c68a05c6-3916-4a3e-bd41-0b39cc09859d",
   "metadata": {},
   "outputs": [
    {
     "name": "stdout",
     "output_type": "stream",
     "text": [
      "training accuracy: 0.3704676169042261\n",
      "test accuracy: 0.37209302325581395\n"
     ]
    }
   ],
   "source": [
    "# see if standardizing improves performance\n",
    "log = LogisticRegression(max_iter = 200, multi_class='multinomial', solver='lbfgs')\n",
    "log.fit(X_train_sc, y_train)\n",
    "\n",
    "print(f'training accuracy: {log.score(X_train_sc, y_train)}')\n",
    "print(f'test accuracy: {log.score(X_test_sc, y_test)}')"
   ]
  },
  {
   "cell_type": "markdown",
   "id": "80228b86-c968-43f6-abac-3ec952b189b5",
   "metadata": {},
   "source": [
    "## Fit basic Multinomial Naive Bayes"
   ]
  },
  {
   "cell_type": "code",
   "execution_count": 179,
   "id": "8f0621da-1347-45c9-9182-69cfc8413be4",
   "metadata": {},
   "outputs": [
    {
     "name": "stdout",
     "output_type": "stream",
     "text": [
      "training accuracy: 0.34833708427106774\n",
      "test accuracy: 0.3537134283570893\n"
     ]
    }
   ],
   "source": [
    "nb = MultinomialNB()\n",
    "nb.fit(X_train, y_train)\n",
    "\n",
    "print(f'training accuracy: {nb.score(X_train, y_train)}')\n",
    "print(f'test accuracy: {nb.score(X_test, y_test)}')"
   ]
  },
  {
   "cell_type": "markdown",
   "id": "f15bfeac-7810-492b-bb3a-9fa40f43ab6e",
   "metadata": {},
   "source": [
    "Poor performance on the basic features selected. KNN performed best in this scenario, though it's significantly overfit."
   ]
  },
  {
   "cell_type": "markdown",
   "id": "2807d37d-6554-4070-99bc-b1d9a2e99fbc",
   "metadata": {},
   "source": [
    "-------"
   ]
  },
  {
   "cell_type": "markdown",
   "id": "0859d743-f55c-426e-8394-23ec69f60d5b",
   "metadata": {},
   "source": [
    "## Attempt to throw more features at the models"
   ]
  },
  {
   "cell_type": "code",
   "execution_count": 180,
   "id": "51b53a4d-ab73-46c9-8e65-da3517935ead",
   "metadata": {},
   "outputs": [
    {
     "data": {
      "text/plain": [
       "id                                                int64\n",
       "last_scraped                                     object\n",
       "name                                             object\n",
       "description                                      object\n",
       "host_id                                           int64\n",
       "host_name                                        object\n",
       "host_since                                       object\n",
       "host_response_time                                int64\n",
       "host_response_rate                              float64\n",
       "host_is_superhost                                 int64\n",
       "abnb_host_listings_count                        float64\n",
       "host_verifications                               object\n",
       "host_has_profile_pic                              int64\n",
       "host_identity_verified                            int64\n",
       "neighborhood                                     object\n",
       "latitude                                        float64\n",
       "longitude                                       float64\n",
       "property_type                                    object\n",
       "room_type                                        object\n",
       "accommodates                                      int64\n",
       "beds                                            float64\n",
       "amenities                                        object\n",
       "price                                           float64\n",
       "minimum_nights                                    int64\n",
       "maximum_nights                                    int64\n",
       "minimum_nights_avg_ntm                          float64\n",
       "maximum_nights_avg_ntm                          float64\n",
       "available_today                                   int64\n",
       "availability_30                                   int64\n",
       "availability_60                                   int64\n",
       "availability_90                                   int64\n",
       "availability_365                                  int64\n",
       "calendar_last_scraped                            object\n",
       "number_of_reviews                                 int64\n",
       "number_of_reviews_ltm                             int64\n",
       "number_of_reviews_l30d                            int64\n",
       "first_review                                     object\n",
       "last_review                                      object\n",
       "rating                                          float64\n",
       "license                                           int64\n",
       "instant_bookable                                  int64\n",
       "calculated_host_listings_count                    int64\n",
       "calculated_host_listings_count_entire_homes       int64\n",
       "calculated_host_listings_count_private_rooms      int64\n",
       "calculated_host_listings_count_shared_rooms       int64\n",
       "reviews_per_month                               float64\n",
       "city                                             object\n",
       "state                                            object\n",
       "zip_codes                                         int64\n",
       "bathrooms                                       float64\n",
       "bathrooms_shared                                  int64\n",
       "amenities_count                                   int64\n",
       "host_verifications_count                          int64\n",
       "private_listing                                   int64\n",
       "rating_target                                     int64\n",
       "dtype: object"
      ]
     },
     "execution_count": 180,
     "metadata": {},
     "output_type": "execute_result"
    }
   ],
   "source": [
    "listings.dtypes"
   ]
  },
  {
   "cell_type": "code",
   "execution_count": 181,
   "id": "bdc8b3ee-ac9e-4078-a786-2a935db5545d",
   "metadata": {},
   "outputs": [
    {
     "name": "stdout",
     "output_type": "stream",
     "text": [
      "(10664, 55)\n"
     ]
    },
    {
     "data": {
      "text/plain": [
       "(10664, 125)"
      ]
     },
     "execution_count": 181,
     "metadata": {},
     "output_type": "execute_result"
    }
   ],
   "source": [
    "# preprocessing to make sure desired feature columns are numerical\n",
    "\n",
    "# dummify neighborhood, property type, and room type columns\n",
    "print(listings.shape)\n",
    "listings_dummy = pd.get_dummies(listings, columns = ['neighborhood','property_type','room_type'], drop_first = True)\n",
    "\n",
    "\n",
    "listings_dummy.shape"
   ]
  },
  {
   "cell_type": "code",
   "execution_count": 182,
   "id": "478dadf6-4b4a-4cf3-9bd3-d8edfaa55304",
   "metadata": {},
   "outputs": [],
   "source": [
    "features = [col for col in listings_dummy._get_numeric_data().columns]\n",
    "\n",
    "# define X and y\n",
    "X = listings_dummy[features]\n",
    "y = listings_dummy['rating_target']"
   ]
  },
  {
   "cell_type": "code",
   "execution_count": 183,
   "id": "9c4faa43-bbcc-4ee8-832d-d1b3c753056d",
   "metadata": {},
   "outputs": [],
   "source": [
    "X_train, X_test, y_train, y_test = train_test_split(X, y, random_state=42)"
   ]
  },
  {
   "cell_type": "code",
   "execution_count": 184,
   "id": "19eb98a3-3baf-470e-aa06-f58184e8669e",
   "metadata": {},
   "outputs": [
    {
     "name": "stdout",
     "output_type": "stream",
     "text": [
      "(7998, 113)\n",
      "(2666, 113)\n"
     ]
    }
   ],
   "source": [
    "print(X_train.shape)\n",
    "print(X_test.shape)"
   ]
  },
  {
   "cell_type": "markdown",
   "id": "26bb9da5-7988-49f3-98d3-5d3c50a1cb21",
   "metadata": {},
   "source": [
    "## Scale and fit KNN"
   ]
  },
  {
   "cell_type": "code",
   "execution_count": 185,
   "id": "427a83d2-94de-4c65-b083-8f6162f2d84c",
   "metadata": {},
   "outputs": [],
   "source": [
    "ss= StandardScaler()\n",
    "X_train_sc = ss.fit_transform(X_train)\n",
    "X_test_sc = ss.transform(X_test)"
   ]
  },
  {
   "cell_type": "code",
   "execution_count": 186,
   "id": "7c09e011-e205-497f-8883-57c8245da595",
   "metadata": {},
   "outputs": [
    {
     "name": "stdout",
     "output_type": "stream",
     "text": [
      "training accuracy: 0.7868217054263565\n",
      "test accuracy: 0.6342835708927231\n"
     ]
    }
   ],
   "source": [
    "# instantiate and fit KNNeighbors model with defaults\n",
    "knn = KNeighborsClassifier()\n",
    "knn.fit(X_train_sc, y_train)\n",
    "\n",
    "print(f'training accuracy: {knn.score(X_train_sc, y_train)}')\n",
    "print(f'test accuracy: {knn.score(X_test_sc, y_test)}')"
   ]
  },
  {
   "cell_type": "markdown",
   "id": "96f53ee2-0594-4c75-a68d-aa365598f9cd",
   "metadata": {},
   "source": [
    "## Fit Multinomial Logistic Regression"
   ]
  },
  {
   "cell_type": "code",
   "execution_count": 187,
   "id": "786f7ed7-dff5-4ba0-87c5-d60daec40f43",
   "metadata": {},
   "outputs": [
    {
     "name": "stdout",
     "output_type": "stream",
     "text": [
      "training accuracy: 1.0\n",
      "test accuracy: 0.9996249062265566\n"
     ]
    }
   ],
   "source": [
    "# see if standardizing improves performance\n",
    "log = LogisticRegression(max_iter = 200, multi_class='multinomial', solver='lbfgs')\n",
    "log.fit(X_train_sc, y_train)\n",
    "\n",
    "print(f'training accuracy: {log.score(X_train_sc, y_train)}')\n",
    "print(f'test accuracy: {log.score(X_test_sc, y_test)}')"
   ]
  },
  {
   "cell_type": "code",
   "execution_count": 188,
   "id": "dfc693d2-9a13-4d64-927e-ec52452764fe",
   "metadata": {},
   "outputs": [],
   "source": [
    "y_preds = log.predict(X_test_sc)"
   ]
  },
  {
   "cell_type": "code",
   "execution_count": 189,
   "id": "68a45710-3a89-4651-a821-99eb3ea3cbc8",
   "metadata": {},
   "outputs": [
    {
     "name": "stdout",
     "output_type": "stream",
     "text": [
      "0.9996249062265566\n"
     ]
    },
    {
     "data": {
      "text/plain": [
       "0.9996274217585693"
      ]
     },
     "execution_count": 189,
     "metadata": {},
     "output_type": "execute_result"
    }
   ],
   "source": [
    "print(precision_score(y_test, y_preds, average='micro'))\n",
    "precision_score(y_test, y_preds, average='macro')"
   ]
  },
  {
   "cell_type": "code",
   "execution_count": 193,
   "id": "2e89ca3a-822b-42c9-bca1-f8df7e80d513",
   "metadata": {},
   "outputs": [
    {
     "name": "stderr",
     "output_type": "stream",
     "text": [
      "/Users/petermurphy/opt/anaconda3/envs/dsi/lib/python3.9/site-packages/sklearn/utils/deprecation.py:87: FutureWarning: Function plot_confusion_matrix is deprecated; Function `plot_confusion_matrix` is deprecated in 1.0 and will be removed in 1.2. Use one of the class methods: ConfusionMatrixDisplay.from_predictions or ConfusionMatrixDisplay.from_estimator.\n",
      "  warnings.warn(msg, category=FutureWarning)\n"
     ]
    },
    {
     "data": {
      "image/png": "[encoded data removed]",
      "text/plain": [
       "<Figure size 432x288 with 2 Axes>"
      ]
     },
     "metadata": {
      "needs_background": "light"
     },
     "output_type": "display_data"
    }
   ],
   "source": [
    "plot_confusion_matrix(log, X_test_sc, y_test, cmap = 'Greens');"
   ]
  },
  {
   "cell_type": "markdown",
   "id": "b0e7f9b3-c29a-463b-ba3d-a41c7d39923a",
   "metadata": {},
   "source": [
    "------"
   ]
  },
  {
   "cell_type": "markdown",
   "id": "045ecf39-b40f-4301-b80a-7b5f0aaa7415",
   "metadata": {},
   "source": [
    "# Model Evaluation"
   ]
  },
  {
   "cell_type": "code",
   "execution_count": null,
   "id": "dd7a8c37-a6ec-4543-81f7-1bb6a0ce1dc2",
   "metadata": {},
   "outputs": [],
   "source": [
    "Regularization"
   ]
  },
  {
   "cell_type": "code",
   "execution_count": null,
   "id": "2b491959-bd08-4547-bb10-3c05179d2355",
   "metadata": {},
   "outputs": [],
   "source": [
    "PCA"
   ]
  },
  {
   "cell_type": "code",
   "execution_count": null,
   "id": "882b4871-1ebe-4464-9017-03244418d3d6",
   "metadata": {},
   "outputs": [],
   "source": [
    "Transfer Learning with Clustering"
   ]
  },
  {
   "cell_type": "markdown",
   "id": "46ed966f-6dfb-4ce7-b781-72a95484f093",
   "metadata": {},
   "source": [
    "Precision if balanced, f1 if unbalanced classes"
   ]
  },
  {
   "cell_type": "markdown",
   "id": "03c8b681-73fd-456a-b330-f581f70e3002",
   "metadata": {},
   "source": [
    "ROC Curve for analysis"
   ]
  },
  {
   "cell_type": "code",
   "execution_count": null,
   "id": "51867ed1-ab0e-4214-902e-92ebc73e5bea",
   "metadata": {},
   "outputs": [],
   "source": [
    "pd.Series(pipe.feature_importances_, index = good_cols)"
   ]
  },
  {
   "cell_type": "code",
   "execution_count": 48,
   "id": "d1ecbbb5-5eb8-49b8-a741-1f918fadfabf",
   "metadata": {},
   "outputs": [
    {
     "data": {
      "image/png": "[encoded data removed]",
      "text/plain": [
       "<Figure size 432x288 with 1 Axes>"
      ]
     },
     "metadata": {
      "needs_background": "light"
     },
     "output_type": "display_data"
    }
   ],
   "source": [
    "pd.Series(pipe.feature_importances_, index = good_cols).plot(kind = 'barh');"
   ]
  }
 ],
 "metadata": {
  "kernelspec": {
   "display_name": "Python [conda env:dsi] *",
   "language": "python",
   "name": "conda-env-dsi-py"
  },
  "language_info": {
   "codemirror_mode": {
    "name": "ipython",
    "version": 3
   },
   "file_extension": ".py",
   "mimetype": "text/x-python",
   "name": "python",
   "nbconvert_exporter": "python",
   "pygments_lexer": "ipython3",
   "version": "3.9.12"
  }
 },
 "nbformat": 4,
 "nbformat_minor": 5
}
