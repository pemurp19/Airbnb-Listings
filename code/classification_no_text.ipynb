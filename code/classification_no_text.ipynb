{
 "cells": [
  {
   "cell_type": "markdown",
   "id": "b27d5c1c-d818-4d6f-b708-e9f91cec9da1",
   "metadata": {},
   "source": [
    "# **Multi-Class Classification (Excluding Text Features)**"
   ]
  },
  {
   "cell_type": "markdown",
   "id": "19bc0394-524b-4e2b-bc1e-ebb3bb1dcbf9",
   "metadata": {},
   "source": [
    "-------\n",
    "### Imports"
   ]
  },
  {
   "cell_type": "code",
   "execution_count": 1,
   "id": "7c42c85b-c752-4347-ae0a-3e97389bf558",
   "metadata": {},
   "outputs": [],
   "source": [
    "import pandas as pd\n",
    "import numpy as np\n",
    "import matplotlib.pyplot as plt\n",
    "import seaborn as sns\n",
    "\n",
    "from sklearn.linear_model import LogisticRegression\n",
    "from sklearn.naive_bayes import MultinomialNB\n",
    "from sklearn.neighbors import KNeighborsClassifier\n",
    "from sklearn.model_selection import train_test_split, cross_val_score\n",
    "from sklearn.feature_extraction.text import CountVectorizer, TfidfVectorizer\n",
    "from sklearn.pipeline import Pipeline\n",
    "from sklearn.model_selection import GridSearchCV\n",
    "from sklearn.preprocessing import StandardScaler\n",
    "from sklearn.ensemble import RandomForestClassifier, GradientBoostingClassifier, AdaBoostClassifier\n",
    "from sklearn.tree import DecisionTreeClassifier\n",
    "\n",
    "from sklearn.metrics import plot_confusion_matrix, classification_report, f1_score, precision_score"
   ]
  },
  {
   "cell_type": "markdown",
   "id": "62f08397-ed29-4d90-ad9a-ad58b56b40d3",
   "metadata": {
    "tags": []
   },
   "source": [
    "-------\n",
    "## Reading in the Listings Dataset"
   ]
  },
  {
   "cell_type": "code",
   "execution_count": 2,
   "id": "50452021-49aa-48a0-8182-35a8b6f58fa5",
   "metadata": {},
   "outputs": [],
   "source": [
    "listings = pd.read_csv('../data/listings_cleaned.csv')"
   ]
  },
  {
   "cell_type": "code",
   "execution_count": 3,
   "id": "ea090584-8bb6-4519-8d26-6f2234f18a24",
   "metadata": {},
   "outputs": [
    {
     "data": {
      "text/html": [
       "<div>\n",
       "<style scoped>\n",
       "    .dataframe tbody tr th:only-of-type {\n",
       "        vertical-align: middle;\n",
       "    }\n",
       "\n",
       "    .dataframe tbody tr th {\n",
       "        vertical-align: top;\n",
       "    }\n",
       "\n",
       "    .dataframe thead th {\n",
       "        text-align: right;\n",
       "    }\n",
       "</style>\n",
       "<table border=\"1\" class=\"dataframe\">\n",
       "  <thead>\n",
       "    <tr style=\"text-align: right;\">\n",
       "      <th></th>\n",
       "      <th>id</th>\n",
       "      <th>last_scraped</th>\n",
       "      <th>name</th>\n",
       "      <th>description</th>\n",
       "      <th>host_id</th>\n",
       "      <th>host_name</th>\n",
       "      <th>host_since</th>\n",
       "      <th>host_response_time</th>\n",
       "      <th>host_response_rate</th>\n",
       "      <th>host_is_superhost</th>\n",
       "      <th>...</th>\n",
       "      <th>reviews_per_month</th>\n",
       "      <th>city</th>\n",
       "      <th>state</th>\n",
       "      <th>zip_codes</th>\n",
       "      <th>bathrooms</th>\n",
       "      <th>bathrooms_shared</th>\n",
       "      <th>amenities_count</th>\n",
       "      <th>host_verifications_count</th>\n",
       "      <th>private_listing</th>\n",
       "      <th>rating_target</th>\n",
       "    </tr>\n",
       "  </thead>\n",
       "  <tbody>\n",
       "    <tr>\n",
       "      <th>0</th>\n",
       "      <td>3781</td>\n",
       "      <td>2021-09-19</td>\n",
       "      <td>HARBORSIDE-Walk to subway</td>\n",
       "      <td>Fully separate apartment in a two apartment bu...</td>\n",
       "      <td>4804</td>\n",
       "      <td>Frank</td>\n",
       "      <td>2008-12-03</td>\n",
       "      <td>3</td>\n",
       "      <td>100.0</td>\n",
       "      <td>0</td>\n",
       "      <td>...</td>\n",
       "      <td>0.29</td>\n",
       "      <td>Boston</td>\n",
       "      <td>Massachusetts</td>\n",
       "      <td>2128</td>\n",
       "      <td>1.0</td>\n",
       "      <td>0</td>\n",
       "      <td>31</td>\n",
       "      <td>3</td>\n",
       "      <td>1</td>\n",
       "      <td>3</td>\n",
       "    </tr>\n",
       "    <tr>\n",
       "      <th>1</th>\n",
       "      <td>5506</td>\n",
       "      <td>2021-09-19</td>\n",
       "      <td>** Private! Minutes to center!**</td>\n",
       "      <td>Private guest room with private bath, You do n...</td>\n",
       "      <td>8229</td>\n",
       "      <td>Terry</td>\n",
       "      <td>2009-02-19</td>\n",
       "      <td>3</td>\n",
       "      <td>100.0</td>\n",
       "      <td>1</td>\n",
       "      <td>...</td>\n",
       "      <td>0.90</td>\n",
       "      <td>Boston</td>\n",
       "      <td>Massachusetts</td>\n",
       "      <td>2119</td>\n",
       "      <td>1.0</td>\n",
       "      <td>0</td>\n",
       "      <td>30</td>\n",
       "      <td>4</td>\n",
       "      <td>1</td>\n",
       "      <td>2</td>\n",
       "    </tr>\n",
       "  </tbody>\n",
       "</table>\n",
       "<p>2 rows × 55 columns</p>\n",
       "</div>"
      ],
      "text/plain": [
       "     id last_scraped                              name  \\\n",
       "0  3781   2021-09-19         HARBORSIDE-Walk to subway   \n",
       "1  5506   2021-09-19  ** Private! Minutes to center!**   \n",
       "\n",
       "                                         description  host_id host_name  \\\n",
       "0  Fully separate apartment in a two apartment bu...     4804     Frank   \n",
       "1  Private guest room with private bath, You do n...     8229     Terry   \n",
       "\n",
       "   host_since  host_response_time  host_response_rate  host_is_superhost  ...  \\\n",
       "0  2008-12-03                   3               100.0                  0  ...   \n",
       "1  2009-02-19                   3               100.0                  1  ...   \n",
       "\n",
       "   reviews_per_month    city          state  zip_codes bathrooms  \\\n",
       "0               0.29  Boston  Massachusetts       2128       1.0   \n",
       "1               0.90  Boston  Massachusetts       2119       1.0   \n",
       "\n",
       "   bathrooms_shared  amenities_count host_verifications_count private_listing  \\\n",
       "0                 0               31                        3               1   \n",
       "1                 0               30                        4               1   \n",
       "\n",
       "   rating_target  \n",
       "0              3  \n",
       "1              2  \n",
       "\n",
       "[2 rows x 55 columns]"
      ]
     },
     "execution_count": 3,
     "metadata": {},
     "output_type": "execute_result"
    }
   ],
   "source": [
    "listings.head(2)"
   ]
  },
  {
   "cell_type": "markdown",
   "id": "8ad3f18d-8a09-4606-8bfb-4078a940becc",
   "metadata": {
    "tags": []
   },
   "source": [
    "------\n",
    "# **Modeling**"
   ]
  },
  {
   "cell_type": "code",
   "execution_count": 4,
   "id": "5f5b3b1c-5b3b-44e0-9370-4fd98bc77cf7",
   "metadata": {},
   "outputs": [],
   "source": [
    "# building a simple model to gauge performance\n",
    "features = ['amenities_count', 'host_response_time', \n",
    "            'host_response_rate', 'host_has_profile_pic','accommodates','license',\n",
    "            'reviews_per_month', 'host_verifications_count'] # intentionally not including price, didn't appear to be strong predictor of rating based on EDA\n",
    "\n",
    "# define X and y\n",
    "X = listings[features]\n",
    "y = listings['rating_target']"
   ]
  },
  {
   "cell_type": "code",
   "execution_count": 5,
   "id": "6792e85c-7d5d-4d9a-8d79-bb5b00cfff7f",
   "metadata": {},
   "outputs": [
    {
     "name": "stdout",
     "output_type": "stream",
     "text": [
      "2    2713\n",
      "1    2681\n",
      "3    2647\n",
      "4    2623\n",
      "Name: rating_target, dtype: int64\n",
      "*********************************************\n",
      "2    0.254407\n",
      "1    0.251407\n",
      "3    0.248218\n",
      "4    0.245968\n",
      "Name: rating_target, dtype: float64\n",
      "*********************************************\n",
      "Baseline Accuracy: 25.44%\n"
     ]
    }
   ],
   "source": [
    "# establishing the baseline accuracy\n",
    "print(y.value_counts())\n",
    "print('*'*45)\n",
    "print(y.value_counts(normalize=True))\n",
    "print('*'*45)\n",
    "\n",
    "print(f'Baseline Accuracy: {round(pd.Series(y.value_counts(normalize=True))[2]*100, 2)}%')\n"
   ]
  },
  {
   "cell_type": "code",
   "execution_count": 6,
   "id": "7159fb1d-52a0-4c8d-a201-07d06faebf01",
   "metadata": {},
   "outputs": [
    {
     "name": "stdout",
     "output_type": "stream",
     "text": [
      "(7998, 8)\n",
      "(2666, 8)\n"
     ]
    }
   ],
   "source": [
    "X_train, X_test, y_train, y_test = train_test_split(X, y, random_state=42)\n",
    "print(X_train.shape)\n",
    "print(X_test.shape)"
   ]
  },
  {
   "cell_type": "markdown",
   "id": "fb6d820c-63f6-4b8c-8513-ca23adeb3fa5",
   "metadata": {},
   "source": [
    "## Scale and fit Basic KNN"
   ]
  },
  {
   "cell_type": "code",
   "execution_count": 7,
   "id": "85bdb967-308b-4ae6-8fec-83f542405c6e",
   "metadata": {},
   "outputs": [],
   "source": [
    "ss= StandardScaler()\n",
    "X_train_sc = ss.fit_transform(X_train)\n",
    "X_test_sc = ss.transform(X_test)"
   ]
  },
  {
   "cell_type": "code",
   "execution_count": 8,
   "id": "662ea44f-c7c9-48a3-a601-2ac36e76311d",
   "metadata": {},
   "outputs": [
    {
     "name": "stdout",
     "output_type": "stream",
     "text": [
      "training accuracy: 0.6415353838459615\n",
      "test accuracy: 0.45723930982745686\n"
     ]
    }
   ],
   "source": [
    "# instantiate and fit KNNeighbors model with defaults\n",
    "knn = KNeighborsClassifier()\n",
    "knn.fit(X_train_sc, y_train)\n",
    "\n",
    "print(f'training accuracy: {knn.score(X_train_sc, y_train)}')\n",
    "print(f'test accuracy: {knn.score(X_test_sc, y_test)}')"
   ]
  },
  {
   "cell_type": "markdown",
   "id": "03226be7-f784-4cfe-a439-9c365626c735",
   "metadata": {},
   "source": [
    "## Fit basic Multinomial Logistic Regression"
   ]
  },
  {
   "cell_type": "code",
   "execution_count": 9,
   "id": "ca72f22f-fc0f-4c8e-b2aa-3645dd2b40cd",
   "metadata": {},
   "outputs": [
    {
     "name": "stdout",
     "output_type": "stream",
     "text": [
      "training accuracy: 0.3582145536384096\n",
      "test accuracy: 0.3555888972243061\n"
     ]
    },
    {
     "name": "stderr",
     "output_type": "stream",
     "text": [
      "/Users/petermurphy/opt/anaconda3/envs/dsi/lib/python3.9/site-packages/sklearn/linear_model/_logistic.py:814: ConvergenceWarning: lbfgs failed to converge (status=1):\n",
      "STOP: TOTAL NO. of ITERATIONS REACHED LIMIT.\n",
      "\n",
      "Increase the number of iterations (max_iter) or scale the data as shown in:\n",
      "    https://scikit-learn.org/stable/modules/preprocessing.html\n",
      "Please also refer to the documentation for alternative solver options:\n",
      "    https://scikit-learn.org/stable/modules/linear_model.html#logistic-regression\n",
      "  n_iter_i = _check_optimize_result(\n"
     ]
    }
   ],
   "source": [
    "log = LogisticRegression(max_iter = 200, multi_class='multinomial', solver='lbfgs')\n",
    "log.fit(X_train, y_train)\n",
    "\n",
    "print(f'training accuracy: {log.score(X_train, y_train)}')\n",
    "print(f'test accuracy: {log.score(X_test, y_test)}')"
   ]
  },
  {
   "cell_type": "code",
   "execution_count": 10,
   "id": "c68a05c6-3916-4a3e-bd41-0b39cc09859d",
   "metadata": {},
   "outputs": [
    {
     "name": "stdout",
     "output_type": "stream",
     "text": [
      "training accuracy: 0.3704676169042261\n",
      "test accuracy: 0.37209302325581395\n"
     ]
    }
   ],
   "source": [
    "# see if standardizing improves performance\n",
    "log = LogisticRegression(max_iter = 200, multi_class='multinomial', solver='lbfgs')\n",
    "log.fit(X_train_sc, y_train)\n",
    "\n",
    "print(f'training accuracy: {log.score(X_train_sc, y_train)}')\n",
    "print(f'test accuracy: {log.score(X_test_sc, y_test)}')"
   ]
  },
  {
   "cell_type": "markdown",
   "id": "80228b86-c968-43f6-abac-3ec952b189b5",
   "metadata": {},
   "source": [
    "## Fit basic Multinomial Naive Bayes"
   ]
  },
  {
   "cell_type": "code",
   "execution_count": 11,
   "id": "8f0621da-1347-45c9-9182-69cfc8413be4",
   "metadata": {},
   "outputs": [
    {
     "name": "stdout",
     "output_type": "stream",
     "text": [
      "training accuracy: 0.34833708427106774\n",
      "test accuracy: 0.3537134283570893\n"
     ]
    }
   ],
   "source": [
    "nb = MultinomialNB()\n",
    "nb.fit(X_train, y_train)\n",
    "\n",
    "print(f'training accuracy: {nb.score(X_train, y_train)}')\n",
    "print(f'test accuracy: {nb.score(X_test, y_test)}')"
   ]
  },
  {
   "cell_type": "markdown",
   "id": "f15bfeac-7810-492b-bb3a-9fa40f43ab6e",
   "metadata": {},
   "source": [
    "Poor performance on the basic features selected. KNN performed best in this scenario, though it's significantly overfit."
   ]
  },
  {
   "cell_type": "markdown",
   "id": "2807d37d-6554-4070-99bc-b1d9a2e99fbc",
   "metadata": {},
   "source": [
    "-------"
   ]
  },
  {
   "cell_type": "markdown",
   "id": "0859d743-f55c-426e-8394-23ec69f60d5b",
   "metadata": {},
   "source": [
    "## Attempt to throw more features at the models"
   ]
  },
  {
   "cell_type": "code",
   "execution_count": 12,
   "id": "51b53a4d-ab73-46c9-8e65-da3517935ead",
   "metadata": {},
   "outputs": [
    {
     "data": {
      "text/plain": [
       "id                                                int64\n",
       "last_scraped                                     object\n",
       "name                                             object\n",
       "description                                      object\n",
       "host_id                                           int64\n",
       "host_name                                        object\n",
       "host_since                                       object\n",
       "host_response_time                                int64\n",
       "host_response_rate                              float64\n",
       "host_is_superhost                                 int64\n",
       "abnb_host_listings_count                        float64\n",
       "host_verifications                               object\n",
       "host_has_profile_pic                              int64\n",
       "host_identity_verified                            int64\n",
       "neighborhood                                     object\n",
       "latitude                                        float64\n",
       "longitude                                       float64\n",
       "property_type                                    object\n",
       "room_type                                        object\n",
       "accommodates                                      int64\n",
       "beds                                            float64\n",
       "amenities                                        object\n",
       "price                                           float64\n",
       "minimum_nights                                    int64\n",
       "maximum_nights                                    int64\n",
       "minimum_nights_avg_ntm                          float64\n",
       "maximum_nights_avg_ntm                          float64\n",
       "available_today                                   int64\n",
       "availability_30                                   int64\n",
       "availability_60                                   int64\n",
       "availability_90                                   int64\n",
       "availability_365                                  int64\n",
       "calendar_last_scraped                            object\n",
       "number_of_reviews                                 int64\n",
       "number_of_reviews_ltm                             int64\n",
       "number_of_reviews_l30d                            int64\n",
       "first_review                                     object\n",
       "last_review                                      object\n",
       "rating                                          float64\n",
       "license                                           int64\n",
       "instant_bookable                                  int64\n",
       "calculated_host_listings_count                    int64\n",
       "calculated_host_listings_count_entire_homes       int64\n",
       "calculated_host_listings_count_private_rooms      int64\n",
       "calculated_host_listings_count_shared_rooms       int64\n",
       "reviews_per_month                               float64\n",
       "city                                             object\n",
       "state                                            object\n",
       "zip_codes                                         int64\n",
       "bathrooms                                       float64\n",
       "bathrooms_shared                                  int64\n",
       "amenities_count                                   int64\n",
       "host_verifications_count                          int64\n",
       "private_listing                                   int64\n",
       "rating_target                                     int64\n",
       "dtype: object"
      ]
     },
     "execution_count": 12,
     "metadata": {},
     "output_type": "execute_result"
    }
   ],
   "source": [
    "listings.dtypes"
   ]
  },
  {
   "cell_type": "code",
   "execution_count": 13,
   "id": "bdc8b3ee-ac9e-4078-a786-2a935db5545d",
   "metadata": {},
   "outputs": [
    {
     "name": "stdout",
     "output_type": "stream",
     "text": [
      "(10664, 55)\n"
     ]
    },
    {
     "data": {
      "text/plain": [
       "(10664, 125)"
      ]
     },
     "execution_count": 13,
     "metadata": {},
     "output_type": "execute_result"
    }
   ],
   "source": [
    "# preprocessing to make sure desired feature columns are numerical\n",
    "\n",
    "# dummify neighborhood, property type, and room type columns\n",
    "print(listings.shape)\n",
    "listings_dummy = pd.get_dummies(listings, columns = ['neighborhood','property_type','room_type'], drop_first = True)\n",
    "\n",
    "\n",
    "listings_dummy.shape"
   ]
  },
  {
   "cell_type": "code",
   "execution_count": 14,
   "id": "478dadf6-4b4a-4cf3-9bd3-d8edfaa55304",
   "metadata": {
    "tags": []
   },
   "outputs": [],
   "source": [
    "features = [col for col in listings_dummy._get_numeric_data().columns]\n",
    "\n",
    "# define X and y\n",
    "X = listings_dummy[features]\n",
    "y = listings_dummy['rating_target']"
   ]
  },
  {
   "cell_type": "code",
   "execution_count": 15,
   "id": "9c4faa43-bbcc-4ee8-832d-d1b3c753056d",
   "metadata": {},
   "outputs": [],
   "source": [
    "X_train, X_test, y_train, y_test = train_test_split(X, y, random_state=42)"
   ]
  },
  {
   "cell_type": "code",
   "execution_count": 16,
   "id": "19eb98a3-3baf-470e-aa06-f58184e8669e",
   "metadata": {},
   "outputs": [
    {
     "name": "stdout",
     "output_type": "stream",
     "text": [
      "(7998, 113)\n",
      "(2666, 113)\n"
     ]
    }
   ],
   "source": [
    "print(X_train.shape)\n",
    "print(X_test.shape)"
   ]
  },
  {
   "cell_type": "markdown",
   "id": "26bb9da5-7988-49f3-98d3-5d3c50a1cb21",
   "metadata": {},
   "source": [
    "## Scale and fit KNN"
   ]
  },
  {
   "cell_type": "code",
   "execution_count": 17,
   "id": "427a83d2-94de-4c65-b083-8f6162f2d84c",
   "metadata": {},
   "outputs": [],
   "source": [
    "ss= StandardScaler()\n",
    "X_train_sc = ss.fit_transform(X_train)\n",
    "X_test_sc = ss.transform(X_test)"
   ]
  },
  {
   "cell_type": "code",
   "execution_count": 18,
   "id": "7c09e011-e205-497f-8883-57c8245da595",
   "metadata": {},
   "outputs": [
    {
     "name": "stdout",
     "output_type": "stream",
     "text": [
      "training accuracy: 0.7868217054263565\n",
      "test accuracy: 0.6342835708927231\n"
     ]
    }
   ],
   "source": [
    "# instantiate and fit KNNeighbors model with defaults\n",
    "knn = KNeighborsClassifier()\n",
    "knn.fit(X_train_sc, y_train)\n",
    "\n",
    "print(f'training accuracy: {knn.score(X_train_sc, y_train)}')\n",
    "print(f'test accuracy: {knn.score(X_test_sc, y_test)}')"
   ]
  },
  {
   "cell_type": "markdown",
   "id": "96f53ee2-0594-4c75-a68d-aa365598f9cd",
   "metadata": {},
   "source": [
    "## Fit Multinomial Logistic Regression"
   ]
  },
  {
   "cell_type": "code",
   "execution_count": 19,
   "id": "786f7ed7-dff5-4ba0-87c5-d60daec40f43",
   "metadata": {},
   "outputs": [
    {
     "name": "stdout",
     "output_type": "stream",
     "text": [
      "training accuracy: 1.0\n",
      "test accuracy: 0.9996249062265566\n"
     ]
    }
   ],
   "source": [
    "# see if standardizing improves performance\n",
    "log = LogisticRegression(max_iter = 200, multi_class='multinomial', solver='lbfgs')\n",
    "log.fit(X_train_sc, y_train)\n",
    "\n",
    "print(f'training accuracy: {log.score(X_train_sc, y_train)}')\n",
    "print(f'test accuracy: {log.score(X_test_sc, y_test)}')"
   ]
  },
  {
   "cell_type": "code",
   "execution_count": 40,
   "id": "f4ad5cd9-5464-4d9f-8140-94eae4dce671",
   "metadata": {},
   "outputs": [
    {
     "data": {
      "text/plain": [
       "1.0"
      ]
     },
     "execution_count": 40,
     "metadata": {},
     "output_type": "execute_result"
    }
   ],
   "source": [
    "# Cross Val score\n",
    "cross_val_score(log, X_train_sc, y_train).mean()"
   ]
  },
  {
   "cell_type": "code",
   "execution_count": 26,
   "id": "dfc693d2-9a13-4d64-927e-ec52452764fe",
   "metadata": {},
   "outputs": [],
   "source": [
    "y_preds = log.predict(X_test_sc)"
   ]
  },
  {
   "cell_type": "code",
   "execution_count": 27,
   "id": "68a45710-3a89-4651-a821-99eb3ea3cbc8",
   "metadata": {},
   "outputs": [
    {
     "name": "stdout",
     "output_type": "stream",
     "text": [
      "0.9996249062265566\n"
     ]
    },
    {
     "data": {
      "text/plain": [
       "0.9996274217585693"
      ]
     },
     "execution_count": 27,
     "metadata": {},
     "output_type": "execute_result"
    }
   ],
   "source": [
    "print(precision_score(y_test, y_preds, average='micro'))\n",
    "precision_score(y_test, y_preds, average='macro')"
   ]
  },
  {
   "cell_type": "code",
   "execution_count": 28,
   "id": "2e89ca3a-822b-42c9-bca1-f8df7e80d513",
   "metadata": {},
   "outputs": [
    {
     "name": "stderr",
     "output_type": "stream",
     "text": [
      "/Users/petermurphy/opt/anaconda3/envs/dsi/lib/python3.9/site-packages/sklearn/utils/deprecation.py:87: FutureWarning: Function plot_confusion_matrix is deprecated; Function `plot_confusion_matrix` is deprecated in 1.0 and will be removed in 1.2. Use one of the class methods: ConfusionMatrixDisplay.from_predictions or ConfusionMatrixDisplay.from_estimator.\n",
      "  warnings.warn(msg, category=FutureWarning)\n"
     ]
    },
    {
     "data": {
      "image/png": "[encoded data removed]",
      "text/plain": [
       "<Figure size 432x288 with 2 Axes>"
      ]
     },
     "metadata": {
      "needs_background": "light"
     },
     "output_type": "display_data"
    }
   ],
   "source": [
    "plot_confusion_matrix(log, X_test_sc, y_test, cmap = 'Greens');"
   ]
  },
  {
   "cell_type": "markdown",
   "id": "b0e7f9b3-c29a-463b-ba3d-a41c7d39923a",
   "metadata": {},
   "source": [
    "------"
   ]
  },
  {
   "cell_type": "markdown",
   "id": "5c201839-9b39-4439-a940-ae2ae0ab3433",
   "metadata": {},
   "source": [
    "-------\n",
    "## **Validating with another city (Seattle)**"
   ]
  },
  {
   "cell_type": "code",
   "execution_count": 49,
   "id": "2637dbc0-231a-4519-8f02-55ce8d92c004",
   "metadata": {},
   "outputs": [],
   "source": [
    "sea_listings = pd.read_csv('../data/seattle_listings_cleaned.csv')"
   ]
  },
  {
   "cell_type": "code",
   "execution_count": 50,
   "id": "eb5019c7-6cea-4b09-baee-2b648190b199",
   "metadata": {},
   "outputs": [
    {
     "data": {
      "text/html": [
       "<div>\n",
       "<style scoped>\n",
       "    .dataframe tbody tr th:only-of-type {\n",
       "        vertical-align: middle;\n",
       "    }\n",
       "\n",
       "    .dataframe tbody tr th {\n",
       "        vertical-align: top;\n",
       "    }\n",
       "\n",
       "    .dataframe thead th {\n",
       "        text-align: right;\n",
       "    }\n",
       "</style>\n",
       "<table border=\"1\" class=\"dataframe\">\n",
       "  <thead>\n",
       "    <tr style=\"text-align: right;\">\n",
       "      <th></th>\n",
       "      <th>id</th>\n",
       "      <th>last_scraped</th>\n",
       "      <th>name</th>\n",
       "      <th>description</th>\n",
       "      <th>host_id</th>\n",
       "      <th>host_name</th>\n",
       "      <th>host_since</th>\n",
       "      <th>host_response_time</th>\n",
       "      <th>host_response_rate</th>\n",
       "      <th>host_is_superhost</th>\n",
       "      <th>...</th>\n",
       "      <th>calculated_host_listings_count_entire_homes</th>\n",
       "      <th>calculated_host_listings_count_private_rooms</th>\n",
       "      <th>calculated_host_listings_count_shared_rooms</th>\n",
       "      <th>reviews_per_month</th>\n",
       "      <th>bathrooms</th>\n",
       "      <th>bathrooms_shared</th>\n",
       "      <th>amenities_count</th>\n",
       "      <th>host_verifications_count</th>\n",
       "      <th>private_listing</th>\n",
       "      <th>rating_target</th>\n",
       "    </tr>\n",
       "  </thead>\n",
       "  <tbody>\n",
       "    <tr>\n",
       "      <th>0</th>\n",
       "      <td>2318</td>\n",
       "      <td>2021-09-25</td>\n",
       "      <td>Casa Madrona - Urban Oasis 1 block from the park!</td>\n",
       "      <td>Gorgeous, architect remodeled, Dutch Colonial ...</td>\n",
       "      <td>2536</td>\n",
       "      <td>Megan</td>\n",
       "      <td>2008-08-26</td>\n",
       "      <td>3</td>\n",
       "      <td>100.0</td>\n",
       "      <td>0</td>\n",
       "      <td>...</td>\n",
       "      <td>1</td>\n",
       "      <td>0</td>\n",
       "      <td>0</td>\n",
       "      <td>0.61</td>\n",
       "      <td>2.5</td>\n",
       "      <td>0</td>\n",
       "      <td>36</td>\n",
       "      <td>8</td>\n",
       "      <td>1</td>\n",
       "      <td>3</td>\n",
       "    </tr>\n",
       "    <tr>\n",
       "      <th>1</th>\n",
       "      <td>6606</td>\n",
       "      <td>2021-09-25</td>\n",
       "      <td>Fab, private seattle urban cottage!</td>\n",
       "      <td>This tiny cottage is only 15x10, but it has ev...</td>\n",
       "      <td>14942</td>\n",
       "      <td>Joyce</td>\n",
       "      <td>2009-04-26</td>\n",
       "      <td>3</td>\n",
       "      <td>100.0</td>\n",
       "      <td>0</td>\n",
       "      <td>...</td>\n",
       "      <td>1</td>\n",
       "      <td>0</td>\n",
       "      <td>0</td>\n",
       "      <td>2.42</td>\n",
       "      <td>1.0</td>\n",
       "      <td>0</td>\n",
       "      <td>24</td>\n",
       "      <td>5</td>\n",
       "      <td>1</td>\n",
       "      <td>1</td>\n",
       "    </tr>\n",
       "  </tbody>\n",
       "</table>\n",
       "<p>2 rows × 52 columns</p>\n",
       "</div>"
      ],
      "text/plain": [
       "     id last_scraped                                               name  \\\n",
       "0  2318   2021-09-25  Casa Madrona - Urban Oasis 1 block from the park!   \n",
       "1  6606   2021-09-25                Fab, private seattle urban cottage!   \n",
       "\n",
       "                                         description  host_id host_name  \\\n",
       "0  Gorgeous, architect remodeled, Dutch Colonial ...     2536     Megan   \n",
       "1  This tiny cottage is only 15x10, but it has ev...    14942     Joyce   \n",
       "\n",
       "   host_since  host_response_time  host_response_rate  host_is_superhost  ...  \\\n",
       "0  2008-08-26                   3               100.0                  0  ...   \n",
       "1  2009-04-26                   3               100.0                  0  ...   \n",
       "\n",
       "   calculated_host_listings_count_entire_homes  \\\n",
       "0                                            1   \n",
       "1                                            1   \n",
       "\n",
       "  calculated_host_listings_count_private_rooms  \\\n",
       "0                                            0   \n",
       "1                                            0   \n",
       "\n",
       "   calculated_host_listings_count_shared_rooms  reviews_per_month bathrooms  \\\n",
       "0                                            0               0.61       2.5   \n",
       "1                                            0               2.42       1.0   \n",
       "\n",
       "   bathrooms_shared  amenities_count host_verifications_count private_listing  \\\n",
       "0                 0               36                        8               1   \n",
       "1                 0               24                        5               1   \n",
       "\n",
       "   rating_target  \n",
       "0              3  \n",
       "1              1  \n",
       "\n",
       "[2 rows x 52 columns]"
      ]
     },
     "execution_count": 50,
     "metadata": {},
     "output_type": "execute_result"
    }
   ],
   "source": [
    "sea_listings.head(2)"
   ]
  },
  {
   "cell_type": "code",
   "execution_count": 51,
   "id": "bf5aaeaa-1c8f-436f-87bd-7a1127d317fa",
   "metadata": {},
   "outputs": [
    {
     "data": {
      "text/plain": [
       "Belltown               867\n",
       "Broadway               835\n",
       "University District    625\n",
       "Fremont                623\n",
       "Wallingford            572\n",
       "                      ... \n",
       "Holly Park              21\n",
       "Windermere              20\n",
       "Meadowbrook             16\n",
       "Industrial District      4\n",
       "Sand Point               2\n",
       "Name: neighborhood, Length: 89, dtype: int64"
      ]
     },
     "execution_count": 51,
     "metadata": {},
     "output_type": "execute_result"
    }
   ],
   "source": [
    "sea_listings['neighborhood'].value_counts()"
   ]
  },
  {
   "cell_type": "code",
   "execution_count": 52,
   "id": "30ee12f9-0d00-4a2b-96cd-e7fd7854e6e3",
   "metadata": {},
   "outputs": [
    {
     "data": {
      "text/plain": [
       "Entire home/apt    13384\n",
       "Private room        2571\n",
       "Shared room           64\n",
       "Name: room_type, dtype: int64"
      ]
     },
     "execution_count": 52,
     "metadata": {},
     "output_type": "execute_result"
    }
   ],
   "source": [
    "sea_listings['room_type'].value_counts()"
   ]
  },
  {
   "cell_type": "code",
   "execution_count": 53,
   "id": "9dffc078-1b69-496b-a274-c6441dc668f4",
   "metadata": {},
   "outputs": [
    {
     "name": "stdout",
     "output_type": "stream",
     "text": [
      "(16019, 52)\n"
     ]
    },
    {
     "data": {
      "text/plain": [
       "(16019, 192)"
      ]
     },
     "execution_count": 53,
     "metadata": {},
     "output_type": "execute_result"
    }
   ],
   "source": [
    "# preprocessing to make sure desired feature columns are numerical\n",
    "\n",
    "# dummify neighborhood, property type, and room type columns\n",
    "print(sea_listings.shape)\n",
    "sea_listings_dummy = pd.get_dummies(sea_listings, columns = ['neighborhood','property_type','room_type'], drop_first = True)\n",
    "\n",
    "\n",
    "sea_listings_dummy.shape"
   ]
  },
  {
   "cell_type": "code",
   "execution_count": 54,
   "id": "704a6800-4ce0-4113-a91c-60aad749dc92",
   "metadata": {
    "tags": []
   },
   "outputs": [],
   "source": [
    "features = [col for col in sea_listings_dummy._get_numeric_data().columns]\n",
    "\n",
    "# define X and y\n",
    "X_sea = sea_listings_dummy[features]\n",
    "y_sea = sea_listings_dummy['rating_target']\n",
    "\n",
    "X_sea_train, X_sea_test, y_sea_train, y_sea_test = train_test_split(X_sea, y_sea, random_state=42)"
   ]
  },
  {
   "cell_type": "code",
   "execution_count": 74,
   "id": "97af4d08-d967-4703-ae2c-e789d231d9ae",
   "metadata": {},
   "outputs": [
    {
     "name": "stdout",
     "output_type": "stream",
     "text": [
      "(12014, 182)\n",
      "(4005, 182)\n"
     ]
    }
   ],
   "source": [
    "print(X_sea_train.shape)\n",
    "print(X_sea_test.shape)"
   ]
  },
  {
   "cell_type": "code",
   "execution_count": 45,
   "id": "56a896ab-b1a3-4db2-a41f-2a25db43727c",
   "metadata": {},
   "outputs": [
    {
     "name": "stdout",
     "output_type": "stream",
     "text": [
      "1    4144\n",
      "2    4066\n",
      "3    3973\n",
      "4    3836\n",
      "Name: rating_target, dtype: int64\n",
      "*********************************************\n",
      "1    0.258693\n",
      "2    0.253824\n",
      "3    0.248018\n",
      "4    0.239466\n",
      "Name: rating_target, dtype: float64\n",
      "*********************************************\n",
      "Baseline Accuracy: 25.87%\n"
     ]
    }
   ],
   "source": [
    "# establishing the baseline accuracy\n",
    "print(y_sea.value_counts())\n",
    "print('*'*45)\n",
    "print(y_sea.value_counts(normalize=True))\n",
    "print('*'*45)\n",
    "\n",
    "print(f'Baseline Accuracy: {round(pd.Series(y_sea.value_counts(normalize=True))[1]*100, 2)}%')\n"
   ]
  },
  {
   "cell_type": "code",
   "execution_count": 58,
   "id": "2e6b331a-0921-4eae-8792-30539acefe67",
   "metadata": {},
   "outputs": [],
   "source": [
    "ss = StandardScaler()\n",
    "X_sea_train_sc = ss.fit_transform(X_sea_train)\n",
    "X_sea_test_sc = ss.transform(X_sea_test)"
   ]
  },
  {
   "cell_type": "code",
   "execution_count": 59,
   "id": "56dd6bde-6baa-47a9-81b1-c200dab6db84",
   "metadata": {},
   "outputs": [
    {
     "name": "stdout",
     "output_type": "stream",
     "text": [
      "1.0\n",
      "1.0\n"
     ]
    },
    {
     "data": {
      "text/plain": [
       "0.9998335414065751"
      ]
     },
     "execution_count": 59,
     "metadata": {},
     "output_type": "execute_result"
    }
   ],
   "source": [
    "log2 = LogisticRegression(max_iter = 200, multi_class='multinomial', solver='lbfgs')\n",
    "log2.fit(X_sea_train_sc, y_sea_train)\n",
    "\n",
    "print(log2.score(X_sea_train_sc, y_sea_train))\n",
    "print(log2.score(X_sea_test_sc, y_sea_test))\n",
    "\n",
    "cross_val_score(log2, X_sea_train_sc, y_sea_train).mean()"
   ]
  },
  {
   "cell_type": "code",
   "execution_count": 72,
   "id": "d95f252f-f4c8-4eac-aff7-97833237ccf2",
   "metadata": {},
   "outputs": [
    {
     "name": "stdout",
     "output_type": "stream",
     "text": [
      "1.0\n"
     ]
    },
    {
     "data": {
      "text/plain": [
       "1.0"
      ]
     },
     "execution_count": 72,
     "metadata": {},
     "output_type": "execute_result"
    }
   ],
   "source": [
    "# precision score for Seattle\n",
    "y_sea_preds = log2.predict(X_sea_test_sc)\n",
    "print(precision_score(y_sea_test, y_sea_preds, average='micro'))\n",
    "precision_score(y_sea_test, y_sea_preds, average='macro')"
   ]
  },
  {
   "cell_type": "markdown",
   "id": "56529298-0376-49a5-ad77-af1034292695",
   "metadata": {},
   "source": [
    "-------\n",
    "## **Validating with another city (San Francisco)**"
   ]
  },
  {
   "cell_type": "code",
   "execution_count": 60,
   "id": "2d4a6e8c-6f30-4686-8d56-d8a85f5e4f28",
   "metadata": {},
   "outputs": [],
   "source": [
    "sf_listings = pd.read_csv('../data/sf_listings_cleaned.csv')"
   ]
  },
  {
   "cell_type": "code",
   "execution_count": 61,
   "id": "17480500-cbab-415b-9a65-0295e72e0190",
   "metadata": {},
   "outputs": [
    {
     "data": {
      "text/html": [
       "<div>\n",
       "<style scoped>\n",
       "    .dataframe tbody tr th:only-of-type {\n",
       "        vertical-align: middle;\n",
       "    }\n",
       "\n",
       "    .dataframe tbody tr th {\n",
       "        vertical-align: top;\n",
       "    }\n",
       "\n",
       "    .dataframe thead th {\n",
       "        text-align: right;\n",
       "    }\n",
       "</style>\n",
       "<table border=\"1\" class=\"dataframe\">\n",
       "  <thead>\n",
       "    <tr style=\"text-align: right;\">\n",
       "      <th></th>\n",
       "      <th>id</th>\n",
       "      <th>last_scraped</th>\n",
       "      <th>name</th>\n",
       "      <th>description</th>\n",
       "      <th>host_id</th>\n",
       "      <th>host_name</th>\n",
       "      <th>host_since</th>\n",
       "      <th>host_response_time</th>\n",
       "      <th>host_response_rate</th>\n",
       "      <th>host_is_superhost</th>\n",
       "      <th>...</th>\n",
       "      <th>calculated_host_listings_count_entire_homes</th>\n",
       "      <th>calculated_host_listings_count_private_rooms</th>\n",
       "      <th>calculated_host_listings_count_shared_rooms</th>\n",
       "      <th>reviews_per_month</th>\n",
       "      <th>bathrooms</th>\n",
       "      <th>bathrooms_shared</th>\n",
       "      <th>amenities_count</th>\n",
       "      <th>host_verifications_count</th>\n",
       "      <th>private_listing</th>\n",
       "      <th>rating_target</th>\n",
       "    </tr>\n",
       "  </thead>\n",
       "  <tbody>\n",
       "    <tr>\n",
       "      <th>0</th>\n",
       "      <td>958</td>\n",
       "      <td>2021-09-02</td>\n",
       "      <td>Bright, Modern Garden Unit - 1BR/1BTH</td>\n",
       "      <td>Please check local laws re Covid before you re...</td>\n",
       "      <td>1169</td>\n",
       "      <td>Holly</td>\n",
       "      <td>2008-07-31</td>\n",
       "      <td>3</td>\n",
       "      <td>91.0</td>\n",
       "      <td>1</td>\n",
       "      <td>...</td>\n",
       "      <td>1</td>\n",
       "      <td>0</td>\n",
       "      <td>0</td>\n",
       "      <td>3.50</td>\n",
       "      <td>1.0</td>\n",
       "      <td>0</td>\n",
       "      <td>34</td>\n",
       "      <td>5</td>\n",
       "      <td>1</td>\n",
       "      <td>3</td>\n",
       "    </tr>\n",
       "    <tr>\n",
       "      <th>1</th>\n",
       "      <td>5858</td>\n",
       "      <td>2021-09-01</td>\n",
       "      <td>Creative Sanctuary</td>\n",
       "      <td>&lt;b&gt;The space&lt;/b&gt;&lt;br /&gt;We live in a large Victo...</td>\n",
       "      <td>8904</td>\n",
       "      <td>Philip And Tania</td>\n",
       "      <td>2009-03-02</td>\n",
       "      <td>2</td>\n",
       "      <td>70.0</td>\n",
       "      <td>0</td>\n",
       "      <td>...</td>\n",
       "      <td>1</td>\n",
       "      <td>0</td>\n",
       "      <td>0</td>\n",
       "      <td>0.77</td>\n",
       "      <td>1.0</td>\n",
       "      <td>0</td>\n",
       "      <td>16</td>\n",
       "      <td>5</td>\n",
       "      <td>1</td>\n",
       "      <td>3</td>\n",
       "    </tr>\n",
       "  </tbody>\n",
       "</table>\n",
       "<p>2 rows × 52 columns</p>\n",
       "</div>"
      ],
      "text/plain": [
       "     id last_scraped                                   name  \\\n",
       "0   958   2021-09-02  Bright, Modern Garden Unit - 1BR/1BTH   \n",
       "1  5858   2021-09-01                     Creative Sanctuary   \n",
       "\n",
       "                                         description  host_id  \\\n",
       "0  Please check local laws re Covid before you re...     1169   \n",
       "1  <b>The space</b><br />We live in a large Victo...     8904   \n",
       "\n",
       "          host_name  host_since  host_response_time  host_response_rate  \\\n",
       "0             Holly  2008-07-31                   3                91.0   \n",
       "1  Philip And Tania  2009-03-02                   2                70.0   \n",
       "\n",
       "   host_is_superhost  ...  calculated_host_listings_count_entire_homes  \\\n",
       "0                  1  ...                                            1   \n",
       "1                  0  ...                                            1   \n",
       "\n",
       "  calculated_host_listings_count_private_rooms  \\\n",
       "0                                            0   \n",
       "1                                            0   \n",
       "\n",
       "   calculated_host_listings_count_shared_rooms  reviews_per_month bathrooms  \\\n",
       "0                                            0               3.50       1.0   \n",
       "1                                            0               0.77       1.0   \n",
       "\n",
       "   bathrooms_shared  amenities_count host_verifications_count private_listing  \\\n",
       "0                 0               34                        5               1   \n",
       "1                 0               16                        5               1   \n",
       "\n",
       "   rating_target  \n",
       "0              3  \n",
       "1              3  \n",
       "\n",
       "[2 rows x 52 columns]"
      ]
     },
     "execution_count": 61,
     "metadata": {},
     "output_type": "execute_result"
    }
   ],
   "source": [
    "sf_listings.head(2)"
   ]
  },
  {
   "cell_type": "code",
   "execution_count": 62,
   "id": "b6dab902-53b7-4cf9-9496-3736341ae363",
   "metadata": {},
   "outputs": [
    {
     "data": {
      "text/plain": [
       "Downtown/Civic Center    1593\n",
       "Mission                  1361\n",
       "Western Addition          987\n",
       "South of Market           817\n",
       "Bernal Heights            783\n",
       "Castro/Upper Market       761\n",
       "Haight Ashbury            711\n",
       "Outer Sunset              708\n",
       "Nob Hill                  634\n",
       "Noe Valley                590\n",
       "Marina                    435\n",
       "Inner Richmond            394\n",
       "Outer Richmond            384\n",
       "Potrero Hill              382\n",
       "Bayview                   371\n",
       "Russian Hill              360\n",
       "North Beach               343\n",
       "Pacific Heights           337\n",
       "Inner Sunset              336\n",
       "Excelsior                 318\n",
       "Outer Mission             289\n",
       "Parkside                  285\n",
       "Financial District        283\n",
       "Ocean View                282\n",
       "Chinatown                 269\n",
       "West of Twin Peaks        241\n",
       "Visitacion Valley         148\n",
       "Lakeshore                 143\n",
       "Glen Park                 138\n",
       "Crocker Amazon            134\n",
       "Twin Peaks                127\n",
       "Presidio Heights           63\n",
       "Seacliff                   32\n",
       "Diamond Heights            31\n",
       "Presidio                   22\n",
       "Golden Gate Park           11\n",
       "Name: neighborhood, dtype: int64"
      ]
     },
     "execution_count": 62,
     "metadata": {},
     "output_type": "execute_result"
    }
   ],
   "source": [
    "sf_listings['neighborhood'].value_counts()"
   ]
  },
  {
   "cell_type": "code",
   "execution_count": 63,
   "id": "7881d0fd-5b1d-42ac-a1f0-fc009796cbc7",
   "metadata": {},
   "outputs": [
    {
     "data": {
      "text/plain": [
       "Entire home/apt    9749\n",
       "Private room       4941\n",
       "Shared room         231\n",
       "Hotel room          182\n",
       "Name: room_type, dtype: int64"
      ]
     },
     "execution_count": 63,
     "metadata": {},
     "output_type": "execute_result"
    }
   ],
   "source": [
    "sf_listings['room_type'].value_counts()"
   ]
  },
  {
   "cell_type": "code",
   "execution_count": 64,
   "id": "3ad08ab5-aaad-4cc2-9681-c49bb2374d1e",
   "metadata": {},
   "outputs": [
    {
     "name": "stdout",
     "output_type": "stream",
     "text": [
      "(15103, 52)\n"
     ]
    },
    {
     "data": {
      "text/plain": [
       "(15103, 146)"
      ]
     },
     "execution_count": 64,
     "metadata": {},
     "output_type": "execute_result"
    }
   ],
   "source": [
    "# preprocessing to make sure desired feature columns are numerical\n",
    "\n",
    "# dummify neighborhood, property type, and room type columns\n",
    "print(sf_listings.shape)\n",
    "sf_listings_dummy = pd.get_dummies(sf_listings, columns = ['neighborhood','property_type','room_type'], drop_first = True)\n",
    "\n",
    "\n",
    "sf_listings_dummy.shape"
   ]
  },
  {
   "cell_type": "code",
   "execution_count": 65,
   "id": "32ca6898-862b-4cdc-a315-a95adff8999a",
   "metadata": {
    "tags": []
   },
   "outputs": [],
   "source": [
    "features = [col for col in sf_listings_dummy._get_numeric_data().columns]\n",
    "\n",
    "# define X and y\n",
    "X_sf = sf_listings_dummy[features]\n",
    "y_sf = sf_listings_dummy['rating_target']\n",
    "\n",
    "X_sf_train, X_sf_test, y_sf_train, y_sf_test = train_test_split(X_sf, y_sf, random_state=42)"
   ]
  },
  {
   "cell_type": "code",
   "execution_count": 75,
   "id": "ebf19d73-5063-4fb4-ad79-03bd542ef30b",
   "metadata": {},
   "outputs": [
    {
     "name": "stdout",
     "output_type": "stream",
     "text": [
      "(11327, 136)\n",
      "(3776, 136)\n"
     ]
    }
   ],
   "source": [
    "print(X_sf_train.shape)\n",
    "print(X_sf_test.shape)"
   ]
  },
  {
   "cell_type": "code",
   "execution_count": 67,
   "id": "42bbcfdc-a2ba-4d03-b137-7ff2c9cc768d",
   "metadata": {},
   "outputs": [
    {
     "name": "stdout",
     "output_type": "stream",
     "text": [
      "4    5771\n",
      "3    3152\n",
      "2    3119\n",
      "1    3061\n",
      "Name: rating_target, dtype: int64\n",
      "*********************************************\n",
      "4    0.382110\n",
      "3    0.208700\n",
      "2    0.206515\n",
      "1    0.202675\n",
      "Name: rating_target, dtype: float64\n",
      "*********************************************\n",
      "Baseline Accuracy: 38.21%\n"
     ]
    }
   ],
   "source": [
    "# establishing the baseline accuracy\n",
    "print(y_sf.value_counts())\n",
    "print('*'*45)\n",
    "print(y_sf.value_counts(normalize=True))\n",
    "print('*'*45)\n",
    "\n",
    "print(f'Baseline Accuracy: {round(pd.Series(y_sf.value_counts(normalize=True))[4]*100, 2)}%')\n"
   ]
  },
  {
   "cell_type": "code",
   "execution_count": 68,
   "id": "f3d08140-4f78-4d9e-ab5f-ed446f91f2fe",
   "metadata": {},
   "outputs": [],
   "source": [
    "ss = StandardScaler()\n",
    "X_sf_train_sc = ss.fit_transform(X_sf_train)\n",
    "X_sf_test_sc = ss.transform(X_sf_test)"
   ]
  },
  {
   "cell_type": "code",
   "execution_count": 69,
   "id": "905ec2d0-9533-4ee7-b473-482f3d0cafbe",
   "metadata": {},
   "outputs": [
    {
     "name": "stdout",
     "output_type": "stream",
     "text": [
      "1.0\n",
      "0.9997351694915254\n"
     ]
    },
    {
     "data": {
      "text/plain": [
       "1.0"
      ]
     },
     "execution_count": 69,
     "metadata": {},
     "output_type": "execute_result"
    }
   ],
   "source": [
    "log3 = LogisticRegression(max_iter = 200, multi_class='multinomial', solver='lbfgs')\n",
    "log3.fit(X_sf_train_sc, y_sf_train)\n",
    "\n",
    "print(log3.score(X_sf_train_sc, y_sf_train))\n",
    "print(log3.score(X_sf_test_sc, y_sf_test))\n",
    "\n",
    "cross_val_score(log3, X_sf_train_sc, y_sf_train).mean()"
   ]
  },
  {
   "cell_type": "code",
   "execution_count": 73,
   "id": "4d279f23-70e6-4a2e-9c52-c20344956a59",
   "metadata": {},
   "outputs": [
    {
     "name": "stdout",
     "output_type": "stream",
     "text": [
      "0.9997351694915254\n"
     ]
    },
    {
     "data": {
      "text/plain": [
       "0.9996859296482412"
      ]
     },
     "execution_count": 73,
     "metadata": {},
     "output_type": "execute_result"
    }
   ],
   "source": [
    "# precision score for San Francisco\n",
    "y_sf_preds = log3.predict(X_sf_test_sc)\n",
    "print(precision_score(y_sf_test, y_sf_preds, average='micro'))\n",
    "precision_score(y_sf_test, y_sf_preds, average='macro')"
   ]
  },
  {
   "cell_type": "markdown",
   "id": "659e1617-240d-4ec6-bba6-74bd4567b3b5",
   "metadata": {
    "tags": []
   },
   "source": [
    "#### *Model performs well for additional cities, which have more observations to train on.\n",
    "-------\n",
    "-------"
   ]
  }
 ],
 "metadata": {
  "kernelspec": {
   "display_name": "Python [conda env:dsi] *",
   "language": "python",
   "name": "conda-env-dsi-py"
  },
  "language_info": {
   "codemirror_mode": {
    "name": "ipython",
    "version": 3
   },
   "file_extension": ".py",
   "mimetype": "text/x-python",
   "name": "python",
   "nbconvert_exporter": "python",
   "pygments_lexer": "ipython3",
   "version": "3.9.12"
  }
 },
 "nbformat": 4,
 "nbformat_minor": 5
}
