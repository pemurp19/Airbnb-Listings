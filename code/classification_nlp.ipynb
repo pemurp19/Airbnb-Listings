{
 "cells": [
  {
   "cell_type": "code",
   "execution_count": null,
   "id": "569aa7d4-0024-4098-98e2-edd6d900b3ae",
   "metadata": {},
   "outputs": [],
   "source": []
  },
  {
   "cell_type": "markdown",
   "id": "96e00b72-7122-498d-b41b-ce1537050775",
   "metadata": {
    "tags": []
   },
   "source": [
    "# II. Clean Comments Column"
   ]
  },
  {
   "cell_type": "markdown",
   "id": "a274c163-9b33-4b9b-af32-135364b8da8f",
   "metadata": {},
   "source": [
    "# **Something like this to start**"
   ]
  },
  {
   "cell_type": "code",
   "execution_count": 43,
   "id": "625235fe-7fab-4d1c-939e-c5961030db24",
   "metadata": {
    "scrolled": true,
    "tags": []
   },
   "outputs": [
    {
     "data": {
      "text/plain": [
       "0    The apartment was as advertised and Frank was ...\n",
       "1    It was a pleasure to stay at Frank's place. Th...\n",
       "2    The apartment description is entirely faithful...\n",
       "3    Thoroughly enjoyed my time at Frank's home. Ha...\n",
       "4    Great value for the money! This location has e...\n",
       "Name: comments, dtype: object"
      ]
     },
     "execution_count": 43,
     "metadata": {},
     "output_type": "execute_result"
    }
   ],
   "source": [
    "reviews['comments'].head()"
   ]
  },
  {
   "cell_type": "code",
   "execution_count": 44,
   "id": "ff4c1b52-35b9-46ae-8368-66d0be51873e",
   "metadata": {},
   "outputs": [],
   "source": [
    "# the below code was inspired by lesson 5.06 on NLP Modeling\n",
    "\n",
    "def remove_html(comment):\n",
    "    '''\n",
    "    function to remove html \n",
    "    and lowercase all text\n",
    "    '''\n",
    "    #lowercase\n",
    "    comment = comment.lower()\n",
    "    \n",
    "    #remove html\n",
    "    no_html = BeautifulSoup(comment).text\n",
    "    \n",
    "    return no_html"
   ]
  },
  {
   "cell_type": "code",
   "execution_count": 45,
   "id": "7b2913b7-9fbc-42ff-8b58-98492b5b0b49",
   "metadata": {},
   "outputs": [
    {
     "name": "stderr",
     "output_type": "stream",
     "text": [
      "/Users/petermurphy/opt/anaconda3/envs/dsi/lib/python3.9/site-packages/bs4/__init__.py:435: MarkupResemblesLocatorWarning: The input looks more like a filename than markup. You may want to open this file and pass the filehandle into Beautiful Soup.\n",
      "  warnings.warn(\n"
     ]
    }
   ],
   "source": [
    "# Apply fuction to data\n",
    "reviews['clean_comments'] = reviews['comments'].apply(remove_html)"
   ]
  },
  {
   "cell_type": "code",
   "execution_count": 46,
   "id": "651bb1a3-a262-4570-b35e-555827fd7f54",
   "metadata": {},
   "outputs": [
    {
     "name": "stdout",
     "output_type": "stream",
     "text": [
      "(228344, 7)\n"
     ]
    },
    {
     "data": {
      "text/html": [
       "<div>\n",
       "<style scoped>\n",
       "    .dataframe tbody tr th:only-of-type {\n",
       "        vertical-align: middle;\n",
       "    }\n",
       "\n",
       "    .dataframe tbody tr th {\n",
       "        vertical-align: top;\n",
       "    }\n",
       "\n",
       "    .dataframe thead th {\n",
       "        text-align: right;\n",
       "    }\n",
       "</style>\n",
       "<table border=\"1\" class=\"dataframe\">\n",
       "  <thead>\n",
       "    <tr style=\"text-align: right;\">\n",
       "      <th></th>\n",
       "      <th>listing_id</th>\n",
       "      <th>id</th>\n",
       "      <th>date</th>\n",
       "      <th>reviewer_id</th>\n",
       "      <th>reviewer_name</th>\n",
       "      <th>comments</th>\n",
       "      <th>clean_comments</th>\n",
       "    </tr>\n",
       "  </thead>\n",
       "  <tbody>\n",
       "    <tr>\n",
       "      <th>0</th>\n",
       "      <td>3781</td>\n",
       "      <td>37776825</td>\n",
       "      <td>2015-07-10</td>\n",
       "      <td>36059247</td>\n",
       "      <td>Greg</td>\n",
       "      <td>The apartment was as advertised and Frank was ...</td>\n",
       "      <td>the apartment was as advertised and frank was ...</td>\n",
       "    </tr>\n",
       "    <tr>\n",
       "      <th>1</th>\n",
       "      <td>3781</td>\n",
       "      <td>41842494</td>\n",
       "      <td>2015-08-09</td>\n",
       "      <td>10459388</td>\n",
       "      <td>Tai</td>\n",
       "      <td>It was a pleasure to stay at Frank's place. Th...</td>\n",
       "      <td>it was a pleasure to stay at frank's place. th...</td>\n",
       "    </tr>\n",
       "    <tr>\n",
       "      <th>2</th>\n",
       "      <td>3781</td>\n",
       "      <td>45282151</td>\n",
       "      <td>2015-09-01</td>\n",
       "      <td>12264652</td>\n",
       "      <td>Damien</td>\n",
       "      <td>The apartment description is entirely faithful...</td>\n",
       "      <td>the apartment description is entirely faithful...</td>\n",
       "    </tr>\n",
       "    <tr>\n",
       "      <th>3</th>\n",
       "      <td>3781</td>\n",
       "      <td>49022647</td>\n",
       "      <td>2015-09-30</td>\n",
       "      <td>41426327</td>\n",
       "      <td>Mike</td>\n",
       "      <td>Thoroughly enjoyed my time at Frank's home. Ha...</td>\n",
       "      <td>thoroughly enjoyed my time at frank's home. ha...</td>\n",
       "    </tr>\n",
       "    <tr>\n",
       "      <th>4</th>\n",
       "      <td>3781</td>\n",
       "      <td>52503327</td>\n",
       "      <td>2015-10-30</td>\n",
       "      <td>15151513</td>\n",
       "      <td>Ivan</td>\n",
       "      <td>Great value for the money! This location has e...</td>\n",
       "      <td>great value for the money! this location has e...</td>\n",
       "    </tr>\n",
       "  </tbody>\n",
       "</table>\n",
       "</div>"
      ],
      "text/plain": [
       "   listing_id        id        date  reviewer_id reviewer_name  \\\n",
       "0        3781  37776825  2015-07-10     36059247          Greg   \n",
       "1        3781  41842494  2015-08-09     10459388           Tai   \n",
       "2        3781  45282151  2015-09-01     12264652        Damien   \n",
       "3        3781  49022647  2015-09-30     41426327          Mike   \n",
       "4        3781  52503327  2015-10-30     15151513          Ivan   \n",
       "\n",
       "                                            comments  \\\n",
       "0  The apartment was as advertised and Frank was ...   \n",
       "1  It was a pleasure to stay at Frank's place. Th...   \n",
       "2  The apartment description is entirely faithful...   \n",
       "3  Thoroughly enjoyed my time at Frank's home. Ha...   \n",
       "4  Great value for the money! This location has e...   \n",
       "\n",
       "                                      clean_comments  \n",
       "0  the apartment was as advertised and frank was ...  \n",
       "1  it was a pleasure to stay at frank's place. th...  \n",
       "2  the apartment description is entirely faithful...  \n",
       "3  thoroughly enjoyed my time at frank's home. ha...  \n",
       "4  great value for the money! this location has e...  "
      ]
     },
     "execution_count": 46,
     "metadata": {},
     "output_type": "execute_result"
    }
   ],
   "source": [
    "print(reviews.shape)\n",
    "reviews.head()"
   ]
  }
 ],
 "metadata": {
  "kernelspec": {
   "display_name": "Python [conda env:dsi] *",
   "language": "python",
   "name": "conda-env-dsi-py"
  },
  "language_info": {
   "codemirror_mode": {
    "name": "ipython",
    "version": 3
   },
   "file_extension": ".py",
   "mimetype": "text/x-python",
   "name": "python",
   "nbconvert_exporter": "python",
   "pygments_lexer": "ipython3",
   "version": "3.9.12"
  }
 },
 "nbformat": 4,
 "nbformat_minor": 5
}
