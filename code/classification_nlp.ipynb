{
 "cells": [
  {
   "cell_type": "markdown",
   "id": "608b0b79-5e92-4d52-a2a8-94057fc542c1",
   "metadata": {},
   "source": [
    "# **NLP Multi-Class Classification**"
   ]
  },
  {
   "cell_type": "markdown",
   "id": "5d393aba-5c7b-46de-9f79-f3981d12bb3b",
   "metadata": {},
   "source": [
    "-------\n",
    "### Imports"
   ]
  },
  {
   "cell_type": "code",
   "execution_count": 357,
   "id": "c6ce9079-e945-4af9-9c55-a249aad58ecb",
   "metadata": {},
   "outputs": [],
   "source": [
    "import pandas as pd\n",
    "import numpy as np\n",
    "import matplotlib.pyplot as plt\n",
    "\n",
    "from bs4 import BeautifulSoup\n",
    "\n",
    "from sklearn.linear_model import LogisticRegression\n",
    "from sklearn.naive_bayes import MultinomialNB\n",
    "from sklearn.neighbors import KNeighborsClassifier\n",
    "from sklearn.model_selection import train_test_split\n",
    "from sklearn.feature_extraction.text import CountVectorizer, TfidfVectorizer\n",
    "from sklearn.pipeline import Pipeline\n",
    "from sklearn.model_selection import GridSearchCV\n",
    "from sklearn.preprocessing import StandardScaler\n",
    "\n",
    "from nltk.stem import WordNetLemmatizer\n",
    "from nltk.stem import PorterStemmer\n",
    "from nltk.corpus import stopwords\n",
    "from nltk.tokenize import sent_tokenize, word_tokenize, RegexpTokenizer\n",
    "\n",
    "from sklearn.metrics import plot_confusion_matrix, classification_report"
   ]
  },
  {
   "cell_type": "markdown",
   "id": "b8719907-6bec-449e-a95b-b5da53d2736e",
   "metadata": {
    "tags": []
   },
   "source": [
    "-------\n",
    "## Joining the Reviews and Listings Datasets"
   ]
  },
  {
   "cell_type": "code",
   "execution_count": 330,
   "id": "f0f6b359-6221-4b93-a9c8-fbf82271e39e",
   "metadata": {},
   "outputs": [],
   "source": [
    "listings = pd.read_csv('../data/listings_cleaned.csv')"
   ]
  },
  {
   "cell_type": "code",
   "execution_count": 331,
   "id": "5b321651-56d9-40d5-a7ad-c2bb13618c15",
   "metadata": {},
   "outputs": [
    {
     "data": {
      "text/html": [
       "<div>\n",
       "<style scoped>\n",
       "    .dataframe tbody tr th:only-of-type {\n",
       "        vertical-align: middle;\n",
       "    }\n",
       "\n",
       "    .dataframe tbody tr th {\n",
       "        vertical-align: top;\n",
       "    }\n",
       "\n",
       "    .dataframe thead th {\n",
       "        text-align: right;\n",
       "    }\n",
       "</style>\n",
       "<table border=\"1\" class=\"dataframe\">\n",
       "  <thead>\n",
       "    <tr style=\"text-align: right;\">\n",
       "      <th></th>\n",
       "      <th>id</th>\n",
       "      <th>last_scraped</th>\n",
       "      <th>name</th>\n",
       "      <th>description</th>\n",
       "      <th>host_id</th>\n",
       "      <th>host_name</th>\n",
       "      <th>host_since</th>\n",
       "      <th>host_response_time</th>\n",
       "      <th>host_response_rate</th>\n",
       "      <th>host_is_superhost</th>\n",
       "      <th>...</th>\n",
       "      <th>reviews_per_month</th>\n",
       "      <th>city</th>\n",
       "      <th>state</th>\n",
       "      <th>zip_codes</th>\n",
       "      <th>bathrooms</th>\n",
       "      <th>bathrooms_shared</th>\n",
       "      <th>amenities_count</th>\n",
       "      <th>host_verifications_count</th>\n",
       "      <th>private_listing</th>\n",
       "      <th>rating_target</th>\n",
       "    </tr>\n",
       "  </thead>\n",
       "  <tbody>\n",
       "    <tr>\n",
       "      <th>0</th>\n",
       "      <td>3781</td>\n",
       "      <td>2021-09-19</td>\n",
       "      <td>HARBORSIDE-Walk to subway</td>\n",
       "      <td>Fully separate apartment in a two apartment bu...</td>\n",
       "      <td>4804</td>\n",
       "      <td>Frank</td>\n",
       "      <td>2008-12-03</td>\n",
       "      <td>3</td>\n",
       "      <td>100.0</td>\n",
       "      <td>0</td>\n",
       "      <td>...</td>\n",
       "      <td>0.29</td>\n",
       "      <td>Boston</td>\n",
       "      <td>Massachusetts</td>\n",
       "      <td>2128</td>\n",
       "      <td>1.0</td>\n",
       "      <td>0</td>\n",
       "      <td>31</td>\n",
       "      <td>3</td>\n",
       "      <td>1</td>\n",
       "      <td>3</td>\n",
       "    </tr>\n",
       "    <tr>\n",
       "      <th>1</th>\n",
       "      <td>5506</td>\n",
       "      <td>2021-09-19</td>\n",
       "      <td>** Private! Minutes to center!**</td>\n",
       "      <td>Private guest room with private bath, You do n...</td>\n",
       "      <td>8229</td>\n",
       "      <td>Terry</td>\n",
       "      <td>2009-02-19</td>\n",
       "      <td>3</td>\n",
       "      <td>100.0</td>\n",
       "      <td>1</td>\n",
       "      <td>...</td>\n",
       "      <td>0.90</td>\n",
       "      <td>Boston</td>\n",
       "      <td>Massachusetts</td>\n",
       "      <td>2119</td>\n",
       "      <td>1.0</td>\n",
       "      <td>0</td>\n",
       "      <td>30</td>\n",
       "      <td>4</td>\n",
       "      <td>1</td>\n",
       "      <td>2</td>\n",
       "    </tr>\n",
       "  </tbody>\n",
       "</table>\n",
       "<p>2 rows × 55 columns</p>\n",
       "</div>"
      ],
      "text/plain": [
       "     id last_scraped                              name  \\\n",
       "0  3781   2021-09-19         HARBORSIDE-Walk to subway   \n",
       "1  5506   2021-09-19  ** Private! Minutes to center!**   \n",
       "\n",
       "                                         description  host_id host_name  \\\n",
       "0  Fully separate apartment in a two apartment bu...     4804     Frank   \n",
       "1  Private guest room with private bath, You do n...     8229     Terry   \n",
       "\n",
       "   host_since  host_response_time  host_response_rate  host_is_superhost  ...  \\\n",
       "0  2008-12-03                   3               100.0                  0  ...   \n",
       "1  2009-02-19                   3               100.0                  1  ...   \n",
       "\n",
       "   reviews_per_month    city          state  zip_codes bathrooms  \\\n",
       "0               0.29  Boston  Massachusetts       2128       1.0   \n",
       "1               0.90  Boston  Massachusetts       2119       1.0   \n",
       "\n",
       "   bathrooms_shared  amenities_count host_verifications_count private_listing  \\\n",
       "0                 0               31                        3               1   \n",
       "1                 0               30                        4               1   \n",
       "\n",
       "   rating_target  \n",
       "0              3  \n",
       "1              2  \n",
       "\n",
       "[2 rows x 55 columns]"
      ]
     },
     "execution_count": 331,
     "metadata": {},
     "output_type": "execute_result"
    }
   ],
   "source": [
    "listings.head(2)"
   ]
  },
  {
   "cell_type": "code",
   "execution_count": 332,
   "id": "02949cdc-c5e9-4a30-ac22-e5beba9241d2",
   "metadata": {},
   "outputs": [],
   "source": [
    "reviews = pd.read_csv('../data/reviews_cleaned.csv', low_memory=False)"
   ]
  },
  {
   "cell_type": "code",
   "execution_count": 333,
   "id": "8d4381fc-9364-4c18-8968-da7699743f55",
   "metadata": {},
   "outputs": [
    {
     "data": {
      "text/html": [
       "<div>\n",
       "<style scoped>\n",
       "    .dataframe tbody tr th:only-of-type {\n",
       "        vertical-align: middle;\n",
       "    }\n",
       "\n",
       "    .dataframe tbody tr th {\n",
       "        vertical-align: top;\n",
       "    }\n",
       "\n",
       "    .dataframe thead th {\n",
       "        text-align: right;\n",
       "    }\n",
       "</style>\n",
       "<table border=\"1\" class=\"dataframe\">\n",
       "  <thead>\n",
       "    <tr style=\"text-align: right;\">\n",
       "      <th></th>\n",
       "      <th>listing_id</th>\n",
       "      <th>review_id</th>\n",
       "      <th>date</th>\n",
       "      <th>reviewer_id</th>\n",
       "      <th>reviewer_name</th>\n",
       "      <th>comments</th>\n",
       "      <th>lower_comments</th>\n",
       "    </tr>\n",
       "  </thead>\n",
       "  <tbody>\n",
       "    <tr>\n",
       "      <th>0</th>\n",
       "      <td>3781</td>\n",
       "      <td>37776825</td>\n",
       "      <td>2015-07-10</td>\n",
       "      <td>36059247.0</td>\n",
       "      <td>Greg</td>\n",
       "      <td>The apartment was as advertised and Frank was ...</td>\n",
       "      <td>the apartment was as advertised and frank was ...</td>\n",
       "    </tr>\n",
       "    <tr>\n",
       "      <th>1</th>\n",
       "      <td>3781</td>\n",
       "      <td>41842494</td>\n",
       "      <td>2015-08-09</td>\n",
       "      <td>10459388.0</td>\n",
       "      <td>Tai</td>\n",
       "      <td>It was a pleasure to stay at Frank's place. Th...</td>\n",
       "      <td>it was a pleasure to stay at frank's place. th...</td>\n",
       "    </tr>\n",
       "  </tbody>\n",
       "</table>\n",
       "</div>"
      ],
      "text/plain": [
       "  listing_id review_id        date  reviewer_id reviewer_name  \\\n",
       "0       3781  37776825  2015-07-10   36059247.0          Greg   \n",
       "1       3781  41842494  2015-08-09   10459388.0           Tai   \n",
       "\n",
       "                                            comments  \\\n",
       "0  The apartment was as advertised and Frank was ...   \n",
       "1  It was a pleasure to stay at Frank's place. Th...   \n",
       "\n",
       "                                      lower_comments  \n",
       "0  the apartment was as advertised and frank was ...  \n",
       "1  it was a pleasure to stay at frank's place. th...  "
      ]
     },
     "execution_count": 333,
     "metadata": {},
     "output_type": "execute_result"
    }
   ],
   "source": [
    "reviews.head(2)"
   ]
  },
  {
   "cell_type": "code",
   "execution_count": 334,
   "id": "80187a82-b5be-4fc0-82a2-dab604965f3c",
   "metadata": {},
   "outputs": [
    {
     "name": "stdout",
     "output_type": "stream",
     "text": [
      "int64\n",
      "object\n"
     ]
    }
   ],
   "source": [
    "print(listings['id'].dtype)\n",
    "print(reviews['listing_id'].dtype)"
   ]
  },
  {
   "cell_type": "markdown",
   "id": "f4d70026-6b73-41c5-a768-5347cfd71e82",
   "metadata": {},
   "source": [
    "-----\n",
    "## Setting up the Target Column"
   ]
  },
  {
   "cell_type": "code",
   "execution_count": 335,
   "id": "d48894b6-38ff-49c1-b47a-b60017cefe23",
   "metadata": {},
   "outputs": [
    {
     "data": {
      "text/html": [
       "<div>\n",
       "<style scoped>\n",
       "    .dataframe tbody tr th:only-of-type {\n",
       "        vertical-align: middle;\n",
       "    }\n",
       "\n",
       "    .dataframe tbody tr th {\n",
       "        vertical-align: top;\n",
       "    }\n",
       "\n",
       "    .dataframe thead th {\n",
       "        text-align: right;\n",
       "    }\n",
       "</style>\n",
       "<table border=\"1\" class=\"dataframe\">\n",
       "  <thead>\n",
       "    <tr style=\"text-align: right;\">\n",
       "      <th></th>\n",
       "      <th>listing_id</th>\n",
       "      <th>review_id</th>\n",
       "      <th>date</th>\n",
       "      <th>reviewer_id</th>\n",
       "      <th>reviewer_name</th>\n",
       "      <th>comments</th>\n",
       "      <th>lower_comments</th>\n",
       "    </tr>\n",
       "  </thead>\n",
       "  <tbody>\n",
       "    <tr>\n",
       "      <th>35</th>\n",
       "      <td>&lt;br/&gt;june and john from barry south wales</td>\n",
       "      <td>the only reason i have not given 5stars is alt...</td>\n",
       "      <td>NaN</td>\n",
       "      <td>NaN</td>\n",
       "      <td>NaN</td>\n",
       "      <td>NaN</td>\n",
       "      <td>NaN</td>\n",
       "    </tr>\n",
       "    <tr>\n",
       "      <th>36</th>\n",
       "      <td>&lt;br/&gt;june and john from barry south wales</td>\n",
       "      <td>NaN</td>\n",
       "      <td>NaN</td>\n",
       "      <td>NaN</td>\n",
       "      <td>NaN</td>\n",
       "      <td>NaN</td>\n",
       "      <td>NaN</td>\n",
       "    </tr>\n",
       "  </tbody>\n",
       "</table>\n",
       "</div>"
      ],
      "text/plain": [
       "                                   listing_id  \\\n",
       "35  <br/>june and john from barry south wales   \n",
       "36  <br/>june and john from barry south wales   \n",
       "\n",
       "                                            review_id date  reviewer_id  \\\n",
       "35  the only reason i have not given 5stars is alt...  NaN          NaN   \n",
       "36                                                NaN  NaN          NaN   \n",
       "\n",
       "   reviewer_name comments lower_comments  \n",
       "35           NaN      NaN            NaN  \n",
       "36           NaN      NaN            NaN  "
      ]
     },
     "execution_count": 335,
     "metadata": {},
     "output_type": "execute_result"
    }
   ],
   "source": [
    "reviews[reviews['listing_id'] == '<br/>june and john from barry south wales']"
   ]
  },
  {
   "cell_type": "code",
   "execution_count": 336,
   "id": "22376c78-8604-480b-83e9-7c2d034ea945",
   "metadata": {},
   "outputs": [
    {
     "data": {
      "text/html": [
       "<div>\n",
       "<style scoped>\n",
       "    .dataframe tbody tr th:only-of-type {\n",
       "        vertical-align: middle;\n",
       "    }\n",
       "\n",
       "    .dataframe tbody tr th {\n",
       "        vertical-align: top;\n",
       "    }\n",
       "\n",
       "    .dataframe thead th {\n",
       "        text-align: right;\n",
       "    }\n",
       "</style>\n",
       "<table border=\"1\" class=\"dataframe\">\n",
       "  <thead>\n",
       "    <tr style=\"text-align: right;\">\n",
       "      <th></th>\n",
       "      <th>listing_id</th>\n",
       "      <th>review_id</th>\n",
       "      <th>date</th>\n",
       "      <th>reviewer_id</th>\n",
       "      <th>reviewer_name</th>\n",
       "      <th>comments</th>\n",
       "      <th>lower_comments</th>\n",
       "    </tr>\n",
       "  </thead>\n",
       "  <tbody>\n",
       "    <tr>\n",
       "      <th>44</th>\n",
       "      <td>&lt;br/&gt;</td>\n",
       "      <td>NaN</td>\n",
       "      <td>NaN</td>\n",
       "      <td>NaN</td>\n",
       "      <td>NaN</td>\n",
       "      <td>NaN</td>\n",
       "      <td>NaN</td>\n",
       "    </tr>\n",
       "    <tr>\n",
       "      <th>46</th>\n",
       "      <td>&lt;br/&gt;</td>\n",
       "      <td>NaN</td>\n",
       "      <td>NaN</td>\n",
       "      <td>NaN</td>\n",
       "      <td>NaN</td>\n",
       "      <td>NaN</td>\n",
       "      <td>NaN</td>\n",
       "    </tr>\n",
       "    <tr>\n",
       "      <th>62</th>\n",
       "      <td>&lt;br/&gt;</td>\n",
       "      <td>NaN</td>\n",
       "      <td>NaN</td>\n",
       "      <td>NaN</td>\n",
       "      <td>NaN</td>\n",
       "      <td>NaN</td>\n",
       "      <td>NaN</td>\n",
       "    </tr>\n",
       "    <tr>\n",
       "      <th>65</th>\n",
       "      <td>&lt;br/&gt;</td>\n",
       "      <td>+ the room is wonderful and very clean</td>\n",
       "      <td>NaN</td>\n",
       "      <td>NaN</td>\n",
       "      <td>NaN</td>\n",
       "      <td>NaN</td>\n",
       "      <td>NaN</td>\n",
       "    </tr>\n",
       "    <tr>\n",
       "      <th>71</th>\n",
       "      <td>&lt;br/&gt;</td>\n",
       "      <td>NaN</td>\n",
       "      <td>NaN</td>\n",
       "      <td>NaN</td>\n",
       "      <td>NaN</td>\n",
       "      <td>NaN</td>\n",
       "      <td>NaN</td>\n",
       "    </tr>\n",
       "    <tr>\n",
       "      <th>...</th>\n",
       "      <td>...</td>\n",
       "      <td>...</td>\n",
       "      <td>...</td>\n",
       "      <td>...</td>\n",
       "      <td>...</td>\n",
       "      <td>...</td>\n",
       "      <td>...</td>\n",
       "    </tr>\n",
       "    <tr>\n",
       "      <th>100919</th>\n",
       "      <td>&lt;br/&gt;</td>\n",
       "      <td>NaN</td>\n",
       "      <td>NaN</td>\n",
       "      <td>NaN</td>\n",
       "      <td>NaN</td>\n",
       "      <td>NaN</td>\n",
       "      <td>NaN</td>\n",
       "    </tr>\n",
       "    <tr>\n",
       "      <th>101621</th>\n",
       "      <td>&lt;br/&gt;</td>\n",
       "      <td>philip was great! he helped us from the arriva...</td>\n",
       "      <td>NaN</td>\n",
       "      <td>NaN</td>\n",
       "      <td>NaN</td>\n",
       "      <td>NaN</td>\n",
       "      <td>NaN</td>\n",
       "    </tr>\n",
       "    <tr>\n",
       "      <th>101622</th>\n",
       "      <td>&lt;br/&gt;</td>\n",
       "      <td>NaN</td>\n",
       "      <td>NaN</td>\n",
       "      <td>NaN</td>\n",
       "      <td>NaN</td>\n",
       "      <td>NaN</td>\n",
       "      <td>NaN</td>\n",
       "    </tr>\n",
       "    <tr>\n",
       "      <th>102123</th>\n",
       "      <td>&lt;br/&gt;</td>\n",
       "      <td>NaN</td>\n",
       "      <td>NaN</td>\n",
       "      <td>NaN</td>\n",
       "      <td>NaN</td>\n",
       "      <td>NaN</td>\n",
       "      <td>NaN</td>\n",
       "    </tr>\n",
       "    <tr>\n",
       "      <th>102125</th>\n",
       "      <td>&lt;br/&gt;</td>\n",
       "      <td>NaN</td>\n",
       "      <td>NaN</td>\n",
       "      <td>NaN</td>\n",
       "      <td>NaN</td>\n",
       "      <td>NaN</td>\n",
       "      <td>NaN</td>\n",
       "    </tr>\n",
       "  </tbody>\n",
       "</table>\n",
       "<p>1304 rows × 7 columns</p>\n",
       "</div>"
      ],
      "text/plain": [
       "       listing_id                                          review_id date  \\\n",
       "44          <br/>                                                NaN  NaN   \n",
       "46          <br/>                                                NaN  NaN   \n",
       "62          <br/>                                                NaN  NaN   \n",
       "65          <br/>             + the room is wonderful and very clean  NaN   \n",
       "71          <br/>                                                NaN  NaN   \n",
       "...           ...                                                ...  ...   \n",
       "100919      <br/>                                                NaN  NaN   \n",
       "101621      <br/>  philip was great! he helped us from the arriva...  NaN   \n",
       "101622      <br/>                                                NaN  NaN   \n",
       "102123      <br/>                                                NaN  NaN   \n",
       "102125      <br/>                                                NaN  NaN   \n",
       "\n",
       "        reviewer_id reviewer_name comments lower_comments  \n",
       "44              NaN           NaN      NaN            NaN  \n",
       "46              NaN           NaN      NaN            NaN  \n",
       "62              NaN           NaN      NaN            NaN  \n",
       "65              NaN           NaN      NaN            NaN  \n",
       "71              NaN           NaN      NaN            NaN  \n",
       "...             ...           ...      ...            ...  \n",
       "100919          NaN           NaN      NaN            NaN  \n",
       "101621          NaN           NaN      NaN            NaN  \n",
       "101622          NaN           NaN      NaN            NaN  \n",
       "102123          NaN           NaN      NaN            NaN  \n",
       "102125          NaN           NaN      NaN            NaN  \n",
       "\n",
       "[1304 rows x 7 columns]"
      ]
     },
     "execution_count": 336,
     "metadata": {},
     "output_type": "execute_result"
    }
   ],
   "source": [
    "reviews[reviews['listing_id'] == '<br/>']"
   ]
  },
  {
   "cell_type": "code",
   "execution_count": 337,
   "id": "79c7a7b8-24cd-49d2-a749-e6ec7e53260b",
   "metadata": {},
   "outputs": [
    {
     "data": {
      "text/html": [
       "<div>\n",
       "<style scoped>\n",
       "    .dataframe tbody tr th:only-of-type {\n",
       "        vertical-align: middle;\n",
       "    }\n",
       "\n",
       "    .dataframe tbody tr th {\n",
       "        vertical-align: top;\n",
       "    }\n",
       "\n",
       "    .dataframe thead th {\n",
       "        text-align: right;\n",
       "    }\n",
       "</style>\n",
       "<table border=\"1\" class=\"dataframe\">\n",
       "  <thead>\n",
       "    <tr style=\"text-align: right;\">\n",
       "      <th></th>\n",
       "      <th>listing_id</th>\n",
       "      <th>review_id</th>\n",
       "      <th>date</th>\n",
       "      <th>reviewer_id</th>\n",
       "      <th>reviewer_name</th>\n",
       "      <th>comments</th>\n",
       "      <th>lower_comments</th>\n",
       "    </tr>\n",
       "  </thead>\n",
       "  <tbody>\n",
       "    <tr>\n",
       "      <th>45</th>\n",
       "      <td>&lt;br/&gt;Enjoy.</td>\n",
       "      <td>this is really a great location. the street is...</td>\n",
       "      <td>NaN</td>\n",
       "      <td>NaN</td>\n",
       "      <td>NaN</td>\n",
       "      <td>NaN</td>\n",
       "      <td>NaN</td>\n",
       "    </tr>\n",
       "  </tbody>\n",
       "</table>\n",
       "</div>"
      ],
      "text/plain": [
       "     listing_id                                          review_id date  \\\n",
       "45  <br/>Enjoy.  this is really a great location. the street is...  NaN   \n",
       "\n",
       "    reviewer_id reviewer_name comments lower_comments  \n",
       "45          NaN           NaN      NaN            NaN  "
      ]
     },
     "execution_count": 337,
     "metadata": {},
     "output_type": "execute_result"
    }
   ],
   "source": [
    "reviews[reviews['listing_id'] == '<br/>Enjoy.']"
   ]
  },
  {
   "cell_type": "code",
   "execution_count": 338,
   "id": "53163cf6-433a-4a37-bcb4-96b98b4a58e3",
   "metadata": {},
   "outputs": [
    {
     "data": {
      "text/html": [
       "<div>\n",
       "<style scoped>\n",
       "    .dataframe tbody tr th:only-of-type {\n",
       "        vertical-align: middle;\n",
       "    }\n",
       "\n",
       "    .dataframe tbody tr th {\n",
       "        vertical-align: top;\n",
       "    }\n",
       "\n",
       "    .dataframe thead th {\n",
       "        text-align: right;\n",
       "    }\n",
       "</style>\n",
       "<table border=\"1\" class=\"dataframe\">\n",
       "  <thead>\n",
       "    <tr style=\"text-align: right;\">\n",
       "      <th></th>\n",
       "      <th>listing_id</th>\n",
       "      <th>review_id</th>\n",
       "      <th>date</th>\n",
       "      <th>reviewer_id</th>\n",
       "      <th>reviewer_name</th>\n",
       "      <th>comments</th>\n",
       "      <th>lower_comments</th>\n",
       "    </tr>\n",
       "  </thead>\n",
       "  <tbody>\n",
       "    <tr>\n",
       "      <th>47</th>\n",
       "      <td>&lt;br/&gt;enjoy.</td>\n",
       "      <td>NaN</td>\n",
       "      <td>NaN</td>\n",
       "      <td>NaN</td>\n",
       "      <td>NaN</td>\n",
       "      <td>NaN</td>\n",
       "      <td>NaN</td>\n",
       "    </tr>\n",
       "  </tbody>\n",
       "</table>\n",
       "</div>"
      ],
      "text/plain": [
       "     listing_id review_id date  reviewer_id reviewer_name comments  \\\n",
       "47  <br/>enjoy.       NaN  NaN          NaN           NaN      NaN   \n",
       "\n",
       "   lower_comments  \n",
       "47            NaN  "
      ]
     },
     "execution_count": 338,
     "metadata": {},
     "output_type": "execute_result"
    }
   ],
   "source": [
    "reviews[reviews['listing_id'] == '<br/>enjoy.']"
   ]
  },
  {
   "cell_type": "code",
   "execution_count": 339,
   "id": "cc315547-22a3-45b0-a44a-6c4dfff72861",
   "metadata": {},
   "outputs": [
    {
     "data": {
      "text/html": [
       "<div>\n",
       "<style scoped>\n",
       "    .dataframe tbody tr th:only-of-type {\n",
       "        vertical-align: middle;\n",
       "    }\n",
       "\n",
       "    .dataframe tbody tr th {\n",
       "        vertical-align: top;\n",
       "    }\n",
       "\n",
       "    .dataframe thead th {\n",
       "        text-align: right;\n",
       "    }\n",
       "</style>\n",
       "<table border=\"1\" class=\"dataframe\">\n",
       "  <thead>\n",
       "    <tr style=\"text-align: right;\">\n",
       "      <th></th>\n",
       "      <th>listing_id</th>\n",
       "      <th>review_id</th>\n",
       "      <th>date</th>\n",
       "      <th>reviewer_id</th>\n",
       "      <th>reviewer_name</th>\n",
       "      <th>comments</th>\n",
       "      <th>lower_comments</th>\n",
       "    </tr>\n",
       "  </thead>\n",
       "  <tbody>\n",
       "    <tr>\n",
       "      <th>57</th>\n",
       "      <td>&lt;br/&gt;+ bathroom very nice and fully equipped</td>\n",
       "      <td>NaN</td>\n",
       "      <td>NaN</td>\n",
       "      <td>NaN</td>\n",
       "      <td>NaN</td>\n",
       "      <td>NaN</td>\n",
       "      <td>NaN</td>\n",
       "    </tr>\n",
       "    <tr>\n",
       "      <th>66</th>\n",
       "      <td>&lt;br/&gt;+ bathroom very nice and fully equipped</td>\n",
       "      <td>NaN</td>\n",
       "      <td>NaN</td>\n",
       "      <td>NaN</td>\n",
       "      <td>NaN</td>\n",
       "      <td>NaN</td>\n",
       "      <td>NaN</td>\n",
       "    </tr>\n",
       "  </tbody>\n",
       "</table>\n",
       "</div>"
      ],
      "text/plain": [
       "                                      listing_id review_id date  reviewer_id  \\\n",
       "57  <br/>+ bathroom very nice and fully equipped       NaN  NaN          NaN   \n",
       "66  <br/>+ bathroom very nice and fully equipped       NaN  NaN          NaN   \n",
       "\n",
       "   reviewer_name comments lower_comments  \n",
       "57           NaN      NaN            NaN  \n",
       "66           NaN      NaN            NaN  "
      ]
     },
     "execution_count": 339,
     "metadata": {},
     "output_type": "execute_result"
    }
   ],
   "source": [
    "reviews[reviews['listing_id'] == '<br/>+ bathroom very nice and fully equipped']"
   ]
  },
  {
   "cell_type": "code",
   "execution_count": 340,
   "id": "a6dd0980-1305-4caf-af52-a569df5b65b5",
   "metadata": {},
   "outputs": [
    {
     "name": "stdout",
     "output_type": "stream",
     "text": [
      "listings shape: (10664, 55)\n",
      "reviews shape: (232218, 7)\n"
     ]
    }
   ],
   "source": [
    "print(f'listings shape: {listings.shape}')\n",
    "print(f'reviews shape: {reviews.shape}')"
   ]
  },
  {
   "cell_type": "code",
   "execution_count": 341,
   "id": "301286c7-13c8-4c6d-9514-3620cab9aebc",
   "metadata": {},
   "outputs": [
    {
     "data": {
      "text/plain": [
       "4727"
      ]
     },
     "execution_count": 341,
     "metadata": {},
     "output_type": "execute_result"
    }
   ],
   "source": [
    "reviews['lower_comments'].isnull().sum()"
   ]
  },
  {
   "cell_type": "code",
   "execution_count": 342,
   "id": "424c9c27-bff5-4922-92fc-e76cac031a34",
   "metadata": {},
   "outputs": [
    {
     "data": {
      "text/plain": [
       "listing_id           0\n",
       "review_id         3045\n",
       "date              3874\n",
       "reviewer_id       3874\n",
       "reviewer_name     3875\n",
       "comments          3889\n",
       "lower_comments    4727\n",
       "dtype: int64"
      ]
     },
     "execution_count": 342,
     "metadata": {},
     "output_type": "execute_result"
    }
   ],
   "source": [
    "reviews.isnull().sum()"
   ]
  },
  {
   "cell_type": "code",
   "execution_count": 343,
   "id": "c9f9e69e-20ba-478d-ab0e-20634a568cc3",
   "metadata": {},
   "outputs": [
    {
     "data": {
      "text/html": [
       "<div>\n",
       "<style scoped>\n",
       "    .dataframe tbody tr th:only-of-type {\n",
       "        vertical-align: middle;\n",
       "    }\n",
       "\n",
       "    .dataframe tbody tr th {\n",
       "        vertical-align: top;\n",
       "    }\n",
       "\n",
       "    .dataframe thead th {\n",
       "        text-align: right;\n",
       "    }\n",
       "</style>\n",
       "<table border=\"1\" class=\"dataframe\">\n",
       "  <thead>\n",
       "    <tr style=\"text-align: right;\">\n",
       "      <th></th>\n",
       "      <th>listing_id</th>\n",
       "      <th>review_id</th>\n",
       "      <th>date</th>\n",
       "      <th>reviewer_id</th>\n",
       "      <th>reviewer_name</th>\n",
       "      <th>comments</th>\n",
       "      <th>lower_comments</th>\n",
       "    </tr>\n",
       "  </thead>\n",
       "  <tbody>\n",
       "    <tr>\n",
       "      <th>35</th>\n",
       "      <td>&lt;br/&gt;june and john from barry south wales</td>\n",
       "      <td>the only reason i have not given 5stars is alt...</td>\n",
       "      <td>NaN</td>\n",
       "      <td>NaN</td>\n",
       "      <td>NaN</td>\n",
       "      <td>NaN</td>\n",
       "      <td>NaN</td>\n",
       "    </tr>\n",
       "    <tr>\n",
       "      <th>36</th>\n",
       "      <td>&lt;br/&gt;june and john from barry south wales</td>\n",
       "      <td>NaN</td>\n",
       "      <td>NaN</td>\n",
       "      <td>NaN</td>\n",
       "      <td>NaN</td>\n",
       "      <td>NaN</td>\n",
       "      <td>NaN</td>\n",
       "    </tr>\n",
       "    <tr>\n",
       "      <th>44</th>\n",
       "      <td>&lt;br/&gt;</td>\n",
       "      <td>NaN</td>\n",
       "      <td>NaN</td>\n",
       "      <td>NaN</td>\n",
       "      <td>NaN</td>\n",
       "      <td>NaN</td>\n",
       "      <td>NaN</td>\n",
       "    </tr>\n",
       "    <tr>\n",
       "      <th>45</th>\n",
       "      <td>&lt;br/&gt;Enjoy.</td>\n",
       "      <td>this is really a great location. the street is...</td>\n",
       "      <td>NaN</td>\n",
       "      <td>NaN</td>\n",
       "      <td>NaN</td>\n",
       "      <td>NaN</td>\n",
       "      <td>NaN</td>\n",
       "    </tr>\n",
       "    <tr>\n",
       "      <th>46</th>\n",
       "      <td>&lt;br/&gt;</td>\n",
       "      <td>NaN</td>\n",
       "      <td>NaN</td>\n",
       "      <td>NaN</td>\n",
       "      <td>NaN</td>\n",
       "      <td>NaN</td>\n",
       "      <td>NaN</td>\n",
       "    </tr>\n",
       "    <tr>\n",
       "      <th>...</th>\n",
       "      <td>...</td>\n",
       "      <td>...</td>\n",
       "      <td>...</td>\n",
       "      <td>...</td>\n",
       "      <td>...</td>\n",
       "      <td>...</td>\n",
       "      <td>...</td>\n",
       "    </tr>\n",
       "    <tr>\n",
       "      <th>102131</th>\n",
       "      <td>&lt;br/&gt;close to everything. uncomplicated.</td>\n",
       "      <td>NaN</td>\n",
       "      <td>NaN</td>\n",
       "      <td>NaN</td>\n",
       "      <td>NaN</td>\n",
       "      <td>NaN</td>\n",
       "      <td>NaN</td>\n",
       "    </tr>\n",
       "    <tr>\n",
       "      <th>103350</th>\n",
       "      <td>&lt;br/&gt;Everything was very convenient and enjoya...</td>\n",
       "      <td>john and allie are very nice and responsible h...</td>\n",
       "      <td>NaN</td>\n",
       "      <td>NaN</td>\n",
       "      <td>NaN</td>\n",
       "      <td>NaN</td>\n",
       "      <td>NaN</td>\n",
       "    </tr>\n",
       "    <tr>\n",
       "      <th>103351</th>\n",
       "      <td>&lt;br/&gt;everything was very convenient and enjoya...</td>\n",
       "      <td>NaN</td>\n",
       "      <td>NaN</td>\n",
       "      <td>NaN</td>\n",
       "      <td>NaN</td>\n",
       "      <td>NaN</td>\n",
       "      <td>NaN</td>\n",
       "    </tr>\n",
       "    <tr>\n",
       "      <th>112335</th>\n",
       "      <td>&lt;br/&gt;For others who might end up booking this ...</td>\n",
       "      <td>ann made us feel very (website hidden by airbn...</td>\n",
       "      <td>NaN</td>\n",
       "      <td>NaN</td>\n",
       "      <td>NaN</td>\n",
       "      <td>NaN</td>\n",
       "      <td>NaN</td>\n",
       "    </tr>\n",
       "    <tr>\n",
       "      <th>112336</th>\n",
       "      <td>&lt;br/&gt;for others who might end up booking this ...</td>\n",
       "      <td>NaN</td>\n",
       "      <td>NaN</td>\n",
       "      <td>NaN</td>\n",
       "      <td>NaN</td>\n",
       "      <td>NaN</td>\n",
       "      <td>NaN</td>\n",
       "    </tr>\n",
       "  </tbody>\n",
       "</table>\n",
       "<p>3874 rows × 7 columns</p>\n",
       "</div>"
      ],
      "text/plain": [
       "                                               listing_id  \\\n",
       "35              <br/>june and john from barry south wales   \n",
       "36              <br/>june and john from barry south wales   \n",
       "44                                                  <br/>   \n",
       "45                                            <br/>Enjoy.   \n",
       "46                                                  <br/>   \n",
       "...                                                   ...   \n",
       "102131           <br/>close to everything. uncomplicated.   \n",
       "103350  <br/>Everything was very convenient and enjoya...   \n",
       "103351  <br/>everything was very convenient and enjoya...   \n",
       "112335  <br/>For others who might end up booking this ...   \n",
       "112336  <br/>for others who might end up booking this ...   \n",
       "\n",
       "                                                review_id date  reviewer_id  \\\n",
       "35      the only reason i have not given 5stars is alt...  NaN          NaN   \n",
       "36                                                    NaN  NaN          NaN   \n",
       "44                                                    NaN  NaN          NaN   \n",
       "45      this is really a great location. the street is...  NaN          NaN   \n",
       "46                                                    NaN  NaN          NaN   \n",
       "...                                                   ...  ...          ...   \n",
       "102131                                                NaN  NaN          NaN   \n",
       "103350  john and allie are very nice and responsible h...  NaN          NaN   \n",
       "103351                                                NaN  NaN          NaN   \n",
       "112335  ann made us feel very (website hidden by airbn...  NaN          NaN   \n",
       "112336                                                NaN  NaN          NaN   \n",
       "\n",
       "       reviewer_name comments lower_comments  \n",
       "35               NaN      NaN            NaN  \n",
       "36               NaN      NaN            NaN  \n",
       "44               NaN      NaN            NaN  \n",
       "45               NaN      NaN            NaN  \n",
       "46               NaN      NaN            NaN  \n",
       "...              ...      ...            ...  \n",
       "102131           NaN      NaN            NaN  \n",
       "103350           NaN      NaN            NaN  \n",
       "103351           NaN      NaN            NaN  \n",
       "112335           NaN      NaN            NaN  \n",
       "112336           NaN      NaN            NaN  \n",
       "\n",
       "[3874 rows x 7 columns]"
      ]
     },
     "execution_count": 343,
     "metadata": {},
     "output_type": "execute_result"
    }
   ],
   "source": [
    "# filtering out any columns with letters for listing id\n",
    "reviews[reviews['listing_id'].str.contains('[A-Za-z]') == True]"
   ]
  },
  {
   "cell_type": "code",
   "execution_count": 344,
   "id": "ba0b6772-828e-419d-b797-f8a68e7a05b0",
   "metadata": {},
   "outputs": [],
   "source": [
    "# ~3,800 rows (out of ~230,000 total) with incorrect listing id and null column values\n",
    "# drop these from the data frame\n",
    "# the below code was adapted from jezrael's response on stack overflow at https://stackoverflow.com/questions/50134687/filter-all-rows-that-do-not-contain-letters-alpha-in-%C2%B4pandas%C2%B4 ()\n",
    "reviews = reviews[reviews['listing_id'].str.contains('[A-Za-z]') == False].copy()"
   ]
  },
  {
   "cell_type": "code",
   "execution_count": 345,
   "id": "b8b85e1f-6790-4040-ae17-e9a4a5285b20",
   "metadata": {},
   "outputs": [
    {
     "name": "stdout",
     "output_type": "stream",
     "text": [
      "listing_id          0\n",
      "review_id           0\n",
      "date                0\n",
      "reviewer_id         0\n",
      "reviewer_name       1\n",
      "comments           15\n",
      "lower_comments    853\n",
      "dtype: int64\n"
     ]
    }
   ],
   "source": [
    "print(reviews.isnull().sum())"
   ]
  },
  {
   "cell_type": "code",
   "execution_count": 346,
   "id": "72290b01-248d-405d-b1ac-4f9d0b691e2f",
   "metadata": {},
   "outputs": [
    {
     "data": {
      "text/plain": [
       "listing_id        0\n",
       "review_id         0\n",
       "date              0\n",
       "reviewer_id       0\n",
       "reviewer_name     1\n",
       "comments          0\n",
       "lower_comments    0\n",
       "dtype: int64"
      ]
     },
     "execution_count": 346,
     "metadata": {},
     "output_type": "execute_result"
    }
   ],
   "source": [
    "# dropping remaining nulls in the cleaned comments column \n",
    "# and in the rating targets column\n",
    "reviews.dropna(subset= 'lower_comments', inplace = True)\n",
    "reviews.isnull().sum()"
   ]
  },
  {
   "cell_type": "code",
   "execution_count": 347,
   "id": "71ef7b94-75a5-4992-bf7a-0e1e570352c5",
   "metadata": {},
   "outputs": [
    {
     "data": {
      "text/plain": [
       "0"
      ]
     },
     "execution_count": 347,
     "metadata": {},
     "output_type": "execute_result"
    }
   ],
   "source": [
    "listings['rating_target'].isnull().sum()"
   ]
  },
  {
   "cell_type": "code",
   "execution_count": 348,
   "id": "4f7262c1-35b5-43cc-9c37-a656280411b7",
   "metadata": {},
   "outputs": [],
   "source": [
    "# ensure the columns to merge on are of the same data type\n",
    "reviews['listing_id'] = reviews['listing_id'].astype(int)"
   ]
  },
  {
   "cell_type": "code",
   "execution_count": 349,
   "id": "61405c20-c0fa-4dd7-bd56-6d35b1557d8c",
   "metadata": {},
   "outputs": [
    {
     "data": {
      "text/plain": [
       "(628691, 62)"
      ]
     },
     "execution_count": 349,
     "metadata": {},
     "output_type": "execute_result"
    }
   ],
   "source": [
    "# merge the two dataframes\n",
    "df = pd.merge(left = listings, right = reviews, left_on= 'id', right_on= 'listing_id', )\n",
    "df.shape"
   ]
  },
  {
   "cell_type": "code",
   "execution_count": 350,
   "id": "2338aca7-7845-4d64-935f-06642f1a7794",
   "metadata": {},
   "outputs": [],
   "source": [
    "# make sure to not get any of the same reviews that happened to be pulled at a later date\n",
    "df.drop_duplicates(['review_id'], inplace=True)"
   ]
  },
  {
   "cell_type": "code",
   "execution_count": 351,
   "id": "21fd3421-fbc3-4afd-83b9-b31ec0c522ac",
   "metadata": {},
   "outputs": [
    {
     "data": {
      "text/plain": [
       "(226530, 62)"
      ]
     },
     "execution_count": 351,
     "metadata": {},
     "output_type": "execute_result"
    }
   ],
   "source": [
    "df.shape"
   ]
  },
  {
   "cell_type": "code",
   "execution_count": 352,
   "id": "7945bfd5-4968-4996-8634-53f7554cccda",
   "metadata": {},
   "outputs": [],
   "source": [
    "df.to_csv('../data/merged.csv', index=False)"
   ]
  },
  {
   "cell_type": "markdown",
   "id": "42502591-7660-467a-9e2a-9260aaebf629",
   "metadata": {
    "tags": []
   },
   "source": [
    "------\n",
    "# **NLP Modeling of the Reviews**"
   ]
  },
  {
   "cell_type": "markdown",
   "id": "c6ffd930-ae76-44e3-832d-89ec665d490f",
   "metadata": {},
   "source": [
    "#### *Start with Naive Bayes - including default hyper paramaters (and small number of features)*"
   ]
  },
  {
   "cell_type": "code",
   "execution_count": 354,
   "id": "16aaee72-f882-48f8-b7df-251154cdfbef",
   "metadata": {},
   "outputs": [
    {
     "name": "stdout",
     "output_type": "stream",
     "text": [
      "3    94690\n",
      "2    68969\n",
      "1    33697\n",
      "4    29174\n",
      "Name: rating_target, dtype: int64\n",
      "*********************************************\n",
      "3    0.418002\n",
      "2    0.304459\n",
      "1    0.148753\n",
      "4    0.128786\n",
      "Name: rating_target, dtype: float64\n",
      "*********************************************\n",
      "Baseline Accuracy: 41.8%\n"
     ]
    }
   ],
   "source": [
    "# define X and y\n",
    "X = df['lower_comments']\n",
    "y = df['rating_target']\n",
    "\n",
    "# determining a baseline accuracy\n",
    "print(y.value_counts())\n",
    "print('*'*45)\n",
    "print(y.value_counts(normalize=True))\n",
    "print('*'*45)\n",
    "\n",
    "print(f'Baseline Accuracy: {round(pd.Series(y.value_counts(normalize=True))[3]*100, 2)}%')\n"
   ]
  },
  {
   "cell_type": "code",
   "execution_count": 355,
   "id": "337b866f-d642-4ddb-aa02-f132c3428a40",
   "metadata": {},
   "outputs": [],
   "source": [
    "# train test split - stick with the default 75/25 split\n",
    "X_train, X_test, y_train, y_test = train_test_split(X, y, \n",
    "                                                     stratify= y,\n",
    "                                                    random_state= 42)"
   ]
  },
  {
   "cell_type": "code",
   "execution_count": 392,
   "id": "975049bb-8aca-4a58-8270-4109d52ea883",
   "metadata": {},
   "outputs": [],
   "source": [
    "def build_pipeline(num_features, model_abbrev, instance, X_train, y_train, X_test, y_test ):\n",
    "    '''\n",
    "    This function builds a pipeline\n",
    "    instantiates and fits the model \n",
    "    and generates a confusion matrix\n",
    "    '''\n",
    "    pipe = Pipeline([\n",
    "        ('cvec', CountVectorizer(max_features = num_features)),\n",
    "        (model_abbrev, instance)\n",
    "    ])\n",
    "\n",
    "    pipe.fit(X_train, y_train)\n",
    "    print('Train:', pipe.score(X_train, y_train))\n",
    "    print('Test:', pipe.score(X_test, y_test))\n",
    "\n",
    "    return plot_confusion_matrix(pipe, X_test, y_test, cmap = 'Reds');"
   ]
  },
  {
   "cell_type": "markdown",
   "id": "e8801d5b-a52c-44fb-8845-d045755404e4",
   "metadata": {
    "tags": []
   },
   "source": [
    "# CVEC and NAIVE Bayes"
   ]
  },
  {
   "cell_type": "code",
   "execution_count": 393,
   "id": "9ec4da88-61b8-48d3-8c97-5cc29ca74a28",
   "metadata": {},
   "outputs": [
    {
     "name": "stdout",
     "output_type": "stream",
     "text": [
      "Train: 0.4189244071407971\n",
      "Test: 0.417442127381562\n"
     ]
    },
    {
     "name": "stderr",
     "output_type": "stream",
     "text": [
      "/Users/petermurphy/opt/anaconda3/envs/dsi/lib/python3.9/site-packages/sklearn/utils/deprecation.py:87: FutureWarning: Function plot_confusion_matrix is deprecated; Function `plot_confusion_matrix` is deprecated in 1.0 and will be removed in 1.2. Use one of the class methods: ConfusionMatrixDisplay.from_predictions or ConfusionMatrixDisplay.from_estimator.\n",
      "  warnings.warn(msg, category=FutureWarning)\n"
     ]
    },
    {
     "data": {
      "text/plain": [
       "<sklearn.metrics._plot.confusion_matrix.ConfusionMatrixDisplay at 0x7f930d9ee760>"
      ]
     },
     "execution_count": 393,
     "metadata": {},
     "output_type": "execute_result"
    },
    {
     "data": {
      "image/png": "[encoded data removed]",
      "text/plain": [
       "<Figure size 432x288 with 2 Axes>"
      ]
     },
     "metadata": {
      "needs_background": "light"
     },
     "output_type": "display_data"
    }
   ],
   "source": [
    "# try same number of features from EDA\n",
    "build_pipeline(50, 'nb', MultinomialNB(), X_train, y_train, X_test, y_test)"
   ]
  },
  {
   "cell_type": "code",
   "execution_count": 394,
   "id": "d66d6471-1f67-4247-86b6-9be14f1a4686",
   "metadata": {},
   "outputs": [
    {
     "name": "stdout",
     "output_type": "stream",
     "text": [
      "Train: 0.5779148542940723\n",
      "Test: 0.5416453304610386\n"
     ]
    },
    {
     "name": "stderr",
     "output_type": "stream",
     "text": [
      "/Users/petermurphy/opt/anaconda3/envs/dsi/lib/python3.9/site-packages/sklearn/utils/deprecation.py:87: FutureWarning: Function plot_confusion_matrix is deprecated; Function `plot_confusion_matrix` is deprecated in 1.0 and will be removed in 1.2. Use one of the class methods: ConfusionMatrixDisplay.from_predictions or ConfusionMatrixDisplay.from_estimator.\n",
      "  warnings.warn(msg, category=FutureWarning)\n"
     ]
    },
    {
     "data": {
      "text/plain": [
       "<sklearn.metrics._plot.confusion_matrix.ConfusionMatrixDisplay at 0x7f930dcb0d00>"
      ]
     },
     "execution_count": 394,
     "metadata": {},
     "output_type": "execute_result"
    },
    {
     "data": {
      "image/png": "[encoded data removed]",
      "text/plain": [
       "<Figure size 432x288 with 2 Axes>"
      ]
     },
     "metadata": {
      "needs_background": "light"
     },
     "output_type": "display_data"
    }
   ],
   "source": [
    "# check with results with many more features\n",
    "build_pipeline(220000, 'nb', MultinomialNB(), X_train, y_train, X_test, y_test)"
   ]
  },
  {
   "cell_type": "markdown",
   "id": "b611376b-48c5-47f5-bcff-7f19fab1e234",
   "metadata": {},
   "source": [
    "# CVEC and Logistic Regression"
   ]
  },
  {
   "cell_type": "code",
   "execution_count": 408,
   "id": "06a794a6-5a85-4ffd-b026-5aa67a14a39a",
   "metadata": {},
   "outputs": [
    {
     "name": "stdout",
     "output_type": "stream",
     "text": [
      "Train: 0.4342572264371943\n",
      "Test: 0.43365175780905124\n"
     ]
    },
    {
     "name": "stderr",
     "output_type": "stream",
     "text": [
      "/Users/petermurphy/opt/anaconda3/envs/dsi/lib/python3.9/site-packages/sklearn/utils/deprecation.py:87: FutureWarning: Function plot_confusion_matrix is deprecated; Function `plot_confusion_matrix` is deprecated in 1.0 and will be removed in 1.2. Use one of the class methods: ConfusionMatrixDisplay.from_predictions or ConfusionMatrixDisplay.from_estimator.\n",
      "  warnings.warn(msg, category=FutureWarning)\n"
     ]
    },
    {
     "data": {
      "text/plain": [
       "<sklearn.metrics._plot.confusion_matrix.ConfusionMatrixDisplay at 0x7f91fa6c5d60>"
      ]
     },
     "execution_count": 408,
     "metadata": {},
     "output_type": "execute_result"
    },
    {
     "data": {
      "image/png": "[encoded data removed]",
      "text/plain": [
       "<Figure size 432x288 with 2 Axes>"
      ]
     },
     "metadata": {
      "needs_background": "light"
     },
     "output_type": "display_data"
    }
   ],
   "source": [
    "build_pipeline(50, 'logreg', LogisticRegression(max_iter = 200), X_train, y_train, X_test, y_test)"
   ]
  },
  {
   "cell_type": "code",
   "execution_count": 407,
   "id": "1ae12081-10f3-4362-b2f9-625d1486ca3f",
   "metadata": {},
   "outputs": [
    {
     "name": "stderr",
     "output_type": "stream",
     "text": [
      "/Users/petermurphy/opt/anaconda3/envs/dsi/lib/python3.9/site-packages/sklearn/linear_model/_logistic.py:814: ConvergenceWarning: lbfgs failed to converge (status=1):\n",
      "STOP: TOTAL NO. of ITERATIONS REACHED LIMIT.\n",
      "\n",
      "Increase the number of iterations (max_iter) or scale the data as shown in:\n",
      "    https://scikit-learn.org/stable/modules/preprocessing.html\n",
      "Please also refer to the documentation for alternative solver options:\n",
      "    https://scikit-learn.org/stable/modules/linear_model.html#logistic-regression\n",
      "  n_iter_i = _check_optimize_result(\n"
     ]
    },
    {
     "name": "stdout",
     "output_type": "stream",
     "text": [
      "Train: 0.6179567620381761\n",
      "Test: 0.5648473504846997\n"
     ]
    },
    {
     "name": "stderr",
     "output_type": "stream",
     "text": [
      "/Users/petermurphy/opt/anaconda3/envs/dsi/lib/python3.9/site-packages/sklearn/utils/deprecation.py:87: FutureWarning: Function plot_confusion_matrix is deprecated; Function `plot_confusion_matrix` is deprecated in 1.0 and will be removed in 1.2. Use one of the class methods: ConfusionMatrixDisplay.from_predictions or ConfusionMatrixDisplay.from_estimator.\n",
      "  warnings.warn(msg, category=FutureWarning)\n"
     ]
    },
    {
     "data": {
      "text/plain": [
       "<sklearn.metrics._plot.confusion_matrix.ConfusionMatrixDisplay at 0x7f92ae449190>"
      ]
     },
     "execution_count": 407,
     "metadata": {},
     "output_type": "execute_result"
    },
    {
     "data": {
      "image/png": "[encoded data removed]",
      "text/plain": [
       "<Figure size 432x288 with 2 Axes>"
      ]
     },
     "metadata": {
      "needs_background": "light"
     },
     "output_type": "display_data"
    }
   ],
   "source": [
    "build_pipeline(220000, 'logreg', LogisticRegression(max_iter=200), X_train, y_train, X_test, y_test)"
   ]
  },
  {
   "cell_type": "markdown",
   "id": "1b1315a7-b901-41a3-aa89-07527583d6f1",
   "metadata": {},
   "source": [
    "# CVEC and Random Forest"
   ]
  },
  {
   "cell_type": "markdown",
   "id": "eb2d718b-8672-4edd-8bdc-1bbb2fde0a1f",
   "metadata": {},
   "source": [
    "### Grid searching"
   ]
  },
  {
   "cell_type": "code",
   "execution_count": null,
   "id": "d4270bf8-54fa-40cb-bc42-eafac0bda068",
   "metadata": {},
   "outputs": [],
   "source": []
  }
 ],
 "metadata": {
  "kernelspec": {
   "display_name": "Python [conda env:dsi] *",
   "language": "python",
   "name": "conda-env-dsi-py"
  },
  "language_info": {
   "codemirror_mode": {
    "name": "ipython",
    "version": 3
   },
   "file_extension": ".py",
   "mimetype": "text/x-python",
   "name": "python",
   "nbconvert_exporter": "python",
   "pygments_lexer": "ipython3",
   "version": "3.9.12"
  }
 },
 "nbformat": 4,
 "nbformat_minor": 5
}
