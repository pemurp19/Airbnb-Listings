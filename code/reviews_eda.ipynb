{
 "cells": [
  {
   "cell_type": "markdown",
   "id": "0ab7dc70-22e0-432a-9832-0a3ed0f11ca2",
   "metadata": {},
   "source": [
    "# **EDA For Reviews**"
   ]
  },
  {
   "cell_type": "markdown",
   "id": "de7a8ebc-adb0-4178-962d-5e06daf2e525",
   "metadata": {},
   "source": [
    "-----\n",
    "### Imports"
   ]
  },
  {
   "cell_type": "code",
   "execution_count": 68,
   "id": "d501a1bf-9cea-4350-906e-0214e5fb2505",
   "metadata": {},
   "outputs": [],
   "source": [
    "import pandas as pd\n",
    "import numpy as np\n",
    "import matplotlib.pyplot as plt\n",
    "import seaborn as sns\n",
    "\n",
    "from pandasql import sqldf\n",
    "\n",
    "from sklearn.feature_extraction.text import CountVectorizer, TfidfVectorizer\n",
    "from nltk.corpus import stopwords"
   ]
  },
  {
   "cell_type": "markdown",
   "id": "103452c4-66c5-4a70-ae56-6c5fb03f65d2",
   "metadata": {},
   "source": [
    "------\n",
    "## Read in the Data"
   ]
  },
  {
   "cell_type": "code",
   "execution_count": 69,
   "id": "44fa5e5f-dc49-45c2-b834-8132a171087a",
   "metadata": {},
   "outputs": [
    {
     "data": {
      "text/html": [
       "<div>\n",
       "<style scoped>\n",
       "    .dataframe tbody tr th:only-of-type {\n",
       "        vertical-align: middle;\n",
       "    }\n",
       "\n",
       "    .dataframe tbody tr th {\n",
       "        vertical-align: top;\n",
       "    }\n",
       "\n",
       "    .dataframe thead th {\n",
       "        text-align: right;\n",
       "    }\n",
       "</style>\n",
       "<table border=\"1\" class=\"dataframe\">\n",
       "  <thead>\n",
       "    <tr style=\"text-align: right;\">\n",
       "      <th></th>\n",
       "      <th>listing_id</th>\n",
       "      <th>review_id</th>\n",
       "      <th>date</th>\n",
       "      <th>reviewer_id</th>\n",
       "      <th>reviewer_name</th>\n",
       "      <th>comments</th>\n",
       "      <th>lower_comments</th>\n",
       "    </tr>\n",
       "  </thead>\n",
       "  <tbody>\n",
       "    <tr>\n",
       "      <th>0</th>\n",
       "      <td>3781</td>\n",
       "      <td>37776825</td>\n",
       "      <td>2015-07-10</td>\n",
       "      <td>36059247.0</td>\n",
       "      <td>Greg</td>\n",
       "      <td>The apartment was as advertised and Frank was ...</td>\n",
       "      <td>the apartment was as advertised and frank was ...</td>\n",
       "    </tr>\n",
       "    <tr>\n",
       "      <th>1</th>\n",
       "      <td>3781</td>\n",
       "      <td>41842494</td>\n",
       "      <td>2015-08-09</td>\n",
       "      <td>10459388.0</td>\n",
       "      <td>Tai</td>\n",
       "      <td>It was a pleasure to stay at Frank's place. Th...</td>\n",
       "      <td>it was a pleasure to stay at frank's place. th...</td>\n",
       "    </tr>\n",
       "    <tr>\n",
       "      <th>2</th>\n",
       "      <td>3781</td>\n",
       "      <td>45282151</td>\n",
       "      <td>2015-09-01</td>\n",
       "      <td>12264652.0</td>\n",
       "      <td>Damien</td>\n",
       "      <td>The apartment description is entirely faithful...</td>\n",
       "      <td>the apartment description is entirely faithful...</td>\n",
       "    </tr>\n",
       "    <tr>\n",
       "      <th>3</th>\n",
       "      <td>3781</td>\n",
       "      <td>49022647</td>\n",
       "      <td>2015-09-30</td>\n",
       "      <td>41426327.0</td>\n",
       "      <td>Mike</td>\n",
       "      <td>Thoroughly enjoyed my time at Frank's home. Ha...</td>\n",
       "      <td>thoroughly enjoyed my time at frank's home. ha...</td>\n",
       "    </tr>\n",
       "    <tr>\n",
       "      <th>4</th>\n",
       "      <td>3781</td>\n",
       "      <td>52503327</td>\n",
       "      <td>2015-10-30</td>\n",
       "      <td>15151513.0</td>\n",
       "      <td>Ivan</td>\n",
       "      <td>Great value for the money! This location has e...</td>\n",
       "      <td>great value for the money! this location has e...</td>\n",
       "    </tr>\n",
       "  </tbody>\n",
       "</table>\n",
       "</div>"
      ],
      "text/plain": [
       "  listing_id review_id        date  reviewer_id reviewer_name  \\\n",
       "0       3781  37776825  2015-07-10   36059247.0          Greg   \n",
       "1       3781  41842494  2015-08-09   10459388.0           Tai   \n",
       "2       3781  45282151  2015-09-01   12264652.0        Damien   \n",
       "3       3781  49022647  2015-09-30   41426327.0          Mike   \n",
       "4       3781  52503327  2015-10-30   15151513.0          Ivan   \n",
       "\n",
       "                                            comments  \\\n",
       "0  The apartment was as advertised and Frank was ...   \n",
       "1  It was a pleasure to stay at Frank's place. Th...   \n",
       "2  The apartment description is entirely faithful...   \n",
       "3  Thoroughly enjoyed my time at Frank's home. Ha...   \n",
       "4  Great value for the money! This location has e...   \n",
       "\n",
       "                                      lower_comments  \n",
       "0  the apartment was as advertised and frank was ...  \n",
       "1  it was a pleasure to stay at frank's place. th...  \n",
       "2  the apartment description is entirely faithful...  \n",
       "3  thoroughly enjoyed my time at frank's home. ha...  \n",
       "4  great value for the money! this location has e...  "
      ]
     },
     "execution_count": 69,
     "metadata": {},
     "output_type": "execute_result"
    }
   ],
   "source": [
    "reviews = pd.read_csv('../data/reviews_cleaned.csv', low_memory=False)\n",
    "reviews.head()"
   ]
  },
  {
   "cell_type": "code",
   "execution_count": 70,
   "id": "06dc84cd-e842-4136-b0b8-acf7edcade87",
   "metadata": {},
   "outputs": [
    {
     "data": {
      "text/plain": [
       "(232218, 7)"
      ]
     },
     "execution_count": 70,
     "metadata": {},
     "output_type": "execute_result"
    }
   ],
   "source": [
    "reviews.shape"
   ]
  },
  {
   "cell_type": "code",
   "execution_count": 71,
   "id": "1c3fb5d0-557c-4788-a61c-0a276c04dbed",
   "metadata": {},
   "outputs": [
    {
     "data": {
      "text/plain": [
       "listing_id           0\n",
       "review_id         3045\n",
       "date              3874\n",
       "reviewer_id       3874\n",
       "reviewer_name     3875\n",
       "comments          3889\n",
       "lower_comments    4727\n",
       "dtype: int64"
      ]
     },
     "execution_count": 71,
     "metadata": {},
     "output_type": "execute_result"
    }
   ],
   "source": [
    "reviews.isnull().sum()"
   ]
  },
  {
   "cell_type": "code",
   "execution_count": 72,
   "id": "a66c081c-5f8a-465e-b613-e4ecfdf7b4b1",
   "metadata": {},
   "outputs": [
    {
     "data": {
      "text/plain": [
       "listing_id         object\n",
       "review_id          object\n",
       "date               object\n",
       "reviewer_id       float64\n",
       "reviewer_name      object\n",
       "comments           object\n",
       "lower_comments     object\n",
       "dtype: object"
      ]
     },
     "execution_count": 72,
     "metadata": {},
     "output_type": "execute_result"
    }
   ],
   "source": [
    "reviews.dtypes"
   ]
  },
  {
   "cell_type": "code",
   "execution_count": 73,
   "id": "7bcf2586-49ae-4faa-b4b4-91d2330d06ea",
   "metadata": {},
   "outputs": [
    {
     "data": {
      "text/plain": [
       "0        2015-07-10\n",
       "1        2015-08-09\n",
       "2        2015-09-01\n",
       "3        2015-09-30\n",
       "4        2015-10-30\n",
       "            ...    \n",
       "232213   2022-05-12\n",
       "232214   2022-05-22\n",
       "232215   2022-05-29\n",
       "232216   2022-06-08\n",
       "232217   2022-06-10\n",
       "Name: date, Length: 232218, dtype: datetime64[ns]"
      ]
     },
     "execution_count": 73,
     "metadata": {},
     "output_type": "execute_result"
    }
   ],
   "source": [
    "# ensuring date column is correct data type (wasn't retained when csv read in)\n",
    "pd.to_datetime(reviews['date'], errors = 'coerce')"
   ]
  },
  {
   "cell_type": "code",
   "execution_count": 74,
   "id": "de708d52-11a9-4cb1-ad20-71351ef5b11d",
   "metadata": {},
   "outputs": [
    {
     "data": {
      "text/plain": [
       "listing_id         object\n",
       "review_id          object\n",
       "date               object\n",
       "reviewer_id       float64\n",
       "reviewer_name      object\n",
       "comments           object\n",
       "lower_comments     object\n",
       "dtype: object"
      ]
     },
     "execution_count": 74,
     "metadata": {},
     "output_type": "execute_result"
    }
   ],
   "source": [
    "reviews.dtypes"
   ]
  },
  {
   "cell_type": "code",
   "execution_count": 75,
   "id": "3a083d8b-0b0b-43b6-b97a-ed2572765452",
   "metadata": {},
   "outputs": [
    {
     "data": {
      "text/html": [
       "<div>\n",
       "<style scoped>\n",
       "    .dataframe tbody tr th:only-of-type {\n",
       "        vertical-align: middle;\n",
       "    }\n",
       "\n",
       "    .dataframe tbody tr th {\n",
       "        vertical-align: top;\n",
       "    }\n",
       "\n",
       "    .dataframe thead th {\n",
       "        text-align: right;\n",
       "    }\n",
       "</style>\n",
       "<table border=\"1\" class=\"dataframe\">\n",
       "  <thead>\n",
       "    <tr style=\"text-align: right;\">\n",
       "      <th></th>\n",
       "      <th>listing_id</th>\n",
       "      <th>review_id</th>\n",
       "      <th>date</th>\n",
       "      <th>reviewer_id</th>\n",
       "      <th>reviewer_name</th>\n",
       "      <th>comments</th>\n",
       "      <th>lower_comments</th>\n",
       "    </tr>\n",
       "  </thead>\n",
       "  <tbody>\n",
       "    <tr>\n",
       "      <th>0</th>\n",
       "      <td>3781</td>\n",
       "      <td>37776825</td>\n",
       "      <td>2015-07-10</td>\n",
       "      <td>36059247.0</td>\n",
       "      <td>Greg</td>\n",
       "      <td>The apartment was as advertised and Frank was ...</td>\n",
       "      <td>the apartment was as advertised and frank was ...</td>\n",
       "    </tr>\n",
       "    <tr>\n",
       "      <th>1</th>\n",
       "      <td>3781</td>\n",
       "      <td>41842494</td>\n",
       "      <td>2015-08-09</td>\n",
       "      <td>10459388.0</td>\n",
       "      <td>Tai</td>\n",
       "      <td>It was a pleasure to stay at Frank's place. Th...</td>\n",
       "      <td>it was a pleasure to stay at frank's place. th...</td>\n",
       "    </tr>\n",
       "    <tr>\n",
       "      <th>2</th>\n",
       "      <td>3781</td>\n",
       "      <td>45282151</td>\n",
       "      <td>2015-09-01</td>\n",
       "      <td>12264652.0</td>\n",
       "      <td>Damien</td>\n",
       "      <td>The apartment description is entirely faithful...</td>\n",
       "      <td>the apartment description is entirely faithful...</td>\n",
       "    </tr>\n",
       "    <tr>\n",
       "      <th>3</th>\n",
       "      <td>3781</td>\n",
       "      <td>49022647</td>\n",
       "      <td>2015-09-30</td>\n",
       "      <td>41426327.0</td>\n",
       "      <td>Mike</td>\n",
       "      <td>Thoroughly enjoyed my time at Frank's home. Ha...</td>\n",
       "      <td>thoroughly enjoyed my time at frank's home. ha...</td>\n",
       "    </tr>\n",
       "    <tr>\n",
       "      <th>4</th>\n",
       "      <td>3781</td>\n",
       "      <td>52503327</td>\n",
       "      <td>2015-10-30</td>\n",
       "      <td>15151513.0</td>\n",
       "      <td>Ivan</td>\n",
       "      <td>Great value for the money! This location has e...</td>\n",
       "      <td>great value for the money! this location has e...</td>\n",
       "    </tr>\n",
       "  </tbody>\n",
       "</table>\n",
       "</div>"
      ],
      "text/plain": [
       "  listing_id review_id        date  reviewer_id reviewer_name  \\\n",
       "0       3781  37776825  2015-07-10   36059247.0          Greg   \n",
       "1       3781  41842494  2015-08-09   10459388.0           Tai   \n",
       "2       3781  45282151  2015-09-01   12264652.0        Damien   \n",
       "3       3781  49022647  2015-09-30   41426327.0          Mike   \n",
       "4       3781  52503327  2015-10-30   15151513.0          Ivan   \n",
       "\n",
       "                                            comments  \\\n",
       "0  The apartment was as advertised and Frank was ...   \n",
       "1  It was a pleasure to stay at Frank's place. Th...   \n",
       "2  The apartment description is entirely faithful...   \n",
       "3  Thoroughly enjoyed my time at Frank's home. Ha...   \n",
       "4  Great value for the money! This location has e...   \n",
       "\n",
       "                                      lower_comments  \n",
       "0  the apartment was as advertised and frank was ...  \n",
       "1  it was a pleasure to stay at frank's place. th...  \n",
       "2  the apartment description is entirely faithful...  \n",
       "3  thoroughly enjoyed my time at frank's home. ha...  \n",
       "4  great value for the money! this location has e...  "
      ]
     },
     "execution_count": 75,
     "metadata": {},
     "output_type": "execute_result"
    }
   ],
   "source": [
    "reviews.head()"
   ]
  },
  {
   "cell_type": "markdown",
   "id": "6f67cf56-852c-4777-bb47-0d5878267b64",
   "metadata": {},
   "source": [
    "-------\n",
    "### **Exploring Reviews Data Frame**"
   ]
  },
  {
   "cell_type": "code",
   "execution_count": 76,
   "id": "4b26b11c-ac96-4aee-9210-0cb4565d1178",
   "metadata": {},
   "outputs": [
    {
     "data": {
      "text/html": [
       "<div>\n",
       "<style scoped>\n",
       "    .dataframe tbody tr th:only-of-type {\n",
       "        vertical-align: middle;\n",
       "    }\n",
       "\n",
       "    .dataframe tbody tr th {\n",
       "        vertical-align: top;\n",
       "    }\n",
       "\n",
       "    .dataframe thead th {\n",
       "        text-align: right;\n",
       "    }\n",
       "</style>\n",
       "<table border=\"1\" class=\"dataframe\">\n",
       "  <thead>\n",
       "    <tr style=\"text-align: right;\">\n",
       "      <th></th>\n",
       "      <th>listing_id</th>\n",
       "      <th>review_id</th>\n",
       "      <th>date</th>\n",
       "      <th>reviewer_id</th>\n",
       "      <th>reviewer_name</th>\n",
       "      <th>comments</th>\n",
       "      <th>lower_comments</th>\n",
       "    </tr>\n",
       "  </thead>\n",
       "  <tbody>\n",
       "    <tr>\n",
       "      <th>0</th>\n",
       "      <td>3781</td>\n",
       "      <td>37776825</td>\n",
       "      <td>2015-07-10</td>\n",
       "      <td>36059247.0</td>\n",
       "      <td>Greg</td>\n",
       "      <td>The apartment was as advertised and Frank was ...</td>\n",
       "      <td>the apartment was as advertised and frank was ...</td>\n",
       "    </tr>\n",
       "    <tr>\n",
       "      <th>1</th>\n",
       "      <td>3781</td>\n",
       "      <td>41842494</td>\n",
       "      <td>2015-08-09</td>\n",
       "      <td>10459388.0</td>\n",
       "      <td>Tai</td>\n",
       "      <td>It was a pleasure to stay at Frank's place. Th...</td>\n",
       "      <td>it was a pleasure to stay at frank's place. th...</td>\n",
       "    </tr>\n",
       "    <tr>\n",
       "      <th>2</th>\n",
       "      <td>3781</td>\n",
       "      <td>45282151</td>\n",
       "      <td>2015-09-01</td>\n",
       "      <td>12264652.0</td>\n",
       "      <td>Damien</td>\n",
       "      <td>The apartment description is entirely faithful...</td>\n",
       "      <td>the apartment description is entirely faithful...</td>\n",
       "    </tr>\n",
       "    <tr>\n",
       "      <th>3</th>\n",
       "      <td>3781</td>\n",
       "      <td>49022647</td>\n",
       "      <td>2015-09-30</td>\n",
       "      <td>41426327.0</td>\n",
       "      <td>Mike</td>\n",
       "      <td>Thoroughly enjoyed my time at Frank's home. Ha...</td>\n",
       "      <td>thoroughly enjoyed my time at frank's home. ha...</td>\n",
       "    </tr>\n",
       "    <tr>\n",
       "      <th>4</th>\n",
       "      <td>3781</td>\n",
       "      <td>52503327</td>\n",
       "      <td>2015-10-30</td>\n",
       "      <td>15151513.0</td>\n",
       "      <td>Ivan</td>\n",
       "      <td>Great value for the money! This location has e...</td>\n",
       "      <td>great value for the money! this location has e...</td>\n",
       "    </tr>\n",
       "  </tbody>\n",
       "</table>\n",
       "</div>"
      ],
      "text/plain": [
       "  listing_id review_id        date  reviewer_id reviewer_name  \\\n",
       "0       3781  37776825  2015-07-10   36059247.0          Greg   \n",
       "1       3781  41842494  2015-08-09   10459388.0           Tai   \n",
       "2       3781  45282151  2015-09-01   12264652.0        Damien   \n",
       "3       3781  49022647  2015-09-30   41426327.0          Mike   \n",
       "4       3781  52503327  2015-10-30   15151513.0          Ivan   \n",
       "\n",
       "                                            comments  \\\n",
       "0  The apartment was as advertised and Frank was ...   \n",
       "1  It was a pleasure to stay at Frank's place. Th...   \n",
       "2  The apartment description is entirely faithful...   \n",
       "3  Thoroughly enjoyed my time at Frank's home. Ha...   \n",
       "4  Great value for the money! This location has e...   \n",
       "\n",
       "                                      lower_comments  \n",
       "0  the apartment was as advertised and frank was ...  \n",
       "1  it was a pleasure to stay at frank's place. th...  \n",
       "2  the apartment description is entirely faithful...  \n",
       "3  thoroughly enjoyed my time at frank's home. ha...  \n",
       "4  great value for the money! this location has e...  "
      ]
     },
     "execution_count": 76,
     "metadata": {},
     "output_type": "execute_result"
    }
   ],
   "source": [
    "sql = \"\"\"\n",
    "SELECT *\n",
    "FROM reviews\n",
    "LIMIT 5;\n",
    "\"\"\"\n",
    "\n",
    "df = sqldf(sql)\n",
    "df.head()"
   ]
  },
  {
   "cell_type": "markdown",
   "id": "bcb37fcf-61a7-4020-bf0e-cc29005b5d81",
   "metadata": {},
   "source": [
    "----\n",
    "### Reviews by Users and Listings"
   ]
  },
  {
   "cell_type": "code",
   "execution_count": 77,
   "id": "527f2f1b-6bed-4591-bd6b-b521a7ce95f6",
   "metadata": {},
   "outputs": [
    {
     "data": {
      "text/html": [
       "<div>\n",
       "<style scoped>\n",
       "    .dataframe tbody tr th:only-of-type {\n",
       "        vertical-align: middle;\n",
       "    }\n",
       "\n",
       "    .dataframe tbody tr th {\n",
       "        vertical-align: top;\n",
       "    }\n",
       "\n",
       "    .dataframe thead th {\n",
       "        text-align: right;\n",
       "    }\n",
       "</style>\n",
       "<table border=\"1\" class=\"dataframe\">\n",
       "  <thead>\n",
       "    <tr style=\"text-align: right;\">\n",
       "      <th></th>\n",
       "      <th>num_reviews</th>\n",
       "    </tr>\n",
       "  </thead>\n",
       "  <tbody>\n",
       "    <tr>\n",
       "      <th>0</th>\n",
       "      <td>232218</td>\n",
       "    </tr>\n",
       "  </tbody>\n",
       "</table>\n",
       "</div>"
      ],
      "text/plain": [
       "   num_reviews\n",
       "0       232218"
      ]
     },
     "execution_count": 77,
     "metadata": {},
     "output_type": "execute_result"
    }
   ],
   "source": [
    "sql = \"\"\"\n",
    "SELECT COUNT(*) AS num_reviews\n",
    "FROM reviews;\n",
    "\"\"\"\n",
    "\n",
    "df = sqldf(sql)\n",
    "df.head()"
   ]
  },
  {
   "cell_type": "code",
   "execution_count": 78,
   "id": "c93c3188-52fb-436e-b77a-0bac969232e4",
   "metadata": {},
   "outputs": [
    {
     "data": {
      "text/html": [
       "<div>\n",
       "<style scoped>\n",
       "    .dataframe tbody tr th:only-of-type {\n",
       "        vertical-align: middle;\n",
       "    }\n",
       "\n",
       "    .dataframe tbody tr th {\n",
       "        vertical-align: top;\n",
       "    }\n",
       "\n",
       "    .dataframe thead th {\n",
       "        text-align: right;\n",
       "    }\n",
       "</style>\n",
       "<table border=\"1\" class=\"dataframe\">\n",
       "  <thead>\n",
       "    <tr style=\"text-align: right;\">\n",
       "      <th></th>\n",
       "      <th>num_distinct_reviews</th>\n",
       "    </tr>\n",
       "  </thead>\n",
       "  <tbody>\n",
       "    <tr>\n",
       "      <th>0</th>\n",
       "      <td>229171</td>\n",
       "    </tr>\n",
       "  </tbody>\n",
       "</table>\n",
       "</div>"
      ],
      "text/plain": [
       "   num_distinct_reviews\n",
       "0                229171"
      ]
     },
     "execution_count": 78,
     "metadata": {},
     "output_type": "execute_result"
    }
   ],
   "source": [
    "sql = \"\"\"\n",
    "SELECT COUNT(DISTINCT review_id) AS num_distinct_reviews\n",
    "FROM reviews;\n",
    "\"\"\"\n",
    "\n",
    "df = sqldf(sql)\n",
    "df.head()"
   ]
  },
  {
   "cell_type": "code",
   "execution_count": 79,
   "id": "612e822d-daff-4538-9955-97ec3e77346c",
   "metadata": {},
   "outputs": [
    {
     "data": {
      "text/html": [
       "<div>\n",
       "<style scoped>\n",
       "    .dataframe tbody tr th:only-of-type {\n",
       "        vertical-align: middle;\n",
       "    }\n",
       "\n",
       "    .dataframe tbody tr th {\n",
       "        vertical-align: top;\n",
       "    }\n",
       "\n",
       "    .dataframe thead th {\n",
       "        text-align: right;\n",
       "    }\n",
       "</style>\n",
       "<table border=\"1\" class=\"dataframe\">\n",
       "  <thead>\n",
       "    <tr style=\"text-align: right;\">\n",
       "      <th></th>\n",
       "      <th>num_distinct_listings</th>\n",
       "    </tr>\n",
       "  </thead>\n",
       "  <tbody>\n",
       "    <tr>\n",
       "      <th>0</th>\n",
       "      <td>6176</td>\n",
       "    </tr>\n",
       "  </tbody>\n",
       "</table>\n",
       "</div>"
      ],
      "text/plain": [
       "   num_distinct_listings\n",
       "0                   6176"
      ]
     },
     "execution_count": 79,
     "metadata": {},
     "output_type": "execute_result"
    }
   ],
   "source": [
    "sql = \"\"\"\n",
    "SELECT COUNT(DISTINCT listing_id) AS num_distinct_listings\n",
    "FROM reviews;\n",
    "\"\"\"\n",
    "\n",
    "df = sqldf(sql)\n",
    "df.head()"
   ]
  },
  {
   "cell_type": "code",
   "execution_count": 80,
   "id": "16123500-a6d7-4d64-80f5-cf9fba10ad33",
   "metadata": {},
   "outputs": [
    {
     "data": {
      "text/html": [
       "<div>\n",
       "<style scoped>\n",
       "    .dataframe tbody tr th:only-of-type {\n",
       "        vertical-align: middle;\n",
       "    }\n",
       "\n",
       "    .dataframe tbody tr th {\n",
       "        vertical-align: top;\n",
       "    }\n",
       "\n",
       "    .dataframe thead th {\n",
       "        text-align: right;\n",
       "    }\n",
       "</style>\n",
       "<table border=\"1\" class=\"dataframe\">\n",
       "  <thead>\n",
       "    <tr style=\"text-align: right;\">\n",
       "      <th></th>\n",
       "      <th>num_reviewers</th>\n",
       "    </tr>\n",
       "  </thead>\n",
       "  <tbody>\n",
       "    <tr>\n",
       "      <th>0</th>\n",
       "      <td>208450</td>\n",
       "    </tr>\n",
       "  </tbody>\n",
       "</table>\n",
       "</div>"
      ],
      "text/plain": [
       "   num_reviewers\n",
       "0         208450"
      ]
     },
     "execution_count": 80,
     "metadata": {},
     "output_type": "execute_result"
    }
   ],
   "source": [
    "sql = \"\"\"\n",
    "SELECT COUNT(DISTINCT reviewer_id) AS num_reviewers\n",
    "FROM reviews\n",
    "LIMIT 5;\n",
    "\"\"\"\n",
    "\n",
    "df = sqldf(sql)\n",
    "df.head()"
   ]
  },
  {
   "cell_type": "code",
   "execution_count": 81,
   "id": "2bca5e3f-2373-4b58-bd2f-72e4c2bf5607",
   "metadata": {},
   "outputs": [
    {
     "data": {
      "text/html": [
       "<div>\n",
       "<style scoped>\n",
       "    .dataframe tbody tr th:only-of-type {\n",
       "        vertical-align: middle;\n",
       "    }\n",
       "\n",
       "    .dataframe tbody tr th {\n",
       "        vertical-align: top;\n",
       "    }\n",
       "\n",
       "    .dataframe thead th {\n",
       "        text-align: right;\n",
       "    }\n",
       "</style>\n",
       "<table border=\"1\" class=\"dataframe\">\n",
       "  <thead>\n",
       "    <tr style=\"text-align: right;\">\n",
       "      <th></th>\n",
       "      <th>reviewer_id</th>\n",
       "      <th>reviewer_name</th>\n",
       "      <th>num_reviews</th>\n",
       "    </tr>\n",
       "  </thead>\n",
       "  <tbody>\n",
       "    <tr>\n",
       "      <th>0</th>\n",
       "      <td>NaN</td>\n",
       "      <td>None</td>\n",
       "      <td>827</td>\n",
       "    </tr>\n",
       "    <tr>\n",
       "      <th>1</th>\n",
       "      <td>87095873.0</td>\n",
       "      <td>Thomas M</td>\n",
       "      <td>55</td>\n",
       "    </tr>\n",
       "    <tr>\n",
       "      <th>2</th>\n",
       "      <td>134772735.0</td>\n",
       "      <td>Aman</td>\n",
       "      <td>52</td>\n",
       "    </tr>\n",
       "    <tr>\n",
       "      <th>3</th>\n",
       "      <td>132765892.0</td>\n",
       "      <td>Arie</td>\n",
       "      <td>41</td>\n",
       "    </tr>\n",
       "    <tr>\n",
       "      <th>4</th>\n",
       "      <td>217937282.0</td>\n",
       "      <td>Jon</td>\n",
       "      <td>32</td>\n",
       "    </tr>\n",
       "    <tr>\n",
       "      <th>5</th>\n",
       "      <td>40651868.0</td>\n",
       "      <td>Harry</td>\n",
       "      <td>32</td>\n",
       "    </tr>\n",
       "    <tr>\n",
       "      <th>6</th>\n",
       "      <td>171180734.0</td>\n",
       "      <td>John</td>\n",
       "      <td>29</td>\n",
       "    </tr>\n",
       "    <tr>\n",
       "      <th>7</th>\n",
       "      <td>265228708.0</td>\n",
       "      <td>Matt</td>\n",
       "      <td>26</td>\n",
       "    </tr>\n",
       "    <tr>\n",
       "      <th>8</th>\n",
       "      <td>81255595.0</td>\n",
       "      <td>Susan</td>\n",
       "      <td>26</td>\n",
       "    </tr>\n",
       "    <tr>\n",
       "      <th>9</th>\n",
       "      <td>12096536.0</td>\n",
       "      <td>Marie</td>\n",
       "      <td>26</td>\n",
       "    </tr>\n",
       "  </tbody>\n",
       "</table>\n",
       "</div>"
      ],
      "text/plain": [
       "   reviewer_id reviewer_name  num_reviews\n",
       "0          NaN          None          827\n",
       "1   87095873.0      Thomas M           55\n",
       "2  134772735.0          Aman           52\n",
       "3  132765892.0          Arie           41\n",
       "4  217937282.0           Jon           32\n",
       "5   40651868.0         Harry           32\n",
       "6  171180734.0          John           29\n",
       "7  265228708.0          Matt           26\n",
       "8   81255595.0         Susan           26\n",
       "9   12096536.0         Marie           26"
      ]
     },
     "execution_count": 81,
     "metadata": {},
     "output_type": "execute_result"
    }
   ],
   "source": [
    "# users with most reviews\n",
    "sql = \"\"\"\n",
    "SELECT reviewer_id, reviewer_name, COUNT(DISTINCT review_id) AS num_reviews\n",
    "FROM reviews\n",
    "GROUP BY reviewer_id\n",
    "ORDER BY COUNT(review_id) DESC;\n",
    "\"\"\"\n",
    "\n",
    "df = sqldf(sql)\n",
    "df.head(10)"
   ]
  },
  {
   "cell_type": "code",
   "execution_count": 82,
   "id": "a11726b9-c403-4486-9cec-54fd374ca09e",
   "metadata": {},
   "outputs": [
    {
     "data": {
      "text/html": [
       "<div>\n",
       "<style scoped>\n",
       "    .dataframe tbody tr th:only-of-type {\n",
       "        vertical-align: middle;\n",
       "    }\n",
       "\n",
       "    .dataframe tbody tr th {\n",
       "        vertical-align: top;\n",
       "    }\n",
       "\n",
       "    .dataframe thead th {\n",
       "        text-align: right;\n",
       "    }\n",
       "</style>\n",
       "<table border=\"1\" class=\"dataframe\">\n",
       "  <thead>\n",
       "    <tr style=\"text-align: right;\">\n",
       "      <th></th>\n",
       "      <th>listing_id</th>\n",
       "      <th>num_reviews</th>\n",
       "    </tr>\n",
       "  </thead>\n",
       "  <tbody>\n",
       "    <tr>\n",
       "      <th>0</th>\n",
       "      <td>682093</td>\n",
       "      <td>1071</td>\n",
       "    </tr>\n",
       "    <tr>\n",
       "      <th>1</th>\n",
       "      <td>2676488</td>\n",
       "      <td>990</td>\n",
       "    </tr>\n",
       "    <tr>\n",
       "      <th>2</th>\n",
       "      <td>46534</td>\n",
       "      <td>927</td>\n",
       "    </tr>\n",
       "    <tr>\n",
       "      <th>3</th>\n",
       "      <td>4090224</td>\n",
       "      <td>729</td>\n",
       "    </tr>\n",
       "    <tr>\n",
       "      <th>4</th>\n",
       "      <td>815639</td>\n",
       "      <td>708</td>\n",
       "    </tr>\n",
       "    <tr>\n",
       "      <th>5</th>\n",
       "      <td>916123</td>\n",
       "      <td>692</td>\n",
       "    </tr>\n",
       "    <tr>\n",
       "      <th>6</th>\n",
       "      <td>3510127</td>\n",
       "      <td>684</td>\n",
       "    </tr>\n",
       "    <tr>\n",
       "      <th>7</th>\n",
       "      <td>12318450</td>\n",
       "      <td>670</td>\n",
       "    </tr>\n",
       "    <tr>\n",
       "      <th>8</th>\n",
       "      <td>3506058</td>\n",
       "      <td>659</td>\n",
       "    </tr>\n",
       "    <tr>\n",
       "      <th>9</th>\n",
       "      <td>18290558</td>\n",
       "      <td>659</td>\n",
       "    </tr>\n",
       "  </tbody>\n",
       "</table>\n",
       "</div>"
      ],
      "text/plain": [
       "  listing_id  num_reviews\n",
       "0     682093         1071\n",
       "1    2676488          990\n",
       "2      46534          927\n",
       "3    4090224          729\n",
       "4     815639          708\n",
       "5     916123          692\n",
       "6    3510127          684\n",
       "7   12318450          670\n",
       "8    3506058          659\n",
       "9   18290558          659"
      ]
     },
     "execution_count": 82,
     "metadata": {},
     "output_type": "execute_result"
    }
   ],
   "source": [
    "# listings with most reviews\n",
    "sql = \"\"\"\n",
    "SELECT listing_id, COUNT(DISTINCT review_id) AS num_reviews\n",
    "FROM reviews\n",
    "GROUP BY listing_id\n",
    "ORDER BY COUNT(review_id) DESC;\n",
    "\"\"\"\n",
    "\n",
    "df = sqldf(sql)\n",
    "df.head(10)"
   ]
  },
  {
   "cell_type": "markdown",
   "id": "315dca9d-4a44-4adb-a201-952ac85ae03a",
   "metadata": {},
   "source": [
    "----\n",
    "### Lengths of Reviews and Common Words"
   ]
  },
  {
   "cell_type": "code",
   "execution_count": 83,
   "id": "8906d3a2-7693-42cc-bcff-7348b0f0f7eb",
   "metadata": {},
   "outputs": [
    {
     "data": {
      "text/html": [
       "<div>\n",
       "<style scoped>\n",
       "    .dataframe tbody tr th:only-of-type {\n",
       "        vertical-align: middle;\n",
       "    }\n",
       "\n",
       "    .dataframe tbody tr th {\n",
       "        vertical-align: top;\n",
       "    }\n",
       "\n",
       "    .dataframe thead th {\n",
       "        text-align: right;\n",
       "    }\n",
       "</style>\n",
       "<table border=\"1\" class=\"dataframe\">\n",
       "  <thead>\n",
       "    <tr style=\"text-align: right;\">\n",
       "      <th></th>\n",
       "      <th>listing_id</th>\n",
       "      <th>review_id</th>\n",
       "      <th>date</th>\n",
       "      <th>reviewer_id</th>\n",
       "      <th>reviewer_name</th>\n",
       "      <th>comments</th>\n",
       "      <th>lower_comments</th>\n",
       "      <th>comment_char_length</th>\n",
       "      <th>comment_word_count</th>\n",
       "    </tr>\n",
       "  </thead>\n",
       "  <tbody>\n",
       "    <tr>\n",
       "      <th>0</th>\n",
       "      <td>3781</td>\n",
       "      <td>37776825</td>\n",
       "      <td>2015-07-10</td>\n",
       "      <td>36059247.0</td>\n",
       "      <td>Greg</td>\n",
       "      <td>The apartment was as advertised and Frank was ...</td>\n",
       "      <td>the apartment was as advertised and frank was ...</td>\n",
       "      <td>133</td>\n",
       "      <td>20</td>\n",
       "    </tr>\n",
       "    <tr>\n",
       "      <th>1</th>\n",
       "      <td>3781</td>\n",
       "      <td>41842494</td>\n",
       "      <td>2015-08-09</td>\n",
       "      <td>10459388.0</td>\n",
       "      <td>Tai</td>\n",
       "      <td>It was a pleasure to stay at Frank's place. Th...</td>\n",
       "      <td>it was a pleasure to stay at frank's place. th...</td>\n",
       "      <td>414</td>\n",
       "      <td>86</td>\n",
       "    </tr>\n",
       "    <tr>\n",
       "      <th>2</th>\n",
       "      <td>3781</td>\n",
       "      <td>45282151</td>\n",
       "      <td>2015-09-01</td>\n",
       "      <td>12264652.0</td>\n",
       "      <td>Damien</td>\n",
       "      <td>The apartment description is entirely faithful...</td>\n",
       "      <td>the apartment description is entirely faithful...</td>\n",
       "      <td>358</td>\n",
       "      <td>60</td>\n",
       "    </tr>\n",
       "  </tbody>\n",
       "</table>\n",
       "</div>"
      ],
      "text/plain": [
       "  listing_id review_id        date  reviewer_id reviewer_name  \\\n",
       "0       3781  37776825  2015-07-10   36059247.0          Greg   \n",
       "1       3781  41842494  2015-08-09   10459388.0           Tai   \n",
       "2       3781  45282151  2015-09-01   12264652.0        Damien   \n",
       "\n",
       "                                            comments  \\\n",
       "0  The apartment was as advertised and Frank was ...   \n",
       "1  It was a pleasure to stay at Frank's place. Th...   \n",
       "2  The apartment description is entirely faithful...   \n",
       "\n",
       "                                      lower_comments  comment_char_length  \\\n",
       "0  the apartment was as advertised and frank was ...                  133   \n",
       "1  it was a pleasure to stay at frank's place. th...                  414   \n",
       "2  the apartment description is entirely faithful...                  358   \n",
       "\n",
       "   comment_word_count  \n",
       "0                  20  \n",
       "1                  86  \n",
       "2                  60  "
      ]
     },
     "execution_count": 83,
     "metadata": {},
     "output_type": "execute_result"
    }
   ],
   "source": [
    "# create new columns for comment character length and word count\n",
    "reviews['comment_char_length'] = [len(str(i)) for i in reviews['lower_comments']]\n",
    "reviews['comment_word_count'] = [len(str(i).split(\" \")) for i in reviews['lower_comments']]\n",
    "reviews.head(3)"
   ]
  },
  {
   "cell_type": "code",
   "execution_count": 84,
   "id": "31727634-26e0-4b3d-b7c5-22c99326b13d",
   "metadata": {},
   "outputs": [
    {
     "data": {
      "text/html": [
       "<div>\n",
       "<style scoped>\n",
       "    .dataframe tbody tr th:only-of-type {\n",
       "        vertical-align: middle;\n",
       "    }\n",
       "\n",
       "    .dataframe tbody tr th {\n",
       "        vertical-align: top;\n",
       "    }\n",
       "\n",
       "    .dataframe thead th {\n",
       "        text-align: right;\n",
       "    }\n",
       "</style>\n",
       "<table border=\"1\" class=\"dataframe\">\n",
       "  <thead>\n",
       "    <tr style=\"text-align: right;\">\n",
       "      <th></th>\n",
       "      <th>comment_word_count</th>\n",
       "      <th>comment_char_length</th>\n",
       "    </tr>\n",
       "  </thead>\n",
       "  <tbody>\n",
       "    <tr>\n",
       "      <th>count</th>\n",
       "      <td>232218.000000</td>\n",
       "      <td>232218.000000</td>\n",
       "    </tr>\n",
       "    <tr>\n",
       "      <th>mean</th>\n",
       "      <td>42.314390</td>\n",
       "      <td>238.190476</td>\n",
       "    </tr>\n",
       "    <tr>\n",
       "      <th>std</th>\n",
       "      <td>46.534495</td>\n",
       "      <td>256.387435</td>\n",
       "    </tr>\n",
       "    <tr>\n",
       "      <th>min</th>\n",
       "      <td>1.000000</td>\n",
       "      <td>1.000000</td>\n",
       "    </tr>\n",
       "    <tr>\n",
       "      <th>25%</th>\n",
       "      <td>13.000000</td>\n",
       "      <td>78.000000</td>\n",
       "    </tr>\n",
       "    <tr>\n",
       "      <th>50%</th>\n",
       "      <td>29.000000</td>\n",
       "      <td>168.000000</td>\n",
       "    </tr>\n",
       "    <tr>\n",
       "      <th>75%</th>\n",
       "      <td>56.000000</td>\n",
       "      <td>313.000000</td>\n",
       "    </tr>\n",
       "    <tr>\n",
       "      <th>max</th>\n",
       "      <td>1037.000000</td>\n",
       "      <td>5928.000000</td>\n",
       "    </tr>\n",
       "  </tbody>\n",
       "</table>\n",
       "</div>"
      ],
      "text/plain": [
       "       comment_word_count  comment_char_length\n",
       "count       232218.000000        232218.000000\n",
       "mean            42.314390           238.190476\n",
       "std             46.534495           256.387435\n",
       "min              1.000000             1.000000\n",
       "25%             13.000000            78.000000\n",
       "50%             29.000000           168.000000\n",
       "75%             56.000000           313.000000\n",
       "max           1037.000000          5928.000000"
      ]
     },
     "execution_count": 84,
     "metadata": {},
     "output_type": "execute_result"
    }
   ],
   "source": [
    "reviews[['comment_word_count', 'comment_char_length']].describe()"
   ]
  },
  {
   "cell_type": "code",
   "execution_count": 85,
   "id": "232f9321-fc20-45ab-aeef-cf3467e44281",
   "metadata": {},
   "outputs": [
    {
     "data": {
      "image/png": "[encoded data removed]",
      "text/plain": [
       "<Figure size 432x288 with 1 Axes>"
      ]
     },
     "metadata": {
      "needs_background": "light"
     },
     "output_type": "display_data"
    }
   ],
   "source": [
    "# Distribution of Word Counts\n",
    "plt.hist(reviews['comment_word_count'], bins = 40)\n",
    "plt.title('Distribution of Word Counts by Comment', fontsize =16)\n",
    "plt.xlabel('Word Count', fontsize =12)\n",
    "plt.ylabel('Number of Comments', fontsize =12);"
   ]
  },
  {
   "cell_type": "code",
   "execution_count": 86,
   "id": "909bb447-f369-46ee-88f5-9febfe665223",
   "metadata": {},
   "outputs": [
    {
     "data": {
      "image/png": "[encoded data removed]",
      "text/plain": [
       "<Figure size 432x288 with 1 Axes>"
      ]
     },
     "metadata": {
      "needs_background": "light"
     },
     "output_type": "display_data"
    }
   ],
   "source": [
    "# Distribution of Character Lengths\n",
    "plt.hist(reviews['comment_char_length'], bins = 40)\n",
    "\n",
    "plt.title('Distribution of Character Lengths by Comment', fontsize =16)\n",
    "plt.xlabel('Character Length', fontsize =12)\n",
    "plt.ylabel('Number of Comments', fontsize =12);"
   ]
  },
  {
   "cell_type": "code",
   "execution_count": 87,
   "id": "92d7de61-d856-45df-9ffa-d2861b0d5a08",
   "metadata": {},
   "outputs": [
    {
     "name": "stdout",
     "output_type": "stream",
     "text": [
      "       listing_id reviewer_name  comment_char_length\n",
      "73843     9685076        Kelton                 5928\n",
      "177885   29816287         Karen                 5639\n",
      "158655   24378766          Dave                 5596\n",
      "222200   50084140         Alina                 5585\n",
      "221485   49754318         Autum                 5558\n",
      " \n",
      "************************************************************\n",
      " \n",
      "       listing_id reviewer_name  comment_char_length\n",
      "41773     4112094           Ram                    1\n",
      "178112   30539659          Cory                    1\n",
      "82815    11732852           Ana                    1\n",
      "194438   38018931            정운                    1\n",
      "141885   20661430          Gabe                    1\n"
     ]
    }
   ],
   "source": [
    "# looking at longest and shortest posts by character length\n",
    "print(reviews[['listing_id','reviewer_name','comment_char_length']].sort_values('comment_char_length', ascending=False).head(5))\n",
    "print(\" \")\n",
    "print(\"*\"*60)\n",
    "print(\" \")\n",
    "print(reviews[['listing_id','reviewer_name','comment_char_length']].sort_values('comment_char_length').head(5))"
   ]
  },
  {
   "cell_type": "code",
   "execution_count": 88,
   "id": "081d6da9-1f78-4b4c-85fd-509d998f2980",
   "metadata": {},
   "outputs": [
    {
     "name": "stdout",
     "output_type": "stream",
     "text": [
      "       listing_id reviewer_name  comment_word_count\n",
      "158655   24378766          Dave                1037\n",
      "177885   29816287         Karen                1035\n",
      "141327   20633588         Dolly                1029\n",
      "221485   49754318         Autum                1003\n",
      "188360   33789540          Lisa                 989\n",
      " \n",
      "************************************************************\n",
      " \n",
      "       listing_id reviewer_name  comment_word_count\n",
      "164465   24888817       Michele                   1\n",
      "127396   18194673        Sayuri                   1\n",
      "214319   48103324        Joshua                   1\n",
      "62794     7330494      Seongjin                   1\n",
      "176091   29390698         Paula                   1\n"
     ]
    }
   ],
   "source": [
    "# looking at longest and shortest posts by word count\n",
    "print(reviews[['listing_id','reviewer_name','comment_word_count']].sort_values('comment_word_count', ascending=False).head(5))\n",
    "print(\" \")\n",
    "print(\"*\"*60)\n",
    "print(\" \")\n",
    "print(reviews[['listing_id','reviewer_name','comment_word_count']].sort_values('comment_word_count').head(5))"
   ]
  },
  {
   "cell_type": "markdown",
   "id": "0487a63e-9292-47bd-92b2-0c10e8dede0d",
   "metadata": {
    "tags": []
   },
   "source": [
    "---\n",
    "\n",
    "## **EDA Specifically on Comments Column**\n",
    "\n",
    "#### Vectorize the text to look at Common Word Appearances"
   ]
  },
  {
   "cell_type": "markdown",
   "id": "4d53c402-b917-4ddc-a7db-d7d702dd952e",
   "metadata": {},
   "source": [
    "-----\n",
    "### *CountVectorize*"
   ]
  },
  {
   "cell_type": "code",
   "execution_count": 89,
   "id": "921ecdbe-c29d-456e-97ce-961a0bd2cd3d",
   "metadata": {},
   "outputs": [
    {
     "data": {
      "text/plain": [
       "(232218, 9)"
      ]
     },
     "execution_count": 89,
     "metadata": {},
     "output_type": "execute_result"
    }
   ],
   "source": [
    "reviews.shape"
   ]
  },
  {
   "cell_type": "code",
   "execution_count": 90,
   "id": "9ed68c53-c1c9-4a72-90e1-642683c0d055",
   "metadata": {},
   "outputs": [
    {
     "data": {
      "text/plain": [
       "(232218, 50)"
      ]
     },
     "execution_count": 90,
     "metadata": {},
     "output_type": "execute_result"
    }
   ],
   "source": [
    "# Instantiate the CountVectorizer and transform \n",
    "cvec = CountVectorizer(max_features=50)\n",
    "post_matrix = cvec.fit_transform(reviews['lower_comments'].astype('U').values)\n",
    "\n",
    "# Creating dataframe of text data\n",
    "post_df = pd.DataFrame(post_matrix.todense(),\n",
    "                      columns = cvec.get_feature_names_out())\n",
    "post_df.shape"
   ]
  },
  {
   "cell_type": "code",
   "execution_count": 91,
   "id": "281f531a-d217-449d-a9b5-c5671dd34fba",
   "metadata": {},
   "outputs": [
    {
     "data": {
      "image/png": "[encoded data removed]",
      "text/plain": [
       "<Figure size 432x288 with 1 Axes>"
      ]
     },
     "metadata": {
      "needs_background": "light"
     },
     "output_type": "display_data"
    }
   ],
   "source": [
    "# check to see the top words - if mostly stopwords, get rid of stopwords\n",
    "# code taken from lesson 5.05 on Natural Language Processing\n",
    "\n",
    "post_df.sum().sort_values(ascending = False).head(20).plot(kind = 'barh', color = 'r')\n",
    "plt.gca().invert_yaxis() # this code was taken from Andras Deak's response on stack overflow\n",
    "# https://stackoverflow.com/questions/34076177/matplotlib-horizontal-bar-chart-barh-is-upside-down\n",
    "plt.title('Top 20 Word Occurrences in Reviews')\n",
    "plt.xlabel('Number of Words');"
   ]
  },
  {
   "cell_type": "code",
   "execution_count": 92,
   "id": "e088a1c0-ec33-42a1-9c44-c1e4d7a333e7",
   "metadata": {},
   "outputs": [
    {
     "name": "stdout",
     "output_type": "stream",
     "text": [
      "['i', 'me', 'my', 'myself', 'we', 'our', 'ours', 'ourselves', 'you', \"you're\", \"you've\", \"you'll\", \"you'd\", 'your', 'yours', 'yourself', 'yourselves', 'he', 'him', 'his', 'himself', 'she', \"she's\", 'her', 'hers', 'herself', 'it', \"it's\", 'its', 'itself', 'they', 'them', 'their', 'theirs', 'themselves', 'what', 'which', 'who', 'whom', 'this', 'that', \"that'll\", 'these', 'those', 'am', 'is', 'are', 'was', 'were', 'be', 'been', 'being', 'have', 'has', 'had', 'having', 'do', 'does', 'did', 'doing', 'a', 'an', 'the', 'and', 'but', 'if', 'or', 'because', 'as', 'until', 'while', 'of', 'at', 'by', 'for', 'with', 'about', 'against', 'between', 'into', 'through', 'during', 'before', 'after', 'above', 'below', 'to', 'from', 'up', 'down', 'in', 'out', 'on', 'off', 'over', 'under', 'again', 'further', 'then', 'once', 'here', 'there', 'when', 'where', 'why', 'how', 'all', 'any', 'both', 'each', 'few', 'more', 'most', 'other', 'some', 'such', 'no', 'nor', 'not', 'only', 'own', 'same', 'so', 'than', 'too', 'very', 's', 't', 'can', 'will', 'just', 'don', \"don't\", 'should', \"should've\", 'now', 'd', 'll', 'm', 'o', 're', 've', 'y', 'ain', 'aren', \"aren't\", 'couldn', \"couldn't\", 'didn', \"didn't\", 'doesn', \"doesn't\", 'hadn', \"hadn't\", 'hasn', \"hasn't\", 'haven', \"haven't\", 'isn', \"isn't\", 'ma', 'mightn', \"mightn't\", 'mustn', \"mustn't\", 'needn', \"needn't\", 'shan', \"shan't\", 'shouldn', \"shouldn't\", 'wasn', \"wasn't\", 'weren', \"weren't\", 'won', \"won't\", 'wouldn', \"wouldn't\"]\n"
     ]
    }
   ],
   "source": [
    "stopword_list = stopwords.words('english')\n",
    "print(stopword_list)"
   ]
  },
  {
   "cell_type": "code",
   "execution_count": 93,
   "id": "0b74e442-f43b-4580-a245-1af39afbb1b7",
   "metadata": {},
   "outputs": [
    {
     "name": "stdout",
     "output_type": "stream",
     "text": [
      "(232218, 50)\n"
     ]
    },
    {
     "data": {
      "image/png": "[encoded data removed]",
      "text/plain": [
       "<Figure size 432x288 with 1 Axes>"
      ]
     },
     "metadata": {
      "needs_background": "light"
     },
     "output_type": "display_data"
    }
   ],
   "source": [
    "# most are stop words - recreate dataframe without stopwords\n",
    "cvec = CountVectorizer(max_features=50, stop_words=stopword_list)\n",
    "post_matrix = cvec.fit_transform(reviews['lower_comments'].astype('U').values)\n",
    "\n",
    "# new dataframe\n",
    "post_df = pd.DataFrame(post_matrix.todense(), columns = cvec.get_feature_names_out())\n",
    "print(post_df.shape)\n",
    "post_df.sum().sort_values(ascending=False).head(20).plot(kind = 'barh', color='r')\n",
    "plt.gca().invert_yaxis()\n",
    "\n",
    "plt.title('Top 20 Word Occurrences in Reviews (without Stop Words)')\n",
    "plt.xlabel('Number of Words');"
   ]
  },
  {
   "cell_type": "code",
   "execution_count": 94,
   "id": "5e7dcd74-92b2-40e8-b798-a0fa77c1c077",
   "metadata": {},
   "outputs": [
    {
     "data": {
      "text/plain": [
       "(232218, 100)"
      ]
     },
     "execution_count": 94,
     "metadata": {},
     "output_type": "execute_result"
    }
   ],
   "source": [
    "# Instantiate the CountVectorizer and transform \n",
    "# changed the number of max features\n",
    "cvec = CountVectorizer(max_features=100)\n",
    "post_matrix = cvec.fit_transform(reviews['lower_comments'].astype('U').values)\n",
    "\n",
    "# Creating dataframe of text data\n",
    "post_df = pd.DataFrame(post_matrix.todense(),\n",
    "                      columns = cvec.get_feature_names_out())\n",
    "post_df.shape"
   ]
  },
  {
   "cell_type": "code",
   "execution_count": 95,
   "id": "7294ceb3-11bb-4d58-ac0a-f84be0179caa",
   "metadata": {},
   "outputs": [
    {
     "data": {
      "image/png": "[encoded data removed]",
      "text/plain": [
       "<Figure size 432x288 with 1 Axes>"
      ]
     },
     "metadata": {
      "needs_background": "light"
     },
     "output_type": "display_data"
    }
   ],
   "source": [
    "# check to see the top words - if mostly stopwords, get rid of stopwords\n",
    "# code taken from lesson 5.05 on Natural Language Processing\n",
    "\n",
    "post_df.sum().sort_values(ascending = False).head(20).plot(kind = 'barh', color = 'b')\n",
    "plt.gca().invert_yaxis()\n",
    "\n",
    "plt.title('Top 20 Word Occurrences in Reviews')\n",
    "plt.xlabel('Number of Words');"
   ]
  },
  {
   "cell_type": "code",
   "execution_count": 96,
   "id": "7af35670-d50a-4717-9899-3579ed36c548",
   "metadata": {},
   "outputs": [
    {
     "name": "stdout",
     "output_type": "stream",
     "text": [
      "(232218, 100)\n"
     ]
    },
    {
     "data": {
      "image/png": "[encoded data removed]",
      "text/plain": [
       "<Figure size 432x288 with 1 Axes>"
      ]
     },
     "metadata": {
      "needs_background": "light"
     },
     "output_type": "display_data"
    }
   ],
   "source": [
    "# most are stop words - recreate dataframe without stopwords\n",
    "cvec = CountVectorizer(max_features=100, stop_words=stopword_list)\n",
    "post_matrix = cvec.fit_transform(reviews['lower_comments'].astype('U').values)\n",
    "\n",
    "# new dataframe\n",
    "post_df = pd.DataFrame(post_matrix.todense(), columns = cvec.get_feature_names_out())\n",
    "print(post_df.shape)\n",
    "post_df.sum().sort_values(ascending=False).head(20).plot(kind = 'barh', color='b')\n",
    "plt.gca().invert_yaxis()\n",
    "\n",
    "plt.title('Top 20 Word Occurrences in Reviews (without Stop Words)')\n",
    "plt.xlabel('Number of Words');"
   ]
  },
  {
   "cell_type": "code",
   "execution_count": 97,
   "id": "a232c4ed-8b73-4a26-aad5-298c16d310d4",
   "metadata": {},
   "outputs": [
    {
     "name": "stdout",
     "output_type": "stream",
     "text": [
      "(232218, 100)\n"
     ]
    },
    {
     "data": {
      "image/png": "[encoded data removed]",
      "text/plain": [
       "<Figure size 432x288 with 1 Axes>"
      ]
     },
     "metadata": {
      "needs_background": "light"
     },
     "output_type": "display_data"
    }
   ],
   "source": [
    "# most are stop words - recreate dataframe without stopwords\n",
    "cvec = CountVectorizer(max_features=100, stop_words=stopword_list, ngram_range=(3,3))\n",
    "post_matrix = cvec.fit_transform(reviews['lower_comments'].astype('U').values)\n",
    "\n",
    "# new dataframe\n",
    "post_df = pd.DataFrame(post_matrix.todense(), columns = cvec.get_feature_names_out())\n",
    "print(post_df.shape)\n",
    "post_df.sum().sort_values(ascending=False).head(20).plot(kind = 'barh', color='b')\n",
    "plt.gca().invert_yaxis()\n",
    "\n",
    "plt.title('Top 20 Word Occurrences in Reviews (without Stop Words)')\n",
    "plt.xlabel('Number of Words');"
   ]
  },
  {
   "cell_type": "markdown",
   "id": "6895b0b3-ebef-4806-83e7-5180f957149d",
   "metadata": {},
   "source": [
    "-----\n",
    "### *(TF-IDF) Vectorizer*"
   ]
  },
  {
   "cell_type": "code",
   "execution_count": 63,
   "id": "d031cd9d-76ef-4fb3-af18-5eb5ed1ec9e8",
   "metadata": {},
   "outputs": [
    {
     "data": {
      "text/plain": [
       "(232218, 50)"
      ]
     },
     "execution_count": 63,
     "metadata": {},
     "output_type": "execute_result"
    }
   ],
   "source": [
    "# Instantiate the Tfidf Vectorizer and transform \n",
    "tvec = TfidfVectorizer(max_features = 50)\n",
    "post_matrix = tvec.fit_transform(reviews['lower_comments'].astype('U').values)\n",
    "\n",
    "# Creating dataframe of text data\n",
    "post_df = pd.DataFrame(post_matrix.todense(),\n",
    "                      columns = tvec.get_feature_names_out())\n",
    "post_df.shape"
   ]
  },
  {
   "cell_type": "code",
   "execution_count": 64,
   "id": "fb1d0417-5f98-43a1-9ca0-80df46bc9cfe",
   "metadata": {},
   "outputs": [
    {
     "data": {
      "image/png": "[encoded data removed]",
      "text/plain": [
       "<Figure size 432x288 with 1 Axes>"
      ]
     },
     "metadata": {
      "needs_background": "light"
     },
     "output_type": "display_data"
    }
   ],
   "source": [
    "# check to see the top words - if mostly stopwords, get rid of stopwords\n",
    "\n",
    "post_df.sum().sort_values(ascending = False).head(20).plot(kind = 'barh', color = 'r')\n",
    "plt.gca().invert_yaxis()\n",
    "plt.title('Top 20 Word Occurrences in Reviews')\n",
    "plt.xlabel('Number of Words');"
   ]
  },
  {
   "cell_type": "code",
   "execution_count": 65,
   "id": "5b8205b7-8bbc-4ca4-8aee-5cf117d89a81",
   "metadata": {},
   "outputs": [
    {
     "data": {
      "image/png": "[encoded data removed]",
      "text/plain": [
       "<Figure size 432x288 with 1 Axes>"
      ]
     },
     "metadata": {
      "needs_background": "light"
     },
     "output_type": "display_data"
    }
   ],
   "source": [
    "# most are stop words - recreate dataframe without stopwords\n",
    "tvec = TfidfVectorizer(max_features = 50, stop_words=stopword_list)\n",
    "post_matrix = tvec.fit_transform(reviews['lower_comments'].astype('U').values)\n",
    "\n",
    "# new dataframe\n",
    "post_df = pd.DataFrame(post_matrix.todense(), columns = tvec.get_feature_names_out())\n",
    "post_df.shape\n",
    "\n",
    "post_df.sum().sort_values(ascending=False).head(20).plot(kind = 'barh', color='r')\n",
    "plt.gca().invert_yaxis()\n",
    "plt.title('Top 20 Word Occurrences in Reviews (without Stop Words)')\n",
    "plt.xlabel('Number of Words');"
   ]
  },
  {
   "cell_type": "code",
   "execution_count": 102,
   "id": "cbe4314b-5635-4d7d-bc6b-ce45b8701e77",
   "metadata": {},
   "outputs": [
    {
     "data": {
      "image/png": "[encoded data removed]",
      "text/plain": [
       "<Figure size 432x288 with 1 Axes>"
      ]
     },
     "metadata": {
      "needs_background": "light"
     },
     "output_type": "display_data"
    }
   ],
   "source": [
    "# most are stop words - recreate dataframe without stopwords\n",
    "tvec = TfidfVectorizer(max_features = 50, stop_words=stopword_list, ngram_range=(2,3))\n",
    "post_matrix = tvec.fit_transform(reviews['lower_comments'].astype('U').values)\n",
    "\n",
    "# new dataframe\n",
    "post_df = pd.DataFrame(post_matrix.todense(), columns = tvec.get_feature_names_out())\n",
    "post_df.shape\n",
    "\n",
    "post_df.sum().sort_values(ascending=False).head(20).plot(kind = 'barh', color='r')\n",
    "plt.gca().invert_yaxis()\n",
    "plt.title('Top 20 Word Occurrences in Reviews (without Stop Words)')\n",
    "plt.xlabel('Number of Words');"
   ]
  },
  {
   "cell_type": "code",
   "execution_count": 66,
   "id": "2c3556ef-a520-4a66-a6f7-713aab9e7524",
   "metadata": {},
   "outputs": [],
   "source": [
    "# may be important to adjust stop words parameter when modeling"
   ]
  }
 ],
 "metadata": {
  "kernelspec": {
   "display_name": "Python [conda env:dsi] *",
   "language": "python",
   "name": "conda-env-dsi-py"
  },
  "language_info": {
   "codemirror_mode": {
    "name": "ipython",
    "version": 3
   },
   "file_extension": ".py",
   "mimetype": "text/x-python",
   "name": "python",
   "nbconvert_exporter": "python",
   "pygments_lexer": "ipython3",
   "version": "3.9.12"
  }
 },
 "nbformat": 4,
 "nbformat_minor": 5
}
