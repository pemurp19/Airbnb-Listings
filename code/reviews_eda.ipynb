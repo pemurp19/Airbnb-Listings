{
 "cells": [
  {
   "cell_type": "code",
   "execution_count": 1,
   "id": "5d208707-10dd-491a-895a-97ab3bb58038",
   "metadata": {},
   "outputs": [
    {
     "ename": "SyntaxError",
     "evalue": "invalid syntax (2218527000.py, line 1)",
     "output_type": "error",
     "traceback": [
      "\u001b[0;36m  Input \u001b[0;32mIn [1]\u001b[0;36m\u001b[0m\n\u001b[0;31m    use sql to join the two tables\u001b[0m\n\u001b[0m        ^\u001b[0m\n\u001b[0;31mSyntaxError\u001b[0m\u001b[0;31m:\u001b[0m invalid syntax\n"
     ]
    }
   ],
   "source": [
    "use sql to join the two tables"
   ]
  },
  {
   "cell_type": "markdown",
   "id": "204d87ac-fa2e-4d5f-a0c5-37c6ae987129",
   "metadata": {},
   "source": [
    "-----\n",
    "### Exploring Reviews"
   ]
  },
  {
   "cell_type": "code",
   "execution_count": null,
   "id": "3a083d8b-0b0b-43b6-b97a-ed2572765452",
   "metadata": {},
   "outputs": [],
   "source": [
    "reviews.head()"
   ]
  },
  {
   "cell_type": "markdown",
   "id": "5b7caab4-fdfa-4e79-af32-26db0972cbe3",
   "metadata": {},
   "source": [
    "reviews per user"
   ]
  },
  {
   "cell_type": "code",
   "execution_count": null,
   "id": "374e84ac-96a4-44bb-9c5a-df0b9f91d928",
   "metadata": {},
   "outputs": [],
   "source": [
    "length of reviews"
   ]
  },
  {
   "cell_type": "code",
   "execution_count": null,
   "id": "6fdb4b31-5535-4709-a2e1-4d00e4e03976",
   "metadata": {},
   "outputs": [],
   "source": [
    "reviews per listing"
   ]
  },
  {
   "cell_type": "code",
   "execution_count": null,
   "id": "3526b8f8-5068-47f7-9d07-716ccfd72d56",
   "metadata": {},
   "outputs": [],
   "source": [
    "all the typical NLP EDA \n",
    "word counts\n",
    "most common words\n",
    "stop words?"
   ]
  },
  {
   "cell_type": "markdown",
   "id": "29c97c78-9a47-487b-8747-40eb1c2fadba",
   "metadata": {},
   "source": [
    "-------\n",
    "Joining the tables"
   ]
  },
  {
   "cell_type": "code",
   "execution_count": null,
   "id": "ac2611da-c5bc-4077-ab5d-6400c45d6ab0",
   "metadata": {},
   "outputs": [],
   "source": []
  },
  {
   "cell_type": "code",
   "execution_count": null,
   "id": "4bb0633a-edad-48f2-89c9-67b22e68511a",
   "metadata": {},
   "outputs": [],
   "source": []
  },
  {
   "cell_type": "code",
   "execution_count": null,
   "id": "7f39ceb0-9fff-4bc4-a5a4-fd6cd5444a28",
   "metadata": {},
   "outputs": [],
   "source": []
  },
  {
   "cell_type": "code",
   "execution_count": null,
   "id": "4b5c02a6-42e2-420a-a89c-3f81d4a77aaf",
   "metadata": {},
   "outputs": [],
   "source": []
  },
  {
   "cell_type": "markdown",
   "id": "e8d238be-7857-432f-a9de-522d8f9b2a28",
   "metadata": {},
   "source": [
    "-----\n",
    "maps w latitutde and longitude"
   ]
  },
  {
   "cell_type": "markdown",
   "id": "7eb2ad04-bad8-49fb-8c2a-dcf12ec17ac9",
   "metadata": {},
   "source": [
    "look at different categories with heat map type look\n"
   ]
  },
  {
   "cell_type": "code",
   "execution_count": null,
   "id": "c9de692c-cb82-464d-b2ae-0e6ee2d8ca7d",
   "metadata": {},
   "outputs": [],
   "source": []
  }
 ],
 "metadata": {
  "kernelspec": {
   "display_name": "Python [conda env:dsi] *",
   "language": "python",
   "name": "conda-env-dsi-py"
  },
  "language_info": {
   "codemirror_mode": {
    "name": "ipython",
    "version": 3
   },
   "file_extension": ".py",
   "mimetype": "text/x-python",
   "name": "python",
   "nbconvert_exporter": "python",
   "pygments_lexer": "ipython3",
   "version": "3.9.12"
  }
 },
 "nbformat": 4,
 "nbformat_minor": 5
}
