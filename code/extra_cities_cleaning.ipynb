{
 "cells": [
  {
   "cell_type": "markdown",
   "id": "9843afa8-4255-4cf3-a86e-12e7c835dff7",
   "metadata": {},
   "source": [
    "# **Data Collection and Cleaning (*Additional External Data*)**\n",
    "*Data pulled from [Inside Airbnb](http://insideairbnb.com/)*"
   ]
  },
  {
   "cell_type": "markdown",
   "id": "8dc98cd2-f73a-49d6-8fe5-87471fb5c0e1",
   "metadata": {},
   "source": [
    "----\n",
    "### Imports"
   ]
  },
  {
   "cell_type": "code",
   "execution_count": 176,
   "id": "dd929288-e492-465a-a27e-f748819bd6c2",
   "metadata": {},
   "outputs": [],
   "source": [
    "import pandas as pd\n",
    "import numpy as np\n",
    "import matplotlib.pyplot as plt\n",
    "import seaborn as sns"
   ]
  },
  {
   "cell_type": "markdown",
   "id": "13ff0029-911a-4dec-9b51-b1d7af641482",
   "metadata": {},
   "source": [
    "------\n",
    "## Read in the Seattle Data"
   ]
  },
  {
   "cell_type": "code",
   "execution_count": 177,
   "id": "d99ed209-958e-4dfa-8588-3a4b53340101",
   "metadata": {},
   "outputs": [],
   "source": [
    "# reading the listings files\n",
    "sep_21 = pd.read_csv('../data/seattle_listings_9-21.csv')\n",
    "dec_21 = pd.read_csv('../data/seattle_listings_12-21.csv')\n",
    "mar_22 = pd.read_csv('../data/seattle_listings_3-22.csv')\n",
    "jun_22 = pd.read_csv('../data/seattle_listings_6-22.csv')"
   ]
  },
  {
   "cell_type": "code",
   "execution_count": 178,
   "id": "4c2c2cd3-d01e-40fd-99e9-20710dd45684",
   "metadata": {},
   "outputs": [
    {
     "name": "stdout",
     "output_type": "stream",
     "text": [
      "(4249, 74)\n"
     ]
    },
    {
     "data": {
      "text/html": [
       "<div>\n",
       "<style scoped>\n",
       "    .dataframe tbody tr th:only-of-type {\n",
       "        vertical-align: middle;\n",
       "    }\n",
       "\n",
       "    .dataframe tbody tr th {\n",
       "        vertical-align: top;\n",
       "    }\n",
       "\n",
       "    .dataframe thead th {\n",
       "        text-align: right;\n",
       "    }\n",
       "</style>\n",
       "<table border=\"1\" class=\"dataframe\">\n",
       "  <thead>\n",
       "    <tr style=\"text-align: right;\">\n",
       "      <th></th>\n",
       "      <th>id</th>\n",
       "      <th>listing_url</th>\n",
       "      <th>scrape_id</th>\n",
       "      <th>last_scraped</th>\n",
       "      <th>name</th>\n",
       "      <th>description</th>\n",
       "      <th>neighborhood_overview</th>\n",
       "      <th>picture_url</th>\n",
       "      <th>host_id</th>\n",
       "      <th>host_url</th>\n",
       "      <th>...</th>\n",
       "      <th>review_scores_communication</th>\n",
       "      <th>review_scores_location</th>\n",
       "      <th>review_scores_value</th>\n",
       "      <th>license</th>\n",
       "      <th>instant_bookable</th>\n",
       "      <th>calculated_host_listings_count</th>\n",
       "      <th>calculated_host_listings_count_entire_homes</th>\n",
       "      <th>calculated_host_listings_count_private_rooms</th>\n",
       "      <th>calculated_host_listings_count_shared_rooms</th>\n",
       "      <th>reviews_per_month</th>\n",
       "    </tr>\n",
       "  </thead>\n",
       "  <tbody>\n",
       "    <tr>\n",
       "      <th>0</th>\n",
       "      <td>2318</td>\n",
       "      <td>https://www.airbnb.com/rooms/2318</td>\n",
       "      <td>20210925150558</td>\n",
       "      <td>2021-09-25</td>\n",
       "      <td>Casa Madrona - Urban Oasis 1 block from the park!</td>\n",
       "      <td>Gorgeous, architect remodeled, Dutch Colonial ...</td>\n",
       "      <td>Madrona is a hidden gem of a neighborhood. It ...</td>\n",
       "      <td>https://a0.muscache.com/pictures/02973ad3-a7a3...</td>\n",
       "      <td>2536</td>\n",
       "      <td>https://www.airbnb.com/users/show/2536</td>\n",
       "      <td>...</td>\n",
       "      <td>5.00</td>\n",
       "      <td>4.97</td>\n",
       "      <td>4.82</td>\n",
       "      <td>STR-OPLI-19-002837</td>\n",
       "      <td>t</td>\n",
       "      <td>1</td>\n",
       "      <td>1</td>\n",
       "      <td>0</td>\n",
       "      <td>0</td>\n",
       "      <td>0.61</td>\n",
       "    </tr>\n",
       "    <tr>\n",
       "      <th>1</th>\n",
       "      <td>6606</td>\n",
       "      <td>https://www.airbnb.com/rooms/6606</td>\n",
       "      <td>20210925150558</td>\n",
       "      <td>2021-09-25</td>\n",
       "      <td>Fab, private seattle urban cottage!</td>\n",
       "      <td>This tiny cottage is only 15x10, but it has ev...</td>\n",
       "      <td>A peaceful yet highly accessible neighborhood,...</td>\n",
       "      <td>https://a0.muscache.com/pictures/45742/21116d7...</td>\n",
       "      <td>14942</td>\n",
       "      <td>https://www.airbnb.com/users/show/14942</td>\n",
       "      <td>...</td>\n",
       "      <td>4.76</td>\n",
       "      <td>4.88</td>\n",
       "      <td>4.56</td>\n",
       "      <td>str-opli-19-002622</td>\n",
       "      <td>f</td>\n",
       "      <td>1</td>\n",
       "      <td>1</td>\n",
       "      <td>0</td>\n",
       "      <td>0</td>\n",
       "      <td>2.42</td>\n",
       "    </tr>\n",
       "  </tbody>\n",
       "</table>\n",
       "<p>2 rows × 74 columns</p>\n",
       "</div>"
      ],
      "text/plain": [
       "     id                        listing_url       scrape_id last_scraped  \\\n",
       "0  2318  https://www.airbnb.com/rooms/2318  20210925150558   2021-09-25   \n",
       "1  6606  https://www.airbnb.com/rooms/6606  20210925150558   2021-09-25   \n",
       "\n",
       "                                                name  \\\n",
       "0  Casa Madrona - Urban Oasis 1 block from the park!   \n",
       "1                Fab, private seattle urban cottage!   \n",
       "\n",
       "                                         description  \\\n",
       "0  Gorgeous, architect remodeled, Dutch Colonial ...   \n",
       "1  This tiny cottage is only 15x10, but it has ev...   \n",
       "\n",
       "                               neighborhood_overview  \\\n",
       "0  Madrona is a hidden gem of a neighborhood. It ...   \n",
       "1  A peaceful yet highly accessible neighborhood,...   \n",
       "\n",
       "                                         picture_url  host_id  \\\n",
       "0  https://a0.muscache.com/pictures/02973ad3-a7a3...     2536   \n",
       "1  https://a0.muscache.com/pictures/45742/21116d7...    14942   \n",
       "\n",
       "                                  host_url  ... review_scores_communication  \\\n",
       "0   https://www.airbnb.com/users/show/2536  ...                        5.00   \n",
       "1  https://www.airbnb.com/users/show/14942  ...                        4.76   \n",
       "\n",
       "  review_scores_location review_scores_value             license  \\\n",
       "0                   4.97                4.82  STR-OPLI-19-002837   \n",
       "1                   4.88                4.56  str-opli-19-002622   \n",
       "\n",
       "  instant_bookable calculated_host_listings_count  \\\n",
       "0                t                              1   \n",
       "1                f                              1   \n",
       "\n",
       "  calculated_host_listings_count_entire_homes  \\\n",
       "0                                           1   \n",
       "1                                           1   \n",
       "\n",
       "  calculated_host_listings_count_private_rooms  \\\n",
       "0                                            0   \n",
       "1                                            0   \n",
       "\n",
       "  calculated_host_listings_count_shared_rooms reviews_per_month  \n",
       "0                                           0              0.61  \n",
       "1                                           0              2.42  \n",
       "\n",
       "[2 rows x 74 columns]"
      ]
     },
     "execution_count": 178,
     "metadata": {},
     "output_type": "execute_result"
    }
   ],
   "source": [
    "print(sep_21.shape)\n",
    "sep_21.head(2)"
   ]
  },
  {
   "cell_type": "code",
   "execution_count": 179,
   "id": "a759c92b-2686-4c4b-9bcf-952cc331497f",
   "metadata": {},
   "outputs": [
    {
     "name": "stdout",
     "output_type": "stream",
     "text": [
      "(4686, 74)\n"
     ]
    },
    {
     "data": {
      "text/html": [
       "<div>\n",
       "<style scoped>\n",
       "    .dataframe tbody tr th:only-of-type {\n",
       "        vertical-align: middle;\n",
       "    }\n",
       "\n",
       "    .dataframe tbody tr th {\n",
       "        vertical-align: top;\n",
       "    }\n",
       "\n",
       "    .dataframe thead th {\n",
       "        text-align: right;\n",
       "    }\n",
       "</style>\n",
       "<table border=\"1\" class=\"dataframe\">\n",
       "  <thead>\n",
       "    <tr style=\"text-align: right;\">\n",
       "      <th></th>\n",
       "      <th>id</th>\n",
       "      <th>listing_url</th>\n",
       "      <th>scrape_id</th>\n",
       "      <th>last_scraped</th>\n",
       "      <th>name</th>\n",
       "      <th>description</th>\n",
       "      <th>neighborhood_overview</th>\n",
       "      <th>picture_url</th>\n",
       "      <th>host_id</th>\n",
       "      <th>host_url</th>\n",
       "      <th>...</th>\n",
       "      <th>review_scores_communication</th>\n",
       "      <th>review_scores_location</th>\n",
       "      <th>review_scores_value</th>\n",
       "      <th>license</th>\n",
       "      <th>instant_bookable</th>\n",
       "      <th>calculated_host_listings_count</th>\n",
       "      <th>calculated_host_listings_count_entire_homes</th>\n",
       "      <th>calculated_host_listings_count_private_rooms</th>\n",
       "      <th>calculated_host_listings_count_shared_rooms</th>\n",
       "      <th>reviews_per_month</th>\n",
       "    </tr>\n",
       "  </thead>\n",
       "  <tbody>\n",
       "    <tr>\n",
       "      <th>0</th>\n",
       "      <td>2318</td>\n",
       "      <td>https://www.airbnb.com/rooms/2318</td>\n",
       "      <td>20211220161321</td>\n",
       "      <td>2021-12-20</td>\n",
       "      <td>Casa Madrona - Urban Oasis 1 block from the park!</td>\n",
       "      <td>Gorgeous, architect remodeled, Dutch Colonial ...</td>\n",
       "      <td>Madrona is a hidden gem of a neighborhood. It ...</td>\n",
       "      <td>https://a0.muscache.com/pictures/02973ad3-a7a3...</td>\n",
       "      <td>2536</td>\n",
       "      <td>https://www.airbnb.com/users/show/2536</td>\n",
       "      <td>...</td>\n",
       "      <td>5.00</td>\n",
       "      <td>4.97</td>\n",
       "      <td>4.80</td>\n",
       "      <td>STR-OPLI-19-002837</td>\n",
       "      <td>t</td>\n",
       "      <td>1</td>\n",
       "      <td>1</td>\n",
       "      <td>0</td>\n",
       "      <td>0</td>\n",
       "      <td>0.22</td>\n",
       "    </tr>\n",
       "    <tr>\n",
       "      <th>1</th>\n",
       "      <td>6606</td>\n",
       "      <td>https://www.airbnb.com/rooms/6606</td>\n",
       "      <td>20211220161321</td>\n",
       "      <td>2021-12-20</td>\n",
       "      <td>Fab, private seattle urban cottage!</td>\n",
       "      <td>This tiny cottage is only 15x10, but it has ev...</td>\n",
       "      <td>A peaceful yet highly accessible neighborhood,...</td>\n",
       "      <td>https://a0.muscache.com/pictures/45742/21116d7...</td>\n",
       "      <td>14942</td>\n",
       "      <td>https://www.airbnb.com/users/show/14942</td>\n",
       "      <td>...</td>\n",
       "      <td>4.76</td>\n",
       "      <td>4.88</td>\n",
       "      <td>4.56</td>\n",
       "      <td>str-opli-19-002622</td>\n",
       "      <td>f</td>\n",
       "      <td>2</td>\n",
       "      <td>2</td>\n",
       "      <td>0</td>\n",
       "      <td>0</td>\n",
       "      <td>1.04</td>\n",
       "    </tr>\n",
       "  </tbody>\n",
       "</table>\n",
       "<p>2 rows × 74 columns</p>\n",
       "</div>"
      ],
      "text/plain": [
       "     id                        listing_url       scrape_id last_scraped  \\\n",
       "0  2318  https://www.airbnb.com/rooms/2318  20211220161321   2021-12-20   \n",
       "1  6606  https://www.airbnb.com/rooms/6606  20211220161321   2021-12-20   \n",
       "\n",
       "                                                name  \\\n",
       "0  Casa Madrona - Urban Oasis 1 block from the park!   \n",
       "1                Fab, private seattle urban cottage!   \n",
       "\n",
       "                                         description  \\\n",
       "0  Gorgeous, architect remodeled, Dutch Colonial ...   \n",
       "1  This tiny cottage is only 15x10, but it has ev...   \n",
       "\n",
       "                               neighborhood_overview  \\\n",
       "0  Madrona is a hidden gem of a neighborhood. It ...   \n",
       "1  A peaceful yet highly accessible neighborhood,...   \n",
       "\n",
       "                                         picture_url  host_id  \\\n",
       "0  https://a0.muscache.com/pictures/02973ad3-a7a3...     2536   \n",
       "1  https://a0.muscache.com/pictures/45742/21116d7...    14942   \n",
       "\n",
       "                                  host_url  ... review_scores_communication  \\\n",
       "0   https://www.airbnb.com/users/show/2536  ...                        5.00   \n",
       "1  https://www.airbnb.com/users/show/14942  ...                        4.76   \n",
       "\n",
       "  review_scores_location review_scores_value             license  \\\n",
       "0                   4.97                4.80  STR-OPLI-19-002837   \n",
       "1                   4.88                4.56  str-opli-19-002622   \n",
       "\n",
       "  instant_bookable calculated_host_listings_count  \\\n",
       "0                t                              1   \n",
       "1                f                              2   \n",
       "\n",
       "  calculated_host_listings_count_entire_homes  \\\n",
       "0                                           1   \n",
       "1                                           2   \n",
       "\n",
       "  calculated_host_listings_count_private_rooms  \\\n",
       "0                                            0   \n",
       "1                                            0   \n",
       "\n",
       "  calculated_host_listings_count_shared_rooms reviews_per_month  \n",
       "0                                           0              0.22  \n",
       "1                                           0              1.04  \n",
       "\n",
       "[2 rows x 74 columns]"
      ]
     },
     "execution_count": 179,
     "metadata": {},
     "output_type": "execute_result"
    }
   ],
   "source": [
    "print(dec_21.shape)\n",
    "dec_21.head(2)"
   ]
  },
  {
   "cell_type": "code",
   "execution_count": 180,
   "id": "7451f032-d7a9-4ad1-9a04-1db6ed6ff05e",
   "metadata": {},
   "outputs": [
    {
     "name": "stdout",
     "output_type": "stream",
     "text": [
      "(4883, 74)\n"
     ]
    },
    {
     "data": {
      "text/html": [
       "<div>\n",
       "<style scoped>\n",
       "    .dataframe tbody tr th:only-of-type {\n",
       "        vertical-align: middle;\n",
       "    }\n",
       "\n",
       "    .dataframe tbody tr th {\n",
       "        vertical-align: top;\n",
       "    }\n",
       "\n",
       "    .dataframe thead th {\n",
       "        text-align: right;\n",
       "    }\n",
       "</style>\n",
       "<table border=\"1\" class=\"dataframe\">\n",
       "  <thead>\n",
       "    <tr style=\"text-align: right;\">\n",
       "      <th></th>\n",
       "      <th>id</th>\n",
       "      <th>listing_url</th>\n",
       "      <th>scrape_id</th>\n",
       "      <th>last_scraped</th>\n",
       "      <th>name</th>\n",
       "      <th>description</th>\n",
       "      <th>neighborhood_overview</th>\n",
       "      <th>picture_url</th>\n",
       "      <th>host_id</th>\n",
       "      <th>host_url</th>\n",
       "      <th>...</th>\n",
       "      <th>review_scores_communication</th>\n",
       "      <th>review_scores_location</th>\n",
       "      <th>review_scores_value</th>\n",
       "      <th>license</th>\n",
       "      <th>instant_bookable</th>\n",
       "      <th>calculated_host_listings_count</th>\n",
       "      <th>calculated_host_listings_count_entire_homes</th>\n",
       "      <th>calculated_host_listings_count_private_rooms</th>\n",
       "      <th>calculated_host_listings_count_shared_rooms</th>\n",
       "      <th>reviews_per_month</th>\n",
       "    </tr>\n",
       "  </thead>\n",
       "  <tbody>\n",
       "    <tr>\n",
       "      <th>0</th>\n",
       "      <td>2318</td>\n",
       "      <td>https://www.airbnb.com/rooms/2318</td>\n",
       "      <td>20220323041313</td>\n",
       "      <td>2022-03-23</td>\n",
       "      <td>Casa Madrona - Urban Oasis 1 block from the park!</td>\n",
       "      <td>Gorgeous, architect remodeled, Dutch Colonial ...</td>\n",
       "      <td>Madrona is a hidden gem of a neighborhood. It ...</td>\n",
       "      <td>https://a0.muscache.com/pictures/02973ad3-a7a3...</td>\n",
       "      <td>2536</td>\n",
       "      <td>https://www.airbnb.com/users/show/2536</td>\n",
       "      <td>...</td>\n",
       "      <td>5.00</td>\n",
       "      <td>4.97</td>\n",
       "      <td>4.81</td>\n",
       "      <td>STR-OPLI-19-002837</td>\n",
       "      <td>f</td>\n",
       "      <td>1</td>\n",
       "      <td>1</td>\n",
       "      <td>0</td>\n",
       "      <td>0</td>\n",
       "      <td>0.23</td>\n",
       "    </tr>\n",
       "    <tr>\n",
       "      <th>1</th>\n",
       "      <td>6606</td>\n",
       "      <td>https://www.airbnb.com/rooms/6606</td>\n",
       "      <td>20220323041313</td>\n",
       "      <td>2022-03-23</td>\n",
       "      <td>Fab, private seattle urban cottage!</td>\n",
       "      <td>This tiny cottage is only 15x10, but it has ev...</td>\n",
       "      <td>A peaceful yet highly accessible neighborhood,...</td>\n",
       "      <td>https://a0.muscache.com/pictures/45742/21116d7...</td>\n",
       "      <td>14942</td>\n",
       "      <td>https://www.airbnb.com/users/show/14942</td>\n",
       "      <td>...</td>\n",
       "      <td>4.76</td>\n",
       "      <td>4.88</td>\n",
       "      <td>4.56</td>\n",
       "      <td>str-opli-19-002622</td>\n",
       "      <td>f</td>\n",
       "      <td>2</td>\n",
       "      <td>2</td>\n",
       "      <td>0</td>\n",
       "      <td>0</td>\n",
       "      <td>1.02</td>\n",
       "    </tr>\n",
       "  </tbody>\n",
       "</table>\n",
       "<p>2 rows × 74 columns</p>\n",
       "</div>"
      ],
      "text/plain": [
       "     id                        listing_url       scrape_id last_scraped  \\\n",
       "0  2318  https://www.airbnb.com/rooms/2318  20220323041313   2022-03-23   \n",
       "1  6606  https://www.airbnb.com/rooms/6606  20220323041313   2022-03-23   \n",
       "\n",
       "                                                name  \\\n",
       "0  Casa Madrona - Urban Oasis 1 block from the park!   \n",
       "1                Fab, private seattle urban cottage!   \n",
       "\n",
       "                                         description  \\\n",
       "0  Gorgeous, architect remodeled, Dutch Colonial ...   \n",
       "1  This tiny cottage is only 15x10, but it has ev...   \n",
       "\n",
       "                               neighborhood_overview  \\\n",
       "0  Madrona is a hidden gem of a neighborhood. It ...   \n",
       "1  A peaceful yet highly accessible neighborhood,...   \n",
       "\n",
       "                                         picture_url  host_id  \\\n",
       "0  https://a0.muscache.com/pictures/02973ad3-a7a3...     2536   \n",
       "1  https://a0.muscache.com/pictures/45742/21116d7...    14942   \n",
       "\n",
       "                                  host_url  ... review_scores_communication  \\\n",
       "0   https://www.airbnb.com/users/show/2536  ...                        5.00   \n",
       "1  https://www.airbnb.com/users/show/14942  ...                        4.76   \n",
       "\n",
       "  review_scores_location review_scores_value             license  \\\n",
       "0                   4.97                4.81  STR-OPLI-19-002837   \n",
       "1                   4.88                4.56  str-opli-19-002622   \n",
       "\n",
       "  instant_bookable calculated_host_listings_count  \\\n",
       "0                f                              1   \n",
       "1                f                              2   \n",
       "\n",
       "  calculated_host_listings_count_entire_homes  \\\n",
       "0                                           1   \n",
       "1                                           2   \n",
       "\n",
       "  calculated_host_listings_count_private_rooms  \\\n",
       "0                                            0   \n",
       "1                                            0   \n",
       "\n",
       "  calculated_host_listings_count_shared_rooms reviews_per_month  \n",
       "0                                           0              0.23  \n",
       "1                                           0              1.02  \n",
       "\n",
       "[2 rows x 74 columns]"
      ]
     },
     "execution_count": 180,
     "metadata": {},
     "output_type": "execute_result"
    }
   ],
   "source": [
    "print(mar_22.shape)\n",
    "mar_22.head(2)"
   ]
  },
  {
   "cell_type": "code",
   "execution_count": 181,
   "id": "62448169-6f3e-43c4-a724-b0642b72bd6f",
   "metadata": {},
   "outputs": [
    {
     "name": "stdout",
     "output_type": "stream",
     "text": [
      "(5355, 74)\n"
     ]
    },
    {
     "data": {
      "text/html": [
       "<div>\n",
       "<style scoped>\n",
       "    .dataframe tbody tr th:only-of-type {\n",
       "        vertical-align: middle;\n",
       "    }\n",
       "\n",
       "    .dataframe tbody tr th {\n",
       "        vertical-align: top;\n",
       "    }\n",
       "\n",
       "    .dataframe thead th {\n",
       "        text-align: right;\n",
       "    }\n",
       "</style>\n",
       "<table border=\"1\" class=\"dataframe\">\n",
       "  <thead>\n",
       "    <tr style=\"text-align: right;\">\n",
       "      <th></th>\n",
       "      <th>id</th>\n",
       "      <th>listing_url</th>\n",
       "      <th>scrape_id</th>\n",
       "      <th>last_scraped</th>\n",
       "      <th>name</th>\n",
       "      <th>description</th>\n",
       "      <th>neighborhood_overview</th>\n",
       "      <th>picture_url</th>\n",
       "      <th>host_id</th>\n",
       "      <th>host_url</th>\n",
       "      <th>...</th>\n",
       "      <th>review_scores_communication</th>\n",
       "      <th>review_scores_location</th>\n",
       "      <th>review_scores_value</th>\n",
       "      <th>license</th>\n",
       "      <th>instant_bookable</th>\n",
       "      <th>calculated_host_listings_count</th>\n",
       "      <th>calculated_host_listings_count_entire_homes</th>\n",
       "      <th>calculated_host_listings_count_private_rooms</th>\n",
       "      <th>calculated_host_listings_count_shared_rooms</th>\n",
       "      <th>reviews_per_month</th>\n",
       "    </tr>\n",
       "  </thead>\n",
       "  <tbody>\n",
       "    <tr>\n",
       "      <th>0</th>\n",
       "      <td>580365544480383496</td>\n",
       "      <td>https://www.airbnb.com/rooms/580365544480383496</td>\n",
       "      <td>20220615002636</td>\n",
       "      <td>2022-06-15</td>\n",
       "      <td>Adorable fireplace studio minutes from airport</td>\n",
       "      <td>The whole group will enjoy easy access to ever...</td>\n",
       "      <td>Situated between the airport and downtown . Th...</td>\n",
       "      <td>https://a0.muscache.com/pictures/76e3ff98-7b6a...</td>\n",
       "      <td>3436665</td>\n",
       "      <td>https://www.airbnb.com/users/show/3436665</td>\n",
       "      <td>...</td>\n",
       "      <td>4.4</td>\n",
       "      <td>4.0</td>\n",
       "      <td>4.4</td>\n",
       "      <td>NaN</td>\n",
       "      <td>t</td>\n",
       "      <td>1</td>\n",
       "      <td>1</td>\n",
       "      <td>0</td>\n",
       "      <td>0</td>\n",
       "      <td>1.70</td>\n",
       "    </tr>\n",
       "    <tr>\n",
       "      <th>1</th>\n",
       "      <td>5164039</td>\n",
       "      <td>https://www.airbnb.com/rooms/5164039</td>\n",
       "      <td>20220615002636</td>\n",
       "      <td>2022-06-15</td>\n",
       "      <td>NW Luxury and Private Beach! Near Airport</td>\n",
       "      <td>Relax in luxury and enjoy the comforts of home...</td>\n",
       "      <td>\"Shorewood on the Sound\" is a great community ...</td>\n",
       "      <td>https://a0.muscache.com/pictures/6fb4e3b1-8377...</td>\n",
       "      <td>26710300</td>\n",
       "      <td>https://www.airbnb.com/users/show/26710300</td>\n",
       "      <td>...</td>\n",
       "      <td>5.0</td>\n",
       "      <td>4.9</td>\n",
       "      <td>5.0</td>\n",
       "      <td>NaN</td>\n",
       "      <td>f</td>\n",
       "      <td>1</td>\n",
       "      <td>1</td>\n",
       "      <td>0</td>\n",
       "      <td>0</td>\n",
       "      <td>0.21</td>\n",
       "    </tr>\n",
       "  </tbody>\n",
       "</table>\n",
       "<p>2 rows × 74 columns</p>\n",
       "</div>"
      ],
      "text/plain": [
       "                   id                                      listing_url  \\\n",
       "0  580365544480383496  https://www.airbnb.com/rooms/580365544480383496   \n",
       "1             5164039             https://www.airbnb.com/rooms/5164039   \n",
       "\n",
       "        scrape_id last_scraped  \\\n",
       "0  20220615002636   2022-06-15   \n",
       "1  20220615002636   2022-06-15   \n",
       "\n",
       "                                             name  \\\n",
       "0  Adorable fireplace studio minutes from airport   \n",
       "1       NW Luxury and Private Beach! Near Airport   \n",
       "\n",
       "                                         description  \\\n",
       "0  The whole group will enjoy easy access to ever...   \n",
       "1  Relax in luxury and enjoy the comforts of home...   \n",
       "\n",
       "                               neighborhood_overview  \\\n",
       "0  Situated between the airport and downtown . Th...   \n",
       "1  \"Shorewood on the Sound\" is a great community ...   \n",
       "\n",
       "                                         picture_url   host_id  \\\n",
       "0  https://a0.muscache.com/pictures/76e3ff98-7b6a...   3436665   \n",
       "1  https://a0.muscache.com/pictures/6fb4e3b1-8377...  26710300   \n",
       "\n",
       "                                     host_url  ...  \\\n",
       "0   https://www.airbnb.com/users/show/3436665  ...   \n",
       "1  https://www.airbnb.com/users/show/26710300  ...   \n",
       "\n",
       "  review_scores_communication review_scores_location review_scores_value  \\\n",
       "0                         4.4                    4.0                 4.4   \n",
       "1                         5.0                    4.9                 5.0   \n",
       "\n",
       "  license instant_bookable calculated_host_listings_count  \\\n",
       "0     NaN                t                              1   \n",
       "1     NaN                f                              1   \n",
       "\n",
       "  calculated_host_listings_count_entire_homes  \\\n",
       "0                                           1   \n",
       "1                                           1   \n",
       "\n",
       "  calculated_host_listings_count_private_rooms  \\\n",
       "0                                            0   \n",
       "1                                            0   \n",
       "\n",
       "  calculated_host_listings_count_shared_rooms reviews_per_month  \n",
       "0                                           0              1.70  \n",
       "1                                           0              0.21  \n",
       "\n",
       "[2 rows x 74 columns]"
      ]
     },
     "execution_count": 181,
     "metadata": {},
     "output_type": "execute_result"
    }
   ],
   "source": [
    "print(jun_22.shape)\n",
    "jun_22.head(2)"
   ]
  },
  {
   "cell_type": "code",
   "execution_count": 182,
   "id": "e6a1a11a-4c1a-46ac-a8ec-4677ceafaf51",
   "metadata": {},
   "outputs": [
    {
     "data": {
      "text/plain": [
       "(19173, 74)"
      ]
     },
     "execution_count": 182,
     "metadata": {},
     "output_type": "execute_result"
    }
   ],
   "source": [
    "listings = pd.concat([sep_21, dec_21, mar_22, jun_22])\n",
    "listings.shape"
   ]
  },
  {
   "cell_type": "markdown",
   "id": "8df512f7-5971-43b5-a3c1-2f638e343d84",
   "metadata": {},
   "source": [
    "-------\n",
    "## Data Cleaning - listings data: Following same steps as Boston Cleaning"
   ]
  },
  {
   "cell_type": "markdown",
   "id": "03e5dae2-ca6c-43fa-9d3a-bb3468b7b92b",
   "metadata": {},
   "source": [
    "### *Handling Null Values*"
   ]
  },
  {
   "cell_type": "code",
   "execution_count": 183,
   "id": "7f1eabce-7fa0-4a4c-bf2b-e50bcaaab771",
   "metadata": {},
   "outputs": [
    {
     "data": {
      "text/plain": [
       "id                          0\n",
       "listing_url                 0\n",
       "scrape_id                   0\n",
       "last_scraped                0\n",
       "name                        0\n",
       "description                33\n",
       "neighborhood_overview    5008\n",
       "picture_url                 0\n",
       "host_id                     0\n",
       "host_url                    0\n",
       "host_name                   2\n",
       "host_since                  2\n",
       "host_location              26\n",
       "host_about               5161\n",
       "host_response_time       2084\n",
       "host_response_rate       2084\n",
       "host_acceptance_rate     1548\n",
       "host_is_superhost           2\n",
       "host_thumbnail_url          2\n",
       "host_picture_url            2\n",
       "dtype: int64"
      ]
     },
     "execution_count": 183,
     "metadata": {},
     "output_type": "execute_result"
    }
   ],
   "source": [
    "# dealing with null values\n",
    "# checking first 20 columns\n",
    "listings.isnull().sum()[:20]"
   ]
  },
  {
   "cell_type": "code",
   "execution_count": 184,
   "id": "e5ad4c3d-f2d3-4bea-843a-0a83467e8e22",
   "metadata": {},
   "outputs": [],
   "source": [
    "listings.drop(columns = ['host_about', 'neighborhood_overview','host_location'], inplace = True)"
   ]
  },
  {
   "cell_type": "code",
   "execution_count": 185,
   "id": "e6c1c9fc-0019-4216-8073-3480c18947d0",
   "metadata": {},
   "outputs": [
    {
     "data": {
      "text/plain": [
       "within an hour        0.815378\n",
       "within a few hours    0.118614\n",
       "within a day          0.053192\n",
       "a few days or more    0.012815\n",
       "Name: host_response_time, dtype: float64"
      ]
     },
     "execution_count": 185,
     "metadata": {},
     "output_type": "execute_result"
    }
   ],
   "source": [
    "listings['host_response_time'].value_counts(normalize=True)"
   ]
  },
  {
   "cell_type": "code",
   "execution_count": 186,
   "id": "09fa3941-4d6a-4096-905c-6976060dae6a",
   "metadata": {},
   "outputs": [
    {
     "data": {
      "text/plain": [
       "host_verifications                  0\n",
       "host_has_profile_pic                2\n",
       "host_identity_verified              2\n",
       "neighbourhood                    5008\n",
       "neighbourhood_cleansed              0\n",
       "neighbourhood_group_cleansed        0\n",
       "latitude                            0\n",
       "longitude                           0\n",
       "property_type                       0\n",
       "room_type                           0\n",
       "accommodates                        0\n",
       "bathrooms                       19173\n",
       "bathrooms_text                     13\n",
       "bedrooms                         2464\n",
       "beds                              405\n",
       "amenities                           0\n",
       "price                               0\n",
       "minimum_nights                      0\n",
       "maximum_nights                      0\n",
       "minimum_minimum_nights             10\n",
       "dtype: int64"
      ]
     },
     "execution_count": 186,
     "metadata": {},
     "output_type": "execute_result"
    }
   ],
   "source": [
    "listings.isnull().sum()[20:40]"
   ]
  },
  {
   "cell_type": "code",
   "execution_count": 187,
   "id": "bd1eb95f-2853-434f-aafb-008e4376394e",
   "metadata": {
    "tags": []
   },
   "outputs": [],
   "source": [
    "listings.drop(columns = ['bathrooms','neighbourhood_group_cleansed', 'neighbourhood','minimum_minimum_nights','maximum_minimum_nights','minimum_maximum_nights','maximum_maximum_nights'],\n",
    "              inplace=True)"
   ]
  },
  {
   "cell_type": "code",
   "execution_count": 188,
   "id": "eff8c86f-f152-4f0b-9f1f-a2a422faba80",
   "metadata": {},
   "outputs": [
    {
     "data": {
      "text/plain": [
       "availability_30                                    0\n",
       "availability_60                                    0\n",
       "availability_90                                    0\n",
       "availability_365                                   0\n",
       "calendar_last_scraped                              0\n",
       "number_of_reviews                                  0\n",
       "number_of_reviews_ltm                              0\n",
       "number_of_reviews_l30d                             0\n",
       "first_review                                    2849\n",
       "last_review                                     2849\n",
       "review_scores_rating                            2849\n",
       "review_scores_accuracy                          2870\n",
       "review_scores_cleanliness                       2870\n",
       "review_scores_checkin                           2870\n",
       "review_scores_communication                     2870\n",
       "review_scores_location                          2870\n",
       "review_scores_value                             2870\n",
       "license                                         4754\n",
       "instant_bookable                                   0\n",
       "calculated_host_listings_count                     0\n",
       "calculated_host_listings_count_entire_homes        0\n",
       "calculated_host_listings_count_private_rooms       0\n",
       "calculated_host_listings_count_shared_rooms        0\n",
       "reviews_per_month                               2849\n",
       "dtype: int64"
      ]
     },
     "execution_count": 188,
     "metadata": {},
     "output_type": "execute_result"
    }
   ],
   "source": [
    "listings.isnull().sum()[40:]"
   ]
  },
  {
   "cell_type": "code",
   "execution_count": 189,
   "id": "08a908f5-d44d-4109-97c7-4c4ee946f10b",
   "metadata": {},
   "outputs": [],
   "source": [
    "listings.drop(columns = ['calendar_updated', 'review_scores_accuracy','review_scores_cleanliness','review_scores_checkin','review_scores_communication','review_scores_location','review_scores_value'], inplace=True)"
   ]
  },
  {
   "cell_type": "code",
   "execution_count": 190,
   "id": "3bc2585f-c6b0-4971-b19c-e1beebacb61a",
   "metadata": {},
   "outputs": [],
   "source": [
    "# rating column will be the target variable\n",
    "# can't impute null values or drop this column\n",
    "listings.dropna(subset= 'review_scores_rating', inplace=True)"
   ]
  },
  {
   "cell_type": "code",
   "execution_count": 191,
   "id": "1c80a9c4-7a09-4e87-9859-4c66f1126971",
   "metadata": {},
   "outputs": [],
   "source": [
    "# rename rating column for clarity\n",
    "listings.rename(columns = ({'review_scores_rating': 'rating'}), inplace=True)"
   ]
  },
  {
   "cell_type": "code",
   "execution_count": 192,
   "id": "231baca1-961c-47c7-b5c8-a598fe3190b9",
   "metadata": {},
   "outputs": [
    {
     "data": {
      "text/plain": [
       "(16324, 57)"
      ]
     },
     "execution_count": 192,
     "metadata": {},
     "output_type": "execute_result"
    }
   ],
   "source": [
    "listings.shape"
   ]
  },
  {
   "cell_type": "code",
   "execution_count": 193,
   "id": "7ecd1101-f559-42b7-8d16-c2bcd3e3aea9",
   "metadata": {},
   "outputs": [
    {
     "data": {
      "text/plain": [
       "0       STR-OPLI-19-002837\n",
       "1       str-opli-19-002622\n",
       "2       STR-OPLI-19-003039\n",
       "3       STR-OPLI-19-002182\n",
       "4       STR-OPLI-19-002182\n",
       "               ...        \n",
       "5350    STR-OPLI-19-002743\n",
       "5351                   NaN\n",
       "5352                   NaN\n",
       "5353                   NaN\n",
       "5354                   NaN\n",
       "Name: license, Length: 16324, dtype: object"
      ]
     },
     "execution_count": 193,
     "metadata": {},
     "output_type": "execute_result"
    }
   ],
   "source": [
    "listings['license']"
   ]
  },
  {
   "cell_type": "code",
   "execution_count": 194,
   "id": "23afac7f-13e3-4187-b59f-e77d2e969cc6",
   "metadata": {},
   "outputs": [],
   "source": [
    "listings['license'] = listings['license'].astype(str)"
   ]
  },
  {
   "cell_type": "code",
   "execution_count": 195,
   "id": "9280d1f9-c3b9-40a4-8cc2-40c59e775420",
   "metadata": {},
   "outputs": [],
   "source": [
    "# assigning 0 for no short-term rental license and 1 for licensed (or approved due to some exemption)\n",
    "listings['license'] = listings['license'].map(lambda x: int(0) if x == 'nan' else int(1))"
   ]
  },
  {
   "cell_type": "code",
   "execution_count": 196,
   "id": "c50dfe0e-115f-46f2-a5c3-7071b1119d91",
   "metadata": {},
   "outputs": [
    {
     "data": {
      "text/plain": [
       "availability_60                                 0\n",
       "availability_90                                 0\n",
       "availability_365                                0\n",
       "calendar_last_scraped                           0\n",
       "number_of_reviews                               0\n",
       "number_of_reviews_ltm                           0\n",
       "number_of_reviews_l30d                          0\n",
       "first_review                                    0\n",
       "last_review                                     0\n",
       "rating                                          0\n",
       "license                                         0\n",
       "instant_bookable                                0\n",
       "calculated_host_listings_count                  0\n",
       "calculated_host_listings_count_entire_homes     0\n",
       "calculated_host_listings_count_private_rooms    0\n",
       "calculated_host_listings_count_shared_rooms     0\n",
       "reviews_per_month                               0\n",
       "dtype: int64"
      ]
     },
     "execution_count": 196,
     "metadata": {},
     "output_type": "execute_result"
    }
   ],
   "source": [
    "# confirm no nulls from column 40-57\n",
    "listings.isnull().sum()[40:]"
   ]
  },
  {
   "cell_type": "code",
   "execution_count": 197,
   "id": "3a7fecb3-0c43-4fd5-8952-840b3324887c",
   "metadata": {
    "tags": []
   },
   "outputs": [
    {
     "data": {
      "text/plain": [
       "id                              0\n",
       "listing_url                     0\n",
       "scrape_id                       0\n",
       "last_scraped                    0\n",
       "name                            0\n",
       "description                    18\n",
       "picture_url                     0\n",
       "host_id                         0\n",
       "host_url                        0\n",
       "host_name                       2\n",
       "host_since                      2\n",
       "host_response_time           1821\n",
       "host_response_rate           1821\n",
       "host_acceptance_rate         1285\n",
       "host_is_superhost               2\n",
       "host_thumbnail_url              2\n",
       "host_picture_url                2\n",
       "host_neighbourhood           1484\n",
       "host_listings_count             2\n",
       "host_total_listings_count       2\n",
       "dtype: int64"
      ]
     },
     "execution_count": 197,
     "metadata": {},
     "output_type": "execute_result"
    }
   ],
   "source": [
    "# re checking first 20 columns after dropped columns\n",
    "listings.isnull().sum()[:20]"
   ]
  },
  {
   "cell_type": "code",
   "execution_count": 198,
   "id": "a5a1061c-dd01-44e8-baeb-9143d2e2a698",
   "metadata": {
    "tags": []
   },
   "outputs": [],
   "source": [
    "# host's neighborhood is unnecessary when we have the listing neighborhood\n",
    "listings.drop(columns = ['host_neighbourhood', 'host_acceptance_rate', 'host_thumbnail_url','host_picture_url','host_total_listings_count'], inplace=True)"
   ]
  },
  {
   "cell_type": "code",
   "execution_count": 199,
   "id": "ca2eb3bf-611b-4084-a168-ffba67a1790b",
   "metadata": {
    "tags": []
   },
   "outputs": [],
   "source": [
    "listings['host_response_rate'] = listings['host_response_rate'].map(lambda x: str(x)[:-1])"
   ]
  },
  {
   "cell_type": "code",
   "execution_count": 200,
   "id": "fdef934b-2466-4dac-9357-38af21ab8e17",
   "metadata": {
    "tags": []
   },
   "outputs": [],
   "source": [
    "listings['host_response_rate'] = listings['host_response_rate'].map(lambda x: float(x) if x != 'na' else x) "
   ]
  },
  {
   "cell_type": "code",
   "execution_count": 201,
   "id": "440a0881-55e2-4276-b723-51e64c82129e",
   "metadata": {
    "tags": []
   },
   "outputs": [
    {
     "data": {
      "text/plain": [
       "1821"
      ]
     },
     "execution_count": 201,
     "metadata": {},
     "output_type": "execute_result"
    }
   ],
   "source": [
    "len(listings[listings['host_response_rate'] == 'na'])"
   ]
  },
  {
   "cell_type": "code",
   "execution_count": 202,
   "id": "03f61925-3948-445a-9589-e11577f1cf31",
   "metadata": {},
   "outputs": [],
   "source": [
    "num_response_rates = listings[listings['host_response_rate'] != 'na']"
   ]
  },
  {
   "cell_type": "code",
   "execution_count": 203,
   "id": "40060418-599b-4e2e-a88d-08a44175633f",
   "metadata": {
    "tags": []
   },
   "outputs": [
    {
     "data": {
      "image/png": "[encoded data removed]",
      "text/plain": [
       "<Figure size 432x288 with 1 Axes>"
      ]
     },
     "metadata": {
      "needs_background": "light"
     },
     "output_type": "display_data"
    }
   ],
   "source": [
    "plt.hist(num_response_rates['host_response_rate'], bins = 20)\n",
    "plt.xlabel('Host Response Rate %', fontsize = 12)\n",
    "plt.ylabel('Number of Listings', fontsize = 12)\n",
    "plt.title('Distribution of Response Rates (non-null)', fontsize = 16);"
   ]
  },
  {
   "cell_type": "code",
   "execution_count": 204,
   "id": "af05f83a-36ab-40c0-acc1-cb843b008825",
   "metadata": {
    "tags": []
   },
   "outputs": [
    {
     "data": {
      "text/plain": [
       "100.0    11790\n",
       "na        1821\n",
       "99.0       547\n",
       "90.0       314\n",
       "97.0       247\n",
       "95.0       225\n",
       "98.0       164\n",
       "96.0       129\n",
       "0.0        113\n",
       "87.0       103\n",
       "Name: host_response_rate, dtype: int64"
      ]
     },
     "execution_count": 204,
     "metadata": {},
     "output_type": "execute_result"
    }
   ],
   "source": [
    "listings['host_response_rate'].value_counts()[:10]"
   ]
  },
  {
   "cell_type": "code",
   "execution_count": 205,
   "id": "3b18e11d-6766-42c2-9518-35b11eb1c4a8",
   "metadata": {},
   "outputs": [],
   "source": [
    "listings['host_response_rate'] = listings['host_response_rate'].map(lambda x: 100.0 if x == 'na' else x) "
   ]
  },
  {
   "cell_type": "code",
   "execution_count": 206,
   "id": "e9ce16a7-9ab2-4043-af9f-f5d53e4cd2f6",
   "metadata": {
    "tags": []
   },
   "outputs": [
    {
     "data": {
      "text/plain": [
       "1821"
      ]
     },
     "execution_count": 206,
     "metadata": {},
     "output_type": "execute_result"
    }
   ],
   "source": [
    "listings['host_response_time'].isnull().sum()"
   ]
  },
  {
   "cell_type": "code",
   "execution_count": 207,
   "id": "7d456646-c15c-41a5-8b8b-2c9b3b0c7bd9",
   "metadata": {
    "tags": []
   },
   "outputs": [],
   "source": [
    "listings['host_response_time'] = listings['host_response_time'].map(lambda x: 0 if x == 'N/A' or x == 'a few days or more' else 1 if x == 'within a day' else 2 if x == 'within a few hours' else 3) "
   ]
  },
  {
   "cell_type": "code",
   "execution_count": 208,
   "id": "528752a0-acfc-49b0-b04f-7e5bdd3d3439",
   "metadata": {
    "tags": []
   },
   "outputs": [
    {
     "data": {
      "text/plain": [
       "0"
      ]
     },
     "execution_count": 208,
     "metadata": {},
     "output_type": "execute_result"
    }
   ],
   "source": [
    "listings['host_response_time'].isnull().sum()"
   ]
  },
  {
   "cell_type": "code",
   "execution_count": 209,
   "id": "da283973-c809-4f8e-839b-8013aed3cd7a",
   "metadata": {
    "tags": []
   },
   "outputs": [
    {
     "data": {
      "text/html": [
       "<div>\n",
       "<style scoped>\n",
       "    .dataframe tbody tr th:only-of-type {\n",
       "        vertical-align: middle;\n",
       "    }\n",
       "\n",
       "    .dataframe tbody tr th {\n",
       "        vertical-align: top;\n",
       "    }\n",
       "\n",
       "    .dataframe thead th {\n",
       "        text-align: right;\n",
       "    }\n",
       "</style>\n",
       "<table border=\"1\" class=\"dataframe\">\n",
       "  <thead>\n",
       "    <tr style=\"text-align: right;\">\n",
       "      <th></th>\n",
       "      <th>host_response_time</th>\n",
       "      <th>host_response_rate</th>\n",
       "    </tr>\n",
       "  </thead>\n",
       "  <tbody>\n",
       "    <tr>\n",
       "      <th>host_response_time</th>\n",
       "      <td>1.000000</td>\n",
       "      <td>0.578721</td>\n",
       "    </tr>\n",
       "    <tr>\n",
       "      <th>host_response_rate</th>\n",
       "      <td>0.578721</td>\n",
       "      <td>1.000000</td>\n",
       "    </tr>\n",
       "  </tbody>\n",
       "</table>\n",
       "</div>"
      ],
      "text/plain": [
       "                    host_response_time  host_response_rate\n",
       "host_response_time            1.000000            0.578721\n",
       "host_response_rate            0.578721            1.000000"
      ]
     },
     "execution_count": 209,
     "metadata": {},
     "output_type": "execute_result"
    }
   ],
   "source": [
    "listings[['host_response_time','host_response_rate']].corr()"
   ]
  },
  {
   "cell_type": "code",
   "execution_count": 210,
   "id": "abc7defb-086e-49bf-9b39-e247607735e4",
   "metadata": {},
   "outputs": [],
   "source": [
    "# binarizing superhost column\n",
    "listings['host_is_superhost'] = listings['host_is_superhost'].map(lambda x: 1 if x == 't' else 0)"
   ]
  },
  {
   "cell_type": "code",
   "execution_count": 211,
   "id": "8934b36e-29a4-454e-b643-159319e0dc7d",
   "metadata": {},
   "outputs": [
    {
     "data": {
      "text/plain": [
       "(16324, 52)"
      ]
     },
     "execution_count": 211,
     "metadata": {},
     "output_type": "execute_result"
    }
   ],
   "source": [
    "listings.shape"
   ]
  },
  {
   "cell_type": "code",
   "execution_count": 212,
   "id": "bfee035f-dd5d-4161-a358-992609158831",
   "metadata": {},
   "outputs": [
    {
     "data": {
      "text/plain": [
       "id                         0\n",
       "listing_url                0\n",
       "scrape_id                  0\n",
       "last_scraped               0\n",
       "name                       0\n",
       "description               18\n",
       "picture_url                0\n",
       "host_id                    0\n",
       "host_url                   0\n",
       "host_name                  2\n",
       "host_since                 2\n",
       "host_response_time         0\n",
       "host_response_rate         0\n",
       "host_is_superhost          0\n",
       "host_listings_count        2\n",
       "host_verifications         0\n",
       "host_has_profile_pic       2\n",
       "host_identity_verified     2\n",
       "neighbourhood_cleansed     0\n",
       "latitude                   0\n",
       "dtype: int64"
      ]
     },
     "execution_count": 212,
     "metadata": {},
     "output_type": "execute_result"
    }
   ],
   "source": [
    "# re checking first 20 columns\n",
    "listings.isnull().sum()[:20]"
   ]
  },
  {
   "cell_type": "code",
   "execution_count": 213,
   "id": "022ca469-7465-4e8b-a5c5-e531432db32b",
   "metadata": {},
   "outputs": [
    {
     "data": {
      "text/plain": [
       "longitude                    0\n",
       "property_type                0\n",
       "room_type                    0\n",
       "accommodates                 0\n",
       "bathrooms_text              13\n",
       "bedrooms                  2051\n",
       "beds                       294\n",
       "amenities                    0\n",
       "price                        0\n",
       "minimum_nights               0\n",
       "maximum_nights               0\n",
       "minimum_nights_avg_ntm      10\n",
       "maximum_nights_avg_ntm      10\n",
       "has_availability             0\n",
       "availability_30              0\n",
       "availability_60              0\n",
       "availability_90              0\n",
       "availability_365             0\n",
       "calendar_last_scraped        0\n",
       "number_of_reviews            0\n",
       "dtype: int64"
      ]
     },
     "execution_count": 213,
     "metadata": {},
     "output_type": "execute_result"
    }
   ],
   "source": [
    "# re-checking columns 20-39\n",
    "listings.isnull().sum()[20:40]"
   ]
  },
  {
   "cell_type": "code",
   "execution_count": 214,
   "id": "81b29c4d-c474-4bcc-b7d6-cfbe0e4c750a",
   "metadata": {},
   "outputs": [
    {
     "data": {
      "text/plain": [
       "longitude         float64\n",
       "property_type      object\n",
       "room_type          object\n",
       "accommodates        int64\n",
       "bathrooms_text     object\n",
       "bedrooms          float64\n",
       "beds              float64\n",
       "amenities          object\n",
       "price              object\n",
       "minimum_nights      int64\n",
       "dtype: object"
      ]
     },
     "execution_count": 214,
     "metadata": {},
     "output_type": "execute_result"
    }
   ],
   "source": [
    "listings.dtypes[20:30]"
   ]
  },
  {
   "cell_type": "code",
   "execution_count": 215,
   "id": "9e357806-f6a8-4032-b661-f279d28be550",
   "metadata": {},
   "outputs": [
    {
     "data": {
      "text/html": [
       "<div>\n",
       "<style scoped>\n",
       "    .dataframe tbody tr th:only-of-type {\n",
       "        vertical-align: middle;\n",
       "    }\n",
       "\n",
       "    .dataframe tbody tr th {\n",
       "        vertical-align: top;\n",
       "    }\n",
       "\n",
       "    .dataframe thead th {\n",
       "        text-align: right;\n",
       "    }\n",
       "</style>\n",
       "<table border=\"1\" class=\"dataframe\">\n",
       "  <thead>\n",
       "    <tr style=\"text-align: right;\">\n",
       "      <th></th>\n",
       "      <th>bedrooms</th>\n",
       "      <th>beds</th>\n",
       "    </tr>\n",
       "  </thead>\n",
       "  <tbody>\n",
       "    <tr>\n",
       "      <th>bedrooms</th>\n",
       "      <td>1.000000</td>\n",
       "      <td>0.838481</td>\n",
       "    </tr>\n",
       "    <tr>\n",
       "      <th>beds</th>\n",
       "      <td>0.838481</td>\n",
       "      <td>1.000000</td>\n",
       "    </tr>\n",
       "  </tbody>\n",
       "</table>\n",
       "</div>"
      ],
      "text/plain": [
       "          bedrooms      beds\n",
       "bedrooms  1.000000  0.838481\n",
       "beds      0.838481  1.000000"
      ]
     },
     "execution_count": 215,
     "metadata": {},
     "output_type": "execute_result"
    }
   ],
   "source": [
    "listings[['bedrooms', 'beds']].corr()"
   ]
  },
  {
   "cell_type": "code",
   "execution_count": 216,
   "id": "c4606d27-6c1d-42de-bb96-8b04012bf6fd",
   "metadata": {},
   "outputs": [],
   "source": [
    "listings.dropna(subset = ['beds', 'bathrooms_text'], inplace=True)\n",
    "listings.drop(columns = 'bedrooms', inplace=True)"
   ]
  },
  {
   "cell_type": "code",
   "execution_count": 217,
   "id": "565f6f3f-06b5-47f3-a3f6-4ce203b017c4",
   "metadata": {},
   "outputs": [
    {
     "data": {
      "text/plain": [
       "longitude                                       0\n",
       "property_type                                   0\n",
       "room_type                                       0\n",
       "accommodates                                    0\n",
       "bathrooms_text                                  0\n",
       "beds                                            0\n",
       "amenities                                       0\n",
       "price                                           0\n",
       "minimum_nights                                  0\n",
       "maximum_nights                                  0\n",
       "minimum_nights_avg_ntm                          0\n",
       "maximum_nights_avg_ntm                          0\n",
       "has_availability                                0\n",
       "availability_30                                 0\n",
       "availability_60                                 0\n",
       "availability_90                                 0\n",
       "availability_365                                0\n",
       "calendar_last_scraped                           0\n",
       "number_of_reviews                               0\n",
       "number_of_reviews_ltm                           0\n",
       "number_of_reviews_l30d                          0\n",
       "first_review                                    0\n",
       "last_review                                     0\n",
       "rating                                          0\n",
       "license                                         0\n",
       "instant_bookable                                0\n",
       "calculated_host_listings_count                  0\n",
       "calculated_host_listings_count_entire_homes     0\n",
       "calculated_host_listings_count_private_rooms    0\n",
       "calculated_host_listings_count_shared_rooms     0\n",
       "reviews_per_month                               0\n",
       "dtype: int64"
      ]
     },
     "execution_count": 217,
     "metadata": {},
     "output_type": "execute_result"
    }
   ],
   "source": [
    "# re-checking columns 20 and up\n",
    "listings.isnull().sum()[20:]"
   ]
  },
  {
   "cell_type": "code",
   "execution_count": 218,
   "id": "0c7b6120-4e10-4c9f-b07f-fda8396bd934",
   "metadata": {},
   "outputs": [
    {
     "data": {
      "text/plain": [
       "(16029, 51)"
      ]
     },
     "execution_count": 218,
     "metadata": {},
     "output_type": "execute_result"
    }
   ],
   "source": [
    "listings.shape"
   ]
  },
  {
   "cell_type": "code",
   "execution_count": 219,
   "id": "38081e41-9c2b-4fc3-ba89-20230562b7b4",
   "metadata": {},
   "outputs": [
    {
     "data": {
      "text/plain": [
       "id                        0\n",
       "listing_url               0\n",
       "scrape_id                 0\n",
       "last_scraped              0\n",
       "name                      0\n",
       "description               8\n",
       "picture_url               0\n",
       "host_id                   0\n",
       "host_url                  0\n",
       "host_name                 2\n",
       "host_since                2\n",
       "host_response_time        0\n",
       "host_response_rate        0\n",
       "host_is_superhost         0\n",
       "host_listings_count       2\n",
       "host_verifications        0\n",
       "host_has_profile_pic      2\n",
       "host_identity_verified    2\n",
       "neighbourhood_cleansed    0\n",
       "latitude                  0\n",
       "dtype: int64"
      ]
     },
     "execution_count": 219,
     "metadata": {},
     "output_type": "execute_result"
    }
   ],
   "source": [
    "listings.isnull().sum()[:20]"
   ]
  },
  {
   "cell_type": "code",
   "execution_count": 220,
   "id": "2538105a-d777-4fb0-a9f8-7d1267a4de05",
   "metadata": {},
   "outputs": [],
   "source": [
    "listings.dropna(subset = 'description', inplace = True)"
   ]
  },
  {
   "cell_type": "code",
   "execution_count": 221,
   "id": "3aca65f0-6494-4567-8f9d-1f6a93644fae",
   "metadata": {},
   "outputs": [
    {
     "data": {
      "text/plain": [
       "t    15942\n",
       "f       77\n",
       "Name: host_has_profile_pic, dtype: int64"
      ]
     },
     "execution_count": 221,
     "metadata": {},
     "output_type": "execute_result"
    }
   ],
   "source": [
    "listings['host_has_profile_pic'].value_counts()"
   ]
  },
  {
   "cell_type": "code",
   "execution_count": 222,
   "id": "b846c29c-e7c8-4681-b479-17fbacdb81ad",
   "metadata": {},
   "outputs": [],
   "source": [
    "listings['host_has_profile_pic'] = listings['host_has_profile_pic'].map(lambda x: 1 if x == 't' else 0)\n",
    "listings['host_identity_verified'] = listings['host_identity_verified'].map(lambda x: 1 if x == 't' else 0)"
   ]
  },
  {
   "cell_type": "code",
   "execution_count": 223,
   "id": "9ac40b45-8ca0-4069-9b79-907ff4c81f49",
   "metadata": {},
   "outputs": [],
   "source": [
    "listings.dropna(subset = 'host_name', inplace=True)"
   ]
  },
  {
   "cell_type": "code",
   "execution_count": 224,
   "id": "1e2aafb2-6aa7-4a9c-8e19-d90047c57089",
   "metadata": {},
   "outputs": [
    {
     "data": {
      "text/plain": [
       "0"
      ]
     },
     "execution_count": 224,
     "metadata": {},
     "output_type": "execute_result"
    }
   ],
   "source": [
    "# double checking null values removed\n",
    "listings.isnull().sum().sum()"
   ]
  },
  {
   "cell_type": "markdown",
   "id": "c475636d-c295-4664-bfdc-8b39d90c7daf",
   "metadata": {},
   "source": [
    "-----\n",
    "#### *Checking data types and renaming columns*"
   ]
  },
  {
   "cell_type": "code",
   "execution_count": 225,
   "id": "15d30545-37be-47c4-a7f2-c0cdbaacca1a",
   "metadata": {},
   "outputs": [
    {
     "data": {
      "text/plain": [
       "id                                                int64\n",
       "listing_url                                      object\n",
       "scrape_id                                         int64\n",
       "last_scraped                                     object\n",
       "name                                             object\n",
       "description                                      object\n",
       "picture_url                                      object\n",
       "host_id                                           int64\n",
       "host_url                                         object\n",
       "host_name                                        object\n",
       "host_since                                       object\n",
       "host_response_time                                int64\n",
       "host_response_rate                              float64\n",
       "host_is_superhost                                 int64\n",
       "host_listings_count                             float64\n",
       "host_verifications                               object\n",
       "host_has_profile_pic                              int64\n",
       "host_identity_verified                            int64\n",
       "neighbourhood_cleansed                           object\n",
       "latitude                                        float64\n",
       "longitude                                       float64\n",
       "property_type                                    object\n",
       "room_type                                        object\n",
       "accommodates                                      int64\n",
       "bathrooms_text                                   object\n",
       "beds                                            float64\n",
       "amenities                                        object\n",
       "price                                            object\n",
       "minimum_nights                                    int64\n",
       "maximum_nights                                    int64\n",
       "minimum_nights_avg_ntm                          float64\n",
       "maximum_nights_avg_ntm                          float64\n",
       "has_availability                                 object\n",
       "availability_30                                   int64\n",
       "availability_60                                   int64\n",
       "availability_90                                   int64\n",
       "availability_365                                  int64\n",
       "calendar_last_scraped                            object\n",
       "number_of_reviews                                 int64\n",
       "number_of_reviews_ltm                             int64\n",
       "number_of_reviews_l30d                            int64\n",
       "first_review                                     object\n",
       "last_review                                      object\n",
       "rating                                          float64\n",
       "license                                           int64\n",
       "instant_bookable                                 object\n",
       "calculated_host_listings_count                    int64\n",
       "calculated_host_listings_count_entire_homes       int64\n",
       "calculated_host_listings_count_private_rooms      int64\n",
       "calculated_host_listings_count_shared_rooms       int64\n",
       "reviews_per_month                               float64\n",
       "dtype: object"
      ]
     },
     "execution_count": 225,
     "metadata": {},
     "output_type": "execute_result"
    }
   ],
   "source": [
    "listings.dtypes"
   ]
  },
  {
   "cell_type": "code",
   "execution_count": 226,
   "id": "af46f27a-5556-40ec-9e35-96d2350770c0",
   "metadata": {},
   "outputs": [],
   "source": [
    "listings.rename(columns = {'neighbourhood_cleansed':'neighborhood'}, inplace = True)"
   ]
  },
  {
   "cell_type": "code",
   "execution_count": 227,
   "id": "ce5bbb45-c46d-4884-a54f-8468ba393c67",
   "metadata": {},
   "outputs": [
    {
     "data": {
      "text/plain": [
       "Belltown               867\n",
       "Broadway               835\n",
       "University District    625\n",
       "Fremont                623\n",
       "Wallingford            572\n",
       "                      ... \n",
       "Holly Park              21\n",
       "Windermere              20\n",
       "Meadowbrook             16\n",
       "Industrial District      4\n",
       "Sand Point               2\n",
       "Name: neighborhood, Length: 89, dtype: int64"
      ]
     },
     "execution_count": 227,
     "metadata": {},
     "output_type": "execute_result"
    }
   ],
   "source": [
    "listings['neighborhood'].value_counts()"
   ]
  },
  {
   "cell_type": "code",
   "execution_count": 228,
   "id": "bbf4fd00-9247-423b-ae6c-fa30d77b8eb9",
   "metadata": {},
   "outputs": [
    {
     "data": {
      "text/plain": [
       "0     2892\n",
       "60     603\n",
       "1      433\n",
       "3      301\n",
       "6      299\n",
       "      ... \n",
       "58     150\n",
       "53     142\n",
       "57     115\n",
       "55     114\n",
       "56     108\n",
       "Name: availability_60, Length: 61, dtype: int64"
      ]
     },
     "execution_count": 228,
     "metadata": {},
     "output_type": "execute_result"
    }
   ],
   "source": [
    "listings['availability_60'].value_counts()"
   ]
  },
  {
   "cell_type": "code",
   "execution_count": 229,
   "id": "f4dd8bb1-aa56-4a90-8d66-9ed38c74d83a",
   "metadata": {},
   "outputs": [],
   "source": [
    "# binarize availability - can see which ones book up well in advance this way\n",
    "listings['has_availability'] = listings['has_availability'].map(lambda x: 1 if x == 't' else 0)\n",
    "listings.rename(columns = {'has_availability': 'available_today'}, inplace=True)\n",
    "listings['availability_30'] = listings['availability_30'].map(lambda x: 0 if x == 0 else 1)\n",
    "listings['availability_60'] = listings['availability_60'].map(lambda x: 0 if x == 0 else 1)\n",
    "listings['availability_90'] = listings['availability_90'].map(lambda x: 0 if x == 0 else 1)\n",
    "listings['availability_365'] = listings['availability_365'].map(lambda x: 0 if x == 0 else 1)"
   ]
  },
  {
   "cell_type": "code",
   "execution_count": 230,
   "id": "c6a02789-6f6f-4eb1-90ef-f5c89e0fd084",
   "metadata": {},
   "outputs": [],
   "source": [
    "# binarize the instanst booking column\n",
    "listings['instant_bookable'] = listings['instant_bookable'].map(lambda x: 1 if x == 't' else 0)"
   ]
  },
  {
   "cell_type": "code",
   "execution_count": 231,
   "id": "6f2ed65b-68fc-41d5-8dd1-0812910cff5e",
   "metadata": {},
   "outputs": [],
   "source": [
    "# change price to float for modeling\n",
    "listings['price'] = [i[1:] for i in listings['price']]"
   ]
  },
  {
   "cell_type": "code",
   "execution_count": 232,
   "id": "fc203e70-78e0-49cd-8d9b-76267ae7eec1",
   "metadata": {
    "tags": []
   },
   "outputs": [
    {
     "data": {
      "text/plain": [
       "dtype('float64')"
      ]
     },
     "execution_count": 232,
     "metadata": {},
     "output_type": "execute_result"
    }
   ],
   "source": [
    "listings['price'] = [float(i[1:]) if len(i[1:]) < 7 else float(i[1:].split(',')[0] + i[1:].split(',')[1]) for i in listings['price']]\n",
    "listings['price'].dtype"
   ]
  },
  {
   "cell_type": "code",
   "execution_count": 233,
   "id": "64ead235-c0c4-42d8-b426-69006d33ed08",
   "metadata": {},
   "outputs": [
    {
     "data": {
      "text/html": [
       "<div>\n",
       "<style scoped>\n",
       "    .dataframe tbody tr th:only-of-type {\n",
       "        vertical-align: middle;\n",
       "    }\n",
       "\n",
       "    .dataframe tbody tr th {\n",
       "        vertical-align: top;\n",
       "    }\n",
       "\n",
       "    .dataframe thead th {\n",
       "        text-align: right;\n",
       "    }\n",
       "</style>\n",
       "<table border=\"1\" class=\"dataframe\">\n",
       "  <thead>\n",
       "    <tr style=\"text-align: right;\">\n",
       "      <th></th>\n",
       "      <th>accommodates</th>\n",
       "      <th>beds</th>\n",
       "    </tr>\n",
       "  </thead>\n",
       "  <tbody>\n",
       "    <tr>\n",
       "      <th>accommodates</th>\n",
       "      <td>1.000000</td>\n",
       "      <td>0.871621</td>\n",
       "    </tr>\n",
       "    <tr>\n",
       "      <th>beds</th>\n",
       "      <td>0.871621</td>\n",
       "      <td>1.000000</td>\n",
       "    </tr>\n",
       "  </tbody>\n",
       "</table>\n",
       "</div>"
      ],
      "text/plain": [
       "              accommodates      beds\n",
       "accommodates      1.000000  0.871621\n",
       "beds              0.871621  1.000000"
      ]
     },
     "execution_count": 233,
     "metadata": {},
     "output_type": "execute_result"
    }
   ],
   "source": [
    "# collinearity between number of beds and accomodates?\n",
    "listings[['accommodates','beds']].corr()"
   ]
  },
  {
   "cell_type": "code",
   "execution_count": 234,
   "id": "64c7ee00-03aa-4004-9d08-b42c0e44126a",
   "metadata": {},
   "outputs": [
    {
     "data": {
      "text/html": [
       "<div>\n",
       "<style scoped>\n",
       "    .dataframe tbody tr th:only-of-type {\n",
       "        vertical-align: middle;\n",
       "    }\n",
       "\n",
       "    .dataframe tbody tr th {\n",
       "        vertical-align: top;\n",
       "    }\n",
       "\n",
       "    .dataframe thead th {\n",
       "        text-align: right;\n",
       "    }\n",
       "</style>\n",
       "<table border=\"1\" class=\"dataframe\">\n",
       "  <thead>\n",
       "    <tr style=\"text-align: right;\">\n",
       "      <th></th>\n",
       "      <th>host_listings_count</th>\n",
       "      <th>calculated_host_listings_count</th>\n",
       "      <th>calculated_host_listings_count_entire_homes</th>\n",
       "      <th>calculated_host_listings_count_private_rooms</th>\n",
       "      <th>calculated_host_listings_count_shared_rooms</th>\n",
       "    </tr>\n",
       "  </thead>\n",
       "  <tbody>\n",
       "    <tr>\n",
       "      <th>0</th>\n",
       "      <td>2.0</td>\n",
       "      <td>1</td>\n",
       "      <td>1</td>\n",
       "      <td>0</td>\n",
       "      <td>0</td>\n",
       "    </tr>\n",
       "    <tr>\n",
       "      <th>1</th>\n",
       "      <td>5.0</td>\n",
       "      <td>1</td>\n",
       "      <td>1</td>\n",
       "      <td>0</td>\n",
       "      <td>0</td>\n",
       "    </tr>\n",
       "    <tr>\n",
       "      <th>2</th>\n",
       "      <td>9.0</td>\n",
       "      <td>9</td>\n",
       "      <td>0</td>\n",
       "      <td>9</td>\n",
       "      <td>0</td>\n",
       "    </tr>\n",
       "    <tr>\n",
       "      <th>3</th>\n",
       "      <td>0.0</td>\n",
       "      <td>2</td>\n",
       "      <td>2</td>\n",
       "      <td>0</td>\n",
       "      <td>0</td>\n",
       "    </tr>\n",
       "    <tr>\n",
       "      <th>4</th>\n",
       "      <td>0.0</td>\n",
       "      <td>2</td>\n",
       "      <td>2</td>\n",
       "      <td>0</td>\n",
       "      <td>0</td>\n",
       "    </tr>\n",
       "    <tr>\n",
       "      <th>...</th>\n",
       "      <td>...</td>\n",
       "      <td>...</td>\n",
       "      <td>...</td>\n",
       "      <td>...</td>\n",
       "      <td>...</td>\n",
       "    </tr>\n",
       "    <tr>\n",
       "      <th>5350</th>\n",
       "      <td>1.0</td>\n",
       "      <td>1</td>\n",
       "      <td>1</td>\n",
       "      <td>0</td>\n",
       "      <td>0</td>\n",
       "    </tr>\n",
       "    <tr>\n",
       "      <th>5351</th>\n",
       "      <td>2.0</td>\n",
       "      <td>1</td>\n",
       "      <td>1</td>\n",
       "      <td>0</td>\n",
       "      <td>0</td>\n",
       "    </tr>\n",
       "    <tr>\n",
       "      <th>5352</th>\n",
       "      <td>1.0</td>\n",
       "      <td>1</td>\n",
       "      <td>1</td>\n",
       "      <td>0</td>\n",
       "      <td>0</td>\n",
       "    </tr>\n",
       "    <tr>\n",
       "      <th>5353</th>\n",
       "      <td>1.0</td>\n",
       "      <td>1</td>\n",
       "      <td>1</td>\n",
       "      <td>0</td>\n",
       "      <td>0</td>\n",
       "    </tr>\n",
       "    <tr>\n",
       "      <th>5354</th>\n",
       "      <td>0.0</td>\n",
       "      <td>1</td>\n",
       "      <td>1</td>\n",
       "      <td>0</td>\n",
       "      <td>0</td>\n",
       "    </tr>\n",
       "  </tbody>\n",
       "</table>\n",
       "<p>16019 rows × 5 columns</p>\n",
       "</div>"
      ],
      "text/plain": [
       "      host_listings_count  calculated_host_listings_count  \\\n",
       "0                     2.0                               1   \n",
       "1                     5.0                               1   \n",
       "2                     9.0                               9   \n",
       "3                     0.0                               2   \n",
       "4                     0.0                               2   \n",
       "...                   ...                             ...   \n",
       "5350                  1.0                               1   \n",
       "5351                  2.0                               1   \n",
       "5352                  1.0                               1   \n",
       "5353                  1.0                               1   \n",
       "5354                  0.0                               1   \n",
       "\n",
       "      calculated_host_listings_count_entire_homes  \\\n",
       "0                                               1   \n",
       "1                                               1   \n",
       "2                                               0   \n",
       "3                                               2   \n",
       "4                                               2   \n",
       "...                                           ...   \n",
       "5350                                            1   \n",
       "5351                                            1   \n",
       "5352                                            1   \n",
       "5353                                            1   \n",
       "5354                                            1   \n",
       "\n",
       "      calculated_host_listings_count_private_rooms  \\\n",
       "0                                                0   \n",
       "1                                                0   \n",
       "2                                                9   \n",
       "3                                                0   \n",
       "4                                                0   \n",
       "...                                            ...   \n",
       "5350                                             0   \n",
       "5351                                             0   \n",
       "5352                                             0   \n",
       "5353                                             0   \n",
       "5354                                             0   \n",
       "\n",
       "      calculated_host_listings_count_shared_rooms  \n",
       "0                                               0  \n",
       "1                                               0  \n",
       "2                                               0  \n",
       "3                                               0  \n",
       "4                                               0  \n",
       "...                                           ...  \n",
       "5350                                            0  \n",
       "5351                                            0  \n",
       "5352                                            0  \n",
       "5353                                            0  \n",
       "5354                                            0  \n",
       "\n",
       "[16019 rows x 5 columns]"
      ]
     },
     "execution_count": 234,
     "metadata": {},
     "output_type": "execute_result"
    }
   ],
   "source": [
    "# Check out calculated host listings count for overlap\n",
    "listings[['host_listings_count','calculated_host_listings_count','calculated_host_listings_count_entire_homes','calculated_host_listings_count_private_rooms','calculated_host_listings_count_shared_rooms']]"
   ]
  },
  {
   "cell_type": "code",
   "execution_count": 235,
   "id": "2c258e20-2b42-4567-9999-69c4abab3964",
   "metadata": {},
   "outputs": [
    {
     "data": {
      "text/plain": [
       "0     15872\n",
       "23       52\n",
       "1        24\n",
       "26       24\n",
       "4        16\n",
       "12       11\n",
       "2        10\n",
       "18       10\n",
       "Name: calculated_host_listings_count_shared_rooms, dtype: int64"
      ]
     },
     "execution_count": 235,
     "metadata": {},
     "output_type": "execute_result"
    }
   ],
   "source": [
    "listings['calculated_host_listings_count_shared_rooms'].value_counts()"
   ]
  },
  {
   "cell_type": "code",
   "execution_count": 236,
   "id": "f5025d3c-d065-4232-bd23-e9c4da029549",
   "metadata": {},
   "outputs": [],
   "source": [
    "listings.rename(columns = {'host_listings_count':'abnb_host_listings_count'}, inplace=True)"
   ]
  },
  {
   "cell_type": "code",
   "execution_count": 237,
   "id": "2ba59879-6658-4cb8-a624-2987ba6c2ee9",
   "metadata": {},
   "outputs": [
    {
     "data": {
      "text/plain": [
       "0         2.5 baths\n",
       "1            1 bath\n",
       "2    3 shared baths\n",
       "3            1 bath\n",
       "4            1 bath\n",
       "5            1 bath\n",
       "6    2 shared baths\n",
       "7    2 shared baths\n",
       "8            1 bath\n",
       "9            1 bath\n",
       "Name: bathrooms_text, dtype: object"
      ]
     },
     "execution_count": 237,
     "metadata": {},
     "output_type": "execute_result"
    }
   ],
   "source": [
    "# Update bathrooms_text to int - pick out number\n",
    "# add additional column indicating whether shared bath or not\n",
    "listings['bathrooms_text'].head(10)"
   ]
  },
  {
   "cell_type": "code",
   "execution_count": 238,
   "id": "31aa5a44-c0e1-4563-9ae5-7a8316d4ddc3",
   "metadata": {},
   "outputs": [
    {
     "data": {
      "text/plain": [
       "1            11583\n",
       "2             2019\n",
       "1.5            845\n",
       "2.5            702\n",
       "3              458\n",
       "3.5            276\n",
       "4               54\n",
       "0               26\n",
       "Half-bath       19\n",
       "4.5             11\n",
       "6               10\n",
       "Shared           7\n",
       "16               4\n",
       "Private          3\n",
       "5                2\n",
       "dtype: int64"
      ]
     },
     "execution_count": 238,
     "metadata": {},
     "output_type": "execute_result"
    }
   ],
   "source": [
    "# checking possible values of bathroom text\n",
    "new_df = pd.DataFrame([(i.split(' ')[0]) for i in listings['bathrooms_text']])\n",
    "new_df.value_counts()"
   ]
  },
  {
   "cell_type": "code",
   "execution_count": 239,
   "id": "b4770446-8c38-4176-adb6-02f61da9696e",
   "metadata": {},
   "outputs": [],
   "source": [
    "listings['bathrooms'] = [float(i.split(' ')[0]) if len(i.split(' ')[0]) <= 3 else 1.0 if i.split(' ')[0] == 'Shared' or i.split(' ')[0] == 'Private' else 0.5 for i in listings['bathrooms_text']]"
   ]
  },
  {
   "cell_type": "code",
   "execution_count": 240,
   "id": "02d8fc0f-2af8-4a52-a6e6-6dc35600eea2",
   "metadata": {},
   "outputs": [
    {
     "data": {
      "text/html": [
       "<div>\n",
       "<style scoped>\n",
       "    .dataframe tbody tr th:only-of-type {\n",
       "        vertical-align: middle;\n",
       "    }\n",
       "\n",
       "    .dataframe tbody tr th {\n",
       "        vertical-align: top;\n",
       "    }\n",
       "\n",
       "    .dataframe thead th {\n",
       "        text-align: right;\n",
       "    }\n",
       "</style>\n",
       "<table border=\"1\" class=\"dataframe\">\n",
       "  <thead>\n",
       "    <tr style=\"text-align: right;\">\n",
       "      <th></th>\n",
       "      <th>bathrooms_text</th>\n",
       "      <th>bathrooms</th>\n",
       "    </tr>\n",
       "  </thead>\n",
       "  <tbody>\n",
       "    <tr>\n",
       "      <th>0</th>\n",
       "      <td>2.5 baths</td>\n",
       "      <td>2.5</td>\n",
       "    </tr>\n",
       "    <tr>\n",
       "      <th>1</th>\n",
       "      <td>1 bath</td>\n",
       "      <td>1.0</td>\n",
       "    </tr>\n",
       "    <tr>\n",
       "      <th>2</th>\n",
       "      <td>3 shared baths</td>\n",
       "      <td>3.0</td>\n",
       "    </tr>\n",
       "    <tr>\n",
       "      <th>3</th>\n",
       "      <td>1 bath</td>\n",
       "      <td>1.0</td>\n",
       "    </tr>\n",
       "    <tr>\n",
       "      <th>4</th>\n",
       "      <td>1 bath</td>\n",
       "      <td>1.0</td>\n",
       "    </tr>\n",
       "    <tr>\n",
       "      <th>5</th>\n",
       "      <td>1 bath</td>\n",
       "      <td>1.0</td>\n",
       "    </tr>\n",
       "    <tr>\n",
       "      <th>6</th>\n",
       "      <td>2 shared baths</td>\n",
       "      <td>2.0</td>\n",
       "    </tr>\n",
       "    <tr>\n",
       "      <th>7</th>\n",
       "      <td>2 shared baths</td>\n",
       "      <td>2.0</td>\n",
       "    </tr>\n",
       "    <tr>\n",
       "      <th>8</th>\n",
       "      <td>1 bath</td>\n",
       "      <td>1.0</td>\n",
       "    </tr>\n",
       "    <tr>\n",
       "      <th>9</th>\n",
       "      <td>1 bath</td>\n",
       "      <td>1.0</td>\n",
       "    </tr>\n",
       "    <tr>\n",
       "      <th>10</th>\n",
       "      <td>1 bath</td>\n",
       "      <td>1.0</td>\n",
       "    </tr>\n",
       "    <tr>\n",
       "      <th>12</th>\n",
       "      <td>1 bath</td>\n",
       "      <td>1.0</td>\n",
       "    </tr>\n",
       "    <tr>\n",
       "      <th>13</th>\n",
       "      <td>1 private bath</td>\n",
       "      <td>1.0</td>\n",
       "    </tr>\n",
       "    <tr>\n",
       "      <th>14</th>\n",
       "      <td>1 bath</td>\n",
       "      <td>1.0</td>\n",
       "    </tr>\n",
       "    <tr>\n",
       "      <th>15</th>\n",
       "      <td>1 bath</td>\n",
       "      <td>1.0</td>\n",
       "    </tr>\n",
       "  </tbody>\n",
       "</table>\n",
       "</div>"
      ],
      "text/plain": [
       "    bathrooms_text  bathrooms\n",
       "0        2.5 baths        2.5\n",
       "1           1 bath        1.0\n",
       "2   3 shared baths        3.0\n",
       "3           1 bath        1.0\n",
       "4           1 bath        1.0\n",
       "5           1 bath        1.0\n",
       "6   2 shared baths        2.0\n",
       "7   2 shared baths        2.0\n",
       "8           1 bath        1.0\n",
       "9           1 bath        1.0\n",
       "10          1 bath        1.0\n",
       "12          1 bath        1.0\n",
       "13  1 private bath        1.0\n",
       "14          1 bath        1.0\n",
       "15          1 bath        1.0"
      ]
     },
     "execution_count": 240,
     "metadata": {},
     "output_type": "execute_result"
    }
   ],
   "source": [
    "# verifying that changes have been reflected (column of floats)\n",
    "listings[['bathrooms_text','bathrooms']].head(15)"
   ]
  },
  {
   "cell_type": "code",
   "execution_count": 241,
   "id": "58e40c5f-7462-4720-9a10-57c176f12dd9",
   "metadata": {},
   "outputs": [],
   "source": [
    "# add binarized column of shared bathroom or not\n",
    "listings['bathrooms_shared'] = [1 if 'shared' in i else 0 for i in listings['bathrooms_text']]"
   ]
  },
  {
   "cell_type": "code",
   "execution_count": 242,
   "id": "59b4f701-1ca1-4efd-9852-7a2b4047ba93",
   "metadata": {},
   "outputs": [
    {
     "data": {
      "text/html": [
       "<div>\n",
       "<style scoped>\n",
       "    .dataframe tbody tr th:only-of-type {\n",
       "        vertical-align: middle;\n",
       "    }\n",
       "\n",
       "    .dataframe tbody tr th {\n",
       "        vertical-align: top;\n",
       "    }\n",
       "\n",
       "    .dataframe thead th {\n",
       "        text-align: right;\n",
       "    }\n",
       "</style>\n",
       "<table border=\"1\" class=\"dataframe\">\n",
       "  <thead>\n",
       "    <tr style=\"text-align: right;\">\n",
       "      <th></th>\n",
       "      <th>bathrooms_text</th>\n",
       "      <th>bathrooms_shared</th>\n",
       "    </tr>\n",
       "  </thead>\n",
       "  <tbody>\n",
       "    <tr>\n",
       "      <th>0</th>\n",
       "      <td>2.5 baths</td>\n",
       "      <td>0</td>\n",
       "    </tr>\n",
       "    <tr>\n",
       "      <th>1</th>\n",
       "      <td>1 bath</td>\n",
       "      <td>0</td>\n",
       "    </tr>\n",
       "    <tr>\n",
       "      <th>2</th>\n",
       "      <td>3 shared baths</td>\n",
       "      <td>1</td>\n",
       "    </tr>\n",
       "    <tr>\n",
       "      <th>3</th>\n",
       "      <td>1 bath</td>\n",
       "      <td>0</td>\n",
       "    </tr>\n",
       "    <tr>\n",
       "      <th>4</th>\n",
       "      <td>1 bath</td>\n",
       "      <td>0</td>\n",
       "    </tr>\n",
       "    <tr>\n",
       "      <th>5</th>\n",
       "      <td>1 bath</td>\n",
       "      <td>0</td>\n",
       "    </tr>\n",
       "    <tr>\n",
       "      <th>6</th>\n",
       "      <td>2 shared baths</td>\n",
       "      <td>1</td>\n",
       "    </tr>\n",
       "    <tr>\n",
       "      <th>7</th>\n",
       "      <td>2 shared baths</td>\n",
       "      <td>1</td>\n",
       "    </tr>\n",
       "    <tr>\n",
       "      <th>8</th>\n",
       "      <td>1 bath</td>\n",
       "      <td>0</td>\n",
       "    </tr>\n",
       "    <tr>\n",
       "      <th>9</th>\n",
       "      <td>1 bath</td>\n",
       "      <td>0</td>\n",
       "    </tr>\n",
       "  </tbody>\n",
       "</table>\n",
       "</div>"
      ],
      "text/plain": [
       "   bathrooms_text  bathrooms_shared\n",
       "0       2.5 baths                 0\n",
       "1          1 bath                 0\n",
       "2  3 shared baths                 1\n",
       "3          1 bath                 0\n",
       "4          1 bath                 0\n",
       "5          1 bath                 0\n",
       "6  2 shared baths                 1\n",
       "7  2 shared baths                 1\n",
       "8          1 bath                 0\n",
       "9          1 bath                 0"
      ]
     },
     "execution_count": 242,
     "metadata": {},
     "output_type": "execute_result"
    }
   ],
   "source": [
    "# verifying that changes have been reflected (column of floats)\n",
    "listings[['bathrooms_text','bathrooms_shared']].head(10)"
   ]
  },
  {
   "cell_type": "code",
   "execution_count": 243,
   "id": "92c7eb8c-8d44-40d5-9425-3f77829cc3cc",
   "metadata": {},
   "outputs": [],
   "source": [
    "# get rid of the bathrooms text column\n",
    "listings.drop(columns = 'bathrooms_text', inplace=True)"
   ]
  },
  {
   "cell_type": "code",
   "execution_count": 244,
   "id": "853f8af0-5a2e-4465-a7bd-62736c507cc8",
   "metadata": {},
   "outputs": [
    {
     "data": {
      "text/html": [
       "<div>\n",
       "<style scoped>\n",
       "    .dataframe tbody tr th:only-of-type {\n",
       "        vertical-align: middle;\n",
       "    }\n",
       "\n",
       "    .dataframe tbody tr th {\n",
       "        vertical-align: top;\n",
       "    }\n",
       "\n",
       "    .dataframe thead th {\n",
       "        text-align: right;\n",
       "    }\n",
       "</style>\n",
       "<table border=\"1\" class=\"dataframe\">\n",
       "  <thead>\n",
       "    <tr style=\"text-align: right;\">\n",
       "      <th></th>\n",
       "      <th>amenities</th>\n",
       "      <th>amenities_count</th>\n",
       "    </tr>\n",
       "  </thead>\n",
       "  <tbody>\n",
       "    <tr>\n",
       "      <th>0</th>\n",
       "      <td>[\"Free parking on premises\", \"Coffee maker\", \"...</td>\n",
       "      <td>36</td>\n",
       "    </tr>\n",
       "    <tr>\n",
       "      <th>1</th>\n",
       "      <td>[\"Free parking on premises\", \"Coffee maker\", \"...</td>\n",
       "      <td>24</td>\n",
       "    </tr>\n",
       "    <tr>\n",
       "      <th>2</th>\n",
       "      <td>[\"Free parking on premises\", \"Coffee maker\", \"...</td>\n",
       "      <td>33</td>\n",
       "    </tr>\n",
       "  </tbody>\n",
       "</table>\n",
       "</div>"
      ],
      "text/plain": [
       "                                           amenities  amenities_count\n",
       "0  [\"Free parking on premises\", \"Coffee maker\", \"...               36\n",
       "1  [\"Free parking on premises\", \"Coffee maker\", \"...               24\n",
       "2  [\"Free parking on premises\", \"Coffee maker\", \"...               33"
      ]
     },
     "execution_count": 244,
     "metadata": {},
     "output_type": "execute_result"
    }
   ],
   "source": [
    "# adding column that counts the amenities\n",
    "listings['amenities_count'] = [len(listings['amenities'].iloc[n].split(', ')) for n in range(0, len(listings['amenities']))]\n",
    "\n",
    "# double checking results\n",
    "listings[['amenities', 'amenities_count']].head(3)"
   ]
  },
  {
   "cell_type": "code",
   "execution_count": 245,
   "id": "34071f7c-1cbe-443d-ab65-bf806ee5a22d",
   "metadata": {},
   "outputs": [
    {
     "data": {
      "text/plain": [
       "0    ['email', 'phone', 'reviews', 'jumio', 'offlin...\n",
       "1     ['email', 'phone', 'facebook', 'reviews', 'kba']\n",
       "2    ['email', 'phone', 'reviews', 'jumio', 'offlin...\n",
       "3    ['email', 'phone', 'reviews', 'offline_governm...\n",
       "4    ['email', 'phone', 'reviews', 'offline_governm...\n",
       "Name: host_verifications, dtype: object"
      ]
     },
     "execution_count": 245,
     "metadata": {},
     "output_type": "execute_result"
    }
   ],
   "source": [
    "# doing the same for host verifications\n",
    "listings['host_verifications'].head()"
   ]
  },
  {
   "cell_type": "code",
   "execution_count": 246,
   "id": "f711aea7-3c6f-4eb6-aea5-0667243e3817",
   "metadata": {},
   "outputs": [
    {
     "data": {
      "text/html": [
       "<div>\n",
       "<style scoped>\n",
       "    .dataframe tbody tr th:only-of-type {\n",
       "        vertical-align: middle;\n",
       "    }\n",
       "\n",
       "    .dataframe tbody tr th {\n",
       "        vertical-align: top;\n",
       "    }\n",
       "\n",
       "    .dataframe thead th {\n",
       "        text-align: right;\n",
       "    }\n",
       "</style>\n",
       "<table border=\"1\" class=\"dataframe\">\n",
       "  <thead>\n",
       "    <tr style=\"text-align: right;\">\n",
       "      <th></th>\n",
       "      <th>host_verifications</th>\n",
       "      <th>host_verifications_count</th>\n",
       "    </tr>\n",
       "  </thead>\n",
       "  <tbody>\n",
       "    <tr>\n",
       "      <th>0</th>\n",
       "      <td>['email', 'phone', 'reviews', 'jumio', 'offlin...</td>\n",
       "      <td>8</td>\n",
       "    </tr>\n",
       "    <tr>\n",
       "      <th>1</th>\n",
       "      <td>['email', 'phone', 'facebook', 'reviews', 'kba']</td>\n",
       "      <td>5</td>\n",
       "    </tr>\n",
       "    <tr>\n",
       "      <th>2</th>\n",
       "      <td>['email', 'phone', 'reviews', 'jumio', 'offlin...</td>\n",
       "      <td>6</td>\n",
       "    </tr>\n",
       "  </tbody>\n",
       "</table>\n",
       "</div>"
      ],
      "text/plain": [
       "                                  host_verifications  host_verifications_count\n",
       "0  ['email', 'phone', 'reviews', 'jumio', 'offlin...                         8\n",
       "1   ['email', 'phone', 'facebook', 'reviews', 'kba']                         5\n",
       "2  ['email', 'phone', 'reviews', 'jumio', 'offlin...                         6"
      ]
     },
     "execution_count": 246,
     "metadata": {},
     "output_type": "execute_result"
    }
   ],
   "source": [
    "# adding column that counts the verifications\n",
    "listings['host_verifications_count'] = [len(listings['host_verifications'].iloc[n].split(', ')) for n in range(0, len(listings['host_verifications']))]\n",
    "\n",
    "# double checking results\n",
    "listings[['host_verifications', 'host_verifications_count']].head(3)"
   ]
  },
  {
   "cell_type": "code",
   "execution_count": 247,
   "id": "178f951f-efe7-4c44-aa77-0b23125b6b7c",
   "metadata": {},
   "outputs": [
    {
     "data": {
      "text/plain": [
       "Entire home/apt    13384\n",
       "Private room        2571\n",
       "Shared room           64\n",
       "Name: room_type, dtype: int64"
      ]
     },
     "execution_count": 247,
     "metadata": {},
     "output_type": "execute_result"
    }
   ],
   "source": [
    "# adding column that indicates shared or private type of stay\n",
    "listings['room_type'].value_counts()"
   ]
  },
  {
   "cell_type": "code",
   "execution_count": 248,
   "id": "b1d93f24-4a60-4674-9927-c16ee75a5b6b",
   "metadata": {
    "tags": []
   },
   "outputs": [
    {
     "data": {
      "text/html": [
       "<div>\n",
       "<style scoped>\n",
       "    .dataframe tbody tr th:only-of-type {\n",
       "        vertical-align: middle;\n",
       "    }\n",
       "\n",
       "    .dataframe tbody tr th {\n",
       "        vertical-align: top;\n",
       "    }\n",
       "\n",
       "    .dataframe thead th {\n",
       "        text-align: right;\n",
       "    }\n",
       "</style>\n",
       "<table border=\"1\" class=\"dataframe\">\n",
       "  <thead>\n",
       "    <tr style=\"text-align: right;\">\n",
       "      <th></th>\n",
       "      <th>room_type</th>\n",
       "      <th>private_listing</th>\n",
       "    </tr>\n",
       "  </thead>\n",
       "  <tbody>\n",
       "    <tr>\n",
       "      <th>0</th>\n",
       "      <td>Entire home/apt</td>\n",
       "      <td>1</td>\n",
       "    </tr>\n",
       "    <tr>\n",
       "      <th>1</th>\n",
       "      <td>Entire home/apt</td>\n",
       "      <td>1</td>\n",
       "    </tr>\n",
       "    <tr>\n",
       "      <th>2</th>\n",
       "      <td>Private room</td>\n",
       "      <td>0</td>\n",
       "    </tr>\n",
       "    <tr>\n",
       "      <th>3</th>\n",
       "      <td>Entire home/apt</td>\n",
       "      <td>1</td>\n",
       "    </tr>\n",
       "    <tr>\n",
       "      <th>4</th>\n",
       "      <td>Entire home/apt</td>\n",
       "      <td>1</td>\n",
       "    </tr>\n",
       "    <tr>\n",
       "      <th>...</th>\n",
       "      <td>...</td>\n",
       "      <td>...</td>\n",
       "    </tr>\n",
       "    <tr>\n",
       "      <th>5350</th>\n",
       "      <td>Entire home/apt</td>\n",
       "      <td>1</td>\n",
       "    </tr>\n",
       "    <tr>\n",
       "      <th>5351</th>\n",
       "      <td>Entire home/apt</td>\n",
       "      <td>1</td>\n",
       "    </tr>\n",
       "    <tr>\n",
       "      <th>5352</th>\n",
       "      <td>Entire home/apt</td>\n",
       "      <td>1</td>\n",
       "    </tr>\n",
       "    <tr>\n",
       "      <th>5353</th>\n",
       "      <td>Entire home/apt</td>\n",
       "      <td>1</td>\n",
       "    </tr>\n",
       "    <tr>\n",
       "      <th>5354</th>\n",
       "      <td>Entire home/apt</td>\n",
       "      <td>1</td>\n",
       "    </tr>\n",
       "  </tbody>\n",
       "</table>\n",
       "<p>16019 rows × 2 columns</p>\n",
       "</div>"
      ],
      "text/plain": [
       "            room_type  private_listing\n",
       "0     Entire home/apt                1\n",
       "1     Entire home/apt                1\n",
       "2        Private room                0\n",
       "3     Entire home/apt                1\n",
       "4     Entire home/apt                1\n",
       "...               ...              ...\n",
       "5350  Entire home/apt                1\n",
       "5351  Entire home/apt                1\n",
       "5352  Entire home/apt                1\n",
       "5353  Entire home/apt                1\n",
       "5354  Entire home/apt                1\n",
       "\n",
       "[16019 rows x 2 columns]"
      ]
     },
     "execution_count": 248,
     "metadata": {},
     "output_type": "execute_result"
    }
   ],
   "source": [
    "# adding columns for privacy - note private room is under shared as you would be sharing common areas with others\n",
    "listings['private_listing'] = [1 if (i == 'Entire home/apt' or i == 'Hotel room') else 0 for i in listings['room_type']]\n",
    "listings[['room_type','private_listing']]"
   ]
  },
  {
   "cell_type": "markdown",
   "id": "7fddea6f-e197-48b5-9391-17ca8a703a68",
   "metadata": {},
   "source": [
    "-----\n",
    "#### *Checking for incorrect negative values and/or erroneous data*"
   ]
  },
  {
   "cell_type": "code",
   "execution_count": 249,
   "id": "20fc92fb-526a-4522-a2c9-6027145f8021",
   "metadata": {},
   "outputs": [
    {
     "data": {
      "text/html": [
       "<div>\n",
       "<style scoped>\n",
       "    .dataframe tbody tr th:only-of-type {\n",
       "        vertical-align: middle;\n",
       "    }\n",
       "\n",
       "    .dataframe tbody tr th {\n",
       "        vertical-align: top;\n",
       "    }\n",
       "\n",
       "    .dataframe thead th {\n",
       "        text-align: right;\n",
       "    }\n",
       "</style>\n",
       "<table border=\"1\" class=\"dataframe\">\n",
       "  <thead>\n",
       "    <tr style=\"text-align: right;\">\n",
       "      <th></th>\n",
       "      <th>dtype</th>\n",
       "    </tr>\n",
       "  </thead>\n",
       "  <tbody>\n",
       "    <tr>\n",
       "      <th>id</th>\n",
       "      <td>int64</td>\n",
       "    </tr>\n",
       "    <tr>\n",
       "      <th>scrape_id</th>\n",
       "      <td>int64</td>\n",
       "    </tr>\n",
       "    <tr>\n",
       "      <th>host_id</th>\n",
       "      <td>int64</td>\n",
       "    </tr>\n",
       "    <tr>\n",
       "      <th>host_response_time</th>\n",
       "      <td>int64</td>\n",
       "    </tr>\n",
       "    <tr>\n",
       "      <th>host_response_rate</th>\n",
       "      <td>float64</td>\n",
       "    </tr>\n",
       "    <tr>\n",
       "      <th>host_is_superhost</th>\n",
       "      <td>int64</td>\n",
       "    </tr>\n",
       "    <tr>\n",
       "      <th>abnb_host_listings_count</th>\n",
       "      <td>float64</td>\n",
       "    </tr>\n",
       "    <tr>\n",
       "      <th>host_has_profile_pic</th>\n",
       "      <td>int64</td>\n",
       "    </tr>\n",
       "    <tr>\n",
       "      <th>host_identity_verified</th>\n",
       "      <td>int64</td>\n",
       "    </tr>\n",
       "    <tr>\n",
       "      <th>latitude</th>\n",
       "      <td>float64</td>\n",
       "    </tr>\n",
       "  </tbody>\n",
       "</table>\n",
       "</div>"
      ],
      "text/plain": [
       "                            dtype\n",
       "id                          int64\n",
       "scrape_id                   int64\n",
       "host_id                     int64\n",
       "host_response_time          int64\n",
       "host_response_rate        float64\n",
       "host_is_superhost           int64\n",
       "abnb_host_listings_count  float64\n",
       "host_has_profile_pic        int64\n",
       "host_identity_verified      int64\n",
       "latitude                  float64"
      ]
     },
     "execution_count": 249,
     "metadata": {},
     "output_type": "execute_result"
    }
   ],
   "source": [
    "# creating a data frame of each column\n",
    "dtype_df = pd.DataFrame(data = listings.dtypes)\n",
    "dtype_df.rename(columns = {0: 'dtype'}, inplace=True)\n",
    "\n",
    "# slicing that data frame to only include int or float (numerical columns)\n",
    "numerical_cols = dtype_df[(dtype_df['dtype'] == 'int64') | (dtype_df['dtype'] == 'float64')]\n",
    "numerical_cols.head(10)"
   ]
  },
  {
   "cell_type": "code",
   "execution_count": 250,
   "id": "90b291d5-19c9-4f3a-b971-edb78647860f",
   "metadata": {},
   "outputs": [],
   "source": [
    "# Look for negatives that shouldn’t be negative (price, beds, bathrooms, etc.) \n",
    "def neg_check(df):\n",
    "    '''\n",
    "    this function iterates through each numerical column\n",
    "    and checks if any of the values are negative\n",
    "    the function would print out column names with a negative occurrence\n",
    "    '''\n",
    "    for i in df.index:\n",
    "        if listings[listings[i] < 0].shape[0] != 0:\n",
    "            print(i)"
   ]
  },
  {
   "cell_type": "code",
   "execution_count": 251,
   "id": "2988a53b-01c3-41a3-a366-6de906143fcb",
   "metadata": {},
   "outputs": [
    {
     "name": "stdout",
     "output_type": "stream",
     "text": [
      "longitude\n"
     ]
    }
   ],
   "source": [
    "# running the function on numerical columns\n",
    "neg_check(numerical_cols)"
   ]
  },
  {
   "cell_type": "markdown",
   "id": "91f92692-f667-46d9-b6af-4f0d7e763243",
   "metadata": {},
   "source": [
    "*Makes sense to have negative longitudes as we're focused on Seattle"
   ]
  },
  {
   "cell_type": "code",
   "execution_count": 252,
   "id": "98c1ad5b-6279-4657-a78a-1c5b80b256b8",
   "metadata": {},
   "outputs": [
    {
     "data": {
      "text/plain": [
       "Index(['id', 'listing_url', 'scrape_id', 'last_scraped', 'name', 'description',\n",
       "       'picture_url', 'host_id', 'host_url', 'host_name', 'host_since',\n",
       "       'host_response_time', 'host_response_rate', 'host_is_superhost',\n",
       "       'abnb_host_listings_count', 'host_verifications',\n",
       "       'host_has_profile_pic', 'host_identity_verified', 'neighborhood',\n",
       "       'latitude', 'longitude', 'property_type', 'room_type', 'accommodates',\n",
       "       'beds', 'amenities', 'price', 'minimum_nights', 'maximum_nights',\n",
       "       'minimum_nights_avg_ntm', 'maximum_nights_avg_ntm', 'available_today',\n",
       "       'availability_30', 'availability_60', 'availability_90',\n",
       "       'availability_365', 'calendar_last_scraped', 'number_of_reviews',\n",
       "       'number_of_reviews_ltm', 'number_of_reviews_l30d', 'first_review',\n",
       "       'last_review', 'rating', 'license', 'instant_bookable',\n",
       "       'calculated_host_listings_count',\n",
       "       'calculated_host_listings_count_entire_homes',\n",
       "       'calculated_host_listings_count_private_rooms',\n",
       "       'calculated_host_listings_count_shared_rooms', 'reviews_per_month',\n",
       "       'bathrooms', 'bathrooms_shared', 'amenities_count',\n",
       "       'host_verifications_count', 'private_listing'],\n",
       "      dtype='object')"
      ]
     },
     "execution_count": 252,
     "metadata": {},
     "output_type": "execute_result"
    }
   ],
   "source": [
    "# get rid of the remaining url columns and scrape id - won't be used in analysis\n",
    "listings.columns"
   ]
  },
  {
   "cell_type": "code",
   "execution_count": 253,
   "id": "ab95002c-d1b3-48ae-979f-ab94b5cbefaa",
   "metadata": {},
   "outputs": [
    {
     "name": "stdout",
     "output_type": "stream",
     "text": [
      "(16019, 55)\n"
     ]
    }
   ],
   "source": [
    "print(listings.shape)\n",
    "listings.drop(columns = ['listing_url', 'scrape_id', 'picture_url', 'host_url'], inplace=True)"
   ]
  },
  {
   "cell_type": "code",
   "execution_count": 254,
   "id": "56d7c427-6745-4af6-b845-529b0cdf649f",
   "metadata": {},
   "outputs": [
    {
     "data": {
      "text/plain": [
       "(16019, 51)"
      ]
     },
     "execution_count": 254,
     "metadata": {},
     "output_type": "execute_result"
    }
   ],
   "source": [
    "listings.shape"
   ]
  },
  {
   "cell_type": "markdown",
   "id": "1e67323a-e7d3-4805-9986-5f89187df074",
   "metadata": {},
   "source": [
    "----\n",
    "## Setting up Target Variable for Classification"
   ]
  },
  {
   "cell_type": "code",
   "execution_count": 255,
   "id": "753aee29-47f8-4a7c-a457-f2977a816ea9",
   "metadata": {},
   "outputs": [
    {
     "data": {
      "text/plain": [
       "count    16019.000000\n",
       "mean         4.771775\n",
       "std          0.401491\n",
       "min          0.000000\n",
       "25%          4.740000\n",
       "50%          4.880000\n",
       "75%          4.970000\n",
       "max          5.000000\n",
       "Name: rating, dtype: float64"
      ]
     },
     "execution_count": 255,
     "metadata": {},
     "output_type": "execute_result"
    }
   ],
   "source": [
    "listings['rating'].describe()"
   ]
  },
  {
   "cell_type": "code",
   "execution_count": 256,
   "id": "0224f2f2-889f-4098-8706-862384ccca3b",
   "metadata": {},
   "outputs": [
    {
     "data": {
      "text/plain": [
       "[(4.88, 4.97], (-0.001, 4.74], (4.97, 5.0], (4.74, 4.88]]\n",
       "Categories (4, interval[float64, right]): [(-0.001, 4.74] < (4.74, 4.88] < (4.88, 4.97] < (4.97, 5.0]]"
      ]
     },
     "execution_count": 256,
     "metadata": {},
     "output_type": "execute_result"
    }
   ],
   "source": [
    "# separating the ratings into equal bins to use for classification (quartiles)\n",
    "# this code method was taken from https://pbpython.com/pandas-qcut-cut.html\n",
    "pd.qcut(listings['rating'], q = 4, duplicates = 'drop').unique()"
   ]
  },
  {
   "cell_type": "code",
   "execution_count": 257,
   "id": "9b8c7047-b3d9-4041-bf9c-b7212b9c2238",
   "metadata": {},
   "outputs": [],
   "source": [
    "listings['rating_target'] = listings['rating'].map(lambda x: 1 if x <= 4.74 else 2 if x <= 4.88 else 3 if x <= 4.97 else 4)"
   ]
  },
  {
   "cell_type": "code",
   "execution_count": 258,
   "id": "5dd3deca-8c6c-4d01-9bb4-30e119f07871",
   "metadata": {},
   "outputs": [
    {
     "data": {
      "text/html": [
       "<div>\n",
       "<style scoped>\n",
       "    .dataframe tbody tr th:only-of-type {\n",
       "        vertical-align: middle;\n",
       "    }\n",
       "\n",
       "    .dataframe tbody tr th {\n",
       "        vertical-align: top;\n",
       "    }\n",
       "\n",
       "    .dataframe thead th {\n",
       "        text-align: right;\n",
       "    }\n",
       "</style>\n",
       "<table border=\"1\" class=\"dataframe\">\n",
       "  <thead>\n",
       "    <tr style=\"text-align: right;\">\n",
       "      <th></th>\n",
       "      <th>rating</th>\n",
       "      <th>rating_target</th>\n",
       "    </tr>\n",
       "  </thead>\n",
       "  <tbody>\n",
       "    <tr>\n",
       "      <th>0</th>\n",
       "      <td>4.97</td>\n",
       "      <td>3</td>\n",
       "    </tr>\n",
       "    <tr>\n",
       "      <th>1</th>\n",
       "      <td>4.60</td>\n",
       "      <td>1</td>\n",
       "    </tr>\n",
       "    <tr>\n",
       "      <th>2</th>\n",
       "      <td>4.67</td>\n",
       "      <td>1</td>\n",
       "    </tr>\n",
       "    <tr>\n",
       "      <th>3</th>\n",
       "      <td>4.96</td>\n",
       "      <td>3</td>\n",
       "    </tr>\n",
       "    <tr>\n",
       "      <th>4</th>\n",
       "      <td>4.98</td>\n",
       "      <td>4</td>\n",
       "    </tr>\n",
       "    <tr>\n",
       "      <th>...</th>\n",
       "      <td>...</td>\n",
       "      <td>...</td>\n",
       "    </tr>\n",
       "    <tr>\n",
       "      <th>5350</th>\n",
       "      <td>4.94</td>\n",
       "      <td>3</td>\n",
       "    </tr>\n",
       "    <tr>\n",
       "      <th>5351</th>\n",
       "      <td>4.87</td>\n",
       "      <td>2</td>\n",
       "    </tr>\n",
       "    <tr>\n",
       "      <th>5352</th>\n",
       "      <td>3.67</td>\n",
       "      <td>1</td>\n",
       "    </tr>\n",
       "    <tr>\n",
       "      <th>5353</th>\n",
       "      <td>4.93</td>\n",
       "      <td>3</td>\n",
       "    </tr>\n",
       "    <tr>\n",
       "      <th>5354</th>\n",
       "      <td>5.00</td>\n",
       "      <td>4</td>\n",
       "    </tr>\n",
       "  </tbody>\n",
       "</table>\n",
       "<p>16019 rows × 2 columns</p>\n",
       "</div>"
      ],
      "text/plain": [
       "      rating  rating_target\n",
       "0       4.97              3\n",
       "1       4.60              1\n",
       "2       4.67              1\n",
       "3       4.96              3\n",
       "4       4.98              4\n",
       "...      ...            ...\n",
       "5350    4.94              3\n",
       "5351    4.87              2\n",
       "5352    3.67              1\n",
       "5353    4.93              3\n",
       "5354    5.00              4\n",
       "\n",
       "[16019 rows x 2 columns]"
      ]
     },
     "execution_count": 258,
     "metadata": {},
     "output_type": "execute_result"
    }
   ],
   "source": [
    "listings[['rating','rating_target']]"
   ]
  },
  {
   "cell_type": "markdown",
   "id": "b712fa3f-7b90-48eb-9891-ca671d7c574e",
   "metadata": {
    "tags": []
   },
   "source": [
    "---- \n",
    "## *Save the clean listings csv*"
   ]
  },
  {
   "cell_type": "code",
   "execution_count": 259,
   "id": "863f6cc5-50c6-4900-a574-ecf47b13f9c3",
   "metadata": {},
   "outputs": [],
   "source": [
    "# Save clean listings csv\n",
    "listings.to_csv('../data/seattle_listings_cleaned.csv', index = False)"
   ]
  },
  {
   "cell_type": "markdown",
   "id": "81e0969e-665e-4448-aa54-cd0d06aea658",
   "metadata": {},
   "source": [
    "------\n",
    "## Read in the San Francisco Data"
   ]
  },
  {
   "cell_type": "code",
   "execution_count": 260,
   "id": "4b88aed8-3d57-402c-98b6-e77dac405cd2",
   "metadata": {},
   "outputs": [],
   "source": [
    "# reading the listings files\n",
    "sep_21 = pd.read_csv('../data/sf_listings_9-21.csv')\n",
    "dec_21 = pd.read_csv('../data/sf_listings_12-21.csv')\n",
    "jun_22 = pd.read_csv('../data/sf_listings_6-22.csv')"
   ]
  },
  {
   "cell_type": "code",
   "execution_count": 261,
   "id": "bf43746e-8f3e-4b02-b442-de6e393fdc99",
   "metadata": {},
   "outputs": [
    {
     "name": "stdout",
     "output_type": "stream",
     "text": [
      "(6616, 74)\n"
     ]
    },
    {
     "data": {
      "text/html": [
       "<div>\n",
       "<style scoped>\n",
       "    .dataframe tbody tr th:only-of-type {\n",
       "        vertical-align: middle;\n",
       "    }\n",
       "\n",
       "    .dataframe tbody tr th {\n",
       "        vertical-align: top;\n",
       "    }\n",
       "\n",
       "    .dataframe thead th {\n",
       "        text-align: right;\n",
       "    }\n",
       "</style>\n",
       "<table border=\"1\" class=\"dataframe\">\n",
       "  <thead>\n",
       "    <tr style=\"text-align: right;\">\n",
       "      <th></th>\n",
       "      <th>id</th>\n",
       "      <th>listing_url</th>\n",
       "      <th>scrape_id</th>\n",
       "      <th>last_scraped</th>\n",
       "      <th>name</th>\n",
       "      <th>description</th>\n",
       "      <th>neighborhood_overview</th>\n",
       "      <th>picture_url</th>\n",
       "      <th>host_id</th>\n",
       "      <th>host_url</th>\n",
       "      <th>...</th>\n",
       "      <th>review_scores_communication</th>\n",
       "      <th>review_scores_location</th>\n",
       "      <th>review_scores_value</th>\n",
       "      <th>license</th>\n",
       "      <th>instant_bookable</th>\n",
       "      <th>calculated_host_listings_count</th>\n",
       "      <th>calculated_host_listings_count_entire_homes</th>\n",
       "      <th>calculated_host_listings_count_private_rooms</th>\n",
       "      <th>calculated_host_listings_count_shared_rooms</th>\n",
       "      <th>reviews_per_month</th>\n",
       "    </tr>\n",
       "  </thead>\n",
       "  <tbody>\n",
       "    <tr>\n",
       "      <th>0</th>\n",
       "      <td>958</td>\n",
       "      <td>https://www.airbnb.com/rooms/958</td>\n",
       "      <td>20210901220634</td>\n",
       "      <td>2021-09-02</td>\n",
       "      <td>Bright, Modern Garden Unit - 1BR/1BTH</td>\n",
       "      <td>Please check local laws re Covid before you re...</td>\n",
       "      <td>Quiet cul de sac in friendly neighborhood&lt;br /...</td>\n",
       "      <td>https://a0.muscache.com/pictures/b7c2a199-4c17...</td>\n",
       "      <td>1169</td>\n",
       "      <td>https://www.airbnb.com/users/show/1169</td>\n",
       "      <td>...</td>\n",
       "      <td>4.90</td>\n",
       "      <td>4.98</td>\n",
       "      <td>4.78</td>\n",
       "      <td>City Registration Pending</td>\n",
       "      <td>f</td>\n",
       "      <td>1</td>\n",
       "      <td>1</td>\n",
       "      <td>0</td>\n",
       "      <td>0</td>\n",
       "      <td>3.50</td>\n",
       "    </tr>\n",
       "    <tr>\n",
       "      <th>1</th>\n",
       "      <td>5858</td>\n",
       "      <td>https://www.airbnb.com/rooms/5858</td>\n",
       "      <td>20210901220634</td>\n",
       "      <td>2021-09-01</td>\n",
       "      <td>Creative Sanctuary</td>\n",
       "      <td>&lt;b&gt;The space&lt;/b&gt;&lt;br /&gt;We live in a large Victo...</td>\n",
       "      <td>I love how our neighborhood feels quiet but is...</td>\n",
       "      <td>https://a0.muscache.com/pictures/17714/3a7aea1...</td>\n",
       "      <td>8904</td>\n",
       "      <td>https://www.airbnb.com/users/show/8904</td>\n",
       "      <td>...</td>\n",
       "      <td>4.85</td>\n",
       "      <td>4.77</td>\n",
       "      <td>4.68</td>\n",
       "      <td>NaN</td>\n",
       "      <td>f</td>\n",
       "      <td>1</td>\n",
       "      <td>1</td>\n",
       "      <td>0</td>\n",
       "      <td>0</td>\n",
       "      <td>0.77</td>\n",
       "    </tr>\n",
       "  </tbody>\n",
       "</table>\n",
       "<p>2 rows × 74 columns</p>\n",
       "</div>"
      ],
      "text/plain": [
       "     id                        listing_url       scrape_id last_scraped  \\\n",
       "0   958   https://www.airbnb.com/rooms/958  20210901220634   2021-09-02   \n",
       "1  5858  https://www.airbnb.com/rooms/5858  20210901220634   2021-09-01   \n",
       "\n",
       "                                    name  \\\n",
       "0  Bright, Modern Garden Unit - 1BR/1BTH   \n",
       "1                     Creative Sanctuary   \n",
       "\n",
       "                                         description  \\\n",
       "0  Please check local laws re Covid before you re...   \n",
       "1  <b>The space</b><br />We live in a large Victo...   \n",
       "\n",
       "                               neighborhood_overview  \\\n",
       "0  Quiet cul de sac in friendly neighborhood<br /...   \n",
       "1  I love how our neighborhood feels quiet but is...   \n",
       "\n",
       "                                         picture_url  host_id  \\\n",
       "0  https://a0.muscache.com/pictures/b7c2a199-4c17...     1169   \n",
       "1  https://a0.muscache.com/pictures/17714/3a7aea1...     8904   \n",
       "\n",
       "                                 host_url  ... review_scores_communication  \\\n",
       "0  https://www.airbnb.com/users/show/1169  ...                        4.90   \n",
       "1  https://www.airbnb.com/users/show/8904  ...                        4.85   \n",
       "\n",
       "  review_scores_location review_scores_value                    license  \\\n",
       "0                   4.98                4.78  City Registration Pending   \n",
       "1                   4.77                4.68                        NaN   \n",
       "\n",
       "  instant_bookable calculated_host_listings_count  \\\n",
       "0                f                              1   \n",
       "1                f                              1   \n",
       "\n",
       "  calculated_host_listings_count_entire_homes  \\\n",
       "0                                           1   \n",
       "1                                           1   \n",
       "\n",
       "  calculated_host_listings_count_private_rooms  \\\n",
       "0                                            0   \n",
       "1                                            0   \n",
       "\n",
       "  calculated_host_listings_count_shared_rooms reviews_per_month  \n",
       "0                                           0              3.50  \n",
       "1                                           0              0.77  \n",
       "\n",
       "[2 rows x 74 columns]"
      ]
     },
     "execution_count": 261,
     "metadata": {},
     "output_type": "execute_result"
    }
   ],
   "source": [
    "print(sep_21.shape)\n",
    "sep_21.head(2)"
   ]
  },
  {
   "cell_type": "code",
   "execution_count": 262,
   "id": "d371eeda-5e4a-48c0-a5e1-256739ae1ab0",
   "metadata": {},
   "outputs": [
    {
     "name": "stdout",
     "output_type": "stream",
     "text": [
      "(6413, 74)\n"
     ]
    },
    {
     "data": {
      "text/html": [
       "<div>\n",
       "<style scoped>\n",
       "    .dataframe tbody tr th:only-of-type {\n",
       "        vertical-align: middle;\n",
       "    }\n",
       "\n",
       "    .dataframe tbody tr th {\n",
       "        vertical-align: top;\n",
       "    }\n",
       "\n",
       "    .dataframe thead th {\n",
       "        text-align: right;\n",
       "    }\n",
       "</style>\n",
       "<table border=\"1\" class=\"dataframe\">\n",
       "  <thead>\n",
       "    <tr style=\"text-align: right;\">\n",
       "      <th></th>\n",
       "      <th>id</th>\n",
       "      <th>listing_url</th>\n",
       "      <th>scrape_id</th>\n",
       "      <th>last_scraped</th>\n",
       "      <th>name</th>\n",
       "      <th>description</th>\n",
       "      <th>neighborhood_overview</th>\n",
       "      <th>picture_url</th>\n",
       "      <th>host_id</th>\n",
       "      <th>host_url</th>\n",
       "      <th>...</th>\n",
       "      <th>review_scores_communication</th>\n",
       "      <th>review_scores_location</th>\n",
       "      <th>review_scores_value</th>\n",
       "      <th>license</th>\n",
       "      <th>instant_bookable</th>\n",
       "      <th>calculated_host_listings_count</th>\n",
       "      <th>calculated_host_listings_count_entire_homes</th>\n",
       "      <th>calculated_host_listings_count_private_rooms</th>\n",
       "      <th>calculated_host_listings_count_shared_rooms</th>\n",
       "      <th>reviews_per_month</th>\n",
       "    </tr>\n",
       "  </thead>\n",
       "  <tbody>\n",
       "    <tr>\n",
       "      <th>0</th>\n",
       "      <td>958</td>\n",
       "      <td>https://www.airbnb.com/rooms/958</td>\n",
       "      <td>20211204142946</td>\n",
       "      <td>2021-12-04</td>\n",
       "      <td>Bright, Modern Garden Unit - 1BR/1BTH</td>\n",
       "      <td>Please check local laws re Covid before you re...</td>\n",
       "      <td>Quiet cul de sac in friendly neighborhood&lt;br /...</td>\n",
       "      <td>https://a0.muscache.com/pictures/b7c2a199-4c17...</td>\n",
       "      <td>1169</td>\n",
       "      <td>https://www.airbnb.com/users/show/1169</td>\n",
       "      <td>...</td>\n",
       "      <td>4.90</td>\n",
       "      <td>4.98</td>\n",
       "      <td>4.78</td>\n",
       "      <td>City Registration Pending</td>\n",
       "      <td>f</td>\n",
       "      <td>1</td>\n",
       "      <td>1</td>\n",
       "      <td>0</td>\n",
       "      <td>0</td>\n",
       "      <td>3.60</td>\n",
       "    </tr>\n",
       "    <tr>\n",
       "      <th>1</th>\n",
       "      <td>5858</td>\n",
       "      <td>https://www.airbnb.com/rooms/5858</td>\n",
       "      <td>20211204142946</td>\n",
       "      <td>2021-12-04</td>\n",
       "      <td>Creative Sanctuary</td>\n",
       "      <td>&lt;b&gt;The space&lt;/b&gt;&lt;br /&gt;We live in a large Victo...</td>\n",
       "      <td>I love how our neighborhood feels quiet but is...</td>\n",
       "      <td>https://a0.muscache.com/pictures/17714/3a7aea1...</td>\n",
       "      <td>8904</td>\n",
       "      <td>https://www.airbnb.com/users/show/8904</td>\n",
       "      <td>...</td>\n",
       "      <td>4.85</td>\n",
       "      <td>4.77</td>\n",
       "      <td>4.68</td>\n",
       "      <td>NaN</td>\n",
       "      <td>f</td>\n",
       "      <td>1</td>\n",
       "      <td>1</td>\n",
       "      <td>0</td>\n",
       "      <td>0</td>\n",
       "      <td>0.76</td>\n",
       "    </tr>\n",
       "  </tbody>\n",
       "</table>\n",
       "<p>2 rows × 74 columns</p>\n",
       "</div>"
      ],
      "text/plain": [
       "     id                        listing_url       scrape_id last_scraped  \\\n",
       "0   958   https://www.airbnb.com/rooms/958  20211204142946   2021-12-04   \n",
       "1  5858  https://www.airbnb.com/rooms/5858  20211204142946   2021-12-04   \n",
       "\n",
       "                                    name  \\\n",
       "0  Bright, Modern Garden Unit - 1BR/1BTH   \n",
       "1                     Creative Sanctuary   \n",
       "\n",
       "                                         description  \\\n",
       "0  Please check local laws re Covid before you re...   \n",
       "1  <b>The space</b><br />We live in a large Victo...   \n",
       "\n",
       "                               neighborhood_overview  \\\n",
       "0  Quiet cul de sac in friendly neighborhood<br /...   \n",
       "1  I love how our neighborhood feels quiet but is...   \n",
       "\n",
       "                                         picture_url  host_id  \\\n",
       "0  https://a0.muscache.com/pictures/b7c2a199-4c17...     1169   \n",
       "1  https://a0.muscache.com/pictures/17714/3a7aea1...     8904   \n",
       "\n",
       "                                 host_url  ... review_scores_communication  \\\n",
       "0  https://www.airbnb.com/users/show/1169  ...                        4.90   \n",
       "1  https://www.airbnb.com/users/show/8904  ...                        4.85   \n",
       "\n",
       "  review_scores_location review_scores_value                    license  \\\n",
       "0                   4.98                4.78  City Registration Pending   \n",
       "1                   4.77                4.68                        NaN   \n",
       "\n",
       "  instant_bookable calculated_host_listings_count  \\\n",
       "0                f                              1   \n",
       "1                f                              1   \n",
       "\n",
       "  calculated_host_listings_count_entire_homes  \\\n",
       "0                                           1   \n",
       "1                                           1   \n",
       "\n",
       "  calculated_host_listings_count_private_rooms  \\\n",
       "0                                            0   \n",
       "1                                            0   \n",
       "\n",
       "  calculated_host_listings_count_shared_rooms reviews_per_month  \n",
       "0                                           0              3.60  \n",
       "1                                           0              0.76  \n",
       "\n",
       "[2 rows x 74 columns]"
      ]
     },
     "execution_count": 262,
     "metadata": {},
     "output_type": "execute_result"
    }
   ],
   "source": [
    "print(dec_21.shape)\n",
    "dec_21.head(2)"
   ]
  },
  {
   "cell_type": "code",
   "execution_count": 263,
   "id": "85c91efd-89cf-426b-8d33-248cc3c3fa4c",
   "metadata": {},
   "outputs": [
    {
     "name": "stdout",
     "output_type": "stream",
     "text": [
      "(6444, 74)\n"
     ]
    },
    {
     "data": {
      "text/html": [
       "<div>\n",
       "<style scoped>\n",
       "    .dataframe tbody tr th:only-of-type {\n",
       "        vertical-align: middle;\n",
       "    }\n",
       "\n",
       "    .dataframe tbody tr th {\n",
       "        vertical-align: top;\n",
       "    }\n",
       "\n",
       "    .dataframe thead th {\n",
       "        text-align: right;\n",
       "    }\n",
       "</style>\n",
       "<table border=\"1\" class=\"dataframe\">\n",
       "  <thead>\n",
       "    <tr style=\"text-align: right;\">\n",
       "      <th></th>\n",
       "      <th>id</th>\n",
       "      <th>listing_url</th>\n",
       "      <th>scrape_id</th>\n",
       "      <th>last_scraped</th>\n",
       "      <th>name</th>\n",
       "      <th>description</th>\n",
       "      <th>neighborhood_overview</th>\n",
       "      <th>picture_url</th>\n",
       "      <th>host_id</th>\n",
       "      <th>host_url</th>\n",
       "      <th>...</th>\n",
       "      <th>review_scores_communication</th>\n",
       "      <th>review_scores_location</th>\n",
       "      <th>review_scores_value</th>\n",
       "      <th>license</th>\n",
       "      <th>instant_bookable</th>\n",
       "      <th>calculated_host_listings_count</th>\n",
       "      <th>calculated_host_listings_count_entire_homes</th>\n",
       "      <th>calculated_host_listings_count_private_rooms</th>\n",
       "      <th>calculated_host_listings_count_shared_rooms</th>\n",
       "      <th>reviews_per_month</th>\n",
       "    </tr>\n",
       "  </thead>\n",
       "  <tbody>\n",
       "    <tr>\n",
       "      <th>0</th>\n",
       "      <td>958</td>\n",
       "      <td>https://www.airbnb.com/rooms/958</td>\n",
       "      <td>20220603182617</td>\n",
       "      <td>2022-06-03</td>\n",
       "      <td>Bright, Modern Garden Unit - 1BR/1BTH</td>\n",
       "      <td>Please check local laws re Covid before you re...</td>\n",
       "      <td>Quiet cul de sac in friendly neighborhood&lt;br /...</td>\n",
       "      <td>https://a0.muscache.com/pictures/b7c2a199-4c17...</td>\n",
       "      <td>1169</td>\n",
       "      <td>https://www.airbnb.com/users/show/1169</td>\n",
       "      <td>...</td>\n",
       "      <td>4.88</td>\n",
       "      <td>4.98</td>\n",
       "      <td>4.78</td>\n",
       "      <td>City Registration Pending</td>\n",
       "      <td>f</td>\n",
       "      <td>1</td>\n",
       "      <td>1</td>\n",
       "      <td>0</td>\n",
       "      <td>0</td>\n",
       "      <td>2.15</td>\n",
       "    </tr>\n",
       "    <tr>\n",
       "      <th>1</th>\n",
       "      <td>5858</td>\n",
       "      <td>https://www.airbnb.com/rooms/5858</td>\n",
       "      <td>20220603182617</td>\n",
       "      <td>2022-06-03</td>\n",
       "      <td>Creative Sanctuary</td>\n",
       "      <td>&lt;b&gt;The space&lt;/b&gt;&lt;br /&gt;We live in a large Victo...</td>\n",
       "      <td>I love how our neighborhood feels quiet but is...</td>\n",
       "      <td>https://a0.muscache.com/pictures/17714/3a7aea1...</td>\n",
       "      <td>8904</td>\n",
       "      <td>https://www.airbnb.com/users/show/8904</td>\n",
       "      <td>...</td>\n",
       "      <td>4.85</td>\n",
       "      <td>4.77</td>\n",
       "      <td>4.68</td>\n",
       "      <td>NaN</td>\n",
       "      <td>f</td>\n",
       "      <td>1</td>\n",
       "      <td>1</td>\n",
       "      <td>0</td>\n",
       "      <td>0</td>\n",
       "      <td>0.70</td>\n",
       "    </tr>\n",
       "  </tbody>\n",
       "</table>\n",
       "<p>2 rows × 74 columns</p>\n",
       "</div>"
      ],
      "text/plain": [
       "     id                        listing_url       scrape_id last_scraped  \\\n",
       "0   958   https://www.airbnb.com/rooms/958  20220603182617   2022-06-03   \n",
       "1  5858  https://www.airbnb.com/rooms/5858  20220603182617   2022-06-03   \n",
       "\n",
       "                                    name  \\\n",
       "0  Bright, Modern Garden Unit - 1BR/1BTH   \n",
       "1                     Creative Sanctuary   \n",
       "\n",
       "                                         description  \\\n",
       "0  Please check local laws re Covid before you re...   \n",
       "1  <b>The space</b><br />We live in a large Victo...   \n",
       "\n",
       "                               neighborhood_overview  \\\n",
       "0  Quiet cul de sac in friendly neighborhood<br /...   \n",
       "1  I love how our neighborhood feels quiet but is...   \n",
       "\n",
       "                                         picture_url  host_id  \\\n",
       "0  https://a0.muscache.com/pictures/b7c2a199-4c17...     1169   \n",
       "1  https://a0.muscache.com/pictures/17714/3a7aea1...     8904   \n",
       "\n",
       "                                 host_url  ... review_scores_communication  \\\n",
       "0  https://www.airbnb.com/users/show/1169  ...                        4.88   \n",
       "1  https://www.airbnb.com/users/show/8904  ...                        4.85   \n",
       "\n",
       "  review_scores_location review_scores_value                    license  \\\n",
       "0                   4.98                4.78  City Registration Pending   \n",
       "1                   4.77                4.68                        NaN   \n",
       "\n",
       "  instant_bookable calculated_host_listings_count  \\\n",
       "0                f                              1   \n",
       "1                f                              1   \n",
       "\n",
       "  calculated_host_listings_count_entire_homes  \\\n",
       "0                                           1   \n",
       "1                                           1   \n",
       "\n",
       "  calculated_host_listings_count_private_rooms  \\\n",
       "0                                            0   \n",
       "1                                            0   \n",
       "\n",
       "  calculated_host_listings_count_shared_rooms reviews_per_month  \n",
       "0                                           0              2.15  \n",
       "1                                           0              0.70  \n",
       "\n",
       "[2 rows x 74 columns]"
      ]
     },
     "execution_count": 263,
     "metadata": {},
     "output_type": "execute_result"
    }
   ],
   "source": [
    "print(jun_22.shape)\n",
    "jun_22.head(2)"
   ]
  },
  {
   "cell_type": "code",
   "execution_count": 264,
   "id": "09c48abe-cbea-433e-9ce1-d2abf149e549",
   "metadata": {},
   "outputs": [
    {
     "data": {
      "text/plain": [
       "(19473, 74)"
      ]
     },
     "execution_count": 264,
     "metadata": {},
     "output_type": "execute_result"
    }
   ],
   "source": [
    "listings = pd.concat([sep_21, dec_21, jun_22])\n",
    "listings.shape"
   ]
  },
  {
   "cell_type": "markdown",
   "id": "b388ce96-d351-40cf-9716-17cd789fb740",
   "metadata": {},
   "source": [
    "-------\n",
    "## Data Cleaning - listings data: Following same steps as Boston & Seattle Cleaning"
   ]
  },
  {
   "cell_type": "markdown",
   "id": "1b4a6a4a-bd01-46b0-bf5b-d950c948aa10",
   "metadata": {},
   "source": [
    "### *Handling Null Values*"
   ]
  },
  {
   "cell_type": "code",
   "execution_count": 265,
   "id": "e3f3ae79-0414-44a5-9ba3-7d0dacde2ad3",
   "metadata": {},
   "outputs": [
    {
     "data": {
      "text/plain": [
       "id                          0\n",
       "listing_url                 0\n",
       "scrape_id                   0\n",
       "last_scraped                0\n",
       "name                        0\n",
       "description               195\n",
       "neighborhood_overview    5390\n",
       "picture_url                 0\n",
       "host_id                     0\n",
       "host_url                    0\n",
       "host_name                  42\n",
       "host_since                 42\n",
       "host_location              59\n",
       "host_about               5877\n",
       "host_response_time       3848\n",
       "host_response_rate       3848\n",
       "host_acceptance_rate     3346\n",
       "host_is_superhost          42\n",
       "host_thumbnail_url         42\n",
       "host_picture_url           42\n",
       "dtype: int64"
      ]
     },
     "execution_count": 265,
     "metadata": {},
     "output_type": "execute_result"
    }
   ],
   "source": [
    "# dealing with null values\n",
    "# checking first 20 columns\n",
    "listings.isnull().sum()[:20]"
   ]
  },
  {
   "cell_type": "code",
   "execution_count": 266,
   "id": "de3eaa5e-9b38-4a2d-8862-ed4a8fb647b6",
   "metadata": {},
   "outputs": [],
   "source": [
    "listings.drop(columns = ['host_about', 'neighborhood_overview','host_location'], inplace = True)"
   ]
  },
  {
   "cell_type": "code",
   "execution_count": 267,
   "id": "e8f8e699-e172-4c7b-8d1d-fbe6c0708e31",
   "metadata": {},
   "outputs": [
    {
     "data": {
      "text/plain": [
       "within an hour        0.623872\n",
       "within a few hours    0.227392\n",
       "within a day          0.118976\n",
       "a few days or more    0.029760\n",
       "Name: host_response_time, dtype: float64"
      ]
     },
     "execution_count": 267,
     "metadata": {},
     "output_type": "execute_result"
    }
   ],
   "source": [
    "listings['host_response_time'].value_counts(normalize=True)"
   ]
  },
  {
   "cell_type": "code",
   "execution_count": 268,
   "id": "02806970-8afe-4847-952d-401585da0f7c",
   "metadata": {},
   "outputs": [
    {
     "data": {
      "text/plain": [
       "host_verifications                  0\n",
       "host_has_profile_pic               42\n",
       "host_identity_verified             42\n",
       "neighbourhood                    5390\n",
       "neighbourhood_cleansed              0\n",
       "neighbourhood_group_cleansed    19473\n",
       "latitude                            0\n",
       "longitude                           0\n",
       "property_type                       0\n",
       "room_type                           0\n",
       "accommodates                        0\n",
       "bathrooms                       19473\n",
       "bathrooms_text                     29\n",
       "bedrooms                         2762\n",
       "beds                              533\n",
       "amenities                           0\n",
       "price                               0\n",
       "minimum_nights                      0\n",
       "maximum_nights                      0\n",
       "minimum_minimum_nights              6\n",
       "dtype: int64"
      ]
     },
     "execution_count": 268,
     "metadata": {},
     "output_type": "execute_result"
    }
   ],
   "source": [
    "listings.isnull().sum()[20:40]"
   ]
  },
  {
   "cell_type": "code",
   "execution_count": 269,
   "id": "86b1caca-2edc-44a6-af3d-d2c5a735d1e9",
   "metadata": {
    "tags": []
   },
   "outputs": [],
   "source": [
    "listings.drop(columns = ['bathrooms','neighbourhood_group_cleansed', 'neighbourhood','minimum_minimum_nights','maximum_minimum_nights','minimum_maximum_nights','maximum_maximum_nights'],\n",
    "              inplace=True)"
   ]
  },
  {
   "cell_type": "code",
   "execution_count": 270,
   "id": "71f15512-eaf7-43cc-ba61-691cd989ee9f",
   "metadata": {},
   "outputs": [
    {
     "data": {
      "text/plain": [
       "availability_30                                    0\n",
       "availability_60                                    0\n",
       "availability_90                                    0\n",
       "availability_365                                   0\n",
       "calendar_last_scraped                              0\n",
       "number_of_reviews                                  0\n",
       "number_of_reviews_ltm                              0\n",
       "number_of_reviews_l30d                             0\n",
       "first_review                                    3971\n",
       "last_review                                     3971\n",
       "review_scores_rating                            3971\n",
       "review_scores_accuracy                          4055\n",
       "review_scores_cleanliness                       4055\n",
       "review_scores_checkin                           4058\n",
       "review_scores_communication                     4055\n",
       "review_scores_location                          4058\n",
       "review_scores_value                             4058\n",
       "license                                         8256\n",
       "instant_bookable                                   0\n",
       "calculated_host_listings_count                     0\n",
       "calculated_host_listings_count_entire_homes        0\n",
       "calculated_host_listings_count_private_rooms       0\n",
       "calculated_host_listings_count_shared_rooms        0\n",
       "reviews_per_month                               3971\n",
       "dtype: int64"
      ]
     },
     "execution_count": 270,
     "metadata": {},
     "output_type": "execute_result"
    }
   ],
   "source": [
    "listings.isnull().sum()[40:]"
   ]
  },
  {
   "cell_type": "code",
   "execution_count": 271,
   "id": "3acf4e3e-2245-441d-aab0-5d3420ed0dd1",
   "metadata": {},
   "outputs": [],
   "source": [
    "listings.drop(columns = ['calendar_updated', 'review_scores_accuracy','review_scores_cleanliness','review_scores_checkin','review_scores_communication','review_scores_location','review_scores_value'], inplace=True)"
   ]
  },
  {
   "cell_type": "code",
   "execution_count": 272,
   "id": "37f848ab-f41d-4d93-9f66-f219201e6bc8",
   "metadata": {},
   "outputs": [],
   "source": [
    "# rating column will be the target variable\n",
    "# can't impute null values or drop this column\n",
    "listings.dropna(subset= 'review_scores_rating', inplace=True)"
   ]
  },
  {
   "cell_type": "code",
   "execution_count": 273,
   "id": "13527cec-87fa-4cb5-bc32-4bd893eef3aa",
   "metadata": {},
   "outputs": [],
   "source": [
    "# rename rating column for clarity\n",
    "listings.rename(columns = ({'review_scores_rating': 'rating'}), inplace=True)"
   ]
  },
  {
   "cell_type": "code",
   "execution_count": 274,
   "id": "60956f4e-b0d0-4f7d-8cd0-8a635c2bc925",
   "metadata": {},
   "outputs": [
    {
     "data": {
      "text/plain": [
       "(15502, 57)"
      ]
     },
     "execution_count": 274,
     "metadata": {},
     "output_type": "execute_result"
    }
   ],
   "source": [
    "listings.shape"
   ]
  },
  {
   "cell_type": "code",
   "execution_count": 275,
   "id": "c6c95028-b361-4a53-b39e-8000ecef554c",
   "metadata": {},
   "outputs": [
    {
     "data": {
      "text/plain": [
       "0       City Registration Pending\n",
       "1                             NaN\n",
       "2                             NaN\n",
       "3                             NaN\n",
       "4                     STR-0000264\n",
       "                  ...            \n",
       "6438                          NaN\n",
       "6439                          NaN\n",
       "6440                          NaN\n",
       "6441                          NaN\n",
       "6442                          NaN\n",
       "Name: license, Length: 15502, dtype: object"
      ]
     },
     "execution_count": 275,
     "metadata": {},
     "output_type": "execute_result"
    }
   ],
   "source": [
    "listings['license']"
   ]
  },
  {
   "cell_type": "code",
   "execution_count": 276,
   "id": "90012d51-fd79-4c48-91bf-e1341829729a",
   "metadata": {},
   "outputs": [],
   "source": [
    "listings['license'] = listings['license'].astype(str)"
   ]
  },
  {
   "cell_type": "code",
   "execution_count": 277,
   "id": "ea28b69e-5afb-4a1b-8b05-0560ac270b91",
   "metadata": {},
   "outputs": [],
   "source": [
    "# assigning 0 for no short-term rental license and 1 for licensed (or approved due to some exemption)\n",
    "listings['license'] = listings['license'].map(lambda x: int(0) if x == 'nan' else int(1))"
   ]
  },
  {
   "cell_type": "code",
   "execution_count": 278,
   "id": "704fd256-b4f8-462d-a6a1-13bdeebaf971",
   "metadata": {},
   "outputs": [
    {
     "data": {
      "text/plain": [
       "availability_60                                 0\n",
       "availability_90                                 0\n",
       "availability_365                                0\n",
       "calendar_last_scraped                           0\n",
       "number_of_reviews                               0\n",
       "number_of_reviews_ltm                           0\n",
       "number_of_reviews_l30d                          0\n",
       "first_review                                    0\n",
       "last_review                                     0\n",
       "rating                                          0\n",
       "license                                         0\n",
       "instant_bookable                                0\n",
       "calculated_host_listings_count                  0\n",
       "calculated_host_listings_count_entire_homes     0\n",
       "calculated_host_listings_count_private_rooms    0\n",
       "calculated_host_listings_count_shared_rooms     0\n",
       "reviews_per_month                               0\n",
       "dtype: int64"
      ]
     },
     "execution_count": 278,
     "metadata": {},
     "output_type": "execute_result"
    }
   ],
   "source": [
    "# confirm no nulls from column 40-57\n",
    "listings.isnull().sum()[40:]"
   ]
  },
  {
   "cell_type": "code",
   "execution_count": 279,
   "id": "a3c72bcc-848b-457b-8355-39a32cec525e",
   "metadata": {
    "tags": []
   },
   "outputs": [
    {
     "data": {
      "text/plain": [
       "id                              0\n",
       "listing_url                     0\n",
       "scrape_id                       0\n",
       "last_scraped                    0\n",
       "name                            0\n",
       "description                    85\n",
       "picture_url                     0\n",
       "host_id                         0\n",
       "host_url                        0\n",
       "host_name                       8\n",
       "host_since                      8\n",
       "host_response_time           2734\n",
       "host_response_rate           2734\n",
       "host_acceptance_rate         2247\n",
       "host_is_superhost               8\n",
       "host_thumbnail_url              8\n",
       "host_picture_url                8\n",
       "host_neighbourhood            971\n",
       "host_listings_count             8\n",
       "host_total_listings_count       8\n",
       "dtype: int64"
      ]
     },
     "execution_count": 279,
     "metadata": {},
     "output_type": "execute_result"
    }
   ],
   "source": [
    "# re checking first 20 columns after dropped columns\n",
    "listings.isnull().sum()[:20]"
   ]
  },
  {
   "cell_type": "code",
   "execution_count": 280,
   "id": "485e4d52-af44-49f7-ad6f-f09a42053add",
   "metadata": {
    "tags": []
   },
   "outputs": [],
   "source": [
    "# host's neighborhood is unnecessary when we have the listing neighborhood\n",
    "listings.drop(columns = ['host_neighbourhood', 'host_acceptance_rate', 'host_thumbnail_url','host_picture_url','host_total_listings_count'], inplace=True)"
   ]
  },
  {
   "cell_type": "code",
   "execution_count": 281,
   "id": "2d3e3c5a-6224-4658-bbfd-caceed6a4c1a",
   "metadata": {
    "tags": []
   },
   "outputs": [],
   "source": [
    "listings['host_response_rate'] = listings['host_response_rate'].map(lambda x: str(x)[:-1])"
   ]
  },
  {
   "cell_type": "code",
   "execution_count": 282,
   "id": "ff2214db-b0d4-4dbb-830f-67d7fdac4a95",
   "metadata": {
    "tags": []
   },
   "outputs": [],
   "source": [
    "listings['host_response_rate'] = listings['host_response_rate'].map(lambda x: float(x) if x != 'na' else x) "
   ]
  },
  {
   "cell_type": "code",
   "execution_count": 283,
   "id": "a8156c67-142e-4c2a-9486-3d17fc72d18d",
   "metadata": {
    "tags": []
   },
   "outputs": [
    {
     "data": {
      "text/plain": [
       "2734"
      ]
     },
     "execution_count": 283,
     "metadata": {},
     "output_type": "execute_result"
    }
   ],
   "source": [
    "len(listings[listings['host_response_rate'] == 'na'])"
   ]
  },
  {
   "cell_type": "code",
   "execution_count": 284,
   "id": "b5134a23-6304-4b51-a56e-63a999c20f10",
   "metadata": {},
   "outputs": [],
   "source": [
    "num_response_rates = listings[listings['host_response_rate'] != 'na']"
   ]
  },
  {
   "cell_type": "code",
   "execution_count": 285,
   "id": "2c8939a8-ad47-4d8d-bd89-d72155b27d26",
   "metadata": {
    "tags": []
   },
   "outputs": [
    {
     "data": {
      "image/png": "[encoded data removed]",
      "text/plain": [
       "<Figure size 432x288 with 1 Axes>"
      ]
     },
     "metadata": {
      "needs_background": "light"
     },
     "output_type": "display_data"
    }
   ],
   "source": [
    "plt.hist(num_response_rates['host_response_rate'], bins = 20)\n",
    "plt.xlabel('Host Response Rate %', fontsize = 12)\n",
    "plt.ylabel('Number of Listings', fontsize = 12)\n",
    "plt.title('Distribution of Response Rates (non-null)', fontsize = 16);"
   ]
  },
  {
   "cell_type": "code",
   "execution_count": 286,
   "id": "03c93699-931d-4bf4-93e6-93f6483ba4dc",
   "metadata": {
    "tags": []
   },
   "outputs": [
    {
     "data": {
      "text/plain": [
       "100.0    9791\n",
       "na       2734\n",
       "90.0      428\n",
       "98.0      268\n",
       "80.0      224\n",
       "99.0      202\n",
       "96.0      192\n",
       "0.0       152\n",
       "95.0      142\n",
       "70.0      139\n",
       "Name: host_response_rate, dtype: int64"
      ]
     },
     "execution_count": 286,
     "metadata": {},
     "output_type": "execute_result"
    }
   ],
   "source": [
    "listings['host_response_rate'].value_counts()[:10]"
   ]
  },
  {
   "cell_type": "code",
   "execution_count": 287,
   "id": "d725ba7c-5ff5-4bcd-b53e-2f1cf359dd13",
   "metadata": {},
   "outputs": [],
   "source": [
    "listings['host_response_rate'] = listings['host_response_rate'].map(lambda x: 100.0 if x == 'na' else x) "
   ]
  },
  {
   "cell_type": "code",
   "execution_count": 288,
   "id": "9398d30a-095e-42d3-8b7b-24e6e4e03c38",
   "metadata": {
    "tags": []
   },
   "outputs": [
    {
     "data": {
      "text/plain": [
       "2734"
      ]
     },
     "execution_count": 288,
     "metadata": {},
     "output_type": "execute_result"
    }
   ],
   "source": [
    "listings['host_response_time'].isnull().sum()"
   ]
  },
  {
   "cell_type": "code",
   "execution_count": 289,
   "id": "dd469089-0106-4d48-a70b-9a19d2770dba",
   "metadata": {
    "tags": []
   },
   "outputs": [],
   "source": [
    "listings['host_response_time'] = listings['host_response_time'].map(lambda x: 0 if x == 'N/A' or x == 'a few days or more' else 1 if x == 'within a day' else 2 if x == 'within a few hours' else 3) "
   ]
  },
  {
   "cell_type": "code",
   "execution_count": 290,
   "id": "27c5461d-7fb2-47af-8020-da5e76c68ed7",
   "metadata": {
    "tags": []
   },
   "outputs": [
    {
     "data": {
      "text/plain": [
       "0"
      ]
     },
     "execution_count": 290,
     "metadata": {},
     "output_type": "execute_result"
    }
   ],
   "source": [
    "listings['host_response_time'].isnull().sum()"
   ]
  },
  {
   "cell_type": "code",
   "execution_count": 291,
   "id": "7be5f273-e765-4ddf-9f56-3cc1b7f7dda5",
   "metadata": {
    "tags": []
   },
   "outputs": [
    {
     "data": {
      "text/html": [
       "<div>\n",
       "<style scoped>\n",
       "    .dataframe tbody tr th:only-of-type {\n",
       "        vertical-align: middle;\n",
       "    }\n",
       "\n",
       "    .dataframe tbody tr th {\n",
       "        vertical-align: top;\n",
       "    }\n",
       "\n",
       "    .dataframe thead th {\n",
       "        text-align: right;\n",
       "    }\n",
       "</style>\n",
       "<table border=\"1\" class=\"dataframe\">\n",
       "  <thead>\n",
       "    <tr style=\"text-align: right;\">\n",
       "      <th></th>\n",
       "      <th>host_response_time</th>\n",
       "      <th>host_response_rate</th>\n",
       "    </tr>\n",
       "  </thead>\n",
       "  <tbody>\n",
       "    <tr>\n",
       "      <th>host_response_time</th>\n",
       "      <td>1.000000</td>\n",
       "      <td>0.597161</td>\n",
       "    </tr>\n",
       "    <tr>\n",
       "      <th>host_response_rate</th>\n",
       "      <td>0.597161</td>\n",
       "      <td>1.000000</td>\n",
       "    </tr>\n",
       "  </tbody>\n",
       "</table>\n",
       "</div>"
      ],
      "text/plain": [
       "                    host_response_time  host_response_rate\n",
       "host_response_time            1.000000            0.597161\n",
       "host_response_rate            0.597161            1.000000"
      ]
     },
     "execution_count": 291,
     "metadata": {},
     "output_type": "execute_result"
    }
   ],
   "source": [
    "listings[['host_response_time','host_response_rate']].corr()"
   ]
  },
  {
   "cell_type": "code",
   "execution_count": 292,
   "id": "5b8e7242-f315-4685-bb39-fa0ce59368cd",
   "metadata": {},
   "outputs": [],
   "source": [
    "# binarizing superhost column\n",
    "listings['host_is_superhost'] = listings['host_is_superhost'].map(lambda x: 1 if x == 't' else 0)"
   ]
  },
  {
   "cell_type": "code",
   "execution_count": 293,
   "id": "dba25b61-b264-4ed6-9188-44c7c14837d8",
   "metadata": {},
   "outputs": [
    {
     "data": {
      "text/plain": [
       "(15502, 52)"
      ]
     },
     "execution_count": 293,
     "metadata": {},
     "output_type": "execute_result"
    }
   ],
   "source": [
    "listings.shape"
   ]
  },
  {
   "cell_type": "code",
   "execution_count": 294,
   "id": "507fdd5e-5517-4cf0-9b7b-83b84efbbc56",
   "metadata": {},
   "outputs": [
    {
     "data": {
      "text/plain": [
       "id                         0\n",
       "listing_url                0\n",
       "scrape_id                  0\n",
       "last_scraped               0\n",
       "name                       0\n",
       "description               85\n",
       "picture_url                0\n",
       "host_id                    0\n",
       "host_url                   0\n",
       "host_name                  8\n",
       "host_since                 8\n",
       "host_response_time         0\n",
       "host_response_rate         0\n",
       "host_is_superhost          0\n",
       "host_listings_count        8\n",
       "host_verifications         0\n",
       "host_has_profile_pic       8\n",
       "host_identity_verified     8\n",
       "neighbourhood_cleansed     0\n",
       "latitude                   0\n",
       "dtype: int64"
      ]
     },
     "execution_count": 294,
     "metadata": {},
     "output_type": "execute_result"
    }
   ],
   "source": [
    "# re checking first 20 columns\n",
    "listings.isnull().sum()[:20]"
   ]
  },
  {
   "cell_type": "code",
   "execution_count": 295,
   "id": "ce8c4537-20a8-4be9-b4e4-0aa0d62f4b4a",
   "metadata": {},
   "outputs": [
    {
     "data": {
      "text/plain": [
       "longitude                    0\n",
       "property_type                0\n",
       "room_type                    0\n",
       "accommodates                 0\n",
       "bathrooms_text              19\n",
       "bedrooms                  2165\n",
       "beds                       304\n",
       "amenities                    0\n",
       "price                        0\n",
       "minimum_nights               0\n",
       "maximum_nights               0\n",
       "minimum_nights_avg_ntm       3\n",
       "maximum_nights_avg_ntm       3\n",
       "has_availability             0\n",
       "availability_30              0\n",
       "availability_60              0\n",
       "availability_90              0\n",
       "availability_365             0\n",
       "calendar_last_scraped        0\n",
       "number_of_reviews            0\n",
       "dtype: int64"
      ]
     },
     "execution_count": 295,
     "metadata": {},
     "output_type": "execute_result"
    }
   ],
   "source": [
    "# re-checking columns 20-39\n",
    "listings.isnull().sum()[20:40]"
   ]
  },
  {
   "cell_type": "code",
   "execution_count": 296,
   "id": "62c55537-5298-446c-9d1a-eb8bccc944a2",
   "metadata": {},
   "outputs": [
    {
     "data": {
      "text/plain": [
       "longitude         float64\n",
       "property_type      object\n",
       "room_type          object\n",
       "accommodates        int64\n",
       "bathrooms_text     object\n",
       "bedrooms          float64\n",
       "beds              float64\n",
       "amenities          object\n",
       "price              object\n",
       "minimum_nights      int64\n",
       "dtype: object"
      ]
     },
     "execution_count": 296,
     "metadata": {},
     "output_type": "execute_result"
    }
   ],
   "source": [
    "listings.dtypes[20:30]"
   ]
  },
  {
   "cell_type": "code",
   "execution_count": 297,
   "id": "c6bf5b70-bfd1-41c8-8287-5e92b14e085e",
   "metadata": {},
   "outputs": [
    {
     "data": {
      "text/html": [
       "<div>\n",
       "<style scoped>\n",
       "    .dataframe tbody tr th:only-of-type {\n",
       "        vertical-align: middle;\n",
       "    }\n",
       "\n",
       "    .dataframe tbody tr th {\n",
       "        vertical-align: top;\n",
       "    }\n",
       "\n",
       "    .dataframe thead th {\n",
       "        text-align: right;\n",
       "    }\n",
       "</style>\n",
       "<table border=\"1\" class=\"dataframe\">\n",
       "  <thead>\n",
       "    <tr style=\"text-align: right;\">\n",
       "      <th></th>\n",
       "      <th>bedrooms</th>\n",
       "      <th>beds</th>\n",
       "    </tr>\n",
       "  </thead>\n",
       "  <tbody>\n",
       "    <tr>\n",
       "      <th>bedrooms</th>\n",
       "      <td>1.000000</td>\n",
       "      <td>0.792918</td>\n",
       "    </tr>\n",
       "    <tr>\n",
       "      <th>beds</th>\n",
       "      <td>0.792918</td>\n",
       "      <td>1.000000</td>\n",
       "    </tr>\n",
       "  </tbody>\n",
       "</table>\n",
       "</div>"
      ],
      "text/plain": [
       "          bedrooms      beds\n",
       "bedrooms  1.000000  0.792918\n",
       "beds      0.792918  1.000000"
      ]
     },
     "execution_count": 297,
     "metadata": {},
     "output_type": "execute_result"
    }
   ],
   "source": [
    "listings[['bedrooms', 'beds']].corr()"
   ]
  },
  {
   "cell_type": "code",
   "execution_count": 298,
   "id": "c170bb9f-a3ba-4fc9-9a33-dd781b1dae9a",
   "metadata": {},
   "outputs": [],
   "source": [
    "listings.dropna(subset = ['beds', 'bathrooms_text'], inplace=True)\n",
    "listings.drop(columns = 'bedrooms', inplace=True)"
   ]
  },
  {
   "cell_type": "code",
   "execution_count": 299,
   "id": "bd089afa-b0ca-4fd7-9151-8c67d05b07c2",
   "metadata": {},
   "outputs": [
    {
     "data": {
      "text/plain": [
       "longitude                                       0\n",
       "property_type                                   0\n",
       "room_type                                       0\n",
       "accommodates                                    0\n",
       "bathrooms_text                                  0\n",
       "beds                                            0\n",
       "amenities                                       0\n",
       "price                                           0\n",
       "minimum_nights                                  0\n",
       "maximum_nights                                  0\n",
       "minimum_nights_avg_ntm                          0\n",
       "maximum_nights_avg_ntm                          0\n",
       "has_availability                                0\n",
       "availability_30                                 0\n",
       "availability_60                                 0\n",
       "availability_90                                 0\n",
       "availability_365                                0\n",
       "calendar_last_scraped                           0\n",
       "number_of_reviews                               0\n",
       "number_of_reviews_ltm                           0\n",
       "number_of_reviews_l30d                          0\n",
       "first_review                                    0\n",
       "last_review                                     0\n",
       "rating                                          0\n",
       "license                                         0\n",
       "instant_bookable                                0\n",
       "calculated_host_listings_count                  0\n",
       "calculated_host_listings_count_entire_homes     0\n",
       "calculated_host_listings_count_private_rooms    0\n",
       "calculated_host_listings_count_shared_rooms     0\n",
       "reviews_per_month                               0\n",
       "dtype: int64"
      ]
     },
     "execution_count": 299,
     "metadata": {},
     "output_type": "execute_result"
    }
   ],
   "source": [
    "# re-checking columns 20 and up\n",
    "listings.isnull().sum()[20:]"
   ]
  },
  {
   "cell_type": "code",
   "execution_count": 300,
   "id": "d68d6180-90a2-4044-8fbc-3f6d27f6aa7c",
   "metadata": {},
   "outputs": [
    {
     "data": {
      "text/plain": [
       "(15185, 51)"
      ]
     },
     "execution_count": 300,
     "metadata": {},
     "output_type": "execute_result"
    }
   ],
   "source": [
    "listings.shape"
   ]
  },
  {
   "cell_type": "code",
   "execution_count": 301,
   "id": "8e768559-0bf9-4293-9969-6342b473ab8b",
   "metadata": {},
   "outputs": [
    {
     "data": {
      "text/plain": [
       "id                         0\n",
       "listing_url                0\n",
       "scrape_id                  0\n",
       "last_scraped               0\n",
       "name                       0\n",
       "description               74\n",
       "picture_url                0\n",
       "host_id                    0\n",
       "host_url                   0\n",
       "host_name                  8\n",
       "host_since                 8\n",
       "host_response_time         0\n",
       "host_response_rate         0\n",
       "host_is_superhost          0\n",
       "host_listings_count        8\n",
       "host_verifications         0\n",
       "host_has_profile_pic       8\n",
       "host_identity_verified     8\n",
       "neighbourhood_cleansed     0\n",
       "latitude                   0\n",
       "dtype: int64"
      ]
     },
     "execution_count": 301,
     "metadata": {},
     "output_type": "execute_result"
    }
   ],
   "source": [
    "listings.isnull().sum()[:20]"
   ]
  },
  {
   "cell_type": "code",
   "execution_count": 302,
   "id": "c07ff7d9-a24a-49e3-b6cc-b5ac2a3eb01a",
   "metadata": {},
   "outputs": [],
   "source": [
    "listings.dropna(subset = 'description', inplace = True)"
   ]
  },
  {
   "cell_type": "code",
   "execution_count": 303,
   "id": "d3584ab3-296b-44e2-a8a6-2f390d5916a3",
   "metadata": {},
   "outputs": [
    {
     "data": {
      "text/plain": [
       "t    14986\n",
       "f      117\n",
       "Name: host_has_profile_pic, dtype: int64"
      ]
     },
     "execution_count": 303,
     "metadata": {},
     "output_type": "execute_result"
    }
   ],
   "source": [
    "listings['host_has_profile_pic'].value_counts()"
   ]
  },
  {
   "cell_type": "code",
   "execution_count": 304,
   "id": "efc702f7-7572-4b37-bbc0-73940be5b40f",
   "metadata": {},
   "outputs": [],
   "source": [
    "listings['host_has_profile_pic'] = listings['host_has_profile_pic'].map(lambda x: 1 if x == 't' else 0)\n",
    "listings['host_identity_verified'] = listings['host_identity_verified'].map(lambda x: 1 if x == 't' else 0)"
   ]
  },
  {
   "cell_type": "code",
   "execution_count": 305,
   "id": "8a3923ba-4111-457e-b3a3-2465a6345d45",
   "metadata": {},
   "outputs": [],
   "source": [
    "listings.dropna(subset = 'host_name', inplace=True)"
   ]
  },
  {
   "cell_type": "code",
   "execution_count": 306,
   "id": "b15d7944-5938-4458-9534-d3fe373c851b",
   "metadata": {},
   "outputs": [
    {
     "data": {
      "text/plain": [
       "0"
      ]
     },
     "execution_count": 306,
     "metadata": {},
     "output_type": "execute_result"
    }
   ],
   "source": [
    "# double checking null values removed\n",
    "listings.isnull().sum().sum()"
   ]
  },
  {
   "cell_type": "markdown",
   "id": "04485630-45bc-4305-a042-9db643e8c14a",
   "metadata": {},
   "source": [
    "-----\n",
    "#### *Checking data types and renaming columns*"
   ]
  },
  {
   "cell_type": "code",
   "execution_count": 307,
   "id": "a07f87f0-23b5-4249-b191-157e70d2d311",
   "metadata": {},
   "outputs": [
    {
     "data": {
      "text/plain": [
       "id                                                int64\n",
       "listing_url                                      object\n",
       "scrape_id                                         int64\n",
       "last_scraped                                     object\n",
       "name                                             object\n",
       "description                                      object\n",
       "picture_url                                      object\n",
       "host_id                                           int64\n",
       "host_url                                         object\n",
       "host_name                                        object\n",
       "host_since                                       object\n",
       "host_response_time                                int64\n",
       "host_response_rate                              float64\n",
       "host_is_superhost                                 int64\n",
       "host_listings_count                             float64\n",
       "host_verifications                               object\n",
       "host_has_profile_pic                              int64\n",
       "host_identity_verified                            int64\n",
       "neighbourhood_cleansed                           object\n",
       "latitude                                        float64\n",
       "longitude                                       float64\n",
       "property_type                                    object\n",
       "room_type                                        object\n",
       "accommodates                                      int64\n",
       "bathrooms_text                                   object\n",
       "beds                                            float64\n",
       "amenities                                        object\n",
       "price                                            object\n",
       "minimum_nights                                    int64\n",
       "maximum_nights                                    int64\n",
       "minimum_nights_avg_ntm                          float64\n",
       "maximum_nights_avg_ntm                          float64\n",
       "has_availability                                 object\n",
       "availability_30                                   int64\n",
       "availability_60                                   int64\n",
       "availability_90                                   int64\n",
       "availability_365                                  int64\n",
       "calendar_last_scraped                            object\n",
       "number_of_reviews                                 int64\n",
       "number_of_reviews_ltm                             int64\n",
       "number_of_reviews_l30d                            int64\n",
       "first_review                                     object\n",
       "last_review                                      object\n",
       "rating                                          float64\n",
       "license                                           int64\n",
       "instant_bookable                                 object\n",
       "calculated_host_listings_count                    int64\n",
       "calculated_host_listings_count_entire_homes       int64\n",
       "calculated_host_listings_count_private_rooms      int64\n",
       "calculated_host_listings_count_shared_rooms       int64\n",
       "reviews_per_month                               float64\n",
       "dtype: object"
      ]
     },
     "execution_count": 307,
     "metadata": {},
     "output_type": "execute_result"
    }
   ],
   "source": [
    "listings.dtypes"
   ]
  },
  {
   "cell_type": "code",
   "execution_count": 308,
   "id": "794ba103-02e8-42cb-a63d-e75d84e36c30",
   "metadata": {},
   "outputs": [],
   "source": [
    "listings.rename(columns = {'neighbourhood_cleansed':'neighborhood'}, inplace = True)"
   ]
  },
  {
   "cell_type": "code",
   "execution_count": 309,
   "id": "bf167360-10c5-4b62-b1ad-5a7eac876ef4",
   "metadata": {},
   "outputs": [
    {
     "data": {
      "text/plain": [
       "Downtown/Civic Center    1593\n",
       "Mission                  1361\n",
       "Western Addition          987\n",
       "South of Market           817\n",
       "Bernal Heights            783\n",
       "Castro/Upper Market       761\n",
       "Haight Ashbury            711\n",
       "Outer Sunset              708\n",
       "Nob Hill                  634\n",
       "Noe Valley                590\n",
       "Marina                    435\n",
       "Inner Richmond            394\n",
       "Outer Richmond            384\n",
       "Potrero Hill              382\n",
       "Bayview                   371\n",
       "Russian Hill              360\n",
       "North Beach               343\n",
       "Pacific Heights           337\n",
       "Inner Sunset              336\n",
       "Excelsior                 318\n",
       "Outer Mission             289\n",
       "Parkside                  285\n",
       "Financial District        283\n",
       "Ocean View                282\n",
       "Chinatown                 269\n",
       "West of Twin Peaks        241\n",
       "Visitacion Valley         148\n",
       "Lakeshore                 143\n",
       "Glen Park                 138\n",
       "Crocker Amazon            134\n",
       "Twin Peaks                127\n",
       "Presidio Heights           63\n",
       "Seacliff                   32\n",
       "Diamond Heights            31\n",
       "Presidio                   22\n",
       "Golden Gate Park           11\n",
       "Name: neighborhood, dtype: int64"
      ]
     },
     "execution_count": 309,
     "metadata": {},
     "output_type": "execute_result"
    }
   ],
   "source": [
    "listings['neighborhood'].value_counts()"
   ]
  },
  {
   "cell_type": "code",
   "execution_count": 310,
   "id": "df62bfa3-62e6-49d8-83a4-74f98e69aa4c",
   "metadata": {},
   "outputs": [
    {
     "data": {
      "text/plain": [
       "0     4688\n",
       "60     784\n",
       "1      499\n",
       "2      361\n",
       "59     325\n",
       "      ... \n",
       "44      95\n",
       "43      93\n",
       "38      87\n",
       "49      83\n",
       "50      79\n",
       "Name: availability_60, Length: 61, dtype: int64"
      ]
     },
     "execution_count": 310,
     "metadata": {},
     "output_type": "execute_result"
    }
   ],
   "source": [
    "listings['availability_60'].value_counts()"
   ]
  },
  {
   "cell_type": "code",
   "execution_count": 311,
   "id": "5abaefbd-dbd7-4f71-96d9-795f0a83166a",
   "metadata": {},
   "outputs": [],
   "source": [
    "# binarize availability - can see which ones book up well in advance this way\n",
    "listings['has_availability'] = listings['has_availability'].map(lambda x: 1 if x == 't' else 0)\n",
    "listings.rename(columns = {'has_availability': 'available_today'}, inplace=True)\n",
    "listings['availability_30'] = listings['availability_30'].map(lambda x: 0 if x == 0 else 1)\n",
    "listings['availability_60'] = listings['availability_60'].map(lambda x: 0 if x == 0 else 1)\n",
    "listings['availability_90'] = listings['availability_90'].map(lambda x: 0 if x == 0 else 1)\n",
    "listings['availability_365'] = listings['availability_365'].map(lambda x: 0 if x == 0 else 1)"
   ]
  },
  {
   "cell_type": "code",
   "execution_count": 312,
   "id": "5bc76546-52c4-43e6-b0e1-4a30bcb06dbc",
   "metadata": {},
   "outputs": [],
   "source": [
    "# binarize the instanst booking column\n",
    "listings['instant_bookable'] = listings['instant_bookable'].map(lambda x: 1 if x == 't' else 0)"
   ]
  },
  {
   "cell_type": "code",
   "execution_count": 313,
   "id": "9a4ff527-fb35-4b86-a616-980844cfe959",
   "metadata": {},
   "outputs": [],
   "source": [
    "# change price to float for modeling\n",
    "listings['price'] = [i[1:] for i in listings['price']]"
   ]
  },
  {
   "cell_type": "code",
   "execution_count": 314,
   "id": "134767b2-cd0f-4986-80e5-42e6ae46b35b",
   "metadata": {
    "tags": []
   },
   "outputs": [
    {
     "data": {
      "text/plain": [
       "dtype('float64')"
      ]
     },
     "execution_count": 314,
     "metadata": {},
     "output_type": "execute_result"
    }
   ],
   "source": [
    "listings['price'] = [float(i[1:]) if len(i[1:]) < 7 else float(i[1:].split(',')[0] + i[1:].split(',')[1]) for i in listings['price']]\n",
    "listings['price'].dtype"
   ]
  },
  {
   "cell_type": "code",
   "execution_count": 315,
   "id": "f3ea5154-813f-45b1-a44c-c4a4a51efaad",
   "metadata": {},
   "outputs": [
    {
     "data": {
      "text/html": [
       "<div>\n",
       "<style scoped>\n",
       "    .dataframe tbody tr th:only-of-type {\n",
       "        vertical-align: middle;\n",
       "    }\n",
       "\n",
       "    .dataframe tbody tr th {\n",
       "        vertical-align: top;\n",
       "    }\n",
       "\n",
       "    .dataframe thead th {\n",
       "        text-align: right;\n",
       "    }\n",
       "</style>\n",
       "<table border=\"1\" class=\"dataframe\">\n",
       "  <thead>\n",
       "    <tr style=\"text-align: right;\">\n",
       "      <th></th>\n",
       "      <th>accommodates</th>\n",
       "      <th>beds</th>\n",
       "    </tr>\n",
       "  </thead>\n",
       "  <tbody>\n",
       "    <tr>\n",
       "      <th>accommodates</th>\n",
       "      <td>1.000000</td>\n",
       "      <td>0.823228</td>\n",
       "    </tr>\n",
       "    <tr>\n",
       "      <th>beds</th>\n",
       "      <td>0.823228</td>\n",
       "      <td>1.000000</td>\n",
       "    </tr>\n",
       "  </tbody>\n",
       "</table>\n",
       "</div>"
      ],
      "text/plain": [
       "              accommodates      beds\n",
       "accommodates      1.000000  0.823228\n",
       "beds              0.823228  1.000000"
      ]
     },
     "execution_count": 315,
     "metadata": {},
     "output_type": "execute_result"
    }
   ],
   "source": [
    "# collinearity between number of beds and accomodates?\n",
    "listings[['accommodates','beds']].corr()"
   ]
  },
  {
   "cell_type": "code",
   "execution_count": 316,
   "id": "1ab94f46-3636-4f13-8a64-f33275ac7fa5",
   "metadata": {},
   "outputs": [
    {
     "data": {
      "text/html": [
       "<div>\n",
       "<style scoped>\n",
       "    .dataframe tbody tr th:only-of-type {\n",
       "        vertical-align: middle;\n",
       "    }\n",
       "\n",
       "    .dataframe tbody tr th {\n",
       "        vertical-align: top;\n",
       "    }\n",
       "\n",
       "    .dataframe thead th {\n",
       "        text-align: right;\n",
       "    }\n",
       "</style>\n",
       "<table border=\"1\" class=\"dataframe\">\n",
       "  <thead>\n",
       "    <tr style=\"text-align: right;\">\n",
       "      <th></th>\n",
       "      <th>host_listings_count</th>\n",
       "      <th>calculated_host_listings_count</th>\n",
       "      <th>calculated_host_listings_count_entire_homes</th>\n",
       "      <th>calculated_host_listings_count_private_rooms</th>\n",
       "      <th>calculated_host_listings_count_shared_rooms</th>\n",
       "    </tr>\n",
       "  </thead>\n",
       "  <tbody>\n",
       "    <tr>\n",
       "      <th>0</th>\n",
       "      <td>1.0</td>\n",
       "      <td>1</td>\n",
       "      <td>1</td>\n",
       "      <td>0</td>\n",
       "      <td>0</td>\n",
       "    </tr>\n",
       "    <tr>\n",
       "      <th>1</th>\n",
       "      <td>2.0</td>\n",
       "      <td>1</td>\n",
       "      <td>1</td>\n",
       "      <td>0</td>\n",
       "      <td>0</td>\n",
       "    </tr>\n",
       "    <tr>\n",
       "      <th>2</th>\n",
       "      <td>10.0</td>\n",
       "      <td>9</td>\n",
       "      <td>0</td>\n",
       "      <td>9</td>\n",
       "      <td>0</td>\n",
       "    </tr>\n",
       "    <tr>\n",
       "      <th>3</th>\n",
       "      <td>10.0</td>\n",
       "      <td>9</td>\n",
       "      <td>0</td>\n",
       "      <td>9</td>\n",
       "      <td>0</td>\n",
       "    </tr>\n",
       "    <tr>\n",
       "      <th>4</th>\n",
       "      <td>2.0</td>\n",
       "      <td>2</td>\n",
       "      <td>2</td>\n",
       "      <td>0</td>\n",
       "      <td>0</td>\n",
       "    </tr>\n",
       "    <tr>\n",
       "      <th>...</th>\n",
       "      <td>...</td>\n",
       "      <td>...</td>\n",
       "      <td>...</td>\n",
       "      <td>...</td>\n",
       "      <td>...</td>\n",
       "    </tr>\n",
       "    <tr>\n",
       "      <th>6437</th>\n",
       "      <td>1426.0</td>\n",
       "      <td>49</td>\n",
       "      <td>49</td>\n",
       "      <td>0</td>\n",
       "      <td>0</td>\n",
       "    </tr>\n",
       "    <tr>\n",
       "      <th>6438</th>\n",
       "      <td>41.0</td>\n",
       "      <td>8</td>\n",
       "      <td>6</td>\n",
       "      <td>2</td>\n",
       "      <td>0</td>\n",
       "    </tr>\n",
       "    <tr>\n",
       "      <th>6439</th>\n",
       "      <td>20.0</td>\n",
       "      <td>13</td>\n",
       "      <td>0</td>\n",
       "      <td>0</td>\n",
       "      <td>13</td>\n",
       "    </tr>\n",
       "    <tr>\n",
       "      <th>6441</th>\n",
       "      <td>1426.0</td>\n",
       "      <td>49</td>\n",
       "      <td>49</td>\n",
       "      <td>0</td>\n",
       "      <td>0</td>\n",
       "    </tr>\n",
       "    <tr>\n",
       "      <th>6442</th>\n",
       "      <td>2.0</td>\n",
       "      <td>1</td>\n",
       "      <td>1</td>\n",
       "      <td>0</td>\n",
       "      <td>0</td>\n",
       "    </tr>\n",
       "  </tbody>\n",
       "</table>\n",
       "<p>15103 rows × 5 columns</p>\n",
       "</div>"
      ],
      "text/plain": [
       "      host_listings_count  calculated_host_listings_count  \\\n",
       "0                     1.0                               1   \n",
       "1                     2.0                               1   \n",
       "2                    10.0                               9   \n",
       "3                    10.0                               9   \n",
       "4                     2.0                               2   \n",
       "...                   ...                             ...   \n",
       "6437               1426.0                              49   \n",
       "6438                 41.0                               8   \n",
       "6439                 20.0                              13   \n",
       "6441               1426.0                              49   \n",
       "6442                  2.0                               1   \n",
       "\n",
       "      calculated_host_listings_count_entire_homes  \\\n",
       "0                                               1   \n",
       "1                                               1   \n",
       "2                                               0   \n",
       "3                                               0   \n",
       "4                                               2   \n",
       "...                                           ...   \n",
       "6437                                           49   \n",
       "6438                                            6   \n",
       "6439                                            0   \n",
       "6441                                           49   \n",
       "6442                                            1   \n",
       "\n",
       "      calculated_host_listings_count_private_rooms  \\\n",
       "0                                                0   \n",
       "1                                                0   \n",
       "2                                                9   \n",
       "3                                                9   \n",
       "4                                                0   \n",
       "...                                            ...   \n",
       "6437                                             0   \n",
       "6438                                             2   \n",
       "6439                                             0   \n",
       "6441                                             0   \n",
       "6442                                             0   \n",
       "\n",
       "      calculated_host_listings_count_shared_rooms  \n",
       "0                                               0  \n",
       "1                                               0  \n",
       "2                                               0  \n",
       "3                                               0  \n",
       "4                                               0  \n",
       "...                                           ...  \n",
       "6437                                            0  \n",
       "6438                                            0  \n",
       "6439                                           13  \n",
       "6441                                            0  \n",
       "6442                                            0  \n",
       "\n",
       "[15103 rows x 5 columns]"
      ]
     },
     "execution_count": 316,
     "metadata": {},
     "output_type": "execute_result"
    }
   ],
   "source": [
    "# Check out calculated host listings count for overlap\n",
    "listings[['host_listings_count','calculated_host_listings_count','calculated_host_listings_count_entire_homes','calculated_host_listings_count_private_rooms','calculated_host_listings_count_shared_rooms']]"
   ]
  },
  {
   "cell_type": "code",
   "execution_count": 317,
   "id": "7148019b-a04d-4418-832c-36e809fb6e3a",
   "metadata": {},
   "outputs": [
    {
     "data": {
      "text/plain": [
       "0     14752\n",
       "26      126\n",
       "17       52\n",
       "1        46\n",
       "23       38\n",
       "13       18\n",
       "5        18\n",
       "6        18\n",
       "14       14\n",
       "8         7\n",
       "3         6\n",
       "9         4\n",
       "7         2\n",
       "2         2\n",
       "Name: calculated_host_listings_count_shared_rooms, dtype: int64"
      ]
     },
     "execution_count": 317,
     "metadata": {},
     "output_type": "execute_result"
    }
   ],
   "source": [
    "listings['calculated_host_listings_count_shared_rooms'].value_counts()"
   ]
  },
  {
   "cell_type": "code",
   "execution_count": 318,
   "id": "75541c94-f524-4bec-8f29-9bc7cc3c7244",
   "metadata": {},
   "outputs": [],
   "source": [
    "listings.rename(columns = {'host_listings_count':'abnb_host_listings_count'}, inplace=True)"
   ]
  },
  {
   "cell_type": "code",
   "execution_count": 319,
   "id": "9f93332f-9a40-46fd-8199-fab7cf2b876f",
   "metadata": {},
   "outputs": [
    {
     "data": {
      "text/plain": [
       "0            1 bath\n",
       "1            1 bath\n",
       "2    4 shared baths\n",
       "3    4 shared baths\n",
       "4         1.5 baths\n",
       "5    1 private bath\n",
       "6            1 bath\n",
       "7            1 bath\n",
       "8            1 bath\n",
       "9           2 baths\n",
       "Name: bathrooms_text, dtype: object"
      ]
     },
     "execution_count": 319,
     "metadata": {},
     "output_type": "execute_result"
    }
   ],
   "source": [
    "# Update bathrooms_text to int - pick out number\n",
    "# add additional column indicating whether shared bath or not\n",
    "listings['bathrooms_text'].head(10)"
   ]
  },
  {
   "cell_type": "code",
   "execution_count": 320,
   "id": "b27d2c69-4a14-4bc8-81fc-9773aa4bd7c5",
   "metadata": {},
   "outputs": [
    {
     "data": {
      "text/plain": [
       "1            11044\n",
       "2             1953\n",
       "1.5            992\n",
       "2.5            320\n",
       "3              262\n",
       "3.5            115\n",
       "5              114\n",
       "4              103\n",
       "0               74\n",
       "10              40\n",
       "4.5             23\n",
       "6               19\n",
       "Shared          15\n",
       "8               12\n",
       "Private          8\n",
       "Half-bath        6\n",
       "5.5              3\n",
       "dtype: int64"
      ]
     },
     "execution_count": 320,
     "metadata": {},
     "output_type": "execute_result"
    }
   ],
   "source": [
    "# checking possible values of bathroom text\n",
    "new_df = pd.DataFrame([(i.split(' ')[0]) for i in listings['bathrooms_text']])\n",
    "new_df.value_counts()"
   ]
  },
  {
   "cell_type": "code",
   "execution_count": 321,
   "id": "10dff33e-514f-4534-be7d-432186e96f8e",
   "metadata": {},
   "outputs": [],
   "source": [
    "listings['bathrooms'] = [float(i.split(' ')[0]) if len(i.split(' ')[0]) <= 3 else 1.0 if i.split(' ')[0] == 'Shared' or i.split(' ')[0] == 'Private' else 0.5 for i in listings['bathrooms_text']]"
   ]
  },
  {
   "cell_type": "code",
   "execution_count": 322,
   "id": "7185e389-4443-4e31-aec9-9b82ab7d9428",
   "metadata": {},
   "outputs": [
    {
     "data": {
      "text/html": [
       "<div>\n",
       "<style scoped>\n",
       "    .dataframe tbody tr th:only-of-type {\n",
       "        vertical-align: middle;\n",
       "    }\n",
       "\n",
       "    .dataframe tbody tr th {\n",
       "        vertical-align: top;\n",
       "    }\n",
       "\n",
       "    .dataframe thead th {\n",
       "        text-align: right;\n",
       "    }\n",
       "</style>\n",
       "<table border=\"1\" class=\"dataframe\">\n",
       "  <thead>\n",
       "    <tr style=\"text-align: right;\">\n",
       "      <th></th>\n",
       "      <th>bathrooms_text</th>\n",
       "      <th>bathrooms</th>\n",
       "    </tr>\n",
       "  </thead>\n",
       "  <tbody>\n",
       "    <tr>\n",
       "      <th>0</th>\n",
       "      <td>1 bath</td>\n",
       "      <td>1.0</td>\n",
       "    </tr>\n",
       "    <tr>\n",
       "      <th>1</th>\n",
       "      <td>1 bath</td>\n",
       "      <td>1.0</td>\n",
       "    </tr>\n",
       "    <tr>\n",
       "      <th>2</th>\n",
       "      <td>4 shared baths</td>\n",
       "      <td>4.0</td>\n",
       "    </tr>\n",
       "    <tr>\n",
       "      <th>3</th>\n",
       "      <td>4 shared baths</td>\n",
       "      <td>4.0</td>\n",
       "    </tr>\n",
       "    <tr>\n",
       "      <th>4</th>\n",
       "      <td>1.5 baths</td>\n",
       "      <td>1.5</td>\n",
       "    </tr>\n",
       "    <tr>\n",
       "      <th>5</th>\n",
       "      <td>1 private bath</td>\n",
       "      <td>1.0</td>\n",
       "    </tr>\n",
       "    <tr>\n",
       "      <th>6</th>\n",
       "      <td>1 bath</td>\n",
       "      <td>1.0</td>\n",
       "    </tr>\n",
       "    <tr>\n",
       "      <th>7</th>\n",
       "      <td>1 bath</td>\n",
       "      <td>1.0</td>\n",
       "    </tr>\n",
       "    <tr>\n",
       "      <th>8</th>\n",
       "      <td>1 bath</td>\n",
       "      <td>1.0</td>\n",
       "    </tr>\n",
       "    <tr>\n",
       "      <th>9</th>\n",
       "      <td>2 baths</td>\n",
       "      <td>2.0</td>\n",
       "    </tr>\n",
       "    <tr>\n",
       "      <th>10</th>\n",
       "      <td>1.5 baths</td>\n",
       "      <td>1.5</td>\n",
       "    </tr>\n",
       "    <tr>\n",
       "      <th>11</th>\n",
       "      <td>3 shared baths</td>\n",
       "      <td>3.0</td>\n",
       "    </tr>\n",
       "    <tr>\n",
       "      <th>12</th>\n",
       "      <td>3 shared baths</td>\n",
       "      <td>3.0</td>\n",
       "    </tr>\n",
       "    <tr>\n",
       "      <th>13</th>\n",
       "      <td>1 shared bath</td>\n",
       "      <td>1.0</td>\n",
       "    </tr>\n",
       "    <tr>\n",
       "      <th>14</th>\n",
       "      <td>1 bath</td>\n",
       "      <td>1.0</td>\n",
       "    </tr>\n",
       "  </tbody>\n",
       "</table>\n",
       "</div>"
      ],
      "text/plain": [
       "    bathrooms_text  bathrooms\n",
       "0           1 bath        1.0\n",
       "1           1 bath        1.0\n",
       "2   4 shared baths        4.0\n",
       "3   4 shared baths        4.0\n",
       "4        1.5 baths        1.5\n",
       "5   1 private bath        1.0\n",
       "6           1 bath        1.0\n",
       "7           1 bath        1.0\n",
       "8           1 bath        1.0\n",
       "9          2 baths        2.0\n",
       "10       1.5 baths        1.5\n",
       "11  3 shared baths        3.0\n",
       "12  3 shared baths        3.0\n",
       "13   1 shared bath        1.0\n",
       "14          1 bath        1.0"
      ]
     },
     "execution_count": 322,
     "metadata": {},
     "output_type": "execute_result"
    }
   ],
   "source": [
    "# verifying that changes have been reflected (column of floats)\n",
    "listings[['bathrooms_text','bathrooms']].head(15)"
   ]
  },
  {
   "cell_type": "code",
   "execution_count": 323,
   "id": "82938f75-610e-4652-a672-66b2022d3fad",
   "metadata": {},
   "outputs": [],
   "source": [
    "# add binarized column of shared bathroom or not\n",
    "listings['bathrooms_shared'] = [1 if 'shared' in i else 0 for i in listings['bathrooms_text']]"
   ]
  },
  {
   "cell_type": "code",
   "execution_count": 324,
   "id": "50b5d373-c382-45d0-aa86-5164e3d695e9",
   "metadata": {},
   "outputs": [
    {
     "data": {
      "text/html": [
       "<div>\n",
       "<style scoped>\n",
       "    .dataframe tbody tr th:only-of-type {\n",
       "        vertical-align: middle;\n",
       "    }\n",
       "\n",
       "    .dataframe tbody tr th {\n",
       "        vertical-align: top;\n",
       "    }\n",
       "\n",
       "    .dataframe thead th {\n",
       "        text-align: right;\n",
       "    }\n",
       "</style>\n",
       "<table border=\"1\" class=\"dataframe\">\n",
       "  <thead>\n",
       "    <tr style=\"text-align: right;\">\n",
       "      <th></th>\n",
       "      <th>bathrooms_text</th>\n",
       "      <th>bathrooms_shared</th>\n",
       "    </tr>\n",
       "  </thead>\n",
       "  <tbody>\n",
       "    <tr>\n",
       "      <th>0</th>\n",
       "      <td>1 bath</td>\n",
       "      <td>0</td>\n",
       "    </tr>\n",
       "    <tr>\n",
       "      <th>1</th>\n",
       "      <td>1 bath</td>\n",
       "      <td>0</td>\n",
       "    </tr>\n",
       "    <tr>\n",
       "      <th>2</th>\n",
       "      <td>4 shared baths</td>\n",
       "      <td>1</td>\n",
       "    </tr>\n",
       "    <tr>\n",
       "      <th>3</th>\n",
       "      <td>4 shared baths</td>\n",
       "      <td>1</td>\n",
       "    </tr>\n",
       "    <tr>\n",
       "      <th>4</th>\n",
       "      <td>1.5 baths</td>\n",
       "      <td>0</td>\n",
       "    </tr>\n",
       "    <tr>\n",
       "      <th>5</th>\n",
       "      <td>1 private bath</td>\n",
       "      <td>0</td>\n",
       "    </tr>\n",
       "    <tr>\n",
       "      <th>6</th>\n",
       "      <td>1 bath</td>\n",
       "      <td>0</td>\n",
       "    </tr>\n",
       "    <tr>\n",
       "      <th>7</th>\n",
       "      <td>1 bath</td>\n",
       "      <td>0</td>\n",
       "    </tr>\n",
       "    <tr>\n",
       "      <th>8</th>\n",
       "      <td>1 bath</td>\n",
       "      <td>0</td>\n",
       "    </tr>\n",
       "    <tr>\n",
       "      <th>9</th>\n",
       "      <td>2 baths</td>\n",
       "      <td>0</td>\n",
       "    </tr>\n",
       "  </tbody>\n",
       "</table>\n",
       "</div>"
      ],
      "text/plain": [
       "   bathrooms_text  bathrooms_shared\n",
       "0          1 bath                 0\n",
       "1          1 bath                 0\n",
       "2  4 shared baths                 1\n",
       "3  4 shared baths                 1\n",
       "4       1.5 baths                 0\n",
       "5  1 private bath                 0\n",
       "6          1 bath                 0\n",
       "7          1 bath                 0\n",
       "8          1 bath                 0\n",
       "9         2 baths                 0"
      ]
     },
     "execution_count": 324,
     "metadata": {},
     "output_type": "execute_result"
    }
   ],
   "source": [
    "# verifying that changes have been reflected (column of floats)\n",
    "listings[['bathrooms_text','bathrooms_shared']].head(10)"
   ]
  },
  {
   "cell_type": "code",
   "execution_count": 325,
   "id": "4c5bfd98-feac-478d-ac5b-f58fb7ccc954",
   "metadata": {},
   "outputs": [],
   "source": [
    "# get rid of the bathrooms text column\n",
    "listings.drop(columns = 'bathrooms_text', inplace=True)"
   ]
  },
  {
   "cell_type": "code",
   "execution_count": 326,
   "id": "a38d0a49-cf4d-49e5-828e-6535de55d252",
   "metadata": {},
   "outputs": [
    {
     "data": {
      "text/html": [
       "<div>\n",
       "<style scoped>\n",
       "    .dataframe tbody tr th:only-of-type {\n",
       "        vertical-align: middle;\n",
       "    }\n",
       "\n",
       "    .dataframe tbody tr th {\n",
       "        vertical-align: top;\n",
       "    }\n",
       "\n",
       "    .dataframe thead th {\n",
       "        text-align: right;\n",
       "    }\n",
       "</style>\n",
       "<table border=\"1\" class=\"dataframe\">\n",
       "  <thead>\n",
       "    <tr style=\"text-align: right;\">\n",
       "      <th></th>\n",
       "      <th>amenities</th>\n",
       "      <th>amenities_count</th>\n",
       "    </tr>\n",
       "  </thead>\n",
       "  <tbody>\n",
       "    <tr>\n",
       "      <th>0</th>\n",
       "      <td>[\"Washer\", \"First aid kit\", \"Hot water\", \"Coff...</td>\n",
       "      <td>34</td>\n",
       "    </tr>\n",
       "    <tr>\n",
       "      <th>1</th>\n",
       "      <td>[\"Shampoo\", \"Washer\", \"Hair dryer\", \"Hangers\",...</td>\n",
       "      <td>16</td>\n",
       "    </tr>\n",
       "    <tr>\n",
       "      <th>2</th>\n",
       "      <td>[\"Washer\", \"Carbon monoxide alarm\", \"Hangers\",...</td>\n",
       "      <td>17</td>\n",
       "    </tr>\n",
       "  </tbody>\n",
       "</table>\n",
       "</div>"
      ],
      "text/plain": [
       "                                           amenities  amenities_count\n",
       "0  [\"Washer\", \"First aid kit\", \"Hot water\", \"Coff...               34\n",
       "1  [\"Shampoo\", \"Washer\", \"Hair dryer\", \"Hangers\",...               16\n",
       "2  [\"Washer\", \"Carbon monoxide alarm\", \"Hangers\",...               17"
      ]
     },
     "execution_count": 326,
     "metadata": {},
     "output_type": "execute_result"
    }
   ],
   "source": [
    "# adding column that counts the amenities\n",
    "listings['amenities_count'] = [len(listings['amenities'].iloc[n].split(', ')) for n in range(0, len(listings['amenities']))]\n",
    "\n",
    "# double checking results\n",
    "listings[['amenities', 'amenities_count']].head(3)"
   ]
  },
  {
   "cell_type": "code",
   "execution_count": 327,
   "id": "7ba65eb0-5883-435a-ad3f-0e5a305efd6b",
   "metadata": {},
   "outputs": [
    {
     "data": {
      "text/plain": [
       "0     ['email', 'phone', 'facebook', 'reviews', 'kba']\n",
       "1    ['email', 'phone', 'reviews', 'kba', 'work_ema...\n",
       "2    ['email', 'phone', 'reviews', 'jumio', 'govern...\n",
       "3    ['email', 'phone', 'reviews', 'jumio', 'govern...\n",
       "4                 ['email', 'phone', 'reviews', 'kba']\n",
       "Name: host_verifications, dtype: object"
      ]
     },
     "execution_count": 327,
     "metadata": {},
     "output_type": "execute_result"
    }
   ],
   "source": [
    "# doing the same for host verifications\n",
    "listings['host_verifications'].head()"
   ]
  },
  {
   "cell_type": "code",
   "execution_count": 328,
   "id": "29e9be0c-1c2a-48ea-8fcc-cb4ee93d3a31",
   "metadata": {},
   "outputs": [
    {
     "data": {
      "text/html": [
       "<div>\n",
       "<style scoped>\n",
       "    .dataframe tbody tr th:only-of-type {\n",
       "        vertical-align: middle;\n",
       "    }\n",
       "\n",
       "    .dataframe tbody tr th {\n",
       "        vertical-align: top;\n",
       "    }\n",
       "\n",
       "    .dataframe thead th {\n",
       "        text-align: right;\n",
       "    }\n",
       "</style>\n",
       "<table border=\"1\" class=\"dataframe\">\n",
       "  <thead>\n",
       "    <tr style=\"text-align: right;\">\n",
       "      <th></th>\n",
       "      <th>host_verifications</th>\n",
       "      <th>host_verifications_count</th>\n",
       "    </tr>\n",
       "  </thead>\n",
       "  <tbody>\n",
       "    <tr>\n",
       "      <th>0</th>\n",
       "      <td>['email', 'phone', 'facebook', 'reviews', 'kba']</td>\n",
       "      <td>5</td>\n",
       "    </tr>\n",
       "    <tr>\n",
       "      <th>1</th>\n",
       "      <td>['email', 'phone', 'reviews', 'kba', 'work_ema...</td>\n",
       "      <td>5</td>\n",
       "    </tr>\n",
       "    <tr>\n",
       "      <th>2</th>\n",
       "      <td>['email', 'phone', 'reviews', 'jumio', 'govern...</td>\n",
       "      <td>5</td>\n",
       "    </tr>\n",
       "  </tbody>\n",
       "</table>\n",
       "</div>"
      ],
      "text/plain": [
       "                                  host_verifications  host_verifications_count\n",
       "0   ['email', 'phone', 'facebook', 'reviews', 'kba']                         5\n",
       "1  ['email', 'phone', 'reviews', 'kba', 'work_ema...                         5\n",
       "2  ['email', 'phone', 'reviews', 'jumio', 'govern...                         5"
      ]
     },
     "execution_count": 328,
     "metadata": {},
     "output_type": "execute_result"
    }
   ],
   "source": [
    "# adding column that counts the verifications\n",
    "listings['host_verifications_count'] = [len(listings['host_verifications'].iloc[n].split(', ')) for n in range(0, len(listings['host_verifications']))]\n",
    "\n",
    "# double checking results\n",
    "listings[['host_verifications', 'host_verifications_count']].head(3)"
   ]
  },
  {
   "cell_type": "code",
   "execution_count": 329,
   "id": "cfd2ca50-e53b-4fa4-830b-6596fc67518d",
   "metadata": {},
   "outputs": [
    {
     "data": {
      "text/plain": [
       "Entire home/apt    9749\n",
       "Private room       4941\n",
       "Shared room         231\n",
       "Hotel room          182\n",
       "Name: room_type, dtype: int64"
      ]
     },
     "execution_count": 329,
     "metadata": {},
     "output_type": "execute_result"
    }
   ],
   "source": [
    "# adding column that indicates shared or private type of stay\n",
    "listings['room_type'].value_counts()"
   ]
  },
  {
   "cell_type": "code",
   "execution_count": 330,
   "id": "2c5966c0-f17c-4ef6-ab30-f3b8716ba293",
   "metadata": {
    "tags": []
   },
   "outputs": [
    {
     "data": {
      "text/html": [
       "<div>\n",
       "<style scoped>\n",
       "    .dataframe tbody tr th:only-of-type {\n",
       "        vertical-align: middle;\n",
       "    }\n",
       "\n",
       "    .dataframe tbody tr th {\n",
       "        vertical-align: top;\n",
       "    }\n",
       "\n",
       "    .dataframe thead th {\n",
       "        text-align: right;\n",
       "    }\n",
       "</style>\n",
       "<table border=\"1\" class=\"dataframe\">\n",
       "  <thead>\n",
       "    <tr style=\"text-align: right;\">\n",
       "      <th></th>\n",
       "      <th>room_type</th>\n",
       "      <th>private_listing</th>\n",
       "    </tr>\n",
       "  </thead>\n",
       "  <tbody>\n",
       "    <tr>\n",
       "      <th>0</th>\n",
       "      <td>Entire home/apt</td>\n",
       "      <td>1</td>\n",
       "    </tr>\n",
       "    <tr>\n",
       "      <th>1</th>\n",
       "      <td>Entire home/apt</td>\n",
       "      <td>1</td>\n",
       "    </tr>\n",
       "    <tr>\n",
       "      <th>2</th>\n",
       "      <td>Private room</td>\n",
       "      <td>0</td>\n",
       "    </tr>\n",
       "    <tr>\n",
       "      <th>3</th>\n",
       "      <td>Private room</td>\n",
       "      <td>0</td>\n",
       "    </tr>\n",
       "    <tr>\n",
       "      <th>4</th>\n",
       "      <td>Entire home/apt</td>\n",
       "      <td>1</td>\n",
       "    </tr>\n",
       "    <tr>\n",
       "      <th>...</th>\n",
       "      <td>...</td>\n",
       "      <td>...</td>\n",
       "    </tr>\n",
       "    <tr>\n",
       "      <th>6437</th>\n",
       "      <td>Entire home/apt</td>\n",
       "      <td>1</td>\n",
       "    </tr>\n",
       "    <tr>\n",
       "      <th>6438</th>\n",
       "      <td>Entire home/apt</td>\n",
       "      <td>1</td>\n",
       "    </tr>\n",
       "    <tr>\n",
       "      <th>6439</th>\n",
       "      <td>Shared room</td>\n",
       "      <td>0</td>\n",
       "    </tr>\n",
       "    <tr>\n",
       "      <th>6441</th>\n",
       "      <td>Entire home/apt</td>\n",
       "      <td>1</td>\n",
       "    </tr>\n",
       "    <tr>\n",
       "      <th>6442</th>\n",
       "      <td>Entire home/apt</td>\n",
       "      <td>1</td>\n",
       "    </tr>\n",
       "  </tbody>\n",
       "</table>\n",
       "<p>15103 rows × 2 columns</p>\n",
       "</div>"
      ],
      "text/plain": [
       "            room_type  private_listing\n",
       "0     Entire home/apt                1\n",
       "1     Entire home/apt                1\n",
       "2        Private room                0\n",
       "3        Private room                0\n",
       "4     Entire home/apt                1\n",
       "...               ...              ...\n",
       "6437  Entire home/apt                1\n",
       "6438  Entire home/apt                1\n",
       "6439      Shared room                0\n",
       "6441  Entire home/apt                1\n",
       "6442  Entire home/apt                1\n",
       "\n",
       "[15103 rows x 2 columns]"
      ]
     },
     "execution_count": 330,
     "metadata": {},
     "output_type": "execute_result"
    }
   ],
   "source": [
    "# adding columns for privacy - note private room is under shared as you would be sharing common areas with others\n",
    "listings['private_listing'] = [1 if (i == 'Entire home/apt' or i == 'Hotel room') else 0 for i in listings['room_type']]\n",
    "listings[['room_type','private_listing']]"
   ]
  },
  {
   "cell_type": "markdown",
   "id": "d27d63b0-b10c-428f-b1d9-2540d03f7f8b",
   "metadata": {},
   "source": [
    "-----\n",
    "#### *Checking for incorrect negative values and/or erroneous data*"
   ]
  },
  {
   "cell_type": "code",
   "execution_count": 331,
   "id": "57dfdfa1-d0e4-44c8-a72a-c9b3ef2fa143",
   "metadata": {},
   "outputs": [
    {
     "data": {
      "text/html": [
       "<div>\n",
       "<style scoped>\n",
       "    .dataframe tbody tr th:only-of-type {\n",
       "        vertical-align: middle;\n",
       "    }\n",
       "\n",
       "    .dataframe tbody tr th {\n",
       "        vertical-align: top;\n",
       "    }\n",
       "\n",
       "    .dataframe thead th {\n",
       "        text-align: right;\n",
       "    }\n",
       "</style>\n",
       "<table border=\"1\" class=\"dataframe\">\n",
       "  <thead>\n",
       "    <tr style=\"text-align: right;\">\n",
       "      <th></th>\n",
       "      <th>dtype</th>\n",
       "    </tr>\n",
       "  </thead>\n",
       "  <tbody>\n",
       "    <tr>\n",
       "      <th>id</th>\n",
       "      <td>int64</td>\n",
       "    </tr>\n",
       "    <tr>\n",
       "      <th>scrape_id</th>\n",
       "      <td>int64</td>\n",
       "    </tr>\n",
       "    <tr>\n",
       "      <th>host_id</th>\n",
       "      <td>int64</td>\n",
       "    </tr>\n",
       "    <tr>\n",
       "      <th>host_response_time</th>\n",
       "      <td>int64</td>\n",
       "    </tr>\n",
       "    <tr>\n",
       "      <th>host_response_rate</th>\n",
       "      <td>float64</td>\n",
       "    </tr>\n",
       "    <tr>\n",
       "      <th>host_is_superhost</th>\n",
       "      <td>int64</td>\n",
       "    </tr>\n",
       "    <tr>\n",
       "      <th>abnb_host_listings_count</th>\n",
       "      <td>float64</td>\n",
       "    </tr>\n",
       "    <tr>\n",
       "      <th>host_has_profile_pic</th>\n",
       "      <td>int64</td>\n",
       "    </tr>\n",
       "    <tr>\n",
       "      <th>host_identity_verified</th>\n",
       "      <td>int64</td>\n",
       "    </tr>\n",
       "    <tr>\n",
       "      <th>latitude</th>\n",
       "      <td>float64</td>\n",
       "    </tr>\n",
       "  </tbody>\n",
       "</table>\n",
       "</div>"
      ],
      "text/plain": [
       "                            dtype\n",
       "id                          int64\n",
       "scrape_id                   int64\n",
       "host_id                     int64\n",
       "host_response_time          int64\n",
       "host_response_rate        float64\n",
       "host_is_superhost           int64\n",
       "abnb_host_listings_count  float64\n",
       "host_has_profile_pic        int64\n",
       "host_identity_verified      int64\n",
       "latitude                  float64"
      ]
     },
     "execution_count": 331,
     "metadata": {},
     "output_type": "execute_result"
    }
   ],
   "source": [
    "# creating a data frame of each column\n",
    "dtype_df = pd.DataFrame(data = listings.dtypes)\n",
    "dtype_df.rename(columns = {0: 'dtype'}, inplace=True)\n",
    "\n",
    "# slicing that data frame to only include int or float (numerical columns)\n",
    "numerical_cols = dtype_df[(dtype_df['dtype'] == 'int64') | (dtype_df['dtype'] == 'float64')]\n",
    "numerical_cols.head(10)"
   ]
  },
  {
   "cell_type": "code",
   "execution_count": 332,
   "id": "531f6b6d-ab45-4b53-88f1-534dfdf1e64e",
   "metadata": {},
   "outputs": [],
   "source": [
    "# Look for negatives that shouldn’t be negative (price, beds, bathrooms, etc.) \n",
    "def neg_check(df):\n",
    "    '''\n",
    "    this function iterates through each numerical column\n",
    "    and checks if any of the values are negative\n",
    "    the function would print out column names with a negative occurrence\n",
    "    '''\n",
    "    for i in df.index:\n",
    "        if listings[listings[i] < 0].shape[0] != 0:\n",
    "            print(i)"
   ]
  },
  {
   "cell_type": "code",
   "execution_count": 333,
   "id": "03aa64b7-26a1-4c2f-833c-e9b09fa4636a",
   "metadata": {},
   "outputs": [
    {
     "name": "stdout",
     "output_type": "stream",
     "text": [
      "longitude\n"
     ]
    }
   ],
   "source": [
    "# running the function on numerical columns\n",
    "neg_check(numerical_cols)"
   ]
  },
  {
   "cell_type": "markdown",
   "id": "5da84bc0-b001-4ac8-ac91-0d285172e1ff",
   "metadata": {},
   "source": [
    "*Makes sense to have negative longitudes as we're focused on San Francisco"
   ]
  },
  {
   "cell_type": "code",
   "execution_count": 334,
   "id": "2f7f46b7-4dd8-478e-af60-565d770262a3",
   "metadata": {},
   "outputs": [
    {
     "data": {
      "text/plain": [
       "Index(['id', 'listing_url', 'scrape_id', 'last_scraped', 'name', 'description',\n",
       "       'picture_url', 'host_id', 'host_url', 'host_name', 'host_since',\n",
       "       'host_response_time', 'host_response_rate', 'host_is_superhost',\n",
       "       'abnb_host_listings_count', 'host_verifications',\n",
       "       'host_has_profile_pic', 'host_identity_verified', 'neighborhood',\n",
       "       'latitude', 'longitude', 'property_type', 'room_type', 'accommodates',\n",
       "       'beds', 'amenities', 'price', 'minimum_nights', 'maximum_nights',\n",
       "       'minimum_nights_avg_ntm', 'maximum_nights_avg_ntm', 'available_today',\n",
       "       'availability_30', 'availability_60', 'availability_90',\n",
       "       'availability_365', 'calendar_last_scraped', 'number_of_reviews',\n",
       "       'number_of_reviews_ltm', 'number_of_reviews_l30d', 'first_review',\n",
       "       'last_review', 'rating', 'license', 'instant_bookable',\n",
       "       'calculated_host_listings_count',\n",
       "       'calculated_host_listings_count_entire_homes',\n",
       "       'calculated_host_listings_count_private_rooms',\n",
       "       'calculated_host_listings_count_shared_rooms', 'reviews_per_month',\n",
       "       'bathrooms', 'bathrooms_shared', 'amenities_count',\n",
       "       'host_verifications_count', 'private_listing'],\n",
       "      dtype='object')"
      ]
     },
     "execution_count": 334,
     "metadata": {},
     "output_type": "execute_result"
    }
   ],
   "source": [
    "# get rid of the remaining url columns and scrape id - won't be used in analysis\n",
    "listings.columns"
   ]
  },
  {
   "cell_type": "code",
   "execution_count": 335,
   "id": "742a0a10-6800-4888-96be-e7347cc18ab5",
   "metadata": {},
   "outputs": [
    {
     "name": "stdout",
     "output_type": "stream",
     "text": [
      "(15103, 55)\n"
     ]
    }
   ],
   "source": [
    "print(listings.shape)\n",
    "listings.drop(columns = ['listing_url', 'scrape_id', 'picture_url', 'host_url'], inplace=True)"
   ]
  },
  {
   "cell_type": "code",
   "execution_count": 336,
   "id": "4156a26b-8d75-48e3-9383-cd01f172a626",
   "metadata": {},
   "outputs": [
    {
     "data": {
      "text/plain": [
       "(15103, 51)"
      ]
     },
     "execution_count": 336,
     "metadata": {},
     "output_type": "execute_result"
    }
   ],
   "source": [
    "listings.shape"
   ]
  },
  {
   "cell_type": "markdown",
   "id": "45f52500-136b-4c9c-adf1-01c9cc78597b",
   "metadata": {},
   "source": [
    "----\n",
    "## Setting up Target Variable for Classification"
   ]
  },
  {
   "cell_type": "code",
   "execution_count": 337,
   "id": "89e913b3-14a1-4451-99fe-3d10fd5f5b1b",
   "metadata": {},
   "outputs": [
    {
     "data": {
      "text/plain": [
       "count    15103.000000\n",
       "mean         4.742484\n",
       "std          0.522765\n",
       "min          0.000000\n",
       "25%          4.710000\n",
       "50%          4.890000\n",
       "75%          5.000000\n",
       "max          5.000000\n",
       "Name: rating, dtype: float64"
      ]
     },
     "execution_count": 337,
     "metadata": {},
     "output_type": "execute_result"
    }
   ],
   "source": [
    "listings['rating'].describe()"
   ]
  },
  {
   "cell_type": "code",
   "execution_count": 338,
   "id": "e170d902-7fda-4e29-93a8-6d74dab092de",
   "metadata": {},
   "outputs": [
    {
     "data": {
      "text/plain": [
       "[(4.84, 4.94], (-0.001, 4.66], (4.66, 4.84], (4.94, 5.0]]\n",
       "Categories (4, interval[float64, right]): [(-0.001, 4.66] < (4.66, 4.84] < (4.84, 4.94] < (4.94, 5.0]]"
      ]
     },
     "execution_count": 338,
     "metadata": {},
     "output_type": "execute_result"
    }
   ],
   "source": [
    "# separating the ratings into equal bins to use for classification (quartiles)\n",
    "# this code method was taken from https://pbpython.com/pandas-qcut-cut.html\n",
    "pd.qcut(listings['rating'], q = 5, duplicates = 'drop').unique()"
   ]
  },
  {
   "cell_type": "code",
   "execution_count": 339,
   "id": "8a3d4909-1183-4272-93b9-87d0165768b6",
   "metadata": {},
   "outputs": [],
   "source": [
    "listings['rating_target'] = listings['rating'].map(lambda x: 1 if x <= 4.66 else 2 if x <= 4.84 else 3 if x <= 4.94 else 4)"
   ]
  },
  {
   "cell_type": "code",
   "execution_count": 340,
   "id": "8723fcad-a9eb-479c-ad3b-b07e993133a0",
   "metadata": {},
   "outputs": [
    {
     "data": {
      "text/html": [
       "<div>\n",
       "<style scoped>\n",
       "    .dataframe tbody tr th:only-of-type {\n",
       "        vertical-align: middle;\n",
       "    }\n",
       "\n",
       "    .dataframe tbody tr th {\n",
       "        vertical-align: top;\n",
       "    }\n",
       "\n",
       "    .dataframe thead th {\n",
       "        text-align: right;\n",
       "    }\n",
       "</style>\n",
       "<table border=\"1\" class=\"dataframe\">\n",
       "  <thead>\n",
       "    <tr style=\"text-align: right;\">\n",
       "      <th></th>\n",
       "      <th>rating</th>\n",
       "      <th>rating_target</th>\n",
       "    </tr>\n",
       "  </thead>\n",
       "  <tbody>\n",
       "    <tr>\n",
       "      <th>0</th>\n",
       "      <td>4.87</td>\n",
       "      <td>3</td>\n",
       "    </tr>\n",
       "    <tr>\n",
       "      <th>1</th>\n",
       "      <td>4.88</td>\n",
       "      <td>3</td>\n",
       "    </tr>\n",
       "    <tr>\n",
       "      <th>2</th>\n",
       "      <td>4.20</td>\n",
       "      <td>1</td>\n",
       "    </tr>\n",
       "    <tr>\n",
       "      <th>3</th>\n",
       "      <td>4.63</td>\n",
       "      <td>1</td>\n",
       "    </tr>\n",
       "    <tr>\n",
       "      <th>4</th>\n",
       "      <td>4.87</td>\n",
       "      <td>3</td>\n",
       "    </tr>\n",
       "    <tr>\n",
       "      <th>...</th>\n",
       "      <td>...</td>\n",
       "      <td>...</td>\n",
       "    </tr>\n",
       "    <tr>\n",
       "      <th>6437</th>\n",
       "      <td>5.00</td>\n",
       "      <td>4</td>\n",
       "    </tr>\n",
       "    <tr>\n",
       "      <th>6438</th>\n",
       "      <td>4.72</td>\n",
       "      <td>2</td>\n",
       "    </tr>\n",
       "    <tr>\n",
       "      <th>6439</th>\n",
       "      <td>5.00</td>\n",
       "      <td>4</td>\n",
       "    </tr>\n",
       "    <tr>\n",
       "      <th>6441</th>\n",
       "      <td>2.00</td>\n",
       "      <td>1</td>\n",
       "    </tr>\n",
       "    <tr>\n",
       "      <th>6442</th>\n",
       "      <td>4.84</td>\n",
       "      <td>2</td>\n",
       "    </tr>\n",
       "  </tbody>\n",
       "</table>\n",
       "<p>15103 rows × 2 columns</p>\n",
       "</div>"
      ],
      "text/plain": [
       "      rating  rating_target\n",
       "0       4.87              3\n",
       "1       4.88              3\n",
       "2       4.20              1\n",
       "3       4.63              1\n",
       "4       4.87              3\n",
       "...      ...            ...\n",
       "6437    5.00              4\n",
       "6438    4.72              2\n",
       "6439    5.00              4\n",
       "6441    2.00              1\n",
       "6442    4.84              2\n",
       "\n",
       "[15103 rows x 2 columns]"
      ]
     },
     "execution_count": 340,
     "metadata": {},
     "output_type": "execute_result"
    }
   ],
   "source": [
    "listings[['rating','rating_target']]"
   ]
  },
  {
   "cell_type": "markdown",
   "id": "675b9864-ff15-4684-9b06-05ca373d5f97",
   "metadata": {
    "tags": []
   },
   "source": [
    "---- \n",
    "## *Save the clean listings csv*"
   ]
  },
  {
   "cell_type": "code",
   "execution_count": 341,
   "id": "12fac663-08e9-4588-a479-93cf4cd7edf2",
   "metadata": {},
   "outputs": [],
   "source": [
    "# Save clean listings csv\n",
    "listings.to_csv('../data/sf_listings_cleaned.csv', index = False)"
   ]
  }
 ],
 "metadata": {
  "kernelspec": {
   "display_name": "Python [conda env:dsi] *",
   "language": "python",
   "name": "conda-env-dsi-py"
  },
  "language_info": {
   "codemirror_mode": {
    "name": "ipython",
    "version": 3
   },
   "file_extension": ".py",
   "mimetype": "text/x-python",
   "name": "python",
   "nbconvert_exporter": "python",
   "pygments_lexer": "ipython3",
   "version": "3.9.12"
  }
 },
 "nbformat": 4,
 "nbformat_minor": 5
}
