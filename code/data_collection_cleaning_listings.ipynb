{
 "cells": [
  {
   "cell_type": "markdown",
   "id": "98f87ed9-7353-4728-8066-5dcfe93bc3ca",
   "metadata": {},
   "source": [
    "# **Data Collection and Cleaning (Listings)**\n",
    "*Data pulled from [Inside Airbnb](http://insideairbnb.com/)*"
   ]
  },
  {
   "cell_type": "markdown",
   "id": "6483c2b7-ec8c-4304-8fb4-d127c726cb15",
   "metadata": {},
   "source": [
    "----\n",
    "### Imports"
   ]
  },
  {
   "cell_type": "code",
   "execution_count": 162,
   "id": "e50d0093-6eab-4968-ba26-b638c43b0362",
   "metadata": {},
   "outputs": [],
   "source": [
    "import pandas as pd\n",
    "import numpy as np\n",
    "import matplotlib.pyplot as plt\n",
    "import seaborn as sns"
   ]
  },
  {
   "cell_type": "markdown",
   "id": "45c8d7ca-8c2c-4444-b364-4c6b8f82b901",
   "metadata": {},
   "source": [
    "------\n",
    "## Read in the Data"
   ]
  },
  {
   "cell_type": "code",
   "execution_count": 163,
   "id": "4120174c-0d9b-4380-b076-dc4fc4a0bea3",
   "metadata": {},
   "outputs": [],
   "source": [
    "# reading the listings files\n",
    "sep_21 = pd.read_csv('../data/boston_listings_9-21.csv')\n",
    "dec_21 = pd.read_csv('../data/boston_listings_12-21.csv')\n",
    "mar_22 = pd.read_csv('../data/boston_listings_3-22.csv')\n",
    "jun_22 = pd.read_csv('../data/boston_listings_6-22.csv')"
   ]
  },
  {
   "cell_type": "code",
   "execution_count": 164,
   "id": "8468e4c0-468a-41ae-a6c3-cd6cf1f49db6",
   "metadata": {},
   "outputs": [
    {
     "name": "stdout",
     "output_type": "stream",
     "text": [
      "(3123, 74)\n"
     ]
    },
    {
     "data": {
      "text/html": [
       "<div>\n",
       "<style scoped>\n",
       "    .dataframe tbody tr th:only-of-type {\n",
       "        vertical-align: middle;\n",
       "    }\n",
       "\n",
       "    .dataframe tbody tr th {\n",
       "        vertical-align: top;\n",
       "    }\n",
       "\n",
       "    .dataframe thead th {\n",
       "        text-align: right;\n",
       "    }\n",
       "</style>\n",
       "<table border=\"1\" class=\"dataframe\">\n",
       "  <thead>\n",
       "    <tr style=\"text-align: right;\">\n",
       "      <th></th>\n",
       "      <th>id</th>\n",
       "      <th>listing_url</th>\n",
       "      <th>scrape_id</th>\n",
       "      <th>last_scraped</th>\n",
       "      <th>name</th>\n",
       "      <th>description</th>\n",
       "      <th>neighborhood_overview</th>\n",
       "      <th>picture_url</th>\n",
       "      <th>host_id</th>\n",
       "      <th>host_url</th>\n",
       "      <th>...</th>\n",
       "      <th>review_scores_communication</th>\n",
       "      <th>review_scores_location</th>\n",
       "      <th>review_scores_value</th>\n",
       "      <th>license</th>\n",
       "      <th>instant_bookable</th>\n",
       "      <th>calculated_host_listings_count</th>\n",
       "      <th>calculated_host_listings_count_entire_homes</th>\n",
       "      <th>calculated_host_listings_count_private_rooms</th>\n",
       "      <th>calculated_host_listings_count_shared_rooms</th>\n",
       "      <th>reviews_per_month</th>\n",
       "    </tr>\n",
       "  </thead>\n",
       "  <tbody>\n",
       "    <tr>\n",
       "      <th>0</th>\n",
       "      <td>3781</td>\n",
       "      <td>https://www.airbnb.com/rooms/3781</td>\n",
       "      <td>20210919145601</td>\n",
       "      <td>2021-09-19</td>\n",
       "      <td>HARBORSIDE-Walk to subway</td>\n",
       "      <td>Fully separate apartment in a two apartment bu...</td>\n",
       "      <td>Mostly quiet ( no loud music, no crowed sidewa...</td>\n",
       "      <td>https://a0.muscache.com/pictures/24670/b2de044...</td>\n",
       "      <td>4804</td>\n",
       "      <td>https://www.airbnb.com/users/show/4804</td>\n",
       "      <td>...</td>\n",
       "      <td>4.95</td>\n",
       "      <td>4.86</td>\n",
       "      <td>4.90</td>\n",
       "      <td>NaN</td>\n",
       "      <td>f</td>\n",
       "      <td>1</td>\n",
       "      <td>1</td>\n",
       "      <td>0</td>\n",
       "      <td>0</td>\n",
       "      <td>0.29</td>\n",
       "    </tr>\n",
       "    <tr>\n",
       "      <th>1</th>\n",
       "      <td>5506</td>\n",
       "      <td>https://www.airbnb.com/rooms/5506</td>\n",
       "      <td>20210919145601</td>\n",
       "      <td>2021-09-19</td>\n",
       "      <td>** Private! Minutes to center!**</td>\n",
       "      <td>Private guest room with private bath, You do n...</td>\n",
       "      <td>Peaceful, Architecturally interesting, histori...</td>\n",
       "      <td>https://a0.muscache.com/pictures/miso/Hosting-...</td>\n",
       "      <td>8229</td>\n",
       "      <td>https://www.airbnb.com/users/show/8229</td>\n",
       "      <td>...</td>\n",
       "      <td>4.89</td>\n",
       "      <td>4.53</td>\n",
       "      <td>4.77</td>\n",
       "      <td>Approved by the government</td>\n",
       "      <td>f</td>\n",
       "      <td>10</td>\n",
       "      <td>10</td>\n",
       "      <td>0</td>\n",
       "      <td>0</td>\n",
       "      <td>0.90</td>\n",
       "    </tr>\n",
       "  </tbody>\n",
       "</table>\n",
       "<p>2 rows × 74 columns</p>\n",
       "</div>"
      ],
      "text/plain": [
       "     id                        listing_url       scrape_id last_scraped  \\\n",
       "0  3781  https://www.airbnb.com/rooms/3781  20210919145601   2021-09-19   \n",
       "1  5506  https://www.airbnb.com/rooms/5506  20210919145601   2021-09-19   \n",
       "\n",
       "                               name  \\\n",
       "0         HARBORSIDE-Walk to subway   \n",
       "1  ** Private! Minutes to center!**   \n",
       "\n",
       "                                         description  \\\n",
       "0  Fully separate apartment in a two apartment bu...   \n",
       "1  Private guest room with private bath, You do n...   \n",
       "\n",
       "                               neighborhood_overview  \\\n",
       "0  Mostly quiet ( no loud music, no crowed sidewa...   \n",
       "1  Peaceful, Architecturally interesting, histori...   \n",
       "\n",
       "                                         picture_url  host_id  \\\n",
       "0  https://a0.muscache.com/pictures/24670/b2de044...     4804   \n",
       "1  https://a0.muscache.com/pictures/miso/Hosting-...     8229   \n",
       "\n",
       "                                 host_url  ... review_scores_communication  \\\n",
       "0  https://www.airbnb.com/users/show/4804  ...                        4.95   \n",
       "1  https://www.airbnb.com/users/show/8229  ...                        4.89   \n",
       "\n",
       "  review_scores_location review_scores_value                     license  \\\n",
       "0                   4.86                4.90                         NaN   \n",
       "1                   4.53                4.77  Approved by the government   \n",
       "\n",
       "  instant_bookable calculated_host_listings_count  \\\n",
       "0                f                              1   \n",
       "1                f                             10   \n",
       "\n",
       "  calculated_host_listings_count_entire_homes  \\\n",
       "0                                           1   \n",
       "1                                          10   \n",
       "\n",
       "  calculated_host_listings_count_private_rooms  \\\n",
       "0                                            0   \n",
       "1                                            0   \n",
       "\n",
       "  calculated_host_listings_count_shared_rooms reviews_per_month  \n",
       "0                                           0              0.29  \n",
       "1                                           0              0.90  \n",
       "\n",
       "[2 rows x 74 columns]"
      ]
     },
     "execution_count": 164,
     "metadata": {},
     "output_type": "execute_result"
    }
   ],
   "source": [
    "print(sep_21.shape)\n",
    "sep_21.head(2)"
   ]
  },
  {
   "cell_type": "code",
   "execution_count": 165,
   "id": "070127e8-cecd-4898-b214-739228a1d2cd",
   "metadata": {},
   "outputs": [
    {
     "name": "stdout",
     "output_type": "stream",
     "text": [
      "(3349, 74)\n"
     ]
    },
    {
     "data": {
      "text/html": [
       "<div>\n",
       "<style scoped>\n",
       "    .dataframe tbody tr th:only-of-type {\n",
       "        vertical-align: middle;\n",
       "    }\n",
       "\n",
       "    .dataframe tbody tr th {\n",
       "        vertical-align: top;\n",
       "    }\n",
       "\n",
       "    .dataframe thead th {\n",
       "        text-align: right;\n",
       "    }\n",
       "</style>\n",
       "<table border=\"1\" class=\"dataframe\">\n",
       "  <thead>\n",
       "    <tr style=\"text-align: right;\">\n",
       "      <th></th>\n",
       "      <th>id</th>\n",
       "      <th>listing_url</th>\n",
       "      <th>scrape_id</th>\n",
       "      <th>last_scraped</th>\n",
       "      <th>name</th>\n",
       "      <th>description</th>\n",
       "      <th>neighborhood_overview</th>\n",
       "      <th>picture_url</th>\n",
       "      <th>host_id</th>\n",
       "      <th>host_url</th>\n",
       "      <th>...</th>\n",
       "      <th>review_scores_communication</th>\n",
       "      <th>review_scores_location</th>\n",
       "      <th>review_scores_value</th>\n",
       "      <th>license</th>\n",
       "      <th>instant_bookable</th>\n",
       "      <th>calculated_host_listings_count</th>\n",
       "      <th>calculated_host_listings_count_entire_homes</th>\n",
       "      <th>calculated_host_listings_count_private_rooms</th>\n",
       "      <th>calculated_host_listings_count_shared_rooms</th>\n",
       "      <th>reviews_per_month</th>\n",
       "    </tr>\n",
       "  </thead>\n",
       "  <tbody>\n",
       "    <tr>\n",
       "      <th>0</th>\n",
       "      <td>3781</td>\n",
       "      <td>https://www.airbnb.com/rooms/3781</td>\n",
       "      <td>20211217003539</td>\n",
       "      <td>2021-12-17</td>\n",
       "      <td>HARBORSIDE-Walk to subway</td>\n",
       "      <td>Fully separate apartment in a two apartment bu...</td>\n",
       "      <td>Mostly quiet ( no loud music, no crowed sidewa...</td>\n",
       "      <td>https://a0.muscache.com/pictures/24670/b2de044...</td>\n",
       "      <td>4804</td>\n",
       "      <td>https://www.airbnb.com/users/show/4804</td>\n",
       "      <td>...</td>\n",
       "      <td>4.95</td>\n",
       "      <td>4.86</td>\n",
       "      <td>4.90</td>\n",
       "      <td>NaN</td>\n",
       "      <td>f</td>\n",
       "      <td>1</td>\n",
       "      <td>1</td>\n",
       "      <td>0</td>\n",
       "      <td>0</td>\n",
       "      <td>0.27</td>\n",
       "    </tr>\n",
       "    <tr>\n",
       "      <th>1</th>\n",
       "      <td>5506</td>\n",
       "      <td>https://www.airbnb.com/rooms/5506</td>\n",
       "      <td>20211217003539</td>\n",
       "      <td>2021-12-17</td>\n",
       "      <td>** Private! Minutes to center!**</td>\n",
       "      <td>Private guest room with private bath, You do n...</td>\n",
       "      <td>Peaceful, Architecturally interesting, histori...</td>\n",
       "      <td>https://a0.muscache.com/pictures/miso/Hosting-...</td>\n",
       "      <td>8229</td>\n",
       "      <td>https://www.airbnb.com/users/show/8229</td>\n",
       "      <td>...</td>\n",
       "      <td>4.89</td>\n",
       "      <td>4.54</td>\n",
       "      <td>4.78</td>\n",
       "      <td>Approved by the government</td>\n",
       "      <td>f</td>\n",
       "      <td>10</td>\n",
       "      <td>10</td>\n",
       "      <td>0</td>\n",
       "      <td>0</td>\n",
       "      <td>0.71</td>\n",
       "    </tr>\n",
       "  </tbody>\n",
       "</table>\n",
       "<p>2 rows × 74 columns</p>\n",
       "</div>"
      ],
      "text/plain": [
       "     id                        listing_url       scrape_id last_scraped  \\\n",
       "0  3781  https://www.airbnb.com/rooms/3781  20211217003539   2021-12-17   \n",
       "1  5506  https://www.airbnb.com/rooms/5506  20211217003539   2021-12-17   \n",
       "\n",
       "                               name  \\\n",
       "0         HARBORSIDE-Walk to subway   \n",
       "1  ** Private! Minutes to center!**   \n",
       "\n",
       "                                         description  \\\n",
       "0  Fully separate apartment in a two apartment bu...   \n",
       "1  Private guest room with private bath, You do n...   \n",
       "\n",
       "                               neighborhood_overview  \\\n",
       "0  Mostly quiet ( no loud music, no crowed sidewa...   \n",
       "1  Peaceful, Architecturally interesting, histori...   \n",
       "\n",
       "                                         picture_url  host_id  \\\n",
       "0  https://a0.muscache.com/pictures/24670/b2de044...     4804   \n",
       "1  https://a0.muscache.com/pictures/miso/Hosting-...     8229   \n",
       "\n",
       "                                 host_url  ... review_scores_communication  \\\n",
       "0  https://www.airbnb.com/users/show/4804  ...                        4.95   \n",
       "1  https://www.airbnb.com/users/show/8229  ...                        4.89   \n",
       "\n",
       "  review_scores_location review_scores_value                     license  \\\n",
       "0                   4.86                4.90                         NaN   \n",
       "1                   4.54                4.78  Approved by the government   \n",
       "\n",
       "  instant_bookable calculated_host_listings_count  \\\n",
       "0                f                              1   \n",
       "1                f                             10   \n",
       "\n",
       "  calculated_host_listings_count_entire_homes  \\\n",
       "0                                           1   \n",
       "1                                          10   \n",
       "\n",
       "  calculated_host_listings_count_private_rooms  \\\n",
       "0                                            0   \n",
       "1                                            0   \n",
       "\n",
       "  calculated_host_listings_count_shared_rooms reviews_per_month  \n",
       "0                                           0              0.27  \n",
       "1                                           0              0.71  \n",
       "\n",
       "[2 rows x 74 columns]"
      ]
     },
     "execution_count": 165,
     "metadata": {},
     "output_type": "execute_result"
    }
   ],
   "source": [
    "print(dec_21.shape)\n",
    "dec_21.head(2)"
   ]
  },
  {
   "cell_type": "code",
   "execution_count": 166,
   "id": "695a4a37-5278-4f49-8fba-3e3af32a7c09",
   "metadata": {},
   "outputs": [
    {
     "name": "stdout",
     "output_type": "stream",
     "text": [
      "(3462, 74)\n"
     ]
    },
    {
     "data": {
      "text/html": [
       "<div>\n",
       "<style scoped>\n",
       "    .dataframe tbody tr th:only-of-type {\n",
       "        vertical-align: middle;\n",
       "    }\n",
       "\n",
       "    .dataframe tbody tr th {\n",
       "        vertical-align: top;\n",
       "    }\n",
       "\n",
       "    .dataframe thead th {\n",
       "        text-align: right;\n",
       "    }\n",
       "</style>\n",
       "<table border=\"1\" class=\"dataframe\">\n",
       "  <thead>\n",
       "    <tr style=\"text-align: right;\">\n",
       "      <th></th>\n",
       "      <th>id</th>\n",
       "      <th>listing_url</th>\n",
       "      <th>scrape_id</th>\n",
       "      <th>last_scraped</th>\n",
       "      <th>name</th>\n",
       "      <th>description</th>\n",
       "      <th>neighborhood_overview</th>\n",
       "      <th>picture_url</th>\n",
       "      <th>host_id</th>\n",
       "      <th>host_url</th>\n",
       "      <th>...</th>\n",
       "      <th>review_scores_communication</th>\n",
       "      <th>review_scores_location</th>\n",
       "      <th>review_scores_value</th>\n",
       "      <th>license</th>\n",
       "      <th>instant_bookable</th>\n",
       "      <th>calculated_host_listings_count</th>\n",
       "      <th>calculated_host_listings_count_entire_homes</th>\n",
       "      <th>calculated_host_listings_count_private_rooms</th>\n",
       "      <th>calculated_host_listings_count_shared_rooms</th>\n",
       "      <th>reviews_per_month</th>\n",
       "    </tr>\n",
       "  </thead>\n",
       "  <tbody>\n",
       "    <tr>\n",
       "      <th>0</th>\n",
       "      <td>3781</td>\n",
       "      <td>https://www.airbnb.com/rooms/3781</td>\n",
       "      <td>20220320051201</td>\n",
       "      <td>2022-03-20</td>\n",
       "      <td>HARBORSIDE-Walk to subway</td>\n",
       "      <td>Fully separate apartment in a two apartment bu...</td>\n",
       "      <td>Mostly quiet ( no loud music, no crowed sidewa...</td>\n",
       "      <td>https://a0.muscache.com/pictures/24670/b2de044...</td>\n",
       "      <td>4804</td>\n",
       "      <td>https://www.airbnb.com/users/show/4804</td>\n",
       "      <td>...</td>\n",
       "      <td>4.95</td>\n",
       "      <td>4.86</td>\n",
       "      <td>4.91</td>\n",
       "      <td>NaN</td>\n",
       "      <td>f</td>\n",
       "      <td>1</td>\n",
       "      <td>1</td>\n",
       "      <td>0</td>\n",
       "      <td>0</td>\n",
       "      <td>0.27</td>\n",
       "    </tr>\n",
       "    <tr>\n",
       "      <th>1</th>\n",
       "      <td>5506</td>\n",
       "      <td>https://www.airbnb.com/rooms/5506</td>\n",
       "      <td>20220320051201</td>\n",
       "      <td>2022-03-20</td>\n",
       "      <td>** Fort Hill Inn Private! Minutes to center!**</td>\n",
       "      <td>Private guest room with private bath, You do n...</td>\n",
       "      <td>Peaceful, Architecturally interesting, histori...</td>\n",
       "      <td>https://a0.muscache.com/pictures/miso/Hosting-...</td>\n",
       "      <td>8229</td>\n",
       "      <td>https://www.airbnb.com/users/show/8229</td>\n",
       "      <td>...</td>\n",
       "      <td>4.89</td>\n",
       "      <td>4.54</td>\n",
       "      <td>4.78</td>\n",
       "      <td>Approved by the government</td>\n",
       "      <td>f</td>\n",
       "      <td>10</td>\n",
       "      <td>10</td>\n",
       "      <td>0</td>\n",
       "      <td>0</td>\n",
       "      <td>0.70</td>\n",
       "    </tr>\n",
       "  </tbody>\n",
       "</table>\n",
       "<p>2 rows × 74 columns</p>\n",
       "</div>"
      ],
      "text/plain": [
       "     id                        listing_url       scrape_id last_scraped  \\\n",
       "0  3781  https://www.airbnb.com/rooms/3781  20220320051201   2022-03-20   \n",
       "1  5506  https://www.airbnb.com/rooms/5506  20220320051201   2022-03-20   \n",
       "\n",
       "                                             name  \\\n",
       "0                       HARBORSIDE-Walk to subway   \n",
       "1  ** Fort Hill Inn Private! Minutes to center!**   \n",
       "\n",
       "                                         description  \\\n",
       "0  Fully separate apartment in a two apartment bu...   \n",
       "1  Private guest room with private bath, You do n...   \n",
       "\n",
       "                               neighborhood_overview  \\\n",
       "0  Mostly quiet ( no loud music, no crowed sidewa...   \n",
       "1  Peaceful, Architecturally interesting, histori...   \n",
       "\n",
       "                                         picture_url  host_id  \\\n",
       "0  https://a0.muscache.com/pictures/24670/b2de044...     4804   \n",
       "1  https://a0.muscache.com/pictures/miso/Hosting-...     8229   \n",
       "\n",
       "                                 host_url  ... review_scores_communication  \\\n",
       "0  https://www.airbnb.com/users/show/4804  ...                        4.95   \n",
       "1  https://www.airbnb.com/users/show/8229  ...                        4.89   \n",
       "\n",
       "  review_scores_location review_scores_value                     license  \\\n",
       "0                   4.86                4.91                         NaN   \n",
       "1                   4.54                4.78  Approved by the government   \n",
       "\n",
       "  instant_bookable calculated_host_listings_count  \\\n",
       "0                f                              1   \n",
       "1                f                             10   \n",
       "\n",
       "  calculated_host_listings_count_entire_homes  \\\n",
       "0                                           1   \n",
       "1                                          10   \n",
       "\n",
       "  calculated_host_listings_count_private_rooms  \\\n",
       "0                                            0   \n",
       "1                                            0   \n",
       "\n",
       "  calculated_host_listings_count_shared_rooms reviews_per_month  \n",
       "0                                           0              0.27  \n",
       "1                                           0              0.70  \n",
       "\n",
       "[2 rows x 74 columns]"
      ]
     },
     "execution_count": 166,
     "metadata": {},
     "output_type": "execute_result"
    }
   ],
   "source": [
    "print(mar_22.shape)\n",
    "mar_22.head(2)"
   ]
  },
  {
   "cell_type": "code",
   "execution_count": 167,
   "id": "b283eea1-f017-4a65-bb5f-1d864ce11bd6",
   "metadata": {},
   "outputs": [
    {
     "name": "stdout",
     "output_type": "stream",
     "text": [
      "(4903, 74)\n"
     ]
    },
    {
     "data": {
      "text/html": [
       "<div>\n",
       "<style scoped>\n",
       "    .dataframe tbody tr th:only-of-type {\n",
       "        vertical-align: middle;\n",
       "    }\n",
       "\n",
       "    .dataframe tbody tr th {\n",
       "        vertical-align: top;\n",
       "    }\n",
       "\n",
       "    .dataframe thead th {\n",
       "        text-align: right;\n",
       "    }\n",
       "</style>\n",
       "<table border=\"1\" class=\"dataframe\">\n",
       "  <thead>\n",
       "    <tr style=\"text-align: right;\">\n",
       "      <th></th>\n",
       "      <th>id</th>\n",
       "      <th>listing_url</th>\n",
       "      <th>scrape_id</th>\n",
       "      <th>last_scraped</th>\n",
       "      <th>name</th>\n",
       "      <th>description</th>\n",
       "      <th>neighborhood_overview</th>\n",
       "      <th>picture_url</th>\n",
       "      <th>host_id</th>\n",
       "      <th>host_url</th>\n",
       "      <th>...</th>\n",
       "      <th>review_scores_communication</th>\n",
       "      <th>review_scores_location</th>\n",
       "      <th>review_scores_value</th>\n",
       "      <th>license</th>\n",
       "      <th>instant_bookable</th>\n",
       "      <th>calculated_host_listings_count</th>\n",
       "      <th>calculated_host_listings_count_entire_homes</th>\n",
       "      <th>calculated_host_listings_count_private_rooms</th>\n",
       "      <th>calculated_host_listings_count_shared_rooms</th>\n",
       "      <th>reviews_per_month</th>\n",
       "    </tr>\n",
       "  </thead>\n",
       "  <tbody>\n",
       "    <tr>\n",
       "      <th>0</th>\n",
       "      <td>9569407</td>\n",
       "      <td>https://www.airbnb.com/rooms/9569407</td>\n",
       "      <td>20220613034341</td>\n",
       "      <td>2022-06-13</td>\n",
       "      <td>Clean &amp; Cozy Newton/Boston College</td>\n",
       "      <td>Queen bed room in house near BC, near T statio...</td>\n",
       "      <td>NaN</td>\n",
       "      <td>https://a0.muscache.com/pictures/93cbba82-23be...</td>\n",
       "      <td>44920239</td>\n",
       "      <td>https://www.airbnb.com/users/show/44920239</td>\n",
       "      <td>...</td>\n",
       "      <td>5.0</td>\n",
       "      <td>4.92</td>\n",
       "      <td>4.77</td>\n",
       "      <td>NaN</td>\n",
       "      <td>f</td>\n",
       "      <td>2</td>\n",
       "      <td>0</td>\n",
       "      <td>2</td>\n",
       "      <td>0</td>\n",
       "      <td>0.17</td>\n",
       "    </tr>\n",
       "    <tr>\n",
       "      <th>1</th>\n",
       "      <td>31650137</td>\n",
       "      <td>https://www.airbnb.com/rooms/31650137</td>\n",
       "      <td>20220613034341</td>\n",
       "      <td>2022-06-13</td>\n",
       "      <td>Cozy Queen Bedroom close to  Boston</td>\n",
       "      <td>Sunny room in a clean, quiet home. Very quiet ...</td>\n",
       "      <td>Many ethnic restaurants, shops and supermarket...</td>\n",
       "      <td>https://a0.muscache.com/pictures/253151c2-1432...</td>\n",
       "      <td>13005723</td>\n",
       "      <td>https://www.airbnb.com/users/show/13005723</td>\n",
       "      <td>...</td>\n",
       "      <td>5.0</td>\n",
       "      <td>4.84</td>\n",
       "      <td>4.92</td>\n",
       "      <td>NaN</td>\n",
       "      <td>t</td>\n",
       "      <td>3</td>\n",
       "      <td>0</td>\n",
       "      <td>3</td>\n",
       "      <td>0</td>\n",
       "      <td>3.60</td>\n",
       "    </tr>\n",
       "  </tbody>\n",
       "</table>\n",
       "<p>2 rows × 74 columns</p>\n",
       "</div>"
      ],
      "text/plain": [
       "         id                            listing_url       scrape_id  \\\n",
       "0   9569407   https://www.airbnb.com/rooms/9569407  20220613034341   \n",
       "1  31650137  https://www.airbnb.com/rooms/31650137  20220613034341   \n",
       "\n",
       "  last_scraped                                 name  \\\n",
       "0   2022-06-13   Clean & Cozy Newton/Boston College   \n",
       "1   2022-06-13  Cozy Queen Bedroom close to  Boston   \n",
       "\n",
       "                                         description  \\\n",
       "0  Queen bed room in house near BC, near T statio...   \n",
       "1  Sunny room in a clean, quiet home. Very quiet ...   \n",
       "\n",
       "                               neighborhood_overview  \\\n",
       "0                                                NaN   \n",
       "1  Many ethnic restaurants, shops and supermarket...   \n",
       "\n",
       "                                         picture_url   host_id  \\\n",
       "0  https://a0.muscache.com/pictures/93cbba82-23be...  44920239   \n",
       "1  https://a0.muscache.com/pictures/253151c2-1432...  13005723   \n",
       "\n",
       "                                     host_url  ...  \\\n",
       "0  https://www.airbnb.com/users/show/44920239  ...   \n",
       "1  https://www.airbnb.com/users/show/13005723  ...   \n",
       "\n",
       "  review_scores_communication review_scores_location review_scores_value  \\\n",
       "0                         5.0                   4.92                4.77   \n",
       "1                         5.0                   4.84                4.92   \n",
       "\n",
       "  license instant_bookable calculated_host_listings_count  \\\n",
       "0     NaN                f                              2   \n",
       "1     NaN                t                              3   \n",
       "\n",
       "  calculated_host_listings_count_entire_homes  \\\n",
       "0                                           0   \n",
       "1                                           0   \n",
       "\n",
       "  calculated_host_listings_count_private_rooms  \\\n",
       "0                                            2   \n",
       "1                                            3   \n",
       "\n",
       "  calculated_host_listings_count_shared_rooms reviews_per_month  \n",
       "0                                           0              0.17  \n",
       "1                                           0              3.60  \n",
       "\n",
       "[2 rows x 74 columns]"
      ]
     },
     "execution_count": 167,
     "metadata": {},
     "output_type": "execute_result"
    }
   ],
   "source": [
    "print(jun_22.shape)\n",
    "jun_22.head(2)"
   ]
  },
  {
   "cell_type": "code",
   "execution_count": 168,
   "id": "469f61e5-e0fc-4fcf-9b86-abcef2577061",
   "metadata": {},
   "outputs": [
    {
     "data": {
      "text/plain": [
       "(14837, 74)"
      ]
     },
     "execution_count": 168,
     "metadata": {},
     "output_type": "execute_result"
    }
   ],
   "source": [
    "listings = pd.concat([sep_21, dec_21, mar_22, jun_22])\n",
    "listings.shape"
   ]
  },
  {
   "cell_type": "code",
   "execution_count": 169,
   "id": "6f1ffb06-0148-4f42-8b42-6703464b9bc3",
   "metadata": {},
   "outputs": [
    {
     "data": {
      "text/plain": [
       "3781        4\n",
       "39686073    4\n",
       "39536784    4\n",
       "39575894    4\n",
       "39583307    4\n",
       "           ..\n",
       "53338680    1\n",
       "53463603    1\n",
       "53483860    1\n",
       "53733454    1\n",
       "26809727    1\n",
       "Name: id, Length: 6215, dtype: int64"
      ]
     },
     "execution_count": 169,
     "metadata": {},
     "output_type": "execute_result"
    }
   ],
   "source": [
    "listings['id'].value_counts()"
   ]
  },
  {
   "cell_type": "markdown",
   "id": "aa63f2c1-e5db-43dd-a04e-17a60da78e6a",
   "metadata": {},
   "source": [
    "-------\n",
    "## Data Cleaning - listings data"
   ]
  },
  {
   "cell_type": "markdown",
   "id": "ab9bc788-a3d3-496e-92c2-a46f94f17928",
   "metadata": {},
   "source": [
    "### *Handling Null Values*"
   ]
  },
  {
   "cell_type": "code",
   "execution_count": 170,
   "id": "a3362151-f150-4691-9a5b-1c5c71c3b482",
   "metadata": {},
   "outputs": [
    {
     "data": {
      "text/plain": [
       "id                          0\n",
       "listing_url                 0\n",
       "scrape_id                   0\n",
       "last_scraped                0\n",
       "name                        0\n",
       "description               144\n",
       "neighborhood_overview    4975\n",
       "picture_url                 0\n",
       "host_id                     0\n",
       "host_url                    0\n",
       "host_name                 325\n",
       "host_since                325\n",
       "host_location             335\n",
       "host_about               5117\n",
       "host_response_time       2731\n",
       "host_response_rate       2731\n",
       "host_acceptance_rate     2528\n",
       "host_is_superhost         325\n",
       "host_thumbnail_url        325\n",
       "host_picture_url          325\n",
       "dtype: int64"
      ]
     },
     "execution_count": 170,
     "metadata": {},
     "output_type": "execute_result"
    }
   ],
   "source": [
    "# dealing with null values\n",
    "# checking first 20 columns\n",
    "listings.isnull().sum()[:20]"
   ]
  },
  {
   "cell_type": "code",
   "execution_count": 171,
   "id": "27ea2505-246e-481f-b208-f80d62e3a872",
   "metadata": {},
   "outputs": [
    {
     "data": {
      "text/plain": [
       "0       My wife and I and grown children frequently oc...\n",
       "1                   Relaxed,  Easy going, Accommodating. \n",
       "2                   Relaxed,  Easy going, Accommodating. \n",
       "3       I manage a number of furnished units around Bo...\n",
       "4       I manage a number of furnished units around Bo...\n",
       "                              ...                        \n",
       "4898                                                  NaN\n",
       "4899                                                  NaN\n",
       "4900                                                  NaN\n",
       "4901    I love traveling, designing, cuisines, and ins...\n",
       "4902    Professional, educated, mature & culturally cu...\n",
       "Name: host_about, Length: 14837, dtype: object"
      ]
     },
     "execution_count": 171,
     "metadata": {},
     "output_type": "execute_result"
    }
   ],
   "source": [
    "listings['host_about']"
   ]
  },
  {
   "cell_type": "code",
   "execution_count": 172,
   "id": "9d155790-c25a-4ac8-8c6e-09ff46d13028",
   "metadata": {},
   "outputs": [
    {
     "data": {
      "text/plain": [
       "0       Mostly quiet ( no loud music, no crowed sidewa...\n",
       "1       Peaceful, Architecturally interesting, histori...\n",
       "2       Peaceful, Architecturally interesting, histori...\n",
       "3       Beacon Hill is a historic neighborhood filled ...\n",
       "4       Beacon Hill is located downtown and is conveni...\n",
       "                              ...                        \n",
       "4898    The best neighbors in the town live in tis str...\n",
       "4899                                                  NaN\n",
       "4900                                                  NaN\n",
       "4901         walk to cafes, restaurants and super market.\n",
       "4902    Close great restaurants, food shopping, beache...\n",
       "Name: neighborhood_overview, Length: 14837, dtype: object"
      ]
     },
     "execution_count": 172,
     "metadata": {},
     "output_type": "execute_result"
    }
   ],
   "source": [
    "listings['neighborhood_overview']"
   ]
  },
  {
   "cell_type": "code",
   "execution_count": 173,
   "id": "7a73475a-75ab-46e6-8382-4685eb8b6fd8",
   "metadata": {},
   "outputs": [],
   "source": [
    "listings.drop(columns = ['host_about', 'neighborhood_overview','host_location'], inplace = True)"
   ]
  },
  {
   "cell_type": "code",
   "execution_count": 174,
   "id": "e17a8d51-a501-49f6-bc7c-07a0a79f28c8",
   "metadata": {},
   "outputs": [
    {
     "data": {
      "text/plain": [
       "within an hour        0.728647\n",
       "within a few hours    0.141004\n",
       "within a day          0.109532\n",
       "a few days or more    0.020816\n",
       "Name: host_response_time, dtype: float64"
      ]
     },
     "execution_count": 174,
     "metadata": {},
     "output_type": "execute_result"
    }
   ],
   "source": [
    "listings['host_response_time'].value_counts(normalize=True)"
   ]
  },
  {
   "cell_type": "code",
   "execution_count": 175,
   "id": "b163db86-f3c1-48d8-aa1d-85145887768c",
   "metadata": {},
   "outputs": [
    {
     "data": {
      "text/plain": [
       "0.1840668598773337"
      ]
     },
     "execution_count": 175,
     "metadata": {},
     "output_type": "execute_result"
    }
   ],
   "source": [
    "# host response time and response rate missing % \n",
    "# out of total rows\n",
    "2731/14837"
   ]
  },
  {
   "cell_type": "code",
   "execution_count": 176,
   "id": "4d13d3e7-9c05-4c67-ab06-193e9e02ec88",
   "metadata": {},
   "outputs": [
    {
     "data": {
      "text/plain": [
       "0       Fully separate apartment in a two apartment bu...\n",
       "1       Private guest room with private bath, You do n...\n",
       "2       Comfortable,  Fully Equipped private apartment...\n",
       "3       This unit is for sale. There will need to be o...\n",
       "4       Bright, spacious unit, new galley kitchen, new...\n",
       "                              ...                        \n",
       "4898    Enjoy the comfortable and lovely Paris Concept...\n",
       "4899    I am currently only accepting bookings for 1 w...\n",
       "4900    Private cozy room at a second floor residentia...\n",
       "4901    All guests must be fully vaccined, and free of...\n",
       "4902    5 Star Location ~ 5 Star Accommodations ~ 5 St...\n",
       "Name: description, Length: 14837, dtype: object"
      ]
     },
     "execution_count": 176,
     "metadata": {},
     "output_type": "execute_result"
    }
   ],
   "source": [
    "listings['description']"
   ]
  },
  {
   "cell_type": "code",
   "execution_count": 177,
   "id": "453c9112-dcac-420a-81b1-8add290e427b",
   "metadata": {},
   "outputs": [
    {
     "data": {
      "text/plain": [
       "host_verifications                  0\n",
       "host_has_profile_pic              325\n",
       "host_identity_verified            325\n",
       "neighbourhood                    4975\n",
       "neighbourhood_cleansed              0\n",
       "neighbourhood_group_cleansed    14837\n",
       "latitude                            0\n",
       "longitude                           0\n",
       "property_type                       0\n",
       "room_type                           0\n",
       "accommodates                        0\n",
       "bathrooms                       14837\n",
       "bathrooms_text                     23\n",
       "bedrooms                         1996\n",
       "beds                              462\n",
       "amenities                           0\n",
       "price                               0\n",
       "minimum_nights                      0\n",
       "maximum_nights                      0\n",
       "minimum_minimum_nights              8\n",
       "dtype: int64"
      ]
     },
     "execution_count": 177,
     "metadata": {},
     "output_type": "execute_result"
    }
   ],
   "source": [
    "listings.isnull().sum()[20:40]"
   ]
  },
  {
   "cell_type": "code",
   "execution_count": 178,
   "id": "cbb8dde1-91e5-4480-91d0-67be6c66dfc1",
   "metadata": {
    "tags": []
   },
   "outputs": [],
   "source": [
    "listings.drop(columns = ['bathrooms','neighbourhood_group_cleansed', 'neighbourhood','minimum_minimum_nights','maximum_minimum_nights','minimum_maximum_nights','maximum_maximum_nights'],\n",
    "              inplace=True)"
   ]
  },
  {
   "cell_type": "code",
   "execution_count": 179,
   "id": "28f6aa91-6f70-4c8d-b54a-3358e1b5bd7e",
   "metadata": {},
   "outputs": [
    {
     "data": {
      "text/plain": [
       "availability_30                                    0\n",
       "availability_60                                    0\n",
       "availability_90                                    0\n",
       "availability_365                                   0\n",
       "calendar_last_scraped                              0\n",
       "number_of_reviews                                  0\n",
       "number_of_reviews_ltm                              0\n",
       "number_of_reviews_l30d                             0\n",
       "first_review                                    3936\n",
       "last_review                                     3936\n",
       "review_scores_rating                            3936\n",
       "review_scores_accuracy                          3984\n",
       "review_scores_cleanliness                       3980\n",
       "review_scores_checkin                           3989\n",
       "review_scores_communication                     3980\n",
       "review_scores_location                          3989\n",
       "review_scores_value                             3989\n",
       "license                                         7100\n",
       "instant_bookable                                   0\n",
       "calculated_host_listings_count                     0\n",
       "calculated_host_listings_count_entire_homes        0\n",
       "calculated_host_listings_count_private_rooms       0\n",
       "calculated_host_listings_count_shared_rooms        0\n",
       "reviews_per_month                               3936\n",
       "dtype: int64"
      ]
     },
     "execution_count": 179,
     "metadata": {},
     "output_type": "execute_result"
    }
   ],
   "source": [
    "listings.isnull().sum()[40:]"
   ]
  },
  {
   "cell_type": "code",
   "execution_count": 180,
   "id": "00b9c176-5389-44b0-880b-eb6856901d28",
   "metadata": {},
   "outputs": [],
   "source": [
    "listings.drop(columns = ['calendar_updated', 'review_scores_accuracy','review_scores_cleanliness','review_scores_checkin','review_scores_communication','review_scores_location','review_scores_value'], inplace=True)"
   ]
  },
  {
   "cell_type": "code",
   "execution_count": 181,
   "id": "95e6970a-27ef-42df-a293-d17cf68b3147",
   "metadata": {},
   "outputs": [],
   "source": [
    "# rating column will be the target variable\n",
    "# can't impute null values or drop this column\n",
    "listings.dropna(subset= 'review_scores_rating', inplace=True)"
   ]
  },
  {
   "cell_type": "code",
   "execution_count": 182,
   "id": "106f3f6a-6eaa-414d-9789-6c6b6e521b23",
   "metadata": {},
   "outputs": [
    {
     "data": {
      "text/plain": [
       "(10901, 57)"
      ]
     },
     "execution_count": 182,
     "metadata": {},
     "output_type": "execute_result"
    }
   ],
   "source": [
    "listings.shape"
   ]
  },
  {
   "cell_type": "code",
   "execution_count": 183,
   "id": "5ec0f601-222e-4680-b49a-551ff1d1837b",
   "metadata": {},
   "outputs": [
    {
     "data": {
      "text/plain": [
       "0                              NaN\n",
       "1       Approved by the government\n",
       "2                        STR446650\n",
       "3                              NaN\n",
       "4                              NaN\n",
       "                   ...            \n",
       "4898                           NaN\n",
       "4899                           NaN\n",
       "4900                           NaN\n",
       "4901                           NaN\n",
       "4902                           NaN\n",
       "Name: license, Length: 10901, dtype: object"
      ]
     },
     "execution_count": 183,
     "metadata": {},
     "output_type": "execute_result"
    }
   ],
   "source": [
    "listings['license']"
   ]
  },
  {
   "cell_type": "code",
   "execution_count": 184,
   "id": "89f14ed6-bb0e-4713-957a-1ebe45ae8c02",
   "metadata": {},
   "outputs": [],
   "source": [
    "listings['license'] = listings['license'].astype(str)"
   ]
  },
  {
   "cell_type": "code",
   "execution_count": 185,
   "id": "ce49086c-3016-4368-a3d2-873fecb70872",
   "metadata": {},
   "outputs": [],
   "source": [
    "# assigning 0 for no short-term rental license and 1 for licensed (or approved due to some exemption)\n",
    "listings['license'] = listings['license'].map(lambda x: int(0) if x == 'nan' else int(1))"
   ]
  },
  {
   "cell_type": "code",
   "execution_count": 186,
   "id": "8b55751a-602f-420a-9c89-31050d5cbf9f",
   "metadata": {},
   "outputs": [
    {
     "data": {
      "text/plain": [
       "availability_60                                 0\n",
       "availability_90                                 0\n",
       "availability_365                                0\n",
       "calendar_last_scraped                           0\n",
       "number_of_reviews                               0\n",
       "number_of_reviews_ltm                           0\n",
       "number_of_reviews_l30d                          0\n",
       "first_review                                    0\n",
       "last_review                                     0\n",
       "review_scores_rating                            0\n",
       "license                                         0\n",
       "instant_bookable                                0\n",
       "calculated_host_listings_count                  0\n",
       "calculated_host_listings_count_entire_homes     0\n",
       "calculated_host_listings_count_private_rooms    0\n",
       "calculated_host_listings_count_shared_rooms     0\n",
       "reviews_per_month                               0\n",
       "dtype: int64"
      ]
     },
     "execution_count": 186,
     "metadata": {},
     "output_type": "execute_result"
    }
   ],
   "source": [
    "# confirm no nulls from column 40-57\n",
    "listings.isnull().sum()[40:]"
   ]
  },
  {
   "cell_type": "code",
   "execution_count": 187,
   "id": "0baeba71-ea65-4419-bfe4-683c1bca844d",
   "metadata": {
    "tags": []
   },
   "outputs": [
    {
     "data": {
      "text/plain": [
       "id                              0\n",
       "listing_url                     0\n",
       "scrape_id                       0\n",
       "last_scraped                    0\n",
       "name                            0\n",
       "description                    71\n",
       "picture_url                     0\n",
       "host_id                         0\n",
       "host_url                        0\n",
       "host_name                      29\n",
       "host_since                     29\n",
       "host_response_time           1876\n",
       "host_response_rate           1876\n",
       "host_acceptance_rate         1683\n",
       "host_is_superhost              29\n",
       "host_thumbnail_url             29\n",
       "host_picture_url               29\n",
       "host_neighbourhood            740\n",
       "host_listings_count            29\n",
       "host_total_listings_count      29\n",
       "dtype: int64"
      ]
     },
     "execution_count": 187,
     "metadata": {},
     "output_type": "execute_result"
    }
   ],
   "source": [
    "# re checking first 20 columns after dropped columns\n",
    "listings.isnull().sum()[:20]"
   ]
  },
  {
   "cell_type": "code",
   "execution_count": 188,
   "id": "6caa421f-fbe5-47c0-b03e-2a94e276d1ed",
   "metadata": {
    "tags": []
   },
   "outputs": [],
   "source": [
    "# host's neighborhood is unnecessary when we have the listing neighborhood\n",
    "listings.drop(columns = ['host_neighbourhood', 'host_acceptance_rate', 'host_thumbnail_url','host_picture_url','host_total_listings_count'], inplace=True)"
   ]
  },
  {
   "cell_type": "code",
   "execution_count": 189,
   "id": "f73f288a-01b3-4c78-a3af-2f6c684cb348",
   "metadata": {
    "tags": []
   },
   "outputs": [
    {
     "data": {
      "text/plain": [
       "id                       int64\n",
       "listing_url             object\n",
       "scrape_id                int64\n",
       "last_scraped            object\n",
       "name                    object\n",
       "description             object\n",
       "picture_url             object\n",
       "host_id                  int64\n",
       "host_url                object\n",
       "host_name               object\n",
       "host_since              object\n",
       "host_response_time      object\n",
       "host_response_rate      object\n",
       "host_is_superhost       object\n",
       "host_listings_count    float64\n",
       "dtype: object"
      ]
     },
     "execution_count": 189,
     "metadata": {},
     "output_type": "execute_result"
    }
   ],
   "source": [
    "listings.dtypes[:15]"
   ]
  },
  {
   "cell_type": "code",
   "execution_count": 190,
   "id": "55c5d3e0-4c09-4f2a-bbaf-6349bdb7cd9c",
   "metadata": {
    "tags": []
   },
   "outputs": [
    {
     "data": {
      "text/plain": [
       "dtype('O')"
      ]
     },
     "execution_count": 190,
     "metadata": {},
     "output_type": "execute_result"
    }
   ],
   "source": [
    "listings['host_response_rate'].dtypes"
   ]
  },
  {
   "cell_type": "code",
   "execution_count": 191,
   "id": "617dd547-de34-403d-8551-a34ebb82d032",
   "metadata": {
    "tags": []
   },
   "outputs": [],
   "source": [
    "listings['host_response_rate'] = listings['host_response_rate'].map(lambda x: str(x)[:-1])"
   ]
  },
  {
   "cell_type": "code",
   "execution_count": 192,
   "id": "4ef6eb66-592b-48b8-9797-73d6f1b1556b",
   "metadata": {
    "tags": []
   },
   "outputs": [],
   "source": [
    "listings['host_response_rate'] = listings['host_response_rate'].map(lambda x: float(x) if x != 'na' else x) "
   ]
  },
  {
   "cell_type": "code",
   "execution_count": 193,
   "id": "be21b5bb-06c8-4829-98f3-9f0801cda5fa",
   "metadata": {
    "tags": []
   },
   "outputs": [
    {
     "data": {
      "text/plain": [
       "1876"
      ]
     },
     "execution_count": 193,
     "metadata": {},
     "output_type": "execute_result"
    }
   ],
   "source": [
    "len(listings[listings['host_response_rate'] == 'na'])"
   ]
  },
  {
   "cell_type": "code",
   "execution_count": 194,
   "id": "63501ac5-2be4-4617-b14e-20014e563ad4",
   "metadata": {},
   "outputs": [],
   "source": [
    "num_response_rates = listings[listings['host_response_rate'] != 'na']"
   ]
  },
  {
   "cell_type": "code",
   "execution_count": 195,
   "id": "034f4d05-e07d-4c91-adf4-7288f984e558",
   "metadata": {
    "tags": []
   },
   "outputs": [
    {
     "data": {
      "image/png": "[encoded data removed]",
      "text/plain": [
       "<Figure size 432x288 with 1 Axes>"
      ]
     },
     "metadata": {
      "needs_background": "light"
     },
     "output_type": "display_data"
    }
   ],
   "source": [
    "plt.hist(num_response_rates['host_response_rate'], bins = 20)\n",
    "plt.xlabel('Host Response Rate %', fontsize = 12)\n",
    "plt.ylabel('Number of Listings', fontsize = 12)\n",
    "plt.title('Distribution of Response Rates (non-null)', fontsize = 16);"
   ]
  },
  {
   "cell_type": "code",
   "execution_count": 196,
   "id": "25455fdc-5e0e-4c85-a849-8f3dc67b49d5",
   "metadata": {
    "tags": []
   },
   "outputs": [
    {
     "data": {
      "text/plain": [
       "100.0    5944\n",
       "na       1876\n",
       "99.0      650\n",
       "98.0      407\n",
       "90.0      296\n",
       "97.0      236\n",
       "96.0      203\n",
       "94.0      180\n",
       "95.0      108\n",
       "0.0        87\n",
       "Name: host_response_rate, dtype: int64"
      ]
     },
     "execution_count": 196,
     "metadata": {},
     "output_type": "execute_result"
    }
   ],
   "source": [
    "listings['host_response_rate'].value_counts()[:10]"
   ]
  },
  {
   "cell_type": "code",
   "execution_count": 197,
   "id": "a606c03c-ac5f-42d4-8aa2-f3e2853aad80",
   "metadata": {},
   "outputs": [],
   "source": [
    "listings['host_response_rate'] = listings['host_response_rate'].map(lambda x: 100.0 if x == 'na' else x) "
   ]
  },
  {
   "cell_type": "code",
   "execution_count": 198,
   "id": "46a318fd-5d0f-45b9-828a-664da4ce3a3f",
   "metadata": {
    "tags": []
   },
   "outputs": [
    {
     "data": {
      "text/plain": [
       "1876"
      ]
     },
     "execution_count": 198,
     "metadata": {},
     "output_type": "execute_result"
    }
   ],
   "source": [
    "listings['host_response_time'].isnull().sum()"
   ]
  },
  {
   "cell_type": "code",
   "execution_count": 199,
   "id": "b58e41dc-5e8f-4bf3-a30f-a03e4fa3615b",
   "metadata": {
    "tags": []
   },
   "outputs": [],
   "source": [
    "listings['host_response_time'] = listings['host_response_time'].map(lambda x: 0 if x == 'N/A' or x == 'a few days or more' else 1 if x == 'within a day' else 2 if x == 'within a few hours' else 3) "
   ]
  },
  {
   "cell_type": "code",
   "execution_count": 200,
   "id": "4aa2304c-5283-4fc9-b3e9-87210f717057",
   "metadata": {
    "tags": []
   },
   "outputs": [
    {
     "data": {
      "text/plain": [
       "0"
      ]
     },
     "execution_count": 200,
     "metadata": {},
     "output_type": "execute_result"
    }
   ],
   "source": [
    "listings['host_response_time'].isnull().sum()"
   ]
  },
  {
   "cell_type": "code",
   "execution_count": 201,
   "id": "b2cbdf53-f8d0-438a-9c1b-d199834780f1",
   "metadata": {
    "tags": []
   },
   "outputs": [
    {
     "data": {
      "text/html": [
       "<div>\n",
       "<style scoped>\n",
       "    .dataframe tbody tr th:only-of-type {\n",
       "        vertical-align: middle;\n",
       "    }\n",
       "\n",
       "    .dataframe tbody tr th {\n",
       "        vertical-align: top;\n",
       "    }\n",
       "\n",
       "    .dataframe thead th {\n",
       "        text-align: right;\n",
       "    }\n",
       "</style>\n",
       "<table border=\"1\" class=\"dataframe\">\n",
       "  <thead>\n",
       "    <tr style=\"text-align: right;\">\n",
       "      <th></th>\n",
       "      <th>host_response_time</th>\n",
       "      <th>host_response_rate</th>\n",
       "    </tr>\n",
       "  </thead>\n",
       "  <tbody>\n",
       "    <tr>\n",
       "      <th>host_response_time</th>\n",
       "      <td>1.000000</td>\n",
       "      <td>0.632875</td>\n",
       "    </tr>\n",
       "    <tr>\n",
       "      <th>host_response_rate</th>\n",
       "      <td>0.632875</td>\n",
       "      <td>1.000000</td>\n",
       "    </tr>\n",
       "  </tbody>\n",
       "</table>\n",
       "</div>"
      ],
      "text/plain": [
       "                    host_response_time  host_response_rate\n",
       "host_response_time            1.000000            0.632875\n",
       "host_response_rate            0.632875            1.000000"
      ]
     },
     "execution_count": 201,
     "metadata": {},
     "output_type": "execute_result"
    }
   ],
   "source": [
    "listings[['host_response_time','host_response_rate']].corr()"
   ]
  },
  {
   "cell_type": "code",
   "execution_count": 202,
   "id": "076581fe-057e-49d6-bacd-d19846369a8d",
   "metadata": {},
   "outputs": [],
   "source": [
    "# binarizing superhost column\n",
    "listings['host_is_superhost'] = listings['host_is_superhost'].map(lambda x: 1 if x == 't' else 0)"
   ]
  },
  {
   "cell_type": "code",
   "execution_count": 203,
   "id": "6d6d0e70-beed-4c24-8093-bb48efd52ef3",
   "metadata": {},
   "outputs": [
    {
     "data": {
      "text/plain": [
       "(10901, 52)"
      ]
     },
     "execution_count": 203,
     "metadata": {},
     "output_type": "execute_result"
    }
   ],
   "source": [
    "listings.shape"
   ]
  },
  {
   "cell_type": "code",
   "execution_count": 204,
   "id": "8ba894fb-e73e-45c7-8d29-ea70fa623d8f",
   "metadata": {},
   "outputs": [
    {
     "data": {
      "text/plain": [
       "id                         0\n",
       "listing_url                0\n",
       "scrape_id                  0\n",
       "last_scraped               0\n",
       "name                       0\n",
       "description               71\n",
       "picture_url                0\n",
       "host_id                    0\n",
       "host_url                   0\n",
       "host_name                 29\n",
       "host_since                29\n",
       "host_response_time         0\n",
       "host_response_rate         0\n",
       "host_is_superhost          0\n",
       "host_listings_count       29\n",
       "host_verifications         0\n",
       "host_has_profile_pic      29\n",
       "host_identity_verified    29\n",
       "neighbourhood_cleansed     0\n",
       "latitude                   0\n",
       "dtype: int64"
      ]
     },
     "execution_count": 204,
     "metadata": {},
     "output_type": "execute_result"
    }
   ],
   "source": [
    "# re checking first 20 columns\n",
    "listings.isnull().sum()[:20]"
   ]
  },
  {
   "cell_type": "code",
   "execution_count": 205,
   "id": "e9bc6284-c227-4167-8515-3fb39089872c",
   "metadata": {},
   "outputs": [
    {
     "data": {
      "text/plain": [
       "longitude                    0\n",
       "property_type                0\n",
       "room_type                    0\n",
       "accommodates                 0\n",
       "bathrooms_text              16\n",
       "bedrooms                  1359\n",
       "beds                       140\n",
       "amenities                    0\n",
       "price                        0\n",
       "minimum_nights               0\n",
       "maximum_nights               0\n",
       "minimum_nights_avg_ntm       3\n",
       "maximum_nights_avg_ntm       3\n",
       "has_availability             0\n",
       "availability_30              0\n",
       "availability_60              0\n",
       "availability_90              0\n",
       "availability_365             0\n",
       "calendar_last_scraped        0\n",
       "number_of_reviews            0\n",
       "dtype: int64"
      ]
     },
     "execution_count": 205,
     "metadata": {},
     "output_type": "execute_result"
    }
   ],
   "source": [
    "# re-checking columns 20-39\n",
    "listings.isnull().sum()[20:40]"
   ]
  },
  {
   "cell_type": "code",
   "execution_count": 206,
   "id": "3a45468d-a1a0-4a19-933e-07712313efd5",
   "metadata": {},
   "outputs": [
    {
     "data": {
      "text/plain": [
       "longitude         float64\n",
       "property_type      object\n",
       "room_type          object\n",
       "accommodates        int64\n",
       "bathrooms_text     object\n",
       "bedrooms          float64\n",
       "beds              float64\n",
       "amenities          object\n",
       "price              object\n",
       "minimum_nights      int64\n",
       "dtype: object"
      ]
     },
     "execution_count": 206,
     "metadata": {},
     "output_type": "execute_result"
    }
   ],
   "source": [
    "listings.dtypes[20:30]"
   ]
  },
  {
   "cell_type": "code",
   "execution_count": 207,
   "id": "cdf78e2e-05fd-40df-ad6e-f67d5a05285f",
   "metadata": {},
   "outputs": [
    {
     "data": {
      "text/html": [
       "<div>\n",
       "<style scoped>\n",
       "    .dataframe tbody tr th:only-of-type {\n",
       "        vertical-align: middle;\n",
       "    }\n",
       "\n",
       "    .dataframe tbody tr th {\n",
       "        vertical-align: top;\n",
       "    }\n",
       "\n",
       "    .dataframe thead th {\n",
       "        text-align: right;\n",
       "    }\n",
       "</style>\n",
       "<table border=\"1\" class=\"dataframe\">\n",
       "  <thead>\n",
       "    <tr style=\"text-align: right;\">\n",
       "      <th></th>\n",
       "      <th>bedrooms</th>\n",
       "      <th>beds</th>\n",
       "    </tr>\n",
       "  </thead>\n",
       "  <tbody>\n",
       "    <tr>\n",
       "      <th>bedrooms</th>\n",
       "      <td>1.000000</td>\n",
       "      <td>0.835159</td>\n",
       "    </tr>\n",
       "    <tr>\n",
       "      <th>beds</th>\n",
       "      <td>0.835159</td>\n",
       "      <td>1.000000</td>\n",
       "    </tr>\n",
       "  </tbody>\n",
       "</table>\n",
       "</div>"
      ],
      "text/plain": [
       "          bedrooms      beds\n",
       "bedrooms  1.000000  0.835159\n",
       "beds      0.835159  1.000000"
      ]
     },
     "execution_count": 207,
     "metadata": {},
     "output_type": "execute_result"
    }
   ],
   "source": [
    "listings[['bedrooms', 'beds']].corr()"
   ]
  },
  {
   "cell_type": "code",
   "execution_count": 208,
   "id": "ef395470-f45c-4d4c-94ed-794f063c0f34",
   "metadata": {},
   "outputs": [],
   "source": [
    "listings.dropna(subset = ['beds', 'bathrooms_text'], inplace=True)\n",
    "listings.drop(columns = 'bedrooms', inplace=True)"
   ]
  },
  {
   "cell_type": "code",
   "execution_count": 209,
   "id": "7b342164-04f5-4a4c-bfe6-d418b9549a9a",
   "metadata": {},
   "outputs": [
    {
     "data": {
      "text/plain": [
       "longitude                                       0\n",
       "property_type                                   0\n",
       "room_type                                       0\n",
       "accommodates                                    0\n",
       "bathrooms_text                                  0\n",
       "beds                                            0\n",
       "amenities                                       0\n",
       "price                                           0\n",
       "minimum_nights                                  0\n",
       "maximum_nights                                  0\n",
       "minimum_nights_avg_ntm                          0\n",
       "maximum_nights_avg_ntm                          0\n",
       "has_availability                                0\n",
       "availability_30                                 0\n",
       "availability_60                                 0\n",
       "availability_90                                 0\n",
       "availability_365                                0\n",
       "calendar_last_scraped                           0\n",
       "number_of_reviews                               0\n",
       "number_of_reviews_ltm                           0\n",
       "number_of_reviews_l30d                          0\n",
       "first_review                                    0\n",
       "last_review                                     0\n",
       "review_scores_rating                            0\n",
       "license                                         0\n",
       "instant_bookable                                0\n",
       "calculated_host_listings_count                  0\n",
       "calculated_host_listings_count_entire_homes     0\n",
       "calculated_host_listings_count_private_rooms    0\n",
       "calculated_host_listings_count_shared_rooms     0\n",
       "reviews_per_month                               0\n",
       "dtype: int64"
      ]
     },
     "execution_count": 209,
     "metadata": {},
     "output_type": "execute_result"
    }
   ],
   "source": [
    "# re-checking columns 20 and up\n",
    "listings.isnull().sum()[20:]"
   ]
  },
  {
   "cell_type": "code",
   "execution_count": 210,
   "id": "f9efaf7a-ba1f-4f3d-a15d-afdfa1dc389b",
   "metadata": {},
   "outputs": [
    {
     "data": {
      "text/plain": [
       "(10754, 51)"
      ]
     },
     "execution_count": 210,
     "metadata": {},
     "output_type": "execute_result"
    }
   ],
   "source": [
    "listings.shape"
   ]
  },
  {
   "cell_type": "code",
   "execution_count": 211,
   "id": "83c74791-e36e-42b5-ae95-266732153615",
   "metadata": {},
   "outputs": [
    {
     "data": {
      "text/plain": [
       "id                         0\n",
       "listing_url                0\n",
       "scrape_id                  0\n",
       "last_scraped               0\n",
       "name                       0\n",
       "description               61\n",
       "picture_url                0\n",
       "host_id                    0\n",
       "host_url                   0\n",
       "host_name                 29\n",
       "host_since                29\n",
       "host_response_time         0\n",
       "host_response_rate         0\n",
       "host_is_superhost          0\n",
       "host_listings_count       29\n",
       "host_verifications         0\n",
       "host_has_profile_pic      29\n",
       "host_identity_verified    29\n",
       "neighbourhood_cleansed     0\n",
       "latitude                   0\n",
       "dtype: int64"
      ]
     },
     "execution_count": 211,
     "metadata": {},
     "output_type": "execute_result"
    }
   ],
   "source": [
    "listings.isnull().sum()[:20]"
   ]
  },
  {
   "cell_type": "code",
   "execution_count": 212,
   "id": "6f334352-902c-45d1-8124-87b018a71ef9",
   "metadata": {},
   "outputs": [],
   "source": [
    "listings.dropna(subset = 'description', inplace = True)"
   ]
  },
  {
   "cell_type": "code",
   "execution_count": 213,
   "id": "e3c9b55d-c6af-491b-b92c-755d6dec1d2d",
   "metadata": {},
   "outputs": [
    {
     "data": {
      "text/plain": [
       "t    10646\n",
       "f       18\n",
       "Name: host_has_profile_pic, dtype: int64"
      ]
     },
     "execution_count": 213,
     "metadata": {},
     "output_type": "execute_result"
    }
   ],
   "source": [
    "listings['host_has_profile_pic'].value_counts()"
   ]
  },
  {
   "cell_type": "code",
   "execution_count": 214,
   "id": "9d084731-6836-456a-9ab5-7f748321337f",
   "metadata": {},
   "outputs": [],
   "source": [
    "listings['host_has_profile_pic'] = listings['host_has_profile_pic'].map(lambda x: 1 if x == 't' else 0)\n",
    "listings['host_identity_verified'] = listings['host_identity_verified'].map(lambda x: 1 if x == 't' else 0)"
   ]
  },
  {
   "cell_type": "code",
   "execution_count": 215,
   "id": "5c171169-0449-4970-a67e-12be6e1a5774",
   "metadata": {},
   "outputs": [],
   "source": [
    "listings.dropna(subset = 'host_name', inplace=True)"
   ]
  },
  {
   "cell_type": "code",
   "execution_count": 216,
   "id": "4c10efba-aeab-4e08-bbda-e78f8759b9a8",
   "metadata": {},
   "outputs": [
    {
     "data": {
      "text/plain": [
       "0"
      ]
     },
     "execution_count": 216,
     "metadata": {},
     "output_type": "execute_result"
    }
   ],
   "source": [
    "# double checking null values removed\n",
    "listings.isnull().sum().sum()"
   ]
  },
  {
   "cell_type": "markdown",
   "id": "b92a4894-a042-449c-b093-c849733eacbb",
   "metadata": {},
   "source": [
    "-----\n",
    "#### *Checking data types and renaming columns*"
   ]
  },
  {
   "cell_type": "code",
   "execution_count": 217,
   "id": "b9442311-00a5-4cba-ab64-a31dec5edd7a",
   "metadata": {},
   "outputs": [
    {
     "data": {
      "text/plain": [
       "id                                                int64\n",
       "listing_url                                      object\n",
       "scrape_id                                         int64\n",
       "last_scraped                                     object\n",
       "name                                             object\n",
       "description                                      object\n",
       "picture_url                                      object\n",
       "host_id                                           int64\n",
       "host_url                                         object\n",
       "host_name                                        object\n",
       "host_since                                       object\n",
       "host_response_time                                int64\n",
       "host_response_rate                              float64\n",
       "host_is_superhost                                 int64\n",
       "host_listings_count                             float64\n",
       "host_verifications                               object\n",
       "host_has_profile_pic                              int64\n",
       "host_identity_verified                            int64\n",
       "neighbourhood_cleansed                           object\n",
       "latitude                                        float64\n",
       "longitude                                       float64\n",
       "property_type                                    object\n",
       "room_type                                        object\n",
       "accommodates                                      int64\n",
       "bathrooms_text                                   object\n",
       "beds                                            float64\n",
       "amenities                                        object\n",
       "price                                            object\n",
       "minimum_nights                                    int64\n",
       "maximum_nights                                    int64\n",
       "minimum_nights_avg_ntm                          float64\n",
       "maximum_nights_avg_ntm                          float64\n",
       "has_availability                                 object\n",
       "availability_30                                   int64\n",
       "availability_60                                   int64\n",
       "availability_90                                   int64\n",
       "availability_365                                  int64\n",
       "calendar_last_scraped                            object\n",
       "number_of_reviews                                 int64\n",
       "number_of_reviews_ltm                             int64\n",
       "number_of_reviews_l30d                            int64\n",
       "first_review                                     object\n",
       "last_review                                      object\n",
       "review_scores_rating                            float64\n",
       "license                                           int64\n",
       "instant_bookable                                 object\n",
       "calculated_host_listings_count                    int64\n",
       "calculated_host_listings_count_entire_homes       int64\n",
       "calculated_host_listings_count_private_rooms      int64\n",
       "calculated_host_listings_count_shared_rooms       int64\n",
       "reviews_per_month                               float64\n",
       "dtype: object"
      ]
     },
     "execution_count": 217,
     "metadata": {},
     "output_type": "execute_result"
    }
   ],
   "source": [
    "listings.dtypes"
   ]
  },
  {
   "cell_type": "code",
   "execution_count": 218,
   "id": "98b10165-eaa2-4b8e-8c2a-af85a60e2fe1",
   "metadata": {},
   "outputs": [],
   "source": [
    "listings.rename(columns = {'neighbourhood_cleansed':'neighborhood'}, inplace = True)"
   ]
  },
  {
   "cell_type": "code",
   "execution_count": 219,
   "id": "1d8a16ba-ec16-47d1-9906-730642b4d571",
   "metadata": {},
   "outputs": [
    {
     "data": {
      "text/plain": [
       "0       East Boston\n",
       "1           Roxbury\n",
       "2           Roxbury\n",
       "3          Downtown\n",
       "4          Downtown\n",
       "           ...     \n",
       "4898       Brighton\n",
       "4899      Hyde Park\n",
       "4900    Charlestown\n",
       "4901    Charlestown\n",
       "4902    East Boston\n",
       "Name: neighborhood, Length: 10664, dtype: object"
      ]
     },
     "execution_count": 219,
     "metadata": {},
     "output_type": "execute_result"
    }
   ],
   "source": [
    "listings['neighborhood']"
   ]
  },
  {
   "cell_type": "code",
   "execution_count": 220,
   "id": "24f9f318-6164-4862-8ff9-6a4ee06f188c",
   "metadata": {},
   "outputs": [
    {
     "data": {
      "text/plain": [
       "0     3116\n",
       "60     608\n",
       "1      216\n",
       "59     177\n",
       "14     161\n",
       "      ... \n",
       "40      79\n",
       "51      78\n",
       "55      77\n",
       "50      72\n",
       "56      60\n",
       "Name: availability_60, Length: 61, dtype: int64"
      ]
     },
     "execution_count": 220,
     "metadata": {},
     "output_type": "execute_result"
    }
   ],
   "source": [
    "listings['availability_60'].value_counts()"
   ]
  },
  {
   "cell_type": "code",
   "execution_count": 221,
   "id": "270078a4-7669-44e6-9116-cf33c6bce0bb",
   "metadata": {},
   "outputs": [],
   "source": [
    "# binarize availability - can see which ones book up well in advance this way\n",
    "listings['has_availability'] = listings['has_availability'].map(lambda x: 1 if x == 't' else 0)\n",
    "listings.rename(columns = {'has_availability': 'available_today'}, inplace=True)\n",
    "listings['availability_30'] = listings['availability_30'].map(lambda x: 0 if x == 0 else 1)\n",
    "listings['availability_60'] = listings['availability_60'].map(lambda x: 0 if x == 0 else 1)\n",
    "listings['availability_90'] = listings['availability_90'].map(lambda x: 0 if x == 0 else 1)\n",
    "listings['availability_365'] = listings['availability_365'].map(lambda x: 0 if x == 0 else 1)"
   ]
  },
  {
   "cell_type": "code",
   "execution_count": 222,
   "id": "24357d89-954b-47e0-8a78-d347eaad0726",
   "metadata": {},
   "outputs": [],
   "source": [
    "# binarize the instanst booking column\n",
    "listings['instant_bookable'] = listings['instant_bookable'].map(lambda x: 1 if x == 't' else 0)"
   ]
  },
  {
   "cell_type": "code",
   "execution_count": 223,
   "id": "91f9877f-0a96-43cc-b004-517e4b0d34df",
   "metadata": {},
   "outputs": [],
   "source": [
    "# change price to float for modeling\n",
    "listings['price'] = [i[1:] for i in listings['price']]"
   ]
  },
  {
   "cell_type": "code",
   "execution_count": 224,
   "id": "c98d8318-baf7-43dd-b3a2-daee071204c0",
   "metadata": {
    "tags": []
   },
   "outputs": [
    {
     "data": {
      "text/plain": [
       "dtype('float64')"
      ]
     },
     "execution_count": 224,
     "metadata": {},
     "output_type": "execute_result"
    }
   ],
   "source": [
    "listings['price'] = [float(i[1:]) if len(i[1:]) < 7 else float(i[1:].split(',')[0] + i[1:].split(',')[1]) for i in listings['price']]\n",
    "listings['price'].dtype"
   ]
  },
  {
   "cell_type": "code",
   "execution_count": 225,
   "id": "2bc55924-6ed2-4c0b-8977-f27c0bf2baed",
   "metadata": {},
   "outputs": [
    {
     "data": {
      "text/html": [
       "<div>\n",
       "<style scoped>\n",
       "    .dataframe tbody tr th:only-of-type {\n",
       "        vertical-align: middle;\n",
       "    }\n",
       "\n",
       "    .dataframe tbody tr th {\n",
       "        vertical-align: top;\n",
       "    }\n",
       "\n",
       "    .dataframe thead th {\n",
       "        text-align: right;\n",
       "    }\n",
       "</style>\n",
       "<table border=\"1\" class=\"dataframe\">\n",
       "  <thead>\n",
       "    <tr style=\"text-align: right;\">\n",
       "      <th></th>\n",
       "      <th>accommodates</th>\n",
       "      <th>beds</th>\n",
       "    </tr>\n",
       "  </thead>\n",
       "  <tbody>\n",
       "    <tr>\n",
       "      <th>accommodates</th>\n",
       "      <td>1.000000</td>\n",
       "      <td>0.844127</td>\n",
       "    </tr>\n",
       "    <tr>\n",
       "      <th>beds</th>\n",
       "      <td>0.844127</td>\n",
       "      <td>1.000000</td>\n",
       "    </tr>\n",
       "  </tbody>\n",
       "</table>\n",
       "</div>"
      ],
      "text/plain": [
       "              accommodates      beds\n",
       "accommodates      1.000000  0.844127\n",
       "beds              0.844127  1.000000"
      ]
     },
     "execution_count": 225,
     "metadata": {},
     "output_type": "execute_result"
    }
   ],
   "source": [
    "# collinearity between number of beds and accomodates?\n",
    "listings[['accommodates','beds']].corr()"
   ]
  },
  {
   "cell_type": "code",
   "execution_count": 226,
   "id": "96024267-4993-4e2d-97a6-de6855ec22a4",
   "metadata": {},
   "outputs": [
    {
     "data": {
      "text/html": [
       "<div>\n",
       "<style scoped>\n",
       "    .dataframe tbody tr th:only-of-type {\n",
       "        vertical-align: middle;\n",
       "    }\n",
       "\n",
       "    .dataframe tbody tr th {\n",
       "        vertical-align: top;\n",
       "    }\n",
       "\n",
       "    .dataframe thead th {\n",
       "        text-align: right;\n",
       "    }\n",
       "</style>\n",
       "<table border=\"1\" class=\"dataframe\">\n",
       "  <thead>\n",
       "    <tr style=\"text-align: right;\">\n",
       "      <th></th>\n",
       "      <th>host_listings_count</th>\n",
       "      <th>calculated_host_listings_count</th>\n",
       "      <th>calculated_host_listings_count_entire_homes</th>\n",
       "      <th>calculated_host_listings_count_private_rooms</th>\n",
       "      <th>calculated_host_listings_count_shared_rooms</th>\n",
       "    </tr>\n",
       "  </thead>\n",
       "  <tbody>\n",
       "    <tr>\n",
       "      <th>0</th>\n",
       "      <td>5.0</td>\n",
       "      <td>1</td>\n",
       "      <td>1</td>\n",
       "      <td>0</td>\n",
       "      <td>0</td>\n",
       "    </tr>\n",
       "    <tr>\n",
       "      <th>1</th>\n",
       "      <td>4.0</td>\n",
       "      <td>10</td>\n",
       "      <td>10</td>\n",
       "      <td>0</td>\n",
       "      <td>0</td>\n",
       "    </tr>\n",
       "    <tr>\n",
       "      <th>2</th>\n",
       "      <td>4.0</td>\n",
       "      <td>10</td>\n",
       "      <td>10</td>\n",
       "      <td>0</td>\n",
       "      <td>0</td>\n",
       "    </tr>\n",
       "    <tr>\n",
       "      <th>3</th>\n",
       "      <td>7.0</td>\n",
       "      <td>5</td>\n",
       "      <td>5</td>\n",
       "      <td>0</td>\n",
       "      <td>0</td>\n",
       "    </tr>\n",
       "    <tr>\n",
       "      <th>4</th>\n",
       "      <td>7.0</td>\n",
       "      <td>5</td>\n",
       "      <td>5</td>\n",
       "      <td>0</td>\n",
       "      <td>0</td>\n",
       "    </tr>\n",
       "    <tr>\n",
       "      <th>...</th>\n",
       "      <td>...</td>\n",
       "      <td>...</td>\n",
       "      <td>...</td>\n",
       "      <td>...</td>\n",
       "      <td>...</td>\n",
       "    </tr>\n",
       "    <tr>\n",
       "      <th>4898</th>\n",
       "      <td>3.0</td>\n",
       "      <td>4</td>\n",
       "      <td>0</td>\n",
       "      <td>4</td>\n",
       "      <td>0</td>\n",
       "    </tr>\n",
       "    <tr>\n",
       "      <th>4899</th>\n",
       "      <td>3.0</td>\n",
       "      <td>4</td>\n",
       "      <td>0</td>\n",
       "      <td>4</td>\n",
       "      <td>0</td>\n",
       "    </tr>\n",
       "    <tr>\n",
       "      <th>4900</th>\n",
       "      <td>1.0</td>\n",
       "      <td>1</td>\n",
       "      <td>0</td>\n",
       "      <td>1</td>\n",
       "      <td>0</td>\n",
       "    </tr>\n",
       "    <tr>\n",
       "      <th>4901</th>\n",
       "      <td>7.0</td>\n",
       "      <td>7</td>\n",
       "      <td>1</td>\n",
       "      <td>6</td>\n",
       "      <td>0</td>\n",
       "    </tr>\n",
       "    <tr>\n",
       "      <th>4902</th>\n",
       "      <td>0.0</td>\n",
       "      <td>1</td>\n",
       "      <td>0</td>\n",
       "      <td>1</td>\n",
       "      <td>0</td>\n",
       "    </tr>\n",
       "  </tbody>\n",
       "</table>\n",
       "<p>10664 rows × 5 columns</p>\n",
       "</div>"
      ],
      "text/plain": [
       "      host_listings_count  calculated_host_listings_count  \\\n",
       "0                     5.0                               1   \n",
       "1                     4.0                              10   \n",
       "2                     4.0                              10   \n",
       "3                     7.0                               5   \n",
       "4                     7.0                               5   \n",
       "...                   ...                             ...   \n",
       "4898                  3.0                               4   \n",
       "4899                  3.0                               4   \n",
       "4900                  1.0                               1   \n",
       "4901                  7.0                               7   \n",
       "4902                  0.0                               1   \n",
       "\n",
       "      calculated_host_listings_count_entire_homes  \\\n",
       "0                                               1   \n",
       "1                                              10   \n",
       "2                                              10   \n",
       "3                                               5   \n",
       "4                                               5   \n",
       "...                                           ...   \n",
       "4898                                            0   \n",
       "4899                                            0   \n",
       "4900                                            0   \n",
       "4901                                            1   \n",
       "4902                                            0   \n",
       "\n",
       "      calculated_host_listings_count_private_rooms  \\\n",
       "0                                                0   \n",
       "1                                                0   \n",
       "2                                                0   \n",
       "3                                                0   \n",
       "4                                                0   \n",
       "...                                            ...   \n",
       "4898                                             4   \n",
       "4899                                             4   \n",
       "4900                                             1   \n",
       "4901                                             6   \n",
       "4902                                             1   \n",
       "\n",
       "      calculated_host_listings_count_shared_rooms  \n",
       "0                                               0  \n",
       "1                                               0  \n",
       "2                                               0  \n",
       "3                                               0  \n",
       "4                                               0  \n",
       "...                                           ...  \n",
       "4898                                            0  \n",
       "4899                                            0  \n",
       "4900                                            0  \n",
       "4901                                            0  \n",
       "4902                                            0  \n",
       "\n",
       "[10664 rows x 5 columns]"
      ]
     },
     "execution_count": 226,
     "metadata": {},
     "output_type": "execute_result"
    }
   ],
   "source": [
    "# Check out calculated host listings count for overlap\n",
    "listings[['host_listings_count','calculated_host_listings_count','calculated_host_listings_count_entire_homes','calculated_host_listings_count_private_rooms','calculated_host_listings_count_shared_rooms']]"
   ]
  },
  {
   "cell_type": "code",
   "execution_count": 227,
   "id": "57adb5c0-cd9c-41c4-bb98-c5214b7bdbb5",
   "metadata": {},
   "outputs": [
    {
     "data": {
      "text/plain": [
       "0    10522\n",
       "1      134\n",
       "7        7\n",
       "4        1\n",
       "Name: calculated_host_listings_count_shared_rooms, dtype: int64"
      ]
     },
     "execution_count": 227,
     "metadata": {},
     "output_type": "execute_result"
    }
   ],
   "source": [
    "listings['calculated_host_listings_count_shared_rooms'].value_counts()"
   ]
  },
  {
   "cell_type": "code",
   "execution_count": 228,
   "id": "463b8294-5e1f-41de-9d1d-7d593d310a96",
   "metadata": {},
   "outputs": [],
   "source": [
    "listings.rename(columns = {'host_listings_count':'abnb_host_listings_count'}, inplace=True)"
   ]
  },
  {
   "cell_type": "code",
   "execution_count": 229,
   "id": "3e67f5f4-841d-45d8-9f9d-8920e34a0c82",
   "metadata": {},
   "outputs": [
    {
     "data": {
      "text/plain": [
       "0        1 bath\n",
       "1        1 bath\n",
       "2        1 bath\n",
       "3        1 bath\n",
       "4        1 bath\n",
       "5        1 bath\n",
       "6        1 bath\n",
       "9        1 bath\n",
       "11       1 bath\n",
       "12    1.5 baths\n",
       "Name: bathrooms_text, dtype: object"
      ]
     },
     "execution_count": 229,
     "metadata": {},
     "output_type": "execute_result"
    }
   ],
   "source": [
    "# Update bathrooms_text to int - pick out number\n",
    "# add additional column indicating whether shared bath or not\n",
    "listings['bathrooms_text'].head(10)"
   ]
  },
  {
   "cell_type": "code",
   "execution_count": 230,
   "id": "af133848-55f4-408d-b915-32ee967518f4",
   "metadata": {},
   "outputs": [
    {
     "data": {
      "text/plain": [
       "1            7790\n",
       "2            1612\n",
       "1.5           721\n",
       "2.5           224\n",
       "3             139\n",
       "3.5            58\n",
       "5              40\n",
       "6              24\n",
       "0              21\n",
       "4              11\n",
       "4.5             9\n",
       "Shared          6\n",
       "Half-bath       4\n",
       "Private         4\n",
       "8               1\n",
       "dtype: int64"
      ]
     },
     "execution_count": 230,
     "metadata": {},
     "output_type": "execute_result"
    }
   ],
   "source": [
    "# checking possible values of bathroom text\n",
    "new_df = pd.DataFrame([(i.split(' ')[0]) for i in listings['bathrooms_text']])\n",
    "new_df.value_counts()"
   ]
  },
  {
   "cell_type": "code",
   "execution_count": 231,
   "id": "5719df11-64b3-4626-a8d5-99108102d3f2",
   "metadata": {},
   "outputs": [],
   "source": [
    "listings['bathrooms'] = [float(i.split(' ')[0]) if len(i.split(' ')[0]) <= 3 else 1.0 if i.split(' ')[0] == 'Shared' or i.split(' ')[0] == 'Private' else 0.5 for i in listings['bathrooms_text']]"
   ]
  },
  {
   "cell_type": "code",
   "execution_count": 232,
   "id": "6c662faf-4253-4338-ba50-7749535e8b24",
   "metadata": {},
   "outputs": [
    {
     "data": {
      "text/html": [
       "<div>\n",
       "<style scoped>\n",
       "    .dataframe tbody tr th:only-of-type {\n",
       "        vertical-align: middle;\n",
       "    }\n",
       "\n",
       "    .dataframe tbody tr th {\n",
       "        vertical-align: top;\n",
       "    }\n",
       "\n",
       "    .dataframe thead th {\n",
       "        text-align: right;\n",
       "    }\n",
       "</style>\n",
       "<table border=\"1\" class=\"dataframe\">\n",
       "  <thead>\n",
       "    <tr style=\"text-align: right;\">\n",
       "      <th></th>\n",
       "      <th>bathrooms_text</th>\n",
       "      <th>bathrooms</th>\n",
       "    </tr>\n",
       "  </thead>\n",
       "  <tbody>\n",
       "    <tr>\n",
       "      <th>0</th>\n",
       "      <td>1 bath</td>\n",
       "      <td>1.0</td>\n",
       "    </tr>\n",
       "    <tr>\n",
       "      <th>1</th>\n",
       "      <td>1 bath</td>\n",
       "      <td>1.0</td>\n",
       "    </tr>\n",
       "    <tr>\n",
       "      <th>2</th>\n",
       "      <td>1 bath</td>\n",
       "      <td>1.0</td>\n",
       "    </tr>\n",
       "    <tr>\n",
       "      <th>3</th>\n",
       "      <td>1 bath</td>\n",
       "      <td>1.0</td>\n",
       "    </tr>\n",
       "    <tr>\n",
       "      <th>4</th>\n",
       "      <td>1 bath</td>\n",
       "      <td>1.0</td>\n",
       "    </tr>\n",
       "    <tr>\n",
       "      <th>5</th>\n",
       "      <td>1 bath</td>\n",
       "      <td>1.0</td>\n",
       "    </tr>\n",
       "    <tr>\n",
       "      <th>6</th>\n",
       "      <td>1 bath</td>\n",
       "      <td>1.0</td>\n",
       "    </tr>\n",
       "    <tr>\n",
       "      <th>9</th>\n",
       "      <td>1 bath</td>\n",
       "      <td>1.0</td>\n",
       "    </tr>\n",
       "    <tr>\n",
       "      <th>11</th>\n",
       "      <td>1 bath</td>\n",
       "      <td>1.0</td>\n",
       "    </tr>\n",
       "    <tr>\n",
       "      <th>12</th>\n",
       "      <td>1.5 baths</td>\n",
       "      <td>1.5</td>\n",
       "    </tr>\n",
       "    <tr>\n",
       "      <th>13</th>\n",
       "      <td>1 bath</td>\n",
       "      <td>1.0</td>\n",
       "    </tr>\n",
       "    <tr>\n",
       "      <th>14</th>\n",
       "      <td>1.5 shared baths</td>\n",
       "      <td>1.5</td>\n",
       "    </tr>\n",
       "    <tr>\n",
       "      <th>15</th>\n",
       "      <td>1 shared bath</td>\n",
       "      <td>1.0</td>\n",
       "    </tr>\n",
       "    <tr>\n",
       "      <th>16</th>\n",
       "      <td>1 bath</td>\n",
       "      <td>1.0</td>\n",
       "    </tr>\n",
       "    <tr>\n",
       "      <th>17</th>\n",
       "      <td>1 bath</td>\n",
       "      <td>1.0</td>\n",
       "    </tr>\n",
       "  </tbody>\n",
       "</table>\n",
       "</div>"
      ],
      "text/plain": [
       "      bathrooms_text  bathrooms\n",
       "0             1 bath        1.0\n",
       "1             1 bath        1.0\n",
       "2             1 bath        1.0\n",
       "3             1 bath        1.0\n",
       "4             1 bath        1.0\n",
       "5             1 bath        1.0\n",
       "6             1 bath        1.0\n",
       "9             1 bath        1.0\n",
       "11            1 bath        1.0\n",
       "12         1.5 baths        1.5\n",
       "13            1 bath        1.0\n",
       "14  1.5 shared baths        1.5\n",
       "15     1 shared bath        1.0\n",
       "16            1 bath        1.0\n",
       "17            1 bath        1.0"
      ]
     },
     "execution_count": 232,
     "metadata": {},
     "output_type": "execute_result"
    }
   ],
   "source": [
    "# verifying that changes have been reflected (column of floats)\n",
    "listings[['bathrooms_text','bathrooms']].head(15)"
   ]
  },
  {
   "cell_type": "code",
   "execution_count": 233,
   "id": "02781bbc-e9b7-43fd-a783-7deecec6d16d",
   "metadata": {},
   "outputs": [],
   "source": [
    "# add binarized column of shared bathroom or not\n",
    "listings['bathrooms_shared'] = [1 if 'shared' in i else 0 for i in listings['bathrooms_text']]"
   ]
  },
  {
   "cell_type": "code",
   "execution_count": 234,
   "id": "525dacc0-6320-4ff8-a0dd-62dd3449ea06",
   "metadata": {},
   "outputs": [
    {
     "data": {
      "text/html": [
       "<div>\n",
       "<style scoped>\n",
       "    .dataframe tbody tr th:only-of-type {\n",
       "        vertical-align: middle;\n",
       "    }\n",
       "\n",
       "    .dataframe tbody tr th {\n",
       "        vertical-align: top;\n",
       "    }\n",
       "\n",
       "    .dataframe thead th {\n",
       "        text-align: right;\n",
       "    }\n",
       "</style>\n",
       "<table border=\"1\" class=\"dataframe\">\n",
       "  <thead>\n",
       "    <tr style=\"text-align: right;\">\n",
       "      <th></th>\n",
       "      <th>bathrooms_text</th>\n",
       "      <th>bathrooms_shared</th>\n",
       "    </tr>\n",
       "  </thead>\n",
       "  <tbody>\n",
       "    <tr>\n",
       "      <th>0</th>\n",
       "      <td>1 bath</td>\n",
       "      <td>0</td>\n",
       "    </tr>\n",
       "    <tr>\n",
       "      <th>1</th>\n",
       "      <td>1 bath</td>\n",
       "      <td>0</td>\n",
       "    </tr>\n",
       "    <tr>\n",
       "      <th>2</th>\n",
       "      <td>1 bath</td>\n",
       "      <td>0</td>\n",
       "    </tr>\n",
       "    <tr>\n",
       "      <th>3</th>\n",
       "      <td>1 bath</td>\n",
       "      <td>0</td>\n",
       "    </tr>\n",
       "    <tr>\n",
       "      <th>4</th>\n",
       "      <td>1 bath</td>\n",
       "      <td>0</td>\n",
       "    </tr>\n",
       "    <tr>\n",
       "      <th>5</th>\n",
       "      <td>1 bath</td>\n",
       "      <td>0</td>\n",
       "    </tr>\n",
       "    <tr>\n",
       "      <th>6</th>\n",
       "      <td>1 bath</td>\n",
       "      <td>0</td>\n",
       "    </tr>\n",
       "    <tr>\n",
       "      <th>9</th>\n",
       "      <td>1 bath</td>\n",
       "      <td>0</td>\n",
       "    </tr>\n",
       "    <tr>\n",
       "      <th>11</th>\n",
       "      <td>1 bath</td>\n",
       "      <td>0</td>\n",
       "    </tr>\n",
       "    <tr>\n",
       "      <th>12</th>\n",
       "      <td>1.5 baths</td>\n",
       "      <td>0</td>\n",
       "    </tr>\n",
       "  </tbody>\n",
       "</table>\n",
       "</div>"
      ],
      "text/plain": [
       "   bathrooms_text  bathrooms_shared\n",
       "0          1 bath                 0\n",
       "1          1 bath                 0\n",
       "2          1 bath                 0\n",
       "3          1 bath                 0\n",
       "4          1 bath                 0\n",
       "5          1 bath                 0\n",
       "6          1 bath                 0\n",
       "9          1 bath                 0\n",
       "11         1 bath                 0\n",
       "12      1.5 baths                 0"
      ]
     },
     "execution_count": 234,
     "metadata": {},
     "output_type": "execute_result"
    }
   ],
   "source": [
    "# verifying that changes have been reflected (column of floats)\n",
    "listings[['bathrooms_text','bathrooms_shared']].head(10)"
   ]
  },
  {
   "cell_type": "code",
   "execution_count": 235,
   "id": "b4671a53-f25f-4b00-8fe0-64f5418bf694",
   "metadata": {},
   "outputs": [],
   "source": [
    "# get rid of the bathrooms text column\n",
    "listings.drop(columns = 'bathrooms_text', inplace=True)"
   ]
  },
  {
   "cell_type": "code",
   "execution_count": 236,
   "id": "2fefeb2e-fb6d-4ea4-98e9-672b583aaa3b",
   "metadata": {},
   "outputs": [
    {
     "data": {
      "text/html": [
       "<div>\n",
       "<style scoped>\n",
       "    .dataframe tbody tr th:only-of-type {\n",
       "        vertical-align: middle;\n",
       "    }\n",
       "\n",
       "    .dataframe tbody tr th {\n",
       "        vertical-align: top;\n",
       "    }\n",
       "\n",
       "    .dataframe thead th {\n",
       "        text-align: right;\n",
       "    }\n",
       "</style>\n",
       "<table border=\"1\" class=\"dataframe\">\n",
       "  <thead>\n",
       "    <tr style=\"text-align: right;\">\n",
       "      <th></th>\n",
       "      <th>amenities</th>\n",
       "      <th>amenities_count</th>\n",
       "    </tr>\n",
       "  </thead>\n",
       "  <tbody>\n",
       "    <tr>\n",
       "      <th>0</th>\n",
       "      <td>[\"Heating\", \"Refrigerator\", \"Essentials\", \"Cof...</td>\n",
       "      <td>31</td>\n",
       "    </tr>\n",
       "    <tr>\n",
       "      <th>1</th>\n",
       "      <td>[\"Heating\", \"Refrigerator\", \"Essentials\", \"Cof...</td>\n",
       "      <td>30</td>\n",
       "    </tr>\n",
       "    <tr>\n",
       "      <th>2</th>\n",
       "      <td>[\"Heating\", \"Refrigerator\", \"Essentials\", \"Cof...</td>\n",
       "      <td>30</td>\n",
       "    </tr>\n",
       "  </tbody>\n",
       "</table>\n",
       "</div>"
      ],
      "text/plain": [
       "                                           amenities  amenities_count\n",
       "0  [\"Heating\", \"Refrigerator\", \"Essentials\", \"Cof...               31\n",
       "1  [\"Heating\", \"Refrigerator\", \"Essentials\", \"Cof...               30\n",
       "2  [\"Heating\", \"Refrigerator\", \"Essentials\", \"Cof...               30"
      ]
     },
     "execution_count": 236,
     "metadata": {},
     "output_type": "execute_result"
    }
   ],
   "source": [
    "# adding column that counts the amenities\n",
    "listings['amenities_count'] = [len(listings['amenities'].iloc[n].split(', ')) for n in range(0, len(listings['amenities']))]\n",
    "\n",
    "# double checking results\n",
    "listings[['amenities', 'amenities_count']].head(3)"
   ]
  },
  {
   "cell_type": "code",
   "execution_count": 237,
   "id": "765ec0c1-eb8a-4037-96b9-fee8c8e0d5df",
   "metadata": {},
   "outputs": [
    {
     "data": {
      "text/plain": [
       "0                        ['email', 'phone', 'reviews']\n",
       "1                 ['email', 'phone', 'reviews', 'kba']\n",
       "2                 ['email', 'phone', 'reviews', 'kba']\n",
       "3    ['email', 'phone', 'reviews', 'jumio', 'offlin...\n",
       "4    ['email', 'phone', 'reviews', 'jumio', 'offlin...\n",
       "Name: host_verifications, dtype: object"
      ]
     },
     "execution_count": 237,
     "metadata": {},
     "output_type": "execute_result"
    }
   ],
   "source": [
    "# doing the same for host verifications\n",
    "listings['host_verifications'].head()"
   ]
  },
  {
   "cell_type": "code",
   "execution_count": 238,
   "id": "f8ccb06b-5174-4568-bc61-e73d50674ee8",
   "metadata": {},
   "outputs": [
    {
     "data": {
      "text/html": [
       "<div>\n",
       "<style scoped>\n",
       "    .dataframe tbody tr th:only-of-type {\n",
       "        vertical-align: middle;\n",
       "    }\n",
       "\n",
       "    .dataframe tbody tr th {\n",
       "        vertical-align: top;\n",
       "    }\n",
       "\n",
       "    .dataframe thead th {\n",
       "        text-align: right;\n",
       "    }\n",
       "</style>\n",
       "<table border=\"1\" class=\"dataframe\">\n",
       "  <thead>\n",
       "    <tr style=\"text-align: right;\">\n",
       "      <th></th>\n",
       "      <th>host_verifications</th>\n",
       "      <th>host_verifications_count</th>\n",
       "    </tr>\n",
       "  </thead>\n",
       "  <tbody>\n",
       "    <tr>\n",
       "      <th>0</th>\n",
       "      <td>['email', 'phone', 'reviews']</td>\n",
       "      <td>3</td>\n",
       "    </tr>\n",
       "    <tr>\n",
       "      <th>1</th>\n",
       "      <td>['email', 'phone', 'reviews', 'kba']</td>\n",
       "      <td>4</td>\n",
       "    </tr>\n",
       "    <tr>\n",
       "      <th>2</th>\n",
       "      <td>['email', 'phone', 'reviews', 'kba']</td>\n",
       "      <td>4</td>\n",
       "    </tr>\n",
       "  </tbody>\n",
       "</table>\n",
       "</div>"
      ],
      "text/plain": [
       "                     host_verifications  host_verifications_count\n",
       "0         ['email', 'phone', 'reviews']                         3\n",
       "1  ['email', 'phone', 'reviews', 'kba']                         4\n",
       "2  ['email', 'phone', 'reviews', 'kba']                         4"
      ]
     },
     "execution_count": 238,
     "metadata": {},
     "output_type": "execute_result"
    }
   ],
   "source": [
    "# adding column that counts the verifications\n",
    "listings['host_verifications_count'] = [len(listings['host_verifications'].iloc[n].split(', ')) for n in range(0, len(listings['host_verifications']))]\n",
    "\n",
    "# double checking results\n",
    "listings[['host_verifications', 'host_verifications_count']].head(3)"
   ]
  },
  {
   "cell_type": "markdown",
   "id": "9f9f1e32-47cc-4c75-a30a-439a8e802b88",
   "metadata": {},
   "source": [
    "-----\n",
    "#### *Checking for incorrect negative values and/or erroneous data*"
   ]
  },
  {
   "cell_type": "code",
   "execution_count": 239,
   "id": "54e5191f-aca3-463f-9c88-d5d19d663d8d",
   "metadata": {},
   "outputs": [
    {
     "data": {
      "text/html": [
       "<div>\n",
       "<style scoped>\n",
       "    .dataframe tbody tr th:only-of-type {\n",
       "        vertical-align: middle;\n",
       "    }\n",
       "\n",
       "    .dataframe tbody tr th {\n",
       "        vertical-align: top;\n",
       "    }\n",
       "\n",
       "    .dataframe thead th {\n",
       "        text-align: right;\n",
       "    }\n",
       "</style>\n",
       "<table border=\"1\" class=\"dataframe\">\n",
       "  <thead>\n",
       "    <tr style=\"text-align: right;\">\n",
       "      <th></th>\n",
       "      <th>dtype</th>\n",
       "    </tr>\n",
       "  </thead>\n",
       "  <tbody>\n",
       "    <tr>\n",
       "      <th>id</th>\n",
       "      <td>int64</td>\n",
       "    </tr>\n",
       "    <tr>\n",
       "      <th>scrape_id</th>\n",
       "      <td>int64</td>\n",
       "    </tr>\n",
       "    <tr>\n",
       "      <th>host_id</th>\n",
       "      <td>int64</td>\n",
       "    </tr>\n",
       "    <tr>\n",
       "      <th>host_response_time</th>\n",
       "      <td>int64</td>\n",
       "    </tr>\n",
       "    <tr>\n",
       "      <th>host_response_rate</th>\n",
       "      <td>float64</td>\n",
       "    </tr>\n",
       "    <tr>\n",
       "      <th>host_is_superhost</th>\n",
       "      <td>int64</td>\n",
       "    </tr>\n",
       "    <tr>\n",
       "      <th>abnb_host_listings_count</th>\n",
       "      <td>float64</td>\n",
       "    </tr>\n",
       "    <tr>\n",
       "      <th>host_has_profile_pic</th>\n",
       "      <td>int64</td>\n",
       "    </tr>\n",
       "    <tr>\n",
       "      <th>host_identity_verified</th>\n",
       "      <td>int64</td>\n",
       "    </tr>\n",
       "    <tr>\n",
       "      <th>latitude</th>\n",
       "      <td>float64</td>\n",
       "    </tr>\n",
       "  </tbody>\n",
       "</table>\n",
       "</div>"
      ],
      "text/plain": [
       "                            dtype\n",
       "id                          int64\n",
       "scrape_id                   int64\n",
       "host_id                     int64\n",
       "host_response_time          int64\n",
       "host_response_rate        float64\n",
       "host_is_superhost           int64\n",
       "abnb_host_listings_count  float64\n",
       "host_has_profile_pic        int64\n",
       "host_identity_verified      int64\n",
       "latitude                  float64"
      ]
     },
     "execution_count": 239,
     "metadata": {},
     "output_type": "execute_result"
    }
   ],
   "source": [
    "# creating a data frame of each column\n",
    "dtype_df = pd.DataFrame(data = listings.dtypes)\n",
    "dtype_df.rename(columns = {0: 'dtype'}, inplace=True)\n",
    "\n",
    "# slicing that data frame to only include int or float (numerical columns)\n",
    "numerical_cols = dtype_df[(dtype_df['dtype'] == 'int64') | (dtype_df['dtype'] == 'float64')]\n",
    "numerical_cols.head(10)"
   ]
  },
  {
   "cell_type": "code",
   "execution_count": 240,
   "id": "816f3f56-44a2-4e7c-8ca0-d09732f6fdf9",
   "metadata": {},
   "outputs": [],
   "source": [
    "# Look for negatives that shouldn’t be negative (price, beds, bathrooms, etc.) \n",
    "def neg_check(df):\n",
    "    '''\n",
    "    this function iterates through each numerical column\n",
    "    and checks if any of the values are negative\n",
    "    the function would print out column names with a negative occurrence\n",
    "    '''\n",
    "    for i in df.index:\n",
    "        if listings[listings[i] < 0].shape[0] != 0:\n",
    "            print(i)"
   ]
  },
  {
   "cell_type": "code",
   "execution_count": 241,
   "id": "13324ea0-238e-4710-8854-74312ea7755d",
   "metadata": {},
   "outputs": [
    {
     "name": "stdout",
     "output_type": "stream",
     "text": [
      "longitude\n"
     ]
    }
   ],
   "source": [
    "# running the function on numerical columns\n",
    "neg_check(numerical_cols)"
   ]
  },
  {
   "cell_type": "markdown",
   "id": "0a687fc7-312a-4843-81ff-c5aa2455b67b",
   "metadata": {},
   "source": [
    "*Makes sense to have negative longitudes as we're focused on Boston"
   ]
  },
  {
   "cell_type": "code",
   "execution_count": 242,
   "id": "5a6ad5b0-47a5-407c-bda0-83d60aa1a900",
   "metadata": {},
   "outputs": [
    {
     "data": {
      "text/plain": [
       "(10664, 54)"
      ]
     },
     "execution_count": 242,
     "metadata": {},
     "output_type": "execute_result"
    }
   ],
   "source": [
    "listings.shape"
   ]
  },
  {
   "cell_type": "markdown",
   "id": "730f7b02-64a3-466d-b1be-58e1771c0a41",
   "metadata": {},
   "source": [
    "---- \n",
    "## *Save the clean listings csv*"
   ]
  },
  {
   "cell_type": "code",
   "execution_count": 243,
   "id": "51a8a711-69fc-428f-bdf4-9dcc3b3563c7",
   "metadata": {},
   "outputs": [],
   "source": [
    "# Save clean listings csv\n",
    "listings.to_csv('../data/listings_cleaned.csv', index = False)"
   ]
  }
 ],
 "metadata": {
  "kernelspec": {
   "display_name": "Python [conda env:dsi] *",
   "language": "python",
   "name": "conda-env-dsi-py"
  },
  "language_info": {
   "codemirror_mode": {
    "name": "ipython",
    "version": 3
   },
   "file_extension": ".py",
   "mimetype": "text/x-python",
   "name": "python",
   "nbconvert_exporter": "python",
   "pygments_lexer": "ipython3",
   "version": "3.9.12"
  }
 },
 "nbformat": 4,
 "nbformat_minor": 5
}
