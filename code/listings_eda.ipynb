{
 "cells": [
  {
   "cell_type": "markdown",
   "id": "1efe26b6-0ced-4927-9c73-645b9e8b1971",
   "metadata": {},
   "source": [
    "# **EDA**"
   ]
  },
  {
   "cell_type": "markdown",
   "id": "ac8d9654-a9d9-4e8c-9f4a-42ed50d742bf",
   "metadata": {},
   "source": [
    "-----\n",
    "### Imports"
   ]
  },
  {
   "cell_type": "code",
   "execution_count": 80,
   "id": "ccb0ce26-7c20-4914-8b4e-07811b559608",
   "metadata": {},
   "outputs": [],
   "source": [
    "import pandas as pd\n",
    "import numpy as np\n",
    "import matplotlib.pyplot as plt\n",
    "import seaborn as sns\n",
    "\n",
    "from pandasql import sqldf"
   ]
  },
  {
   "cell_type": "markdown",
   "id": "9e29f093-a28c-478c-b840-2d2c104b05dd",
   "metadata": {},
   "source": [
    "------\n",
    "## Read in the Data"
   ]
  },
  {
   "cell_type": "code",
   "execution_count": 81,
   "id": "314bcd90-b589-44e8-b746-cf53b4960631",
   "metadata": {},
   "outputs": [
    {
     "data": {
      "text/html": [
       "<div>\n",
       "<style scoped>\n",
       "    .dataframe tbody tr th:only-of-type {\n",
       "        vertical-align: middle;\n",
       "    }\n",
       "\n",
       "    .dataframe tbody tr th {\n",
       "        vertical-align: top;\n",
       "    }\n",
       "\n",
       "    .dataframe thead th {\n",
       "        text-align: right;\n",
       "    }\n",
       "</style>\n",
       "<table border=\"1\" class=\"dataframe\">\n",
       "  <thead>\n",
       "    <tr style=\"text-align: right;\">\n",
       "      <th></th>\n",
       "      <th>listing_id</th>\n",
       "      <th>review_id</th>\n",
       "      <th>date</th>\n",
       "      <th>reviewer_id</th>\n",
       "      <th>reviewer_name</th>\n",
       "      <th>comments</th>\n",
       "    </tr>\n",
       "  </thead>\n",
       "  <tbody>\n",
       "    <tr>\n",
       "      <th>0</th>\n",
       "      <td>3781</td>\n",
       "      <td>37776825.0</td>\n",
       "      <td>2015-07-10</td>\n",
       "      <td>36059247.0</td>\n",
       "      <td>Greg</td>\n",
       "      <td>The apartment was as advertised and Frank was ...</td>\n",
       "    </tr>\n",
       "    <tr>\n",
       "      <th>1</th>\n",
       "      <td>3781</td>\n",
       "      <td>41842494.0</td>\n",
       "      <td>2015-08-09</td>\n",
       "      <td>10459388.0</td>\n",
       "      <td>Tai</td>\n",
       "      <td>It was a pleasure to stay at Frank's place. Th...</td>\n",
       "    </tr>\n",
       "    <tr>\n",
       "      <th>2</th>\n",
       "      <td>3781</td>\n",
       "      <td>45282151.0</td>\n",
       "      <td>2015-09-01</td>\n",
       "      <td>12264652.0</td>\n",
       "      <td>Damien</td>\n",
       "      <td>The apartment description is entirely faithful...</td>\n",
       "    </tr>\n",
       "    <tr>\n",
       "      <th>3</th>\n",
       "      <td>3781</td>\n",
       "      <td>49022647.0</td>\n",
       "      <td>2015-09-30</td>\n",
       "      <td>41426327.0</td>\n",
       "      <td>Mike</td>\n",
       "      <td>Thoroughly enjoyed my time at Frank's home. Ha...</td>\n",
       "    </tr>\n",
       "    <tr>\n",
       "      <th>4</th>\n",
       "      <td>3781</td>\n",
       "      <td>52503327.0</td>\n",
       "      <td>2015-10-30</td>\n",
       "      <td>15151513.0</td>\n",
       "      <td>Ivan</td>\n",
       "      <td>Great value for the money! This location has e...</td>\n",
       "    </tr>\n",
       "  </tbody>\n",
       "</table>\n",
       "</div>"
      ],
      "text/plain": [
       "  listing_id   review_id        date  reviewer_id reviewer_name  \\\n",
       "0       3781  37776825.0  2015-07-10   36059247.0          Greg   \n",
       "1       3781  41842494.0  2015-08-09   10459388.0           Tai   \n",
       "2       3781  45282151.0  2015-09-01   12264652.0        Damien   \n",
       "3       3781  49022647.0  2015-09-30   41426327.0          Mike   \n",
       "4       3781  52503327.0  2015-10-30   15151513.0          Ivan   \n",
       "\n",
       "                                            comments  \n",
       "0  The apartment was as advertised and Frank was ...  \n",
       "1  It was a pleasure to stay at Frank's place. Th...  \n",
       "2  The apartment description is entirely faithful...  \n",
       "3  Thoroughly enjoyed my time at Frank's home. Ha...  \n",
       "4  Great value for the money! This location has e...  "
      ]
     },
     "execution_count": 81,
     "metadata": {},
     "output_type": "execute_result"
    }
   ],
   "source": [
    "reviews = pd.read_csv('../data/reviews_cleaned.csv', low_memory=False)\n",
    "reviews.head()"
   ]
  },
  {
   "cell_type": "code",
   "execution_count": 82,
   "id": "1979a194-4004-4aa3-9639-280eb14e40bc",
   "metadata": {},
   "outputs": [
    {
     "data": {
      "text/plain": [
       "listing_id        object\n",
       "review_id        float64\n",
       "date              object\n",
       "reviewer_id      float64\n",
       "reviewer_name     object\n",
       "comments          object\n",
       "dtype: object"
      ]
     },
     "execution_count": 82,
     "metadata": {},
     "output_type": "execute_result"
    }
   ],
   "source": [
    "reviews.dtypes"
   ]
  },
  {
   "cell_type": "code",
   "execution_count": 83,
   "id": "27b39da5-aabb-4bef-85cb-d6a402d6dea1",
   "metadata": {},
   "outputs": [
    {
     "data": {
      "text/plain": [
       "0        2015-07-10\n",
       "1        2015-08-09\n",
       "2        2015-09-01\n",
       "3        2015-09-30\n",
       "4        2015-10-30\n",
       "            ...    \n",
       "230276   2022-05-12\n",
       "230277   2022-05-22\n",
       "230278   2022-05-29\n",
       "230279   2022-06-08\n",
       "230280   2022-06-10\n",
       "Name: date, Length: 230281, dtype: datetime64[ns]"
      ]
     },
     "execution_count": 83,
     "metadata": {},
     "output_type": "execute_result"
    }
   ],
   "source": [
    "# ensuring date column is correct data type (wasn't retained when csv read in)\n",
    "pd.to_datetime(reviews['date'], errors = 'coerce')"
   ]
  },
  {
   "cell_type": "code",
   "execution_count": 84,
   "id": "8b9f0b2b-0d54-457e-a67d-16e6bceba4d7",
   "metadata": {},
   "outputs": [
    {
     "data": {
      "text/plain": [
       "listing_id        object\n",
       "review_id        float64\n",
       "date              object\n",
       "reviewer_id      float64\n",
       "reviewer_name     object\n",
       "comments          object\n",
       "dtype: object"
      ]
     },
     "execution_count": 84,
     "metadata": {},
     "output_type": "execute_result"
    }
   ],
   "source": [
    "reviews.dtypes"
   ]
  },
  {
   "cell_type": "code",
   "execution_count": 85,
   "id": "2f270e7d-4a61-449d-8320-7619cfb9e57f",
   "metadata": {},
   "outputs": [
    {
     "data": {
      "text/html": [
       "<div>\n",
       "<style scoped>\n",
       "    .dataframe tbody tr th:only-of-type {\n",
       "        vertical-align: middle;\n",
       "    }\n",
       "\n",
       "    .dataframe tbody tr th {\n",
       "        vertical-align: top;\n",
       "    }\n",
       "\n",
       "    .dataframe thead th {\n",
       "        text-align: right;\n",
       "    }\n",
       "</style>\n",
       "<table border=\"1\" class=\"dataframe\">\n",
       "  <thead>\n",
       "    <tr style=\"text-align: right;\">\n",
       "      <th></th>\n",
       "      <th>id</th>\n",
       "      <th>last_scraped</th>\n",
       "      <th>name</th>\n",
       "      <th>description</th>\n",
       "      <th>host_id</th>\n",
       "      <th>host_name</th>\n",
       "      <th>host_since</th>\n",
       "      <th>host_response_time</th>\n",
       "      <th>host_response_rate</th>\n",
       "      <th>host_is_superhost</th>\n",
       "      <th>...</th>\n",
       "      <th>instant_bookable</th>\n",
       "      <th>calculated_host_listings_count</th>\n",
       "      <th>calculated_host_listings_count_entire_homes</th>\n",
       "      <th>calculated_host_listings_count_private_rooms</th>\n",
       "      <th>calculated_host_listings_count_shared_rooms</th>\n",
       "      <th>reviews_per_month</th>\n",
       "      <th>bathrooms</th>\n",
       "      <th>bathrooms_shared</th>\n",
       "      <th>amenities_count</th>\n",
       "      <th>host_verifications_count</th>\n",
       "    </tr>\n",
       "  </thead>\n",
       "  <tbody>\n",
       "    <tr>\n",
       "      <th>0</th>\n",
       "      <td>3781</td>\n",
       "      <td>2021-09-19</td>\n",
       "      <td>HARBORSIDE-Walk to subway</td>\n",
       "      <td>Fully separate apartment in a two apartment bu...</td>\n",
       "      <td>4804</td>\n",
       "      <td>Frank</td>\n",
       "      <td>2008-12-03</td>\n",
       "      <td>3</td>\n",
       "      <td>100.0</td>\n",
       "      <td>0</td>\n",
       "      <td>...</td>\n",
       "      <td>0</td>\n",
       "      <td>1</td>\n",
       "      <td>1</td>\n",
       "      <td>0</td>\n",
       "      <td>0</td>\n",
       "      <td>0.29</td>\n",
       "      <td>1.0</td>\n",
       "      <td>0</td>\n",
       "      <td>31</td>\n",
       "      <td>3</td>\n",
       "    </tr>\n",
       "    <tr>\n",
       "      <th>1</th>\n",
       "      <td>5506</td>\n",
       "      <td>2021-09-19</td>\n",
       "      <td>** Private! Minutes to center!**</td>\n",
       "      <td>Private guest room with private bath, You do n...</td>\n",
       "      <td>8229</td>\n",
       "      <td>Terry</td>\n",
       "      <td>2009-02-19</td>\n",
       "      <td>3</td>\n",
       "      <td>100.0</td>\n",
       "      <td>1</td>\n",
       "      <td>...</td>\n",
       "      <td>0</td>\n",
       "      <td>10</td>\n",
       "      <td>10</td>\n",
       "      <td>0</td>\n",
       "      <td>0</td>\n",
       "      <td>0.90</td>\n",
       "      <td>1.0</td>\n",
       "      <td>0</td>\n",
       "      <td>30</td>\n",
       "      <td>4</td>\n",
       "    </tr>\n",
       "  </tbody>\n",
       "</table>\n",
       "<p>2 rows × 50 columns</p>\n",
       "</div>"
      ],
      "text/plain": [
       "     id last_scraped                              name  \\\n",
       "0  3781   2021-09-19         HARBORSIDE-Walk to subway   \n",
       "1  5506   2021-09-19  ** Private! Minutes to center!**   \n",
       "\n",
       "                                         description  host_id host_name  \\\n",
       "0  Fully separate apartment in a two apartment bu...     4804     Frank   \n",
       "1  Private guest room with private bath, You do n...     8229     Terry   \n",
       "\n",
       "   host_since  host_response_time  host_response_rate  host_is_superhost  ...  \\\n",
       "0  2008-12-03                   3               100.0                  0  ...   \n",
       "1  2009-02-19                   3               100.0                  1  ...   \n",
       "\n",
       "   instant_bookable calculated_host_listings_count  \\\n",
       "0                 0                              1   \n",
       "1                 0                             10   \n",
       "\n",
       "   calculated_host_listings_count_entire_homes  \\\n",
       "0                                            1   \n",
       "1                                           10   \n",
       "\n",
       "   calculated_host_listings_count_private_rooms  \\\n",
       "0                                             0   \n",
       "1                                             0   \n",
       "\n",
       "  calculated_host_listings_count_shared_rooms  reviews_per_month  bathrooms  \\\n",
       "0                                           0               0.29        1.0   \n",
       "1                                           0               0.90        1.0   \n",
       "\n",
       "  bathrooms_shared amenities_count  host_verifications_count  \n",
       "0                0              31                         3  \n",
       "1                0              30                         4  \n",
       "\n",
       "[2 rows x 50 columns]"
      ]
     },
     "execution_count": 85,
     "metadata": {},
     "output_type": "execute_result"
    }
   ],
   "source": [
    "listings = pd.read_csv('../data/listings_cleaned.csv')\n",
    "listings.head(2)"
   ]
  },
  {
   "cell_type": "code",
   "execution_count": 86,
   "id": "3e131c72-e8f6-444a-95cc-b3290bab2a19",
   "metadata": {},
   "outputs": [
    {
     "data": {
      "text/plain": [
       "id                                                int64\n",
       "last_scraped                                     object\n",
       "name                                             object\n",
       "description                                      object\n",
       "host_id                                           int64\n",
       "host_name                                        object\n",
       "host_since                                       object\n",
       "host_response_time                                int64\n",
       "host_response_rate                              float64\n",
       "host_is_superhost                                 int64\n",
       "abnb_host_listings_count                        float64\n",
       "host_verifications                               object\n",
       "host_has_profile_pic                              int64\n",
       "host_identity_verified                            int64\n",
       "neighborhood                                     object\n",
       "latitude                                        float64\n",
       "longitude                                       float64\n",
       "property_type                                    object\n",
       "room_type                                        object\n",
       "accommodates                                      int64\n",
       "beds                                            float64\n",
       "amenities                                        object\n",
       "price                                           float64\n",
       "minimum_nights                                    int64\n",
       "maximum_nights                                    int64\n",
       "minimum_nights_avg_ntm                          float64\n",
       "maximum_nights_avg_ntm                          float64\n",
       "available_today                                   int64\n",
       "availability_30                                   int64\n",
       "availability_60                                   int64\n",
       "availability_90                                   int64\n",
       "availability_365                                  int64\n",
       "calendar_last_scraped                            object\n",
       "number_of_reviews                                 int64\n",
       "number_of_reviews_ltm                             int64\n",
       "number_of_reviews_l30d                            int64\n",
       "first_review                                     object\n",
       "last_review                                      object\n",
       "rating                                          float64\n",
       "license                                           int64\n",
       "instant_bookable                                  int64\n",
       "calculated_host_listings_count                    int64\n",
       "calculated_host_listings_count_entire_homes       int64\n",
       "calculated_host_listings_count_private_rooms      int64\n",
       "calculated_host_listings_count_shared_rooms       int64\n",
       "reviews_per_month                               float64\n",
       "bathrooms                                       float64\n",
       "bathrooms_shared                                  int64\n",
       "amenities_count                                   int64\n",
       "host_verifications_count                          int64\n",
       "dtype: object"
      ]
     },
     "execution_count": 86,
     "metadata": {},
     "output_type": "execute_result"
    }
   ],
   "source": [
    "listings.dtypes"
   ]
  },
  {
   "cell_type": "code",
   "execution_count": 87,
   "id": "083f5fb5-6d5d-40e2-8c61-dfbd399f7b7d",
   "metadata": {},
   "outputs": [],
   "source": [
    "# converting date columns to date time\n",
    "# and breaking out by year and month\n",
    "# for analysis\n",
    "listings['last_scraped'] = pd.to_datetime(listings['last_scraped'],\n",
    "                                          format = '%Y-%m-%d',\n",
    "                                          errors = 'coerce')"
   ]
  },
  {
   "cell_type": "code",
   "execution_count": 88,
   "id": "61fa46e6-c2cd-4e0e-91b5-ffe5a9d31bd9",
   "metadata": {},
   "outputs": [
    {
     "data": {
      "text/html": [
       "<div>\n",
       "<style scoped>\n",
       "    .dataframe tbody tr th:only-of-type {\n",
       "        vertical-align: middle;\n",
       "    }\n",
       "\n",
       "    .dataframe tbody tr th {\n",
       "        vertical-align: top;\n",
       "    }\n",
       "\n",
       "    .dataframe thead th {\n",
       "        text-align: right;\n",
       "    }\n",
       "</style>\n",
       "<table border=\"1\" class=\"dataframe\">\n",
       "  <thead>\n",
       "    <tr style=\"text-align: right;\">\n",
       "      <th></th>\n",
       "      <th>last_scraped_year</th>\n",
       "      <th>last_scraped_month</th>\n",
       "    </tr>\n",
       "  </thead>\n",
       "  <tbody>\n",
       "    <tr>\n",
       "      <th>0</th>\n",
       "      <td>2021</td>\n",
       "      <td>9</td>\n",
       "    </tr>\n",
       "    <tr>\n",
       "      <th>1</th>\n",
       "      <td>2021</td>\n",
       "      <td>9</td>\n",
       "    </tr>\n",
       "    <tr>\n",
       "      <th>2</th>\n",
       "      <td>2021</td>\n",
       "      <td>9</td>\n",
       "    </tr>\n",
       "  </tbody>\n",
       "</table>\n",
       "</div>"
      ],
      "text/plain": [
       "   last_scraped_year  last_scraped_month\n",
       "0               2021                   9\n",
       "1               2021                   9\n",
       "2               2021                   9"
      ]
     },
     "execution_count": 88,
     "metadata": {},
     "output_type": "execute_result"
    }
   ],
   "source": [
    "listings['last_scraped_year'] = listings['last_scraped'].dt.year \n",
    "listings['last_scraped_month'] = listings['last_scraped'].dt.month\n",
    "listings[['last_scraped_year','last_scraped_month']].head(3)"
   ]
  },
  {
   "cell_type": "code",
   "execution_count": 89,
   "id": "0a328427-5530-4677-9676-b7bf8bdf85c7",
   "metadata": {},
   "outputs": [],
   "source": [
    "listings['host_since'] = pd.to_datetime(listings['host_since'],\n",
    "                                          format = '%Y-%m-%d',\n",
    "                                          errors = 'coerce')\n",
    "listings['host_since_year'] = listings['host_since'].dt.year \n",
    "listings['host_since_month'] = listings['host_since'].dt.month"
   ]
  },
  {
   "cell_type": "code",
   "execution_count": 90,
   "id": "8fa5e461-3ddd-4a1b-a29c-c4a180bec88f",
   "metadata": {},
   "outputs": [],
   "source": [
    "listings['calendar_last_scraped'] = pd.to_datetime(listings['calendar_last_scraped'],\n",
    "                                          format = '%Y-%m-%d',\n",
    "                                          errors = 'coerce')\n",
    "listings['calendar_last_scraped_year'] = listings['calendar_last_scraped'].dt.year \n",
    "listings['calendar_last_scraped_month'] = listings['calendar_last_scraped'].dt.month"
   ]
  },
  {
   "cell_type": "code",
   "execution_count": 91,
   "id": "14535e10-0e9b-4a8d-a63d-ec6d567573f2",
   "metadata": {},
   "outputs": [],
   "source": [
    "listings['first_review'] = pd.to_datetime(listings['first_review'],\n",
    "                                          format = '%Y-%m-%d',\n",
    "                                          errors = 'coerce')\n",
    "listings['first_review_year'] = listings['first_review'].dt.year \n",
    "listings['first_review_month'] = listings['first_review'].dt.month"
   ]
  },
  {
   "cell_type": "code",
   "execution_count": 92,
   "id": "ad215c1a-b45c-4018-9160-b379b90892ee",
   "metadata": {},
   "outputs": [],
   "source": [
    "listings['last_review'] = pd.to_datetime(listings['last_review'],\n",
    "                                          format = '%Y-%m-%d',\n",
    "                                          errors = 'coerce')\n",
    "listings['last_review_year'] = listings['last_review'].dt.year \n",
    "listings['last_review_month'] = listings['last_review'].dt.month"
   ]
  },
  {
   "cell_type": "code",
   "execution_count": 93,
   "id": "d26ce51d-3bdc-4c53-b54c-10ae72c5bd26",
   "metadata": {},
   "outputs": [
    {
     "data": {
      "text/plain": [
       "id                                                       int64\n",
       "last_scraped                                    datetime64[ns]\n",
       "name                                                    object\n",
       "description                                             object\n",
       "host_id                                                  int64\n",
       "host_name                                               object\n",
       "host_since                                      datetime64[ns]\n",
       "host_response_time                                       int64\n",
       "host_response_rate                                     float64\n",
       "host_is_superhost                                        int64\n",
       "abnb_host_listings_count                               float64\n",
       "host_verifications                                      object\n",
       "host_has_profile_pic                                     int64\n",
       "host_identity_verified                                   int64\n",
       "neighborhood                                            object\n",
       "latitude                                               float64\n",
       "longitude                                              float64\n",
       "property_type                                           object\n",
       "room_type                                               object\n",
       "accommodates                                             int64\n",
       "beds                                                   float64\n",
       "amenities                                               object\n",
       "price                                                  float64\n",
       "minimum_nights                                           int64\n",
       "maximum_nights                                           int64\n",
       "minimum_nights_avg_ntm                                 float64\n",
       "maximum_nights_avg_ntm                                 float64\n",
       "available_today                                          int64\n",
       "availability_30                                          int64\n",
       "availability_60                                          int64\n",
       "availability_90                                          int64\n",
       "availability_365                                         int64\n",
       "calendar_last_scraped                           datetime64[ns]\n",
       "number_of_reviews                                        int64\n",
       "number_of_reviews_ltm                                    int64\n",
       "number_of_reviews_l30d                                   int64\n",
       "first_review                                    datetime64[ns]\n",
       "last_review                                     datetime64[ns]\n",
       "rating                                                 float64\n",
       "license                                                  int64\n",
       "instant_bookable                                         int64\n",
       "calculated_host_listings_count                           int64\n",
       "calculated_host_listings_count_entire_homes              int64\n",
       "calculated_host_listings_count_private_rooms             int64\n",
       "calculated_host_listings_count_shared_rooms              int64\n",
       "reviews_per_month                                      float64\n",
       "bathrooms                                              float64\n",
       "bathrooms_shared                                         int64\n",
       "amenities_count                                          int64\n",
       "host_verifications_count                                 int64\n",
       "last_scraped_year                                        int64\n",
       "last_scraped_month                                       int64\n",
       "host_since_year                                          int64\n",
       "host_since_month                                         int64\n",
       "calendar_last_scraped_year                               int64\n",
       "calendar_last_scraped_month                              int64\n",
       "first_review_year                                        int64\n",
       "first_review_month                                       int64\n",
       "last_review_year                                         int64\n",
       "last_review_month                                        int64\n",
       "dtype: object"
      ]
     },
     "execution_count": 93,
     "metadata": {},
     "output_type": "execute_result"
    }
   ],
   "source": [
    "listings.dtypes"
   ]
  },
  {
   "cell_type": "markdown",
   "id": "71051681-52ff-490c-addf-ce9d214111af",
   "metadata": {},
   "source": [
    "-------\n",
    "### **Exploring Listings Data Frame**"
   ]
  },
  {
   "cell_type": "code",
   "execution_count": 94,
   "id": "c5cab881-86ee-4e58-9d37-df178052b1ff",
   "metadata": {},
   "outputs": [
    {
     "data": {
      "text/html": [
       "<div>\n",
       "<style scoped>\n",
       "    .dataframe tbody tr th:only-of-type {\n",
       "        vertical-align: middle;\n",
       "    }\n",
       "\n",
       "    .dataframe tbody tr th {\n",
       "        vertical-align: top;\n",
       "    }\n",
       "\n",
       "    .dataframe thead th {\n",
       "        text-align: right;\n",
       "    }\n",
       "</style>\n",
       "<table border=\"1\" class=\"dataframe\">\n",
       "  <thead>\n",
       "    <tr style=\"text-align: right;\">\n",
       "      <th></th>\n",
       "      <th>id</th>\n",
       "      <th>last_scraped</th>\n",
       "      <th>name</th>\n",
       "      <th>description</th>\n",
       "      <th>host_id</th>\n",
       "      <th>host_name</th>\n",
       "      <th>host_since</th>\n",
       "      <th>host_response_time</th>\n",
       "      <th>host_response_rate</th>\n",
       "      <th>host_is_superhost</th>\n",
       "      <th>...</th>\n",
       "      <th>last_scraped_year</th>\n",
       "      <th>last_scraped_month</th>\n",
       "      <th>host_since_year</th>\n",
       "      <th>host_since_month</th>\n",
       "      <th>calendar_last_scraped_year</th>\n",
       "      <th>calendar_last_scraped_month</th>\n",
       "      <th>first_review_year</th>\n",
       "      <th>first_review_month</th>\n",
       "      <th>last_review_year</th>\n",
       "      <th>last_review_month</th>\n",
       "    </tr>\n",
       "  </thead>\n",
       "  <tbody>\n",
       "    <tr>\n",
       "      <th>0</th>\n",
       "      <td>3781</td>\n",
       "      <td>2021-09-19 00:00:00.000000</td>\n",
       "      <td>HARBORSIDE-Walk to subway</td>\n",
       "      <td>Fully separate apartment in a two apartment bu...</td>\n",
       "      <td>4804</td>\n",
       "      <td>Frank</td>\n",
       "      <td>2008-12-03 00:00:00.000000</td>\n",
       "      <td>3</td>\n",
       "      <td>100.0</td>\n",
       "      <td>0</td>\n",
       "      <td>...</td>\n",
       "      <td>2021</td>\n",
       "      <td>9</td>\n",
       "      <td>2008</td>\n",
       "      <td>12</td>\n",
       "      <td>2021</td>\n",
       "      <td>9</td>\n",
       "      <td>2015</td>\n",
       "      <td>10</td>\n",
       "      <td>2021</td>\n",
       "      <td>7</td>\n",
       "    </tr>\n",
       "    <tr>\n",
       "      <th>1</th>\n",
       "      <td>5506</td>\n",
       "      <td>2021-09-19 00:00:00.000000</td>\n",
       "      <td>** Private! Minutes to center!**</td>\n",
       "      <td>Private guest room with private bath, You do n...</td>\n",
       "      <td>8229</td>\n",
       "      <td>Terry</td>\n",
       "      <td>2009-02-19 00:00:00.000000</td>\n",
       "      <td>3</td>\n",
       "      <td>100.0</td>\n",
       "      <td>1</td>\n",
       "      <td>...</td>\n",
       "      <td>2021</td>\n",
       "      <td>9</td>\n",
       "      <td>2009</td>\n",
       "      <td>2</td>\n",
       "      <td>2021</td>\n",
       "      <td>9</td>\n",
       "      <td>2011</td>\n",
       "      <td>10</td>\n",
       "      <td>2021</td>\n",
       "      <td>7</td>\n",
       "    </tr>\n",
       "    <tr>\n",
       "      <th>2</th>\n",
       "      <td>6695</td>\n",
       "      <td>2021-09-19 00:00:00.000000</td>\n",
       "      <td>Home Away from Home! Condo</td>\n",
       "      <td>Comfortable,  Fully Equipped private apartment...</td>\n",
       "      <td>8229</td>\n",
       "      <td>Terry</td>\n",
       "      <td>2009-02-19 00:00:00.000000</td>\n",
       "      <td>3</td>\n",
       "      <td>100.0</td>\n",
       "      <td>1</td>\n",
       "      <td>...</td>\n",
       "      <td>2021</td>\n",
       "      <td>9</td>\n",
       "      <td>2009</td>\n",
       "      <td>2</td>\n",
       "      <td>2021</td>\n",
       "      <td>9</td>\n",
       "      <td>2014</td>\n",
       "      <td>8</td>\n",
       "      <td>2019</td>\n",
       "      <td>11</td>\n",
       "    </tr>\n",
       "    <tr>\n",
       "      <th>3</th>\n",
       "      <td>8789</td>\n",
       "      <td>2021-09-19 00:00:00.000000</td>\n",
       "      <td>Curved Glass Studio/1bd facing Park</td>\n",
       "      <td>This unit is for sale. There will need to be o...</td>\n",
       "      <td>26988</td>\n",
       "      <td>Anne</td>\n",
       "      <td>2009-07-22 00:00:00.000000</td>\n",
       "      <td>3</td>\n",
       "      <td>100.0</td>\n",
       "      <td>1</td>\n",
       "      <td>...</td>\n",
       "      <td>2021</td>\n",
       "      <td>9</td>\n",
       "      <td>2009</td>\n",
       "      <td>7</td>\n",
       "      <td>2021</td>\n",
       "      <td>9</td>\n",
       "      <td>2014</td>\n",
       "      <td>12</td>\n",
       "      <td>2019</td>\n",
       "      <td>9</td>\n",
       "    </tr>\n",
       "    <tr>\n",
       "      <th>4</th>\n",
       "      <td>10730</td>\n",
       "      <td>2021-09-19 00:00:00.000000</td>\n",
       "      <td>Bright 1bed facing Golden Dome</td>\n",
       "      <td>Bright, spacious unit, new galley kitchen, new...</td>\n",
       "      <td>26988</td>\n",
       "      <td>Anne</td>\n",
       "      <td>2009-07-22 00:00:00.000000</td>\n",
       "      <td>3</td>\n",
       "      <td>100.0</td>\n",
       "      <td>1</td>\n",
       "      <td>...</td>\n",
       "      <td>2021</td>\n",
       "      <td>9</td>\n",
       "      <td>2009</td>\n",
       "      <td>7</td>\n",
       "      <td>2021</td>\n",
       "      <td>9</td>\n",
       "      <td>2015</td>\n",
       "      <td>3</td>\n",
       "      <td>2020</td>\n",
       "      <td>4</td>\n",
       "    </tr>\n",
       "  </tbody>\n",
       "</table>\n",
       "<p>5 rows × 60 columns</p>\n",
       "</div>"
      ],
      "text/plain": [
       "      id                last_scraped                                 name  \\\n",
       "0   3781  2021-09-19 00:00:00.000000            HARBORSIDE-Walk to subway   \n",
       "1   5506  2021-09-19 00:00:00.000000     ** Private! Minutes to center!**   \n",
       "2   6695  2021-09-19 00:00:00.000000           Home Away from Home! Condo   \n",
       "3   8789  2021-09-19 00:00:00.000000  Curved Glass Studio/1bd facing Park   \n",
       "4  10730  2021-09-19 00:00:00.000000       Bright 1bed facing Golden Dome   \n",
       "\n",
       "                                         description  host_id host_name  \\\n",
       "0  Fully separate apartment in a two apartment bu...     4804     Frank   \n",
       "1  Private guest room with private bath, You do n...     8229     Terry   \n",
       "2  Comfortable,  Fully Equipped private apartment...     8229     Terry   \n",
       "3  This unit is for sale. There will need to be o...    26988      Anne   \n",
       "4  Bright, spacious unit, new galley kitchen, new...    26988      Anne   \n",
       "\n",
       "                   host_since  host_response_time  host_response_rate  \\\n",
       "0  2008-12-03 00:00:00.000000                   3               100.0   \n",
       "1  2009-02-19 00:00:00.000000                   3               100.0   \n",
       "2  2009-02-19 00:00:00.000000                   3               100.0   \n",
       "3  2009-07-22 00:00:00.000000                   3               100.0   \n",
       "4  2009-07-22 00:00:00.000000                   3               100.0   \n",
       "\n",
       "   host_is_superhost  ...  last_scraped_year last_scraped_month  \\\n",
       "0                  0  ...               2021                  9   \n",
       "1                  1  ...               2021                  9   \n",
       "2                  1  ...               2021                  9   \n",
       "3                  1  ...               2021                  9   \n",
       "4                  1  ...               2021                  9   \n",
       "\n",
       "   host_since_year  host_since_month calendar_last_scraped_year  \\\n",
       "0             2008                12                       2021   \n",
       "1             2009                 2                       2021   \n",
       "2             2009                 2                       2021   \n",
       "3             2009                 7                       2021   \n",
       "4             2009                 7                       2021   \n",
       "\n",
       "   calendar_last_scraped_month  first_review_year first_review_month  \\\n",
       "0                            9               2015                 10   \n",
       "1                            9               2011                 10   \n",
       "2                            9               2014                  8   \n",
       "3                            9               2014                 12   \n",
       "4                            9               2015                  3   \n",
       "\n",
       "  last_review_year  last_review_month  \n",
       "0             2021                  7  \n",
       "1             2021                  7  \n",
       "2             2019                 11  \n",
       "3             2019                  9  \n",
       "4             2020                  4  \n",
       "\n",
       "[5 rows x 60 columns]"
      ]
     },
     "execution_count": 94,
     "metadata": {},
     "output_type": "execute_result"
    }
   ],
   "source": [
    "sql = \"\"\"\n",
    "SELECT *\n",
    "FROM listings\n",
    "LIMIT 5;\n",
    "\"\"\"\n",
    "\n",
    "df = sqldf(sql)\n",
    "df.head()"
   ]
  },
  {
   "cell_type": "markdown",
   "id": "b66818d8-12fa-4d49-88e6-3bef72bceb8c",
   "metadata": {},
   "source": [
    "-----\n",
    "### Overall "
   ]
  },
  {
   "cell_type": "code",
   "execution_count": 146,
   "id": "4856e670-0b86-4d02-aad1-9b9cdd46b7be",
   "metadata": {},
   "outputs": [
    {
     "data": {
      "text/html": [
       "<div>\n",
       "<style scoped>\n",
       "    .dataframe tbody tr th:only-of-type {\n",
       "        vertical-align: middle;\n",
       "    }\n",
       "\n",
       "    .dataframe tbody tr th {\n",
       "        vertical-align: top;\n",
       "    }\n",
       "\n",
       "    .dataframe thead th {\n",
       "        text-align: right;\n",
       "    }\n",
       "</style>\n",
       "<table border=\"1\" class=\"dataframe\">\n",
       "  <thead>\n",
       "    <tr style=\"text-align: right;\">\n",
       "      <th></th>\n",
       "      <th>distinct_listings</th>\n",
       "      <th>all_listings</th>\n",
       "    </tr>\n",
       "  </thead>\n",
       "  <tbody>\n",
       "    <tr>\n",
       "      <th>0</th>\n",
       "      <td>4225</td>\n",
       "      <td>10664</td>\n",
       "    </tr>\n",
       "  </tbody>\n",
       "</table>\n",
       "</div>"
      ],
      "text/plain": [
       "   distinct_listings  all_listings\n",
       "0               4225         10664"
      ]
     },
     "execution_count": 146,
     "metadata": {},
     "output_type": "execute_result"
    }
   ],
   "source": [
    "sql = \"\"\"\n",
    "SELECT COUNT(DISTINCT id) AS distinct_listings, COUNT(id) AS all_listings\n",
    "FROM listings;\n",
    "\"\"\"\n",
    "\n",
    "df = sqldf(sql)\n",
    "df.head()"
   ]
  },
  {
   "cell_type": "code",
   "execution_count": 149,
   "id": "7d647177-1a21-46f3-8cd7-8656386d443b",
   "metadata": {},
   "outputs": [
    {
     "data": {
      "text/html": [
       "<div>\n",
       "<style scoped>\n",
       "    .dataframe tbody tr th:only-of-type {\n",
       "        vertical-align: middle;\n",
       "    }\n",
       "\n",
       "    .dataframe tbody tr th {\n",
       "        vertical-align: top;\n",
       "    }\n",
       "\n",
       "    .dataframe thead th {\n",
       "        text-align: right;\n",
       "    }\n",
       "</style>\n",
       "<table border=\"1\" class=\"dataframe\">\n",
       "  <thead>\n",
       "    <tr style=\"text-align: right;\">\n",
       "      <th></th>\n",
       "      <th>id</th>\n",
       "      <th>host_id</th>\n",
       "      <th>host_response_time</th>\n",
       "      <th>host_response_rate</th>\n",
       "      <th>host_is_superhost</th>\n",
       "      <th>abnb_host_listings_count</th>\n",
       "      <th>host_has_profile_pic</th>\n",
       "      <th>host_identity_verified</th>\n",
       "      <th>latitude</th>\n",
       "      <th>longitude</th>\n",
       "      <th>...</th>\n",
       "      <th>last_scraped_year</th>\n",
       "      <th>last_scraped_month</th>\n",
       "      <th>host_since_year</th>\n",
       "      <th>host_since_month</th>\n",
       "      <th>calendar_last_scraped_year</th>\n",
       "      <th>calendar_last_scraped_month</th>\n",
       "      <th>first_review_year</th>\n",
       "      <th>first_review_month</th>\n",
       "      <th>last_review_year</th>\n",
       "      <th>last_review_month</th>\n",
       "    </tr>\n",
       "  </thead>\n",
       "  <tbody>\n",
       "    <tr>\n",
       "      <th>count</th>\n",
       "      <td>1.066400e+04</td>\n",
       "      <td>1.066400e+04</td>\n",
       "      <td>10664.000000</td>\n",
       "      <td>10664.000000</td>\n",
       "      <td>10664.000000</td>\n",
       "      <td>10664.000000</td>\n",
       "      <td>10664.000000</td>\n",
       "      <td>10664.000000</td>\n",
       "      <td>10664.000000</td>\n",
       "      <td>10664.000000</td>\n",
       "      <td>...</td>\n",
       "      <td>10664.000000</td>\n",
       "      <td>10664.000000</td>\n",
       "      <td>10664.000000</td>\n",
       "      <td>10664.000000</td>\n",
       "      <td>10664.000000</td>\n",
       "      <td>10664.000000</td>\n",
       "      <td>10664.000000</td>\n",
       "      <td>10664.000000</td>\n",
       "      <td>10664.000000</td>\n",
       "      <td>10664.000000</td>\n",
       "    </tr>\n",
       "    <tr>\n",
       "      <th>mean</th>\n",
       "      <td>1.572555e+16</td>\n",
       "      <td>1.095121e+08</td>\n",
       "      <td>2.673668</td>\n",
       "      <td>96.265566</td>\n",
       "      <td>0.337678</td>\n",
       "      <td>49.717086</td>\n",
       "      <td>0.998312</td>\n",
       "      <td>0.828395</td>\n",
       "      <td>42.339632</td>\n",
       "      <td>-71.084715</td>\n",
       "      <td>...</td>\n",
       "      <td>2021.575863</td>\n",
       "      <td>7.214741</td>\n",
       "      <td>2015.569674</td>\n",
       "      <td>6.866185</td>\n",
       "      <td>2021.575863</td>\n",
       "      <td>7.214741</td>\n",
       "      <td>2018.437172</td>\n",
       "      <td>6.659227</td>\n",
       "      <td>2020.673106</td>\n",
       "      <td>6.924981</td>\n",
       "    </tr>\n",
       "    <tr>\n",
       "      <th>std</th>\n",
       "      <td>9.482963e+16</td>\n",
       "      <td>1.230167e+08</td>\n",
       "      <td>0.688756</td>\n",
       "      <td>12.588354</td>\n",
       "      <td>0.472940</td>\n",
       "      <td>280.307104</td>\n",
       "      <td>0.041052</td>\n",
       "      <td>0.377055</td>\n",
       "      <td>0.029881</td>\n",
       "      <td>0.034718</td>\n",
       "      <td>...</td>\n",
       "      <td>0.494235</td>\n",
       "      <td>3.190948</td>\n",
       "      <td>2.806896</td>\n",
       "      <td>3.249482</td>\n",
       "      <td>0.494235</td>\n",
       "      <td>3.190948</td>\n",
       "      <td>2.461900</td>\n",
       "      <td>3.104658</td>\n",
       "      <td>1.521808</td>\n",
       "      <td>3.250895</td>\n",
       "    </tr>\n",
       "    <tr>\n",
       "      <th>min</th>\n",
       "      <td>3.781000e+03</td>\n",
       "      <td>4.804000e+03</td>\n",
       "      <td>0.000000</td>\n",
       "      <td>0.000000</td>\n",
       "      <td>0.000000</td>\n",
       "      <td>0.000000</td>\n",
       "      <td>0.000000</td>\n",
       "      <td>0.000000</td>\n",
       "      <td>42.231170</td>\n",
       "      <td>-71.201970</td>\n",
       "      <td>...</td>\n",
       "      <td>2021.000000</td>\n",
       "      <td>3.000000</td>\n",
       "      <td>2008.000000</td>\n",
       "      <td>1.000000</td>\n",
       "      <td>2021.000000</td>\n",
       "      <td>3.000000</td>\n",
       "      <td>2009.000000</td>\n",
       "      <td>1.000000</td>\n",
       "      <td>2013.000000</td>\n",
       "      <td>1.000000</td>\n",
       "    </tr>\n",
       "    <tr>\n",
       "      <th>25%</th>\n",
       "      <td>1.494335e+07</td>\n",
       "      <td>1.594356e+07</td>\n",
       "      <td>3.000000</td>\n",
       "      <td>99.000000</td>\n",
       "      <td>0.000000</td>\n",
       "      <td>1.000000</td>\n",
       "      <td>1.000000</td>\n",
       "      <td>1.000000</td>\n",
       "      <td>42.321045</td>\n",
       "      <td>-71.107563</td>\n",
       "      <td>...</td>\n",
       "      <td>2021.000000</td>\n",
       "      <td>6.000000</td>\n",
       "      <td>2014.000000</td>\n",
       "      <td>4.000000</td>\n",
       "      <td>2021.000000</td>\n",
       "      <td>6.000000</td>\n",
       "      <td>2017.000000</td>\n",
       "      <td>4.000000</td>\n",
       "      <td>2020.000000</td>\n",
       "      <td>5.000000</td>\n",
       "    </tr>\n",
       "    <tr>\n",
       "      <th>50%</th>\n",
       "      <td>2.925670e+07</td>\n",
       "      <td>4.582441e+07</td>\n",
       "      <td>3.000000</td>\n",
       "      <td>100.000000</td>\n",
       "      <td>0.000000</td>\n",
       "      <td>4.000000</td>\n",
       "      <td>1.000000</td>\n",
       "      <td>1.000000</td>\n",
       "      <td>42.345460</td>\n",
       "      <td>-71.077500</td>\n",
       "      <td>...</td>\n",
       "      <td>2022.000000</td>\n",
       "      <td>6.000000</td>\n",
       "      <td>2015.000000</td>\n",
       "      <td>7.000000</td>\n",
       "      <td>2022.000000</td>\n",
       "      <td>6.000000</td>\n",
       "      <td>2019.000000</td>\n",
       "      <td>7.000000</td>\n",
       "      <td>2021.000000</td>\n",
       "      <td>7.000000</td>\n",
       "    </tr>\n",
       "    <tr>\n",
       "      <th>75%</th>\n",
       "      <td>4.669647e+07</td>\n",
       "      <td>1.889399e+08</td>\n",
       "      <td>3.000000</td>\n",
       "      <td>100.000000</td>\n",
       "      <td>1.000000</td>\n",
       "      <td>20.000000</td>\n",
       "      <td>1.000000</td>\n",
       "      <td>1.000000</td>\n",
       "      <td>42.359020</td>\n",
       "      <td>-71.061910</td>\n",
       "      <td>...</td>\n",
       "      <td>2022.000000</td>\n",
       "      <td>9.000000</td>\n",
       "      <td>2018.000000</td>\n",
       "      <td>10.000000</td>\n",
       "      <td>2022.000000</td>\n",
       "      <td>9.000000</td>\n",
       "      <td>2021.000000</td>\n",
       "      <td>9.000000</td>\n",
       "      <td>2022.000000</td>\n",
       "      <td>10.000000</td>\n",
       "    </tr>\n",
       "    <tr>\n",
       "      <th>max</th>\n",
       "      <td>6.451035e+17</td>\n",
       "      <td>4.623882e+08</td>\n",
       "      <td>3.000000</td>\n",
       "      <td>100.000000</td>\n",
       "      <td>1.000000</td>\n",
       "      <td>3322.000000</td>\n",
       "      <td>1.000000</td>\n",
       "      <td>1.000000</td>\n",
       "      <td>42.410821</td>\n",
       "      <td>-70.920020</td>\n",
       "      <td>...</td>\n",
       "      <td>2022.000000</td>\n",
       "      <td>12.000000</td>\n",
       "      <td>2022.000000</td>\n",
       "      <td>12.000000</td>\n",
       "      <td>2022.000000</td>\n",
       "      <td>12.000000</td>\n",
       "      <td>2022.000000</td>\n",
       "      <td>12.000000</td>\n",
       "      <td>2022.000000</td>\n",
       "      <td>12.000000</td>\n",
       "    </tr>\n",
       "  </tbody>\n",
       "</table>\n",
       "<p>8 rows × 47 columns</p>\n",
       "</div>"
      ],
      "text/plain": [
       "                 id       host_id  host_response_time  host_response_rate  \\\n",
       "count  1.066400e+04  1.066400e+04        10664.000000        10664.000000   \n",
       "mean   1.572555e+16  1.095121e+08            2.673668           96.265566   \n",
       "std    9.482963e+16  1.230167e+08            0.688756           12.588354   \n",
       "min    3.781000e+03  4.804000e+03            0.000000            0.000000   \n",
       "25%    1.494335e+07  1.594356e+07            3.000000           99.000000   \n",
       "50%    2.925670e+07  4.582441e+07            3.000000          100.000000   \n",
       "75%    4.669647e+07  1.889399e+08            3.000000          100.000000   \n",
       "max    6.451035e+17  4.623882e+08            3.000000          100.000000   \n",
       "\n",
       "       host_is_superhost  abnb_host_listings_count  host_has_profile_pic  \\\n",
       "count       10664.000000              10664.000000          10664.000000   \n",
       "mean            0.337678                 49.717086              0.998312   \n",
       "std             0.472940                280.307104              0.041052   \n",
       "min             0.000000                  0.000000              0.000000   \n",
       "25%             0.000000                  1.000000              1.000000   \n",
       "50%             0.000000                  4.000000              1.000000   \n",
       "75%             1.000000                 20.000000              1.000000   \n",
       "max             1.000000               3322.000000              1.000000   \n",
       "\n",
       "       host_identity_verified      latitude     longitude  ...  \\\n",
       "count            10664.000000  10664.000000  10664.000000  ...   \n",
       "mean                 0.828395     42.339632    -71.084715  ...   \n",
       "std                  0.377055      0.029881      0.034718  ...   \n",
       "min                  0.000000     42.231170    -71.201970  ...   \n",
       "25%                  1.000000     42.321045    -71.107563  ...   \n",
       "50%                  1.000000     42.345460    -71.077500  ...   \n",
       "75%                  1.000000     42.359020    -71.061910  ...   \n",
       "max                  1.000000     42.410821    -70.920020  ...   \n",
       "\n",
       "       last_scraped_year  last_scraped_month  host_since_year  \\\n",
       "count       10664.000000        10664.000000     10664.000000   \n",
       "mean         2021.575863            7.214741      2015.569674   \n",
       "std             0.494235            3.190948         2.806896   \n",
       "min          2021.000000            3.000000      2008.000000   \n",
       "25%          2021.000000            6.000000      2014.000000   \n",
       "50%          2022.000000            6.000000      2015.000000   \n",
       "75%          2022.000000            9.000000      2018.000000   \n",
       "max          2022.000000           12.000000      2022.000000   \n",
       "\n",
       "       host_since_month  calendar_last_scraped_year  \\\n",
       "count      10664.000000                10664.000000   \n",
       "mean           6.866185                 2021.575863   \n",
       "std            3.249482                    0.494235   \n",
       "min            1.000000                 2021.000000   \n",
       "25%            4.000000                 2021.000000   \n",
       "50%            7.000000                 2022.000000   \n",
       "75%           10.000000                 2022.000000   \n",
       "max           12.000000                 2022.000000   \n",
       "\n",
       "       calendar_last_scraped_month  first_review_year  first_review_month  \\\n",
       "count                 10664.000000       10664.000000        10664.000000   \n",
       "mean                      7.214741        2018.437172            6.659227   \n",
       "std                       3.190948           2.461900            3.104658   \n",
       "min                       3.000000        2009.000000            1.000000   \n",
       "25%                       6.000000        2017.000000            4.000000   \n",
       "50%                       6.000000        2019.000000            7.000000   \n",
       "75%                       9.000000        2021.000000            9.000000   \n",
       "max                      12.000000        2022.000000           12.000000   \n",
       "\n",
       "       last_review_year  last_review_month  \n",
       "count      10664.000000       10664.000000  \n",
       "mean        2020.673106           6.924981  \n",
       "std            1.521808           3.250895  \n",
       "min         2013.000000           1.000000  \n",
       "25%         2020.000000           5.000000  \n",
       "50%         2021.000000           7.000000  \n",
       "75%         2022.000000          10.000000  \n",
       "max         2022.000000          12.000000  \n",
       "\n",
       "[8 rows x 47 columns]"
      ]
     },
     "execution_count": 149,
     "metadata": {},
     "output_type": "execute_result"
    }
   ],
   "source": [
    "listings.describe()\n",
    "# earliest hosts from 2008 (AirBNB launched August 2008, VRBO in 1995)\n",
    "# earliest reviews from 2009"
   ]
  },
  {
   "cell_type": "code",
   "execution_count": 158,
   "id": "27649089-cde3-44be-8e75-815b6fef9b6a",
   "metadata": {},
   "outputs": [
    {
     "data": {
      "text/html": [
       "<div>\n",
       "<style scoped>\n",
       "    .dataframe tbody tr th:only-of-type {\n",
       "        vertical-align: middle;\n",
       "    }\n",
       "\n",
       "    .dataframe tbody tr th {\n",
       "        vertical-align: top;\n",
       "    }\n",
       "\n",
       "    .dataframe thead th {\n",
       "        text-align: right;\n",
       "    }\n",
       "</style>\n",
       "<table border=\"1\" class=\"dataframe\">\n",
       "  <thead>\n",
       "    <tr style=\"text-align: right;\">\n",
       "      <th></th>\n",
       "      <th>number_of_reviews</th>\n",
       "      <th>reviews_per_month</th>\n",
       "    </tr>\n",
       "  </thead>\n",
       "  <tbody>\n",
       "    <tr>\n",
       "      <th>count</th>\n",
       "      <td>10664.000000</td>\n",
       "      <td>10664.000000</td>\n",
       "    </tr>\n",
       "    <tr>\n",
       "      <th>mean</th>\n",
       "      <td>57.706114</td>\n",
       "      <td>1.916011</td>\n",
       "    </tr>\n",
       "    <tr>\n",
       "      <th>std</th>\n",
       "      <td>89.313727</td>\n",
       "      <td>4.340045</td>\n",
       "    </tr>\n",
       "    <tr>\n",
       "      <th>min</th>\n",
       "      <td>1.000000</td>\n",
       "      <td>0.010000</td>\n",
       "    </tr>\n",
       "    <tr>\n",
       "      <th>25%</th>\n",
       "      <td>5.000000</td>\n",
       "      <td>0.280000</td>\n",
       "    </tr>\n",
       "    <tr>\n",
       "      <th>50%</th>\n",
       "      <td>22.000000</td>\n",
       "      <td>1.000000</td>\n",
       "    </tr>\n",
       "    <tr>\n",
       "      <th>75%</th>\n",
       "      <td>72.000000</td>\n",
       "      <td>2.580000</td>\n",
       "    </tr>\n",
       "    <tr>\n",
       "      <th>max</th>\n",
       "      <td>1071.000000</td>\n",
       "      <td>219.000000</td>\n",
       "    </tr>\n",
       "  </tbody>\n",
       "</table>\n",
       "</div>"
      ],
      "text/plain": [
       "       number_of_reviews  reviews_per_month\n",
       "count       10664.000000       10664.000000\n",
       "mean           57.706114           1.916011\n",
       "std            89.313727           4.340045\n",
       "min             1.000000           0.010000\n",
       "25%             5.000000           0.280000\n",
       "50%            22.000000           1.000000\n",
       "75%            72.000000           2.580000\n",
       "max          1071.000000         219.000000"
      ]
     },
     "execution_count": 158,
     "metadata": {},
     "output_type": "execute_result"
    }
   ],
   "source": [
    "listings[['number_of_reviews', 'reviews_per_month']].describe()"
   ]
  },
  {
   "cell_type": "code",
   "execution_count": 162,
   "id": "66563d34-0d8a-4046-a0e1-c90320f7bd06",
   "metadata": {},
   "outputs": [
    {
     "data": {
      "image/png": "[encoded data removed]",
      "text/plain": [
       "<Figure size 432x288 with 1 Axes>"
      ]
     },
     "metadata": {
      "needs_background": "light"
     },
     "output_type": "display_data"
    }
   ],
   "source": [
    "plt.hist(x = listings['number_of_reviews'])\n",
    "plt.title('Distribution of Reviews', fontsize = 16)\n",
    "plt.xlabel('Number of Reviews', fontsize = 12)\n",
    "plt.ylabel('Number of Listings', fontsize = 12);"
   ]
  },
  {
   "cell_type": "code",
   "execution_count": 163,
   "id": "e4ede1c0-a680-4be3-9b93-1a252e419401",
   "metadata": {},
   "outputs": [
    {
     "data": {
      "text/html": [
       "<div>\n",
       "<style scoped>\n",
       "    .dataframe tbody tr th:only-of-type {\n",
       "        vertical-align: middle;\n",
       "    }\n",
       "\n",
       "    .dataframe tbody tr th {\n",
       "        vertical-align: top;\n",
       "    }\n",
       "\n",
       "    .dataframe thead th {\n",
       "        text-align: right;\n",
       "    }\n",
       "</style>\n",
       "<table border=\"1\" class=\"dataframe\">\n",
       "  <thead>\n",
       "    <tr style=\"text-align: right;\">\n",
       "      <th></th>\n",
       "      <th>avg_rating</th>\n",
       "      <th>min_rating</th>\n",
       "      <th>max_rating</th>\n",
       "    </tr>\n",
       "  </thead>\n",
       "  <tbody>\n",
       "    <tr>\n",
       "      <th>0</th>\n",
       "      <td>4.677944</td>\n",
       "      <td>0.0</td>\n",
       "      <td>5.0</td>\n",
       "    </tr>\n",
       "  </tbody>\n",
       "</table>\n",
       "</div>"
      ],
      "text/plain": [
       "   avg_rating  min_rating  max_rating\n",
       "0    4.677944         0.0         5.0"
      ]
     },
     "execution_count": 163,
     "metadata": {},
     "output_type": "execute_result"
    }
   ],
   "source": [
    "sql = \"\"\"\n",
    "SELECT AVG(rating) AS avg_rating, MIN(rating) AS min_rating, MAX(rating) AS max_rating\n",
    "FROM listings;\n",
    "\"\"\"\n",
    "\n",
    "df = sqldf(sql)\n",
    "df.head()"
   ]
  },
  {
   "cell_type": "code",
   "execution_count": 199,
   "id": "000f9844-119c-4cce-b081-65c81e433d8b",
   "metadata": {},
   "outputs": [
    {
     "data": {
      "image/png": "[encoded data removed]",
      "text/plain": [
       "<Figure size 432x288 with 1 Axes>"
      ]
     },
     "metadata": {
      "needs_background": "light"
     },
     "output_type": "display_data"
    }
   ],
   "source": [
    "plt.hist(x = listings['rating'], bins = 20)\n",
    "plt.title('Distribution of Ratings', fontsize = 16)\n",
    "plt.xlabel('Rating', fontsize = 12)\n",
    "plt.ylabel('Number of Listings', fontsize = 12);"
   ]
  },
  {
   "cell_type": "code",
   "execution_count": 105,
   "id": "b7e9af9f-92b2-498f-b704-b0a8d685fc51",
   "metadata": {},
   "outputs": [
    {
     "data": {
      "text/html": [
       "<div>\n",
       "<style scoped>\n",
       "    .dataframe tbody tr th:only-of-type {\n",
       "        vertical-align: middle;\n",
       "    }\n",
       "\n",
       "    .dataframe tbody tr th {\n",
       "        vertical-align: top;\n",
       "    }\n",
       "\n",
       "    .dataframe thead th {\n",
       "        text-align: right;\n",
       "    }\n",
       "</style>\n",
       "<table border=\"1\" class=\"dataframe\">\n",
       "  <thead>\n",
       "    <tr style=\"text-align: right;\">\n",
       "      <th></th>\n",
       "      <th>perfect_ratings</th>\n",
       "    </tr>\n",
       "  </thead>\n",
       "  <tbody>\n",
       "    <tr>\n",
       "      <th>0</th>\n",
       "      <td>2170</td>\n",
       "    </tr>\n",
       "  </tbody>\n",
       "</table>\n",
       "</div>"
      ],
      "text/plain": [
       "   perfect_ratings\n",
       "0             2170"
      ]
     },
     "execution_count": 105,
     "metadata": {},
     "output_type": "execute_result"
    }
   ],
   "source": [
    "sql = \"\"\"\n",
    "SELECT COUNT(rating) AS perfect_ratings\n",
    "FROM listings\n",
    "WHERE rating = 5;\n",
    "\"\"\"\n",
    "\n",
    "df = sqldf(sql)\n",
    "df.head()"
   ]
  },
  {
   "cell_type": "code",
   "execution_count": 114,
   "id": "bb9faa79-8159-4b7b-bbf8-a278adfb5f8e",
   "metadata": {},
   "outputs": [
    {
     "data": {
      "text/html": [
       "<div>\n",
       "<style scoped>\n",
       "    .dataframe tbody tr th:only-of-type {\n",
       "        vertical-align: middle;\n",
       "    }\n",
       "\n",
       "    .dataframe tbody tr th {\n",
       "        vertical-align: top;\n",
       "    }\n",
       "\n",
       "    .dataframe thead th {\n",
       "        text-align: right;\n",
       "    }\n",
       "</style>\n",
       "<table border=\"1\" class=\"dataframe\">\n",
       "  <thead>\n",
       "    <tr style=\"text-align: right;\">\n",
       "      <th></th>\n",
       "      <th>between_4_5</th>\n",
       "    </tr>\n",
       "  </thead>\n",
       "  <tbody>\n",
       "    <tr>\n",
       "      <th>0</th>\n",
       "      <td>10310</td>\n",
       "    </tr>\n",
       "  </tbody>\n",
       "</table>\n",
       "</div>"
      ],
      "text/plain": [
       "   between_4_5\n",
       "0        10310"
      ]
     },
     "execution_count": 114,
     "metadata": {},
     "output_type": "execute_result"
    }
   ],
   "source": [
    "sql = \"\"\"\n",
    "SELECT COUNT(rating) AS between_4_5\n",
    "FROM listings\n",
    "WHERE rating BETWEEN 4 AND 5;\n",
    "\"\"\"\n",
    "\n",
    "df = sqldf(sql)\n",
    "df.head()"
   ]
  },
  {
   "cell_type": "code",
   "execution_count": 115,
   "id": "f7fbdf2e-a561-4344-9b4f-0c7f1455248e",
   "metadata": {},
   "outputs": [
    {
     "data": {
      "text/html": [
       "<div>\n",
       "<style scoped>\n",
       "    .dataframe tbody tr th:only-of-type {\n",
       "        vertical-align: middle;\n",
       "    }\n",
       "\n",
       "    .dataframe tbody tr th {\n",
       "        vertical-align: top;\n",
       "    }\n",
       "\n",
       "    .dataframe thead th {\n",
       "        text-align: right;\n",
       "    }\n",
       "</style>\n",
       "<table border=\"1\" class=\"dataframe\">\n",
       "  <thead>\n",
       "    <tr style=\"text-align: right;\">\n",
       "      <th></th>\n",
       "      <th>under_4</th>\n",
       "    </tr>\n",
       "  </thead>\n",
       "  <tbody>\n",
       "    <tr>\n",
       "      <th>0</th>\n",
       "      <td>354</td>\n",
       "    </tr>\n",
       "  </tbody>\n",
       "</table>\n",
       "</div>"
      ],
      "text/plain": [
       "   under_4\n",
       "0      354"
      ]
     },
     "execution_count": 115,
     "metadata": {},
     "output_type": "execute_result"
    }
   ],
   "source": [
    "sql = \"\"\"\n",
    "SELECT COUNT(rating) AS under_4\n",
    "FROM listings\n",
    "WHERE rating < 4;\n",
    "\"\"\"\n",
    "\n",
    "df = sqldf(sql)\n",
    "df.head()"
   ]
  },
  {
   "cell_type": "code",
   "execution_count": 202,
   "id": "1a233cce-79e7-438e-943c-8b2280bd791d",
   "metadata": {},
   "outputs": [
    {
     "name": "stderr",
     "output_type": "stream",
     "text": [
      "/Users/petermurphy/opt/anaconda3/envs/dsi/lib/python3.9/site-packages/seaborn/_decorators.py:36: FutureWarning: Pass the following variable as a keyword arg: x. From version 0.12, the only valid positional argument will be `data`, and passing other arguments without an explicit keyword will result in an error or misinterpretation.\n",
      "  warnings.warn(\n"
     ]
    },
    {
     "data": {
      "image/png": "[encoded data removed]",
      "text/plain": [
       "<Figure size 432x288 with 1 Axes>"
      ]
     },
     "metadata": {
      "needs_background": "light"
     },
     "output_type": "display_data"
    }
   ],
   "source": [
    "sns.boxplot(listings['rating'])\n",
    "plt.title('Distribution of Ratings Across Listings')\n",
    "plt.xlabel('Rating');"
   ]
  },
  {
   "cell_type": "code",
   "execution_count": 127,
   "id": "b41b3508-8a3d-4732-ab44-7d5b40aee15d",
   "metadata": {},
   "outputs": [
    {
     "data": {
      "text/html": [
       "<div>\n",
       "<style scoped>\n",
       "    .dataframe tbody tr th:only-of-type {\n",
       "        vertical-align: middle;\n",
       "    }\n",
       "\n",
       "    .dataframe tbody tr th {\n",
       "        vertical-align: top;\n",
       "    }\n",
       "\n",
       "    .dataframe thead th {\n",
       "        text-align: right;\n",
       "    }\n",
       "</style>\n",
       "<table border=\"1\" class=\"dataframe\">\n",
       "  <thead>\n",
       "    <tr style=\"text-align: right;\">\n",
       "      <th></th>\n",
       "      <th>avg_price</th>\n",
       "      <th>min_price</th>\n",
       "      <th>max_price</th>\n",
       "    </tr>\n",
       "  </thead>\n",
       "  <tbody>\n",
       "    <tr>\n",
       "      <th>0</th>\n",
       "      <td>32.129501</td>\n",
       "      <td>0.0</td>\n",
       "      <td>999.0</td>\n",
       "    </tr>\n",
       "  </tbody>\n",
       "</table>\n",
       "</div>"
      ],
      "text/plain": [
       "   avg_price  min_price  max_price\n",
       "0  32.129501        0.0      999.0"
      ]
     },
     "execution_count": 127,
     "metadata": {},
     "output_type": "execute_result"
    }
   ],
   "source": [
    "sql = \"\"\"\n",
    "SELECT AVG([price]) AS avg_price, MIN(price) AS min_price, MAX(price) AS max_price\n",
    "FROM listings;\n",
    "\"\"\"\n",
    "\n",
    "df = sqldf(sql)\n",
    "df.head()"
   ]
  },
  {
   "cell_type": "code",
   "execution_count": 123,
   "id": "b80375fd-f2d5-485a-9588-06bf4b1daa5a",
   "metadata": {},
   "outputs": [
    {
     "name": "stderr",
     "output_type": "stream",
     "text": [
      "/Users/petermurphy/opt/anaconda3/envs/dsi/lib/python3.9/site-packages/seaborn/_decorators.py:36: FutureWarning: Pass the following variable as a keyword arg: x. From version 0.12, the only valid positional argument will be `data`, and passing other arguments without an explicit keyword will result in an error or misinterpretation.\n",
      "  warnings.warn(\n"
     ]
    },
    {
     "data": {
      "image/png": "[encoded data removed]",
      "text/plain": [
       "<Figure size 432x288 with 1 Axes>"
      ]
     },
     "metadata": {
      "needs_background": "light"
     },
     "output_type": "display_data"
    }
   ],
   "source": [
    "sns.boxplot(listings['price'])\n",
    "plt.title('Distribution of Prices Across Listings')\n",
    "plt.xlabel('Listing Price per Night');"
   ]
  },
  {
   "cell_type": "code",
   "execution_count": 137,
   "id": "7332f533-1bab-48e3-8ca2-7fdebbf4a648",
   "metadata": {},
   "outputs": [
    {
     "data": {
      "text/plain": [
       "count    10664.000000\n",
       "mean        32.129501\n",
       "std         45.801612\n",
       "min          0.000000\n",
       "25%          5.000000\n",
       "50%         20.000000\n",
       "75%         50.000000\n",
       "max        999.000000\n",
       "Name: price, dtype: float64"
      ]
     },
     "execution_count": 137,
     "metadata": {},
     "output_type": "execute_result"
    }
   ],
   "source": [
    "listings['price'].describe()"
   ]
  },
  {
   "cell_type": "code",
   "execution_count": 141,
   "id": "77dfda84-b14f-4107-9a10-fbd21d8e56ec",
   "metadata": {},
   "outputs": [
    {
     "data": {
      "text/plain": [
       "117.5"
      ]
     },
     "execution_count": 141,
     "metadata": {},
     "output_type": "execute_result"
    }
   ],
   "source": [
    "# upper bound \n",
    "50 + (1.5*45)"
   ]
  },
  {
   "cell_type": "code",
   "execution_count": 144,
   "id": "f866c30d-c66b-4711-95bb-fafe53ffd1d0",
   "metadata": {},
   "outputs": [
    {
     "data": {
      "text/html": [
       "<div>\n",
       "<style scoped>\n",
       "    .dataframe tbody tr th:only-of-type {\n",
       "        vertical-align: middle;\n",
       "    }\n",
       "\n",
       "    .dataframe tbody tr th {\n",
       "        vertical-align: top;\n",
       "    }\n",
       "\n",
       "    .dataframe thead th {\n",
       "        text-align: right;\n",
       "    }\n",
       "</style>\n",
       "<table border=\"1\" class=\"dataframe\">\n",
       "  <thead>\n",
       "    <tr style=\"text-align: right;\">\n",
       "      <th></th>\n",
       "      <th>potential_outliers</th>\n",
       "    </tr>\n",
       "  </thead>\n",
       "  <tbody>\n",
       "    <tr>\n",
       "      <th>0</th>\n",
       "      <td>32</td>\n",
       "    </tr>\n",
       "  </tbody>\n",
       "</table>\n",
       "</div>"
      ],
      "text/plain": [
       "   potential_outliers\n",
       "0                  32"
      ]
     },
     "execution_count": 144,
     "metadata": {},
     "output_type": "execute_result"
    }
   ],
   "source": [
    "sql = \"\"\"\n",
    "SELECT COUNT(DISTINCT id) AS potential_outliers\n",
    "FROM listings\n",
    "WHERE price >= 117.5;\n",
    "\"\"\"\n",
    "\n",
    "df = sqldf(sql)\n",
    "df.head()"
   ]
  },
  {
   "cell_type": "code",
   "execution_count": 143,
   "id": "faee080e-2005-4859-86e7-ab411ed939db",
   "metadata": {},
   "outputs": [
    {
     "data": {
      "text/html": [
       "<div>\n",
       "<style scoped>\n",
       "    .dataframe tbody tr th:only-of-type {\n",
       "        vertical-align: middle;\n",
       "    }\n",
       "\n",
       "    .dataframe tbody tr th {\n",
       "        vertical-align: top;\n",
       "    }\n",
       "\n",
       "    .dataframe thead th {\n",
       "        text-align: right;\n",
       "    }\n",
       "</style>\n",
       "<table border=\"1\" class=\"dataframe\">\n",
       "  <thead>\n",
       "    <tr style=\"text-align: right;\">\n",
       "      <th></th>\n",
       "      <th>distinct_listings_at_0</th>\n",
       "      <th>listings_at_0</th>\n",
       "    </tr>\n",
       "  </thead>\n",
       "  <tbody>\n",
       "    <tr>\n",
       "      <th>0</th>\n",
       "      <td>658</td>\n",
       "      <td>1309</td>\n",
       "    </tr>\n",
       "  </tbody>\n",
       "</table>\n",
       "</div>"
      ],
      "text/plain": [
       "   distinct_listings_at_0  listings_at_0\n",
       "0                     658           1309"
      ]
     },
     "execution_count": 143,
     "metadata": {},
     "output_type": "execute_result"
    }
   ],
   "source": [
    "sql = \"\"\"\n",
    "SELECT COUNT(DISTINCT id) AS distinct_listings_at_0, COUNT(id) AS listings_at_0\n",
    "FROM listings\n",
    "WHERE price = 0;\n",
    "\"\"\"\n",
    "\n",
    "df = sqldf(sql)\n",
    "df.head()"
   ]
  },
  {
   "cell_type": "code",
   "execution_count": 135,
   "id": "d9b60d79-264f-48f1-ba31-d85f920d9e26",
   "metadata": {},
   "outputs": [
    {
     "data": {
      "text/html": [
       "<div>\n",
       "<style scoped>\n",
       "    .dataframe tbody tr th:only-of-type {\n",
       "        vertical-align: middle;\n",
       "    }\n",
       "\n",
       "    .dataframe tbody tr th {\n",
       "        vertical-align: top;\n",
       "    }\n",
       "\n",
       "    .dataframe thead th {\n",
       "        text-align: right;\n",
       "    }\n",
       "</style>\n",
       "<table border=\"1\" class=\"dataframe\">\n",
       "  <thead>\n",
       "    <tr style=\"text-align: right;\">\n",
       "      <th></th>\n",
       "      <th>distinct_listings_at_0</th>\n",
       "      <th>listings_at_0</th>\n",
       "    </tr>\n",
       "  </thead>\n",
       "  <tbody>\n",
       "    <tr>\n",
       "      <th>0</th>\n",
       "      <td>658</td>\n",
       "      <td>1309</td>\n",
       "    </tr>\n",
       "  </tbody>\n",
       "</table>\n",
       "</div>"
      ],
      "text/plain": [
       "   distinct_listings_at_0  listings_at_0\n",
       "0                     658           1309"
      ]
     },
     "execution_count": 135,
     "metadata": {},
     "output_type": "execute_result"
    }
   ],
   "source": [
    "sql = \"\"\"\n",
    "SELECT COUNT(DISTINCT id) AS distinct_listings_at_0, COUNT(id) AS listings_at_0\n",
    "FROM listings\n",
    "WHERE price = 0;\n",
    "\"\"\"\n",
    "\n",
    "df = sqldf(sql)\n",
    "df.head()"
   ]
  },
  {
   "cell_type": "code",
   "execution_count": 145,
   "id": "d1c1e822-b3b7-4f4c-a3e2-4fde577e7652",
   "metadata": {},
   "outputs": [
    {
     "data": {
      "text/html": [
       "<div>\n",
       "<style scoped>\n",
       "    .dataframe tbody tr th:only-of-type {\n",
       "        vertical-align: middle;\n",
       "    }\n",
       "\n",
       "    .dataframe tbody tr th {\n",
       "        vertical-align: top;\n",
       "    }\n",
       "\n",
       "    .dataframe thead th {\n",
       "        text-align: right;\n",
       "    }\n",
       "</style>\n",
       "<table border=\"1\" class=\"dataframe\">\n",
       "  <thead>\n",
       "    <tr style=\"text-align: right;\">\n",
       "      <th></th>\n",
       "      <th>price</th>\n",
       "      <th>rating</th>\n",
       "      <th>host_name</th>\n",
       "    </tr>\n",
       "  </thead>\n",
       "  <tbody>\n",
       "    <tr>\n",
       "      <th>4</th>\n",
       "      <td>0.0</td>\n",
       "      <td>4.78</td>\n",
       "      <td>Anne</td>\n",
       "    </tr>\n",
       "    <tr>\n",
       "      <th>9</th>\n",
       "      <td>0.0</td>\n",
       "      <td>4.97</td>\n",
       "      <td>Robert</td>\n",
       "    </tr>\n",
       "    <tr>\n",
       "      <th>12</th>\n",
       "      <td>0.0</td>\n",
       "      <td>4.73</td>\n",
       "      <td>Michelle</td>\n",
       "    </tr>\n",
       "    <tr>\n",
       "      <th>14</th>\n",
       "      <td>0.0</td>\n",
       "      <td>4.75</td>\n",
       "      <td>Michelle</td>\n",
       "    </tr>\n",
       "    <tr>\n",
       "      <th>16</th>\n",
       "      <td>0.0</td>\n",
       "      <td>4.41</td>\n",
       "      <td>Hermina</td>\n",
       "    </tr>\n",
       "    <tr>\n",
       "      <th>...</th>\n",
       "      <td>...</td>\n",
       "      <td>...</td>\n",
       "      <td>...</td>\n",
       "    </tr>\n",
       "    <tr>\n",
       "      <th>10649</th>\n",
       "      <td>0.0</td>\n",
       "      <td>4.70</td>\n",
       "      <td>Julia</td>\n",
       "    </tr>\n",
       "    <tr>\n",
       "      <th>10655</th>\n",
       "      <td>0.0</td>\n",
       "      <td>4.90</td>\n",
       "      <td>Maria And Jose</td>\n",
       "    </tr>\n",
       "    <tr>\n",
       "      <th>10659</th>\n",
       "      <td>0.0</td>\n",
       "      <td>4.95</td>\n",
       "      <td>Aziz</td>\n",
       "    </tr>\n",
       "    <tr>\n",
       "      <th>10660</th>\n",
       "      <td>0.0</td>\n",
       "      <td>5.00</td>\n",
       "      <td>Cici</td>\n",
       "    </tr>\n",
       "    <tr>\n",
       "      <th>10662</th>\n",
       "      <td>0.0</td>\n",
       "      <td>4.19</td>\n",
       "      <td>Lynne</td>\n",
       "    </tr>\n",
       "  </tbody>\n",
       "</table>\n",
       "<p>1309 rows × 3 columns</p>\n",
       "</div>"
      ],
      "text/plain": [
       "       price  rating       host_name\n",
       "4        0.0    4.78            Anne\n",
       "9        0.0    4.97          Robert\n",
       "12       0.0    4.73        Michelle\n",
       "14       0.0    4.75        Michelle\n",
       "16       0.0    4.41         Hermina\n",
       "...      ...     ...             ...\n",
       "10649    0.0    4.70           Julia\n",
       "10655    0.0    4.90  Maria And Jose\n",
       "10659    0.0    4.95            Aziz\n",
       "10660    0.0    5.00            Cici\n",
       "10662    0.0    4.19           Lynne\n",
       "\n",
       "[1309 rows x 3 columns]"
      ]
     },
     "execution_count": 145,
     "metadata": {},
     "output_type": "execute_result"
    }
   ],
   "source": [
    "listings[listings['price'] == 0][['price','rating','host_name']] # significant amount of properties with $0 price per night"
   ]
  },
  {
   "cell_type": "code",
   "execution_count": 173,
   "id": "261268fb-e1af-4f60-bd74-c3f7438e590a",
   "metadata": {},
   "outputs": [
    {
     "data": {
      "text/html": [
       "<div>\n",
       "<style scoped>\n",
       "    .dataframe tbody tr th:only-of-type {\n",
       "        vertical-align: middle;\n",
       "    }\n",
       "\n",
       "    .dataframe tbody tr th {\n",
       "        vertical-align: top;\n",
       "    }\n",
       "\n",
       "    .dataframe thead th {\n",
       "        text-align: right;\n",
       "    }\n",
       "</style>\n",
       "<table border=\"1\" class=\"dataframe\">\n",
       "  <thead>\n",
       "    <tr style=\"text-align: right;\">\n",
       "      <th></th>\n",
       "      <th>avg_num_amenities</th>\n",
       "      <th>min_amenities</th>\n",
       "      <th>max_amenities</th>\n",
       "    </tr>\n",
       "  </thead>\n",
       "  <tbody>\n",
       "    <tr>\n",
       "      <th>0</th>\n",
       "      <td>29.765848</td>\n",
       "      <td>1</td>\n",
       "      <td>93</td>\n",
       "    </tr>\n",
       "  </tbody>\n",
       "</table>\n",
       "</div>"
      ],
      "text/plain": [
       "   avg_num_amenities  min_amenities  max_amenities\n",
       "0          29.765848              1             93"
      ]
     },
     "execution_count": 173,
     "metadata": {},
     "output_type": "execute_result"
    }
   ],
   "source": [
    "sql = \"\"\"\n",
    "SELECT AVG(amenities_count) AS avg_num_amenities, MIN(amenities_count) AS min_amenities, MAX(amenities_count) AS max_amenities\n",
    "FROM listings\n",
    "\"\"\"\n",
    "\n",
    "df = sqldf(sql)\n",
    "df.head()"
   ]
  },
  {
   "cell_type": "code",
   "execution_count": 174,
   "id": "97318ac1-02bd-4d67-ad88-7f02ef843f4a",
   "metadata": {},
   "outputs": [
    {
     "data": {
      "text/html": [
       "<div>\n",
       "<style scoped>\n",
       "    .dataframe tbody tr th:only-of-type {\n",
       "        vertical-align: middle;\n",
       "    }\n",
       "\n",
       "    .dataframe tbody tr th {\n",
       "        vertical-align: top;\n",
       "    }\n",
       "\n",
       "    .dataframe thead th {\n",
       "        text-align: right;\n",
       "    }\n",
       "</style>\n",
       "<table border=\"1\" class=\"dataframe\">\n",
       "  <thead>\n",
       "    <tr style=\"text-align: right;\">\n",
       "      <th></th>\n",
       "      <th>avg_num_amenities</th>\n",
       "    </tr>\n",
       "  </thead>\n",
       "  <tbody>\n",
       "    <tr>\n",
       "      <th>0</th>\n",
       "      <td>26.159664</td>\n",
       "    </tr>\n",
       "  </tbody>\n",
       "</table>\n",
       "</div>"
      ],
      "text/plain": [
       "   avg_num_amenities\n",
       "0          26.159664"
      ]
     },
     "execution_count": 174,
     "metadata": {},
     "output_type": "execute_result"
    }
   ],
   "source": [
    "sql = \"\"\"\n",
    "SELECT AVG(amenities_count) AS avg_num_amenities\n",
    "FROM listings\n",
    "WHERE price = 0\n",
    "\"\"\"\n",
    "\n",
    "df = sqldf(sql)\n",
    "df.head()"
   ]
  },
  {
   "cell_type": "code",
   "execution_count": 175,
   "id": "d0cb8f9b-2a13-40b4-bc11-2d643ecc4191",
   "metadata": {},
   "outputs": [
    {
     "data": {
      "text/html": [
       "<div>\n",
       "<style scoped>\n",
       "    .dataframe tbody tr th:only-of-type {\n",
       "        vertical-align: middle;\n",
       "    }\n",
       "\n",
       "    .dataframe tbody tr th {\n",
       "        vertical-align: top;\n",
       "    }\n",
       "\n",
       "    .dataframe thead th {\n",
       "        text-align: right;\n",
       "    }\n",
       "</style>\n",
       "<table border=\"1\" class=\"dataframe\">\n",
       "  <thead>\n",
       "    <tr style=\"text-align: right;\">\n",
       "      <th></th>\n",
       "      <th>avg_num_amenities</th>\n",
       "    </tr>\n",
       "  </thead>\n",
       "  <tbody>\n",
       "    <tr>\n",
       "      <th>0</th>\n",
       "      <td>32.75</td>\n",
       "    </tr>\n",
       "  </tbody>\n",
       "</table>\n",
       "</div>"
      ],
      "text/plain": [
       "   avg_num_amenities\n",
       "0              32.75"
      ]
     },
     "execution_count": 175,
     "metadata": {},
     "output_type": "execute_result"
    }
   ],
   "source": [
    "sql = \"\"\"\n",
    "SELECT AVG(amenities_count) AS avg_num_amenities \n",
    "FROM listings\n",
    "WHERE price > 117.5\n",
    "\"\"\"\n",
    "\n",
    "df = sqldf(sql)\n",
    "df.head()"
   ]
  },
  {
   "cell_type": "code",
   "execution_count": 200,
   "id": "22213310-0959-4781-abd7-f2f27ae64185",
   "metadata": {},
   "outputs": [
    {
     "data": {
      "image/png": "[encoded data removed]",
      "text/plain": [
       "<Figure size 432x288 with 1 Axes>"
      ]
     },
     "metadata": {
      "needs_background": "light"
     },
     "output_type": "display_data"
    }
   ],
   "source": [
    "plt.hist(x = listings['amenities_count'], bins=20)\n",
    "plt.title('Distribution of Amenities', fontsize = 16)\n",
    "plt.xlabel('Number of Amenities', fontsize = 12)\n",
    "plt.ylabel('Number of Listings', fontsize = 12);"
   ]
  },
  {
   "cell_type": "code",
   "execution_count": 191,
   "id": "bef8171d-da10-4866-8d17-8b63c469958f",
   "metadata": {
    "tags": []
   },
   "outputs": [
    {
     "data": {
      "text/plain": [
       "Entire rental unit                     4317\n",
       "Private room in rental unit            1536\n",
       "Private room in residential home        944\n",
       "Entire condominium (condo)              654\n",
       "Private room in home                    512\n",
       "Entire residential home                 345\n",
       "Entire condo                            329\n",
       "Entire serviced apartment               296\n",
       "Entire guest suite                      215\n",
       "Entire home                             211\n",
       "Private room in condominium (condo)     177\n",
       "Private room in townhouse               159\n",
       "Room in boutique hotel                  159\n",
       "Private room in bed and breakfast       145\n",
       "Entire townhouse                        142\n",
       "Entire loft                             103\n",
       "Name: property_type, dtype: int64"
      ]
     },
     "execution_count": 191,
     "metadata": {},
     "output_type": "execute_result"
    }
   ],
   "source": [
    "listings['property_type'].value_counts()[:16]"
   ]
  },
  {
   "cell_type": "code",
   "execution_count": 195,
   "id": "2b7a9670-13df-443c-a506-b917e94413b7",
   "metadata": {},
   "outputs": [
    {
     "data": {
      "image/png": "[encoded data removed]",
      "text/plain": [
       "<Figure size 432x288 with 1 Axes>"
      ]
     },
     "metadata": {
      "needs_background": "light"
     },
     "output_type": "display_data"
    }
   ],
   "source": [
    "listings['property_type'].value_counts()[:15].plot(kind = 'barh')\n",
    "plt.title('Top 15 Property Types', fontsize = 16)\n",
    "plt.xlabel('Number of listings', fontsize = 12);"
   ]
  },
  {
   "cell_type": "code",
   "execution_count": 207,
   "id": "a80835ab-fcf5-469f-b384-37392096bb37",
   "metadata": {},
   "outputs": [
    {
     "data": {
      "image/png": "[encoded data removed]",
      "text/plain": [
       "<Figure size 432x288 with 1 Axes>"
      ]
     },
     "metadata": {
      "needs_background": "light"
     },
     "output_type": "display_data"
    }
   ],
   "source": [
    "listings['room_type'].value_counts().plot(kind = 'barh')\n",
    "plt.title('Breakdown of Room Types', fontsize = 16)\n",
    "plt.xlabel('Number of listings', fontsize = 12);"
   ]
  },
  {
   "cell_type": "code",
   "execution_count": 227,
   "id": "8c379d54-bf5f-4294-8463-155c1c7263bc",
   "metadata": {},
   "outputs": [
    {
     "data": {
      "image/png": "[encoded data removed]",
      "text/plain": [
       "<Figure size 864x720 with 2 Axes>"
      ]
     },
     "metadata": {
      "needs_background": "light"
     },
     "output_type": "display_data"
    }
   ],
   "source": [
    "# checking correlations to target\n",
    "plt.figure(figsize = (12, 10))\n",
    "sns.heatmap(listings.corr()[['rating']].sort_values(by = 'rating', ascending = False),\n",
    "            annot = True,\n",
    "            vmin = -1,\n",
    "            vmax = 1,\n",
    "           cmap = 'coolwarm')\n",
    "plt.title('Feature correlations with Rating', fontsize = 16);\n",
    "# no strong correlations are immeditely jumping out"
   ]
  },
  {
   "cell_type": "markdown",
   "id": "a6f6adfd-4bc2-4803-a042-f8e6bf0e7ed3",
   "metadata": {},
   "source": [
    "----\n",
    "### By Hosts"
   ]
  },
  {
   "cell_type": "code",
   "execution_count": 229,
   "id": "8804ceb1-033a-4b72-b841-528474a90c6f",
   "metadata": {},
   "outputs": [
    {
     "data": {
      "text/html": [
       "<div>\n",
       "<style scoped>\n",
       "    .dataframe tbody tr th:only-of-type {\n",
       "        vertical-align: middle;\n",
       "    }\n",
       "\n",
       "    .dataframe tbody tr th {\n",
       "        vertical-align: top;\n",
       "    }\n",
       "\n",
       "    .dataframe thead th {\n",
       "        text-align: right;\n",
       "    }\n",
       "</style>\n",
       "<table border=\"1\" class=\"dataframe\">\n",
       "  <thead>\n",
       "    <tr style=\"text-align: right;\">\n",
       "      <th></th>\n",
       "      <th>num_hosts</th>\n",
       "    </tr>\n",
       "  </thead>\n",
       "  <tbody>\n",
       "    <tr>\n",
       "      <th>0</th>\n",
       "      <td>1733</td>\n",
       "    </tr>\n",
       "  </tbody>\n",
       "</table>\n",
       "</div>"
      ],
      "text/plain": [
       "   num_hosts\n",
       "0       1733"
      ]
     },
     "execution_count": 229,
     "metadata": {},
     "output_type": "execute_result"
    }
   ],
   "source": [
    "sql = \"\"\"\n",
    "SELECT COUNT(DISTINCT host_id) AS num_hosts\n",
    "FROM listings\n",
    "\"\"\"\n",
    "\n",
    "host = sqldf(sql)\n",
    "host.head()"
   ]
  },
  {
   "cell_type": "code",
   "execution_count": 233,
   "id": "f14971bd-be87-4b4f-a1d2-4cc8ec85a6e2",
   "metadata": {},
   "outputs": [
    {
     "data": {
      "text/html": [
       "<div>\n",
       "<style scoped>\n",
       "    .dataframe tbody tr th:only-of-type {\n",
       "        vertical-align: middle;\n",
       "    }\n",
       "\n",
       "    .dataframe tbody tr th {\n",
       "        vertical-align: top;\n",
       "    }\n",
       "\n",
       "    .dataframe thead th {\n",
       "        text-align: right;\n",
       "    }\n",
       "</style>\n",
       "<table border=\"1\" class=\"dataframe\">\n",
       "  <thead>\n",
       "    <tr style=\"text-align: right;\">\n",
       "      <th></th>\n",
       "      <th>host_id</th>\n",
       "      <th>host_name</th>\n",
       "      <th>number_listings</th>\n",
       "    </tr>\n",
       "  </thead>\n",
       "  <tbody>\n",
       "    <tr>\n",
       "      <th>0</th>\n",
       "      <td>22348222</td>\n",
       "      <td>Maverick</td>\n",
       "      <td>248</td>\n",
       "    </tr>\n",
       "    <tr>\n",
       "      <th>1</th>\n",
       "      <td>212359760</td>\n",
       "      <td>Evonify</td>\n",
       "      <td>171</td>\n",
       "    </tr>\n",
       "    <tr>\n",
       "      <th>2</th>\n",
       "      <td>814298</td>\n",
       "      <td>Thatch</td>\n",
       "      <td>171</td>\n",
       "    </tr>\n",
       "    <tr>\n",
       "      <th>3</th>\n",
       "      <td>275849638</td>\n",
       "      <td>Steven</td>\n",
       "      <td>122</td>\n",
       "    </tr>\n",
       "    <tr>\n",
       "      <th>4</th>\n",
       "      <td>331225367</td>\n",
       "      <td>Boston Strong</td>\n",
       "      <td>109</td>\n",
       "    </tr>\n",
       "    <tr>\n",
       "      <th>5</th>\n",
       "      <td>18517776</td>\n",
       "      <td>Huggy</td>\n",
       "      <td>108</td>\n",
       "    </tr>\n",
       "    <tr>\n",
       "      <th>6</th>\n",
       "      <td>30283594</td>\n",
       "      <td>Global Luxury Suites</td>\n",
       "      <td>104</td>\n",
       "    </tr>\n",
       "    <tr>\n",
       "      <th>7</th>\n",
       "      <td>365116307</td>\n",
       "      <td>Brian + Heather</td>\n",
       "      <td>103</td>\n",
       "    </tr>\n",
       "    <tr>\n",
       "      <th>8</th>\n",
       "      <td>71783</td>\n",
       "      <td>Lance</td>\n",
       "      <td>94</td>\n",
       "    </tr>\n",
       "    <tr>\n",
       "      <th>9</th>\n",
       "      <td>285344759</td>\n",
       "      <td>Bv</td>\n",
       "      <td>93</td>\n",
       "    </tr>\n",
       "  </tbody>\n",
       "</table>\n",
       "</div>"
      ],
      "text/plain": [
       "     host_id             host_name  number_listings\n",
       "0   22348222              Maverick              248\n",
       "1  212359760               Evonify              171\n",
       "2     814298                Thatch              171\n",
       "3  275849638                Steven              122\n",
       "4  331225367         Boston Strong              109\n",
       "5   18517776                 Huggy              108\n",
       "6   30283594  Global Luxury Suites              104\n",
       "7  365116307       Brian + Heather              103\n",
       "8      71783                 Lance               94\n",
       "9  285344759                    Bv               93"
      ]
     },
     "execution_count": 233,
     "metadata": {},
     "output_type": "execute_result"
    }
   ],
   "source": [
    "sql = \"\"\"\n",
    "SELECT DISTINCT(host_id), host_name, COUNT(id) AS number_listings\n",
    "FROM listings\n",
    "GROUP BY host_id\n",
    "ORDER BY COUNT(id) DESC\n",
    "\"\"\"\n",
    "\n",
    "host = sqldf(sql)\n",
    "host.head(10)"
   ]
  },
  {
   "cell_type": "code",
   "execution_count": 40,
   "id": "6f8343f5-442e-4152-9fad-5e475e6c72bd",
   "metadata": {},
   "outputs": [
    {
     "data": {
      "text/html": [
       "<div>\n",
       "<style scoped>\n",
       "    .dataframe tbody tr th:only-of-type {\n",
       "        vertical-align: middle;\n",
       "    }\n",
       "\n",
       "    .dataframe tbody tr th {\n",
       "        vertical-align: top;\n",
       "    }\n",
       "\n",
       "    .dataframe thead th {\n",
       "        text-align: right;\n",
       "    }\n",
       "</style>\n",
       "<table border=\"1\" class=\"dataframe\">\n",
       "  <thead>\n",
       "    <tr style=\"text-align: right;\">\n",
       "      <th></th>\n",
       "      <th>host_id</th>\n",
       "      <th>host_name</th>\n",
       "      <th>host_since</th>\n",
       "    </tr>\n",
       "  </thead>\n",
       "  <tbody>\n",
       "    <tr>\n",
       "      <th>0</th>\n",
       "      <td>4804</td>\n",
       "      <td>Frank</td>\n",
       "      <td>2008-12-03 00:00:00.000000</td>\n",
       "    </tr>\n",
       "    <tr>\n",
       "      <th>1</th>\n",
       "      <td>6094</td>\n",
       "      <td>Matt</td>\n",
       "      <td>2009-01-06 00:00:00.000000</td>\n",
       "    </tr>\n",
       "    <tr>\n",
       "      <th>2</th>\n",
       "      <td>7969</td>\n",
       "      <td>Carolyn</td>\n",
       "      <td>2009-02-15 00:00:00.000000</td>\n",
       "    </tr>\n",
       "    <tr>\n",
       "      <th>3</th>\n",
       "      <td>8229</td>\n",
       "      <td>Terry</td>\n",
       "      <td>2009-02-19 00:00:00.000000</td>\n",
       "    </tr>\n",
       "    <tr>\n",
       "      <th>4</th>\n",
       "      <td>26988</td>\n",
       "      <td>Anne</td>\n",
       "      <td>2009-07-22 00:00:00.000000</td>\n",
       "    </tr>\n",
       "    <tr>\n",
       "      <th>5</th>\n",
       "      <td>38997</td>\n",
       "      <td>Michelle</td>\n",
       "      <td>2009-09-16 00:00:00.000000</td>\n",
       "    </tr>\n",
       "    <tr>\n",
       "      <th>6</th>\n",
       "      <td>63575</td>\n",
       "      <td>Kate</td>\n",
       "      <td>2009-12-16 00:00:00.000000</td>\n",
       "    </tr>\n",
       "    <tr>\n",
       "      <th>7</th>\n",
       "      <td>69587</td>\n",
       "      <td>Boris &amp; Susan</td>\n",
       "      <td>2010-01-11 00:00:00.000000</td>\n",
       "    </tr>\n",
       "    <tr>\n",
       "      <th>8</th>\n",
       "      <td>69838</td>\n",
       "      <td>Mara</td>\n",
       "      <td>2010-01-12 00:00:00.000000</td>\n",
       "    </tr>\n",
       "    <tr>\n",
       "      <th>9</th>\n",
       "      <td>71783</td>\n",
       "      <td>Lance</td>\n",
       "      <td>2010-01-19 00:00:00.000000</td>\n",
       "    </tr>\n",
       "  </tbody>\n",
       "</table>\n",
       "</div>"
      ],
      "text/plain": [
       "   host_id      host_name                  host_since\n",
       "0     4804          Frank  2008-12-03 00:00:00.000000\n",
       "1     6094           Matt  2009-01-06 00:00:00.000000\n",
       "2     7969        Carolyn  2009-02-15 00:00:00.000000\n",
       "3     8229          Terry  2009-02-19 00:00:00.000000\n",
       "4    26988           Anne  2009-07-22 00:00:00.000000\n",
       "5    38997       Michelle  2009-09-16 00:00:00.000000\n",
       "6    63575           Kate  2009-12-16 00:00:00.000000\n",
       "7    69587  Boris & Susan  2010-01-11 00:00:00.000000\n",
       "8    69838           Mara  2010-01-12 00:00:00.000000\n",
       "9    71783          Lance  2010-01-19 00:00:00.000000"
      ]
     },
     "execution_count": 40,
     "metadata": {},
     "output_type": "execute_result"
    }
   ],
   "source": [
    "sql = \"\"\"\n",
    "SELECT DISTINCT(host_id), host_name, host_since\n",
    "FROM listings\n",
    "ORDER BY host_since\n",
    "\"\"\"\n",
    "\n",
    "host = sqldf(sql)\n",
    "host.head(10)"
   ]
  },
  {
   "cell_type": "code",
   "execution_count": 244,
   "id": "ca6eb170-f8ed-432d-a37b-8ccf7aa7cfcf",
   "metadata": {},
   "outputs": [
    {
     "data": {
      "text/html": [
       "<div>\n",
       "<style scoped>\n",
       "    .dataframe tbody tr th:only-of-type {\n",
       "        vertical-align: middle;\n",
       "    }\n",
       "\n",
       "    .dataframe tbody tr th {\n",
       "        vertical-align: top;\n",
       "    }\n",
       "\n",
       "    .dataframe thead th {\n",
       "        text-align: right;\n",
       "    }\n",
       "</style>\n",
       "<table border=\"1\" class=\"dataframe\">\n",
       "  <thead>\n",
       "    <tr style=\"text-align: right;\">\n",
       "      <th></th>\n",
       "      <th>host_is_superhost</th>\n",
       "      <th>avg_response_rate</th>\n",
       "      <th>avg_rating</th>\n",
       "      <th>avg_price</th>\n",
       "    </tr>\n",
       "  </thead>\n",
       "  <tbody>\n",
       "    <tr>\n",
       "      <th>0</th>\n",
       "      <td>0</td>\n",
       "      <td>94.986125</td>\n",
       "      <td>4.595628</td>\n",
       "      <td>32.520600</td>\n",
       "    </tr>\n",
       "    <tr>\n",
       "      <th>1</th>\n",
       "      <td>1</td>\n",
       "      <td>98.775062</td>\n",
       "      <td>4.839400</td>\n",
       "      <td>31.362399</td>\n",
       "    </tr>\n",
       "  </tbody>\n",
       "</table>\n",
       "</div>"
      ],
      "text/plain": [
       "   host_is_superhost  avg_response_rate  avg_rating  avg_price\n",
       "0                  0          94.986125    4.595628  32.520600\n",
       "1                  1          98.775062    4.839400  31.362399"
      ]
     },
     "execution_count": 244,
     "metadata": {},
     "output_type": "execute_result"
    }
   ],
   "source": [
    "sql = \"\"\"\n",
    "SELECT host_is_superhost, AVG(host_response_rate) AS avg_response_rate, AVG(rating) AS avg_rating, AVG(price) AS avg_price\n",
    "FROM listings\n",
    "GROUP BY host_is_superhost\n",
    "\"\"\"\n",
    "\n",
    "host = sqldf(sql)\n",
    "host.head()"
   ]
  },
  {
   "cell_type": "markdown",
   "id": "20bfe742-afaf-4e6d-bb67-d93c1a25dc36",
   "metadata": {},
   "source": [
    "licenses"
   ]
  },
  {
   "cell_type": "code",
   "execution_count": 272,
   "id": "135f2b84-27bf-4f33-bfbf-e8e8b6d07151",
   "metadata": {},
   "outputs": [
    {
     "data": {
      "text/html": [
       "<div>\n",
       "<style scoped>\n",
       "    .dataframe tbody tr th:only-of-type {\n",
       "        vertical-align: middle;\n",
       "    }\n",
       "\n",
       "    .dataframe tbody tr th {\n",
       "        vertical-align: top;\n",
       "    }\n",
       "\n",
       "    .dataframe thead th {\n",
       "        text-align: right;\n",
       "    }\n",
       "</style>\n",
       "<table border=\"1\" class=\"dataframe\">\n",
       "  <thead>\n",
       "    <tr style=\"text-align: right;\">\n",
       "      <th></th>\n",
       "      <th>num_superhosts</th>\n",
       "    </tr>\n",
       "  </thead>\n",
       "  <tbody>\n",
       "    <tr>\n",
       "      <th>0</th>\n",
       "      <td>3601</td>\n",
       "    </tr>\n",
       "  </tbody>\n",
       "</table>\n",
       "</div>"
      ],
      "text/plain": [
       "   num_superhosts\n",
       "0            3601"
      ]
     },
     "execution_count": 272,
     "metadata": {},
     "output_type": "execute_result"
    }
   ],
   "source": [
    "sql = \"\"\"\n",
    "SELECT COUNT(*) as num_superhosts\n",
    "FROM listings\n",
    "WHERE host_is_superhost = 1\n",
    "\"\"\"\n",
    "\n",
    "host = sqldf(sql)\n",
    "host.head()"
   ]
  },
  {
   "cell_type": "code",
   "execution_count": 273,
   "id": "c7747124-9cf6-42b2-a0b8-4627f38f3599",
   "metadata": {},
   "outputs": [
    {
     "data": {
      "text/html": [
       "<div>\n",
       "<style scoped>\n",
       "    .dataframe tbody tr th:only-of-type {\n",
       "        vertical-align: middle;\n",
       "    }\n",
       "\n",
       "    .dataframe tbody tr th {\n",
       "        vertical-align: top;\n",
       "    }\n",
       "\n",
       "    .dataframe thead th {\n",
       "        text-align: right;\n",
       "    }\n",
       "</style>\n",
       "<table border=\"1\" class=\"dataframe\">\n",
       "  <thead>\n",
       "    <tr style=\"text-align: right;\">\n",
       "      <th></th>\n",
       "      <th>num_non_superhosts</th>\n",
       "    </tr>\n",
       "  </thead>\n",
       "  <tbody>\n",
       "    <tr>\n",
       "      <th>0</th>\n",
       "      <td>7063</td>\n",
       "    </tr>\n",
       "  </tbody>\n",
       "</table>\n",
       "</div>"
      ],
      "text/plain": [
       "   num_non_superhosts\n",
       "0                7063"
      ]
     },
     "execution_count": 273,
     "metadata": {},
     "output_type": "execute_result"
    }
   ],
   "source": [
    "sql = \"\"\"\n",
    "SELECT COUNT(*) as num_non_superhosts\n",
    "FROM listings\n",
    "WHERE host_is_superhost = 0\n",
    "\"\"\"\n",
    "\n",
    "host = sqldf(sql)\n",
    "host.head()"
   ]
  },
  {
   "cell_type": "code",
   "execution_count": 262,
   "id": "d121d475-b6b9-4876-9fb1-e08c65c31662",
   "metadata": {},
   "outputs": [
    {
     "data": {
      "image/png": "[encoded data removed]",
      "text/plain": [
       "<Figure size 432x288 with 1 Axes>"
      ]
     },
     "metadata": {
      "needs_background": "light"
     },
     "output_type": "display_data"
    }
   ],
   "source": [
    "superhost = listings[listings['host_is_superhost'] == 1]\n",
    "not_superhost = listings[listings['host_is_superhost'] == 0]\n",
    "\n",
    "plt.hist(superhost['rating'], color = 'b', alpha = 0.5, label = 'Superhost', bins = 30)\n",
    "plt.hist(not_superhost['rating'], color = 'r', alpha = 0.3, label = 'Not Superhost', bins = 30)\n",
    "plt.legend()\n",
    "plt.title('Distribution of Ratings, with and without Superhosts');"
   ]
  },
  {
   "cell_type": "code",
   "execution_count": 275,
   "id": "47db0704-c6d5-4b22-aaa3-1206b0b2c654",
   "metadata": {},
   "outputs": [
    {
     "data": {
      "text/html": [
       "<div>\n",
       "<style scoped>\n",
       "    .dataframe tbody tr th:only-of-type {\n",
       "        vertical-align: middle;\n",
       "    }\n",
       "\n",
       "    .dataframe tbody tr th {\n",
       "        vertical-align: top;\n",
       "    }\n",
       "\n",
       "    .dataframe thead th {\n",
       "        text-align: right;\n",
       "    }\n",
       "</style>\n",
       "<table border=\"1\" class=\"dataframe\">\n",
       "  <thead>\n",
       "    <tr style=\"text-align: right;\">\n",
       "      <th></th>\n",
       "      <th>license</th>\n",
       "      <th>avg_response_rate</th>\n",
       "      <th>avg_rating</th>\n",
       "      <th>avg_price</th>\n",
       "    </tr>\n",
       "  </thead>\n",
       "  <tbody>\n",
       "    <tr>\n",
       "      <th>0</th>\n",
       "      <td>0</td>\n",
       "      <td>94.852800</td>\n",
       "      <td>4.624614</td>\n",
       "      <td>26.754244</td>\n",
       "    </tr>\n",
       "    <tr>\n",
       "      <th>1</th>\n",
       "      <td>1</td>\n",
       "      <td>97.095727</td>\n",
       "      <td>4.709282</td>\n",
       "      <td>35.288075</td>\n",
       "    </tr>\n",
       "  </tbody>\n",
       "</table>\n",
       "</div>"
      ],
      "text/plain": [
       "   license  avg_response_rate  avg_rating  avg_price\n",
       "0        0          94.852800    4.624614  26.754244\n",
       "1        1          97.095727    4.709282  35.288075"
      ]
     },
     "execution_count": 275,
     "metadata": {},
     "output_type": "execute_result"
    }
   ],
   "source": [
    "sql = \"\"\"\n",
    "SELECT license, AVG(host_response_rate) AS avg_response_rate, AVG(rating) AS avg_rating, AVG(price) AS avg_price\n",
    "FROM listings\n",
    "GROUP BY license\n",
    "\"\"\"\n",
    "\n",
    "host = sqldf(sql)\n",
    "host.head()"
   ]
  },
  {
   "cell_type": "code",
   "execution_count": 280,
   "id": "3fa2c76f-672d-4e05-a2a3-49cdf2d46b98",
   "metadata": {},
   "outputs": [
    {
     "data": {
      "text/html": [
       "<div>\n",
       "<style scoped>\n",
       "    .dataframe tbody tr th:only-of-type {\n",
       "        vertical-align: middle;\n",
       "    }\n",
       "\n",
       "    .dataframe tbody tr th {\n",
       "        vertical-align: top;\n",
       "    }\n",
       "\n",
       "    .dataframe thead th {\n",
       "        text-align: right;\n",
       "    }\n",
       "</style>\n",
       "<table border=\"1\" class=\"dataframe\">\n",
       "  <thead>\n",
       "    <tr style=\"text-align: right;\">\n",
       "      <th></th>\n",
       "      <th>num_non_licensed_hosts</th>\n",
       "    </tr>\n",
       "  </thead>\n",
       "  <tbody>\n",
       "    <tr>\n",
       "      <th>0</th>\n",
       "      <td>3947</td>\n",
       "    </tr>\n",
       "  </tbody>\n",
       "</table>\n",
       "</div>"
      ],
      "text/plain": [
       "   num_non_licensed_hosts\n",
       "0                    3947"
      ]
     },
     "execution_count": 280,
     "metadata": {},
     "output_type": "execute_result"
    }
   ],
   "source": [
    "sql = \"\"\"\n",
    "SELECT COUNT(*) as num_non_licensed_hosts\n",
    "FROM listings\n",
    "WHERE license = 0\n",
    "\"\"\"\n",
    "\n",
    "host = sqldf(sql)\n",
    "host.head()"
   ]
  },
  {
   "cell_type": "code",
   "execution_count": 282,
   "id": "7dcc0fb8-8c1d-440c-96d4-4ce599a98b4b",
   "metadata": {},
   "outputs": [
    {
     "data": {
      "text/html": [
       "<div>\n",
       "<style scoped>\n",
       "    .dataframe tbody tr th:only-of-type {\n",
       "        vertical-align: middle;\n",
       "    }\n",
       "\n",
       "    .dataframe tbody tr th {\n",
       "        vertical-align: top;\n",
       "    }\n",
       "\n",
       "    .dataframe thead th {\n",
       "        text-align: right;\n",
       "    }\n",
       "</style>\n",
       "<table border=\"1\" class=\"dataframe\">\n",
       "  <thead>\n",
       "    <tr style=\"text-align: right;\">\n",
       "      <th></th>\n",
       "      <th>num_licensed_hosts</th>\n",
       "    </tr>\n",
       "  </thead>\n",
       "  <tbody>\n",
       "    <tr>\n",
       "      <th>0</th>\n",
       "      <td>6717</td>\n",
       "    </tr>\n",
       "  </tbody>\n",
       "</table>\n",
       "</div>"
      ],
      "text/plain": [
       "   num_licensed_hosts\n",
       "0                6717"
      ]
     },
     "execution_count": 282,
     "metadata": {},
     "output_type": "execute_result"
    }
   ],
   "source": [
    "sql = \"\"\"\n",
    "SELECT COUNT(*) as num_licensed_hosts\n",
    "FROM listings\n",
    "WHERE license = 1\n",
    "\"\"\"\n",
    "\n",
    "host = sqldf(sql)\n",
    "host.head()"
   ]
  },
  {
   "cell_type": "code",
   "execution_count": 291,
   "id": "655a3580-fce0-44a8-a5ed-13119d7f373a",
   "metadata": {},
   "outputs": [
    {
     "data": {
      "image/png": "[encoded data removed]",
      "text/plain": [
       "<Figure size 432x288 with 1 Axes>"
      ]
     },
     "metadata": {
      "needs_background": "light"
     },
     "output_type": "display_data"
    }
   ],
   "source": [
    "licensed = listings[listings['license'] == 1]\n",
    "not_licensed = listings[listings['license'] == 0]\n",
    "\n",
    "plt.hist(licensed['rating'], color = 'b', alpha = 0.5, label = 'Licensed', bins = 50)\n",
    "plt.hist(not_licensed['rating'], color = 'r', alpha = 0.5, label = 'Not Licensed', bins = 50)\n",
    "plt.legend()\n",
    "plt.title('Distribution of Ratings, with and without Superhosts');"
   ]
  },
  {
   "cell_type": "code",
   "execution_count": null,
   "id": "75f8f3d1-9d03-422e-92c1-d20c37ba3be4",
   "metadata": {},
   "outputs": [],
   "source": [
    "sql = \"\"\"\n",
    "SELECT COUNT(*) as num_licensed_hosts\n",
    "FROM listings\n",
    "WHERE license = 1\n",
    "\"\"\"\n",
    "\n",
    "host = sqldf(sql)\n",
    "host.head()"
   ]
  },
  {
   "cell_type": "code",
   "execution_count": null,
   "id": "c7ceffc0-64c3-4e12-bea3-f9e20711c63e",
   "metadata": {},
   "outputs": [],
   "source": []
  },
  {
   "cell_type": "code",
   "execution_count": null,
   "id": "85ade2a8-d105-47cf-9977-493905f56d95",
   "metadata": {},
   "outputs": [],
   "source": []
  },
  {
   "cell_type": "code",
   "execution_count": null,
   "id": "28d62f22-a73f-4a26-a263-dcea3a139021",
   "metadata": {},
   "outputs": [],
   "source": []
  },
  {
   "cell_type": "code",
   "execution_count": null,
   "id": "4066744d-9d27-4c07-8321-0a8ac3b4eb6a",
   "metadata": {},
   "outputs": [],
   "source": []
  },
  {
   "cell_type": "markdown",
   "id": "5af51cd1-aad7-42ed-a79d-2cfd2e07f82c",
   "metadata": {},
   "source": [
    "-----\n",
    "### By Neighborhood"
   ]
  },
  {
   "cell_type": "code",
   "execution_count": 72,
   "id": "74708955-3693-4da1-8c21-b53ffc181fbd",
   "metadata": {},
   "outputs": [
    {
     "data": {
      "text/html": [
       "<div>\n",
       "<style scoped>\n",
       "    .dataframe tbody tr th:only-of-type {\n",
       "        vertical-align: middle;\n",
       "    }\n",
       "\n",
       "    .dataframe tbody tr th {\n",
       "        vertical-align: top;\n",
       "    }\n",
       "\n",
       "    .dataframe thead th {\n",
       "        text-align: right;\n",
       "    }\n",
       "</style>\n",
       "<table border=\"1\" class=\"dataframe\">\n",
       "  <thead>\n",
       "    <tr style=\"text-align: right;\">\n",
       "      <th></th>\n",
       "      <th>property_type</th>\n",
       "      <th>COUNT(property_type)</th>\n",
       "      <th>AVG(review_scores_rating)</th>\n",
       "    </tr>\n",
       "  </thead>\n",
       "  <tbody>\n",
       "    <tr>\n",
       "      <th>0</th>\n",
       "      <td>Boat</td>\n",
       "      <td>26</td>\n",
       "      <td>4.873846</td>\n",
       "    </tr>\n",
       "    <tr>\n",
       "      <th>1</th>\n",
       "      <td>Castle</td>\n",
       "      <td>1</td>\n",
       "      <td>4.850000</td>\n",
       "    </tr>\n",
       "    <tr>\n",
       "      <th>2</th>\n",
       "      <td>Entire bed and breakfast</td>\n",
       "      <td>4</td>\n",
       "      <td>4.340000</td>\n",
       "    </tr>\n",
       "    <tr>\n",
       "      <th>3</th>\n",
       "      <td>Entire bungalow</td>\n",
       "      <td>1</td>\n",
       "      <td>4.810000</td>\n",
       "    </tr>\n",
       "    <tr>\n",
       "      <th>4</th>\n",
       "      <td>Entire condo</td>\n",
       "      <td>329</td>\n",
       "      <td>4.770821</td>\n",
       "    </tr>\n",
       "  </tbody>\n",
       "</table>\n",
       "</div>"
      ],
      "text/plain": [
       "              property_type  COUNT(property_type)  AVG(review_scores_rating)\n",
       "0                      Boat                    26                   4.873846\n",
       "1                    Castle                     1                   4.850000\n",
       "2  Entire bed and breakfast                     4                   4.340000\n",
       "3           Entire bungalow                     1                   4.810000\n",
       "4              Entire condo                   329                   4.770821"
      ]
     },
     "execution_count": 72,
     "metadata": {},
     "output_type": "execute_result"
    }
   ],
   "source": [
    "sql = \"\"\"\n",
    "SELECT property_type, COUNT(property_type), AVG(review_scores_rating)\n",
    "FROM listings\n",
    "GROUP BY property_type\n",
    "ORDER BY property_type\n",
    "\"\"\"\n",
    "\n",
    "prop = sqldf(sql)\n",
    "prop.head()"
   ]
  },
  {
   "cell_type": "code",
   "execution_count": null,
   "id": "81387f50-7c69-4726-b3f7-310322991190",
   "metadata": {},
   "outputs": [],
   "source": []
  },
  {
   "cell_type": "raw",
   "id": "047ea149-f39f-4a8b-9020-3bf8775ee8d6",
   "metadata": {},
   "source": [
    "room type (private, shared, home listing type)"
   ]
  },
  {
   "cell_type": "markdown",
   "id": "9d1a1f00-3af8-4e4a-83f1-02188b80cc60",
   "metadata": {},
   "source": [
    "activity (nights booked, averhage price / night, )"
   ]
  },
  {
   "cell_type": "code",
   "execution_count": null,
   "id": "38d12139-7278-4a9a-8e67-4c328ac1f9a4",
   "metadata": {},
   "outputs": [],
   "source": []
  },
  {
   "cell_type": "code",
   "execution_count": null,
   "id": "33ea1e8b-8afb-4899-9033-3e005b8ce41a",
   "metadata": {},
   "outputs": [],
   "source": []
  },
  {
   "cell_type": "code",
   "execution_count": null,
   "id": "11666601-7765-40bc-8894-fcbff9bba988",
   "metadata": {},
   "outputs": [],
   "source": []
  },
  {
   "cell_type": "code",
   "execution_count": null,
   "id": "1cdba091-da74-4ea0-841d-c8f1e78c55f5",
   "metadata": {},
   "outputs": [],
   "source": []
  },
  {
   "cell_type": "markdown",
   "id": "eebf481e-2f27-4137-89f9-88e590f4280a",
   "metadata": {},
   "source": [
    "-----\n",
    "### Exploring Reviews"
   ]
  },
  {
   "cell_type": "code",
   "execution_count": 1,
   "id": "11091dc7-523e-40aa-ae71-110bde9b2861",
   "metadata": {},
   "outputs": [
    {
     "ename": "NameError",
     "evalue": "name 'reviews' is not defined",
     "output_type": "error",
     "traceback": [
      "\u001b[0;31m---------------------------------------------------------------------------\u001b[0m",
      "\u001b[0;31mNameError\u001b[0m                                 Traceback (most recent call last)",
      "Input \u001b[0;32mIn [1]\u001b[0m, in \u001b[0;36m<cell line: 1>\u001b[0;34m()\u001b[0m\n\u001b[0;32m----> 1\u001b[0m \u001b[43mreviews\u001b[49m\u001b[38;5;241m.\u001b[39mhead()\n",
      "\u001b[0;31mNameError\u001b[0m: name 'reviews' is not defined"
     ]
    }
   ],
   "source": [
    "reviews.head()"
   ]
  },
  {
   "cell_type": "markdown",
   "id": "fd55153c-f529-46fc-9c94-1f7c42cc34ce",
   "metadata": {},
   "source": [
    "reviews per user"
   ]
  },
  {
   "cell_type": "code",
   "execution_count": null,
   "id": "8630497b-5ff5-499a-8917-0afa21e56c5d",
   "metadata": {},
   "outputs": [],
   "source": [
    "length of reviews"
   ]
  },
  {
   "cell_type": "code",
   "execution_count": null,
   "id": "5367dbce-2eab-42e7-88dc-a73649fddc0f",
   "metadata": {},
   "outputs": [],
   "source": [
    "reviews per listing"
   ]
  },
  {
   "cell_type": "code",
   "execution_count": null,
   "id": "c2b78e33-6612-4a50-90a4-262a105b9c56",
   "metadata": {},
   "outputs": [],
   "source": [
    "all the typical NLP EDA \n",
    "word counts\n",
    "most common words\n",
    "stop words?"
   ]
  },
  {
   "cell_type": "markdown",
   "id": "4481fd4f-d865-4b54-95a5-ef3cc3692a32",
   "metadata": {},
   "source": [
    "-------\n",
    "Joining the tables"
   ]
  },
  {
   "cell_type": "code",
   "execution_count": null,
   "id": "af283401-e5b4-438e-ae5b-fe90415632c7",
   "metadata": {},
   "outputs": [],
   "source": []
  },
  {
   "cell_type": "code",
   "execution_count": null,
   "id": "75bf2e40-3514-44a5-adf8-051db42f297c",
   "metadata": {},
   "outputs": [],
   "source": []
  },
  {
   "cell_type": "code",
   "execution_count": null,
   "id": "4838b795-de3c-450b-9f7d-43ebefd97664",
   "metadata": {},
   "outputs": [],
   "source": []
  },
  {
   "cell_type": "code",
   "execution_count": null,
   "id": "7fefea55-b0cc-4ab6-bb3b-93d623169ac7",
   "metadata": {},
   "outputs": [],
   "source": []
  },
  {
   "cell_type": "markdown",
   "id": "1168eaa6-cf04-4da0-92ea-405be6baab9e",
   "metadata": {},
   "source": [
    "-----\n",
    "maps w latitutde and longitude"
   ]
  },
  {
   "cell_type": "markdown",
   "id": "2bc6ed7e-0a9b-4737-abbf-230c2b98b6c7",
   "metadata": {},
   "source": [
    "look at different categories with heat map type look\n"
   ]
  },
  {
   "cell_type": "code",
   "execution_count": null,
   "id": "a47c98b9-214e-4c62-9653-ac7373047ea2",
   "metadata": {},
   "outputs": [],
   "source": []
  },
  {
   "cell_type": "code",
   "execution_count": null,
   "id": "d37136df-203c-47a9-ad05-5107752580a8",
   "metadata": {},
   "outputs": [],
   "source": []
  },
  {
   "cell_type": "code",
   "execution_count": null,
   "id": "5855c0fd-38da-4b63-baf9-a8f9d951ac3e",
   "metadata": {},
   "outputs": [],
   "source": []
  },
  {
   "cell_type": "code",
   "execution_count": null,
   "id": "cd37e509-8101-4d23-8900-944d38a8a836",
   "metadata": {},
   "outputs": [],
   "source": []
  },
  {
   "cell_type": "code",
   "execution_count": null,
   "id": "4e3575a3-20fc-4a1c-8299-41f3dba2bf25",
   "metadata": {},
   "outputs": [],
   "source": [
    "either or type categories can do cool EDA kike below"
   ]
  },
  {
   "cell_type": "code",
   "execution_count": 34,
   "id": "ded4398f-f714-416a-900f-ef8926eeb9ab",
   "metadata": {},
   "outputs": [
    {
     "data": {
      "text/plain": [
       "0    193\n",
       "1     95\n",
       "Name: exercise_induced_angina, dtype: int64"
      ]
     },
     "execution_count": 34,
     "metadata": {},
     "output_type": "execute_result"
    }
   ],
   "source": [
    "df['exercise_induced_angina'].value_counts()"
   ]
  },
  {
   "cell_type": "markdown",
   "id": "ed763efd-4ce5-40ca-bb60-bd24bd407624",
   "metadata": {},
   "source": [
    "You can also use `.groupby()` + `.describe()` for cohort analysis"
   ]
  },
  {
   "cell_type": "code",
   "execution_count": 36,
   "id": "54fb6e2f-ce24-4975-9f34-77e68fd84aed",
   "metadata": {},
   "outputs": [
    {
     "data": {
      "text/plain": [
       "0    0.541667\n",
       "1    0.458333\n",
       "Name: has_heart_disease, dtype: float64"
      ]
     },
     "execution_count": 36,
     "metadata": {},
     "output_type": "execute_result"
    }
   ],
   "source": [
    "df['has_heart_disease'].value_counts(normalize=True)"
   ]
  },
  {
   "cell_type": "code",
   "execution_count": 37,
   "id": "681de926-3b4e-474b-a45e-8fa4834c64bd",
   "metadata": {},
   "outputs": [
    {
     "data": {
      "text/html": [
       "<div>\n",
       "<style scoped>\n",
       "    .dataframe tbody tr th:only-of-type {\n",
       "        vertical-align: middle;\n",
       "    }\n",
       "\n",
       "    .dataframe tbody tr th {\n",
       "        vertical-align: top;\n",
       "    }\n",
       "\n",
       "    .dataframe thead tr th {\n",
       "        text-align: left;\n",
       "    }\n",
       "\n",
       "    .dataframe thead tr:last-of-type th {\n",
       "        text-align: right;\n",
       "    }\n",
       "</style>\n",
       "<table border=\"1\" class=\"dataframe\">\n",
       "  <thead>\n",
       "    <tr>\n",
       "      <th></th>\n",
       "      <th colspan=\"8\" halign=\"left\">age</th>\n",
       "      <th colspan=\"2\" halign=\"left\">sex_male</th>\n",
       "      <th>...</th>\n",
       "      <th colspan=\"2\" halign=\"left\">slope</th>\n",
       "      <th colspan=\"8\" halign=\"left\">ca</th>\n",
       "    </tr>\n",
       "    <tr>\n",
       "      <th></th>\n",
       "      <th>count</th>\n",
       "      <th>mean</th>\n",
       "      <th>std</th>\n",
       "      <th>min</th>\n",
       "      <th>25%</th>\n",
       "      <th>50%</th>\n",
       "      <th>75%</th>\n",
       "      <th>max</th>\n",
       "      <th>count</th>\n",
       "      <th>mean</th>\n",
       "      <th>...</th>\n",
       "      <th>75%</th>\n",
       "      <th>max</th>\n",
       "      <th>count</th>\n",
       "      <th>mean</th>\n",
       "      <th>std</th>\n",
       "      <th>min</th>\n",
       "      <th>25%</th>\n",
       "      <th>50%</th>\n",
       "      <th>75%</th>\n",
       "      <th>max</th>\n",
       "    </tr>\n",
       "    <tr>\n",
       "      <th>has_heart_disease</th>\n",
       "      <th></th>\n",
       "      <th></th>\n",
       "      <th></th>\n",
       "      <th></th>\n",
       "      <th></th>\n",
       "      <th></th>\n",
       "      <th></th>\n",
       "      <th></th>\n",
       "      <th></th>\n",
       "      <th></th>\n",
       "      <th></th>\n",
       "      <th></th>\n",
       "      <th></th>\n",
       "      <th></th>\n",
       "      <th></th>\n",
       "      <th></th>\n",
       "      <th></th>\n",
       "      <th></th>\n",
       "      <th></th>\n",
       "      <th></th>\n",
       "      <th></th>\n",
       "    </tr>\n",
       "  </thead>\n",
       "  <tbody>\n",
       "    <tr>\n",
       "      <th>0</th>\n",
       "      <td>156.0</td>\n",
       "      <td>52.506410</td>\n",
       "      <td>9.602081</td>\n",
       "      <td>29.0</td>\n",
       "      <td>44.0</td>\n",
       "      <td>52.0</td>\n",
       "      <td>59.0</td>\n",
       "      <td>76.0</td>\n",
       "      <td>156.0</td>\n",
       "      <td>0.557692</td>\n",
       "      <td>...</td>\n",
       "      <td>2.0</td>\n",
       "      <td>3.0</td>\n",
       "      <td>156.0</td>\n",
       "      <td>0.262821</td>\n",
       "      <td>0.602277</td>\n",
       "      <td>0.0</td>\n",
       "      <td>0.0</td>\n",
       "      <td>0.0</td>\n",
       "      <td>0.0</td>\n",
       "      <td>3.0</td>\n",
       "    </tr>\n",
       "    <tr>\n",
       "      <th>1</th>\n",
       "      <td>132.0</td>\n",
       "      <td>56.772727</td>\n",
       "      <td>7.994837</td>\n",
       "      <td>35.0</td>\n",
       "      <td>53.0</td>\n",
       "      <td>58.0</td>\n",
       "      <td>62.0</td>\n",
       "      <td>77.0</td>\n",
       "      <td>132.0</td>\n",
       "      <td>0.818182</td>\n",
       "      <td>...</td>\n",
       "      <td>2.0</td>\n",
       "      <td>3.0</td>\n",
       "      <td>132.0</td>\n",
       "      <td>1.121212</td>\n",
       "      <td>1.004040</td>\n",
       "      <td>0.0</td>\n",
       "      <td>0.0</td>\n",
       "      <td>1.0</td>\n",
       "      <td>2.0</td>\n",
       "      <td>3.0</td>\n",
       "    </tr>\n",
       "  </tbody>\n",
       "</table>\n",
       "<p>2 rows × 88 columns</p>\n",
       "</div>"
      ],
      "text/plain": [
       "                     age                                                     \\\n",
       "                   count       mean       std   min   25%   50%   75%   max   \n",
       "has_heart_disease                                                             \n",
       "0                  156.0  52.506410  9.602081  29.0  44.0  52.0  59.0  76.0   \n",
       "1                  132.0  56.772727  7.994837  35.0  53.0  58.0  62.0  77.0   \n",
       "\n",
       "                  sex_male            ... slope          ca            \\\n",
       "                     count      mean  ...   75%  max  count      mean   \n",
       "has_heart_disease                     ...                               \n",
       "0                    156.0  0.557692  ...   2.0  3.0  156.0  0.262821   \n",
       "1                    132.0  0.818182  ...   2.0  3.0  132.0  1.121212   \n",
       "\n",
       "                                                      \n",
       "                        std  min  25%  50%  75%  max  \n",
       "has_heart_disease                                     \n",
       "0                  0.602277  0.0  0.0  0.0  0.0  3.0  \n",
       "1                  1.004040  0.0  0.0  1.0  2.0  3.0  \n",
       "\n",
       "[2 rows x 88 columns]"
      ]
     },
     "execution_count": 37,
     "metadata": {},
     "output_type": "execute_result"
    }
   ],
   "source": [
    "df.groupby('has_heart_disease').describe()"
   ]
  },
  {
   "cell_type": "code",
   "execution_count": 39,
   "id": "7d35587c-5eb3-47c0-aba1-82aa437225fe",
   "metadata": {},
   "outputs": [
    {
     "data": {
      "text/html": [
       "<div>\n",
       "<style scoped>\n",
       "    .dataframe tbody tr th:only-of-type {\n",
       "        vertical-align: middle;\n",
       "    }\n",
       "\n",
       "    .dataframe tbody tr th {\n",
       "        vertical-align: top;\n",
       "    }\n",
       "\n",
       "    .dataframe thead th {\n",
       "        text-align: right;\n",
       "    }\n",
       "</style>\n",
       "<table border=\"1\" class=\"dataframe\">\n",
       "  <thead>\n",
       "    <tr style=\"text-align: right;\">\n",
       "      <th></th>\n",
       "      <th>has_heart_disease</th>\n",
       "      <th>0</th>\n",
       "      <th>1</th>\n",
       "    </tr>\n",
       "  </thead>\n",
       "  <tbody>\n",
       "    <tr>\n",
       "      <th rowspan=\"5\" valign=\"top\">age</th>\n",
       "      <th>count</th>\n",
       "      <td>156.000000</td>\n",
       "      <td>132.000000</td>\n",
       "    </tr>\n",
       "    <tr>\n",
       "      <th>mean</th>\n",
       "      <td>52.506410</td>\n",
       "      <td>56.772727</td>\n",
       "    </tr>\n",
       "    <tr>\n",
       "      <th>std</th>\n",
       "      <td>9.602081</td>\n",
       "      <td>7.994837</td>\n",
       "    </tr>\n",
       "    <tr>\n",
       "      <th>min</th>\n",
       "      <td>29.000000</td>\n",
       "      <td>35.000000</td>\n",
       "    </tr>\n",
       "    <tr>\n",
       "      <th>25%</th>\n",
       "      <td>44.000000</td>\n",
       "      <td>53.000000</td>\n",
       "    </tr>\n",
       "    <tr>\n",
       "      <th>...</th>\n",
       "      <th>...</th>\n",
       "      <td>...</td>\n",
       "      <td>...</td>\n",
       "    </tr>\n",
       "    <tr>\n",
       "      <th rowspan=\"5\" valign=\"top\">ca</th>\n",
       "      <th>min</th>\n",
       "      <td>0.000000</td>\n",
       "      <td>0.000000</td>\n",
       "    </tr>\n",
       "    <tr>\n",
       "      <th>25%</th>\n",
       "      <td>0.000000</td>\n",
       "      <td>0.000000</td>\n",
       "    </tr>\n",
       "    <tr>\n",
       "      <th>50%</th>\n",
       "      <td>0.000000</td>\n",
       "      <td>1.000000</td>\n",
       "    </tr>\n",
       "    <tr>\n",
       "      <th>75%</th>\n",
       "      <td>0.000000</td>\n",
       "      <td>2.000000</td>\n",
       "    </tr>\n",
       "    <tr>\n",
       "      <th>max</th>\n",
       "      <td>3.000000</td>\n",
       "      <td>3.000000</td>\n",
       "    </tr>\n",
       "  </tbody>\n",
       "</table>\n",
       "<p>88 rows × 2 columns</p>\n",
       "</div>"
      ],
      "text/plain": [
       "has_heart_disease           0           1\n",
       "age count          156.000000  132.000000\n",
       "    mean            52.506410   56.772727\n",
       "    std              9.602081    7.994837\n",
       "    min             29.000000   35.000000\n",
       "    25%             44.000000   53.000000\n",
       "...                       ...         ...\n",
       "ca  min              0.000000    0.000000\n",
       "    25%              0.000000    0.000000\n",
       "    50%              0.000000    1.000000\n",
       "    75%              0.000000    2.000000\n",
       "    max              3.000000    3.000000\n",
       "\n",
       "[88 rows x 2 columns]"
      ]
     },
     "execution_count": 39,
     "metadata": {},
     "output_type": "execute_result"
    }
   ],
   "source": [
    "# .T transposes\n",
    "df.groupby('has_heart_disease').describe().T"
   ]
  },
  {
   "cell_type": "code",
   "execution_count": 40,
   "id": "77872dc9-db62-4475-a56b-451fffb62044",
   "metadata": {},
   "outputs": [
    {
     "data": {
      "text/html": [
       "<div>\n",
       "<style scoped>\n",
       "    .dataframe tbody tr th:only-of-type {\n",
       "        vertical-align: middle;\n",
       "    }\n",
       "\n",
       "    .dataframe tbody tr th {\n",
       "        vertical-align: top;\n",
       "    }\n",
       "\n",
       "    .dataframe thead th {\n",
       "        text-align: right;\n",
       "    }\n",
       "</style>\n",
       "<table border=\"1\" class=\"dataframe\">\n",
       "  <thead>\n",
       "    <tr style=\"text-align: right;\">\n",
       "      <th></th>\n",
       "      <th>age</th>\n",
       "      <th>sex_male</th>\n",
       "      <th>resting_blood_pressure</th>\n",
       "      <th>cholesterol</th>\n",
       "      <th>fasting_blood_sugar</th>\n",
       "      <th>resting_ecg</th>\n",
       "      <th>max_heart_rate</th>\n",
       "      <th>exercise_induced_angina</th>\n",
       "      <th>old_peak</th>\n",
       "      <th>slope</th>\n",
       "      <th>ca</th>\n",
       "    </tr>\n",
       "    <tr>\n",
       "      <th>has_heart_disease</th>\n",
       "      <th></th>\n",
       "      <th></th>\n",
       "      <th></th>\n",
       "      <th></th>\n",
       "      <th></th>\n",
       "      <th></th>\n",
       "      <th></th>\n",
       "      <th></th>\n",
       "      <th></th>\n",
       "      <th></th>\n",
       "      <th></th>\n",
       "    </tr>\n",
       "  </thead>\n",
       "  <tbody>\n",
       "    <tr>\n",
       "      <th>0</th>\n",
       "      <td>52.506410</td>\n",
       "      <td>0.557692</td>\n",
       "      <td>129.294872</td>\n",
       "      <td>243.179487</td>\n",
       "      <td>0.141026</td>\n",
       "      <td>0.852564</td>\n",
       "      <td>158.673077</td>\n",
       "      <td>0.147436</td>\n",
       "      <td>0.595513</td>\n",
       "      <td>1.416667</td>\n",
       "      <td>0.262821</td>\n",
       "    </tr>\n",
       "    <tr>\n",
       "      <th>1</th>\n",
       "      <td>56.772727</td>\n",
       "      <td>0.818182</td>\n",
       "      <td>134.674242</td>\n",
       "      <td>251.871212</td>\n",
       "      <td>0.151515</td>\n",
       "      <td>1.174242</td>\n",
       "      <td>138.825758</td>\n",
       "      <td>0.545455</td>\n",
       "      <td>1.589394</td>\n",
       "      <td>1.833333</td>\n",
       "      <td>1.121212</td>\n",
       "    </tr>\n",
       "  </tbody>\n",
       "</table>\n",
       "</div>"
      ],
      "text/plain": [
       "                         age  sex_male  resting_blood_pressure  cholesterol  \\\n",
       "has_heart_disease                                                             \n",
       "0                  52.506410  0.557692              129.294872   243.179487   \n",
       "1                  56.772727  0.818182              134.674242   251.871212   \n",
       "\n",
       "                   fasting_blood_sugar  resting_ecg  max_heart_rate  \\\n",
       "has_heart_disease                                                     \n",
       "0                             0.141026     0.852564      158.673077   \n",
       "1                             0.151515     1.174242      138.825758   \n",
       "\n",
       "                   exercise_induced_angina  old_peak     slope        ca  \n",
       "has_heart_disease                                                         \n",
       "0                                 0.147436  0.595513  1.416667  0.262821  \n",
       "1                                 0.545455  1.589394  1.833333  1.121212  "
      ]
     },
     "execution_count": 40,
     "metadata": {},
     "output_type": "execute_result"
    }
   ],
   "source": [
    "df.groupby('has_heart_disease').mean()"
   ]
  },
  {
   "cell_type": "code",
   "execution_count": 41,
   "id": "cba00d12-f215-42e1-96f2-85b21719b371",
   "metadata": {},
   "outputs": [
    {
     "data": {
      "text/html": [
       "<div>\n",
       "<style scoped>\n",
       "    .dataframe tbody tr th:only-of-type {\n",
       "        vertical-align: middle;\n",
       "    }\n",
       "\n",
       "    .dataframe tbody tr th {\n",
       "        vertical-align: top;\n",
       "    }\n",
       "\n",
       "    .dataframe thead th {\n",
       "        text-align: right;\n",
       "    }\n",
       "</style>\n",
       "<table border=\"1\" class=\"dataframe\">\n",
       "  <thead>\n",
       "    <tr style=\"text-align: right;\">\n",
       "      <th>has_heart_disease</th>\n",
       "      <th>0</th>\n",
       "      <th>1</th>\n",
       "    </tr>\n",
       "  </thead>\n",
       "  <tbody>\n",
       "    <tr>\n",
       "      <th>age</th>\n",
       "      <td>52.506410</td>\n",
       "      <td>56.772727</td>\n",
       "    </tr>\n",
       "    <tr>\n",
       "      <th>sex_male</th>\n",
       "      <td>0.557692</td>\n",
       "      <td>0.818182</td>\n",
       "    </tr>\n",
       "    <tr>\n",
       "      <th>resting_blood_pressure</th>\n",
       "      <td>129.294872</td>\n",
       "      <td>134.674242</td>\n",
       "    </tr>\n",
       "    <tr>\n",
       "      <th>cholesterol</th>\n",
       "      <td>243.179487</td>\n",
       "      <td>251.871212</td>\n",
       "    </tr>\n",
       "    <tr>\n",
       "      <th>fasting_blood_sugar</th>\n",
       "      <td>0.141026</td>\n",
       "      <td>0.151515</td>\n",
       "    </tr>\n",
       "    <tr>\n",
       "      <th>resting_ecg</th>\n",
       "      <td>0.852564</td>\n",
       "      <td>1.174242</td>\n",
       "    </tr>\n",
       "    <tr>\n",
       "      <th>max_heart_rate</th>\n",
       "      <td>158.673077</td>\n",
       "      <td>138.825758</td>\n",
       "    </tr>\n",
       "    <tr>\n",
       "      <th>exercise_induced_angina</th>\n",
       "      <td>0.147436</td>\n",
       "      <td>0.545455</td>\n",
       "    </tr>\n",
       "    <tr>\n",
       "      <th>old_peak</th>\n",
       "      <td>0.595513</td>\n",
       "      <td>1.589394</td>\n",
       "    </tr>\n",
       "    <tr>\n",
       "      <th>slope</th>\n",
       "      <td>1.416667</td>\n",
       "      <td>1.833333</td>\n",
       "    </tr>\n",
       "    <tr>\n",
       "      <th>ca</th>\n",
       "      <td>0.262821</td>\n",
       "      <td>1.121212</td>\n",
       "    </tr>\n",
       "  </tbody>\n",
       "</table>\n",
       "</div>"
      ],
      "text/plain": [
       "has_heart_disease                 0           1\n",
       "age                       52.506410   56.772727\n",
       "sex_male                   0.557692    0.818182\n",
       "resting_blood_pressure   129.294872  134.674242\n",
       "cholesterol              243.179487  251.871212\n",
       "fasting_blood_sugar        0.141026    0.151515\n",
       "resting_ecg                0.852564    1.174242\n",
       "max_heart_rate           158.673077  138.825758\n",
       "exercise_induced_angina    0.147436    0.545455\n",
       "old_peak                   0.595513    1.589394\n",
       "slope                      1.416667    1.833333\n",
       "ca                         0.262821    1.121212"
      ]
     },
     "execution_count": 41,
     "metadata": {},
     "output_type": "execute_result"
    }
   ],
   "source": [
    "df.groupby('has_heart_disease').mean().T"
   ]
  },
  {
   "cell_type": "code",
   "execution_count": 45,
   "id": "66fb5ce4-9366-439d-b51a-ed385607ce3e",
   "metadata": {},
   "outputs": [
    {
     "data": {
      "text/html": [
       "<div>\n",
       "<style scoped>\n",
       "    .dataframe tbody tr th:only-of-type {\n",
       "        vertical-align: middle;\n",
       "    }\n",
       "\n",
       "    .dataframe tbody tr th {\n",
       "        vertical-align: top;\n",
       "    }\n",
       "\n",
       "    .dataframe thead tr th {\n",
       "        text-align: left;\n",
       "    }\n",
       "</style>\n",
       "<table border=\"1\" class=\"dataframe\">\n",
       "  <thead>\n",
       "    <tr>\n",
       "      <th>has_heart_disease</th>\n",
       "      <th colspan=\"3\" halign=\"left\">0</th>\n",
       "      <th colspan=\"3\" halign=\"left\">1</th>\n",
       "    </tr>\n",
       "    <tr>\n",
       "      <th>thallium_stress_test</th>\n",
       "      <th>fixed</th>\n",
       "      <th>normal</th>\n",
       "      <th>reversable</th>\n",
       "      <th>fixed</th>\n",
       "      <th>normal</th>\n",
       "      <th>reversable</th>\n",
       "    </tr>\n",
       "  </thead>\n",
       "  <tbody>\n",
       "    <tr>\n",
       "      <th>age</th>\n",
       "      <td>56.000000</td>\n",
       "      <td>51.806452</td>\n",
       "      <td>55.038462</td>\n",
       "      <td>57.000000</td>\n",
       "      <td>59.028571</td>\n",
       "      <td>55.811765</td>\n",
       "    </tr>\n",
       "    <tr>\n",
       "      <th>sex_male</th>\n",
       "      <td>1.000000</td>\n",
       "      <td>0.459677</td>\n",
       "      <td>0.923077</td>\n",
       "      <td>0.916667</td>\n",
       "      <td>0.685714</td>\n",
       "      <td>0.858824</td>\n",
       "    </tr>\n",
       "    <tr>\n",
       "      <th>resting_blood_pressure</th>\n",
       "      <td>134.666667</td>\n",
       "      <td>128.903226</td>\n",
       "      <td>129.923077</td>\n",
       "      <td>138.083333</td>\n",
       "      <td>132.114286</td>\n",
       "      <td>135.247059</td>\n",
       "    </tr>\n",
       "    <tr>\n",
       "      <th>cholesterol</th>\n",
       "      <td>207.166667</td>\n",
       "      <td>244.266129</td>\n",
       "      <td>246.307692</td>\n",
       "      <td>236.916667</td>\n",
       "      <td>258.885714</td>\n",
       "      <td>251.094118</td>\n",
       "    </tr>\n",
       "    <tr>\n",
       "      <th>fasting_blood_sugar</th>\n",
       "      <td>0.166667</td>\n",
       "      <td>0.120968</td>\n",
       "      <td>0.230769</td>\n",
       "      <td>0.333333</td>\n",
       "      <td>0.114286</td>\n",
       "      <td>0.141176</td>\n",
       "    </tr>\n",
       "    <tr>\n",
       "      <th>resting_ecg</th>\n",
       "      <td>1.000000</td>\n",
       "      <td>0.879032</td>\n",
       "      <td>0.692308</td>\n",
       "      <td>1.250000</td>\n",
       "      <td>1.400000</td>\n",
       "      <td>1.070588</td>\n",
       "    </tr>\n",
       "    <tr>\n",
       "      <th>max_heart_rate</th>\n",
       "      <td>147.333333</td>\n",
       "      <td>159.814516</td>\n",
       "      <td>155.846154</td>\n",
       "      <td>129.000000</td>\n",
       "      <td>139.742857</td>\n",
       "      <td>139.835294</td>\n",
       "    </tr>\n",
       "    <tr>\n",
       "      <th>exercise_induced_angina</th>\n",
       "      <td>0.166667</td>\n",
       "      <td>0.129032</td>\n",
       "      <td>0.230769</td>\n",
       "      <td>0.583333</td>\n",
       "      <td>0.428571</td>\n",
       "      <td>0.588235</td>\n",
       "    </tr>\n",
       "    <tr>\n",
       "      <th>old_peak</th>\n",
       "      <td>1.083333</td>\n",
       "      <td>0.556452</td>\n",
       "      <td>0.669231</td>\n",
       "      <td>1.741667</td>\n",
       "      <td>1.211429</td>\n",
       "      <td>1.723529</td>\n",
       "    </tr>\n",
       "    <tr>\n",
       "      <th>slope</th>\n",
       "      <td>2.000000</td>\n",
       "      <td>1.379032</td>\n",
       "      <td>1.461538</td>\n",
       "      <td>2.083333</td>\n",
       "      <td>1.714286</td>\n",
       "      <td>1.847059</td>\n",
       "    </tr>\n",
       "    <tr>\n",
       "      <th>ca</th>\n",
       "      <td>0.000000</td>\n",
       "      <td>0.274194</td>\n",
       "      <td>0.269231</td>\n",
       "      <td>1.500000</td>\n",
       "      <td>1.085714</td>\n",
       "      <td>1.082353</td>\n",
       "    </tr>\n",
       "  </tbody>\n",
       "</table>\n",
       "</div>"
      ],
      "text/plain": [
       "has_heart_disease                 0                                   1  \\\n",
       "thallium_stress_test          fixed      normal  reversable       fixed   \n",
       "age                       56.000000   51.806452   55.038462   57.000000   \n",
       "sex_male                   1.000000    0.459677    0.923077    0.916667   \n",
       "resting_blood_pressure   134.666667  128.903226  129.923077  138.083333   \n",
       "cholesterol              207.166667  244.266129  246.307692  236.916667   \n",
       "fasting_blood_sugar        0.166667    0.120968    0.230769    0.333333   \n",
       "resting_ecg                1.000000    0.879032    0.692308    1.250000   \n",
       "max_heart_rate           147.333333  159.814516  155.846154  129.000000   \n",
       "exercise_induced_angina    0.166667    0.129032    0.230769    0.583333   \n",
       "old_peak                   1.083333    0.556452    0.669231    1.741667   \n",
       "slope                      2.000000    1.379032    1.461538    2.083333   \n",
       "ca                         0.000000    0.274194    0.269231    1.500000   \n",
       "\n",
       "has_heart_disease                                \n",
       "thallium_stress_test         normal  reversable  \n",
       "age                       59.028571   55.811765  \n",
       "sex_male                   0.685714    0.858824  \n",
       "resting_blood_pressure   132.114286  135.247059  \n",
       "cholesterol              258.885714  251.094118  \n",
       "fasting_blood_sugar        0.114286    0.141176  \n",
       "resting_ecg                1.400000    1.070588  \n",
       "max_heart_rate           139.742857  139.835294  \n",
       "exercise_induced_angina    0.428571    0.588235  \n",
       "old_peak                   1.211429    1.723529  \n",
       "slope                      1.714286    1.847059  \n",
       "ca                         1.085714    1.082353  "
      ]
     },
     "execution_count": 45,
     "metadata": {},
     "output_type": "execute_result"
    }
   ],
   "source": [
    "df.groupby(['has_heart_disease', 'thallium_stress_test']).mean().T"
   ]
  }
 ],
 "metadata": {
  "kernelspec": {
   "display_name": "Python [conda env:dsi] *",
   "language": "python",
   "name": "conda-env-dsi-py"
  },
  "language_info": {
   "codemirror_mode": {
    "name": "ipython",
    "version": 3
   },
   "file_extension": ".py",
   "mimetype": "text/x-python",
   "name": "python",
   "nbconvert_exporter": "python",
   "pygments_lexer": "ipython3",
   "version": "3.9.12"
  }
 },
 "nbformat": 4,
 "nbformat_minor": 5
}
